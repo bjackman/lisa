{
 "cells": [
  {
   "cell_type": "markdown",
   "metadata": {
    "collapsed": true
   },
   "source": [
    "# Idle States Residency Analysis"
   ]
  },
  {
   "cell_type": "markdown",
   "metadata": {},
   "source": [
    "This notebook shows the features provided by the idle state analysis module. It will be necessary to collect the following events:\n",
    "\n",
    " - `cpu_idle`, to filter out intervals of time in which the CPU is idle\n",
    " - `sched_switch`, to recognise tasks on kernelshark"
   ]
  },
  {
   "cell_type": "code",
   "execution_count": 1,
   "metadata": {
    "collapsed": false,
    "run_control": {
     "marked": false
    }
   },
   "outputs": [],
   "source": [
    "import logging\n",
    "from conf import LisaLogging\n",
    "LisaLogging.setup()"
   ]
  },
  {
   "cell_type": "code",
   "execution_count": 2,
   "metadata": {
    "collapsed": false,
    "run_control": {
     "marked": false
    }
   },
   "outputs": [],
   "source": [
    "%matplotlib inline\n",
    "\n",
    "import os\n",
    "\n",
    "# Support to access the remote target\n",
    "from env import TestEnv\n",
    "\n",
    "# Support to configure and run RTApp based workloads\n",
    "from wlgen import RTA, Ramp\n",
    "\n",
    "# Support for trace events analysis\n",
    "from trace import Trace"
   ]
  },
  {
   "cell_type": "markdown",
   "metadata": {},
   "source": [
    "# Target Configuration"
   ]
  },
  {
   "cell_type": "markdown",
   "metadata": {},
   "source": [
    "Our target is a Juno R2 development board running Linux."
   ]
  },
  {
   "cell_type": "code",
   "execution_count": 3,
   "metadata": {
    "collapsed": false,
    "run_control": {
     "marked": false
    }
   },
   "outputs": [],
   "source": [
    "# Setup a target configuration\n",
    "my_conf = {\n",
    "    \n",
    "    # Target platform and board\n",
    "    \"platform\"    : 'linux',\n",
    "    \"board\"       : 'juno',\n",
    "    \n",
    "    # Target board IP/MAC address\n",
    "    \"host\"        : '192.168.0.1',\n",
    "    \n",
    "    # Login credentials\n",
    "    \"username\"    : 'root',\n",
    "    \"password\"    : '',\n",
    "    \n",
    "    \"results_dir\" : \"IdleAnalysis\",\n",
    "    \n",
    "    # RTApp calibration values (comment to let LISA do a calibration run)\n",
    "    \"rtapp-calib\" :  {\n",
    "        \"0\": 318, \"1\": 125, \"2\": 124, \"3\": 318, \"4\": 318, \"5\": 319\n",
    "    },\n",
    "    \n",
    "    # Tools required by the experiments\n",
    "    \"tools\"   : ['rt-app', 'trace-cmd'],\n",
    "    \"modules\" : ['bl', 'cpufreq'],\n",
    "    \"exclude_modules\" : ['hwmon'],\n",
    "    \n",
    "    # FTrace events to collect for all the tests configuration which have\n",
    "    # the \"ftrace\" flag enabled\n",
    "    \"ftrace\"  : {\n",
    "         \"events\" : [\n",
    "            \"cpu_idle\",\n",
    "            \"sched_switch\"\n",
    "         ],\n",
    "         \"buffsize\" : 10 * 1024,\n",
    "    },\n",
    "}"
   ]
  },
  {
   "cell_type": "markdown",
   "metadata": {},
   "source": [
    "# Tests execution"
   ]
  },
  {
   "cell_type": "code",
   "execution_count": 4,
   "metadata": {
    "collapsed": false,
    "run_control": {
     "marked": false
    },
    "scrolled": true
   },
   "outputs": [
    {
     "name": "stderr",
     "output_type": "stream",
     "text": [
      "2016-09-02 09:25:41,477 INFO    :         Target - Using base path: /data/lisa\n",
      "2016-09-02 09:25:41,478 INFO    :         Target - Loading custom (inline) target configuration\n",
      "2016-09-02 09:25:41,479 INFO    :         Target - Devlib modules to load: ['bl', 'cpufreq']\n",
      "2016-09-02 09:25:41,480 INFO    :         Target - Connecting linux target:\n",
      "2016-09-02 09:25:41,481 INFO    :         Target -   username : root\n",
      "2016-09-02 09:25:41,482 INFO    :         Target -       host : 192.168.0.1\n",
      "2016-09-02 09:25:41,482 INFO    :         Target -   password : \n",
      "2016-09-02 09:25:41,483 INFO    :         Target - Connection settings:\n",
      "2016-09-02 09:25:41,484 INFO    :         Target -    {'username': 'root', 'host': '192.168.0.1', 'password': ''}\n",
      "2016-09-02 09:25:45,648 INFO    :         Target - Initializing target workdir:\n",
      "2016-09-02 09:25:45,650 INFO    :         Target -    /root/devlib-target\n",
      "2016-09-02 09:25:51,095 INFO    :         Target - Topology:\n",
      "2016-09-02 09:25:51,097 INFO    :         Target -    [[0, 3, 4, 5], [1, 2]]\n",
      "2016-09-02 09:25:52,729 INFO    :       Platform - Loading default EM:\n",
      "2016-09-02 09:25:52,730 INFO    :       Platform -    /data/lisa/libs/utils/platforms/juno.json\n",
      "2016-09-02 09:25:58,291 INFO    :         FTrace - Enabled tracepoints:\n",
      "2016-09-02 09:25:58,293 INFO    :         FTrace -   cpu_idle\n",
      "2016-09-02 09:25:58,294 INFO    :         FTrace -   sched_switch\n",
      "2016-09-02 09:25:58,295 WARNING :         Target - Using configuration provided RTApp calibration\n",
      "2016-09-02 09:25:58,296 INFO    :         Target - Using RT-App calibration values:\n",
      "2016-09-02 09:25:58,298 INFO    :         Target -    {\"0\": 318, \"1\": 125, \"2\": 124, \"3\": 318, \"4\": 318, \"5\": 319}\n",
      "2016-09-02 09:25:58,299 INFO    :    EnergyMeter - HWMON module not enabled\n",
      "2016-09-02 09:25:58,300 WARNING :    EnergyMeter - Energy sampling disabled by configuration\n",
      "2016-09-02 09:25:58,301 INFO    :        TestEnv - Set results folder to:\n",
      "2016-09-02 09:25:58,302 INFO    :        TestEnv -    /data/lisa/results/IdleAnalysis\n",
      "2016-09-02 09:25:58,303 INFO    :        TestEnv - Experiment results available also in:\n",
      "2016-09-02 09:25:58,304 INFO    :        TestEnv -    /data/lisa/results_latest\n"
     ]
    }
   ],
   "source": [
    "# Initialize a test environment\n",
    "te = TestEnv(my_conf, wipe=False, force_new=True)\n",
    "target = te.target"
   ]
  },
  {
   "cell_type": "markdown",
   "metadata": {},
   "source": [
    "# Workload configuration and execution"
   ]
  },
  {
   "cell_type": "code",
   "execution_count": 5,
   "metadata": {
    "collapsed": false,
    "scrolled": true
   },
   "outputs": [],
   "source": [
    "def experiment(te):\n",
    "\n",
    "    # Create RTApp RAMP task\n",
    "    rtapp = RTA(te.target, 'ramp', calibration=te.calibration())\n",
    "    rtapp.conf(kind='profile',\n",
    "               params={\n",
    "                    'ramp' : Ramp(\n",
    "                        start_pct =  60,\n",
    "                        end_pct   =  20,\n",
    "                        delta_pct =   5,\n",
    "                        time_s    =   0.5).get()\n",
    "              })\n",
    "\n",
    "    # FTrace the execution of this workload\n",
    "    te.ftrace.start()\n",
    "    rtapp.run(out_dir=te.res_dir)\n",
    "    te.ftrace.stop()\n",
    "\n",
    "    # Collect and keep track of the trace\n",
    "    trace_file = os.path.join(te.res_dir, 'trace.dat')\n",
    "    te.ftrace.get_trace(trace_file)\n",
    "\n",
    "    # Dump platform descriptor\n",
    "    te.platform_dump(te.res_dir)"
   ]
  },
  {
   "cell_type": "code",
   "execution_count": 6,
   "metadata": {
    "collapsed": false,
    "run_control": {
     "marked": false
    },
    "scrolled": true
   },
   "outputs": [
    {
     "name": "stderr",
     "output_type": "stream",
     "text": [
      "2016-09-02 09:25:58,330 INFO    :          WlGen - Setup new workload ramp\n",
      "2016-09-02 09:25:58,331 INFO    :          RTApp - Workload duration defined by longest task\n",
      "2016-09-02 09:25:58,332 INFO    :          RTApp - Default policy: SCHED_OTHER\n",
      "2016-09-02 09:25:58,333 INFO    :          RTApp - ------------------------\n",
      "2016-09-02 09:25:58,334 INFO    :          RTApp - task [ramp], sched: using default policy\n",
      "2016-09-02 09:25:58,335 INFO    :          RTApp -  | calibration CPU: 1\n",
      "2016-09-02 09:25:58,336 INFO    :          RTApp -  | loops count: 1\n",
      "2016-09-02 09:25:58,336 INFO    :          RTApp - + phase_000001: duration 0.500000 [s] (5 loops)\n",
      "2016-09-02 09:25:58,337 INFO    :          RTApp - |  period   100000 [us], duty_cycle  60 %\n",
      "2016-09-02 09:25:58,338 INFO    :          RTApp - |  run_time  60000 [us], sleep_time  40000 [us]\n",
      "2016-09-02 09:25:58,339 INFO    :          RTApp - + phase_000002: duration 0.500000 [s] (5 loops)\n",
      "2016-09-02 09:25:58,339 INFO    :          RTApp - |  period   100000 [us], duty_cycle  55 %\n",
      "2016-09-02 09:25:58,340 INFO    :          RTApp - |  run_time  55000 [us], sleep_time  45000 [us]\n",
      "2016-09-02 09:25:58,341 INFO    :          RTApp - + phase_000003: duration 0.500000 [s] (5 loops)\n",
      "2016-09-02 09:25:58,342 INFO    :          RTApp - |  period   100000 [us], duty_cycle  50 %\n",
      "2016-09-02 09:25:58,343 INFO    :          RTApp - |  run_time  50000 [us], sleep_time  50000 [us]\n",
      "2016-09-02 09:25:58,344 INFO    :          RTApp - + phase_000004: duration 0.500000 [s] (5 loops)\n",
      "2016-09-02 09:25:58,345 INFO    :          RTApp - |  period   100000 [us], duty_cycle  45 %\n",
      "2016-09-02 09:25:58,346 INFO    :          RTApp - |  run_time  45000 [us], sleep_time  55000 [us]\n",
      "2016-09-02 09:25:58,347 INFO    :          RTApp - + phase_000005: duration 0.500000 [s] (5 loops)\n",
      "2016-09-02 09:25:58,347 INFO    :          RTApp - |  period   100000 [us], duty_cycle  40 %\n",
      "2016-09-02 09:25:58,348 INFO    :          RTApp - |  run_time  40000 [us], sleep_time  60000 [us]\n",
      "2016-09-02 09:25:58,349 INFO    :          RTApp - + phase_000006: duration 0.500000 [s] (5 loops)\n",
      "2016-09-02 09:25:58,350 INFO    :          RTApp - |  period   100000 [us], duty_cycle  35 %\n",
      "2016-09-02 09:25:58,351 INFO    :          RTApp - |  run_time  35000 [us], sleep_time  65000 [us]\n",
      "2016-09-02 09:25:58,352 INFO    :          RTApp - + phase_000007: duration 0.500000 [s] (5 loops)\n",
      "2016-09-02 09:25:58,352 INFO    :          RTApp - |  period   100000 [us], duty_cycle  30 %\n",
      "2016-09-02 09:25:58,353 INFO    :          RTApp - |  run_time  30000 [us], sleep_time  70000 [us]\n",
      "2016-09-02 09:25:58,353 INFO    :          RTApp - + phase_000008: duration 0.500000 [s] (5 loops)\n",
      "2016-09-02 09:25:58,354 INFO    :          RTApp - |  period   100000 [us], duty_cycle  25 %\n",
      "2016-09-02 09:25:58,355 INFO    :          RTApp - |  run_time  25000 [us], sleep_time  75000 [us]\n",
      "2016-09-02 09:25:58,356 INFO    :          RTApp - + phase_000009: duration 0.500000 [s] (5 loops)\n",
      "2016-09-02 09:25:58,356 INFO    :          RTApp - |  period   100000 [us], duty_cycle  20 %\n",
      "2016-09-02 09:25:58,357 INFO    :          RTApp - |  run_time  20000 [us], sleep_time  80000 [us]\n",
      "2016-09-02 09:26:03,072 INFO    :          WlGen - Workload execution START:\n",
      "2016-09-02 09:26:03,074 INFO    :          WlGen -    /root/devlib-target/bin/rt-app /root/devlib-target/ramp_00.json 2>&1\n"
     ]
    }
   ],
   "source": [
    "experiment(te)"
   ]
  },
  {
   "cell_type": "markdown",
   "metadata": {},
   "source": [
    "# Parse trace and analyse data"
   ]
  },
  {
   "cell_type": "code",
   "execution_count": 7,
   "metadata": {
    "collapsed": false
   },
   "outputs": [
    {
     "name": "stderr",
     "output_type": "stream",
     "text": [
      "2016-09-02 09:26:11,282 INFO    : Content of the output folder /data/lisa/results/IdleAnalysis\n"
     ]
    },
    {
     "name": "stdout",
     "output_type": "stream",
     "text": [
      "\u001b[01;34m/data/lisa/results/IdleAnalysis\u001b[00m\r\n",
      "├── \u001b[01;35mcluster_idle_state_residency.png\u001b[00m\r\n",
      "├── \u001b[01;35mcpu_idle_state_residency.png\u001b[00m\r\n",
      "├── output.log\r\n",
      "├── platform.json\r\n",
      "├── ramp_00.json\r\n",
      "├── rt-app-ramp-0.log\r\n",
      "├── trace.dat\r\n",
      "├── trace.raw.txt\r\n",
      "└── trace.txt\r\n",
      "\r\n",
      "0 directories, 9 files\r\n"
     ]
    }
   ],
   "source": [
    "# Base folder where tests folder are located\n",
    "res_dir = te.res_dir\n",
    "logging.info('Content of the output folder %s', res_dir)\n",
    "!tree {res_dir}"
   ]
  },
  {
   "cell_type": "code",
   "execution_count": 8,
   "metadata": {
    "collapsed": false,
    "run_control": {
     "marked": false
    }
   },
   "outputs": [
    {
     "name": "stderr",
     "output_type": "stream",
     "text": [
      "2016-09-02 09:26:11,404 INFO    : Parsing FTrace format...\n",
      "2016-09-02 09:26:11,766 INFO    : Collected events spans a 6.927 [s] time interval\n",
      "2016-09-02 09:26:11,767 INFO    : Set plots time range to (0.000000, 6.927481)[s]\n",
      "2016-09-02 09:26:11,768 INFO    : Registering trace analysis modules:\n",
      "2016-09-02 09:26:11,772 INFO    :    frequency\n",
      "2016-09-02 09:26:11,773 INFO    :    functions\n",
      "2016-09-02 09:26:11,774 INFO    :    tasks\n",
      "2016-09-02 09:26:11,776 INFO    :    latency\n",
      "2016-09-02 09:26:11,777 INFO    :    eas\n",
      "2016-09-02 09:26:11,780 INFO    :    idle\n",
      "2016-09-02 09:26:11,780 INFO    :    status\n",
      "2016-09-02 09:26:11,781 INFO    :    cpus\n"
     ]
    }
   ],
   "source": [
    "trace = Trace(te.platform, res_dir, events=my_conf['ftrace']['events'])"
   ]
  },
  {
   "cell_type": "markdown",
   "metadata": {},
   "source": [
    "## Per-CPU Idle State Residency"
   ]
  },
  {
   "cell_type": "markdown",
   "metadata": {},
   "source": [
    "It is possible to get the residency in each idle state of a CPU or a cluster with the following commands:"
   ]
  },
  {
   "cell_type": "code",
   "execution_count": 10,
   "metadata": {
    "collapsed": false,
    "run_control": {
     "marked": false
    }
   },
   "outputs": [
    {
     "data": {
      "text/html": [
       "<div>\n",
       "<table border=\"1\" class=\"dataframe\">\n",
       "  <thead>\n",
       "    <tr style=\"text-align: right;\">\n",
       "      <th></th>\n",
       "      <th>time</th>\n",
       "    </tr>\n",
       "    <tr>\n",
       "      <th>idle_state</th>\n",
       "      <th></th>\n",
       "    </tr>\n",
       "  </thead>\n",
       "  <tbody>\n",
       "    <tr>\n",
       "      <th>0</th>\n",
       "      <td>0.000000</td>\n",
       "    </tr>\n",
       "    <tr>\n",
       "      <th>1</th>\n",
       "      <td>0.014078</td>\n",
       "    </tr>\n",
       "    <tr>\n",
       "      <th>2</th>\n",
       "      <td>5.671125</td>\n",
       "    </tr>\n",
       "  </tbody>\n",
       "</table>\n",
       "</div>"
      ],
      "text/plain": [
       "                time\n",
       "idle_state          \n",
       "0           0.000000\n",
       "1           0.014078\n",
       "2           5.671125"
      ]
     },
     "execution_count": 10,
     "metadata": {},
     "output_type": "execute_result"
    }
   ],
   "source": [
    "# Idle state residency for CPU 3\n",
    "trace.data_frame.cpu_idle_state_residency(3)"
   ]
  },
  {
   "cell_type": "markdown",
   "metadata": {},
   "source": [
    "The `IdleAnalysis` module provide methods for plotting residency data."
   ]
  },
  {
   "cell_type": "code",
   "execution_count": 11,
   "metadata": {
    "collapsed": true
   },
   "outputs": [],
   "source": [
    "ia = trace.analysis.idle"
   ]
  },
  {
   "cell_type": "code",
   "execution_count": 12,
   "metadata": {
    "collapsed": false
   },
   "outputs": [
    {
     "data": {
      "image/png": "[encoded data removed]",
      "text/plain": [
       "<matplotlib.figure.Figure at 0x7f68ab79c2d0>"
      ]
     },
     "metadata": {},
     "output_type": "display_data"
    }
   ],
   "source": [
    "# Actual time spent in each idle state\n",
    "ia.plotCPUIdleStateResidency([1,2])"
   ]
  },
  {
   "cell_type": "code",
   "execution_count": 13,
   "metadata": {
    "collapsed": false,
    "run_control": {
     "marked": false
    }
   },
   "outputs": [
    {
     "data": {
      "image/png": "[encoded data removed]",
      "text/plain": [
       "<matplotlib.figure.Figure at 0x7f68aacace10>"
      ]
     },
     "metadata": {},
     "output_type": "display_data"
    }
   ],
   "source": [
    "# Percentage of time spent in each idle state\n",
    "ia.plotCPUIdleStateResidency([1,2], pct=True)"
   ]
  },
  {
   "cell_type": "markdown",
   "metadata": {},
   "source": [
    "## Per-cluster Idle State Residency"
   ]
  },
  {
   "cell_type": "code",
   "execution_count": 14,
   "metadata": {
    "collapsed": false
   },
   "outputs": [
    {
     "data": {
      "text/html": [
       "<div>\n",
       "<table border=\"1\" class=\"dataframe\">\n",
       "  <thead>\n",
       "    <tr style=\"text-align: right;\">\n",
       "      <th></th>\n",
       "      <th>time</th>\n",
       "    </tr>\n",
       "    <tr>\n",
       "      <th>idle_state</th>\n",
       "      <th></th>\n",
       "    </tr>\n",
       "  </thead>\n",
       "  <tbody>\n",
       "    <tr>\n",
       "      <th>0</th>\n",
       "      <td>0.101647</td>\n",
       "    </tr>\n",
       "    <tr>\n",
       "      <th>1</th>\n",
       "      <td>0.548901</td>\n",
       "    </tr>\n",
       "    <tr>\n",
       "      <th>2</th>\n",
       "      <td>4.262977</td>\n",
       "    </tr>\n",
       "  </tbody>\n",
       "</table>\n",
       "</div>"
      ],
      "text/plain": [
       "                time\n",
       "idle_state          \n",
       "0           0.101647\n",
       "1           0.548901\n",
       "2           4.262977"
      ]
     },
     "execution_count": 14,
     "metadata": {},
     "output_type": "execute_result"
    }
   ],
   "source": [
    "# Idle state residency for the big cluster\n",
    "trace.data_frame.cluster_idle_state_residency('big')"
   ]
  },
  {
   "cell_type": "code",
   "execution_count": 15,
   "metadata": {
    "collapsed": false
   },
   "outputs": [
    {
     "data": {
      "image/png": "[encoded data removed]",
      "text/plain": [
       "<matplotlib.figure.Figure at 0x7f68aab79050>"
      ]
     },
     "metadata": {},
     "output_type": "display_data"
    }
   ],
   "source": [
    "ia.plotClusterIdleStateResidency(['big', 'LITTLE'])"
   ]
  },
  {
   "cell_type": "code",
   "execution_count": 16,
   "metadata": {
    "collapsed": false
   },
   "outputs": [
    {
     "data": {
      "image/png": "[encoded data removed]",
      "text/plain": [
       "<matplotlib.figure.Figure at 0x7f68aa9aee10>"
      ]
     },
     "metadata": {},
     "output_type": "display_data"
    }
   ],
   "source": [
    "ia.plotClusterIdleStateResidency(['big', 'LITTLE'], pct=True)"
   ]
  }
 ],
 "metadata": {
  "kernelspec": {
   "display_name": "Python 2",
   "language": "python",
   "name": "python2"
  },
  "language_info": {
   "codemirror_mode": {
    "name": "ipython",
    "version": 2
   },
   "file_extension": ".py",
   "mimetype": "text/x-python",
   "name": "python",
   "nbconvert_exporter": "python",
   "pygments_lexer": "ipython2",
   "version": "2.7.6"
  },
  "toc": {
   "toc_cell": false,
   "toc_number_sections": true,
   "toc_threshold": 6,
   "toc_window_display": true
  }
 },
 "nbformat": 4,
 "nbformat_minor": 0
}
