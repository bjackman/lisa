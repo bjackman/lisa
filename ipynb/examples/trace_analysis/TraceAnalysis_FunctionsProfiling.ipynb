{
 "cells": [
  {
   "cell_type": "markdown",
   "metadata": {},
   "source": [
    "<font size=\"8\">Trace Analysis Examples</font>\n",
    "<br>\n",
    "<font size=\"5\">Kernel Functions Profiling</font>\n",
    "<br>\n",
    "<hr>"
   ]
  },
  {
   "cell_type": "markdown",
   "metadata": {},
   "source": [
    "# Import Required Modules"
   ]
  },
  {
   "cell_type": "code",
   "execution_count": 1,
   "metadata": {
    "collapsed": true
   },
   "outputs": [],
   "source": [
    "import logging\n",
    "from conf import LisaLogging\n",
    "LisaLogging.setup()"
   ]
  },
  {
   "cell_type": "code",
   "execution_count": 2,
   "metadata": {
    "collapsed": false
   },
   "outputs": [
    {
     "name": "stdout",
     "output_type": "stream",
     "text": [
      "Populating the interactive namespace from numpy and matplotlib\n"
     ]
    }
   ],
   "source": [
    "# Generate plots inline\n",
    "%matplotlib inline\n",
    "\n",
    "import json\n",
    "import os\n",
    "\n",
    "# Support to access the remote target\n",
    "import devlib\n",
    "from env import TestEnv\n",
    "\n",
    "# RTApp configurator for generation of PERIODIC tasks\n",
    "from wlgen import RTA, Ramp\n",
    "\n",
    "# Support for trace events analysis\n",
    "from trace import Trace"
   ]
  },
  {
   "cell_type": "markdown",
   "metadata": {},
   "source": [
    "# Target Configuration"
   ]
  },
  {
   "cell_type": "code",
   "execution_count": 3,
   "metadata": {
    "collapsed": false
   },
   "outputs": [],
   "source": [
    "# Setup target configuration\n",
    "my_conf = {\n",
    "\n",
    "    # Target platform and board\n",
    "    \"platform\"    : 'linux',\n",
    "    \"board\"       : 'juno',\n",
    "    \"host\"        : '192.168.0.1',\n",
    "\n",
    "    # Folder where all the results will be collected\n",
    "    \"results_dir\" : \"TraceAnalysis_FunctionsProfiling\",\n",
    "\n",
    "    # Define devlib modules to load\n",
    "    \"exclude_modules\" : [ 'hwmon' ],\n",
    "\n",
    "    # FTrace events to collect for all the tests configuration which have\n",
    "    # the \"ftrace\" flag enabled\n",
    "    \"ftrace\"  : {\n",
    "        \"functions\" : [\n",
    "            \"pick_next_task_fair\",\n",
    "            \"select_task_rq_fair\",\n",
    "            \"enqueue_task_fair\",\n",
    "            \"update_curr_fair\",\n",
    "            \"dequeue_task_fair\",\n",
    "        ],\n",
    "        \n",
    "         \"buffsize\" : 100 * 1024,\n",
    "    },\n",
    "\n",
    "    # Tools required by the experiments\n",
    "    \"tools\"   : [ 'trace-cmd', 'rt-app' ],\n",
    "    \n",
    "    # Comment this line to calibrate RTApp in your own platform\n",
    "    \"rtapp-calib\" :  {\"0\": 360, \"1\": 142, \"2\": 138, \"3\": 352, \"4\": 352, \"5\": 353},\n",
    "}"
   ]
  },
  {
   "cell_type": "code",
   "execution_count": 4,
   "metadata": {
    "collapsed": false,
    "scrolled": false
   },
   "outputs": [
    {
     "name": "stderr",
     "output_type": "stream",
     "text": [
      "03:35:25  INFO    :         Target - Using base path: /home/derkling/Code/lisa\n",
      "03:35:25  INFO    :         Target - Loading custom (inline) target configuration\n",
      "03:35:25  INFO    :         Target - Devlib modules to load: ['bl', 'cpufreq']\n",
      "03:35:25  INFO    :         Target - Connecting linux target:\n",
      "03:35:25  INFO    :         Target -   username : root\n",
      "03:35:25  INFO    :         Target -       host : 192.168.0.1\n",
      "03:35:25  INFO    :         Target -   password : \n",
      "03:35:25  INFO    :         Target - Connection settings:\n",
      "03:35:25  INFO    :         Target -    {'username': 'root', 'host': '192.168.0.1', 'password': ''}\n",
      "03:35:29  INFO    :         Target - Initializing target workdir:\n",
      "03:35:29  INFO    :         Target -    /root/devlib-target\n",
      "03:35:34  INFO    :         Target - Topology:\n",
      "03:35:34  INFO    :         Target -    [[0, 3, 4, 5], [1, 2]]\n",
      "03:35:35  INFO    :       Platform - Loading default EM:\n",
      "03:35:35  INFO    :       Platform -    /home/derkling/Code/lisa/libs/utils/platforms/juno.json\n",
      "03:35:38  INFO    :         FTrace - Enabled tracepoints:\n",
      "03:35:38  INFO    :         FTrace -   sched:*\n",
      "03:35:38  INFO    :         FTrace - Kernel functions profiled:\n",
      "03:35:38  INFO    :         FTrace -   pick_next_task_fair\n",
      "03:35:38  INFO    :         FTrace -   select_task_rq_fair\n",
      "03:35:38  INFO    :         FTrace -   enqueue_task_fair\n",
      "03:35:38  INFO    :         FTrace -   update_curr_fair\n",
      "03:35:38  INFO    :         FTrace -   dequeue_task_fair\n",
      "03:35:38  WARNING :         Target - Using configuration provided RTApp calibration\n",
      "03:35:38  INFO    :         Target - Using RT-App calibration values:\n",
      "03:35:38  INFO    :         Target -    {\"0\": 360, \"1\": 142, \"2\": 138, \"3\": 352, \"4\": 352, \"5\": 353}\n",
      "03:35:38  INFO    :    EnergyMeter - HWMON module not enabled\n",
      "03:35:38  WARNING :    EnergyMeter - Energy sampling disabled by configuration\n",
      "03:35:38  INFO    :        TestEnv - Set results folder to:\n",
      "03:35:38  INFO    :        TestEnv -    /home/derkling/Code/lisa/results/TraceAnalysis_FunctionsProfiling\n",
      "03:35:38  INFO    :        TestEnv - Experiment results available also in:\n",
      "03:35:38  INFO    :        TestEnv -    /home/derkling/Code/lisa/results_latest\n"
     ]
    }
   ],
   "source": [
    "# Initialize a test environment using:\n",
    "te = TestEnv(my_conf, wipe=False, force_new=True)\n",
    "target = te.target"
   ]
  },
  {
   "cell_type": "markdown",
   "metadata": {},
   "source": [
    "# Workload Execution and Functions Profiling Data Collection"
   ]
  },
  {
   "cell_type": "code",
   "execution_count": 5,
   "metadata": {
    "collapsed": true
   },
   "outputs": [],
   "source": [
    "def experiment(te):\n",
    "\n",
    "    # Create and RTApp RAMP task\n",
    "    rtapp = RTA(te.target, 'ramp', calibration=te.calibration())\n",
    "    rtapp.conf(kind='profile',\n",
    "               params={\n",
    "                    'ramp' : Ramp(\n",
    "                        start_pct =  60,\n",
    "                        end_pct   =  20,\n",
    "                        delta_pct =   5,\n",
    "                        time_s    =   0.5).get()\n",
    "              })\n",
    "\n",
    "    # FTrace the execution of this workload\n",
    "    te.ftrace.start()\n",
    "    rtapp.run(out_dir=te.res_dir)\n",
    "    te.ftrace.stop()\n",
    "\n",
    "    # Collect and keep track of the trace\n",
    "    trace_file = os.path.join(te.res_dir, 'trace.dat')\n",
    "    te.ftrace.get_trace(trace_file)\n",
    "    \n",
    "    # Collect and keep track of the Kernel Functions performance data\n",
    "    stats_file = os.path.join(te.res_dir, 'trace.stats')\n",
    "    te.ftrace.get_stats(stats_file)\n",
    "\n",
    "    # Dump platform descriptor\n",
    "    te.platform_dump(te.res_dir)"
   ]
  },
  {
   "cell_type": "code",
   "execution_count": 6,
   "metadata": {
    "collapsed": false
   },
   "outputs": [
    {
     "name": "stderr",
     "output_type": "stream",
     "text": [
      "03:35:38  INFO    :          WlGen - Setup new workload ramp\n",
      "03:35:38  INFO    :          RTApp - Workload duration defined by longest task\n",
      "03:35:38  INFO    :          RTApp - Default policy: SCHED_OTHER\n",
      "03:35:38  INFO    :          RTApp - ------------------------\n",
      "03:35:38  INFO    :          RTApp - task [ramp], sched: using default policy\n",
      "03:35:38  INFO    :          RTApp -  | calibration CPU: 1\n",
      "03:35:38  INFO    :          RTApp -  | loops count: 1\n",
      "03:35:38  INFO    :          RTApp - + phase_000001: duration 0.500000 [s] (5 loops)\n",
      "03:35:38  INFO    :          RTApp - |  period   100000 [us], duty_cycle  60 %\n",
      "03:35:38  INFO    :          RTApp - |  run_time  60000 [us], sleep_time  40000 [us]\n",
      "03:35:38  INFO    :          RTApp - + phase_000002: duration 0.500000 [s] (5 loops)\n",
      "03:35:38  INFO    :          RTApp - |  period   100000 [us], duty_cycle  55 %\n",
      "03:35:38  INFO    :          RTApp - |  run_time  55000 [us], sleep_time  45000 [us]\n",
      "03:35:38  INFO    :          RTApp - + phase_000003: duration 0.500000 [s] (5 loops)\n",
      "03:35:38  INFO    :          RTApp - |  period   100000 [us], duty_cycle  50 %\n",
      "03:35:38  INFO    :          RTApp - |  run_time  50000 [us], sleep_time  50000 [us]\n",
      "03:35:38  INFO    :          RTApp - + phase_000004: duration 0.500000 [s] (5 loops)\n",
      "03:35:38  INFO    :          RTApp - |  period   100000 [us], duty_cycle  45 %\n",
      "03:35:38  INFO    :          RTApp - |  run_time  45000 [us], sleep_time  55000 [us]\n",
      "03:35:38  INFO    :          RTApp - + phase_000005: duration 0.500000 [s] (5 loops)\n",
      "03:35:38  INFO    :          RTApp - |  period   100000 [us], duty_cycle  40 %\n",
      "03:35:38  INFO    :          RTApp - |  run_time  40000 [us], sleep_time  60000 [us]\n",
      "03:35:38  INFO    :          RTApp - + phase_000006: duration 0.500000 [s] (5 loops)\n",
      "03:35:38  INFO    :          RTApp - |  period   100000 [us], duty_cycle  35 %\n",
      "03:35:38  INFO    :          RTApp - |  run_time  35000 [us], sleep_time  65000 [us]\n",
      "03:35:38  INFO    :          RTApp - + phase_000007: duration 0.500000 [s] (5 loops)\n",
      "03:35:38  INFO    :          RTApp - |  period   100000 [us], duty_cycle  30 %\n",
      "03:35:38  INFO    :          RTApp - |  run_time  30000 [us], sleep_time  70000 [us]\n",
      "03:35:38  INFO    :          RTApp - + phase_000008: duration 0.500000 [s] (5 loops)\n",
      "03:35:38  INFO    :          RTApp - |  period   100000 [us], duty_cycle  25 %\n",
      "03:35:38  INFO    :          RTApp - |  run_time  25000 [us], sleep_time  75000 [us]\n",
      "03:35:38  INFO    :          RTApp - + phase_000009: duration 0.500000 [s] (5 loops)\n",
      "03:35:38  INFO    :          RTApp - |  period   100000 [us], duty_cycle  20 %\n",
      "03:35:38  INFO    :          RTApp - |  run_time  20000 [us], sleep_time  80000 [us]\n",
      "03:35:44  INFO    :          WlGen - Workload execution START:\n",
      "03:35:44  INFO    :          WlGen -    /root/devlib-target/bin/rt-app /root/devlib-target/ramp_00.json 2>&1\n"
     ]
    }
   ],
   "source": [
    "experiment(te)"
   ]
  },
  {
   "cell_type": "markdown",
   "metadata": {},
   "source": [
    "# Parse Trace and Profiling Data"
   ]
  },
  {
   "cell_type": "code",
   "execution_count": 7,
   "metadata": {
    "collapsed": false
   },
   "outputs": [
    {
     "name": "stderr",
     "output_type": "stream",
     "text": [
      "03:35:53  INFO    : Content of the output folder /home/derkling/Code/lisa/results/TraceAnalysis_FunctionsProfiling\n"
     ]
    },
    {
     "name": "stdout",
     "output_type": "stream",
     "text": [
      "\u001b[01;34m/home/derkling/Code/lisa/results/TraceAnalysis_FunctionsProfiling\u001b[00m\r\n",
      "├── output.log\r\n",
      "├── platform.json\r\n",
      "├── ramp_00.json\r\n",
      "├── rt-app-ramp-0.log\r\n",
      "├── trace.dat\r\n",
      "├── trace.raw.txt\r\n",
      "├── trace.stats\r\n",
      "└── trace.txt\r\n",
      "\r\n",
      "0 directories, 8 files\r\n"
     ]
    }
   ],
   "source": [
    "# Base folder where tests folder are located\n",
    "res_dir = te.res_dir\n",
    "logging.info('Content of the output folder %s', res_dir)\n",
    "!tree {res_dir}"
   ]
  },
  {
   "cell_type": "code",
   "execution_count": 8,
   "metadata": {
    "collapsed": false
   },
   "outputs": [
    {
     "name": "stderr",
     "output_type": "stream",
     "text": [
      "03:35:53  INFO    : LITTLE cluster max capacity: 447\n"
     ]
    }
   ],
   "source": [
    "with open(os.path.join(res_dir, 'platform.json'), 'r') as fh:\n",
    "    platform = json.load(fh)\n",
    "#print json.dumps(platform, indent=4)\n",
    "logging.info('LITTLE cluster max capacity: %d',\n",
    "             platform['nrg_model']['little']['cpu']['cap_max'])"
   ]
  },
  {
   "cell_type": "code",
   "execution_count": 9,
   "metadata": {
    "collapsed": false
   },
   "outputs": [
    {
     "name": "stderr",
     "output_type": "stream",
     "text": [
      "03:21:10  INFO    : Parsing FTrace format...\n",
      "03:21:10  INFO    : Trace contains only functions stats\n",
      "03:21:10  INFO    : Collected events spans a 0.000 [s] time interval\n",
      "03:21:10  INFO    : Set plots time range to (0.000000, 0.000000)[s]\n",
      "03:21:10  INFO    : Registering trace analysis modules:\n",
      "03:21:10  INFO    :    frequency\n",
      "03:21:10  INFO    :    functions\n",
      "03:21:10  INFO    :    tasks\n",
      "03:21:10  INFO    :    eas\n",
      "03:21:10  INFO    :    status\n",
      "03:21:10  INFO    :    cpus\n"
     ]
    }
   ],
   "source": [
    "trace = Trace(platform, res_dir, events=[])"
   ]
  },
  {
   "cell_type": "markdown",
   "metadata": {},
   "source": [
    "# Report Functions Profiling Data"
   ]
  },
  {
   "cell_type": "code",
   "execution_count": 10,
   "metadata": {
    "collapsed": false
   },
   "outputs": [
    {
     "data": {
      "text/html": [
       "<div>\n",
       "<table border=\"1\" class=\"dataframe\">\n",
       "  <thead>\n",
       "    <tr style=\"text-align: right;\">\n",
       "      <th></th>\n",
       "      <th></th>\n",
       "      <th>hits</th>\n",
       "      <th>avg</th>\n",
       "      <th>time</th>\n",
       "      <th>s_2</th>\n",
       "    </tr>\n",
       "  </thead>\n",
       "  <tbody>\n",
       "    <tr>\n",
       "      <th rowspan=\"2\" valign=\"top\">0</th>\n",
       "      <th>dequeue_task_fair</th>\n",
       "      <td>538</td>\n",
       "      <td>3.372</td>\n",
       "      <td>1814.54</td>\n",
       "      <td>5.544</td>\n",
       "    </tr>\n",
       "    <tr>\n",
       "      <th>enqueue_task_fair</th>\n",
       "      <td>571</td>\n",
       "      <td>3.214</td>\n",
       "      <td>1835.56</td>\n",
       "      <td>2.027</td>\n",
       "    </tr>\n",
       "    <tr>\n",
       "      <th rowspan=\"2\" valign=\"top\">1</th>\n",
       "      <th>dequeue_task_fair</th>\n",
       "      <td>12</td>\n",
       "      <td>3.501</td>\n",
       "      <td>42.02</td>\n",
       "      <td>1.593</td>\n",
       "    </tr>\n",
       "    <tr>\n",
       "      <th>enqueue_task_fair</th>\n",
       "      <td>17</td>\n",
       "      <td>3.076</td>\n",
       "      <td>52.30</td>\n",
       "      <td>0.593</td>\n",
       "    </tr>\n",
       "    <tr>\n",
       "      <th rowspan=\"2\" valign=\"top\">2</th>\n",
       "      <th>dequeue_task_fair</th>\n",
       "      <td>1160</td>\n",
       "      <td>2.469</td>\n",
       "      <td>2864.78</td>\n",
       "      <td>2.218</td>\n",
       "    </tr>\n",
       "    <tr>\n",
       "      <th>enqueue_task_fair</th>\n",
       "      <td>1164</td>\n",
       "      <td>2.177</td>\n",
       "      <td>2535.18</td>\n",
       "      <td>0.999</td>\n",
       "    </tr>\n",
       "    <tr>\n",
       "      <th rowspan=\"2\" valign=\"top\">3</th>\n",
       "      <th>dequeue_task_fair</th>\n",
       "      <td>304</td>\n",
       "      <td>2.362</td>\n",
       "      <td>718.34</td>\n",
       "      <td>3.015</td>\n",
       "    </tr>\n",
       "    <tr>\n",
       "      <th>enqueue_task_fair</th>\n",
       "      <td>279</td>\n",
       "      <td>2.538</td>\n",
       "      <td>708.18</td>\n",
       "      <td>1.082</td>\n",
       "    </tr>\n",
       "    <tr>\n",
       "      <th rowspan=\"2\" valign=\"top\">4</th>\n",
       "      <th>dequeue_task_fair</th>\n",
       "      <td>199</td>\n",
       "      <td>2.646</td>\n",
       "      <td>526.58</td>\n",
       "      <td>2.827</td>\n",
       "    </tr>\n",
       "    <tr>\n",
       "      <th>enqueue_task_fair</th>\n",
       "      <td>215</td>\n",
       "      <td>2.571</td>\n",
       "      <td>552.78</td>\n",
       "      <td>0.903</td>\n",
       "    </tr>\n",
       "    <tr>\n",
       "      <th rowspan=\"2\" valign=\"top\">5</th>\n",
       "      <th>dequeue_task_fair</th>\n",
       "      <td>88</td>\n",
       "      <td>2.407</td>\n",
       "      <td>211.82</td>\n",
       "      <td>2.773</td>\n",
       "    </tr>\n",
       "    <tr>\n",
       "      <th>enqueue_task_fair</th>\n",
       "      <td>59</td>\n",
       "      <td>2.774</td>\n",
       "      <td>163.70</td>\n",
       "      <td>1.491</td>\n",
       "    </tr>\n",
       "  </tbody>\n",
       "</table>\n",
       "</div>"
      ],
      "text/plain": [
       "                     hits    avg     time    s_2\n",
       "0 dequeue_task_fair   538  3.372  1814.54  5.544\n",
       "  enqueue_task_fair   571  3.214  1835.56  2.027\n",
       "1 dequeue_task_fair    12  3.501    42.02  1.593\n",
       "  enqueue_task_fair    17  3.076    52.30  0.593\n",
       "2 dequeue_task_fair  1160  2.469  2864.78  2.218\n",
       "  enqueue_task_fair  1164  2.177  2535.18  0.999\n",
       "3 dequeue_task_fair   304  2.362   718.34  3.015\n",
       "  enqueue_task_fair   279  2.538   708.18  1.082\n",
       "4 dequeue_task_fair   199  2.646   526.58  2.827\n",
       "  enqueue_task_fair   215  2.571   552.78  0.903\n",
       "5 dequeue_task_fair    88  2.407   211.82  2.773\n",
       "  enqueue_task_fair    59  2.774   163.70  1.491"
      ]
     },
     "execution_count": 9,
     "metadata": {},
     "output_type": "execute_result"
    }
   ],
   "source": [
    "# Get the DataFrame for the specified list of kernel functions\n",
    "df = trace.data_frame.functions_stats(['enqueue_task_fair', 'dequeue_task_fair'])\n",
    "df"
   ]
  },
  {
   "cell_type": "code",
   "execution_count": 10,
   "metadata": {
    "collapsed": false
   },
   "outputs": [
    {
     "data": {
      "text/html": [
       "<div>\n",
       "<table border=\"1\" class=\"dataframe\">\n",
       "  <thead>\n",
       "    <tr style=\"text-align: right;\">\n",
       "      <th></th>\n",
       "      <th></th>\n",
       "      <th>hits</th>\n",
       "      <th>avg</th>\n",
       "      <th>time</th>\n",
       "      <th>s_2</th>\n",
       "    </tr>\n",
       "  </thead>\n",
       "  <tbody>\n",
       "    <tr>\n",
       "      <th>0</th>\n",
       "      <th>select_task_rq_fair</th>\n",
       "      <td>783</td>\n",
       "      <td>1.617</td>\n",
       "      <td>1266.88</td>\n",
       "      <td>0.896</td>\n",
       "    </tr>\n",
       "    <tr>\n",
       "      <th>1</th>\n",
       "      <th>select_task_rq_fair</th>\n",
       "      <td>17</td>\n",
       "      <td>0.782</td>\n",
       "      <td>13.30</td>\n",
       "      <td>0.031</td>\n",
       "    </tr>\n",
       "    <tr>\n",
       "      <th>2</th>\n",
       "      <th>select_task_rq_fair</th>\n",
       "      <td>777</td>\n",
       "      <td>1.042</td>\n",
       "      <td>810.16</td>\n",
       "      <td>3.248</td>\n",
       "    </tr>\n",
       "    <tr>\n",
       "      <th>3</th>\n",
       "      <th>select_task_rq_fair</th>\n",
       "      <td>259</td>\n",
       "      <td>1.575</td>\n",
       "      <td>408.12</td>\n",
       "      <td>8.924</td>\n",
       "    </tr>\n",
       "    <tr>\n",
       "      <th>4</th>\n",
       "      <th>select_task_rq_fair</th>\n",
       "      <td>186</td>\n",
       "      <td>1.837</td>\n",
       "      <td>341.72</td>\n",
       "      <td>4.420</td>\n",
       "    </tr>\n",
       "    <tr>\n",
       "      <th>5</th>\n",
       "      <th>select_task_rq_fair</th>\n",
       "      <td>51</td>\n",
       "      <td>2.557</td>\n",
       "      <td>130.42</td>\n",
       "      <td>13.227</td>\n",
       "    </tr>\n",
       "  </tbody>\n",
       "</table>\n",
       "</div>"
      ],
      "text/plain": [
       "                       hits    avg     time     s_2\n",
       "0 select_task_rq_fair   783  1.617  1266.88   0.896\n",
       "1 select_task_rq_fair    17  0.782    13.30   0.031\n",
       "2 select_task_rq_fair   777  1.042   810.16   3.248\n",
       "3 select_task_rq_fair   259  1.575   408.12   8.924\n",
       "4 select_task_rq_fair   186  1.837   341.72   4.420\n",
       "5 select_task_rq_fair    51  2.557   130.42  13.227"
      ]
     },
     "execution_count": 10,
     "metadata": {},
     "output_type": "execute_result"
    }
   ],
   "source": [
    "# Get the DataFrame for the single specified kernel function\n",
    "df = trace.data_frame.functions_stats('select_task_rq_fair')\n",
    "df"
   ]
  },
  {
   "cell_type": "markdown",
   "metadata": {},
   "source": [
    "# Plot Functions Profiling Data"
   ]
  },
  {
   "cell_type": "code",
   "execution_count": 12,
   "metadata": {
    "collapsed": false
   },
   "outputs": [
    {
     "data": {
      "image/png": "[encoded data removed]",
      "text/plain": [
       "<matplotlib.figure.Figure at 0x7f5361b61150>"
      ]
     },
     "metadata": {},
     "output_type": "display_data"
    },
    {
     "data": {
      "image/png": "[encoded data removed]",
      "text/plain": [
       "<matplotlib.figure.Figure at 0x7f5361b61b10>"
      ]
     },
     "metadata": {},
     "output_type": "display_data"
    }
   ],
   "source": [
    "# Plot Average and Total execution time for the specified\n",
    "# list of kernel functions\n",
    "trace.analysis.functions.plotProfilingStats(\n",
    "    functions = [\n",
    "        'select_task_rq_fair',\n",
    "        'enqueue_task_fair',\n",
    "        'dequeue_task_fair'\n",
    "    ],\n",
    "    metrics = [\n",
    "        'avg',\n",
    "        'time',\n",
    "    ]\n",
    ")"
   ]
  },
  {
   "cell_type": "code",
   "execution_count": 14,
   "metadata": {
    "collapsed": false
   },
   "outputs": [
    {
     "data": {
      "image/png": "[encoded data removed]",
      "text/plain": [
       "<matplotlib.figure.Figure at 0x7f5361b34d50>"
      ]
     },
     "metadata": {},
     "output_type": "display_data"
    }
   ],
   "source": [
    "# Plot Average execution time for the single specified kernel function\n",
    "trace.analysis.functions.plotProfilingStats(\n",
    "    functions = 'update_curr_fair',\n",
    ")"
   ]
  },
  {
   "cell_type": "code",
   "execution_count": null,
   "metadata": {
    "collapsed": true
   },
   "outputs": [],
   "source": []
  }
 ],
 "metadata": {
  "kernelspec": {
   "display_name": "Python 2",
   "language": "python",
   "name": "python2"
  },
  "language_info": {
   "codemirror_mode": {
    "name": "ipython",
    "version": 2
   },
   "file_extension": ".py",
   "mimetype": "text/x-python",
   "name": "python",
   "nbconvert_exporter": "python",
   "pygments_lexer": "ipython2",
   "version": "2.7.6"
  },
  "toc": {
   "toc_cell": false,
   "toc_number_sections": true,
   "toc_threshold": 6,
   "toc_window_display": false
  }
 },
 "nbformat": 4,
 "nbformat_minor": 0
}
