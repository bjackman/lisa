{
 "cells": [
  {
   "cell_type": "markdown",
   "metadata": {},
   "source": [
    "# EAS Testing - PCMark benchmark on Android"
   ]
  },
  {
   "cell_type": "markdown",
   "metadata": {},
   "source": [
    "The goal of this experiment is to run benchmarks on a Nexus N5X running Android with an EAS kernel and collect results. The analysis phase will consist in comparing EAS with other schedulers, that is comparing *sched* governor with:\n",
    "\n",
    "    - interactive\n",
    "    - performance\n",
    "    - powersave\n",
    "    - ondemand\n",
    "    \n",
    "The benchmark we will be using is ***PCMark*** (https://www.futuremark.com/benchmarks/pcmark-android). You will need to **manually install** the app on the Android device in order to run this Notebook.\n",
    "\n",
    "When opinening PCMark for the first time you will need to Install the work benchmark from inside the app."
   ]
  },
  {
   "cell_type": "code",
   "execution_count": 1,
   "metadata": {
    "collapsed": false
   },
   "outputs": [],
   "source": [
    "import logging\n",
    "from conf import LisaLogging\n",
    "LisaLogging.setup()"
   ]
  },
  {
   "cell_type": "code",
   "execution_count": 2,
   "metadata": {
    "collapsed": false
   },
   "outputs": [
    {
     "name": "stdout",
     "output_type": "stream",
     "text": [
      "Populating the interactive namespace from numpy and matplotlib\n"
     ]
    }
   ],
   "source": [
    "%pylab inline\n",
    "\n",
    "import copy\n",
    "import os\n",
    "from time import sleep\n",
    "from subprocess import Popen\n",
    "import pandas as pd\n",
    "\n",
    "# Support to access the remote target\n",
    "import devlib\n",
    "from env import TestEnv\n",
    "\n",
    "# Support for trace events analysis\n",
    "from trace import Trace\n",
    "\n",
    "# Suport for FTrace events parsing and visualization\n",
    "import trappy"
   ]
  },
  {
   "cell_type": "markdown",
   "metadata": {},
   "source": [
    "# Test Environment set up"
   ]
  },
  {
   "cell_type": "markdown",
   "metadata": {},
   "source": [
    "In case more than one Android device are conencted to the host, you must specify the ID of the device you want to target in `my_target_conf`. Run `adb devices` on your host to get the ID."
   ]
  },
  {
   "cell_type": "code",
   "execution_count": 3,
   "metadata": {
    "collapsed": false
   },
   "outputs": [],
   "source": [
    "# Setup a target configuration\n",
    "my_target_conf = {\n",
    "    \n",
    "    # Target platform and board\n",
    "    \"platform\"    : 'android',\n",
    "\n",
    "    # Add target support\n",
    "    \"board\" : 'n5x',\n",
    "    \n",
    "    # Device ID\n",
    "    #\"device\" : \"00b1346f0878ccb1\",\n",
    "    \n",
    "    # Define devlib modules to load\n",
    "    \"modules\"     : [\n",
    "        'cpufreq'       # enable CPUFreq support\n",
    "    ],\n",
    "}"
   ]
  },
  {
   "cell_type": "code",
   "execution_count": 4,
   "metadata": {
    "collapsed": false,
    "scrolled": false
   },
   "outputs": [],
   "source": [
    "my_tests_conf = {\n",
    "\n",
    "    # Folder where all the results will be collected\n",
    "    \"results_dir\" : \"Android_PCMark\",\n",
    "\n",
    "    # Platform configurations to test\n",
    "    \"confs\" : [\n",
    "        {\n",
    "            \"tag\"            : \"pcmark\",\n",
    "            \"flags\"          : \"ftrace\",           # Enable FTrace events\n",
    "            \"sched_features\" : \"ENERGY_AWARE\",     # enable EAS\n",
    "        },\n",
    "    ],\n",
    "}"
   ]
  },
  {
   "cell_type": "code",
   "execution_count": 5,
   "metadata": {
    "collapsed": false
   },
   "outputs": [
    {
     "name": "stderr",
     "output_type": "stream",
     "text": [
      "2016-04-04 09:56:39,384 INFO    :         Target - Using base path: /home/pippo/work/lisa\n",
      "2016-04-04 09:56:39,385 INFO    :         Target - Loading custom (inline) target configuration\n",
      "2016-04-04 09:56:39,386 INFO    :         Target - Loading custom (inline) test configuration\n",
      "2016-04-04 09:56:39,386 INFO    :         Target - Devlib modules to load: ['bl', 'cpufreq']\n",
      "2016-04-04 09:56:39,387 INFO    :         Target - Connecting Android target [DEFAULT]\n",
      "2016-04-04 09:56:39,772 INFO    :         Target - Initializing target workdir:\n",
      "2016-04-04 09:56:39,774 INFO    :         Target -    /data/local/tmp/devlib-target\n",
      "2016-04-04 09:56:41,938 INFO    :         Target - Topology:\n",
      "2016-04-04 09:56:41,940 INFO    :         Target -    [[0, 1, 2, 3], [4, 5]]\n",
      "2016-04-04 09:56:42,062 INFO    :        TestEnv - Set results folder to:\n",
      "2016-04-04 09:56:42,063 INFO    :        TestEnv -    /home/pippo/work/lisa/results/Android_PCMark\n",
      "2016-04-04 09:56:42,064 INFO    :        TestEnv - Experiment results available also in:\n",
      "2016-04-04 09:56:42,065 INFO    :        TestEnv -    /home/pippo/work/lisa/results_latest\n"
     ]
    }
   ],
   "source": [
    "# Initialize a test environment using:\n",
    "# the provided target configuration (my_target_conf)\n",
    "# the provided test configuration   (my_test_conf)\n",
    "te = TestEnv(target_conf=my_target_conf, test_conf=my_tests_conf)\n",
    "target = te.target"
   ]
  },
  {
   "cell_type": "markdown",
   "metadata": {},
   "source": [
    "# Support Functions"
   ]
  },
  {
   "cell_type": "markdown",
   "metadata": {},
   "source": [
    "This set of support functions will help us running the benchmark using different CPUFreq governors."
   ]
  },
  {
   "cell_type": "code",
   "execution_count": 6,
   "metadata": {
    "collapsed": true
   },
   "outputs": [],
   "source": [
    "def set_performance():\n",
    "    target.cpufreq.set_all_governors('performance')\n",
    "\n",
    "def set_powersave():\n",
    "    target.cpufreq.set_all_governors('powersave')\n",
    "\n",
    "def set_interactive():\n",
    "    target.cpufreq.set_all_governors('interactive')\n",
    "\n",
    "def set_sched():\n",
    "    target.cpufreq.set_all_governors('sched')\n",
    "\n",
    "def set_ondemand():\n",
    "    target.cpufreq.set_all_governors('ondemand')\n",
    "    \n",
    "    for cpu in target.list_online_cpus():\n",
    "        tunables = target.cpufreq.get_governor_tunables(cpu)\n",
    "        target.cpufreq.set_governor_tunables(\n",
    "            cpu,\n",
    "            'ondemand',\n",
    "            **{'sampling_rate' : tunables['sampling_rate_min']}\n",
    "        )"
   ]
  },
  {
   "cell_type": "code",
   "execution_count": 7,
   "metadata": {
    "collapsed": false
   },
   "outputs": [],
   "source": [
    "# CPUFreq configurations to test\n",
    "confs = {\n",
    "    'performance' : {\n",
    "        'label' : 'prf',\n",
    "        'set' :  set_performance,\n",
    "    },\n",
    "    #'powersave' : {\n",
    "    #    'label' : 'pws',\n",
    "    #    'set' :  set_powersave,\n",
    "    #},\n",
    "     'interactive' : {\n",
    "         'label' : 'int',\n",
    "         'set' :  set_interactive,\n",
    "     },\n",
    "    #'sched' : {\n",
    "    #    'label' : 'sch',\n",
    "    #    'set' :  set_sched,\n",
    "    #},\n",
    "    #'ondemand' : {\n",
    "    #    'label' : 'odm',\n",
    "    #    'set' :  set_ondemand,\n",
    "    #}\n",
    "}\n",
    "\n",
    "# The set of results for each comparison test\n",
    "results = {}"
   ]
  },
  {
   "cell_type": "code",
   "execution_count": 8,
   "metadata": {
    "collapsed": true
   },
   "outputs": [],
   "source": [
    "def check_packages(pkgname):\n",
    "    try:\n",
    "        output = target.execute('pm list packages -f | grep -i {}'.format(pkgname))\n",
    "    except Exception:\n",
    "        raise RuntimeError('Package: [{}] not availabe on target'.format(pkgname))\n",
    "\n",
    "# Check for specified PKG name being available on target\n",
    "check_packages('com.futuremark.pcmark.android.benchmark')"
   ]
  },
  {
   "cell_type": "code",
   "execution_count": 9,
   "metadata": {
    "collapsed": true
   },
   "outputs": [],
   "source": [
    "def pcmark_run(exp_dir):\n",
    "    # Unlock device screen (assume no password required)\n",
    "    target.execute('input keyevent 82')\n",
    "    # Start PCMark on the target device\n",
    "    target.execute('monkey -p com.futuremark.pcmark.android.benchmark -c android.intent.category.LAUNCHER 1')\n",
    "    # Wait few seconds to make sure the app is loaded\n",
    "    sleep(5)\n",
    "    \n",
    "    # Flush entire log\n",
    "    target.clear_logcat()\n",
    "    \n",
    "    # Run performance workload (assume screen is vertical)\n",
    "    target.execute('input tap 750 1450')\n",
    "    # Wait for completion (7 minutes in total) and collect log\n",
    "    log_file = os.path.join(exp_dir, 'log.txt')\n",
    "    # Wait 5 minutes\n",
    "    sleep(300)\n",
    "    # Start collecting the log\n",
    "    with open(log_file, 'w') as log:\n",
    "        logcat = Popen(['adb logcat', 'com.futuremark.pcmandroid.VirtualMachineState:*', '*:S'],\n",
    "                       stdout=log,\n",
    "                       shell=True)\n",
    "        # Wait additional two minutes for benchmark to complete\n",
    "        sleep(120)\n",
    "\n",
    "        # Terminate logcat\n",
    "        logcat.kill()\n",
    "\n",
    "    # Get scores from logcat\n",
    "    score_file = os.path.join(exp_dir, 'score.txt')\n",
    "    os.popen('grep -o \"PCMA_.*_SCORE .*\" {} | sed \"s/ = / /g\" | sort -u > {}'.format(log_file, score_file))\n",
    "    \n",
    "    # Close application\n",
    "    target.execute('am force-stop com.futuremark.pcmark.android.benchmark')\n",
    "    \n",
    "    return score_file"
   ]
  },
  {
   "cell_type": "code",
   "execution_count": 10,
   "metadata": {
    "collapsed": false
   },
   "outputs": [],
   "source": [
    "def experiment(governor, exp_dir):\n",
    "    os.system('mkdir -p {}'.format(exp_dir));\n",
    "\n",
    "    logging.info('------------------------')\n",
    "    logging.info('Run workload using %s governor', governor)\n",
    "    confs[governor]['set']()\n",
    "\n",
    "    ### Run the benchmark ###\n",
    "    score_file = pcmark_run(exp_dir)\n",
    "    \n",
    "    # Save the score as a dictionary\n",
    "    scores = dict()\n",
    "    with open(score_file, 'r') as f:\n",
    "        lines = f.readlines()\n",
    "        for l in lines:\n",
    "            info = l.split()\n",
    "            scores.update({info[0] : float(info[1])})\n",
    "    \n",
    "    # return all the experiment data\n",
    "    return {\n",
    "        'dir'        : exp_dir,\n",
    "        'scores'     : scores,\n",
    "    }"
   ]
  },
  {
   "cell_type": "markdown",
   "metadata": {},
   "source": [
    "# Run PCMark and collect scores"
   ]
  },
  {
   "cell_type": "code",
   "execution_count": 11,
   "metadata": {
    "collapsed": false,
    "scrolled": true
   },
   "outputs": [
    {
     "name": "stderr",
     "output_type": "stream",
     "text": [
      "2016-04-04 09:57:04,879 INFO    : ------------------------\n",
      "2016-04-04 09:57:04,881 INFO    : Run workload using performance governor\n",
      "2016-04-04 10:04:13,684 INFO    : ------------------------\n",
      "2016-04-04 10:04:13,685 INFO    : Run workload using interactive governor\n"
     ]
    }
   ],
   "source": [
    "# Run the benchmark in all the configured governors\n",
    "for governor in confs:\n",
    "    test_dir = os.path.join(te.res_dir, governor)\n",
    "    res = experiment(governor, test_dir)\n",
    "    results[governor] = copy.deepcopy(res)"
   ]
  },
  {
   "cell_type": "markdown",
   "metadata": {
    "collapsed": false
   },
   "source": [
    "After running the benchmark for the specified governors we can show the scores"
   ]
  },
  {
   "cell_type": "code",
   "execution_count": 12,
   "metadata": {
    "collapsed": false
   },
   "outputs": [
    {
     "data": {
      "text/html": [
       "<div>\n",
       "<table border=\"1\" class=\"dataframe\">\n",
       "  <thead>\n",
       "    <tr style=\"text-align: right;\">\n",
       "      <th></th>\n",
       "      <th>interactive</th>\n",
       "      <th>performance</th>\n",
       "    </tr>\n",
       "  </thead>\n",
       "  <tbody>\n",
       "    <tr>\n",
       "      <th>PCMA_PHOTO_EDITING_SCORE</th>\n",
       "      <td>7847.595587</td>\n",
       "      <td>9281.817920</td>\n",
       "    </tr>\n",
       "    <tr>\n",
       "      <th>PCMA_VIDEO_PLAYBACK_SCORE</th>\n",
       "      <td>3519.155975</td>\n",
       "      <td>3484.256511</td>\n",
       "    </tr>\n",
       "    <tr>\n",
       "      <th>PCMA_WEB_SCORE</th>\n",
       "      <td>6201.226146</td>\n",
       "      <td>6444.737547</td>\n",
       "    </tr>\n",
       "    <tr>\n",
       "      <th>PCMA_WORK_SCORE</th>\n",
       "      <td>4676.950746</td>\n",
       "      <td>4934.220982</td>\n",
       "    </tr>\n",
       "    <tr>\n",
       "      <th>PCMA_WRITING_SCORE</th>\n",
       "      <td>2793.820407</td>\n",
       "      <td>2843.976358</td>\n",
       "    </tr>\n",
       "  </tbody>\n",
       "</table>\n",
       "</div>"
      ],
      "text/plain": [
       "                           interactive  performance\n",
       "PCMA_PHOTO_EDITING_SCORE   7847.595587  9281.817920\n",
       "PCMA_VIDEO_PLAYBACK_SCORE  3519.155975  3484.256511\n",
       "PCMA_WEB_SCORE             6201.226146  6444.737547\n",
       "PCMA_WORK_SCORE            4676.950746  4934.220982\n",
       "PCMA_WRITING_SCORE         2793.820407  2843.976358"
      ]
     },
     "execution_count": 12,
     "metadata": {},
     "output_type": "execute_result"
    }
   ],
   "source": [
    "# Create results DataFrame\n",
    "data = {}\n",
    "for governor in confs:\n",
    "    data[governor] = {}\n",
    "    for score_name, score in results[governor]['scores'].iteritems():\n",
    "        data[governor][score_name] = score\n",
    "\n",
    "df = pd.DataFrame.from_dict(data)\n",
    "df"
   ]
  },
  {
   "cell_type": "code",
   "execution_count": 13,
   "metadata": {
    "collapsed": false
   },
   "outputs": [
    {
     "data": {
      "image/png": "[encoded data removed]",
      "text/plain": [
       "<matplotlib.figure.Figure at 0x7fb1f6f80c10>"
      ]
     },
     "metadata": {},
     "output_type": "display_data"
    }
   ],
   "source": [
    "df.plot(kind='bar', rot=45, figsize=(16,8),\n",
    "        title='PCMark scores vs SchedFreq governors');"
   ]
  }
 ],
 "metadata": {
  "kernelspec": {
   "display_name": "Python 2",
   "language": "python",
   "name": "python2"
  },
  "language_info": {
   "codemirror_mode": {
    "name": "ipython",
    "version": 2
   },
   "file_extension": ".py",
   "mimetype": "text/x-python",
   "name": "python",
   "nbconvert_exporter": "python",
   "pygments_lexer": "ipython2",
   "version": "2.7.9"
  },
  "toc": {
   "toc_cell": false,
   "toc_number_sections": true,
   "toc_threshold": 6,
   "toc_window_display": false
  }
 },
 "nbformat": 4,
 "nbformat_minor": 0
}
