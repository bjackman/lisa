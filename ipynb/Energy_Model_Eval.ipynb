{
 "cells": [
  {
   "cell_type": "markdown",
   "metadata": {},
   "source": [
    "## Does `EnergyModel` actually work for estimation?\n",
    "\n",
    "The notebook runs a load of automated tests and gets the `EnergyModel` estimation of energy usage, then compares it with the values from energy.json."
   ]
  },
  {
   "cell_type": "code",
   "execution_count": 35,
   "metadata": {
    "collapsed": false
   },
   "outputs": [
    {
     "name": "stderr",
     "output_type": "stream",
     "text": [
      "2017-01-03 18:10:54,380 INFO    : root         : Using LISA logging configuration:\n",
      "2017-01-03 18:10:54,381 INFO    : root         :   /home/brejac01/sources/lisa/logging.conf\n"
     ]
    }
   ],
   "source": [
    "from env import TestEnv\n",
    "import pandas as pd\n",
    "import json\n",
    "import os\n",
    "from conf import LisaLogging\n",
    "from bart.common.Utils import area_under_curve\n",
    "\n",
    "LisaLogging.setup()\n",
    "%matplotlib inline"
   ]
  },
  {
   "cell_type": "code",
   "execution_count": 3,
   "metadata": {
    "collapsed": true
   },
   "outputs": [],
   "source": [
    "import tests.eas.generic\n",
    "from tests.eas.generic import EnergyModelTest"
   ]
  },
  {
   "cell_type": "markdown",
   "metadata": {},
   "source": [
    "## Run all the tests\n",
    "This will probalby take ages"
   ]
  },
  {
   "cell_type": "code",
   "execution_count": 4,
   "metadata": {
    "collapsed": false
   },
   "outputs": [],
   "source": [
    "scs = EnergyModelTest.__subclasses__()"
   ]
  },
  {
   "cell_type": "code",
   "execution_count": 5,
   "metadata": {
    "collapsed": true
   },
   "outputs": [
    {
     "name": "stderr",
     "output_type": "stream",
     "text": [
      "2017-01-03 17:38:00,242 INFO    : LisaTest     : Setup tests execution engine...\n",
      "2017-01-03 17:38:00,244 INFO    : TestEnv      : Using base path: /home/brejac01/sources/lisa\n",
      "2017-01-03 17:38:00,245 INFO    : TestEnv      : Loading default (file) target configuration\n",
      "2017-01-03 17:38:00,246 INFO    : TestEnv      : Loading target configuration [/home/brejac01/sources/lisa/target.config]...\n",
      "2017-01-03 17:38:00,249 INFO    : TestEnv      : Loading custom (inline) test configuration\n",
      "2017-01-03 17:38:00,250 INFO    : TestEnv      : Devlib modules to load: ['bl', u'cpuidle', 'cgroups', 'hwmon', 'cpufreq']\n",
      "2017-01-03 17:38:00,250 INFO    : TestEnv      : Connecting linux target:\n",
      "2017-01-03 17:38:00,251 INFO    : TestEnv      :   username : brendan\n",
      "2017-01-03 17:38:00,252 INFO    : TestEnv      :       host : 192.168.2.2\n",
      "2017-01-03 17:38:00,253 INFO    : TestEnv      :   password : password\n",
      "2017-01-03 17:38:00,254 INFO    : TestEnv      : Connection settings:\n",
      "2017-01-03 17:38:00,255 INFO    : TestEnv      :    {'username': u'brendan', 'host': u'192.168.2.2', 'password': u'password'}\n",
      "2017-01-03 17:38:30,366 INFO    : TestEnv      : Initializing target workdir:\n",
      "2017-01-03 17:38:30,368 INFO    : TestEnv      :    /home/brendan/devlib-target\n",
      "2017-01-03 17:38:33,898 INFO    : CGroups      : Available controllers:\n",
      "2017-01-03 17:38:35,623 INFO    : CGroups      :   cpuset       : /home/brendan/devlib-target/cgroups/devlib_cgh2\n",
      "2017-01-03 17:38:37,347 INFO    : CGroups      :   schedtune    : /home/brendan/devlib-target/cgroups/devlib_cgh3\n",
      "2017-01-03 17:38:38,027 INFO    : TestEnv      : Topology:\n",
      "2017-01-03 17:38:38,029 INFO    : TestEnv      :    [[0, 3, 4, 5], [1, 2]]\n",
      "2017-01-03 17:38:40,653 INFO    : TestEnv      : Loading default EM:\n",
      "2017-01-03 17:38:40,655 INFO    : TestEnv      :    /home/brejac01/sources/lisa/libs/utils/platforms/juno.json\n",
      "2017-01-03 17:38:42,343 INFO    : TestEnv      : Enabled tracepoints:\n",
      "2017-01-03 17:38:42,345 INFO    : TestEnv      :    sched_overutilized\n",
      "2017-01-03 17:38:42,346 INFO    : TestEnv      :    sched_energy_diff\n",
      "2017-01-03 17:38:42,348 INFO    : TestEnv      :    sched_load_avg_task\n",
      "2017-01-03 17:38:42,349 INFO    : TestEnv      :    sched_load_avg_cpu\n",
      "2017-01-03 17:38:42,350 INFO    : TestEnv      :    sched_migrate_task\n",
      "2017-01-03 17:38:42,352 INFO    : TestEnv      :    sched_switch\n",
      "2017-01-03 17:38:42,353 INFO    : TestEnv      :    cpu_frequency\n",
      "2017-01-03 17:38:42,355 INFO    : EnergyMeter  : Scanning for HWMON channels, may take some time...\n",
      "2017-01-03 17:38:42,359 INFO    : EnergyMeter  : Channels selected for energy sampling:\n",
      "2017-01-03 17:38:42,360 INFO    : EnergyMeter  :    BOARDBIG_energy\n",
      "2017-01-03 17:38:42,361 INFO    : EnergyMeter  :    BOARDLITTLE_energy\n",
      "2017-01-03 17:38:42,363 INFO    : TestEnv      : Set results folder to:\n",
      "2017-01-03 17:38:42,364 INFO    : TestEnv      :    /home/brejac01/sources/lisa/results/20170103_173842\n",
      "2017-01-03 17:38:42,366 INFO    : TestEnv      : Experiment results available also in:\n",
      "2017-01-03 17:38:42,367 INFO    : TestEnv      :    /home/brejac01/sources/lisa/results_latest\n",
      "2017-01-03 17:38:42,369 INFO    : Executor     : Loading custom (inline) test configuration\n",
      "2017-01-03 17:38:42,370 INFO    : Executor     : \n",
      "2017-01-03 17:38:42,371 INFO    : Executor     : ################################################################################\n",
      "2017-01-03 17:38:42,373 INFO    : Executor     : Experiments configuration\n",
      "2017-01-03 17:38:42,374 INFO    : Executor     : ################################################################################\n",
      "2017-01-03 17:38:42,376 INFO    : Executor     : Configured to run:\n",
      "2017-01-03 17:38:42,377 INFO    : Executor     :      1 target configurations:\n",
      "2017-01-03 17:38:42,378 INFO    : Executor     :       energy_aware\n",
      "2017-01-03 17:38:42,379 INFO    : Executor     :      1 workloads (5 iterations each)\n",
      "2017-01-03 17:38:42,381 INFO    : Executor     :       one_small\n",
      "2017-01-03 17:38:42,382 INFO    : Executor     : Total: 5 experiments\n",
      "2017-01-03 17:38:42,383 INFO    : Executor     : Results will be collected under:\n",
      "2017-01-03 17:38:42,384 INFO    : Executor     :       /home/brejac01/sources/lisa/results/20170103_173842\n",
      "2017-01-03 17:38:42,385 INFO    : Executor     : rt-app workloads found, installing tool on target\n",
      "2017-01-03 17:38:44,493 INFO    : LisaTest     : Experiments execution...\n",
      "2017-01-03 17:38:44,494 INFO    : Executor     : \n",
      "2017-01-03 17:38:44,496 INFO    : Executor     : ################################################################################\n",
      "2017-01-03 17:38:44,497 INFO    : Executor     : Experiments execution\n",
      "2017-01-03 17:38:44,498 INFO    : Executor     : ################################################################################\n",
      "2017-01-03 17:38:44,499 INFO    : Executor     : \n",
      "2017-01-03 17:38:44,500 INFO    : Executor     : ================================================================================\n",
      "2017-01-03 17:38:44,501 INFO    : Executor     : configuring target for [energy_aware] experiments\n",
      "2017-01-03 17:38:46,216 INFO    : Executor     : Set scheduler feature: ENERGY_AWARE\n",
      "2017-01-03 17:38:47,121 WARNING : Executor     : cpufreq governor not specified, using currently configured governor\n",
      "2017-01-03 17:38:47,122 INFO    : Workload     : Setup new workload one_small\n",
      "2017-01-03 17:38:47,124 INFO    : Workload     : Workload duration defined by longest task\n",
      "2017-01-03 17:38:47,125 INFO    : Workload     : Default policy: SCHED_OTHER\n",
      "2017-01-03 17:38:47,126 INFO    : Workload     : ------------------------\n",
      "2017-01-03 17:38:47,127 INFO    : Workload     : task [many0], sched: using default policy\n",
      "2017-01-03 17:38:47,128 INFO    : Workload     :  | calibration CPU: 1\n",
      "2017-01-03 17:38:47,129 INFO    : Workload     :  | loops count: 1\n",
      "2017-01-03 17:38:47,130 INFO    : Workload     : + phase_000001: duration 5.000000 [s] (500 loops)\n",
      "2017-01-03 17:38:47,131 INFO    : Workload     : |  period    10000 [us], duty_cycle  20 %\n",
      "2017-01-03 17:38:47,132 INFO    : Workload     : |  run_time   2000 [us], sleep_time   8000 [us]\n",
      "2017-01-03 17:38:48,198 INFO    : Executor     : ~~~~~~~~~~~~~~~~~~~~~~~~~~~~~~~~~~~~~~~~~~~~~~~~~~~~~~~~~~~~~~~~~~~~~~~~~~~~~~~~\n",
      "2017-01-03 17:38:48,199 INFO    : Executor     : Experiment 0/5, [energy_aware:one_small] 1/5\n",
      "2017-01-03 17:38:48,207 WARNING : Executor     : FTrace events collection enabled\n"
     ]
    },
    {
     "name": "stdout",
     "output_type": "stream",
     "text": [
      "\n"
     ]
    },
    {
     "name": "stderr",
     "output_type": "stream",
     "text": [
      "2017-01-03 17:38:56,098 INFO    : Workload     : Workload execution START:\n",
      "2017-01-03 17:38:56,099 INFO    : Workload     :    /home/brendan/devlib-target/bin/rt-app /home/brendan/devlib-target/run_dir/one_small_00.json 2>&1\n",
      "2017-01-03 17:39:08,206 INFO    : Executor     : Collected FTrace binary trace:\n",
      "2017-01-03 17:39:08,207 INFO    : Executor     :    <res_dir>/rtapp:energy_aware:one_small/1/trace.dat\n",
      "2017-01-03 17:39:08,209 INFO    : Executor     : Collected FTrace function profiling:\n",
      "2017-01-03 17:39:08,210 INFO    : Executor     :    <res_dir>/rtapp:energy_aware:one_small/1/trace_stat.json\n",
      "2017-01-03 17:39:08,212 INFO    : Executor     : --------------------------------------------------------------------------------\n",
      "2017-01-03 17:39:08,214 INFO    : Executor     : ~~~~~~~~~~~~~~~~~~~~~~~~~~~~~~~~~~~~~~~~~~~~~~~~~~~~~~~~~~~~~~~~~~~~~~~~~~~~~~~~\n",
      "2017-01-03 17:39:08,215 INFO    : Executor     : Experiment 1/5, [energy_aware:one_small] 2/5\n",
      "2017-01-03 17:39:08,223 WARNING : Executor     : FTrace events collection enabled\n"
     ]
    },
    {
     "name": "stdout",
     "output_type": "stream",
     "text": [
      "\n"
     ]
    },
    {
     "name": "stderr",
     "output_type": "stream",
     "text": [
      "2017-01-03 17:39:16,105 INFO    : Workload     : Workload execution START:\n",
      "2017-01-03 17:39:16,106 INFO    : Workload     :    /home/brendan/devlib-target/bin/rt-app /home/brendan/devlib-target/run_dir/one_small_00.json 2>&1\n",
      "2017-01-03 17:39:28,206 INFO    : Executor     : Collected FTrace binary trace:\n",
      "2017-01-03 17:39:28,208 INFO    : Executor     :    <res_dir>/rtapp:energy_aware:one_small/2/trace.dat\n",
      "2017-01-03 17:39:28,209 INFO    : Executor     : Collected FTrace function profiling:\n",
      "2017-01-03 17:39:28,211 INFO    : Executor     :    <res_dir>/rtapp:energy_aware:one_small/2/trace_stat.json\n",
      "2017-01-03 17:39:28,212 INFO    : Executor     : --------------------------------------------------------------------------------\n",
      "2017-01-03 17:39:28,214 INFO    : Executor     : ~~~~~~~~~~~~~~~~~~~~~~~~~~~~~~~~~~~~~~~~~~~~~~~~~~~~~~~~~~~~~~~~~~~~~~~~~~~~~~~~\n",
      "2017-01-03 17:39:28,216 INFO    : Executor     : Experiment 2/5, [energy_aware:one_small] 3/5\n",
      "2017-01-03 17:39:28,223 WARNING : Executor     : FTrace events collection enabled\n"
     ]
    },
    {
     "name": "stdout",
     "output_type": "stream",
     "text": [
      "\n"
     ]
    },
    {
     "name": "stderr",
     "output_type": "stream",
     "text": [
      "2017-01-03 17:39:36,093 INFO    : Workload     : Workload execution START:\n",
      "2017-01-03 17:39:36,094 INFO    : Workload     :    /home/brendan/devlib-target/bin/rt-app /home/brendan/devlib-target/run_dir/one_small_00.json 2>&1\n",
      "2017-01-03 17:39:48,224 INFO    : Executor     : Collected FTrace binary trace:\n",
      "2017-01-03 17:39:48,226 INFO    : Executor     :    <res_dir>/rtapp:energy_aware:one_small/3/trace.dat\n",
      "2017-01-03 17:39:48,227 INFO    : Executor     : Collected FTrace function profiling:\n",
      "2017-01-03 17:39:48,228 INFO    : Executor     :    <res_dir>/rtapp:energy_aware:one_small/3/trace_stat.json\n",
      "2017-01-03 17:39:48,229 INFO    : Executor     : --------------------------------------------------------------------------------\n",
      "2017-01-03 17:39:48,230 INFO    : Executor     : ~~~~~~~~~~~~~~~~~~~~~~~~~~~~~~~~~~~~~~~~~~~~~~~~~~~~~~~~~~~~~~~~~~~~~~~~~~~~~~~~\n",
      "2017-01-03 17:39:48,231 INFO    : Executor     : Experiment 3/5, [energy_aware:one_small] 4/5\n",
      "2017-01-03 17:39:48,237 WARNING : Executor     : FTrace events collection enabled\n"
     ]
    },
    {
     "name": "stdout",
     "output_type": "stream",
     "text": [
      "\n"
     ]
    },
    {
     "name": "stderr",
     "output_type": "stream",
     "text": [
      "2017-01-03 17:39:56,164 INFO    : Workload     : Workload execution START:\n",
      "2017-01-03 17:39:56,165 INFO    : Workload     :    /home/brendan/devlib-target/bin/rt-app /home/brendan/devlib-target/run_dir/one_small_00.json 2>&1\n",
      "2017-01-03 17:40:08,254 INFO    : Executor     : Collected FTrace binary trace:\n",
      "2017-01-03 17:40:08,256 INFO    : Executor     :    <res_dir>/rtapp:energy_aware:one_small/4/trace.dat\n",
      "2017-01-03 17:40:08,258 INFO    : Executor     : Collected FTrace function profiling:\n",
      "2017-01-03 17:40:08,259 INFO    : Executor     :    <res_dir>/rtapp:energy_aware:one_small/4/trace_stat.json\n",
      "2017-01-03 17:40:08,260 INFO    : Executor     : --------------------------------------------------------------------------------\n",
      "2017-01-03 17:40:08,261 INFO    : Executor     : ~~~~~~~~~~~~~~~~~~~~~~~~~~~~~~~~~~~~~~~~~~~~~~~~~~~~~~~~~~~~~~~~~~~~~~~~~~~~~~~~\n",
      "2017-01-03 17:40:08,262 INFO    : Executor     : Experiment 4/5, [energy_aware:one_small] 5/5\n",
      "2017-01-03 17:40:08,269 WARNING : Executor     : FTrace events collection enabled\n"
     ]
    },
    {
     "name": "stdout",
     "output_type": "stream",
     "text": [
      "\n"
     ]
    },
    {
     "name": "stderr",
     "output_type": "stream",
     "text": [
      "2017-01-03 17:40:16,127 INFO    : Workload     : Workload execution START:\n",
      "2017-01-03 17:40:16,128 INFO    : Workload     :    /home/brendan/devlib-target/bin/rt-app /home/brendan/devlib-target/run_dir/one_small_00.json 2>&1\n",
      "2017-01-03 17:40:28,576 INFO    : Executor     : Collected FTrace binary trace:\n",
      "2017-01-03 17:40:28,578 INFO    : Executor     :    <res_dir>/rtapp:energy_aware:one_small/5/trace.dat\n",
      "2017-01-03 17:40:28,579 INFO    : Executor     : Collected FTrace function profiling:\n",
      "2017-01-03 17:40:28,580 INFO    : Executor     :    <res_dir>/rtapp:energy_aware:one_small/5/trace_stat.json\n",
      "2017-01-03 17:40:28,581 INFO    : Executor     : --------------------------------------------------------------------------------\n",
      "2017-01-03 17:40:28,582 INFO    : Executor     : \n",
      "2017-01-03 17:40:28,583 INFO    : Executor     : ################################################################################\n",
      "2017-01-03 17:40:28,584 INFO    : Executor     : Experiments execution completed\n",
      "2017-01-03 17:40:28,585 INFO    : Executor     : ################################################################################\n",
      "2017-01-03 17:40:28,586 INFO    : Executor     : Results available in:\n",
      "2017-01-03 17:40:28,587 INFO    : Executor     :       /home/brejac01/sources/lisa/results/20170103_173842\n",
      "2017-01-03 17:40:28,588 INFO    : LisaTest     : Setup tests execution engine...\n",
      "2017-01-03 17:40:28,589 INFO    : Executor     : Loading custom (inline) test configuration\n",
      "2017-01-03 17:40:28,590 INFO    : Executor     : \n",
      "2017-01-03 17:40:28,591 INFO    : Executor     : ################################################################################\n",
      "2017-01-03 17:40:28,592 INFO    : Executor     : Experiments configuration\n",
      "2017-01-03 17:40:28,593 INFO    : Executor     : ################################################################################\n",
      "2017-01-03 17:40:28,594 INFO    : Executor     : Configured to run:\n",
      "2017-01-03 17:40:28,595 INFO    : Executor     :      1 target configurations:\n",
      "2017-01-03 17:40:28,595 INFO    : Executor     :       energy_aware\n",
      "2017-01-03 17:40:28,596 INFO    : Executor     :      1 workloads (5 iterations each)\n",
      "2017-01-03 17:40:28,597 INFO    : Executor     :       three_small\n",
      "2017-01-03 17:40:28,598 INFO    : Executor     : Total: 5 experiments\n",
      "2017-01-03 17:40:28,599 INFO    : Executor     : Results will be collected under:\n",
      "2017-01-03 17:40:28,600 INFO    : Executor     :       /home/brejac01/sources/lisa/results/20170103_173842\n",
      "2017-01-03 17:40:28,601 INFO    : Executor     : rt-app workloads found, installing tool on target\n",
      "2017-01-03 17:40:30,005 INFO    : LisaTest     : Experiments execution...\n",
      "2017-01-03 17:40:30,007 INFO    : Executor     : \n",
      "2017-01-03 17:40:30,008 INFO    : Executor     : ################################################################################\n",
      "2017-01-03 17:40:30,009 INFO    : Executor     : Experiments execution\n",
      "2017-01-03 17:40:30,010 INFO    : Executor     : ################################################################################\n",
      "2017-01-03 17:40:30,011 INFO    : Executor     : \n",
      "2017-01-03 17:40:30,012 INFO    : Executor     : ================================================================================\n",
      "2017-01-03 17:40:30,013 INFO    : Executor     : configuring target for [energy_aware] experiments\n",
      "2017-01-03 17:40:31,728 INFO    : Executor     : Set scheduler feature: ENERGY_AWARE\n",
      "2017-01-03 17:40:32,633 WARNING : Executor     : cpufreq governor not specified, using currently configured governor\n",
      "2017-01-03 17:40:32,634 INFO    : Workload     : Setup new workload three_small\n",
      "2017-01-03 17:40:32,635 INFO    : Workload     : Workload duration defined by longest task\n",
      "2017-01-03 17:40:32,636 INFO    : Workload     : Default policy: SCHED_OTHER\n",
      "2017-01-03 17:40:32,637 INFO    : Workload     : ------------------------\n",
      "2017-01-03 17:40:32,638 INFO    : Workload     : task [many0], sched: using default policy\n",
      "2017-01-03 17:40:32,639 INFO    : Workload     :  | calibration CPU: 1\n",
      "2017-01-03 17:40:32,640 INFO    : Workload     :  | loops count: 1\n",
      "2017-01-03 17:40:32,641 INFO    : Workload     : + phase_000001: duration 5.000000 [s] (500 loops)\n",
      "2017-01-03 17:40:32,642 INFO    : Workload     : |  period    10000 [us], duty_cycle  20 %\n",
      "2017-01-03 17:40:32,643 INFO    : Workload     : |  run_time   2000 [us], sleep_time   8000 [us]\n",
      "2017-01-03 17:40:32,644 INFO    : Workload     : ------------------------\n",
      "2017-01-03 17:40:32,645 INFO    : Workload     : task [many1], sched: using default policy\n",
      "2017-01-03 17:40:32,646 INFO    : Workload     :  | calibration CPU: 1\n",
      "2017-01-03 17:40:32,647 INFO    : Workload     :  | loops count: 1\n",
      "2017-01-03 17:40:32,648 INFO    : Workload     : + phase_000001: duration 5.000000 [s] (500 loops)\n",
      "2017-01-03 17:40:32,649 INFO    : Workload     : |  period    10000 [us], duty_cycle  20 %\n",
      "2017-01-03 17:40:32,650 INFO    : Workload     : |  run_time   2000 [us], sleep_time   8000 [us]\n",
      "2017-01-03 17:40:32,652 INFO    : Workload     : ------------------------\n",
      "2017-01-03 17:40:32,652 INFO    : Workload     : task [many2], sched: using default policy\n",
      "2017-01-03 17:40:32,653 INFO    : Workload     :  | calibration CPU: 1\n",
      "2017-01-03 17:40:32,654 INFO    : Workload     :  | loops count: 1\n",
      "2017-01-03 17:40:32,656 INFO    : Workload     : + phase_000001: duration 5.000000 [s] (500 loops)\n",
      "2017-01-03 17:40:32,656 INFO    : Workload     : |  period    10000 [us], duty_cycle  20 %\n",
      "2017-01-03 17:40:32,657 INFO    : Workload     : |  run_time   2000 [us], sleep_time   8000 [us]\n",
      "2017-01-03 17:40:33,232 INFO    : Executor     : ~~~~~~~~~~~~~~~~~~~~~~~~~~~~~~~~~~~~~~~~~~~~~~~~~~~~~~~~~~~~~~~~~~~~~~~~~~~~~~~~\n",
      "2017-01-03 17:40:33,234 INFO    : Executor     : Experiment 0/5, [energy_aware:three_small] 1/5\n",
      "2017-01-03 17:40:33,242 WARNING : Executor     : FTrace events collection enabled\n"
     ]
    },
    {
     "name": "stdout",
     "output_type": "stream",
     "text": [
      "\n"
     ]
    },
    {
     "name": "stderr",
     "output_type": "stream",
     "text": [
      "2017-01-03 17:40:41,171 INFO    : Workload     : Workload execution START:\n",
      "2017-01-03 17:40:41,173 INFO    : Workload     :    /home/brendan/devlib-target/bin/rt-app /home/brendan/devlib-target/run_dir/three_small_00.json 2>&1\n",
      "2017-01-03 17:40:53,750 INFO    : Executor     : Collected FTrace binary trace:\n",
      "2017-01-03 17:40:53,752 INFO    : Executor     :    <res_dir>/rtapp:energy_aware:three_small/1/trace.dat\n",
      "2017-01-03 17:40:53,753 INFO    : Executor     : Collected FTrace function profiling:\n",
      "2017-01-03 17:40:53,754 INFO    : Executor     :    <res_dir>/rtapp:energy_aware:three_small/1/trace_stat.json\n",
      "2017-01-03 17:40:53,755 INFO    : Executor     : --------------------------------------------------------------------------------\n",
      "2017-01-03 17:40:53,757 INFO    : Executor     : ~~~~~~~~~~~~~~~~~~~~~~~~~~~~~~~~~~~~~~~~~~~~~~~~~~~~~~~~~~~~~~~~~~~~~~~~~~~~~~~~\n",
      "2017-01-03 17:40:53,758 INFO    : Executor     : Experiment 1/5, [energy_aware:three_small] 2/5\n",
      "2017-01-03 17:40:53,765 WARNING : Executor     : FTrace events collection enabled\n"
     ]
    },
    {
     "name": "stdout",
     "output_type": "stream",
     "text": [
      "\n"
     ]
    },
    {
     "name": "stderr",
     "output_type": "stream",
     "text": [
      "2017-01-03 17:41:01,609 INFO    : Workload     : Workload execution START:\n",
      "2017-01-03 17:41:01,610 INFO    : Workload     :    /home/brendan/devlib-target/bin/rt-app /home/brendan/devlib-target/run_dir/three_small_00.json 2>&1\n",
      "2017-01-03 17:41:14,111 INFO    : Executor     : Collected FTrace binary trace:\n",
      "2017-01-03 17:41:14,113 INFO    : Executor     :    <res_dir>/rtapp:energy_aware:three_small/2/trace.dat\n",
      "2017-01-03 17:41:14,114 INFO    : Executor     : Collected FTrace function profiling:\n",
      "2017-01-03 17:41:14,115 INFO    : Executor     :    <res_dir>/rtapp:energy_aware:three_small/2/trace_stat.json\n",
      "2017-01-03 17:41:14,116 INFO    : Executor     : --------------------------------------------------------------------------------\n",
      "2017-01-03 17:41:14,117 INFO    : Executor     : ~~~~~~~~~~~~~~~~~~~~~~~~~~~~~~~~~~~~~~~~~~~~~~~~~~~~~~~~~~~~~~~~~~~~~~~~~~~~~~~~\n",
      "2017-01-03 17:41:14,118 INFO    : Executor     : Experiment 2/5, [energy_aware:three_small] 3/5\n",
      "2017-01-03 17:41:14,126 WARNING : Executor     : FTrace events collection enabled\n"
     ]
    },
    {
     "name": "stdout",
     "output_type": "stream",
     "text": [
      "\n"
     ]
    },
    {
     "name": "stderr",
     "output_type": "stream",
     "text": [
      "2017-01-03 17:41:21,989 INFO    : Workload     : Workload execution START:\n",
      "2017-01-03 17:41:21,990 INFO    : Workload     :    /home/brendan/devlib-target/bin/rt-app /home/brendan/devlib-target/run_dir/three_small_00.json 2>&1\n",
      "2017-01-03 17:41:35,014 INFO    : Executor     : Collected FTrace binary trace:\n",
      "2017-01-03 17:41:35,016 INFO    : Executor     :    <res_dir>/rtapp:energy_aware:three_small/3/trace.dat\n",
      "2017-01-03 17:41:35,017 INFO    : Executor     : Collected FTrace function profiling:\n",
      "2017-01-03 17:41:35,019 INFO    : Executor     :    <res_dir>/rtapp:energy_aware:three_small/3/trace_stat.json\n",
      "2017-01-03 17:41:35,020 INFO    : Executor     : --------------------------------------------------------------------------------\n",
      "2017-01-03 17:41:35,021 INFO    : Executor     : ~~~~~~~~~~~~~~~~~~~~~~~~~~~~~~~~~~~~~~~~~~~~~~~~~~~~~~~~~~~~~~~~~~~~~~~~~~~~~~~~\n",
      "2017-01-03 17:41:35,022 INFO    : Executor     : Experiment 3/5, [energy_aware:three_small] 4/5\n",
      "2017-01-03 17:41:35,030 WARNING : Executor     : FTrace events collection enabled\n"
     ]
    },
    {
     "name": "stdout",
     "output_type": "stream",
     "text": [
      "\n"
     ]
    },
    {
     "name": "stderr",
     "output_type": "stream",
     "text": [
      "2017-01-03 17:41:42,975 INFO    : Workload     : Workload execution START:\n",
      "2017-01-03 17:41:42,976 INFO    : Workload     :    /home/brendan/devlib-target/bin/rt-app /home/brendan/devlib-target/run_dir/three_small_00.json 2>&1\n",
      "2017-01-03 17:41:55,461 INFO    : Executor     : Collected FTrace binary trace:\n",
      "2017-01-03 17:41:55,463 INFO    : Executor     :    <res_dir>/rtapp:energy_aware:three_small/4/trace.dat\n",
      "2017-01-03 17:41:55,464 INFO    : Executor     : Collected FTrace function profiling:\n",
      "2017-01-03 17:41:55,465 INFO    : Executor     :    <res_dir>/rtapp:energy_aware:three_small/4/trace_stat.json\n",
      "2017-01-03 17:41:55,466 INFO    : Executor     : --------------------------------------------------------------------------------\n",
      "2017-01-03 17:41:55,468 INFO    : Executor     : ~~~~~~~~~~~~~~~~~~~~~~~~~~~~~~~~~~~~~~~~~~~~~~~~~~~~~~~~~~~~~~~~~~~~~~~~~~~~~~~~\n",
      "2017-01-03 17:41:55,469 INFO    : Executor     : Experiment 4/5, [energy_aware:three_small] 5/5\n",
      "2017-01-03 17:41:55,476 WARNING : Executor     : FTrace events collection enabled\n"
     ]
    },
    {
     "name": "stdout",
     "output_type": "stream",
     "text": [
      "\n"
     ]
    },
    {
     "name": "stderr",
     "output_type": "stream",
     "text": [
      "2017-01-03 17:42:03,356 INFO    : Workload     : Workload execution START:\n",
      "2017-01-03 17:42:03,357 INFO    : Workload     :    /home/brendan/devlib-target/bin/rt-app /home/brendan/devlib-target/run_dir/three_small_00.json 2>&1\n",
      "2017-01-03 17:42:15,932 INFO    : Executor     : Collected FTrace binary trace:\n",
      "2017-01-03 17:42:15,934 INFO    : Executor     :    <res_dir>/rtapp:energy_aware:three_small/5/trace.dat\n",
      "2017-01-03 17:42:15,935 INFO    : Executor     : Collected FTrace function profiling:\n",
      "2017-01-03 17:42:15,936 INFO    : Executor     :    <res_dir>/rtapp:energy_aware:three_small/5/trace_stat.json\n",
      "2017-01-03 17:42:15,937 INFO    : Executor     : --------------------------------------------------------------------------------\n",
      "2017-01-03 17:42:15,938 INFO    : Executor     : \n",
      "2017-01-03 17:42:15,939 INFO    : Executor     : ################################################################################\n",
      "2017-01-03 17:42:15,941 INFO    : Executor     : Experiments execution completed\n",
      "2017-01-03 17:42:15,942 INFO    : Executor     : ################################################################################\n",
      "2017-01-03 17:42:15,943 INFO    : Executor     : Results available in:\n",
      "2017-01-03 17:42:15,944 INFO    : Executor     :       /home/brejac01/sources/lisa/results/20170103_173842\n",
      "2017-01-03 17:42:15,945 INFO    : LisaTest     : Setup tests execution engine...\n",
      "2017-01-03 17:42:15,946 INFO    : Executor     : Loading custom (inline) test configuration\n",
      "2017-01-03 17:42:15,947 INFO    : Executor     : \n",
      "2017-01-03 17:42:15,948 INFO    : Executor     : ################################################################################\n",
      "2017-01-03 17:42:15,949 INFO    : Executor     : Experiments configuration\n",
      "2017-01-03 17:42:15,950 INFO    : Executor     : ################################################################################\n",
      "2017-01-03 17:42:15,951 INFO    : Executor     : Configured to run:\n",
      "2017-01-03 17:42:15,952 INFO    : Executor     :      1 target configurations:\n",
      "2017-01-03 17:42:15,953 INFO    : Executor     :       energy_aware\n",
      "2017-01-03 17:42:15,954 INFO    : Executor     :      1 workloads (5 iterations each)\n",
      "2017-01-03 17:42:15,955 INFO    : Executor     :       two_big\n",
      "2017-01-03 17:42:15,956 INFO    : Executor     : Total: 5 experiments\n",
      "2017-01-03 17:42:15,957 INFO    : Executor     : Results will be collected under:\n",
      "2017-01-03 17:42:15,958 INFO    : Executor     :       /home/brejac01/sources/lisa/results/20170103_173842\n",
      "2017-01-03 17:42:15,959 INFO    : Executor     : rt-app workloads found, installing tool on target\n",
      "2017-01-03 17:42:17,363 INFO    : LisaTest     : Experiments execution...\n",
      "2017-01-03 17:42:17,364 INFO    : Executor     : \n",
      "2017-01-03 17:42:17,365 INFO    : Executor     : ################################################################################\n",
      "2017-01-03 17:42:17,367 INFO    : Executor     : Experiments execution\n",
      "2017-01-03 17:42:17,368 INFO    : Executor     : ################################################################################\n",
      "2017-01-03 17:42:17,369 INFO    : Executor     : \n",
      "2017-01-03 17:42:17,370 INFO    : Executor     : ================================================================================\n",
      "2017-01-03 17:42:17,371 INFO    : Executor     : configuring target for [energy_aware] experiments\n",
      "2017-01-03 17:42:19,088 INFO    : Executor     : Set scheduler feature: ENERGY_AWARE\n",
      "2017-01-03 17:42:19,993 WARNING : Executor     : cpufreq governor not specified, using currently configured governor\n",
      "2017-01-03 17:42:19,994 INFO    : Workload     : Setup new workload two_big\n",
      "2017-01-03 17:42:19,996 INFO    : Workload     : Workload duration defined by longest task\n",
      "2017-01-03 17:42:19,997 INFO    : Workload     : Default policy: SCHED_OTHER\n",
      "2017-01-03 17:42:19,998 INFO    : Workload     : ------------------------\n",
      "2017-01-03 17:42:19,999 INFO    : Workload     : task [many0], sched: using default policy\n",
      "2017-01-03 17:42:20,000 INFO    : Workload     :  | calibration CPU: 1\n",
      "2017-01-03 17:42:20,001 INFO    : Workload     :  | loops count: 1\n",
      "2017-01-03 17:42:20,002 INFO    : Workload     : + phase_000001: duration 5.000000 [s] (500 loops)\n",
      "2017-01-03 17:42:20,003 INFO    : Workload     : |  period    10000 [us], duty_cycle  80 %\n",
      "2017-01-03 17:42:20,004 INFO    : Workload     : |  run_time   8000 [us], sleep_time   2000 [us]\n",
      "2017-01-03 17:42:20,005 INFO    : Workload     : ------------------------\n",
      "2017-01-03 17:42:20,006 INFO    : Workload     : task [many1], sched: using default policy\n",
      "2017-01-03 17:42:20,007 INFO    : Workload     :  | calibration CPU: 1\n",
      "2017-01-03 17:42:20,008 INFO    : Workload     :  | loops count: 1\n",
      "2017-01-03 17:42:20,009 INFO    : Workload     : + phase_000001: duration 5.000000 [s] (500 loops)\n",
      "2017-01-03 17:42:20,010 INFO    : Workload     : |  period    10000 [us], duty_cycle  80 %\n",
      "2017-01-03 17:42:20,011 INFO    : Workload     : |  run_time   8000 [us], sleep_time   2000 [us]\n",
      "2017-01-03 17:42:20,595 INFO    : Executor     : ~~~~~~~~~~~~~~~~~~~~~~~~~~~~~~~~~~~~~~~~~~~~~~~~~~~~~~~~~~~~~~~~~~~~~~~~~~~~~~~~\n",
      "2017-01-03 17:42:20,597 INFO    : Executor     : Experiment 0/5, [energy_aware:two_big] 1/5\n",
      "2017-01-03 17:42:20,604 WARNING : Executor     : FTrace events collection enabled\n"
     ]
    },
    {
     "name": "stdout",
     "output_type": "stream",
     "text": [
      "\n"
     ]
    },
    {
     "name": "stderr",
     "output_type": "stream",
     "text": [
      "2017-01-03 17:42:28,418 INFO    : Workload     : Workload execution START:\n",
      "2017-01-03 17:42:28,419 INFO    : Workload     :    /home/brendan/devlib-target/bin/rt-app /home/brendan/devlib-target/run_dir/two_big_00.json 2>&1\n",
      "2017-01-03 17:42:40,663 INFO    : Executor     : Collected FTrace binary trace:\n",
      "2017-01-03 17:42:40,665 INFO    : Executor     :    <res_dir>/rtapp:energy_aware:two_big/1/trace.dat\n",
      "2017-01-03 17:42:40,666 INFO    : Executor     : Collected FTrace function profiling:\n",
      "2017-01-03 17:42:40,667 INFO    : Executor     :    <res_dir>/rtapp:energy_aware:two_big/1/trace_stat.json\n",
      "2017-01-03 17:42:40,668 INFO    : Executor     : --------------------------------------------------------------------------------\n",
      "2017-01-03 17:42:40,670 INFO    : Executor     : ~~~~~~~~~~~~~~~~~~~~~~~~~~~~~~~~~~~~~~~~~~~~~~~~~~~~~~~~~~~~~~~~~~~~~~~~~~~~~~~~\n",
      "2017-01-03 17:42:40,671 INFO    : Executor     : Experiment 1/5, [energy_aware:two_big] 2/5\n",
      "2017-01-03 17:42:40,678 WARNING : Executor     : FTrace events collection enabled\n"
     ]
    },
    {
     "name": "stdout",
     "output_type": "stream",
     "text": [
      "\n"
     ]
    },
    {
     "name": "stderr",
     "output_type": "stream",
     "text": [
      "2017-01-03 17:42:48,519 INFO    : Workload     : Workload execution START:\n",
      "2017-01-03 17:42:48,520 INFO    : Workload     :    /home/brendan/devlib-target/bin/rt-app /home/brendan/devlib-target/run_dir/two_big_00.json 2>&1\n",
      "2017-01-03 17:43:00,877 INFO    : Executor     : Collected FTrace binary trace:\n",
      "2017-01-03 17:43:00,879 INFO    : Executor     :    <res_dir>/rtapp:energy_aware:two_big/2/trace.dat\n",
      "2017-01-03 17:43:00,881 INFO    : Executor     : Collected FTrace function profiling:\n",
      "2017-01-03 17:43:00,882 INFO    : Executor     :    <res_dir>/rtapp:energy_aware:two_big/2/trace_stat.json\n",
      "2017-01-03 17:43:00,883 INFO    : Executor     : --------------------------------------------------------------------------------\n",
      "2017-01-03 17:43:00,884 INFO    : Executor     : ~~~~~~~~~~~~~~~~~~~~~~~~~~~~~~~~~~~~~~~~~~~~~~~~~~~~~~~~~~~~~~~~~~~~~~~~~~~~~~~~\n",
      "2017-01-03 17:43:00,885 INFO    : Executor     : Experiment 2/5, [energy_aware:two_big] 3/5\n",
      "2017-01-03 17:43:00,893 WARNING : Executor     : FTrace events collection enabled\n"
     ]
    },
    {
     "name": "stdout",
     "output_type": "stream",
     "text": [
      "\n"
     ]
    },
    {
     "name": "stderr",
     "output_type": "stream",
     "text": [
      "2017-01-03 17:43:08,731 INFO    : Workload     : Workload execution START:\n",
      "2017-01-03 17:43:08,732 INFO    : Workload     :    /home/brendan/devlib-target/bin/rt-app /home/brendan/devlib-target/run_dir/two_big_00.json 2>&1\n",
      "2017-01-03 17:43:21,038 INFO    : Executor     : Collected FTrace binary trace:\n",
      "2017-01-03 17:43:21,040 INFO    : Executor     :    <res_dir>/rtapp:energy_aware:two_big/3/trace.dat\n",
      "2017-01-03 17:43:21,041 INFO    : Executor     : Collected FTrace function profiling:\n",
      "2017-01-03 17:43:21,042 INFO    : Executor     :    <res_dir>/rtapp:energy_aware:two_big/3/trace_stat.json\n",
      "2017-01-03 17:43:21,043 INFO    : Executor     : --------------------------------------------------------------------------------\n",
      "2017-01-03 17:43:21,045 INFO    : Executor     : ~~~~~~~~~~~~~~~~~~~~~~~~~~~~~~~~~~~~~~~~~~~~~~~~~~~~~~~~~~~~~~~~~~~~~~~~~~~~~~~~\n",
      "2017-01-03 17:43:21,046 INFO    : Executor     : Experiment 3/5, [energy_aware:two_big] 4/5\n",
      "2017-01-03 17:43:21,053 WARNING : Executor     : FTrace events collection enabled\n"
     ]
    },
    {
     "name": "stdout",
     "output_type": "stream",
     "text": [
      "\n"
     ]
    },
    {
     "name": "stderr",
     "output_type": "stream",
     "text": [
      "2017-01-03 17:43:28,928 INFO    : Workload     : Workload execution START:\n",
      "2017-01-03 17:43:28,929 INFO    : Workload     :    /home/brendan/devlib-target/bin/rt-app /home/brendan/devlib-target/run_dir/two_big_00.json 2>&1\n",
      "2017-01-03 17:43:41,261 INFO    : Executor     : Collected FTrace binary trace:\n",
      "2017-01-03 17:43:41,263 INFO    : Executor     :    <res_dir>/rtapp:energy_aware:two_big/4/trace.dat\n",
      "2017-01-03 17:43:41,264 INFO    : Executor     : Collected FTrace function profiling:\n",
      "2017-01-03 17:43:41,265 INFO    : Executor     :    <res_dir>/rtapp:energy_aware:two_big/4/trace_stat.json\n",
      "2017-01-03 17:43:41,266 INFO    : Executor     : --------------------------------------------------------------------------------\n",
      "2017-01-03 17:43:41,268 INFO    : Executor     : ~~~~~~~~~~~~~~~~~~~~~~~~~~~~~~~~~~~~~~~~~~~~~~~~~~~~~~~~~~~~~~~~~~~~~~~~~~~~~~~~\n",
      "2017-01-03 17:43:41,269 INFO    : Executor     : Experiment 4/5, [energy_aware:two_big] 5/5\n",
      "2017-01-03 17:43:41,276 WARNING : Executor     : FTrace events collection enabled\n"
     ]
    },
    {
     "name": "stdout",
     "output_type": "stream",
     "text": [
      "\n"
     ]
    },
    {
     "name": "stderr",
     "output_type": "stream",
     "text": [
      "2017-01-03 17:43:49,128 INFO    : Workload     : Workload execution START:\n",
      "2017-01-03 17:43:49,129 INFO    : Workload     :    /home/brendan/devlib-target/bin/rt-app /home/brendan/devlib-target/run_dir/two_big_00.json 2>&1\n",
      "2017-01-03 17:44:01,351 INFO    : Executor     : Collected FTrace binary trace:\n",
      "2017-01-03 17:44:01,353 INFO    : Executor     :    <res_dir>/rtapp:energy_aware:two_big/5/trace.dat\n",
      "2017-01-03 17:44:01,354 INFO    : Executor     : Collected FTrace function profiling:\n",
      "2017-01-03 17:44:01,356 INFO    : Executor     :    <res_dir>/rtapp:energy_aware:two_big/5/trace_stat.json\n",
      "2017-01-03 17:44:01,357 INFO    : Executor     : --------------------------------------------------------------------------------\n",
      "2017-01-03 17:44:01,359 INFO    : Executor     : \n",
      "2017-01-03 17:44:01,360 INFO    : Executor     : ################################################################################\n",
      "2017-01-03 17:44:01,361 INFO    : Executor     : Experiments execution completed\n",
      "2017-01-03 17:44:01,363 INFO    : Executor     : ################################################################################\n",
      "2017-01-03 17:44:01,364 INFO    : Executor     : Results available in:\n",
      "2017-01-03 17:44:01,365 INFO    : Executor     :       /home/brejac01/sources/lisa/results/20170103_173842\n",
      "2017-01-03 17:44:01,367 INFO    : LisaTest     : Setup tests execution engine...\n",
      "2017-01-03 17:44:01,368 INFO    : Executor     : Loading custom (inline) test configuration\n",
      "2017-01-03 17:44:01,369 INFO    : Executor     : \n",
      "2017-01-03 17:44:01,370 INFO    : Executor     : ################################################################################\n",
      "2017-01-03 17:44:01,371 INFO    : Executor     : Experiments configuration\n",
      "2017-01-03 17:44:01,372 INFO    : Executor     : ################################################################################\n",
      "2017-01-03 17:44:01,373 INFO    : Executor     : Configured to run:\n",
      "2017-01-03 17:44:01,374 INFO    : Executor     :      1 target configurations:\n",
      "2017-01-03 17:44:01,375 INFO    : Executor     :       energy_aware\n",
      "2017-01-03 17:44:01,376 INFO    : Executor     :      1 workloads (5 iterations each)\n",
      "2017-01-03 17:44:01,377 INFO    : Executor     :       two_big_three_small\n",
      "2017-01-03 17:44:01,378 INFO    : Executor     : Total: 5 experiments\n",
      "2017-01-03 17:44:01,379 INFO    : Executor     : Results will be collected under:\n",
      "2017-01-03 17:44:01,380 INFO    : Executor     :       /home/brejac01/sources/lisa/results/20170103_173842\n",
      "2017-01-03 17:44:01,381 INFO    : Executor     : rt-app workloads found, installing tool on target\n",
      "2017-01-03 17:44:02,785 INFO    : LisaTest     : Experiments execution...\n",
      "2017-01-03 17:44:02,786 INFO    : Executor     : \n",
      "2017-01-03 17:44:02,787 INFO    : Executor     : ################################################################################\n",
      "2017-01-03 17:44:02,789 INFO    : Executor     : Experiments execution\n",
      "2017-01-03 17:44:02,790 INFO    : Executor     : ################################################################################\n",
      "2017-01-03 17:44:02,791 INFO    : Executor     : \n",
      "2017-01-03 17:44:02,793 INFO    : Executor     : ================================================================================\n",
      "2017-01-03 17:44:02,794 INFO    : Executor     : configuring target for [energy_aware] experiments\n",
      "2017-01-03 17:44:04,511 INFO    : Executor     : Set scheduler feature: ENERGY_AWARE\n",
      "2017-01-03 17:44:05,417 WARNING : Executor     : cpufreq governor not specified, using currently configured governor\n",
      "2017-01-03 17:44:05,418 INFO    : Workload     : Setup new workload two_big_three_small\n",
      "2017-01-03 17:44:05,420 INFO    : Workload     : Workload duration defined by longest task\n",
      "2017-01-03 17:44:05,421 INFO    : Workload     : Default policy: SCHED_OTHER\n",
      "2017-01-03 17:44:05,422 INFO    : Workload     : ------------------------\n",
      "2017-01-03 17:44:05,423 INFO    : Workload     : task [task_large0], sched: using default policy\n",
      "2017-01-03 17:44:05,425 INFO    : Workload     :  | calibration CPU: 1\n",
      "2017-01-03 17:44:05,426 INFO    : Workload     :  | loops count: 1\n",
      "2017-01-03 17:44:05,427 INFO    : Workload     : + phase_000001: duration 5.000000 [s] (500 loops)\n",
      "2017-01-03 17:44:05,428 INFO    : Workload     : |  period    10000 [us], duty_cycle  70 %\n",
      "2017-01-03 17:44:05,430 INFO    : Workload     : |  run_time   7000 [us], sleep_time   3000 [us]\n",
      "2017-01-03 17:44:05,431 INFO    : Workload     : ------------------------\n",
      "2017-01-03 17:44:05,432 INFO    : Workload     : task [task_large1], sched: using default policy\n",
      "2017-01-03 17:44:05,433 INFO    : Workload     :  | calibration CPU: 1\n",
      "2017-01-03 17:44:05,435 INFO    : Workload     :  | loops count: 1\n",
      "2017-01-03 17:44:05,436 INFO    : Workload     : + phase_000001: duration 5.000000 [s] (500 loops)\n",
      "2017-01-03 17:44:05,437 INFO    : Workload     : |  period    10000 [us], duty_cycle  70 %\n",
      "2017-01-03 17:44:05,439 INFO    : Workload     : |  run_time   7000 [us], sleep_time   3000 [us]\n",
      "2017-01-03 17:44:05,440 INFO    : Workload     : ------------------------\n",
      "2017-01-03 17:44:05,441 INFO    : Workload     : task [task_small0], sched: using default policy\n",
      "2017-01-03 17:44:05,443 INFO    : Workload     :  | calibration CPU: 1\n",
      "2017-01-03 17:44:05,444 INFO    : Workload     :  | loops count: 1\n",
      "2017-01-03 17:44:05,445 INFO    : Workload     : + phase_000001: duration 5.000000 [s] (500 loops)\n",
      "2017-01-03 17:44:05,447 INFO    : Workload     : |  period    10000 [us], duty_cycle  10 %\n",
      "2017-01-03 17:44:05,448 INFO    : Workload     : |  run_time   1000 [us], sleep_time   9000 [us]\n",
      "2017-01-03 17:44:05,449 INFO    : Workload     : ------------------------\n",
      "2017-01-03 17:44:05,450 INFO    : Workload     : task [task_small1], sched: using default policy\n",
      "2017-01-03 17:44:05,451 INFO    : Workload     :  | calibration CPU: 1\n",
      "2017-01-03 17:44:05,453 INFO    : Workload     :  | loops count: 1\n",
      "2017-01-03 17:44:05,454 INFO    : Workload     : + phase_000001: duration 5.000000 [s] (500 loops)\n",
      "2017-01-03 17:44:05,455 INFO    : Workload     : |  period    10000 [us], duty_cycle  10 %\n",
      "2017-01-03 17:44:05,456 INFO    : Workload     : |  run_time   1000 [us], sleep_time   9000 [us]\n",
      "2017-01-03 17:44:05,458 INFO    : Workload     : ------------------------\n",
      "2017-01-03 17:44:05,459 INFO    : Workload     : task [task_small2], sched: using default policy\n",
      "2017-01-03 17:44:05,460 INFO    : Workload     :  | calibration CPU: 1\n",
      "2017-01-03 17:44:05,461 INFO    : Workload     :  | loops count: 1\n",
      "2017-01-03 17:44:05,462 INFO    : Workload     : + phase_000001: duration 5.000000 [s] (500 loops)\n",
      "2017-01-03 17:44:05,463 INFO    : Workload     : |  period    10000 [us], duty_cycle  10 %\n",
      "2017-01-03 17:44:05,465 INFO    : Workload     : |  run_time   1000 [us], sleep_time   9000 [us]\n",
      "2017-01-03 17:44:06,047 INFO    : Executor     : ~~~~~~~~~~~~~~~~~~~~~~~~~~~~~~~~~~~~~~~~~~~~~~~~~~~~~~~~~~~~~~~~~~~~~~~~~~~~~~~~\n",
      "2017-01-03 17:44:06,048 INFO    : Executor     : Experiment 0/5, [energy_aware:two_big_three_small] 1/5\n",
      "2017-01-03 17:44:06,057 WARNING : Executor     : FTrace events collection enabled\n"
     ]
    },
    {
     "name": "stdout",
     "output_type": "stream",
     "text": [
      "\n"
     ]
    },
    {
     "name": "stderr",
     "output_type": "stream",
     "text": [
      "2017-01-03 17:44:13,917 INFO    : Workload     : Workload execution START:\n",
      "2017-01-03 17:44:13,919 INFO    : Workload     :    /home/brendan/devlib-target/bin/rt-app /home/brendan/devlib-target/run_dir/two_big_three_small_00.json 2>&1\n",
      "2017-01-03 17:44:28,481 INFO    : Executor     : Collected FTrace binary trace:\n",
      "2017-01-03 17:44:28,483 INFO    : Executor     :    <res_dir>/rtapp:energy_aware:two_big_three_small/1/trace.dat\n",
      "2017-01-03 17:44:28,484 INFO    : Executor     : Collected FTrace function profiling:\n",
      "2017-01-03 17:44:28,485 INFO    : Executor     :    <res_dir>/rtapp:energy_aware:two_big_three_small/1/trace_stat.json\n",
      "2017-01-03 17:44:28,487 INFO    : Executor     : --------------------------------------------------------------------------------\n",
      "2017-01-03 17:44:28,488 INFO    : Executor     : ~~~~~~~~~~~~~~~~~~~~~~~~~~~~~~~~~~~~~~~~~~~~~~~~~~~~~~~~~~~~~~~~~~~~~~~~~~~~~~~~\n",
      "2017-01-03 17:44:28,489 INFO    : Executor     : Experiment 1/5, [energy_aware:two_big_three_small] 2/5\n",
      "2017-01-03 17:44:28,498 WARNING : Executor     : FTrace events collection enabled\n"
     ]
    },
    {
     "name": "stdout",
     "output_type": "stream",
     "text": [
      "\n"
     ]
    },
    {
     "name": "stderr",
     "output_type": "stream",
     "text": [
      "2017-01-03 17:44:36,356 INFO    : Workload     : Workload execution START:\n",
      "2017-01-03 17:44:36,357 INFO    : Workload     :    /home/brendan/devlib-target/bin/rt-app /home/brendan/devlib-target/run_dir/two_big_three_small_00.json 2>&1\n",
      "2017-01-03 17:44:49,237 INFO    : Executor     : Collected FTrace binary trace:\n",
      "2017-01-03 17:44:49,239 INFO    : Executor     :    <res_dir>/rtapp:energy_aware:two_big_three_small/2/trace.dat\n",
      "2017-01-03 17:44:49,240 INFO    : Executor     : Collected FTrace function profiling:\n",
      "2017-01-03 17:44:49,241 INFO    : Executor     :    <res_dir>/rtapp:energy_aware:two_big_three_small/2/trace_stat.json\n",
      "2017-01-03 17:44:49,242 INFO    : Executor     : --------------------------------------------------------------------------------\n",
      "2017-01-03 17:44:49,243 INFO    : Executor     : ~~~~~~~~~~~~~~~~~~~~~~~~~~~~~~~~~~~~~~~~~~~~~~~~~~~~~~~~~~~~~~~~~~~~~~~~~~~~~~~~\n",
      "2017-01-03 17:44:49,244 INFO    : Executor     : Experiment 2/5, [energy_aware:two_big_three_small] 3/5\n",
      "2017-01-03 17:44:49,252 WARNING : Executor     : FTrace events collection enabled\n"
     ]
    },
    {
     "name": "stdout",
     "output_type": "stream",
     "text": [
      "\n"
     ]
    },
    {
     "name": "stderr",
     "output_type": "stream",
     "text": [
      "2017-01-03 17:44:57,100 INFO    : Workload     : Workload execution START:\n",
      "2017-01-03 17:44:57,101 INFO    : Workload     :    /home/brendan/devlib-target/bin/rt-app /home/brendan/devlib-target/run_dir/two_big_three_small_00.json 2>&1\n",
      "2017-01-03 17:45:10,065 INFO    : Executor     : Collected FTrace binary trace:\n",
      "2017-01-03 17:45:10,067 INFO    : Executor     :    <res_dir>/rtapp:energy_aware:two_big_three_small/3/trace.dat\n",
      "2017-01-03 17:45:10,069 INFO    : Executor     : Collected FTrace function profiling:\n",
      "2017-01-03 17:45:10,070 INFO    : Executor     :    <res_dir>/rtapp:energy_aware:two_big_three_small/3/trace_stat.json\n",
      "2017-01-03 17:45:10,072 INFO    : Executor     : --------------------------------------------------------------------------------\n",
      "2017-01-03 17:45:10,074 INFO    : Executor     : ~~~~~~~~~~~~~~~~~~~~~~~~~~~~~~~~~~~~~~~~~~~~~~~~~~~~~~~~~~~~~~~~~~~~~~~~~~~~~~~~\n",
      "2017-01-03 17:45:10,075 INFO    : Executor     : Experiment 3/5, [energy_aware:two_big_three_small] 4/5\n",
      "2017-01-03 17:45:10,083 WARNING : Executor     : FTrace events collection enabled\n"
     ]
    },
    {
     "name": "stdout",
     "output_type": "stream",
     "text": [
      "\n"
     ]
    },
    {
     "name": "stderr",
     "output_type": "stream",
     "text": [
      "2017-01-03 17:45:17,945 INFO    : Workload     : Workload execution START:\n",
      "2017-01-03 17:45:17,946 INFO    : Workload     :    /home/brendan/devlib-target/bin/rt-app /home/brendan/devlib-target/run_dir/two_big_three_small_00.json 2>&1\n",
      "2017-01-03 17:45:30,882 INFO    : Executor     : Collected FTrace binary trace:\n",
      "2017-01-03 17:45:30,883 INFO    : Executor     :    <res_dir>/rtapp:energy_aware:two_big_three_small/4/trace.dat\n",
      "2017-01-03 17:45:30,885 INFO    : Executor     : Collected FTrace function profiling:\n",
      "2017-01-03 17:45:30,886 INFO    : Executor     :    <res_dir>/rtapp:energy_aware:two_big_three_small/4/trace_stat.json\n",
      "2017-01-03 17:45:30,888 INFO    : Executor     : --------------------------------------------------------------------------------\n",
      "2017-01-03 17:45:30,889 INFO    : Executor     : ~~~~~~~~~~~~~~~~~~~~~~~~~~~~~~~~~~~~~~~~~~~~~~~~~~~~~~~~~~~~~~~~~~~~~~~~~~~~~~~~\n",
      "2017-01-03 17:45:30,891 INFO    : Executor     : Experiment 4/5, [energy_aware:two_big_three_small] 5/5\n",
      "2017-01-03 17:45:30,899 WARNING : Executor     : FTrace events collection enabled\n"
     ]
    },
    {
     "name": "stdout",
     "output_type": "stream",
     "text": [
      "\n"
     ]
    },
    {
     "name": "stderr",
     "output_type": "stream",
     "text": [
      "2017-01-03 17:45:38,839 INFO    : Workload     : Workload execution START:\n",
      "2017-01-03 17:45:38,840 INFO    : Workload     :    /home/brendan/devlib-target/bin/rt-app /home/brendan/devlib-target/run_dir/two_big_three_small_00.json 2>&1\n",
      "2017-01-03 17:45:51,754 INFO    : Executor     : Collected FTrace binary trace:\n",
      "2017-01-03 17:45:51,755 INFO    : Executor     :    <res_dir>/rtapp:energy_aware:two_big_three_small/5/trace.dat\n",
      "2017-01-03 17:45:51,756 INFO    : Executor     : Collected FTrace function profiling:\n",
      "2017-01-03 17:45:51,758 INFO    : Executor     :    <res_dir>/rtapp:energy_aware:two_big_three_small/5/trace_stat.json\n",
      "2017-01-03 17:45:51,759 INFO    : Executor     : --------------------------------------------------------------------------------\n",
      "2017-01-03 17:45:51,761 INFO    : Executor     : \n",
      "2017-01-03 17:45:51,762 INFO    : Executor     : ################################################################################\n",
      "2017-01-03 17:45:51,764 INFO    : Executor     : Experiments execution completed\n",
      "2017-01-03 17:45:51,765 INFO    : Executor     : ################################################################################\n",
      "2017-01-03 17:45:51,766 INFO    : Executor     : Results available in:\n",
      "2017-01-03 17:45:51,768 INFO    : Executor     :       /home/brejac01/sources/lisa/results/20170103_173842\n",
      "2017-01-03 17:45:51,769 INFO    : LisaTest     : Setup tests execution engine...\n",
      "2017-01-03 17:45:51,771 INFO    : Executor     : Loading custom (inline) test configuration\n",
      "2017-01-03 17:45:51,772 INFO    : Executor     : \n",
      "2017-01-03 17:45:51,774 INFO    : Executor     : ################################################################################\n",
      "2017-01-03 17:45:51,775 INFO    : Executor     : Experiments configuration\n",
      "2017-01-03 17:45:51,776 INFO    : Executor     : ################################################################################\n",
      "2017-01-03 17:45:51,778 INFO    : Executor     : Configured to run:\n",
      "2017-01-03 17:45:51,779 INFO    : Executor     :      1 target configurations:\n",
      "2017-01-03 17:45:51,780 INFO    : Executor     :       energy_aware\n",
      "2017-01-03 17:45:51,782 INFO    : Executor     :      1 workloads (5 iterations each)\n",
      "2017-01-03 17:45:51,783 INFO    : Executor     :       ramp_up\n",
      "2017-01-03 17:45:51,784 INFO    : Executor     : Total: 5 experiments\n",
      "2017-01-03 17:45:51,785 INFO    : Executor     : Results will be collected under:\n",
      "2017-01-03 17:45:51,787 INFO    : Executor     :       /home/brejac01/sources/lisa/results/20170103_173842\n",
      "2017-01-03 17:45:51,788 INFO    : Executor     : rt-app workloads found, installing tool on target\n",
      "2017-01-03 17:45:53,193 INFO    : LisaTest     : Experiments execution...\n",
      "2017-01-03 17:45:53,194 INFO    : Executor     : \n",
      "2017-01-03 17:45:53,195 INFO    : Executor     : ################################################################################\n",
      "2017-01-03 17:45:53,197 INFO    : Executor     : Experiments execution\n",
      "2017-01-03 17:45:53,198 INFO    : Executor     : ################################################################################\n",
      "2017-01-03 17:45:53,200 INFO    : Executor     : \n",
      "2017-01-03 17:45:53,201 INFO    : Executor     : ================================================================================\n",
      "2017-01-03 17:45:53,202 INFO    : Executor     : configuring target for [energy_aware] experiments\n",
      "2017-01-03 17:45:54,919 INFO    : Executor     : Set scheduler feature: ENERGY_AWARE\n",
      "2017-01-03 17:45:55,824 WARNING : Executor     : cpufreq governor not specified, using currently configured governor\n",
      "2017-01-03 17:45:55,826 INFO    : Workload     : Setup new workload ramp_up\n",
      "2017-01-03 17:45:55,827 INFO    : Workload     : Workload duration defined by longest task\n",
      "2017-01-03 17:45:55,829 INFO    : Workload     : Default policy: SCHED_OTHER\n",
      "2017-01-03 17:45:55,831 INFO    : Workload     : ------------------------\n",
      "2017-01-03 17:45:55,832 INFO    : Workload     : task [task_r5_10-600], sched: using default policy\n",
      "2017-01-03 17:45:55,834 INFO    : Workload     :  | calibration CPU: 1\n",
      "2017-01-03 17:45:55,835 INFO    : Workload     :  | loops count: 1\n",
      "2017-01-03 17:45:55,837 INFO    : Workload     : + phase_000001: duration 2.000000 [s] (125 loops)\n",
      "2017-01-03 17:45:55,839 INFO    : Workload     : |  period    16000 [us], duty_cycle   5 %\n",
      "2017-01-03 17:45:55,840 INFO    : Workload     : |  run_time    800 [us], sleep_time  15200 [us]\n",
      "2017-01-03 17:45:55,842 INFO    : Workload     : + phase_000002: duration 2.000000 [s] (125 loops)\n",
      "2017-01-03 17:45:55,843 INFO    : Workload     : |  period    16000 [us], duty_cycle  10 %\n",
      "2017-01-03 17:45:55,845 INFO    : Workload     : |  run_time   1600 [us], sleep_time  14400 [us]\n",
      "2017-01-03 17:45:55,846 INFO    : Workload     : + phase_000003: duration 2.000000 [s] (125 loops)\n",
      "2017-01-03 17:45:55,848 INFO    : Workload     : |  period    16000 [us], duty_cycle  15 %\n",
      "2017-01-03 17:45:55,850 INFO    : Workload     : |  run_time   2400 [us], sleep_time  13600 [us]\n",
      "2017-01-03 17:45:55,851 INFO    : Workload     : + phase_000004: duration 2.000000 [s] (125 loops)\n",
      "2017-01-03 17:45:55,852 INFO    : Workload     : |  period    16000 [us], duty_cycle  20 %\n",
      "2017-01-03 17:45:55,854 INFO    : Workload     : |  run_time   3200 [us], sleep_time  12800 [us]\n",
      "2017-01-03 17:45:55,855 INFO    : Workload     : + phase_000005: duration 2.000000 [s] (125 loops)\n",
      "2017-01-03 17:45:55,856 INFO    : Workload     : |  period    16000 [us], duty_cycle  25 %\n",
      "2017-01-03 17:45:55,858 INFO    : Workload     : |  run_time   4000 [us], sleep_time  12000 [us]\n",
      "2017-01-03 17:45:55,859 INFO    : Workload     : + phase_000006: duration 2.000000 [s] (125 loops)\n",
      "2017-01-03 17:45:55,861 INFO    : Workload     : |  period    16000 [us], duty_cycle  30 %\n",
      "2017-01-03 17:45:55,862 INFO    : Workload     : |  run_time   4800 [us], sleep_time  11200 [us]\n",
      "2017-01-03 17:45:55,863 INFO    : Workload     : + phase_000007: duration 2.000000 [s] (125 loops)\n",
      "2017-01-03 17:45:55,865 INFO    : Workload     : |  period    16000 [us], duty_cycle  35 %\n",
      "2017-01-03 17:45:55,866 INFO    : Workload     : |  run_time   5600 [us], sleep_time  10400 [us]\n",
      "2017-01-03 17:45:55,868 INFO    : Workload     : + phase_000008: duration 2.000000 [s] (125 loops)\n",
      "2017-01-03 17:45:55,869 INFO    : Workload     : |  period    16000 [us], duty_cycle  40 %\n",
      "2017-01-03 17:45:55,870 INFO    : Workload     : |  run_time   6400 [us], sleep_time   9600 [us]\n",
      "2017-01-03 17:45:55,872 INFO    : Workload     : + phase_000009: duration 2.000000 [s] (125 loops)\n",
      "2017-01-03 17:45:55,873 INFO    : Workload     : |  period    16000 [us], duty_cycle  45 %\n",
      "2017-01-03 17:45:55,875 INFO    : Workload     : |  run_time   7200 [us], sleep_time   8800 [us]\n",
      "2017-01-03 17:45:55,876 INFO    : Workload     : + phase_000010: duration 2.000000 [s] (125 loops)\n",
      "2017-01-03 17:45:55,877 INFO    : Workload     : |  period    16000 [us], duty_cycle  50 %\n",
      "2017-01-03 17:45:55,878 INFO    : Workload     : |  run_time   8000 [us], sleep_time   8000 [us]\n",
      "2017-01-03 17:45:55,880 INFO    : Workload     : + phase_000011: duration 2.000000 [s] (125 loops)\n",
      "2017-01-03 17:45:55,881 INFO    : Workload     : |  period    16000 [us], duty_cycle  55 %\n",
      "2017-01-03 17:45:55,882 INFO    : Workload     : |  run_time   8800 [us], sleep_time   7200 [us]\n",
      "2017-01-03 17:45:55,883 INFO    : Workload     : + phase_000012: duration 2.000000 [s] (125 loops)\n",
      "2017-01-03 17:45:55,885 INFO    : Workload     : |  period    16000 [us], duty_cycle  60 %\n",
      "2017-01-03 17:45:55,886 INFO    : Workload     : |  run_time   9600 [us], sleep_time   6400 [us]\n",
      "2017-01-03 17:45:55,888 INFO    : Workload     : + phase_000013: duration 2.000000 [s] (125 loops)\n",
      "2017-01-03 17:45:55,889 INFO    : Workload     : |  period    16000 [us], duty_cycle  65 %\n",
      "2017-01-03 17:45:55,890 INFO    : Workload     : |  run_time  10400 [us], sleep_time   5600 [us]\n",
      "2017-01-03 17:45:55,891 INFO    : Workload     : + phase_000014: duration 2.000000 [s] (125 loops)\n",
      "2017-01-03 17:45:55,892 INFO    : Workload     : |  period    16000 [us], duty_cycle  70 %\n",
      "2017-01-03 17:45:55,894 INFO    : Workload     : |  run_time  11200 [us], sleep_time   4800 [us]\n",
      "2017-01-03 17:45:56,492 INFO    : Executor     : ~~~~~~~~~~~~~~~~~~~~~~~~~~~~~~~~~~~~~~~~~~~~~~~~~~~~~~~~~~~~~~~~~~~~~~~~~~~~~~~~\n",
      "2017-01-03 17:45:56,493 INFO    : Executor     : Experiment 0/5, [energy_aware:ramp_up] 1/5\n",
      "2017-01-03 17:45:56,500 WARNING : Executor     : FTrace events collection enabled\n"
     ]
    },
    {
     "name": "stdout",
     "output_type": "stream",
     "text": [
      "\n"
     ]
    },
    {
     "name": "stderr",
     "output_type": "stream",
     "text": [
      "2017-01-03 17:46:04,352 INFO    : Workload     : Workload execution START:\n",
      "2017-01-03 17:46:04,353 INFO    : Workload     :    /home/brendan/devlib-target/bin/rt-app /home/brendan/devlib-target/run_dir/ramp_up_00.json 2>&1\n",
      "2017-01-03 17:46:39,522 INFO    : Executor     : Collected FTrace binary trace:\n",
      "2017-01-03 17:46:39,524 INFO    : Executor     :    <res_dir>/rtapp:energy_aware:ramp_up/1/trace.dat\n",
      "2017-01-03 17:46:39,525 INFO    : Executor     : Collected FTrace function profiling:\n",
      "2017-01-03 17:46:39,527 INFO    : Executor     :    <res_dir>/rtapp:energy_aware:ramp_up/1/trace_stat.json\n",
      "2017-01-03 17:46:39,529 INFO    : Executor     : --------------------------------------------------------------------------------\n",
      "2017-01-03 17:46:39,530 INFO    : Executor     : ~~~~~~~~~~~~~~~~~~~~~~~~~~~~~~~~~~~~~~~~~~~~~~~~~~~~~~~~~~~~~~~~~~~~~~~~~~~~~~~~\n",
      "2017-01-03 17:46:39,532 INFO    : Executor     : Experiment 1/5, [energy_aware:ramp_up] 2/5\n",
      "2017-01-03 17:46:39,540 WARNING : Executor     : FTrace events collection enabled\n"
     ]
    },
    {
     "name": "stdout",
     "output_type": "stream",
     "text": [
      "\n"
     ]
    },
    {
     "name": "stderr",
     "output_type": "stream",
     "text": [
      "2017-01-03 17:46:47,428 INFO    : Workload     : Workload execution START:\n",
      "2017-01-03 17:46:47,430 INFO    : Workload     :    /home/brendan/devlib-target/bin/rt-app /home/brendan/devlib-target/run_dir/ramp_up_00.json 2>&1\n",
      "2017-01-03 17:47:22,707 INFO    : Executor     : Collected FTrace binary trace:\n",
      "2017-01-03 17:47:22,709 INFO    : Executor     :    <res_dir>/rtapp:energy_aware:ramp_up/2/trace.dat\n",
      "2017-01-03 17:47:22,710 INFO    : Executor     : Collected FTrace function profiling:\n",
      "2017-01-03 17:47:22,711 INFO    : Executor     :    <res_dir>/rtapp:energy_aware:ramp_up/2/trace_stat.json\n",
      "2017-01-03 17:47:22,713 INFO    : Executor     : --------------------------------------------------------------------------------\n",
      "2017-01-03 17:47:22,714 INFO    : Executor     : ~~~~~~~~~~~~~~~~~~~~~~~~~~~~~~~~~~~~~~~~~~~~~~~~~~~~~~~~~~~~~~~~~~~~~~~~~~~~~~~~\n",
      "2017-01-03 17:47:22,715 INFO    : Executor     : Experiment 2/5, [energy_aware:ramp_up] 3/5\n",
      "2017-01-03 17:47:22,724 WARNING : Executor     : FTrace events collection enabled\n"
     ]
    },
    {
     "name": "stdout",
     "output_type": "stream",
     "text": [
      "\n"
     ]
    },
    {
     "name": "stderr",
     "output_type": "stream",
     "text": [
      "2017-01-03 17:47:30,648 INFO    : Workload     : Workload execution START:\n",
      "2017-01-03 17:47:30,649 INFO    : Workload     :    /home/brendan/devlib-target/bin/rt-app /home/brendan/devlib-target/run_dir/ramp_up_00.json 2>&1\n",
      "2017-01-03 17:48:05,892 INFO    : Executor     : Collected FTrace binary trace:\n",
      "2017-01-03 17:48:05,894 INFO    : Executor     :    <res_dir>/rtapp:energy_aware:ramp_up/3/trace.dat\n",
      "2017-01-03 17:48:05,895 INFO    : Executor     : Collected FTrace function profiling:\n",
      "2017-01-03 17:48:05,896 INFO    : Executor     :    <res_dir>/rtapp:energy_aware:ramp_up/3/trace_stat.json\n",
      "2017-01-03 17:48:05,897 INFO    : Executor     : --------------------------------------------------------------------------------\n",
      "2017-01-03 17:48:05,898 INFO    : Executor     : ~~~~~~~~~~~~~~~~~~~~~~~~~~~~~~~~~~~~~~~~~~~~~~~~~~~~~~~~~~~~~~~~~~~~~~~~~~~~~~~~\n",
      "2017-01-03 17:48:05,900 INFO    : Executor     : Experiment 3/5, [energy_aware:ramp_up] 4/5\n",
      "2017-01-03 17:48:05,907 WARNING : Executor     : FTrace events collection enabled\n"
     ]
    },
    {
     "name": "stdout",
     "output_type": "stream",
     "text": [
      "\n"
     ]
    },
    {
     "name": "stderr",
     "output_type": "stream",
     "text": [
      "2017-01-03 17:48:13,807 INFO    : Workload     : Workload execution START:\n",
      "2017-01-03 17:48:13,808 INFO    : Workload     :    /home/brendan/devlib-target/bin/rt-app /home/brendan/devlib-target/run_dir/ramp_up_00.json 2>&1\n",
      "2017-01-03 17:48:49,268 INFO    : Executor     : Collected FTrace binary trace:\n",
      "2017-01-03 17:48:49,270 INFO    : Executor     :    <res_dir>/rtapp:energy_aware:ramp_up/4/trace.dat\n",
      "2017-01-03 17:48:49,271 INFO    : Executor     : Collected FTrace function profiling:\n",
      "2017-01-03 17:48:49,272 INFO    : Executor     :    <res_dir>/rtapp:energy_aware:ramp_up/4/trace_stat.json\n",
      "2017-01-03 17:48:49,273 INFO    : Executor     : --------------------------------------------------------------------------------\n",
      "2017-01-03 17:48:49,274 INFO    : Executor     : ~~~~~~~~~~~~~~~~~~~~~~~~~~~~~~~~~~~~~~~~~~~~~~~~~~~~~~~~~~~~~~~~~~~~~~~~~~~~~~~~\n",
      "2017-01-03 17:48:49,275 INFO    : Executor     : Experiment 4/5, [energy_aware:ramp_up] 5/5\n",
      "2017-01-03 17:48:49,282 WARNING : Executor     : FTrace events collection enabled\n"
     ]
    },
    {
     "name": "stdout",
     "output_type": "stream",
     "text": [
      "\n"
     ]
    },
    {
     "name": "stderr",
     "output_type": "stream",
     "text": [
      "2017-01-03 17:48:57,197 INFO    : Workload     : Workload execution START:\n",
      "2017-01-03 17:48:57,198 INFO    : Workload     :    /home/brendan/devlib-target/bin/rt-app /home/brendan/devlib-target/run_dir/ramp_up_00.json 2>&1\n",
      "2017-01-03 17:49:32,471 INFO    : Executor     : Collected FTrace binary trace:\n",
      "2017-01-03 17:49:32,473 INFO    : Executor     :    <res_dir>/rtapp:energy_aware:ramp_up/5/trace.dat\n",
      "2017-01-03 17:49:32,474 INFO    : Executor     : Collected FTrace function profiling:\n",
      "2017-01-03 17:49:32,475 INFO    : Executor     :    <res_dir>/rtapp:energy_aware:ramp_up/5/trace_stat.json\n",
      "2017-01-03 17:49:32,476 INFO    : Executor     : --------------------------------------------------------------------------------\n",
      "2017-01-03 17:49:32,477 INFO    : Executor     : \n",
      "2017-01-03 17:49:32,478 INFO    : Executor     : ################################################################################\n",
      "2017-01-03 17:49:32,479 INFO    : Executor     : Experiments execution completed\n",
      "2017-01-03 17:49:32,480 INFO    : Executor     : ################################################################################\n",
      "2017-01-03 17:49:32,481 INFO    : Executor     : Results available in:\n",
      "2017-01-03 17:49:32,482 INFO    : Executor     :       /home/brejac01/sources/lisa/results/20170103_173842\n",
      "2017-01-03 17:49:32,483 INFO    : LisaTest     : Setup tests execution engine...\n",
      "2017-01-03 17:49:32,484 INFO    : Executor     : Loading custom (inline) test configuration\n",
      "2017-01-03 17:49:32,485 INFO    : Executor     : \n",
      "2017-01-03 17:49:32,486 INFO    : Executor     : ################################################################################\n",
      "2017-01-03 17:49:32,486 INFO    : Executor     : Experiments configuration\n",
      "2017-01-03 17:49:32,487 INFO    : Executor     : ################################################################################\n",
      "2017-01-03 17:49:32,488 INFO    : Executor     : Configured to run:\n",
      "2017-01-03 17:49:32,489 INFO    : Executor     :      1 target configurations:\n",
      "2017-01-03 17:49:32,490 INFO    : Executor     :       energy_aware\n",
      "2017-01-03 17:49:32,491 INFO    : Executor     :      1 workloads (5 iterations each)\n",
      "2017-01-03 17:49:32,492 INFO    : Executor     :       ramp_down\n",
      "2017-01-03 17:49:32,493 INFO    : Executor     : Total: 5 experiments\n",
      "2017-01-03 17:49:32,493 INFO    : Executor     : Results will be collected under:\n",
      "2017-01-03 17:49:32,494 INFO    : Executor     :       /home/brejac01/sources/lisa/results/20170103_173842\n",
      "2017-01-03 17:49:32,495 INFO    : Executor     : rt-app workloads found, installing tool on target\n",
      "2017-01-03 17:49:33,899 INFO    : LisaTest     : Experiments execution...\n",
      "2017-01-03 17:49:33,901 INFO    : Executor     : \n",
      "2017-01-03 17:49:33,902 INFO    : Executor     : ################################################################################\n",
      "2017-01-03 17:49:33,903 INFO    : Executor     : Experiments execution\n",
      "2017-01-03 17:49:33,904 INFO    : Executor     : ################################################################################\n",
      "2017-01-03 17:49:33,905 INFO    : Executor     : \n",
      "2017-01-03 17:49:33,906 INFO    : Executor     : ================================================================================\n",
      "2017-01-03 17:49:33,907 INFO    : Executor     : configuring target for [energy_aware] experiments\n",
      "2017-01-03 17:49:35,622 INFO    : Executor     : Set scheduler feature: ENERGY_AWARE\n",
      "2017-01-03 17:49:36,527 WARNING : Executor     : cpufreq governor not specified, using currently configured governor\n",
      "2017-01-03 17:49:36,529 INFO    : Workload     : Setup new workload ramp_down\n",
      "2017-01-03 17:49:36,530 INFO    : Workload     : Workload duration defined by longest task\n",
      "2017-01-03 17:49:36,532 INFO    : Workload     : Default policy: SCHED_OTHER\n",
      "2017-01-03 17:49:36,533 INFO    : Workload     : ------------------------\n",
      "2017-01-03 17:49:36,534 INFO    : Workload     : task [task_r5_10-600], sched: using default policy\n",
      "2017-01-03 17:49:36,535 INFO    : Workload     :  | calibration CPU: 1\n",
      "2017-01-03 17:49:36,536 INFO    : Workload     :  | loops count: 1\n",
      "2017-01-03 17:49:36,537 INFO    : Workload     : + phase_000001: duration 2.000000 [s] (125 loops)\n",
      "2017-01-03 17:49:36,538 INFO    : Workload     : |  period    16000 [us], duty_cycle  70 %\n",
      "2017-01-03 17:49:36,539 INFO    : Workload     : |  run_time  11200 [us], sleep_time   4800 [us]\n",
      "2017-01-03 17:49:36,540 INFO    : Workload     : + phase_000002: duration 2.000000 [s] (125 loops)\n",
      "2017-01-03 17:49:36,541 INFO    : Workload     : |  period    16000 [us], duty_cycle  65 %\n",
      "2017-01-03 17:49:36,542 INFO    : Workload     : |  run_time  10400 [us], sleep_time   5600 [us]\n",
      "2017-01-03 17:49:36,543 INFO    : Workload     : + phase_000003: duration 2.000000 [s] (125 loops)\n",
      "2017-01-03 17:49:36,544 INFO    : Workload     : |  period    16000 [us], duty_cycle  60 %\n",
      "2017-01-03 17:49:36,545 INFO    : Workload     : |  run_time   9600 [us], sleep_time   6400 [us]\n",
      "2017-01-03 17:49:36,546 INFO    : Workload     : + phase_000004: duration 2.000000 [s] (125 loops)\n",
      "2017-01-03 17:49:36,547 INFO    : Workload     : |  period    16000 [us], duty_cycle  55 %\n",
      "2017-01-03 17:49:36,548 INFO    : Workload     : |  run_time   8800 [us], sleep_time   7200 [us]\n",
      "2017-01-03 17:49:36,549 INFO    : Workload     : + phase_000005: duration 2.000000 [s] (125 loops)\n",
      "2017-01-03 17:49:36,550 INFO    : Workload     : |  period    16000 [us], duty_cycle  50 %\n",
      "2017-01-03 17:49:36,551 INFO    : Workload     : |  run_time   8000 [us], sleep_time   8000 [us]\n",
      "2017-01-03 17:49:36,552 INFO    : Workload     : + phase_000006: duration 2.000000 [s] (125 loops)\n",
      "2017-01-03 17:49:36,553 INFO    : Workload     : |  period    16000 [us], duty_cycle  45 %\n",
      "2017-01-03 17:49:36,554 INFO    : Workload     : |  run_time   7200 [us], sleep_time   8800 [us]\n",
      "2017-01-03 17:49:36,555 INFO    : Workload     : + phase_000007: duration 2.000000 [s] (125 loops)\n",
      "2017-01-03 17:49:36,556 INFO    : Workload     : |  period    16000 [us], duty_cycle  40 %\n",
      "2017-01-03 17:49:36,557 INFO    : Workload     : |  run_time   6400 [us], sleep_time   9600 [us]\n",
      "2017-01-03 17:49:36,558 INFO    : Workload     : + phase_000008: duration 2.000000 [s] (125 loops)\n",
      "2017-01-03 17:49:36,558 INFO    : Workload     : |  period    16000 [us], duty_cycle  35 %\n",
      "2017-01-03 17:49:36,559 INFO    : Workload     : |  run_time   5600 [us], sleep_time  10400 [us]\n",
      "2017-01-03 17:49:36,561 INFO    : Workload     : + phase_000009: duration 2.000000 [s] (125 loops)\n",
      "2017-01-03 17:49:36,561 INFO    : Workload     : |  period    16000 [us], duty_cycle  30 %\n",
      "2017-01-03 17:49:36,562 INFO    : Workload     : |  run_time   4800 [us], sleep_time  11200 [us]\n",
      "2017-01-03 17:49:36,563 INFO    : Workload     : + phase_000010: duration 2.000000 [s] (125 loops)\n",
      "2017-01-03 17:49:36,564 INFO    : Workload     : |  period    16000 [us], duty_cycle  25 %\n",
      "2017-01-03 17:49:36,565 INFO    : Workload     : |  run_time   4000 [us], sleep_time  12000 [us]\n",
      "2017-01-03 17:49:36,566 INFO    : Workload     : + phase_000011: duration 2.000000 [s] (125 loops)\n",
      "2017-01-03 17:49:36,567 INFO    : Workload     : |  period    16000 [us], duty_cycle  20 %\n",
      "2017-01-03 17:49:36,568 INFO    : Workload     : |  run_time   3200 [us], sleep_time  12800 [us]\n",
      "2017-01-03 17:49:36,569 INFO    : Workload     : + phase_000012: duration 2.000000 [s] (125 loops)\n",
      "2017-01-03 17:49:36,570 INFO    : Workload     : |  period    16000 [us], duty_cycle  15 %\n",
      "2017-01-03 17:49:36,570 INFO    : Workload     : |  run_time   2400 [us], sleep_time  13600 [us]\n",
      "2017-01-03 17:49:36,571 INFO    : Workload     : + phase_000013: duration 2.000000 [s] (125 loops)\n",
      "2017-01-03 17:49:36,572 INFO    : Workload     : |  period    16000 [us], duty_cycle  10 %\n",
      "2017-01-03 17:49:36,573 INFO    : Workload     : |  run_time   1600 [us], sleep_time  14400 [us]\n",
      "2017-01-03 17:49:36,574 INFO    : Workload     : + phase_000014: duration 2.000000 [s] (125 loops)\n",
      "2017-01-03 17:49:36,575 INFO    : Workload     : |  period    16000 [us], duty_cycle   5 %\n",
      "2017-01-03 17:49:36,576 INFO    : Workload     : |  run_time    800 [us], sleep_time  15200 [us]\n",
      "2017-01-03 17:49:37,168 INFO    : Executor     : ~~~~~~~~~~~~~~~~~~~~~~~~~~~~~~~~~~~~~~~~~~~~~~~~~~~~~~~~~~~~~~~~~~~~~~~~~~~~~~~~\n",
      "2017-01-03 17:49:37,170 INFO    : Executor     : Experiment 0/5, [energy_aware:ramp_down] 1/5\n",
      "2017-01-03 17:49:37,177 WARNING : Executor     : FTrace events collection enabled\n"
     ]
    },
    {
     "name": "stdout",
     "output_type": "stream",
     "text": [
      "\n"
     ]
    },
    {
     "name": "stderr",
     "output_type": "stream",
     "text": [
      "2017-01-03 17:49:45,026 INFO    : Workload     : Workload execution START:\n",
      "2017-01-03 17:49:45,028 INFO    : Workload     :    /home/brendan/devlib-target/bin/rt-app /home/brendan/devlib-target/run_dir/ramp_down_00.json 2>&1\n",
      "2017-01-03 17:50:20,271 INFO    : Executor     : Collected FTrace binary trace:\n",
      "2017-01-03 17:50:20,273 INFO    : Executor     :    <res_dir>/rtapp:energy_aware:ramp_down/1/trace.dat\n",
      "2017-01-03 17:50:20,274 INFO    : Executor     : Collected FTrace function profiling:\n",
      "2017-01-03 17:50:20,275 INFO    : Executor     :    <res_dir>/rtapp:energy_aware:ramp_down/1/trace_stat.json\n",
      "2017-01-03 17:50:20,276 INFO    : Executor     : --------------------------------------------------------------------------------\n",
      "2017-01-03 17:50:20,277 INFO    : Executor     : ~~~~~~~~~~~~~~~~~~~~~~~~~~~~~~~~~~~~~~~~~~~~~~~~~~~~~~~~~~~~~~~~~~~~~~~~~~~~~~~~\n",
      "2017-01-03 17:50:20,279 INFO    : Executor     : Experiment 1/5, [energy_aware:ramp_down] 2/5\n",
      "2017-01-03 17:50:20,286 WARNING : Executor     : FTrace events collection enabled\n"
     ]
    },
    {
     "name": "stdout",
     "output_type": "stream",
     "text": [
      "\n"
     ]
    },
    {
     "name": "stderr",
     "output_type": "stream",
     "text": [
      "2017-01-03 17:50:28,148 INFO    : Workload     : Workload execution START:\n",
      "2017-01-03 17:50:28,149 INFO    : Workload     :    /home/brendan/devlib-target/bin/rt-app /home/brendan/devlib-target/run_dir/ramp_down_00.json 2>&1\n",
      "2017-01-03 17:51:03,347 INFO    : Executor     : Collected FTrace binary trace:\n",
      "2017-01-03 17:51:03,349 INFO    : Executor     :    <res_dir>/rtapp:energy_aware:ramp_down/2/trace.dat\n",
      "2017-01-03 17:51:03,350 INFO    : Executor     : Collected FTrace function profiling:\n",
      "2017-01-03 17:51:03,351 INFO    : Executor     :    <res_dir>/rtapp:energy_aware:ramp_down/2/trace_stat.json\n",
      "2017-01-03 17:51:03,353 INFO    : Executor     : --------------------------------------------------------------------------------\n",
      "2017-01-03 17:51:03,354 INFO    : Executor     : ~~~~~~~~~~~~~~~~~~~~~~~~~~~~~~~~~~~~~~~~~~~~~~~~~~~~~~~~~~~~~~~~~~~~~~~~~~~~~~~~\n",
      "2017-01-03 17:51:03,355 INFO    : Executor     : Experiment 2/5, [energy_aware:ramp_down] 3/5\n",
      "2017-01-03 17:51:03,362 WARNING : Executor     : FTrace events collection enabled\n"
     ]
    },
    {
     "name": "stdout",
     "output_type": "stream",
     "text": [
      "\n"
     ]
    },
    {
     "name": "stderr",
     "output_type": "stream",
     "text": [
      "2017-01-03 17:51:11,429 INFO    : Workload     : Workload execution START:\n",
      "2017-01-03 17:51:11,430 INFO    : Workload     :    /home/brendan/devlib-target/bin/rt-app /home/brendan/devlib-target/run_dir/ramp_down_00.json 2>&1\n",
      "2017-01-03 17:51:46,653 INFO    : Executor     : Collected FTrace binary trace:\n",
      "2017-01-03 17:51:46,654 INFO    : Executor     :    <res_dir>/rtapp:energy_aware:ramp_down/3/trace.dat\n",
      "2017-01-03 17:51:46,655 INFO    : Executor     : Collected FTrace function profiling:\n",
      "2017-01-03 17:51:46,656 INFO    : Executor     :    <res_dir>/rtapp:energy_aware:ramp_down/3/trace_stat.json\n",
      "2017-01-03 17:51:46,657 INFO    : Executor     : --------------------------------------------------------------------------------\n",
      "2017-01-03 17:51:46,657 INFO    : Executor     : ~~~~~~~~~~~~~~~~~~~~~~~~~~~~~~~~~~~~~~~~~~~~~~~~~~~~~~~~~~~~~~~~~~~~~~~~~~~~~~~~\n",
      "2017-01-03 17:51:46,658 INFO    : Executor     : Experiment 3/5, [energy_aware:ramp_down] 4/5\n",
      "2017-01-03 17:51:46,665 WARNING : Executor     : FTrace events collection enabled\n"
     ]
    },
    {
     "name": "stdout",
     "output_type": "stream",
     "text": [
      "\n"
     ]
    },
    {
     "name": "stderr",
     "output_type": "stream",
     "text": [
      "2017-01-03 17:51:54,515 INFO    : Workload     : Workload execution START:\n",
      "2017-01-03 17:51:54,516 INFO    : Workload     :    /home/brendan/devlib-target/bin/rt-app /home/brendan/devlib-target/run_dir/ramp_down_00.json 2>&1\n",
      "2017-01-03 17:52:29,733 INFO    : Executor     : Collected FTrace binary trace:\n",
      "2017-01-03 17:52:29,735 INFO    : Executor     :    <res_dir>/rtapp:energy_aware:ramp_down/4/trace.dat\n",
      "2017-01-03 17:52:29,736 INFO    : Executor     : Collected FTrace function profiling:\n",
      "2017-01-03 17:52:29,737 INFO    : Executor     :    <res_dir>/rtapp:energy_aware:ramp_down/4/trace_stat.json\n",
      "2017-01-03 17:52:29,738 INFO    : Executor     : --------------------------------------------------------------------------------\n",
      "2017-01-03 17:52:29,740 INFO    : Executor     : ~~~~~~~~~~~~~~~~~~~~~~~~~~~~~~~~~~~~~~~~~~~~~~~~~~~~~~~~~~~~~~~~~~~~~~~~~~~~~~~~\n",
      "2017-01-03 17:52:29,741 INFO    : Executor     : Experiment 4/5, [energy_aware:ramp_down] 5/5\n",
      "2017-01-03 17:52:29,748 WARNING : Executor     : FTrace events collection enabled\n"
     ]
    },
    {
     "name": "stdout",
     "output_type": "stream",
     "text": [
      "\n"
     ]
    },
    {
     "name": "stderr",
     "output_type": "stream",
     "text": [
      "2017-01-03 17:52:37,583 INFO    : Workload     : Workload execution START:\n",
      "2017-01-03 17:52:37,584 INFO    : Workload     :    /home/brendan/devlib-target/bin/rt-app /home/brendan/devlib-target/run_dir/ramp_down_00.json 2>&1\n",
      "2017-01-03 17:53:12,874 INFO    : Executor     : Collected FTrace binary trace:\n",
      "2017-01-03 17:53:12,876 INFO    : Executor     :    <res_dir>/rtapp:energy_aware:ramp_down/5/trace.dat\n",
      "2017-01-03 17:53:12,877 INFO    : Executor     : Collected FTrace function profiling:\n",
      "2017-01-03 17:53:12,878 INFO    : Executor     :    <res_dir>/rtapp:energy_aware:ramp_down/5/trace_stat.json\n",
      "2017-01-03 17:53:12,879 INFO    : Executor     : --------------------------------------------------------------------------------\n",
      "2017-01-03 17:53:12,880 INFO    : Executor     : \n",
      "2017-01-03 17:53:12,881 INFO    : Executor     : ################################################################################\n",
      "2017-01-03 17:53:12,882 INFO    : Executor     : Experiments execution completed\n",
      "2017-01-03 17:53:12,883 INFO    : Executor     : ################################################################################\n",
      "2017-01-03 17:53:12,884 INFO    : Executor     : Results available in:\n",
      "2017-01-03 17:53:12,885 INFO    : Executor     :       /home/brejac01/sources/lisa/results/20170103_173842\n",
      "2017-01-03 17:53:12,886 INFO    : LisaTest     : Setup tests execution engine...\n",
      "2017-01-03 17:53:12,887 INFO    : Executor     : Loading custom (inline) test configuration\n",
      "2017-01-03 17:53:12,888 INFO    : Executor     : \n",
      "2017-01-03 17:53:12,889 INFO    : Executor     : ################################################################################\n",
      "2017-01-03 17:53:12,890 INFO    : Executor     : Experiments configuration\n",
      "2017-01-03 17:53:12,891 INFO    : Executor     : ################################################################################\n",
      "2017-01-03 17:53:12,892 INFO    : Executor     : Configured to run:\n",
      "2017-01-03 17:53:12,892 INFO    : Executor     :      1 target configurations:\n",
      "2017-01-03 17:53:12,893 INFO    : Executor     :       energy_aware\n",
      "2017-01-03 17:53:12,894 INFO    : Executor     :      1 workloads (5 iterations each)\n",
      "2017-01-03 17:53:12,895 INFO    : Executor     :       wake_migration\n",
      "2017-01-03 17:53:12,896 INFO    : Executor     : Total: 5 experiments\n",
      "2017-01-03 17:53:12,897 INFO    : Executor     : Results will be collected under:\n",
      "2017-01-03 17:53:12,898 INFO    : Executor     :       /home/brejac01/sources/lisa/results/20170103_173842\n",
      "2017-01-03 17:53:12,899 INFO    : Executor     : rt-app workloads found, installing tool on target\n",
      "2017-01-03 17:53:14,304 INFO    : LisaTest     : Experiments execution...\n",
      "2017-01-03 17:53:14,305 INFO    : Executor     : \n",
      "2017-01-03 17:53:14,306 INFO    : Executor     : ################################################################################\n",
      "2017-01-03 17:53:14,307 INFO    : Executor     : Experiments execution\n",
      "2017-01-03 17:53:14,308 INFO    : Executor     : ################################################################################\n",
      "2017-01-03 17:53:14,310 INFO    : Executor     : \n",
      "2017-01-03 17:53:14,311 INFO    : Executor     : ================================================================================\n",
      "2017-01-03 17:53:14,312 INFO    : Executor     : configuring target for [energy_aware] experiments\n",
      "2017-01-03 17:53:16,027 INFO    : Executor     : Set scheduler feature: ENERGY_AWARE\n",
      "2017-01-03 17:53:16,932 WARNING : Executor     : cpufreq governor not specified, using currently configured governor\n",
      "2017-01-03 17:53:16,934 INFO    : Workload     : Setup new workload wake_migration\n",
      "2017-01-03 17:53:16,935 INFO    : Workload     : Workload duration defined by longest task\n",
      "2017-01-03 17:53:16,936 INFO    : Workload     : Default policy: SCHED_OTHER\n",
      "2017-01-03 17:53:16,937 INFO    : Workload     : ------------------------\n",
      "2017-01-03 17:53:16,939 INFO    : Workload     : task [task_wmig0], sched: using default policy\n",
      "2017-01-03 17:53:16,940 INFO    : Workload     :  | calibration CPU: 1\n",
      "2017-01-03 17:53:16,941 INFO    : Workload     :  | loops count: 2\n",
      "2017-01-03 17:53:16,942 INFO    : Workload     : + phase_000001: duration 1.000000 [s] (10 loops)\n",
      "2017-01-03 17:53:16,943 INFO    : Workload     : |  period   100000 [us], duty_cycle  10 %\n",
      "2017-01-03 17:53:16,944 INFO    : Workload     : |  run_time  10000 [us], sleep_time  90000 [us]\n",
      "2017-01-03 17:53:16,945 INFO    : Workload     : + phase_000002: duration 1.000000 [s] (10 loops)\n",
      "2017-01-03 17:53:16,946 INFO    : Workload     : |  period   100000 [us], duty_cycle  50 %\n",
      "2017-01-03 17:53:16,947 INFO    : Workload     : |  run_time  50000 [us], sleep_time  50000 [us]\n",
      "2017-01-03 17:53:16,948 INFO    : Workload     : ------------------------\n",
      "2017-01-03 17:53:16,949 INFO    : Workload     : task [task_wmig1], sched: using default policy\n",
      "2017-01-03 17:53:16,951 INFO    : Workload     :  | calibration CPU: 1\n",
      "2017-01-03 17:53:16,952 INFO    : Workload     :  | loops count: 2\n",
      "2017-01-03 17:53:16,953 INFO    : Workload     : + phase_000001: duration 1.000000 [s] (10 loops)\n",
      "2017-01-03 17:53:16,954 INFO    : Workload     : |  period   100000 [us], duty_cycle  10 %\n",
      "2017-01-03 17:53:16,955 INFO    : Workload     : |  run_time  10000 [us], sleep_time  90000 [us]\n",
      "2017-01-03 17:53:16,956 INFO    : Workload     : + phase_000002: duration 1.000000 [s] (10 loops)\n",
      "2017-01-03 17:53:16,957 INFO    : Workload     : |  period   100000 [us], duty_cycle  50 %\n",
      "2017-01-03 17:53:16,958 INFO    : Workload     : |  run_time  50000 [us], sleep_time  50000 [us]\n",
      "2017-01-03 17:53:17,543 INFO    : Executor     : ~~~~~~~~~~~~~~~~~~~~~~~~~~~~~~~~~~~~~~~~~~~~~~~~~~~~~~~~~~~~~~~~~~~~~~~~~~~~~~~~\n",
      "2017-01-03 17:53:17,545 INFO    : Executor     : Experiment 0/5, [energy_aware:wake_migration] 1/5\n",
      "2017-01-03 17:53:17,552 WARNING : Executor     : FTrace events collection enabled\n"
     ]
    },
    {
     "name": "stdout",
     "output_type": "stream",
     "text": [
      "\n"
     ]
    },
    {
     "name": "stderr",
     "output_type": "stream",
     "text": [
      "2017-01-03 17:53:25,404 INFO    : Workload     : Workload execution START:\n",
      "2017-01-03 17:53:25,405 INFO    : Workload     :    /home/brendan/devlib-target/bin/rt-app /home/brendan/devlib-target/run_dir/wake_migration_00.json 2>&1\n",
      "2017-01-03 17:53:36,771 INFO    : Executor     : Collected FTrace binary trace:\n",
      "2017-01-03 17:53:36,773 INFO    : Executor     :    <res_dir>/rtapp:energy_aware:wake_migration/1/trace.dat\n",
      "2017-01-03 17:53:36,774 INFO    : Executor     : Collected FTrace function profiling:\n",
      "2017-01-03 17:53:36,775 INFO    : Executor     :    <res_dir>/rtapp:energy_aware:wake_migration/1/trace_stat.json\n",
      "2017-01-03 17:53:36,776 INFO    : Executor     : --------------------------------------------------------------------------------\n",
      "2017-01-03 17:53:36,777 INFO    : Executor     : ~~~~~~~~~~~~~~~~~~~~~~~~~~~~~~~~~~~~~~~~~~~~~~~~~~~~~~~~~~~~~~~~~~~~~~~~~~~~~~~~\n",
      "2017-01-03 17:53:36,779 INFO    : Executor     : Experiment 1/5, [energy_aware:wake_migration] 2/5\n",
      "2017-01-03 17:53:36,786 WARNING : Executor     : FTrace events collection enabled\n"
     ]
    },
    {
     "name": "stdout",
     "output_type": "stream",
     "text": [
      "\n"
     ]
    },
    {
     "name": "stderr",
     "output_type": "stream",
     "text": [
      "2017-01-03 17:53:44,688 INFO    : Workload     : Workload execution START:\n",
      "2017-01-03 17:53:44,689 INFO    : Workload     :    /home/brendan/devlib-target/bin/rt-app /home/brendan/devlib-target/run_dir/wake_migration_00.json 2>&1\n",
      "2017-01-03 17:53:55,964 INFO    : Executor     : Collected FTrace binary trace:\n",
      "2017-01-03 17:53:55,966 INFO    : Executor     :    <res_dir>/rtapp:energy_aware:wake_migration/2/trace.dat\n",
      "2017-01-03 17:53:55,967 INFO    : Executor     : Collected FTrace function profiling:\n",
      "2017-01-03 17:53:55,969 INFO    : Executor     :    <res_dir>/rtapp:energy_aware:wake_migration/2/trace_stat.json\n",
      "2017-01-03 17:53:55,970 INFO    : Executor     : --------------------------------------------------------------------------------\n",
      "2017-01-03 17:53:55,971 INFO    : Executor     : ~~~~~~~~~~~~~~~~~~~~~~~~~~~~~~~~~~~~~~~~~~~~~~~~~~~~~~~~~~~~~~~~~~~~~~~~~~~~~~~~\n",
      "2017-01-03 17:53:55,972 INFO    : Executor     : Experiment 2/5, [energy_aware:wake_migration] 3/5\n",
      "2017-01-03 17:53:55,979 WARNING : Executor     : FTrace events collection enabled\n"
     ]
    },
    {
     "name": "stdout",
     "output_type": "stream",
     "text": [
      "\n"
     ]
    },
    {
     "name": "stderr",
     "output_type": "stream",
     "text": [
      "2017-01-03 17:54:03,837 INFO    : Workload     : Workload execution START:\n",
      "2017-01-03 17:54:03,838 INFO    : Workload     :    /home/brendan/devlib-target/bin/rt-app /home/brendan/devlib-target/run_dir/wake_migration_00.json 2>&1\n",
      "2017-01-03 17:54:16,309 INFO    : Executor     : Collected FTrace binary trace:\n",
      "2017-01-03 17:54:16,311 INFO    : Executor     :    <res_dir>/rtapp:energy_aware:wake_migration/3/trace.dat\n",
      "2017-01-03 17:54:16,312 INFO    : Executor     : Collected FTrace function profiling:\n",
      "2017-01-03 17:54:16,313 INFO    : Executor     :    <res_dir>/rtapp:energy_aware:wake_migration/3/trace_stat.json\n",
      "2017-01-03 17:54:16,315 INFO    : Executor     : --------------------------------------------------------------------------------\n",
      "2017-01-03 17:54:16,316 INFO    : Executor     : ~~~~~~~~~~~~~~~~~~~~~~~~~~~~~~~~~~~~~~~~~~~~~~~~~~~~~~~~~~~~~~~~~~~~~~~~~~~~~~~~\n",
      "2017-01-03 17:54:16,317 INFO    : Executor     : Experiment 3/5, [energy_aware:wake_migration] 4/5\n",
      "2017-01-03 17:54:16,325 WARNING : Executor     : FTrace events collection enabled\n"
     ]
    },
    {
     "name": "stdout",
     "output_type": "stream",
     "text": [
      "\n"
     ]
    },
    {
     "name": "stderr",
     "output_type": "stream",
     "text": [
      "2017-01-03 17:54:24,251 INFO    : Workload     : Workload execution START:\n",
      "2017-01-03 17:54:24,253 INFO    : Workload     :    /home/brendan/devlib-target/bin/rt-app /home/brendan/devlib-target/run_dir/wake_migration_00.json 2>&1\n",
      "2017-01-03 17:54:35,569 INFO    : Executor     : Collected FTrace binary trace:\n",
      "2017-01-03 17:54:35,571 INFO    : Executor     :    <res_dir>/rtapp:energy_aware:wake_migration/4/trace.dat\n",
      "2017-01-03 17:54:35,573 INFO    : Executor     : Collected FTrace function profiling:\n",
      "2017-01-03 17:54:35,574 INFO    : Executor     :    <res_dir>/rtapp:energy_aware:wake_migration/4/trace_stat.json\n",
      "2017-01-03 17:54:35,575 INFO    : Executor     : --------------------------------------------------------------------------------\n",
      "2017-01-03 17:54:35,576 INFO    : Executor     : ~~~~~~~~~~~~~~~~~~~~~~~~~~~~~~~~~~~~~~~~~~~~~~~~~~~~~~~~~~~~~~~~~~~~~~~~~~~~~~~~\n",
      "2017-01-03 17:54:35,577 INFO    : Executor     : Experiment 4/5, [energy_aware:wake_migration] 5/5\n",
      "2017-01-03 17:54:35,584 WARNING : Executor     : FTrace events collection enabled\n"
     ]
    },
    {
     "name": "stdout",
     "output_type": "stream",
     "text": [
      "\n"
     ]
    },
    {
     "name": "stderr",
     "output_type": "stream",
     "text": [
      "2017-01-03 17:54:43,432 INFO    : Workload     : Workload execution START:\n",
      "2017-01-03 17:54:43,433 INFO    : Workload     :    /home/brendan/devlib-target/bin/rt-app /home/brendan/devlib-target/run_dir/wake_migration_00.json 2>&1\n",
      "2017-01-03 17:54:54,744 INFO    : Executor     : Collected FTrace binary trace:\n",
      "2017-01-03 17:54:54,746 INFO    : Executor     :    <res_dir>/rtapp:energy_aware:wake_migration/5/trace.dat\n",
      "2017-01-03 17:54:54,748 INFO    : Executor     : Collected FTrace function profiling:\n",
      "2017-01-03 17:54:54,749 INFO    : Executor     :    <res_dir>/rtapp:energy_aware:wake_migration/5/trace_stat.json\n",
      "2017-01-03 17:54:54,750 INFO    : Executor     : --------------------------------------------------------------------------------\n",
      "2017-01-03 17:54:54,751 INFO    : Executor     : \n",
      "2017-01-03 17:54:54,752 INFO    : Executor     : ################################################################################\n",
      "2017-01-03 17:54:54,753 INFO    : Executor     : Experiments execution completed\n",
      "2017-01-03 17:54:54,754 INFO    : Executor     : ################################################################################\n",
      "2017-01-03 17:54:54,755 INFO    : Executor     : Results available in:\n",
      "2017-01-03 17:54:54,756 INFO    : Executor     :       /home/brejac01/sources/lisa/results/20170103_173842\n"
     ]
    }
   ],
   "source": [
    "tests = []\n",
    "for cls in scs:\n",
    "    t = cls()\n",
    "    t.setUpClass()\n",
    "    tests.append(t)"
   ]
  },
  {
   "cell_type": "code",
   "execution_count": 29,
   "metadata": {
    "collapsed": false
   },
   "outputs": [
    {
     "data": {
      "text/plain": [
       "35"
      ]
     },
     "execution_count": 29,
     "metadata": {},
     "output_type": "execute_result"
    }
   ],
   "source": [
    "all_experiments = [e for t in tests for e in t.executor.experiments]\n",
    "len(all_experiments)"
   ]
  },
  {
   "cell_type": "markdown",
   "metadata": {},
   "source": [
    "## Get measured energy\n",
    "I did this with `hwmon`. Not sure if the output format is the same for other meters..."
   ]
  },
  {
   "cell_type": "code",
   "execution_count": 30,
   "metadata": {
    "collapsed": false
   },
   "outputs": [
    {
     "name": "stdout",
     "output_type": "stream",
     "text": [
      "/home/brejac01/sources/lisa/results/20170103_173842/rtapp:energy_aware:one_small/1/energy.json\n",
      "/home/brejac01/sources/lisa/results/20170103_173842/rtapp:energy_aware:one_small/2/energy.json\n",
      "/home/brejac01/sources/lisa/results/20170103_173842/rtapp:energy_aware:one_small/3/energy.json\n",
      "/home/brejac01/sources/lisa/results/20170103_173842/rtapp:energy_aware:one_small/4/energy.json\n",
      "/home/brejac01/sources/lisa/results/20170103_173842/rtapp:energy_aware:one_small/5/energy.json\n",
      "/home/brejac01/sources/lisa/results/20170103_173842/rtapp:energy_aware:three_small/1/energy.json\n",
      "/home/brejac01/sources/lisa/results/20170103_173842/rtapp:energy_aware:three_small/2/energy.json\n",
      "/home/brejac01/sources/lisa/results/20170103_173842/rtapp:energy_aware:three_small/3/energy.json\n",
      "/home/brejac01/sources/lisa/results/20170103_173842/rtapp:energy_aware:three_small/4/energy.json\n",
      "/home/brejac01/sources/lisa/results/20170103_173842/rtapp:energy_aware:three_small/5/energy.json\n",
      "/home/brejac01/sources/lisa/results/20170103_173842/rtapp:energy_aware:two_big/1/energy.json\n",
      "/home/brejac01/sources/lisa/results/20170103_173842/rtapp:energy_aware:two_big/2/energy.json\n",
      "/home/brejac01/sources/lisa/results/20170103_173842/rtapp:energy_aware:two_big/3/energy.json\n",
      "/home/brejac01/sources/lisa/results/20170103_173842/rtapp:energy_aware:two_big/4/energy.json\n",
      "/home/brejac01/sources/lisa/results/20170103_173842/rtapp:energy_aware:two_big/5/energy.json\n",
      "/home/brejac01/sources/lisa/results/20170103_173842/rtapp:energy_aware:two_big_three_small/1/energy.json\n",
      "/home/brejac01/sources/lisa/results/20170103_173842/rtapp:energy_aware:two_big_three_small/2/energy.json\n",
      "/home/brejac01/sources/lisa/results/20170103_173842/rtapp:energy_aware:two_big_three_small/3/energy.json\n",
      "/home/brejac01/sources/lisa/results/20170103_173842/rtapp:energy_aware:two_big_three_small/4/energy.json\n",
      "/home/brejac01/sources/lisa/results/20170103_173842/rtapp:energy_aware:two_big_three_small/5/energy.json\n",
      "/home/brejac01/sources/lisa/results/20170103_173842/rtapp:energy_aware:ramp_up/1/energy.json\n",
      "/home/brejac01/sources/lisa/results/20170103_173842/rtapp:energy_aware:ramp_up/2/energy.json\n",
      "/home/brejac01/sources/lisa/results/20170103_173842/rtapp:energy_aware:ramp_up/3/energy.json\n",
      "/home/brejac01/sources/lisa/results/20170103_173842/rtapp:energy_aware:ramp_up/4/energy.json\n",
      "/home/brejac01/sources/lisa/results/20170103_173842/rtapp:energy_aware:ramp_up/5/energy.json\n",
      "/home/brejac01/sources/lisa/results/20170103_173842/rtapp:energy_aware:ramp_down/1/energy.json\n",
      "/home/brejac01/sources/lisa/results/20170103_173842/rtapp:energy_aware:ramp_down/2/energy.json\n",
      "/home/brejac01/sources/lisa/results/20170103_173842/rtapp:energy_aware:ramp_down/3/energy.json\n",
      "/home/brejac01/sources/lisa/results/20170103_173842/rtapp:energy_aware:ramp_down/4/energy.json\n",
      "/home/brejac01/sources/lisa/results/20170103_173842/rtapp:energy_aware:ramp_down/5/energy.json\n",
      "/home/brejac01/sources/lisa/results/20170103_173842/rtapp:energy_aware:wake_migration/1/energy.json\n",
      "/home/brejac01/sources/lisa/results/20170103_173842/rtapp:energy_aware:wake_migration/2/energy.json\n",
      "/home/brejac01/sources/lisa/results/20170103_173842/rtapp:energy_aware:wake_migration/3/energy.json\n",
      "/home/brejac01/sources/lisa/results/20170103_173842/rtapp:energy_aware:wake_migration/4/energy.json\n",
      "/home/brejac01/sources/lisa/results/20170103_173842/rtapp:energy_aware:wake_migration/5/energy.json\n"
     ]
    }
   ],
   "source": [
    "measured_data = []\n",
    "for exp in all_experiments:\n",
    "    json_path = os.path.join(exp.out_dir, \"energy.json\")\n",
    "    with open(json_path) as f:\n",
    "        energy = json.load(f)\n",
    "    measured_data.append(sum(energy.values()))"
   ]
  },
  {
   "cell_type": "markdown",
   "metadata": {},
   "source": [
    "## Get estimated energy"
   ]
  },
  {
   "cell_type": "code",
   "execution_count": 32,
   "metadata": {
    "collapsed": false,
    "scrolled": true
   },
   "outputs": [
    {
     "name": "stderr",
     "output_type": "stream",
     "text": [
      "2017-01-03 18:05:42,699 INFO    : Trace        : Parsing FTrace format...\n",
      "2017-01-03 18:05:43,213 INFO    : Trace        : Collected events spans a 13.517 [s] time interval\n",
      "2017-01-03 18:05:43,215 INFO    : Trace        : Overutilized time: 0.602267 [s] (4.456% of trace time)\n",
      "2017-01-03 18:05:43,216 INFO    : Trace        : Set plots time range to (0.000000, 13.517306)[s]\n",
      "2017-01-03 18:05:43,217 INFO    : Analysis     : Registering trace analysis modules:\n",
      "2017-01-03 18:05:43,218 INFO    : Analysis     :    tasks\n",
      "2017-01-03 18:05:43,219 INFO    : Analysis     :    eas\n",
      "2017-01-03 18:05:43,220 INFO    : Analysis     :    latency\n",
      "2017-01-03 18:05:43,220 INFO    : Analysis     :    frequency\n",
      "2017-01-03 18:05:43,221 INFO    : Analysis     :    functions\n",
      "2017-01-03 18:05:43,222 INFO    : Analysis     :    idle\n",
      "2017-01-03 18:05:43,223 INFO    : Analysis     :    status\n",
      "2017-01-03 18:05:43,224 INFO    : Analysis     :    cpus\n",
      "2017-01-03 18:05:43,239 INFO    : Trace        : Parsing FTrace format...\n"
     ]
    },
    {
     "name": "stdout",
     "output_type": "stream",
     "text": [
      "Maximum estimated system energy: 1725\n"
     ]
    },
    {
     "name": "stderr",
     "output_type": "stream",
     "text": [
      "2017-01-03 18:05:43,703 INFO    : Trace        : Collected events spans a 13.517 [s] time interval\n",
      "2017-01-03 18:05:43,705 INFO    : Trace        : Overutilized time: 0.602267 [s] (4.456% of trace time)\n",
      "2017-01-03 18:05:43,706 INFO    : Trace        : Set plots time range to (0.000000, 13.517306)[s]\n",
      "2017-01-03 18:05:43,706 INFO    : Analysis     : Registering trace analysis modules:\n",
      "2017-01-03 18:05:43,707 INFO    : Analysis     :    tasks\n",
      "2017-01-03 18:05:43,708 INFO    : Analysis     :    eas\n",
      "2017-01-03 18:05:43,709 INFO    : Analysis     :    latency\n",
      "2017-01-03 18:05:43,710 INFO    : Analysis     :    frequency\n",
      "2017-01-03 18:05:43,711 INFO    : Analysis     :    functions\n",
      "2017-01-03 18:05:43,712 INFO    : Analysis     :    idle\n",
      "2017-01-03 18:05:43,713 INFO    : Analysis     :    status\n",
      "2017-01-03 18:05:43,713 INFO    : Analysis     :    cpus\n",
      "2017-01-03 18:05:43,726 INFO    : Trace        : Parsing FTrace format...\n"
     ]
    },
    {
     "name": "stdout",
     "output_type": "stream",
     "text": [
      "Maximum estimated system energy: 1725\n"
     ]
    },
    {
     "name": "stderr",
     "output_type": "stream",
     "text": [
      "2017-01-03 18:05:44,140 INFO    : Trace        : Collected events spans a 13.517 [s] time interval\n",
      "2017-01-03 18:05:44,142 INFO    : Trace        : Overutilized time: 0.602267 [s] (4.456% of trace time)\n",
      "2017-01-03 18:05:44,143 INFO    : Trace        : Set plots time range to (0.000000, 13.517306)[s]\n",
      "2017-01-03 18:05:44,144 INFO    : Analysis     : Registering trace analysis modules:\n",
      "2017-01-03 18:05:44,146 INFO    : Analysis     :    tasks\n",
      "2017-01-03 18:05:44,147 INFO    : Analysis     :    eas\n",
      "2017-01-03 18:05:44,148 INFO    : Analysis     :    latency\n",
      "2017-01-03 18:05:44,149 INFO    : Analysis     :    frequency\n",
      "2017-01-03 18:05:44,150 INFO    : Analysis     :    functions\n",
      "2017-01-03 18:05:44,151 INFO    : Analysis     :    idle\n",
      "2017-01-03 18:05:44,153 INFO    : Analysis     :    status\n",
      "2017-01-03 18:05:44,154 INFO    : Analysis     :    cpus\n",
      "2017-01-03 18:05:44,179 INFO    : Trace        : Parsing FTrace format...\n"
     ]
    },
    {
     "name": "stdout",
     "output_type": "stream",
     "text": [
      "Maximum estimated system energy: 1725\n"
     ]
    },
    {
     "name": "stderr",
     "output_type": "stream",
     "text": [
      "2017-01-03 18:05:44,695 INFO    : Trace        : Collected events spans a 13.517 [s] time interval\n",
      "2017-01-03 18:05:44,697 INFO    : Trace        : Overutilized time: 0.602267 [s] (4.456% of trace time)\n",
      "2017-01-03 18:05:44,698 INFO    : Trace        : Set plots time range to (0.000000, 13.517306)[s]\n",
      "2017-01-03 18:05:44,699 INFO    : Analysis     : Registering trace analysis modules:\n",
      "2017-01-03 18:05:44,700 INFO    : Analysis     :    tasks\n",
      "2017-01-03 18:05:44,701 INFO    : Analysis     :    eas\n",
      "2017-01-03 18:05:44,702 INFO    : Analysis     :    latency\n",
      "2017-01-03 18:05:44,702 INFO    : Analysis     :    frequency\n",
      "2017-01-03 18:05:44,703 INFO    : Analysis     :    functions\n",
      "2017-01-03 18:05:44,704 INFO    : Analysis     :    idle\n",
      "2017-01-03 18:05:44,705 INFO    : Analysis     :    status\n",
      "2017-01-03 18:05:44,706 INFO    : Analysis     :    cpus\n",
      "2017-01-03 18:05:44,721 INFO    : Trace        : Parsing FTrace format...\n"
     ]
    },
    {
     "name": "stdout",
     "output_type": "stream",
     "text": [
      "Maximum estimated system energy: 1725\n"
     ]
    },
    {
     "name": "stderr",
     "output_type": "stream",
     "text": [
      "2017-01-03 18:05:45,187 INFO    : Trace        : Collected events spans a 13.517 [s] time interval\n",
      "2017-01-03 18:05:45,189 INFO    : Trace        : Overutilized time: 0.602267 [s] (4.456% of trace time)\n",
      "2017-01-03 18:05:45,190 INFO    : Trace        : Set plots time range to (0.000000, 13.517306)[s]\n",
      "2017-01-03 18:05:45,191 INFO    : Analysis     : Registering trace analysis modules:\n",
      "2017-01-03 18:05:45,192 INFO    : Analysis     :    tasks\n",
      "2017-01-03 18:05:45,193 INFO    : Analysis     :    eas\n",
      "2017-01-03 18:05:45,194 INFO    : Analysis     :    latency\n",
      "2017-01-03 18:05:45,195 INFO    : Analysis     :    frequency\n",
      "2017-01-03 18:05:45,196 INFO    : Analysis     :    functions\n",
      "2017-01-03 18:05:45,197 INFO    : Analysis     :    idle\n",
      "2017-01-03 18:05:45,198 INFO    : Analysis     :    status\n",
      "2017-01-03 18:05:45,198 INFO    : Analysis     :    cpus\n",
      "2017-01-03 18:05:45,211 INFO    : Trace        : Parsing FTrace format...\n"
     ]
    },
    {
     "name": "stdout",
     "output_type": "stream",
     "text": [
      "Maximum estimated system energy: 1725\n"
     ]
    },
    {
     "name": "stderr",
     "output_type": "stream",
     "text": [
      "2017-01-03 18:05:45,820 INFO    : Trace        : Collected events spans a 13.869 [s] time interval\n",
      "2017-01-03 18:05:45,822 INFO    : Trace        : Overutilized time: 0.899097 [s] (6.483% of trace time)\n",
      "2017-01-03 18:05:45,823 INFO    : Trace        : Set plots time range to (0.000000, 13.869172)[s]\n",
      "2017-01-03 18:05:45,824 INFO    : Analysis     : Registering trace analysis modules:\n",
      "2017-01-03 18:05:45,825 INFO    : Analysis     :    tasks\n",
      "2017-01-03 18:05:45,826 INFO    : Analysis     :    eas\n",
      "2017-01-03 18:05:45,826 INFO    : Analysis     :    latency\n",
      "2017-01-03 18:05:45,827 INFO    : Analysis     :    frequency\n",
      "2017-01-03 18:05:45,828 INFO    : Analysis     :    functions\n",
      "2017-01-03 18:05:45,829 INFO    : Analysis     :    idle\n",
      "2017-01-03 18:05:45,830 INFO    : Analysis     :    status\n",
      "2017-01-03 18:05:45,831 INFO    : Analysis     :    cpus\n",
      "2017-01-03 18:05:45,887 INFO    : Trace        : Parsing FTrace format...\n"
     ]
    },
    {
     "name": "stdout",
     "output_type": "stream",
     "text": [
      "Maximum estimated system energy: 1725\n"
     ]
    },
    {
     "name": "stderr",
     "output_type": "stream",
     "text": [
      "2017-01-03 18:05:46,517 INFO    : Trace        : Collected events spans a 13.869 [s] time interval\n",
      "2017-01-03 18:05:46,519 INFO    : Trace        : Overutilized time: 0.899097 [s] (6.483% of trace time)\n",
      "2017-01-03 18:05:46,520 INFO    : Trace        : Set plots time range to (0.000000, 13.869172)[s]\n",
      "2017-01-03 18:05:46,521 INFO    : Analysis     : Registering trace analysis modules:\n",
      "2017-01-03 18:05:46,522 INFO    : Analysis     :    tasks\n",
      "2017-01-03 18:05:46,523 INFO    : Analysis     :    eas\n",
      "2017-01-03 18:05:46,524 INFO    : Analysis     :    latency\n",
      "2017-01-03 18:05:46,525 INFO    : Analysis     :    frequency\n",
      "2017-01-03 18:05:46,526 INFO    : Analysis     :    functions\n",
      "2017-01-03 18:05:46,527 INFO    : Analysis     :    idle\n",
      "2017-01-03 18:05:46,527 INFO    : Analysis     :    status\n",
      "2017-01-03 18:05:46,528 INFO    : Analysis     :    cpus\n",
      "2017-01-03 18:05:46,584 INFO    : Trace        : Parsing FTrace format...\n"
     ]
    },
    {
     "name": "stdout",
     "output_type": "stream",
     "text": [
      "Maximum estimated system energy: 1725\n"
     ]
    },
    {
     "name": "stderr",
     "output_type": "stream",
     "text": [
      "2017-01-03 18:05:47,201 INFO    : Trace        : Collected events spans a 13.869 [s] time interval\n",
      "2017-01-03 18:05:47,203 INFO    : Trace        : Overutilized time: 0.899097 [s] (6.483% of trace time)\n",
      "2017-01-03 18:05:47,204 INFO    : Trace        : Set plots time range to (0.000000, 13.869172)[s]\n",
      "2017-01-03 18:05:47,205 INFO    : Analysis     : Registering trace analysis modules:\n",
      "2017-01-03 18:05:47,206 INFO    : Analysis     :    tasks\n",
      "2017-01-03 18:05:47,207 INFO    : Analysis     :    eas\n",
      "2017-01-03 18:05:47,207 INFO    : Analysis     :    latency\n",
      "2017-01-03 18:05:47,208 INFO    : Analysis     :    frequency\n",
      "2017-01-03 18:05:47,209 INFO    : Analysis     :    functions\n",
      "2017-01-03 18:05:47,210 INFO    : Analysis     :    idle\n",
      "2017-01-03 18:05:47,211 INFO    : Analysis     :    status\n",
      "2017-01-03 18:05:47,212 INFO    : Analysis     :    cpus\n",
      "2017-01-03 18:05:47,267 INFO    : Trace        : Parsing FTrace format...\n"
     ]
    },
    {
     "name": "stdout",
     "output_type": "stream",
     "text": [
      "Maximum estimated system energy: 1725\n"
     ]
    },
    {
     "name": "stderr",
     "output_type": "stream",
     "text": [
      "2017-01-03 18:05:47,906 INFO    : Trace        : Collected events spans a 13.869 [s] time interval\n",
      "2017-01-03 18:05:47,908 INFO    : Trace        : Overutilized time: 0.899097 [s] (6.483% of trace time)\n",
      "2017-01-03 18:05:47,909 INFO    : Trace        : Set plots time range to (0.000000, 13.869172)[s]\n",
      "2017-01-03 18:05:47,910 INFO    : Analysis     : Registering trace analysis modules:\n",
      "2017-01-03 18:05:47,911 INFO    : Analysis     :    tasks\n",
      "2017-01-03 18:05:47,912 INFO    : Analysis     :    eas\n",
      "2017-01-03 18:05:47,913 INFO    : Analysis     :    latency\n",
      "2017-01-03 18:05:47,914 INFO    : Analysis     :    frequency\n",
      "2017-01-03 18:05:47,914 INFO    : Analysis     :    functions\n",
      "2017-01-03 18:05:47,915 INFO    : Analysis     :    idle\n",
      "2017-01-03 18:05:47,916 INFO    : Analysis     :    status\n",
      "2017-01-03 18:05:47,917 INFO    : Analysis     :    cpus\n",
      "2017-01-03 18:05:47,972 INFO    : Trace        : Parsing FTrace format...\n"
     ]
    },
    {
     "name": "stdout",
     "output_type": "stream",
     "text": [
      "Maximum estimated system energy: 1725\n"
     ]
    },
    {
     "name": "stderr",
     "output_type": "stream",
     "text": [
      "2017-01-03 18:05:48,658 INFO    : Trace        : Collected events spans a 13.869 [s] time interval\n",
      "2017-01-03 18:05:48,659 INFO    : Trace        : Overutilized time: 0.899097 [s] (6.483% of trace time)\n",
      "2017-01-03 18:05:48,660 INFO    : Trace        : Set plots time range to (0.000000, 13.869172)[s]\n",
      "2017-01-03 18:05:48,661 INFO    : Analysis     : Registering trace analysis modules:\n",
      "2017-01-03 18:05:48,662 INFO    : Analysis     :    tasks\n",
      "2017-01-03 18:05:48,663 INFO    : Analysis     :    eas\n",
      "2017-01-03 18:05:48,664 INFO    : Analysis     :    latency\n",
      "2017-01-03 18:05:48,664 INFO    : Analysis     :    frequency\n",
      "2017-01-03 18:05:48,665 INFO    : Analysis     :    functions\n",
      "2017-01-03 18:05:48,666 INFO    : Analysis     :    idle\n",
      "2017-01-03 18:05:48,667 INFO    : Analysis     :    status\n",
      "2017-01-03 18:05:48,668 INFO    : Analysis     :    cpus\n",
      "2017-01-03 18:05:48,723 INFO    : Trace        : Parsing FTrace format...\n"
     ]
    },
    {
     "name": "stdout",
     "output_type": "stream",
     "text": [
      "Maximum estimated system energy: 1725\n"
     ]
    },
    {
     "name": "stderr",
     "output_type": "stream",
     "text": [
      "2017-01-03 18:05:49,305 INFO    : Trace        : Collected events spans a 13.692 [s] time interval\n",
      "2017-01-03 18:05:49,307 INFO    : Trace        : Overutilized time: 5.698536 [s] (41.619% of trace time)\n",
      "2017-01-03 18:05:49,308 INFO    : Trace        : Set plots time range to (0.000000, 13.692183)[s]\n",
      "2017-01-03 18:05:49,309 INFO    : Analysis     : Registering trace analysis modules:\n",
      "2017-01-03 18:05:49,310 INFO    : Analysis     :    tasks\n",
      "2017-01-03 18:05:49,311 INFO    : Analysis     :    eas\n",
      "2017-01-03 18:05:49,312 INFO    : Analysis     :    latency\n",
      "2017-01-03 18:05:49,312 INFO    : Analysis     :    frequency\n",
      "2017-01-03 18:05:49,313 INFO    : Analysis     :    functions\n",
      "2017-01-03 18:05:49,314 INFO    : Analysis     :    idle\n",
      "2017-01-03 18:05:49,315 INFO    : Analysis     :    status\n",
      "2017-01-03 18:05:49,316 INFO    : Analysis     :    cpus\n",
      "2017-01-03 18:05:49,336 INFO    : Trace        : Parsing FTrace format...\n"
     ]
    },
    {
     "name": "stdout",
     "output_type": "stream",
     "text": [
      "Maximum estimated system energy: 1725\n"
     ]
    },
    {
     "name": "stderr",
     "output_type": "stream",
     "text": [
      "2017-01-03 18:05:49,950 INFO    : Trace        : Collected events spans a 13.692 [s] time interval\n",
      "2017-01-03 18:05:49,951 INFO    : Trace        : Overutilized time: 5.698536 [s] (41.619% of trace time)\n",
      "2017-01-03 18:05:49,952 INFO    : Trace        : Set plots time range to (0.000000, 13.692183)[s]\n",
      "2017-01-03 18:05:49,953 INFO    : Analysis     : Registering trace analysis modules:\n",
      "2017-01-03 18:05:49,954 INFO    : Analysis     :    tasks\n",
      "2017-01-03 18:05:49,955 INFO    : Analysis     :    eas\n",
      "2017-01-03 18:05:49,955 INFO    : Analysis     :    latency\n",
      "2017-01-03 18:05:49,956 INFO    : Analysis     :    frequency\n",
      "2017-01-03 18:05:49,957 INFO    : Analysis     :    functions\n",
      "2017-01-03 18:05:49,957 INFO    : Analysis     :    idle\n",
      "2017-01-03 18:05:49,958 INFO    : Analysis     :    status\n",
      "2017-01-03 18:05:49,959 INFO    : Analysis     :    cpus\n",
      "2017-01-03 18:05:49,979 INFO    : Trace        : Parsing FTrace format...\n"
     ]
    },
    {
     "name": "stdout",
     "output_type": "stream",
     "text": [
      "Maximum estimated system energy: 1725\n"
     ]
    },
    {
     "name": "stderr",
     "output_type": "stream",
     "text": [
      "2017-01-03 18:05:50,571 INFO    : Trace        : Collected events spans a 13.692 [s] time interval\n",
      "2017-01-03 18:05:50,573 INFO    : Trace        : Overutilized time: 5.698536 [s] (41.619% of trace time)\n",
      "2017-01-03 18:05:50,573 INFO    : Trace        : Set plots time range to (0.000000, 13.692183)[s]\n",
      "2017-01-03 18:05:50,574 INFO    : Analysis     : Registering trace analysis modules:\n",
      "2017-01-03 18:05:50,575 INFO    : Analysis     :    tasks\n",
      "2017-01-03 18:05:50,575 INFO    : Analysis     :    eas\n",
      "2017-01-03 18:05:50,576 INFO    : Analysis     :    latency\n",
      "2017-01-03 18:05:50,576 INFO    : Analysis     :    frequency\n",
      "2017-01-03 18:05:50,577 INFO    : Analysis     :    functions\n",
      "2017-01-03 18:05:50,577 INFO    : Analysis     :    idle\n",
      "2017-01-03 18:05:50,578 INFO    : Analysis     :    status\n",
      "2017-01-03 18:05:50,578 INFO    : Analysis     :    cpus\n",
      "2017-01-03 18:05:50,599 INFO    : Trace        : Parsing FTrace format...\n"
     ]
    },
    {
     "name": "stdout",
     "output_type": "stream",
     "text": [
      "Maximum estimated system energy: 1725\n"
     ]
    },
    {
     "name": "stderr",
     "output_type": "stream",
     "text": [
      "2017-01-03 18:05:51,159 INFO    : Trace        : Collected events spans a 13.692 [s] time interval\n",
      "2017-01-03 18:05:51,161 INFO    : Trace        : Overutilized time: 5.698536 [s] (41.619% of trace time)\n",
      "2017-01-03 18:05:51,161 INFO    : Trace        : Set plots time range to (0.000000, 13.692183)[s]\n",
      "2017-01-03 18:05:51,162 INFO    : Analysis     : Registering trace analysis modules:\n",
      "2017-01-03 18:05:51,163 INFO    : Analysis     :    tasks\n",
      "2017-01-03 18:05:51,163 INFO    : Analysis     :    eas\n",
      "2017-01-03 18:05:51,164 INFO    : Analysis     :    latency\n",
      "2017-01-03 18:05:51,164 INFO    : Analysis     :    frequency\n",
      "2017-01-03 18:05:51,165 INFO    : Analysis     :    functions\n",
      "2017-01-03 18:05:51,166 INFO    : Analysis     :    idle\n",
      "2017-01-03 18:05:51,166 INFO    : Analysis     :    status\n",
      "2017-01-03 18:05:51,167 INFO    : Analysis     :    cpus\n",
      "2017-01-03 18:05:51,187 INFO    : Trace        : Parsing FTrace format...\n"
     ]
    },
    {
     "name": "stdout",
     "output_type": "stream",
     "text": [
      "Maximum estimated system energy: 1725\n"
     ]
    },
    {
     "name": "stderr",
     "output_type": "stream",
     "text": [
      "2017-01-03 18:05:51,944 INFO    : Trace        : Collected events spans a 13.692 [s] time interval\n",
      "2017-01-03 18:05:51,946 INFO    : Trace        : Overutilized time: 5.698536 [s] (41.619% of trace time)\n",
      "2017-01-03 18:05:51,947 INFO    : Trace        : Set plots time range to (0.000000, 13.692183)[s]\n",
      "2017-01-03 18:05:51,948 INFO    : Analysis     : Registering trace analysis modules:\n",
      "2017-01-03 18:05:51,949 INFO    : Analysis     :    tasks\n",
      "2017-01-03 18:05:51,950 INFO    : Analysis     :    eas\n",
      "2017-01-03 18:05:51,951 INFO    : Analysis     :    latency\n",
      "2017-01-03 18:05:51,952 INFO    : Analysis     :    frequency\n",
      "2017-01-03 18:05:51,953 INFO    : Analysis     :    functions\n",
      "2017-01-03 18:05:51,954 INFO    : Analysis     :    idle\n",
      "2017-01-03 18:05:51,955 INFO    : Analysis     :    status\n",
      "2017-01-03 18:05:51,956 INFO    : Analysis     :    cpus\n",
      "2017-01-03 18:05:51,986 INFO    : Trace        : Parsing FTrace format...\n"
     ]
    },
    {
     "name": "stdout",
     "output_type": "stream",
     "text": [
      "Maximum estimated system energy: 1725\n"
     ]
    },
    {
     "name": "stderr",
     "output_type": "stream",
     "text": [
      "2017-01-03 18:05:52,802 INFO    : Trace        : Collected events spans a 14.201 [s] time interval\n",
      "2017-01-03 18:05:52,803 INFO    : Trace        : Overutilized time: 1.111837 [s] (7.829% of trace time)\n",
      "2017-01-03 18:05:52,804 INFO    : Trace        : Set plots time range to (0.000000, 14.201258)[s]\n",
      "2017-01-03 18:05:52,805 INFO    : Analysis     : Registering trace analysis modules:\n",
      "2017-01-03 18:05:52,806 INFO    : Analysis     :    tasks\n",
      "2017-01-03 18:05:52,806 INFO    : Analysis     :    eas\n",
      "2017-01-03 18:05:52,807 INFO    : Analysis     :    latency\n",
      "2017-01-03 18:05:52,808 INFO    : Analysis     :    frequency\n",
      "2017-01-03 18:05:52,809 INFO    : Analysis     :    functions\n",
      "2017-01-03 18:05:52,809 INFO    : Analysis     :    idle\n",
      "2017-01-03 18:05:52,810 INFO    : Analysis     :    status\n",
      "2017-01-03 18:05:52,811 INFO    : Analysis     :    cpus\n",
      "2017-01-03 18:05:52,914 INFO    : Trace        : Parsing FTrace format...\n"
     ]
    },
    {
     "name": "stdout",
     "output_type": "stream",
     "text": [
      "Maximum estimated system energy: 1725\n"
     ]
    },
    {
     "name": "stderr",
     "output_type": "stream",
     "text": [
      "2017-01-03 18:05:53,700 INFO    : Trace        : Collected events spans a 14.201 [s] time interval\n",
      "2017-01-03 18:05:53,702 INFO    : Trace        : Overutilized time: 1.111837 [s] (7.829% of trace time)\n",
      "2017-01-03 18:05:53,702 INFO    : Trace        : Set plots time range to (0.000000, 14.201258)[s]\n",
      "2017-01-03 18:05:53,703 INFO    : Analysis     : Registering trace analysis modules:\n",
      "2017-01-03 18:05:53,704 INFO    : Analysis     :    tasks\n",
      "2017-01-03 18:05:53,705 INFO    : Analysis     :    eas\n",
      "2017-01-03 18:05:53,706 INFO    : Analysis     :    latency\n",
      "2017-01-03 18:05:53,707 INFO    : Analysis     :    frequency\n",
      "2017-01-03 18:05:53,708 INFO    : Analysis     :    functions\n",
      "2017-01-03 18:05:53,709 INFO    : Analysis     :    idle\n",
      "2017-01-03 18:05:53,710 INFO    : Analysis     :    status\n",
      "2017-01-03 18:05:53,712 INFO    : Analysis     :    cpus\n",
      "2017-01-03 18:05:53,853 INFO    : Trace        : Parsing FTrace format...\n"
     ]
    },
    {
     "name": "stdout",
     "output_type": "stream",
     "text": [
      "Maximum estimated system energy: 1725\n"
     ]
    },
    {
     "name": "stderr",
     "output_type": "stream",
     "text": [
      "2017-01-03 18:05:54,707 INFO    : Trace        : Collected events spans a 14.201 [s] time interval\n",
      "2017-01-03 18:05:54,709 INFO    : Trace        : Overutilized time: 1.111837 [s] (7.829% of trace time)\n",
      "2017-01-03 18:05:54,710 INFO    : Trace        : Set plots time range to (0.000000, 14.201258)[s]\n",
      "2017-01-03 18:05:54,711 INFO    : Analysis     : Registering trace analysis modules:\n",
      "2017-01-03 18:05:54,712 INFO    : Analysis     :    tasks\n",
      "2017-01-03 18:05:54,712 INFO    : Analysis     :    eas\n",
      "2017-01-03 18:05:54,713 INFO    : Analysis     :    latency\n",
      "2017-01-03 18:05:54,714 INFO    : Analysis     :    frequency\n",
      "2017-01-03 18:05:54,715 INFO    : Analysis     :    functions\n",
      "2017-01-03 18:05:54,716 INFO    : Analysis     :    idle\n",
      "2017-01-03 18:05:54,717 INFO    : Analysis     :    status\n",
      "2017-01-03 18:05:54,718 INFO    : Analysis     :    cpus\n",
      "2017-01-03 18:05:54,820 INFO    : Trace        : Parsing FTrace format...\n"
     ]
    },
    {
     "name": "stdout",
     "output_type": "stream",
     "text": [
      "Maximum estimated system energy: 1725\n"
     ]
    },
    {
     "name": "stderr",
     "output_type": "stream",
     "text": [
      "2017-01-03 18:05:55,621 INFO    : Trace        : Collected events spans a 14.201 [s] time interval\n",
      "2017-01-03 18:05:55,623 INFO    : Trace        : Overutilized time: 1.111837 [s] (7.829% of trace time)\n",
      "2017-01-03 18:05:55,624 INFO    : Trace        : Set plots time range to (0.000000, 14.201258)[s]\n",
      "2017-01-03 18:05:55,624 INFO    : Analysis     : Registering trace analysis modules:\n",
      "2017-01-03 18:05:55,625 INFO    : Analysis     :    tasks\n",
      "2017-01-03 18:05:55,626 INFO    : Analysis     :    eas\n",
      "2017-01-03 18:05:55,627 INFO    : Analysis     :    latency\n",
      "2017-01-03 18:05:55,627 INFO    : Analysis     :    frequency\n",
      "2017-01-03 18:05:55,628 INFO    : Analysis     :    functions\n",
      "2017-01-03 18:05:55,629 INFO    : Analysis     :    idle\n",
      "2017-01-03 18:05:55,630 INFO    : Analysis     :    status\n",
      "2017-01-03 18:05:55,630 INFO    : Analysis     :    cpus\n",
      "2017-01-03 18:05:55,734 INFO    : Trace        : Parsing FTrace format...\n"
     ]
    },
    {
     "name": "stdout",
     "output_type": "stream",
     "text": [
      "Maximum estimated system energy: 1725\n"
     ]
    },
    {
     "name": "stderr",
     "output_type": "stream",
     "text": [
      "2017-01-03 18:05:56,529 INFO    : Trace        : Collected events spans a 14.201 [s] time interval\n",
      "2017-01-03 18:05:56,530 INFO    : Trace        : Overutilized time: 1.111837 [s] (7.829% of trace time)\n",
      "2017-01-03 18:05:56,531 INFO    : Trace        : Set plots time range to (0.000000, 14.201258)[s]\n",
      "2017-01-03 18:05:56,531 INFO    : Analysis     : Registering trace analysis modules:\n",
      "2017-01-03 18:05:56,532 INFO    : Analysis     :    tasks\n",
      "2017-01-03 18:05:56,533 INFO    : Analysis     :    eas\n",
      "2017-01-03 18:05:56,533 INFO    : Analysis     :    latency\n",
      "2017-01-03 18:05:56,534 INFO    : Analysis     :    frequency\n",
      "2017-01-03 18:05:56,535 INFO    : Analysis     :    functions\n",
      "2017-01-03 18:05:56,535 INFO    : Analysis     :    idle\n",
      "2017-01-03 18:05:56,536 INFO    : Analysis     :    status\n",
      "2017-01-03 18:05:56,537 INFO    : Analysis     :    cpus\n",
      "2017-01-03 18:05:56,639 INFO    : Trace        : Parsing FTrace format...\n"
     ]
    },
    {
     "name": "stdout",
     "output_type": "stream",
     "text": [
      "Maximum estimated system energy: 1725\n"
     ]
    },
    {
     "name": "stderr",
     "output_type": "stream",
     "text": [
      "2017-01-03 18:05:57,448 INFO    : Trace        : Collected events spans a 36.545 [s] time interval\n",
      "2017-01-03 18:05:57,450 INFO    : Trace        : Overutilized time: 2.633998 [s] (7.207% of trace time)\n",
      "2017-01-03 18:05:57,451 INFO    : Trace        : Set plots time range to (0.000000, 36.545244)[s]\n",
      "2017-01-03 18:05:57,452 INFO    : Analysis     : Registering trace analysis modules:\n",
      "2017-01-03 18:05:57,452 INFO    : Analysis     :    tasks\n",
      "2017-01-03 18:05:57,453 INFO    : Analysis     :    eas\n",
      "2017-01-03 18:05:57,454 INFO    : Analysis     :    latency\n",
      "2017-01-03 18:05:57,455 INFO    : Analysis     :    frequency\n",
      "2017-01-03 18:05:57,456 INFO    : Analysis     :    functions\n",
      "2017-01-03 18:05:57,456 INFO    : Analysis     :    idle\n",
      "2017-01-03 18:05:57,457 INFO    : Analysis     :    status\n",
      "2017-01-03 18:05:57,458 INFO    : Analysis     :    cpus\n",
      "2017-01-03 18:05:57,484 INFO    : Trace        : Parsing FTrace format...\n"
     ]
    },
    {
     "name": "stdout",
     "output_type": "stream",
     "text": [
      "Maximum estimated system energy: 1725\n"
     ]
    },
    {
     "name": "stderr",
     "output_type": "stream",
     "text": [
      "2017-01-03 18:05:58,307 INFO    : Trace        : Collected events spans a 36.545 [s] time interval\n",
      "2017-01-03 18:05:58,308 INFO    : Trace        : Overutilized time: 2.633998 [s] (7.207% of trace time)\n",
      "2017-01-03 18:05:58,309 INFO    : Trace        : Set plots time range to (0.000000, 36.545244)[s]\n",
      "2017-01-03 18:05:58,310 INFO    : Analysis     : Registering trace analysis modules:\n",
      "2017-01-03 18:05:58,310 INFO    : Analysis     :    tasks\n",
      "2017-01-03 18:05:58,311 INFO    : Analysis     :    eas\n",
      "2017-01-03 18:05:58,311 INFO    : Analysis     :    latency\n",
      "2017-01-03 18:05:58,312 INFO    : Analysis     :    frequency\n",
      "2017-01-03 18:05:58,313 INFO    : Analysis     :    functions\n",
      "2017-01-03 18:05:58,313 INFO    : Analysis     :    idle\n",
      "2017-01-03 18:05:58,314 INFO    : Analysis     :    status\n",
      "2017-01-03 18:05:58,314 INFO    : Analysis     :    cpus\n",
      "2017-01-03 18:05:58,340 INFO    : Trace        : Parsing FTrace format...\n"
     ]
    },
    {
     "name": "stdout",
     "output_type": "stream",
     "text": [
      "Maximum estimated system energy: 1725\n"
     ]
    },
    {
     "name": "stderr",
     "output_type": "stream",
     "text": [
      "2017-01-03 18:05:59,122 INFO    : Trace        : Collected events spans a 36.545 [s] time interval\n",
      "2017-01-03 18:05:59,124 INFO    : Trace        : Overutilized time: 2.633998 [s] (7.207% of trace time)\n",
      "2017-01-03 18:05:59,125 INFO    : Trace        : Set plots time range to (0.000000, 36.545244)[s]\n",
      "2017-01-03 18:05:59,126 INFO    : Analysis     : Registering trace analysis modules:\n",
      "2017-01-03 18:05:59,127 INFO    : Analysis     :    tasks\n",
      "2017-01-03 18:05:59,127 INFO    : Analysis     :    eas\n",
      "2017-01-03 18:05:59,128 INFO    : Analysis     :    latency\n",
      "2017-01-03 18:05:59,129 INFO    : Analysis     :    frequency\n",
      "2017-01-03 18:05:59,130 INFO    : Analysis     :    functions\n",
      "2017-01-03 18:05:59,131 INFO    : Analysis     :    idle\n",
      "2017-01-03 18:05:59,131 INFO    : Analysis     :    status\n",
      "2017-01-03 18:05:59,132 INFO    : Analysis     :    cpus\n",
      "2017-01-03 18:05:59,158 INFO    : Trace        : Parsing FTrace format...\n"
     ]
    },
    {
     "name": "stdout",
     "output_type": "stream",
     "text": [
      "Maximum estimated system energy: 1725\n"
     ]
    },
    {
     "name": "stderr",
     "output_type": "stream",
     "text": [
      "2017-01-03 18:05:59,944 INFO    : Trace        : Collected events spans a 36.545 [s] time interval\n",
      "2017-01-03 18:05:59,945 INFO    : Trace        : Overutilized time: 2.633998 [s] (7.207% of trace time)\n",
      "2017-01-03 18:05:59,946 INFO    : Trace        : Set plots time range to (0.000000, 36.545244)[s]\n",
      "2017-01-03 18:05:59,947 INFO    : Analysis     : Registering trace analysis modules:\n",
      "2017-01-03 18:05:59,948 INFO    : Analysis     :    tasks\n",
      "2017-01-03 18:05:59,949 INFO    : Analysis     :    eas\n",
      "2017-01-03 18:05:59,950 INFO    : Analysis     :    latency\n",
      "2017-01-03 18:05:59,950 INFO    : Analysis     :    frequency\n",
      "2017-01-03 18:05:59,951 INFO    : Analysis     :    functions\n",
      "2017-01-03 18:05:59,952 INFO    : Analysis     :    idle\n",
      "2017-01-03 18:05:59,953 INFO    : Analysis     :    status\n",
      "2017-01-03 18:05:59,954 INFO    : Analysis     :    cpus\n",
      "2017-01-03 18:05:59,979 INFO    : Trace        : Parsing FTrace format...\n"
     ]
    },
    {
     "name": "stdout",
     "output_type": "stream",
     "text": [
      "Maximum estimated system energy: 1725\n"
     ]
    },
    {
     "name": "stderr",
     "output_type": "stream",
     "text": [
      "2017-01-03 18:06:00,749 INFO    : Trace        : Collected events spans a 36.545 [s] time interval\n",
      "2017-01-03 18:06:00,750 INFO    : Trace        : Overutilized time: 2.633998 [s] (7.207% of trace time)\n",
      "2017-01-03 18:06:00,751 INFO    : Trace        : Set plots time range to (0.000000, 36.545244)[s]\n",
      "2017-01-03 18:06:00,752 INFO    : Analysis     : Registering trace analysis modules:\n",
      "2017-01-03 18:06:00,752 INFO    : Analysis     :    tasks\n",
      "2017-01-03 18:06:00,753 INFO    : Analysis     :    eas\n",
      "2017-01-03 18:06:00,754 INFO    : Analysis     :    latency\n",
      "2017-01-03 18:06:00,754 INFO    : Analysis     :    frequency\n",
      "2017-01-03 18:06:00,755 INFO    : Analysis     :    functions\n",
      "2017-01-03 18:06:00,756 INFO    : Analysis     :    idle\n",
      "2017-01-03 18:06:00,756 INFO    : Analysis     :    status\n",
      "2017-01-03 18:06:00,757 INFO    : Analysis     :    cpus\n",
      "2017-01-03 18:06:00,783 INFO    : Trace        : Parsing FTrace format...\n"
     ]
    },
    {
     "name": "stdout",
     "output_type": "stream",
     "text": [
      "Maximum estimated system energy: 1725\n"
     ]
    },
    {
     "name": "stderr",
     "output_type": "stream",
     "text": [
      "2017-01-03 18:06:01,519 INFO    : Trace        : Collected events spans a 36.529 [s] time interval\n",
      "2017-01-03 18:06:01,521 INFO    : Trace        : Overutilized time: 2.341921 [s] (6.411% of trace time)\n",
      "2017-01-03 18:06:01,522 INFO    : Trace        : Set plots time range to (0.000000, 36.529253)[s]\n",
      "2017-01-03 18:06:01,522 INFO    : Analysis     : Registering trace analysis modules:\n",
      "2017-01-03 18:06:01,523 INFO    : Analysis     :    tasks\n",
      "2017-01-03 18:06:01,524 INFO    : Analysis     :    eas\n",
      "2017-01-03 18:06:01,525 INFO    : Analysis     :    latency\n",
      "2017-01-03 18:06:01,526 INFO    : Analysis     :    frequency\n",
      "2017-01-03 18:06:01,527 INFO    : Analysis     :    functions\n",
      "2017-01-03 18:06:01,528 INFO    : Analysis     :    idle\n",
      "2017-01-03 18:06:01,529 INFO    : Analysis     :    status\n",
      "2017-01-03 18:06:01,529 INFO    : Analysis     :    cpus\n",
      "2017-01-03 18:06:01,553 INFO    : Trace        : Parsing FTrace format...\n"
     ]
    },
    {
     "name": "stdout",
     "output_type": "stream",
     "text": [
      "Maximum estimated system energy: 1725\n"
     ]
    },
    {
     "name": "stderr",
     "output_type": "stream",
     "text": [
      "2017-01-03 18:06:02,280 INFO    : Trace        : Collected events spans a 36.529 [s] time interval\n",
      "2017-01-03 18:06:02,282 INFO    : Trace        : Overutilized time: 2.341921 [s] (6.411% of trace time)\n",
      "2017-01-03 18:06:02,283 INFO    : Trace        : Set plots time range to (0.000000, 36.529253)[s]\n",
      "2017-01-03 18:06:02,283 INFO    : Analysis     : Registering trace analysis modules:\n",
      "2017-01-03 18:06:02,284 INFO    : Analysis     :    tasks\n",
      "2017-01-03 18:06:02,285 INFO    : Analysis     :    eas\n",
      "2017-01-03 18:06:02,286 INFO    : Analysis     :    latency\n",
      "2017-01-03 18:06:02,287 INFO    : Analysis     :    frequency\n",
      "2017-01-03 18:06:02,288 INFO    : Analysis     :    functions\n",
      "2017-01-03 18:06:02,289 INFO    : Analysis     :    idle\n",
      "2017-01-03 18:06:02,290 INFO    : Analysis     :    status\n",
      "2017-01-03 18:06:02,290 INFO    : Analysis     :    cpus\n",
      "2017-01-03 18:06:02,313 INFO    : Trace        : Parsing FTrace format...\n"
     ]
    },
    {
     "name": "stdout",
     "output_type": "stream",
     "text": [
      "Maximum estimated system energy: 1725\n"
     ]
    },
    {
     "name": "stderr",
     "output_type": "stream",
     "text": [
      "2017-01-03 18:06:03,050 INFO    : Trace        : Collected events spans a 36.529 [s] time interval\n",
      "2017-01-03 18:06:03,052 INFO    : Trace        : Overutilized time: 2.341921 [s] (6.411% of trace time)\n",
      "2017-01-03 18:06:03,053 INFO    : Trace        : Set plots time range to (0.000000, 36.529253)[s]\n",
      "2017-01-03 18:06:03,054 INFO    : Analysis     : Registering trace analysis modules:\n",
      "2017-01-03 18:06:03,055 INFO    : Analysis     :    tasks\n",
      "2017-01-03 18:06:03,056 INFO    : Analysis     :    eas\n",
      "2017-01-03 18:06:03,056 INFO    : Analysis     :    latency\n",
      "2017-01-03 18:06:03,057 INFO    : Analysis     :    frequency\n",
      "2017-01-03 18:06:03,058 INFO    : Analysis     :    functions\n",
      "2017-01-03 18:06:03,059 INFO    : Analysis     :    idle\n",
      "2017-01-03 18:06:03,060 INFO    : Analysis     :    status\n",
      "2017-01-03 18:06:03,060 INFO    : Analysis     :    cpus\n",
      "2017-01-03 18:06:03,083 INFO    : Trace        : Parsing FTrace format...\n"
     ]
    },
    {
     "name": "stdout",
     "output_type": "stream",
     "text": [
      "Maximum estimated system energy: 1725\n"
     ]
    },
    {
     "name": "stderr",
     "output_type": "stream",
     "text": [
      "2017-01-03 18:06:03,826 INFO    : Trace        : Collected events spans a 36.529 [s] time interval\n",
      "2017-01-03 18:06:03,828 INFO    : Trace        : Overutilized time: 2.341921 [s] (6.411% of trace time)\n",
      "2017-01-03 18:06:03,829 INFO    : Trace        : Set plots time range to (0.000000, 36.529253)[s]\n",
      "2017-01-03 18:06:03,830 INFO    : Analysis     : Registering trace analysis modules:\n",
      "2017-01-03 18:06:03,831 INFO    : Analysis     :    tasks\n",
      "2017-01-03 18:06:03,833 INFO    : Analysis     :    eas\n",
      "2017-01-03 18:06:03,834 INFO    : Analysis     :    latency\n",
      "2017-01-03 18:06:03,835 INFO    : Analysis     :    frequency\n",
      "2017-01-03 18:06:03,836 INFO    : Analysis     :    functions\n",
      "2017-01-03 18:06:03,838 INFO    : Analysis     :    idle\n",
      "2017-01-03 18:06:03,839 INFO    : Analysis     :    status\n",
      "2017-01-03 18:06:03,840 INFO    : Analysis     :    cpus\n",
      "2017-01-03 18:06:03,864 INFO    : Trace        : Parsing FTrace format...\n"
     ]
    },
    {
     "name": "stdout",
     "output_type": "stream",
     "text": [
      "Maximum estimated system energy: 1725\n"
     ]
    },
    {
     "name": "stderr",
     "output_type": "stream",
     "text": [
      "2017-01-03 18:06:04,604 INFO    : Trace        : Collected events spans a 36.529 [s] time interval\n",
      "2017-01-03 18:06:04,606 INFO    : Trace        : Overutilized time: 2.341921 [s] (6.411% of trace time)\n",
      "2017-01-03 18:06:04,607 INFO    : Trace        : Set plots time range to (0.000000, 36.529253)[s]\n",
      "2017-01-03 18:06:04,608 INFO    : Analysis     : Registering trace analysis modules:\n",
      "2017-01-03 18:06:04,609 INFO    : Analysis     :    tasks\n",
      "2017-01-03 18:06:04,610 INFO    : Analysis     :    eas\n",
      "2017-01-03 18:06:04,610 INFO    : Analysis     :    latency\n",
      "2017-01-03 18:06:04,611 INFO    : Analysis     :    frequency\n",
      "2017-01-03 18:06:04,612 INFO    : Analysis     :    functions\n",
      "2017-01-03 18:06:04,613 INFO    : Analysis     :    idle\n",
      "2017-01-03 18:06:04,613 INFO    : Analysis     :    status\n",
      "2017-01-03 18:06:04,614 INFO    : Analysis     :    cpus\n",
      "2017-01-03 18:06:04,637 INFO    : Trace        : Parsing FTrace format...\n"
     ]
    },
    {
     "name": "stdout",
     "output_type": "stream",
     "text": [
      "Maximum estimated system energy: 1725\n"
     ]
    },
    {
     "name": "stderr",
     "output_type": "stream",
     "text": [
      "2017-01-03 18:06:05,054 INFO    : Trace        : Collected events spans a 12.717 [s] time interval\n",
      "2017-01-03 18:06:05,056 INFO    : Trace        : Overutilized time: 2.773233 [s] (21.807% of trace time)\n",
      "2017-01-03 18:06:05,057 INFO    : Trace        : Set plots time range to (0.000000, 12.716915)[s]\n",
      "2017-01-03 18:06:05,058 INFO    : Analysis     : Registering trace analysis modules:\n",
      "2017-01-03 18:06:05,059 INFO    : Analysis     :    tasks\n",
      "2017-01-03 18:06:05,060 INFO    : Analysis     :    eas\n",
      "2017-01-03 18:06:05,061 INFO    : Analysis     :    latency\n",
      "2017-01-03 18:06:05,062 INFO    : Analysis     :    frequency\n",
      "2017-01-03 18:06:05,062 INFO    : Analysis     :    functions\n",
      "2017-01-03 18:06:05,063 INFO    : Analysis     :    idle\n",
      "2017-01-03 18:06:05,064 INFO    : Analysis     :    status\n",
      "2017-01-03 18:06:05,065 INFO    : Analysis     :    cpus\n",
      "2017-01-03 18:06:05,097 INFO    : Trace        : Parsing FTrace format...\n"
     ]
    },
    {
     "name": "stdout",
     "output_type": "stream",
     "text": [
      "Maximum estimated system energy: 1725\n"
     ]
    },
    {
     "name": "stderr",
     "output_type": "stream",
     "text": [
      "2017-01-03 18:06:05,516 INFO    : Trace        : Collected events spans a 12.717 [s] time interval\n",
      "2017-01-03 18:06:05,518 INFO    : Trace        : Overutilized time: 2.773233 [s] (21.807% of trace time)\n",
      "2017-01-03 18:06:05,518 INFO    : Trace        : Set plots time range to (0.000000, 12.716915)[s]\n",
      "2017-01-03 18:06:05,519 INFO    : Analysis     : Registering trace analysis modules:\n",
      "2017-01-03 18:06:05,520 INFO    : Analysis     :    tasks\n",
      "2017-01-03 18:06:05,521 INFO    : Analysis     :    eas\n",
      "2017-01-03 18:06:05,522 INFO    : Analysis     :    latency\n",
      "2017-01-03 18:06:05,523 INFO    : Analysis     :    frequency\n",
      "2017-01-03 18:06:05,524 INFO    : Analysis     :    functions\n",
      "2017-01-03 18:06:05,525 INFO    : Analysis     :    idle\n",
      "2017-01-03 18:06:05,525 INFO    : Analysis     :    status\n",
      "2017-01-03 18:06:05,526 INFO    : Analysis     :    cpus\n",
      "2017-01-03 18:06:05,559 INFO    : Trace        : Parsing FTrace format...\n"
     ]
    },
    {
     "name": "stdout",
     "output_type": "stream",
     "text": [
      "Maximum estimated system energy: 1725\n"
     ]
    },
    {
     "name": "stderr",
     "output_type": "stream",
     "text": [
      "2017-01-03 18:06:05,975 INFO    : Trace        : Collected events spans a 12.717 [s] time interval\n",
      "2017-01-03 18:06:05,977 INFO    : Trace        : Overutilized time: 2.773233 [s] (21.807% of trace time)\n",
      "2017-01-03 18:06:05,978 INFO    : Trace        : Set plots time range to (0.000000, 12.716915)[s]\n",
      "2017-01-03 18:06:05,979 INFO    : Analysis     : Registering trace analysis modules:\n",
      "2017-01-03 18:06:05,980 INFO    : Analysis     :    tasks\n",
      "2017-01-03 18:06:05,981 INFO    : Analysis     :    eas\n",
      "2017-01-03 18:06:05,982 INFO    : Analysis     :    latency\n",
      "2017-01-03 18:06:05,982 INFO    : Analysis     :    frequency\n",
      "2017-01-03 18:06:05,983 INFO    : Analysis     :    functions\n",
      "2017-01-03 18:06:05,984 INFO    : Analysis     :    idle\n",
      "2017-01-03 18:06:05,985 INFO    : Analysis     :    status\n",
      "2017-01-03 18:06:05,986 INFO    : Analysis     :    cpus\n",
      "2017-01-03 18:06:06,018 INFO    : Trace        : Parsing FTrace format...\n"
     ]
    },
    {
     "name": "stdout",
     "output_type": "stream",
     "text": [
      "Maximum estimated system energy: 1725\n"
     ]
    },
    {
     "name": "stderr",
     "output_type": "stream",
     "text": [
      "2017-01-03 18:06:06,442 INFO    : Trace        : Collected events spans a 12.717 [s] time interval\n",
      "2017-01-03 18:06:06,444 INFO    : Trace        : Overutilized time: 2.773233 [s] (21.807% of trace time)\n",
      "2017-01-03 18:06:06,445 INFO    : Trace        : Set plots time range to (0.000000, 12.716915)[s]\n",
      "2017-01-03 18:06:06,446 INFO    : Analysis     : Registering trace analysis modules:\n",
      "2017-01-03 18:06:06,447 INFO    : Analysis     :    tasks\n",
      "2017-01-03 18:06:06,448 INFO    : Analysis     :    eas\n",
      "2017-01-03 18:06:06,449 INFO    : Analysis     :    latency\n",
      "2017-01-03 18:06:06,450 INFO    : Analysis     :    frequency\n",
      "2017-01-03 18:06:06,450 INFO    : Analysis     :    functions\n",
      "2017-01-03 18:06:06,451 INFO    : Analysis     :    idle\n",
      "2017-01-03 18:06:06,452 INFO    : Analysis     :    status\n",
      "2017-01-03 18:06:06,453 INFO    : Analysis     :    cpus\n",
      "2017-01-03 18:06:06,485 INFO    : Trace        : Parsing FTrace format...\n"
     ]
    },
    {
     "name": "stdout",
     "output_type": "stream",
     "text": [
      "Maximum estimated system energy: 1725\n"
     ]
    },
    {
     "name": "stderr",
     "output_type": "stream",
     "text": [
      "2017-01-03 18:06:06,910 INFO    : Trace        : Collected events spans a 12.717 [s] time interval\n",
      "2017-01-03 18:06:06,912 INFO    : Trace        : Overutilized time: 2.773233 [s] (21.807% of trace time)\n",
      "2017-01-03 18:06:06,912 INFO    : Trace        : Set plots time range to (0.000000, 12.716915)[s]\n",
      "2017-01-03 18:06:06,914 INFO    : Analysis     : Registering trace analysis modules:\n",
      "2017-01-03 18:06:06,915 INFO    : Analysis     :    tasks\n",
      "2017-01-03 18:06:06,916 INFO    : Analysis     :    eas\n",
      "2017-01-03 18:06:06,917 INFO    : Analysis     :    latency\n",
      "2017-01-03 18:06:06,918 INFO    : Analysis     :    frequency\n",
      "2017-01-03 18:06:06,920 INFO    : Analysis     :    functions\n",
      "2017-01-03 18:06:06,921 INFO    : Analysis     :    idle\n",
      "2017-01-03 18:06:06,922 INFO    : Analysis     :    status\n",
      "2017-01-03 18:06:06,923 INFO    : Analysis     :    cpus\n"
     ]
    },
    {
     "name": "stdout",
     "output_type": "stream",
     "text": [
      "Maximum estimated system energy: 1725\n"
     ]
    }
   ],
   "source": [
    "est_data = []\n",
    "for t in tests:\n",
    "    for exp in t.executor.experiments:\n",
    "        power = t.get_power_df(t.executor.experiments[0])['power']\n",
    "        est_data.append(area_under_curve(power))"
   ]
  },
  {
   "cell_type": "markdown",
   "metadata": {},
   "source": [
    "# Compare `EnergyModel` estimation with measured value"
   ]
  },
  {
   "cell_type": "code",
   "execution_count": 36,
   "metadata": {
    "collapsed": false,
    "scrolled": false
   },
   "outputs": [
    {
     "name": "stdout",
     "output_type": "stream",
     "text": [
      "Help on method scatter in module pandas.tools.plotting:\n",
      "\n",
      "scatter(self, x, y, s=None, c=None, **kwds) method of pandas.tools.plotting.FramePlotMethods instance\n",
      "    Scatter plot\n",
      "    \n",
      "    .. versionadded:: 0.17.0\n",
      "    \n",
      "    Parameters\n",
      "    ----------\n",
      "    x, y : label or position, optional\n",
      "        Coordinates for each point.\n",
      "    s : scalar or array_like, optional\n",
      "        Size of each point.\n",
      "    c : label or position, optional\n",
      "        Color of each point.\n",
      "    **kwds : optional\n",
      "        Keyword arguments to pass on to :py:meth:`pandas.DataFrame.plot`.\n",
      "    \n",
      "    Returns\n",
      "    -------\n",
      "    axes : matplotlib.AxesSubplot or np.array of them\n",
      "\n"
     ]
    },
    {
     "data": {
      "text/plain": [
       "<matplotlib.axes.AxesSubplot at 0x7f7db5e68dd0>"
      ]
     },
     "execution_count": 36,
     "metadata": {},
     "output_type": "execute_result"
    },
    {
     "data": {
      "image/png": "[encoded data removed]",
      "text/plain": [
       "<matplotlib.figure.Figure at 0x7f7db6520c10>"
      ]
     },
     "metadata": {},
     "output_type": "display_data"
    }
   ],
   "source": [
    "df = pd.DataFrame({'measured': measured_data, 'estimated': est_data}, columns=['measured', 'estimated'])\n",
    "help(df.plot.scatter)\n",
    "df.plot.scatter(x='estimated', y='measured')"
   ]
  },
  {
   "cell_type": "code",
   "execution_count": 39,
   "metadata": {
    "collapsed": false
   },
   "outputs": [
    {
     "data": {
      "text/plain": [
       "Experiment(wload_name='two_big', wload=<wlgen.rta.RTA object at 0x7f7df9091550>, conf={'dtb': None, 'kernel': None, 'tag': 'energy_aware', 'flags': 'ftrace', 'sched_features': 'ENERGY_AWARE'}, iteration=1, out_dir='/home/brejac01/sources/lisa/results/20170103_173842/rtapp:energy_aware:two_big/1')"
      ]
     },
     "execution_count": 39,
     "metadata": {},
     "output_type": "execute_result"
    }
   ],
   "source": [
    "all_experiments[10]"
   ]
  },
  {
   "cell_type": "code",
   "execution_count": 44,
   "metadata": {
    "collapsed": false
   },
   "outputs": [],
   "source": [
    "t = scs[2]()"
   ]
  },
  {
   "cell_type": "code",
   "execution_count": 47,
   "metadata": {
    "collapsed": false
   },
   "outputs": [
    {
     "name": "stdout",
     "output_type": "stream",
     "text": [
      "Maximum estimated system energy: 1725\n"
     ]
    },
    {
     "data": {
      "text/html": [
       "<style>\n",
       "/*\n",
       " *    Copyright 2015-2016 ARM Limited\n",
       " *\n",
       " * Licensed under the Apache License, Version 2.0 (the \"License\");\n",
       " * you may not use this file except in compliance with the License.\n",
       " * You may obtain a copy of the License at\n",
       " *\n",
       " *     http://www.apache.org/licenses/LICENSE-2.0\n",
       " *\n",
       " * Unless required by applicable law or agreed to in writing, software\n",
       " * distributed under the License is distributed on an \"AS IS\" BASIS,\n",
       " * WITHOUT WARRANTIES OR CONDITIONS OF ANY KIND, either express or implied.\n",
       " * See the License for the specific language governing permissions and\n",
       " * limitations under the License.\n",
       " */\n",
       "\n",
       ".d3-tip {\n",
       "  line-height: 1;\n",
       "  padding: 12px;\n",
       "  background: rgba(0, 0, 0, 0.6);\n",
       "  color: #fff;\n",
       "  border-radius: 2px;\n",
       "  position: absolute !important;\n",
       "  z-index: 99999;\n",
       "}\n",
       "\n",
       ".d3-tip:after {\n",
       "  box-sizing: border-box;\n",
       "  pointer-events: none;\n",
       "  display: inline;\n",
       "  font-size: 10px;\n",
       "  width: 100%;\n",
       "  line-height: 1;\n",
       "  color: rgba(0, 0, 0, 0.6);\n",
       "  content: \"\\25BC\";\n",
       "  position: absolute !important;\n",
       "  z-index: 99999;\n",
       "  text-align: center;\n",
       "}\n",
       "\n",
       ".d3-tip.n:after {\n",
       "  margin: -1px 0 0 0;\n",
       "  top: 100%;\n",
       "  left: 0;\n",
       "}\n",
       "\n",
       ".contextRect {\n",
       "  fill: lightgray;\n",
       "  fill-opacity: 0.5;\n",
       "  stroke: black;\n",
       "  stroke-width: 1;\n",
       "  stroke-opacity: 1;\n",
       "  pointer-events: none;\n",
       "  shape-rendering: crispEdges;\n",
       "}\n",
       "\n",
       ".chart {\n",
       "  shape-rendering: crispEdges;\n",
       "}\n",
       "\n",
       ".mini text {\n",
       "  font: 9px sans-serif;\n",
       "}\n",
       "\n",
       ".main text {\n",
       "  font: 12px sans-serif;\n",
       "}\n",
       "\n",
       ".axis line, .axis path {\n",
       "  stroke: black;\n",
       "}\n",
       "\n",
       ".miniItem {\n",
       "  stroke-width: 8;\n",
       "}\n",
       "\n",
       ".brush .extent {\n",
       "\n",
       "  stroke: #000;\n",
       "  fill-opacity: .125;\n",
       "  shape-rendering: crispEdges;\n",
       "}\n",
       "</style>\n",
       "<div id=\"fig_8531cb74f2f94fa0a376ec796eeee17e\" class=\"eventplot\">\n",
       "<!-- TRAPPY_PUBLISH_SOURCE_LIB = \"https://cdnjs.cloudflare.com/ajax/libs/d3/3.5.6/d3.min.js\" -->\n",
       "<!-- TRAPPY_PUBLISH_SOURCE_LIB = \"http://labratrevenge.com/d3-tip/javascripts/d3.tip.v0.6.3.js\" -->\n",
       "\n",
       "        <script>\n",
       "            /* TRAPPY_PUBLISH_IMPORT = \"plotter/js/EventPlot.js\" */\n",
       "            /* TRAPPY_PUBLISH_REMOVE_START */\n",
       "            var req = require.config( {\n",
       "\n",
       "                paths: {\n",
       "\n",
       "                    \"EventPlot\": '/nbextensions/plotter_scripts/EventPlot/EventPlot',\n",
       "                    \"d3-tip\": '/nbextensions/plotter_scripts/EventPlot/d3.tip.v0.6.3',\n",
       "                    \"d3-plotter\": '/nbextensions/plotter_scripts/EventPlot/d3.min'\n",
       "                },\n",
       "                waitSeconds: 15,\n",
       "                shim: {\n",
       "                    \"d3-plotter\" : {\n",
       "                        \"exports\" : \"d3\"\n",
       "                    },\n",
       "                    \"d3-tip\": [\"d3-plotter\"],\n",
       "                    \"EventPlot\": {\n",
       "\n",
       "                        \"deps\": [\"d3-tip\", \"d3-plotter\" ],\n",
       "                        \"exports\":  \"EventPlot\"\n",
       "                    }\n",
       "                }\n",
       "            });\n",
       "            /* TRAPPY_PUBLISH_REMOVE_STOP */\n",
       "            \n",
       "        req([\"require\", \"EventPlot\"], function() { /* TRAPPY_PUBLISH_REMOVE_LINE */\n",
       "            EventPlot.generate('fig_8531cb74f2f94fa0a376ec796eeee17e', '/nbextensions/', {\"lanes\": [{\"id\": 0, \"label\": \"CPU :0\"}, {\"id\": 1, \"label\": \"CPU :1\"}, {\"id\": 2, \"label\": \"CPU :2\"}, {\"id\": 3, \"label\": \"CPU :3\"}, {\"id\": 4, \"label\": \"CPU :4\"}, {\"id\": 5, \"label\": \"CPU :5\"}], \"colorMap\": null, \"keys\": [\"bash-4991\", \"many1-4993\", \"many0-4992\", \"sshd-4994\", \"sshd-4997\", \"sshd-5000\", \"bash-5016\", \"bash-5003\", \"bash-5011\", \"bash-4965\", \"sudo-5007\", \"sudo-4987\", \"bash-4983\", \"sudo-5019\", \"sshd-4999\", \"sshd-4996\", \"sshd-5002\", \"bash-4962\", \"sudo-4962\", \"sudo-4965\", \"bash-5019\", \"sudo-5011\", \"sudo-5003\", \"sudo-4983\", \"sh-4968\", \"sudo-5016\", \"sh-5014\", \"systemd-journal-152\", \"bash-4999\", \"bash-4996\", \"bash-5002\", \"sudo-4989\", \"sudo-5009\", \"sudo-4985\", \"bash-4970\", \"kworker/u12:2-4995\", \"kworker/u12:2-4966\", \"kworker/u12:2-5001\", \"kworker/u12:2-4998\", \"kworker/u12:2-4984\", \"kworker/u12:1-5008\", \"kworker/u12:1-4963\", \"kworker/u12:2-4988\", \"kworker/u12:1-5004\", \"kworker/u12:1-5012\", \"kworker/u12:1-5017\", \"shutils-4969\", \"shutils-5015\", \"kworker/u12:2-5020\", \"busybox-4977\", \"busybox-4979\", \"sh-5006\", \"sudo-4964\", \"shutils-4974\", \"busybox-4981\", \"sudo-5021\", \"sudo-5005\", \"sudo-5018\", \"busybox-4971\", \"sudo-5013\", \"rt-app-4993\", \"sh-4986\", \"shutils-4976\", \"shutils-4972\", \"shutils-4968\", \"shutils-4980\", \"sudo-4967\", \"sudo-4958\", \"busybox-4975\", \"cat-5010\", \"sshd-243\", \"bash-4987\", \"shutils-4982\", \"shutils-4978\", \"bash-5007\", \"busybox-4973\", \"shutils-4975\", \"shutils-4979\", \"sh-4990\", \"shutils-4981\", \"shutils-4977\", \"shutils-4971\", \"sh-5010\", \"shutils-4973\", \"cat-4990\", \"sh-4989\", \"cat-5006\", \"kworker/1:0-560\", \"cat-4986\", \"sh-4985\", \"shutils-4970\", \"scp-4996\", \"sh-5009\", \"scp-4999\", \"modprobe-5020\", \"rs:main Q:Reg-262\", \"sh-4960\", \"sshd-3886\", \"sh-4967\", \"shutils-5014\", \"jbd2/sda1-8-109\", \"sh-5005\", \"sh-5013\", \"kworker/5:2-170\", \"in:imuxsock-260\", \"systemd-1\", \"kworker/0:2-146\", \"scp-5002\", \"busybox-4978\", \"busybox-4982\", \"kworker/4:1-40\", \"bash-3888\", \"kworker/3:1-41\", \"sh-5022\", \"ksoftirqd/0-3\", \"usb-storage-103\", \"rt-app-4992\", \"kworker/2:0-3885\", \"kworker/u12:2-3915\", \"ksoftirqd/5-28\", \"ksoftirqd/3-20\", \"rcu_preempt-7\", \"kworker/u12:1-2941\", \"ksoftirqd/2-16\", \"rt-app-4991\", \"rcu_sched-8\", \"ksoftirqd/1-12\", \"kworker/0:1H-111\", \"ksoftirqd/4-24\", \"kworker/2:2-3880\", \"modprobe-4998\", \"modprobe-5017\"], \"stride\": false, \"showSummary\": true, \"xDomain\": [1.6999998479150236e-05, 13.692182999999204], \"data\": {\"sh-5014\": {\"3\": [[12.085439999998925, 12.085597999997844]], \"5\": [[12.085620999998355, 12.088080999998056]]}, \"sh-5010\": {\"1\": [[11.182284999998956, 11.182397999997193]], \"5\": [[11.182489999999234, 11.183004999998957]]}, \"sh-5013\": {\"2\": [[12.090570000000298, 12.090743000000657]]}, \"rcu_preempt-7\": {\"0\": [[9.7556210000002466, 9.7556440000007569], [9.7589759999973467, 9.7589939999998023], [9.7629659999984142, 9.7629859999979089]], \"1\": [[3.3469729999997071, 3.3469879999975092], [3.3550509999986389, 3.355068000000756], [3.3589680000004591, 3.3589849999989383], [3.362966000000597, 3.3629819999987376], [3.3671619999986433, 3.3671739999990677], [4.3629679999976361, 4.3629819999987376], [4.3670439999987138, 4.3670579999998154], [4.3710439999995288, 4.3710580000006303], [4.3750450000006822, 4.3750609999988228], [4.3789699999979348, 4.3789799999976822], [9.1869589999987511, 9.1869679999981599], [9.190958999999566, 9.1909679999989748], [9.3629770000006829, 9.3629909999981464], [9.3673449999987497, 9.3673669999989215], [9.3712510000004841, 9.3712699999996403], [9.3751279999996768, 9.3751489999995101], [11.170968999998877, 11.170982999999978], [11.175052999999025, 11.175065999999788], [11.179062999999587, 11.179079999998066], [11.182967999997345, 11.182984999999462], [11.186964000000444, 11.186976999997569], [11.191166999997222, 11.191181999998662], [11.195180999999138, 11.195193999999901], [11.199151000000711, 11.199162999997498], [11.20317299999806, 11.203186999999161], [11.207162999999127, 11.207174999999552], [12.086973999998008, 12.086989999999787]], \"2\": [[2.0149689999998373, 2.0149849999979779], [2.0189669999999751, 2.0189819999977772], [2.02296700000079, 2.0229829999989306], [2.0269679999983055, 2.026981999999407], [2.0309769999985292, 2.0309859999979381], [2.0349649999989197, 2.0349779999996827], [2.0389719999984663, 2.0389819999982137], [2.0429589999985183, 2.0429709999989427], [2.047060999997484, 2.0470749999985856], [2.0510579999972833, 2.0510719999983849], [3.3511230000003707, 3.3511389999985113], [9.1789619999981369, 9.1789699999972072], [9.1829609999986133, 9.1829699999980221], [12.09096800000043, 12.090979000000516], [12.094965000000229, 12.094977999997354], [12.099181999998109, 12.09919599999921]], \"3\": [[9.5951079999977082, 9.5951349999995728], [9.6031699999984994, 9.6031909999983327], [9.6073030000006838, 9.6073240000005171], [9.6111109999983455, 9.6111299999975017], [9.6150620000007621, 9.6150809999999183], [9.6191079999989597, 9.6191259999977774], [9.6230579999973997, 9.6230749999995169], [9.7669749999986379, 9.7669939999977942], [9.7711769999987155, 9.7712140000003274], [9.7751449999996112, 9.7751680000001215], [9.7791259999976319, 9.7791450000004261], [9.783038999998098, 9.7830599999979313], [9.7871180000001914, 9.7871479999994335], [9.7910389999997278, 9.7910609999998996], [9.7950689999997849, 9.7950879999989411], [9.7990470000004279, 9.7990659999995842], [9.8470539999980247, 9.847074999997858], [9.8510439999990922, 9.8510629999982484], [9.8550340000001597, 9.8550539999996545], [9.8590420000000449, 9.8590599999988626], [9.863032999997813, 9.8630529999973078], [9.8670459999993909, 9.8670649999985471], [9.8710329999994428, 9.8710529999989376], [9.8750419999996666, 9.8750599999984843], [9.8790320000007341, 9.8790520000002289], [9.883042999997997, 9.8830610000004526], [9.9349719999991066, 9.9349929999989399], [9.9390490000005229, 9.9390690000000177], [9.9430429999993066, 9.9430619999984629], [9.9470929999988584, 9.9471119999980147], [9.9510620000000927, 9.9510819999995874], [9.9551099999989674, 9.9551279999977851], [9.9590639999987616, 9.9590839999982563], [9.9631090000002587, 9.9631279999994149], [9.9671019999987038, 9.9671229999985371], [9.971107999997912, 9.9711279999974067], [9.9751030000006722, 9.9751209999994899], [10.015054999999847, 10.015079000000696], [10.019044000000576, 10.019062999999733], [10.023032999997668, 10.0230530000008], [10.02704299999823, 10.027061000000685], [10.031032999999297, 10.031049999997776], [10.035047999997914, 10.03506600000037], [10.039043000000675, 10.039061999999831], [10.043032999998104, 10.04305199999726], [10.047041999998328, 10.047060000000783], [10.051032999999734, 10.051052999999229], [10.054978000000119, 10.054995999998937], [10.05905299999722, 10.059076999998069], [10.063068999999814, 10.063088999999309], [10.063449999997829, 10.063469000000623], [10.066984999997658, 10.067004000000452], [10.071186999997735, 10.071208999997907], [10.075217999998131, 10.075237999997626], [10.079180000000633, 10.079201000000467], [10.0831569999973, 10.083177000000433], [10.087122999997518, 10.087143000000651], [10.267058999997971, 10.267080999998143], [10.271122999998624, 10.271141999997781], [10.274973999999929, 10.274994999999763]], \"4\": [[10.279019999998127, 10.279041999998299], [10.282970000000205, 10.282991000000038], [10.287210999998933, 10.287232999999105], [10.291252999999415, 10.291273999999248], [10.295229999999719, 10.295250999999553]], \"5\": [[0.0029880000001867302, 0.0030029999979888089], [0.0072369999979855493, 0.0072560000007797498], [0.011237999999138992, 0.011256999998295214], [0.015163000000029569, 0.015180999998847255], [0.019165999998222105, 0.019185999997716863], [0.023160000000643777, 0.023180000000138534], [0.41110900000057882, 0.41114299999753712], [0.41497899999740184, 0.41499999999723514], [0.41896799999813084, 0.41898999999830266], [0.42297200000029989, 0.42299400000047171], [0.4271889999981795, 0.42720999999801279], [0.43504499999835389, 0.43506599999818718], [0.43903999999747612, 0.43906099999730941], [0.44321700000000419, 0.44323699999949895], [0.44718799999827752, 0.44720999999844935], [0.45119599999816273, 0.45121499999731896], [1.1110509999998612, 1.111070999999356], [1.1149760000007518, 1.1149970000005851], [1.1229789999997593, 1.1230049999976472], [1.1269869999996445, 1.1270119999971939], [1.1311279999972612, 1.1311539999987872], [1.1353329999983544, 1.1353549999985262], [1.1392549999982293, 1.1392759999980626], [1.1432179999974323, 1.1432389999972656], [1.1472719999983383, 1.1472909999974945], [1.1511580000005779, 1.1511790000004112], [1.1551599999984319, 1.1551799999979266], [1.159111999997549, 1.1591310000003432], [2.0552429999988817, 2.0552690000004077], [2.0592189999988477, 2.059239999998681], [2.0631439999997383, 2.0631629999988945], [2.4430619999984629, 2.4430879999999888], [2.4471229999981006, 2.4471439999979339], [2.4509670000006736, 2.4509880000005069], [2.4549819999992906, 2.4550060000001395], [2.4589739999973972, 2.4589989999985846], [2.4670420000002196, 2.4670650000007299], [2.471068999999261, 2.4710899999990943], [2.4750480000002426, 2.4750679999997374], [2.4790409999986878, 2.4790629999988596], [2.4830469999978959, 2.4830689999980677], [2.4870389999996405, 2.4870579999987967], [3.3712180000002263, 3.3712419999974372], [3.3752189999977418, 3.3752419999982521], [3.3791909999999916, 3.3792119999998249], [3.3832259999981034, 3.3832469999979367], [3.3871550000003481, 3.3871760000001814], [3.3911169999992126, 3.3911349999980303], [4.2231229999997595, 4.2231429999992542], [4.2271639999999024, 4.2271839999993972], [4.2311109999973269, 4.2311300000001211], [4.2551079999975627, 4.255141999998159], [4.2591279999978724, 4.2591489999977057], [4.2630690000005416, 4.2630890000000363], [4.2671159999990778, 4.267134999998234], [4.2710409999999683, 4.271058999998786], [9.3792460000004212, 9.3792929999981425], [9.3831619999982649, 9.3831839999984368], [9.3871419999995851, 9.3871609999987413], [9.5911190000006172, 9.5911589999996067], [9.6270459999977902, 9.6270629999999073], [9.6311150000001362, 9.6311519999981101], [9.6350449999990815, 9.6350669999992533], [9.6390460000002349, 9.6390649999993911], [9.6790529999998398, 9.6790739999996731], [9.6830420000005688, 9.683060999999725], [9.6870309999976598, 9.6870510000007926], [9.6910399999978836, 9.6910580000003392], [9.6950329999999667, 9.6950519999991229], [9.6990420000001905, 9.6990619999996852], [9.7030339999982971, 9.7030539999977918], [9.7070309999980964, 9.7070499999972526], [9.7110409999986587, 9.7110589999974763], [9.7150299999993877, 9.7150499999988824], [9.7190410000002885, 9.7190589999991062], [9.7230449999988195, 9.7230689999996684], [9.7271029999974417, 9.727123999997275], [9.7311779999981809, 9.7311989999980142], [9.7349919999978738, 9.7350129999977071], [9.7391669999997248, 9.7391889999998966], [9.7432229999976698, 9.7432430000008026], [9.7511579999991227, 9.7511779999986175], [9.8870559999995749, 9.8870779999997467], [9.8909849999981816, 9.8910059999980149], [9.8951170000000275, 9.8951379999998608], [9.8992899999975634, 9.8993090000003576], [9.9030459999994491, 9.9030710000006366], [9.9071449999973993, 9.9071669999975711], [9.9112139999997453, 9.9112359999999171], [9.9152199999989534, 9.9152409999987867], [9.9191919999975653, 9.9192139999977371], [9.9232080000001588, 9.9232279999996535], [9.9270949999990989, 9.9271169999992708], [9.9310509999995702, 9.931072999999742], [10.299434000000474, 10.299455000000307], [10.303217000000586, 10.303237000000081], [10.30721099999937, 10.307232999999542], [10.31116099999781, 10.311179000000266], [11.207284000000072, 11.207307999997283], [11.215040999999474, 11.215062999999645], [11.219121999998606, 11.219140999997762], [11.223041999997804, 11.223061000000598], [12.075054999997519, 12.07507799999803], [12.079122999999527, 12.079146000000037], [12.082972000000154, 12.082991999999649], [12.103176000000531, 12.103199999997742], [12.106966999999713, 12.106984999998531], [12.110967999997229, 12.110987000000023], [12.11504000000059, 12.115061000000424], [12.119045999999798, 12.119066999999632], [12.123047999997652, 12.123067000000447], [12.979095999999117, 12.97913399999743], [12.98313699999926, 12.983157999999094], [12.986967000000732, 12.986987000000227], [12.990974000000278, 12.990993999999773], [12.995171999999002, 12.995192999998835], [12.99924099999771, 12.999262999997882], [13.003183000000718, 13.003204000000551], [13.007196999998996, 13.007217999998829], [13.011189999997441, 13.011210999997274], [13.015219000000798, 13.015237999999954], [13.683121999998548, 13.68315900000016], [13.687120999999024, 13.68713999999818], [13.69097099999999, 13.690991999999824]]}, \"shutils-5015\": {\"3\": [[12.088679000000411, 12.089817000000039]], \"4\": [[12.088093999998819, 12.08858699999837]]}, \"shutils-5014\": {\"5\": [[12.089403999998467, 12.0894249999983], [12.089453999997204, 12.089470999999321], [12.089499999998225, 12.089516000000003], [12.089543999998568, 12.089561999997386], [12.089587999998912, 12.089604000000691], [12.089631999999256, 12.089648999997735], [12.089788999997836, 12.090500999998767]]}, \"busybox-4977\": {\"3\": [[2.0266520000004675, 2.0277189999978873]]}, \"sh-4986\": {\"1\": [[2.4552100000000792, 2.4553180000002612]], \"5\": [[2.4554119999993418, 2.4566090000007534]]}, \"sh-4989\": {\"3\": [[3.3599539999995613, 3.3602470000005269]]}, \"sshd-4994\": {\"0\": [[9.6753779999999097, 9.6755819999998494], [9.6775369999995746, 9.6981730000006792], [9.6984479999991891, 9.6989529999991646], [9.699189999999362, 9.6994080000004033], [9.6998060000005353, 9.7191679999996268], [9.7193430000006629, 9.7194820000004256], [9.7198140000000421, 9.7206609999993816], [9.7207830000006652, 9.7208680000003369]], \"1\": [[9.5874129999974684, 9.593246000000363], [9.5958069999978761, 9.6062050000000454], [9.608048999998573, 9.6311459999997169], [9.6388809999989462, 9.6389859999981127], [9.7255909999985306, 9.7256879999986268], [9.7261689999977534, 9.7262329999975918], [9.7262719999998808, 9.7323689999975613], [9.7331979999980831, 9.7332470000001194], [9.7334999999984575, 9.7336829999985639], [9.7339909999973315, 9.7347229999977571]], \"2\": [[9.5868659999978263, 9.5873189999983879]]}, \"sshd-4996\": {\"1\": [[9.7214819999971951, 9.7240319999982603]], \"2\": [[9.7205189999986032, 9.7213809999993828]]}, \"sshd-4997\": {\"0\": [[9.8433430000004591, 9.8435419999987062], [9.8453289999997651, 9.8659640000005311], [9.8662059999987832, 9.8667160000004515], [9.8670199999978649, 9.8672430000005988], [9.8676529999975173, 9.8870349999997416], [9.8871870000002673, 9.8873249999996915], [9.887535999998363, 9.8883749999986321], [9.8885759999975562, 9.8886639999982435], [9.8933639999995648, 9.8934589999989839], [9.8937899999982619, 9.8938669999988633], [9.8939059999975143, 9.8949739999989106]], \"1\": [[9.755883999998332, 9.7616639999978361], [9.764006999997946, 9.7741370000003371], [9.7758499999981723, 9.7988709999990533], [9.8068089999978838, 9.806894999997894], [9.8952669999998761, 9.9008350000003702], [9.9018479999976989, 9.9019009999974514], [9.9021529999990889, 9.9023359999991953], [9.9024879999997211, 9.903254000000743]], \"2\": [[9.7554359999994631, 9.7557919999999285]]}, \"sh-5006\": {\"3\": [[10.278201999997691, 10.279512999997678]], \"5\": [[10.278000999998767, 10.278178999997181]]}, \"kworker/u12:2-3915\": {\"0\": [[1.7590889999992214, 1.7591299999985495], [1.7592069999991509, 1.7592269999986456], [1.7593720000004396, 1.7593899999992573], [1.7595479999981762, 1.7595660000006319], [1.7597109999987879, 1.7597289999976056], [1.7598440000001574, 1.7599069999996573], [1.7600229999989097, 1.7600399999973888], [1.7601829999985057, 1.7602009999973234], [1.8091659999990952, 1.80918599999859], [1.8092389999983425, 1.8092570000007981], [1.8096630000000005, 1.8096819999991567], [1.8099059999985911, 1.8099249999977474], [1.9612390000002051, 1.9612600000000384], [1.9613160000008065, 1.9613339999996242], [1.9614509999992151, 1.9614689999980328], [1.9616109999988112, 1.9616289999976289], [1.9617699999980687, 1.9617880000005243], [1.9619029999994382, 1.9619209999982559], [1.9620770000001357, 1.9620949999989534], [1.9622349999990547, 1.9622529999978724], [1.9623670000000857, 1.9623849999989034], [1.9625259999993432, 1.9625439999981609], [1.9626599999974133, 1.9626779999998689], [1.9628359999987879, 1.9628539999976056], [1.9630169999982172, 1.9630350000006729], [1.9631489999992482, 1.9631669999980659], [1.9633089999988442, 1.9633279999980005], [1.9634699999987788, 1.9634879999975965], [1.9636019999998098, 1.9636199999986275], [1.9637619999994058, 1.963778999997885], [1.9638940000004368, 1.9639409999981581], [1.9640560000007099, 1.9640749999998661], [1.9642160000003059, 1.9642339999991236], [1.9643829999986337, 1.9644009999974514], [1.9645429999982298, 1.9645600000003469], [1.9647010000007867, 1.9647189999996044], [1.9647509999995236, 1.9647640000002866], [1.9647949999998673, 1.9648080000006303], [1.9649539999991248, 1.9649719999979425], [1.9650039999978617, 1.9650179999989632], [1.9651610000000801, 1.9651799999992363], [1.9652129999994941, 1.965226000000257], [1.9653419999995094, 1.9653609999986656], [1.9654219999974885, 1.9654349999982514], [1.9655509999975038, 1.965567999999621], [1.9656009999998787, 1.9656130000003031], [1.9656719999984489, 1.9656849999992119], [1.9658029999991413, 1.965820999997959], [1.9659629999987374, 1.965980999997555], [1.9660149999981513, 1.9660269999985758], [1.966058999998495, 1.966071999999258], [1.9661029999988386, 1.9661159999996016], [1.9662609999977576, 1.9662790000002133], [1.9663129999971716, 1.9663259999979346], [1.9663839999993797, 1.9663980000004813], [1.9665199999981269, 1.9665380000005825], [1.9665709999972023, 1.9665839999979653], [1.9666440000000875, 1.9666569999972126], [1.9667759999974805, 1.9667939999999362], [1.9669389999980922, 1.966973999999027], [1.9670089999999618, 1.9670220000007248], [1.9670559999976831, 1.9670679999981076], [1.9671290000005683, 1.9671419999976933], [1.9672639999989769, 1.9672819999977946], [1.9674269999995886, 1.9674439999980677], [1.9674789999990026, 1.967490999999427], [1.9675239999996847, 1.9675370000004477], [1.9676859999999579, 1.967702999998437], [1.9677379999993718, 1.9677510000001348], [1.9677850000007311, 1.9677969999975176], [1.9678590000003169, 1.9678719999974419], [1.9679939999987255, 1.9680119999975432], [1.9681590000000142, 1.9681769999988319], [1.9682130000001052, 1.9682269999975688], [2.0113610000007611, 2.0113799999999173], [2.0114059999978053, 2.0114189999985683], [2.0150680000006105, 2.015094999998837], [2.3912720000007539, 2.3913069999980507], [2.3914000000004307, 2.3914179999992484], [2.3915759999981674, 2.3915940000006231], [2.3917440000004717, 2.3917619999992894], [2.3919050000004063, 2.391922999999224], [2.3920359999974607, 2.3920539999999164], [2.3921129999980622, 2.3921269999991637], [2.3922390000006999, 2.3922569999995176], [2.3922869999987597, 2.3922999999995227], [2.3923579999973299, 2.3923709999980929], [2.3924869999973453, 2.3925049999998009], [2.3926460000002407, 2.3926639999990584], [2.3926939999983006, 2.3927069999990636], [2.3927359999979672, 2.3927489999987301], [2.3927779999976337, 2.3927899999980582], [2.3929690000004484, 2.3929869999992661], [2.3930169999985083, 2.3930299999992712], [2.3930870000003779, 2.3930999999975029], [2.3931310000007215, 2.3931439999978465], [2.3932609999974375, 2.3932779999995546], [2.3933369999977003, 2.3933499999984633], [2.3934669999980542, 2.3934850000005099], [2.3935160000000906, 2.3935289999972156], [2.3935859999983222, 2.3935989999990852], [2.3937169999990147, 2.3937339999974938], [2.3938759999982722, 2.3938930000003893], [2.393926000000647, 2.393938999997772], [2.3939709999976913, 2.3939829999981157], [2.3940129999973578, 2.3940259999981208], [2.3941699999995762, 2.3941879999983939], [2.3942199999983131, 2.3942329999990761], [2.3942639999986568, 2.3943039999976463], [2.3943359999975655, 2.3943489999983285], [2.394466999998258, 2.3944859999974142], [2.3945459999995364, 2.3945590000002994], [2.3946739999992133, 2.394691999998031], [2.3947239999979502, 2.3947369999987131], [2.39487999999983, 2.3948969999983092], [2.3949299999985669, 2.3949429999993299], [2.3950339999973949, 2.3950489999988349], [2.39516999999978, 2.3951889999989362], [2.3953330000003916, 2.3953509999992093], [2.3953849999998056, 2.39539700000023], [2.3954290000001492, 2.3954419999972743], [2.3955889999997453, 2.395606999998563], [2.3956409999991592, 2.3956550000002608], [2.3956880000005185, 2.395699999997305], [2.3957329999975627, 2.3957719999998517], [2.3958939999974973, 2.395911999999953], [2.3959450000002107, 2.3959579999973357], [2.3961019999987911, 2.3961209999979474], [2.3961549999985436, 2.3961679999993066], [2.3962019999999029, 2.3962140000003274], [2.3963609999991604, 2.3963789999979781], [2.3964139999989129, 2.3964259999993374], [2.3964589999995951, 2.3964989999985846], [2.3965339999995194, 2.3965470000002824], [2.3966679999975895, 2.3966860000000452], [2.396720999997342, 2.3967609999999695], [2.396878999999899, 2.3968979999990552], [2.39693299999999, 2.3969450000004144], [2.397090999998909, 2.3971089999977266], [2.3971439999986615, 2.3971569999994244], [2.3971910000000207, 2.3972040000007837], [2.3973530000002938, 2.3973709999991115], [2.3974060000000463, 2.3974189999971713], [2.4417639999992389, 2.4417969999994966], [2.4418399999995017, 2.4418530000002647], [2.4477459999980056, 2.4478159999998752], [3.092981999998301, 3.0930359999983921], [3.0931280000004335, 3.0931469999995898], [3.0933059999988473, 3.093325999998342], [3.0933899999981804, 3.0934029999989434], [3.0935179999978573, 3.0935360000003129], [3.0935929999977816, 3.0936059999985446], [3.0937209999974584, 3.0937389999999141], [3.0937689999991562, 3.0937809999995807], [3.1429059999973106, 3.1429260000004433], [3.1429749999988417, 3.1429879999996047], [3.143301000000065, 3.1433149999975285], [3.1435590000000957, 3.1435789999995905], [3.2950399999972433, 3.2950619999974151], [3.2951189999985218, 3.2951360000006389], [3.2952540000005683, 3.295271999999386], [3.2954140000001644, 3.2954319999989821], [3.2955729999994219, 3.2955919999985781], [3.2956209999974817, 3.2956339999982447], [3.2956620000004477, 3.2956759999979113], [3.2957040000001143, 3.2957169999972393], [3.2958589999980177, 3.2958770000004733], [3.2959059999993769, 3.2959190000001399], [3.2959479999990435, 3.295959999999468], [3.2960149999998976, 3.2960289999973611], [3.29614600000059, 3.2961639999994077], [3.2961949999989884, 3.2962069999994128], [3.2962640000005194, 3.296277999997983], [3.2963939999972354, 3.2964109999993525], [3.2964409999985946, 3.2964539999993576], [3.296596000000136, 3.2966129999986151], [3.2966449999985343, 3.2966569999989588], [3.2966879999985395, 3.2967009999993024], [3.2968440000004193, 3.296861999999237], [3.2968929999988177, 3.2969059999995807], [3.2969359999988228, 3.2969479999992473], [3.2970060000006924, 3.2970189999978174], [3.2971359999974084, 3.297153999999864], [3.2971849999994447, 3.2971990000005462], [3.2973409999976866, 3.2973590000001423], [3.2973899999997229, 3.2974020000001474], [3.2974329999997281, 3.2974450000001525], [3.2975039999982982, 3.2975169999990612], [3.2976349999989907, 3.2976529999978084], [3.2977959999989253, 3.2978149999980815], [3.2978469999980007, 3.2978599999987637], [3.2978899999980058, 3.2979029999987688], [3.2979339999983495, 3.2979459999987739], [3.2980900000002293, 3.298107999999047], [3.2981409999993048, 3.2981540000000678], [3.2981849999996484, 3.2981970000000729], [3.2983429999985674, 3.2983609999973851], [3.2983939999976428, 3.2984059999980673], [3.2984379999979865, 3.2984770000002754], [3.2985119999975723, 3.2985239999979967], [3.2986600000003818, 3.2986779999991995], [3.2987389999980223, 3.2987519999987853], [3.2988699999987148, 3.2988879999975325], [3.2989219999981287, 3.2989839999972901], [3.2991210000000137, 3.2991389999988314], [3.2991729999994277, 3.2992129999984172], [3.299247999999352, 3.299261000000115], [3.2993810000007215, 3.2993999999998778], [3.2994609999987006, 3.2994749999998021], [3.299591999999393, 3.2996099999982107], [3.299643999998807, 3.29965699999957], [3.2998009999973874, 3.2998189999998431], [3.2998530000004394, 3.2998659999975644], [3.2998999999981606, 3.2999129999989236], [3.3000599999977567, 3.3000769999998738], [3.3001119999971706, 3.3001249999979336], [3.3001850000000559, 3.3001979999971809], [3.3003199999984645, 3.3003379999972822], [3.3003739999985555, 3.3003869999993185], [3.3004489999984798, 3.3004619999992428], [3.3006189999978233, 3.3006370000002789], [3.3006989999994403, 3.3007130000005418], [3.3008319999971718, 3.3008489999992889], [3.3008850000005623, 3.3009249999995518], [3.3451600000007602, 3.3451800000002549], [3.3452049999978044, 3.3452189999989059], [3.350905999999668, 3.3510050000004412], [3.9965080000001763, 3.9965489999995043], [3.9966399999975692, 3.9966580000000249], [3.9967959999994491, 3.9968139999982668], [3.9968439999975089, 3.9968889999981911], [3.9969189999974333, 3.9969319999981963], [3.9970529999991413, 3.9971000000005006], [3.9971310000000813, 3.9971449999975448], [3.9972600000000966, 3.9972779999989143], [4.0465839999997115, 4.0466039999992063], [4.0466319999977713, 4.0466449999985343], [4.0469709999997576, 4.0469849999972212], [4.0471020000004501, 4.0471199999992677], [4.0473579999998037, 4.047404999997525], [4.201294999998936, 4.2013169999991078], [4.2013479999986885, 4.2013609999994515], [4.2013909999986936, 4.201402999999118], [4.2014319999980216, 4.2014449999987846], [4.2014729999973497, 4.2014849999977741], [4.201612999997451, 4.2016309999999066], [4.2016899999980524, 4.2017039999991539], [4.2018189999980677, 4.2018370000005234], [4.2018939999979921, 4.2019079999990936], [4.2020219999976689, 4.2020400000001246], [4.2020699999993667, 4.2020830000001297], [4.2022219999998924, 4.2022399999987101], [4.2022709999982908, 4.2022829999987152], [4.2023129999979574, 4.2023249999983818], [4.2023819999994885, 4.2023950000002515], [4.2025119999998424, 4.2025289999983215], [4.2025589999975637, 4.2025729999986652], [4.2027129999987665, 4.2027309999975841], [4.2027629999975034, 4.2027759999982663], [4.2028050000008079, 4.2028179999979329], [4.2028759999993781, 4.2028890000001411], [4.203098999998474, 4.2031349999997474], [4.2031669999996666, 4.203179000000091], [4.2033119999978226, 4.2033300000002782], [4.2033899999987625, 4.203403999999864], [4.2035189999987779, 4.2035369999975956], [4.2035679999971762, 4.2036079999998037], [4.2036410000000615, 4.2036539999971865], [4.2037710000004154, 4.2037889999992331], [4.2038209999991523, 4.2038609999981418], [4.2038949999987381, 4.203907999999501], [4.204024999999092, 4.2040429999979096], [4.2041019999996934, 4.2041160000007949], [4.2042309999997087, 4.2042479999981879], [4.2042809999984456, 4.2042939999992086], [4.204435999999987, 4.2044539999988046], [4.2044879999994009, 4.2045010000001639], [4.2045330000000831, 4.2045450000005076], [4.2046899999986636, 4.2047079999974812], [4.204740999997739, 4.204753999998502], [4.2047859999984212, 4.2047989999991842], [4.2048589999976684, 4.20487299999877], [4.2049929999993765, 4.2050119999985327], [4.2051559999999881, 4.2051739999988058], [4.2052079999994021, 4.2052199999998265], [4.2052530000000843, 4.2052650000005087], [4.2053239999986545, 4.2053369999994175], [4.2054580000003625, 4.2054759999991802], [4.2055089999994379, 4.2055230000005395], [4.2056669999983569, 4.2056849999971746], [4.2057189999977709, 4.2057319999985339], [4.2057649999987916, 4.2057779999995546], [4.2059229999977106, 4.2059410000001662], [4.2059750000007625, 4.2059879999978875], [4.2060209999981453, 4.2060610000007728], [4.2060969999984081, 4.2061099999991711], [4.2062310000001162, 4.2062489999989339], [4.2063099999977567, 4.2063239999988582], [4.2064419999987877, 4.2064599999976053], [4.2064939999982016, 4.2065069999989646], [4.2066859999977169, 4.2067040000001725], [4.2067409999981464, 4.2067529999985709], [4.2068159999980708, 4.2068289999988338], [4.2069679999985965, 4.2069859999974142], [4.2070509999975911, 4.2070639999983541], [4.2071849999992992, 4.2072019999977783], [4.2073469999995723, 4.2073659999987285], [4.2074020000000019, 4.2074150000007648], [4.2074499999980617, 4.2074619999984861], [4.2076109999979963, 4.2076280000001134], [4.2076649999980873, 4.2076769999985117], [4.2077119999994466, 4.2077250000002095], [4.2078739999997197, 4.2078919999985374], [4.2079300000004878, 4.2079419999972743], [4.2079779999985476, 4.2080179999975371], [4.2081399999988207, 4.2081579999976384], [4.2081949999992503, 4.2082080000000133], [4.2082709999995132, 4.2082850000006147], [4.2084089999989374, 4.208426999997755], [4.2085769999976037, 4.2085950000000594], [4.2086329999983718, 4.2086459999991348], [4.2086830000007467, 4.2086959999978717], [4.2088459999977204, 4.208864000000176], [4.2089019999984885, 4.2089149999992514], [4.2089510000005248, 4.2089639999976498], [4.209114999997837, 4.2091330000002927], [4.2091719999989436, 4.2091849999997066], [4.209248999999545, 4.209262000000308], [4.2093869999989693, 4.2094049999977869], [4.2095549999976356, 4.2095719999997527], [4.2096109999984037, 4.2096239999991667], [4.2096619999974791, 4.2096749999982421], [4.2098269999987679, 4.209843999997247], [4.209882999999536, 4.209896000000299], [4.2099339999986114, 4.2099729999972624], [4.2100979999995616, 4.2101159999983793], [9.5645459999977902, 9.5645970000005036], [9.5649720000001253, 9.5650129999994533], [9.5933249999980035, 9.5934419999975944], [11.120097999999416, 11.120118999999249], [12.991136000000552, 12.991149999998015], [13.628924000000552, 13.62898800000039], [13.62908299999981, 13.629100999998627], [13.6292629999989, 13.629280999997718], [13.629345999997895, 13.629358999998658], [13.629387999997562, 13.629400999998325], [13.629517999997915, 13.629562999998598], [13.629593999998178, 13.629606999998941], [13.629721999997855, 13.629738999999972], [13.629796999997779, 13.629810999998881], [13.629924000000756, 13.629941999999573], [13.629971999998816, 13.62998399999924], [13.63003899999967, 13.630053000000771], [13.630170000000362, 13.63018799999918], [13.63021899999876, 13.630231999999523], [13.63028900000063, 13.630302999998094], [13.630419999997684, 13.630436999999802], [13.630466999999044, 13.630479999999807], [13.630638999999064, 13.630656999997882], [13.630772000000434, 13.630789999999251], [13.630821999999171, 13.630834999999934], [13.630863999998837, 13.6308769999996], [13.631094000000303, 13.631111999999121], [13.631142999998701, 13.631155999999464], [13.631186999999045, 13.631199999999808], [13.631321000000753, 13.631338999999571], [13.63137099999949, 13.631384000000253], [13.631499999999505, 13.631560999998328], [13.631594999998924, 13.631606999999349], [13.631638999999268, 13.631650999999692], [13.631768999999622, 13.63178699999844], [13.63181799999802, 13.631830999998783], [13.631860999998025, 13.631874999999127], [13.631992999999056, 13.632053999997879], [13.632087999998475, 13.632100999999238], [13.632243000000017, 13.632261999999173], [13.632294999999431, 13.632308000000194], [13.632340000000113, 13.632352000000537], [13.632472999997844, 13.632489999999962], [13.632523000000219, 13.632535999997344], [13.632567000000563, 13.632579999997688], [13.632698999997956, 13.632716000000073], [13.632794999997714, 13.632807999998477], [13.632924999998068, 13.632943000000523], [13.633085999998002, 13.633104000000458], [13.633137999997416, 13.633150999998179], [13.633182999998098, 13.633194999998523], [13.633341000000655, 13.633358999999473], [13.633391999999731, 13.633405000000494], [13.633438000000751, 13.633477999999741], [13.633512000000337, 13.633524999997462], [13.633645999998407, 13.633663999997225], [13.633723999999347, 13.63373700000011], [13.63385500000004, 13.633871999998519], [13.633905999999115, 13.633918999999878], [13.634061999997357, 13.634079999999813], [13.634114000000409, 13.634127999997872], [13.634161999998469, 13.634174999999232], [13.634321999998065, 13.63434000000052], [13.634373999997479, 13.634386999998242], [13.634420999998838, 13.634460999997827], [13.634582999999111, 13.634600999997929], [13.634636999999202, 13.634649999999965], [13.634712999999465, 13.634726000000228], [13.679016999998566, 13.679054000000178], [13.679094999999506, 13.679109000000608], [13.685132999999041, 13.6852429999999]], \"3\": [[9.5956569999980275, 9.5957029999990482], [9.6950579999975162, 9.6950919999981124], [9.7617460000001302, 9.7618269999984477], [9.7638960000003863, 9.7639359999993758]], \"4\": [[1.1159189999998489, 1.1159679999982473], [1.127755999998044, 1.1277929999996559], [2.0366659999999683, 2.0367069999992964], [2.1885529999999562, 2.1886029999986931], [2.1888499999986379, 2.1888880000005884], [2.2272009999978764, 2.2272359999988112], [2.2386359999982233, 2.2386850000002596], [2.2388629999986733, 2.2388890000001993], [2.2391700000007404, 2.2391900000002352], [2.2393630000005942, 2.2394009999989066], [2.4549919999990379, 2.455019999997603], [2.4568459999973129, 2.4568849999996019], [2.4585409999999683, 2.4585709999992105], [9.7951329999996233, 9.7951670000002196], [9.895089999998163, 9.8951199999974051], [9.9296169999979611, 9.929705999998987], [9.9318370000000868, 9.931882000000769], [10.054984999998851, 10.055012999997416], [10.215531999998348, 10.215580000000045], [10.215824999999313, 10.21586699999898], [10.215887999998813, 10.215907999998308], [10.215926999997464, 10.215939999998227], [10.216121999997995, 10.216153999997914], [10.216174999997747, 10.216191999999864], [10.216223999999784, 10.216243999999278], [10.216262999998435, 10.216280000000552], [10.216309999999794, 10.216326999998273], [10.216345999997429, 10.216361999999208], [10.216380999998364, 10.216397000000143], [10.216425999999046, 10.216442999997525], [10.21646200000032, 10.21647799999846], [10.216496999997617, 10.216511999999057], [10.216530999998213, 10.216546999999991], [11.119438999998238, 11.119457000000693], [11.119478000000527, 11.119498000000021], [11.119516999999178, 11.119533999997657], [11.119553000000451, 11.119568999998592], [11.119587999997748, 11.119603999999526], [11.119621999998344, 11.119638000000123], [11.119656999999279, 11.11967299999742], [11.119690999999875, 11.119706999998016], [11.119725999997172, 11.119741999998951], [11.119759999997768, 11.119776999999885], [11.119794999998703, 11.119811999997182], [11.119830999999976, 11.119846999998117], [11.119865000000573, 11.119880999998713], [11.11989999999787, 11.11991499999931], [11.119933999998466, 11.119951000000583]], \"5\": [[1.0581289999972796, 1.0581469999997353], [1.0583229999974719, 1.0583449999976438], [1.0583650000007765, 1.0583819999992556], [1.0584009999984119, 1.058418000000529], [1.0584359999993467, 1.0584529999978258], [1.0584710000002815, 1.0584879999987606], [1.0585059999975783, 1.0585229999996955], [1.0585409999985131, 1.0585559999999532], [1.0585739999987709, 1.0585900000005495], [1.0586079999993672, 1.0586239999975078], [1.0586419999999634, 1.0586579999981041], [1.0586760000005597, 1.0586919999987003], [1.0587109999978566, 1.0587279999999737], [1.0587459999987914, 1.05876200000057], [1.0587799999993877, 1.0587959999975283], [1.0588139999999839, 1.0588299999981245], [1.0588480000005802, 1.0588639999987208], [1.0588819999975385, 1.0588979999993171], [1.0589159999981348, 1.0589319999999134], [1.0589529999997467, 1.0589689999978873], [1.059146999999939, 1.0591839999979129], [1.0711190000001807, 1.0711429999973916], [1.1078659999984666, 1.1079069999977946], [1.1079439999994065, 1.1079749999989872], [1.1136640000004263, 1.1137500000004366], [2.4499359999972512, 2.4499809999979334], [3.3530780000000959, 3.3531279999988328], [3.3590359999980137, 3.3590650000005553], [3.3598879999990459, 3.3599240000003192], [3.3615150000005087, 3.3615399999980582], [4.2271440000004077, 4.2271639999999024], [4.2514659999978903, 4.2515029999995022], [4.2517019999977492, 4.2517279999992752], [4.3618839999980992, 4.3619379999981902], [4.3622119999999995, 4.3622460000005958], [4.3624339999987569, 4.3624629999976605], [5.159230999997817, 5.1596089999984542], [9.362236999997549, 9.3622949999989942], [9.3625099999990198, 9.3625250000004598], [9.3713409999982105, 9.3713690000004135], [9.5144809999983408, 9.5145339999980933], [9.5147660000002361, 9.5148039999985485], [13.687463999998727, 13.687501000000339]]}, \"sh-5005\": {\"2\": [[10.279984999997396, 10.280161999999109]]}, \"busybox-4973\": {\"1\": [[2.0195289999974193, 2.0202379999973346]], \"2\": [[2.0192910000005213, 2.0194400000000314]]}, \"scp-4996\": {\"2\": [[9.7262210000008054, 9.7263639999982843], [9.7333179999986896, 9.7335299999976996]]}, \"sudo-5011\": {\"1\": [[12.081185999999434, 12.084071999997832], [12.084742999999435, 12.084759999997914], [12.090814999999566, 12.091813999999431]]}, \"sshd-4999\": {\"1\": [[9.8892249999989872, 9.8917860000001383]], \"2\": [[9.8882469999989553, 9.8891249999978754]]}, \"sudo-5013\": {\"2\": [[12.084070999997493, 12.084372999997868], [12.084396999998717, 12.085479999997915]]}, \"busybox-4971\": {\"0\": [[2.0154999999977008, 2.016711000000214]], \"2\": [[2.0152329999982612, 2.015412999997352]]}, \"bash-5007\": {\"1\": [[11.169973000000027, 11.170282999999472]], \"2\": [[11.170379999999568, 11.170975999997609]]}, \"ksoftirqd/2-16\": {\"2\": [[2.0309859999979381, 2.0310050000007323], [2.0389819999982137, 2.0390110000007553]]}, \"bash-5003\": {\"1\": [[10.266868999999133, 10.271347999998397]], \"2\": [[10.266388000000006, 10.266745999997511]]}, \"bash-5002\": {\"2\": [[10.059579000000667, 10.061045999998896]]}, \"sudo-4989\": {\"1\": [[3.3560330000000249, 3.3563639999993029]], \"3\": [[3.3563809999977821, 3.3582490000007965]]}, \"kworker/u12:1-4963\": {\"2\": [[0.41287000000011176, 0.41289999999935389]], \"4\": [[0.41299900000012713, 0.41484800000034738]]}, \"shutils-4980\": {\"0\": [[2.031805999999051, 2.0327020000004268]], \"1\": [[2.031513999998424, 2.0317209999993793]]}, \"sudo-4985\": {\"1\": [[2.4528749999990396, 2.453190000000177]], \"3\": [[2.4532819999985804, 2.4551269999974465]]}, \"shutils-4982\": {\"1\": [[2.0348510000003444, 2.0350709999984247]], \"4\": [[2.0352879999991274, 2.0360159999981988]]}, \"sudo-4987\": {\"2\": [[3.3470009999982722, 3.3508340000007593], [3.3531179999990854, 3.3560319999996864], [3.3570399999989604, 3.3570599999984552], [3.3603320000001986, 3.3613059999988764]]}, \"sudo-4983\": {\"2\": [[2.4470099999998638, 2.4476739999990968], [2.4499729999988631, 2.4528709999976854], [2.4539259999983187, 2.4539440000007744], [2.4573710000004212, 2.4583309999979974]]}, \"sshd-5000\": {\"0\": [[10.011316000000079, 10.011490999997477], [10.013039999998, 10.033586999998079], [10.033974999998463, 10.03449399999954], [10.034755999997287, 10.034998999999516], [10.035343999999895, 10.054686999999831], [10.054872999997315, 10.055044000000635], [10.055334999997285, 10.056193000000349], [10.056366000000708, 10.056457999999111], [10.061042999997881, 10.061138999997638], [10.061437000000296, 10.061517999998614], [10.061541999999463, 10.061749000000418], [10.062092000000121, 10.062162999998691], [10.062305999999808, 10.062588999997388], [10.062836999997671, 10.062980999999127]], \"1\": [[9.9237819999980275, 9.929548000000068], [9.9319489999979851, 9.9421579999980167], [9.9439429999983986, 9.9668569999994361], [9.974739999997837, 9.9748189999991155], [10.063160999998217, 10.063799999999901]], \"2\": [[9.9233359999998356, 9.9236879999989469]]}, \"sshd-5002\": {\"1\": [[10.057021000000532, 10.059486999998626]], \"2\": [[10.056048999998893, 10.05692099999942]]}, \"cat-5006\": {\"0\": [[10.279630999997607, 10.279914999999164]]}, \"sudo-5009\": {\"1\": [[11.180161000000226, 11.180479999999079]], \"3\": [[11.180497999997897, 11.18234499999744]]}, \"ksoftirqd/1-12\": {\"1\": [[4.5515019999984361, 4.5515209999975923], [11.195160999999644, 11.195180999999138]]}, \"sudo-5005\": {\"2\": [[10.276594999999361, 10.276905999999144], [10.276931000000332, 10.278039000000717]]}, \"sudo-5003\": {\"1\": [[10.273692999999184, 10.276598000000376], [10.277276999997412, 10.277293999999529], [10.280232999997679, 10.281160999998974]]}, \"modprobe-5020\": {\"5\": [[13.68713999999818, 13.687463999998727], [13.687501000000339, 13.687516999998479]]}, \"many0-4992\": {\"2\": [[4.3623069999994186, 4.3704849999994622], [4.3720799999973678, 4.3802709999981744], [4.382077999998728, 4.3902359999992768], [4.3920780000007653, 4.4002569999975094], [4.4020779999991646, 4.4102539999985311], [4.4120779999975639, 4.420231000000058], [4.4220779999996012, 4.4302519999982906], [4.4320799999986775, 4.4402850000005856], [4.4420780000000377, 4.4502519999987271], [4.4520789999987755, 4.460254999998142], [4.4620780000004743, 4.4702350000006845], [4.4720799999995506, 4.4802659999986645], [4.4820779999972729, 4.4902359999978216], [4.4920789999996487, 4.5002600000007078], [4.5020779999977094, 4.5102569999980915], [4.5120790000000852, 4.5202379999973346], [4.522077999998146, 4.5302630000005593], [4.5320790000005218, 4.5402629999989585], [4.5420779999985825, 4.5502549999982875], [4.5520789999973204, 4.5602599999983795], [4.5620779999990191, 4.5702359999995679], [4.5720789999977569, 4.580232000000251], [4.5820789999997942, 4.5902580000001763], [4.592079999998532, 4.6002769999977318], [4.6020779999998922, 4.6102780000001076], [4.6120799999989686, 4.6202400000001944], [4.6220780000003288, 4.6302560000003723], [4.6320789999990666, 4.6402569999991101], [4.6420780000007653, 4.6502509999991162], [4.6520799999998417, 4.6602590000002238], [4.6620779999975639, 4.6702299999997194], [4.6720789999999397, 4.680248999997275], [4.6820779999980005, 4.6902520000003278], [4.6920800000007148, 4.7002519999987271], [4.702077999998437, 4.7102309999972931], [4.7120789999971748, 4.7202760000000126], [4.7220779999988736, 4.7302309999977297], [4.7320789999976114, 4.7402299999994284], [4.7420779999993101, 4.7502749999985099], [4.7520799999983865, 4.7602769999975862], [4.7620779999997467, 4.7702829999980167], [4.772079999998823, 4.7802589999992051], [4.7820780000001832, 4.7902579999972659], [4.7920799999992596, 4.8002510000005714], [4.8020780000006198, 4.8102619999990566], [4.8120799999996962, 4.8202590000000782], [4.8220779999974184, 4.8302509999994072], [4.8320779999994556, 4.8402490000007674], [4.8420779999978549, 4.850256999998237], [4.8520800000005693, 4.860276999999769], [4.86207899999863, 4.8702589999993506], [4.8720799999973678, 4.8802660000001197], [4.882077999998728, 4.8902500000003783], [4.8920789999974659, 4.9002589999981865], [4.9020779999991646, 4.9102559999992081], [4.9120789999979024, 4.920258999998623], [4.9220779999996012, 4.9302829999978712], [4.932078999998339, 4.9402659999977914], [4.9420780000000377, 4.950260999998136], [4.9520789999987755, 4.9602659999982279], [4.9620780000004743, 4.9702829999987443], [4.9720789999992121, 4.980186999997386], [4.9820779999972729, 4.9902819999988424], [4.9920799999999872, 5.0002849999982573], [5.0020779999977094, 5.0102310000002035], [5.0120790000000852, 5.0202699999972538], [5.0220789999984845, 5.0302759999976843], [5.0320799999972223, 5.0402770000000601], [5.0420779999985825, 5.0502510000005714], [5.0520799999976589, 5.0602560000006633], [5.0620779999990191, 5.0702619999974559], [5.0720799999980954, 5.0802330000005895], [5.0820789999997942, 5.0902609999975539], [5.092079999998532, 5.1002489999991667], [5.1020779999998922, 5.1102509999982431], [5.11207899999863, 5.1202479999992647], [5.1220780000003288, 5.1302299999988463], [5.1320789999990666, 5.1402589999997872], [5.1420780000007653, 5.1502349999973376], [5.1520789999995031, 5.1602409999977681], [5.1620779999975639, 5.1669589999983145], [5.1669699999984005, 5.1703019999986282], [5.1720789999999397, 5.1749589999999444], [5.1749820000004547, 5.1802719999977853], [5.1820779999980005, 5.1902620000000752], [5.1920800000007148, 5.2002589999974589], [5.202077999998437, 5.2102569999988191], [5.2120789999971748, 5.2202789999973902], [5.2220779999988736, 5.2302779999990889], [5.2320799999979499, 5.240258999998332], [5.2420779999993101, 5.2502549999990151], [5.2520799999983865, 5.26025799999843], [5.2620779999997467, 5.2702809999973397], [5.2720789999984845, 5.2802730000003066], [5.2820790000005218, 5.2902629999989585], [5.2920799999992596, 5.3002329999981157], [5.3020780000006198, 5.3102299999991374], [5.3120789999993576, 5.3202490000003309], [5.3220779999974184, 5.3302609999991546], [5.3320789999997942, 5.340262999998231], [5.3420779999978549, 5.350269999999], [5.3520800000005693, 5.3602329999994254], [5.3620779999982915, 5.3702310000007856], [5.3720790000006673, 5.3802599999980885], [5.382077999998728, 5.3902369999996154], [5.3920789999974659, 5.4002589999981865], [5.4020779999991646, 5.410251999997854], [5.412079999998241, 5.4202599999989616], [5.4220779999996012, 5.4302529999986291], [5.4320799999986775, 5.4402579999987211], [5.4420780000000377, 5.4502769999999146], [5.4520789999987755, 5.4602569999988191], [5.4620780000004743, 5.4702299999989918], [5.4720799999995506, 5.4802579999995942], [5.4820779999972729, 5.4902559999973164], [5.4920789999996487, 5.5002409999979136], [5.5020789999980479, 5.5102789999982633], [5.5120800000004238, 5.5202419999986887], [5.522077999998146, 5.5302559999981895], [5.5320799999972223, 5.5402739999990445], [5.5420779999985825, 5.5502300000007381], [5.5520789999973204, 5.5602569999973639], [5.5620779999990191, 5.5702619999974559], [5.5720789999977569, 5.5802419999999984], [5.5820779999994556, 5.5902569999998377], [5.592079999998532, 5.6002860000007786], [5.6020779999998922, 5.610236000000441], [5.61207899999863, 5.6202649999977439], [5.6220780000003288, 5.6302359999972396], [5.6320789999990666, 5.6402390000002924], [5.6420780000007653, 5.6502359999976761], [5.6520799999998417, 5.6602319999983592], [5.6620779999975639, 5.6702829999994719], [5.6720800000002782, 5.6802869999992254], [5.6820779999980005, 5.6902589999990596], [5.6920790000003763, 5.7002839999986463], [5.702077999998437, 5.7102779999986524], [5.7120799999975134, 5.7202760000000126], [5.7220789999992121, 5.7302439999984927], [5.7320789999976114, 5.7402579999979935], [5.7420779999993101, 5.7502359999998589], [5.7520799999983865, 5.760283999999956], [5.7620779999997467, 5.770275999999285], [5.772079999998823, 5.7802489999994577], [5.7820780000001832, 5.7902609999982815], [5.7920799999992596, 5.8002759999981208], [5.8020780000006198, 5.8102509999989707], [5.8120799999996962, 5.8202519999977085], [5.8220779999974184, 5.8302779999976337], [5.8320779999994556, 5.8402829999977257], [5.8420779999978549, 5.8502509999998438], [5.8520800000005693, 5.8602409999984957], [5.8620779999982915, 5.8702610000000277], [5.8720799999973678, 5.8802309999991849], [5.882077999998728, 5.8902620000008028], [5.8920789999974659, 5.90023199999996], [5.9020779999991646, 5.9102609999972628], [5.912079999998241, 5.9202399999994668], [5.9220779999996012, 5.9302309999984573], [5.9320799999986775, 5.9402349999982107], [5.9420780000000377, 5.9502769999999146], [5.9520799999991141, 5.9602500000000873], [5.9620780000004743, 5.9702550000001793], [5.9720799999995506, 5.980266999999003], [5.9820779999972729, 5.9902309999997669], [5.9920789999996487, 6.0002419999982521], [6.0020789999980479, 6.010244999997667], [6.0120800000004238, 6.0202489999974205], [6.022077999998146, 6.0302559999981895], [6.0320790000005218, 6.0402499999981956], [6.0420779999985825, 6.0502620000006573], [6.0520799999976589, 6.0602579999977024], [6.0620779999990191, 6.0702369999999064], [6.0720799999980954, 6.0802330000005895], [6.0820779999994556, 6.0902360000000044], [6.0920789999981935, 6.1002320000006875], [6.1020779999998922, 6.1102609999979904], [6.1120799999989686, 6.1202589999993506], [6.1220780000003288, 6.1302560000003723], [6.1320789999990666, 6.1402500000003783], [6.1420780000007653, 6.1502309999996214], [6.1520799999998417, 6.1602309999980207], [6.1620779999975639, 6.1669569999976375], [6.1669669999973848, 6.1702750000004016], [6.1720800000002782, 6.1802329999991343], [6.1820779999980005, 6.1902809999992314], [6.1920780000000377, 6.2002519999987271], [6.202077999998437, 6.2102579999991576], [6.2120799999975134, 6.2202609999985725], [6.2220779999988736, 6.2302619999973103], [6.2320789999976114, 6.2402320000001055], [6.2420779999993101, 6.2502559999993537], [6.2520799999983865, 6.2602399999996123], [6.2620779999997467, 6.2702299999982642], [6.2720789999984845, 6.2802840000003926], [6.2820780000001832, 6.29026199999862], [6.2920789999989211, 6.3002589999996417], [6.3020780000006198, 6.3102829999988899], [6.3120789999993576, 6.3202569999994012], [6.3220779999974184, 6.3302369999983057], [6.3320789999997942, 6.3402619999978924], [6.3420779999978549, 6.3502520000001823], [6.3520790000002307, 6.3602829999981623], [6.3620779999982915, 6.3702510000002803], [6.3720790000006673, 6.3802499999983411], [6.382077999998728, 6.3902769999986049], [6.3920799999978044, 6.4002569999975094], [6.4020779999991646, 6.4102289999973436], [6.412079999998241, 6.4202769999974407], [6.4220779999996012, 6.4302559999996447], [6.4320799999986775, 6.4402669999981299], [6.4420780000000377, 6.4502519999987271], [6.4520799999991141, 6.4602329999979702], [6.4620780000004743, 6.4702609999985725], [6.4720789999992121, 6.4802309999977297], [6.4820779999972729, 6.4902819999988424], [6.4920799999999872, 6.5002849999982573], [6.5020779999977094, 6.5102609999994456], [6.5120790000000852, 6.5202389999976731], [6.522077999998146, 6.5302300000003015], [6.5320799999972223, 6.5402839999987918], [6.5420779999985825, 6.5502349999987928], [6.5520789999973204, 6.5602389999985462], [6.5620779999990191, 6.5702610000007553], [6.5720799999980954, 6.580232000000251], [6.5820779999994556, 6.5902319999986503], [6.592079999998532, 6.5989579999986745], [6.5989759999974922, 6.5999269999992975], [6.5999359999987064, 6.600321999998414], [6.6020790000002307, 6.6102599999976519], [6.6120799999989686, 6.6202599999996892], [6.6220780000003288, 6.630235000000539], [6.6320809999997437, 6.6402589999997872], [6.6420780000007653, 6.6502609999988636], [6.6520789999995031, 6.6602319999983592], [6.6620769999972254, 6.6629629999988538], [6.6629859999993641, 6.6633829999991576], [6.6633949999995821, 6.6636959999996179], [6.6637039999986882, 6.6703379999999015], [6.6720800000002782, 6.6802519999982906], [6.6820779999980005, 6.6902499999996508], [6.6920790000003763, 6.7002319999992324], [6.702077999998437, 6.7102559999984805], [6.7120789999971748, 6.7202839999990829], [6.7220779999988736, 6.7302359999994223], [6.7320799999979499, 6.7402399999991758], [6.7420779999993101, 6.750250999997661], [6.7520789999980479, 6.7602399999996123], [6.7620779999997467, 6.7702619999981835], [6.7720789999984845, 6.7802310000006401], [6.7820780000001832, 6.79026199999862], [6.7920799999992596, 6.8002339999984542], [6.8020780000006198, 6.8101779999997234], [6.8120799999996962, 6.8202319999982137], [6.8220789999977569, 6.8302569999978004], [6.8320779999994556, 6.840249999997468], [6.8420779999978549, 6.8502369999987422], [6.8520800000005693, 6.8602589999973134], [6.8620779999982915, 6.8702610000000277], [6.8720790000006673, 6.8802579999974114], [6.882077999998728, 6.8902620000008028], [6.8920799999978044, 6.9002760000003036], [6.9020779999991646, 6.9102509999975155], [6.9120789999979024, 6.9202829999994719], [6.9220779999996012, 6.9302349999998114], [6.932078999998339, 6.9402769999978773], [6.9420780000000377, 6.9502289999982168], [6.9520789999987755, 6.9602500000000873], [6.9620780000004743, 6.9702519999991637], [6.9720789999992121, 6.9802749999980733], [6.9820779999972729, 6.9902559999973164], [6.9920779999993101, 7.0002590000003693], [7.0020789999980479, 7.010283999999956], [7.0120800000004238, 7.0202399999980116], [7.022077999998146, 7.0302520000004733], [7.0320809999975609, 7.0402419999991253], [7.0420779999985825, 7.0502559999986261], [7.0520789999973204, 7.0602509999989707], [7.0620779999990191, 7.0702519999977085], [7.0720789999977569, 7.0802750000002561], [7.0820779999994556, 7.0902509999978065], [7.0920779999978549, 7.100256999998237], [7.1020779999998922, 7.1102370000007795], [7.1120799999989686, 7.1202510000002803], [7.1220780000003288, 7.1302289999985078], [7.1320799999994051, 7.1401979999973264], [7.1420780000007653, 7.1502509999991162], [7.1520799999998417, 7.1602509999975155], [7.1620779999975639, 7.1669559999972989], [7.1669660000006843, 7.1702760000007402], [7.1720800000002782, 7.1749589999999444], [7.1750140000003739, 7.1803130000007513], [7.1820779999980005, 7.1902769999978773], [7.1920790000003763, 7.2002580000007583], [7.202077999998437, 7.2102349999986473], [7.2120789999971748, 7.2202589999978954], [7.2220779999988736, 7.2302820000004431], [7.2320809999982885, 7.2402579999979935], [7.2420779999993101, 7.2502569999996922], [7.2520799999983865, 7.2601869999998598], [7.2620779999997467, 7.270277999999962], [7.2720789999984845, 7.2802389999997104], [7.2820780000001832, 7.2902609999982815], [7.2920789999989211, 7.3002379999998084], [7.3020780000006198, 7.3102509999989707], [7.3120799999996962, 7.3202569999994012], [7.3220779999974184, 7.3302609999991546], [7.3320789999997942, 7.3402619999978924], [7.3420779999978549, 7.3502520000001823], [7.3520790000002307, 7.3602479999972275], [7.3620779999982915, 7.3702510000002803], [7.3720790000006673, 7.3802859999996144], [7.382077999998728, 7.3902559999987716], [7.3920799999978044, 7.4002379999983532], [7.4020779999991646, 7.4102299999976822], [7.4120789999979024, 7.4202389999991283], [7.4220779999996012, 7.4302349999998114], [7.432078999998339, 7.4402659999977914], [7.4420780000000377, 7.4502619999984745], [7.4520799999991141, 7.4602759999979753], [7.4620780000004743, 7.4702299999989918], [7.4720789999992121, 7.4802490000001853], [7.4820779999972729, 7.4902289999990899], [7.4920789999996487, 7.5002050000002782], [7.5020779999977094, 7.5102349999979197], [7.5120790000000852, 7.5202399999980116], [7.522077999998146, 7.5302349999983562], [7.5320790000005218, 7.5402839999987918], [7.5420779999985825, 7.5502349999987928], [7.5520789999973204, 7.5602309999994759], [7.5620779999990191, 7.5702579999997397], [7.5720789999977569, 7.5802659999972093], [7.5820779999994556, 7.5902349999996659], [7.5920789999981935, 7.6002430000007735], [7.6020779999998922, 7.610236000000441], [7.61207899999863, 7.6202840000005381], [7.6220780000003288, 7.6302299999988463], [7.6320789999990666, 7.6402569999991101], [7.6420780000007653, 7.6502760000003036], [7.6520789999995031, 7.6602829999974347], [7.6620779999975639, 7.6702760000007402], [7.6720800000002782, 7.6802659999993921], [7.6820779999980005, 7.690230000000156], [7.6920790000003763, 7.7002409999986412], [7.702077999998437, 7.7102500000000873], [7.7120799999975134, 7.7202569999972184], [7.7220779999988736, 7.7302549999985786], [7.7320799999979499, 7.7402499999989232], [7.7420779999993101, 7.7502519999979995], [7.7520799999983865, 7.7602399999996123], [7.7620779999997467, 7.7702819999976782], [7.772079999998823, 7.7802649999975984], [7.7820780000001832, 7.7902509999985341], [7.7920789999989211, 7.8002749999977823], [7.8020780000006198, 7.810260999998718], [7.8120799999996962, 7.8202849999979662], [7.8220779999974184, 7.8302629999998317], [7.8320779999994556, 7.840264999998908], [7.8420779999978549, 7.8502819999994244], [7.8520790000002307, 7.8602399999981571], [7.8620779999982915, 7.870255999998335], [7.8720799999973678, 7.8802409999989322], [7.882077999998728, 7.8902769999986049], [7.8920799999978044, 7.9002760000003036], [7.9020779999991646, 7.9102619999976014], [7.912079999998241, 7.9202760000007402], [7.9220779999996012, 7.9302539999989676], [7.9320799999986775, 7.9402589999990596], [7.9420780000000377, 7.9502360000005865], [7.9520799999991141, 7.9602789999989909], [7.9620780000004743, 7.9702509999988251], [7.9720789999992121, 7.9802579999995942], [7.9820779999972729, 7.9902349999974831], [7.9920789999996487, 8.0002929999973276], [8.0020779999977094, 8.0102509999996983], [8.0120800000004238, 8.0202839999983553], [8.022077999998146, 8.0302620000002207], [8.0320799999972223, 8.0402659999999742], [8.0420779999985825, 8.0502559999986261], [8.0520789999973204, 8.0602309999994759], [8.0620779999990191, 8.0702769999988959], [8.0720799999980954, 8.080232000000251], [8.0820779999994556, 8.0902839999980642], [8.092079999998532, 8.1002329999973881], [8.1020779999998922, 8.1102580000006128], [8.1120799999989686, 8.1202569999986736], [8.1220780000003288, 8.1302619999987655], [8.1320799999994051, 8.1402390000002924], [8.1420780000007653, 8.1502540000001318], [8.1520789999995031, 8.1602380000003905], [8.1620779999975639, 8.1669569999976375], [8.1669679999977234, 8.1703009999982896], [8.1720779999996012, 8.180250999997952], [8.1820779999980005, 8.1902359999985492], [8.1920800000007148, 8.2002319999992324], [8.202077999998437, 8.2102349999986473], [8.2120789999971748, 8.2202579999975569], [8.2220779999988736, 8.2302769999987504], [8.2320789999976114, 8.2402499999989232], [8.2420779999993101, 8.2502359999998589], [8.2520789999980479, 8.2602509999996983], [8.2620779999997467, 8.2702580000004673], [8.272079999998823, 8.2802510000001348], [8.2820780000001832, 8.2902299999987008], [8.2920789999989211, 8.3002749999977823], [8.3020789999973204, 8.3102319999998144], [8.3120789999993576, 8.3202390000005835], [8.3220779999974184, 8.3302479999983916], [8.3320789999997942, 8.3402319999986503], [8.3420779999978549, 8.3502769999977318], [8.3520790000002307, 8.3602580000006128], [8.3620779999982915, 8.3702779999985069], [8.3720799999973678, 8.3802329999998619], [8.382077999998728, 8.3902319999979227], [8.3920789999974659, 8.4002749999999651], [8.4020779999991646, 8.4102359999997134], [8.4120789999979024, 8.4202320000003965], [8.4220779999996012, 8.4302819999975327], [8.4320799999986775, 8.4402759999975387], [8.4420780000000377, 8.4502509999983886], [8.4520789999987755, 8.4602749999976368], [8.4620780000004743, 8.4702509999988251], [8.4720789999992121, 8.4802559999989171], [8.4820779999972729, 8.4902340000007825], [8.4920789999996487, 8.5002480000002834], [8.5020779999977094, 8.5102609999994456], [8.5120800000004238, 8.5202599999975064], [8.5220789999984845, 8.530283000000054], [8.5320790000005218, 8.5402639999992971], [8.5420779999985825, 8.550228000000061], [8.5520789999973204, 8.5602399999988847], [8.5620779999990191, 8.5702559999990626], [8.5720799999980954, 8.5802389999989828], [8.5820779999994556, 8.5902609999975539], [8.592079999998532, 8.6002339999977266], [8.6020779999998922, 8.6102829999981623], [8.61207899999863, 8.6202830000001995], [8.6220780000003288, 8.6302299999988463], [8.6320789999990666, 8.6402749999979278], [8.6420780000007653, 8.6469569999972009], [8.646973999999318, 8.6479340000005323], [8.6479429999999411, 8.6502970000001369], [8.6520799999998417, 8.6602689999999711], [8.6620789999979024, 8.6702509999995527], [8.6720789999999397, 8.6802499999976135], [8.6820779999980005, 8.690255999998044], [8.6920790000003763, 8.7002409999986412], [8.702077999998437, 8.7102319999976316], [8.7120789999971748, 8.7202579999975569], [8.7220789999992121, 8.7302579999995942], [8.7320789999976114, 8.740233000000444], [8.7420779999993101, 8.7502759999988484], [8.7520799999983865, 8.760232000000542], [8.7620779999997467, 8.7702549999994517], [8.772079999998823, 8.7802310000006401], [8.7820780000001832, 8.7902570000005653], [8.7920789999989211, 8.8002569999989646], [8.8020780000006198, 8.8102809999982128], [8.8120799999996962, 8.8202509999973699], [8.8220779999974184, 8.8302509999994072], [8.8320779999994556, 8.8402839999980642], [8.8420779999978549, 8.850256999998237], [8.8520800000005693, 8.860276999999769], [8.8620779999982915, 8.870281999999861], [8.8720790000006673, 8.8802560000003723], [8.882077999998728, 8.8902510000007169], [8.8920789999974659, 8.9002849999997125], [8.9020779999991646, 8.9102499999971769], [8.9120809999985795, 8.920285000000149], [8.9220779999996012, 8.9302299999981187], [8.9320799999986775, 8.9402779999982158], [8.9420780000000377, 8.950260999998136], [8.9520789999987755, 8.9602500000000873], [8.9620780000004743, 8.9702289999986533], [8.9720789999992121, 8.9802849999978207], [8.9820779999972729, 8.9902939999992668], [8.9920799999999872, 9.0002749999985099], [9.0020779999977094, 9.0102829999996175], [9.0120800000004238, 9.0202749999989464], [9.022077999998146, 9.0302559999981895], [9.0320799999972223, 9.0402759999997215], [9.0420779999985825, 9.0502529999976105], [9.0520799999976589, 9.0602509999989707], [9.0620779999990191, 9.0702299999975367], [9.0720789999977569, 9.0802760000005946], [9.0820779999994556, 9.0902769999993325], [9.092079999998532, 9.1002759999973932], [9.1020779999998922, 9.110248999997566], [9.1120799999989686, 9.1202569999986736], [9.1220780000003288, 9.1302519999990182], [9.1320799999994051, 9.1402309999975841], [9.1420780000007653, 9.1502509999991162], [9.1520799999998417, 9.1602429999984452], [9.1620779999975639, 9.1669559999972989], [9.1669660000006843, 9.1702689999983704], [9.1720800000002782, 9.1749589999999444], [9.1750599999977567, 9.1789619999981369], [9.1789699999972072, 9.1803719999988971], [9.1820769999976619, 9.1829609999986133], [9.1829699999980221, 9.1902850000005856], [9.1920790000003763, 9.2002289999982168], [9.202077999998437, 9.2102579999991576], [9.2120789999971748, 9.220259999998234], [9.2220779999988736, 9.2302549999985786], [9.2320799999979499, 9.2402509999992617], [9.2420779999993101, 9.2502359999998589], [9.2520799999983865, 9.2602329999972426], [9.2620779999997467, 9.2702590000008058], [9.272079999998823, 9.2802329999976791], [9.2820780000001832, 9.2902589999976044], [9.2920799999992596, 9.3002379999998084], [9.3020780000006198, 9.3102509999989707], [9.3120789999993576, 9.3202869999986433], [9.3220789999977569, 9.3302289999992354], [9.3320800000001327, 9.3402569999998377], [9.3420779999978549, 9.3502539999972214], [9.3520790000002307, 9.360276999999769], [9.3620779999982915, 9.3621629999979632]]}, \"kworker/3:1-41\": {\"3\": [[2.0229939999990165, 2.0230850000007194], [3.3470839999972668, 3.3471150000004855], [4.1832240000003367, 4.1832519999989017], [4.3630029999985709, 4.363072000000102], [9.5990119999987655, 9.5991409999987809]]}, \"busybox-4982\": {\"2\": [[2.0360379999983707, 2.036179999999149]]}, \"kworker/2:2-3880\": {\"2\": [[1.8310829999973066, 1.8310969999984081], [12.743178999997326, 12.743193999998766]]}, \"busybox-4981\": {\"5\": [[2.0337670000008075, 2.0347369999981311]]}, \"bash-4987\": {\"1\": [[3.3458669999999984, 3.3462199999994482]], \"2\": [[3.3463209999972605, 3.3469769999974233]]}, \"bash-4983\": {\"1\": [[2.4426700000003621, 2.4430489999976999]], \"2\": [[2.4431479999984731, 2.446974999998929]]}, \"ksoftirqd/0-3\": {\"0\": [[0.0050169999994977843, 0.0050899999987450428], [0.0051050000001851004, 0.0051189999976486433], [0.0070720000003348105, 0.007118999998056097], [0.0071309999984805472, 0.007144999999582069], [0.45566200000030221, 0.45570099999895319], [2.5038899999999558, 2.5039309999992838], [3.2989839999972901, 3.2990009999994072], [5.161431000000448, 5.1615259999998671], [5.163327999998728, 5.1634039999989909], [5.165194999997766, 5.1652729999987059], [5.1673100000007253, 5.1674069999971834], [5.1693039999991015, 5.1694019999995362], [5.1714339999998629, 5.1715199999998731], [5.211182999999437, 5.2112489999999525], [5.2112659999984317, 5.2112849999975879], [6.1854749999984051, 6.1855570000006992], [6.1855729999988398, 6.1855939999986731], [6.1874559999996563, 6.1875189999991562], [6.1875359999976354, 6.187551999999414], [6.5999039999987872, 6.5999459999984538], [8.6479110000000219, 8.6479519999993499], [9.5151420000001963, 9.5151869999972405], [9.7312139999994542, 9.7312939999974333], [9.866996000000654, 9.8670199999978649], [9.8989719999990484, 9.8990099999973609], [10.695684999998775, 10.695721000000049], [12.74384099999952, 12.743878999997833]]}, \"ksoftirqd/5-28\": {\"5\": [[0.011202999998204177, 0.011222999997698935], [1.1392290000003413, 1.1392549999982293], [2.4710520000007818, 2.471068999999261], [9.7431939999987662, 9.7432229999976698], [12.999210999998468, 12.99924099999771]]}, \"bash-5011\": {\"1\": [[12.074448999999731, 12.078892999998061]], \"2\": [[12.073984999999084, 12.074345999997604]]}, \"cat-4986\": {\"0\": [[2.4567260000003444, 2.4570039999998698]]}, \"kworker/u12:2-5020\": {\"1\": [[13.685309000000416, 13.685341000000335]], \"5\": [[13.685424999999668, 13.687020999997912]]}, \"systemd-journal-152\": {\"4\": [[0.00081399999908171594, 0.0017449999977543484], [0.41680699999778881, 0.4185509999988426], [0.41978399999788962, 0.4209259999988717], [1.1180499999973108, 1.1198379999987083], [1.1266579999974056, 1.1275739999982761], [2.4518580000003567, 2.4536259999986214], [2.4576610000003711, 2.4585129999977653], [3.3549719999973604, 3.3553879999999481], [3.3554089999997814, 3.3567939999993541], [3.3606959999997343, 3.3615260000005946], [9.7191050000001269, 9.7192030000005616], [9.7196149999981571, 9.720551999998861], [9.7342050000006566, 9.7349880000001576], [9.8869400000003225, 9.8870569999999134], [9.8871489999983169, 9.8880709999975807], [9.9027029999997467, 9.9027819999973872], [9.9028589999979886, 9.9036029999988386], [10.054620999999315, 10.054720000000088], [10.054809999997815, 10.054984999998851], [10.055012999997416, 10.055821999998443], [10.063345999999001, 10.063425000000279], [10.063516999998683, 10.064152999999351], [10.275582999998733, 10.277329000000464], [10.280526999998983, 10.280606000000262], [10.280679999999847, 10.281380000000354], [10.281404999997903, 10.281428999998752], [11.179231999998592, 11.180967000000237], [11.184848999997484, 11.185704999999871], [12.083055999999488, 12.084823999997752], [12.091251999998349, 12.0920729999998], [12.987683999999717, 12.98942999999781], [12.990402999999787, 12.991077999999106], [12.991170999997848, 12.991852999999537], [13.689424000000145, 13.691217999999935]]}, \"ksoftirqd/3-20\": {\"3\": [[9.7790929999973741, 9.7791259999976319], [9.9470760000003793, 9.9470929999988584], [10.07518699999855, 10.075217999998131]]}, \"cat-5010\": {\"0\": [[11.183980999998312, 11.18426399999953]], \"5\": [[11.18309600000066, 11.183859999997367]]}, \"rs:main Q:Reg-262\": {\"3\": [[0.0019199999987904448, 0.0020809999987250194], [1.1193179999972926, 1.1194069999983185], [3.3608600000006845, 3.3609770000002754], [10.276656999998522, 10.276730999998108], [10.2806700000001, 10.280770999997912], [12.083384999998088, 12.083513999998104], [12.084208000000217, 12.08428499999718], [12.091484999997192, 12.091625999997632]], \"4\": [[9.7192990000003192, 9.7196149999981571]], \"5\": [[0.4170799999992596, 0.4172099999996135], [0.4178829999982554, 0.41794899999877089], [0.41996199999994133, 0.42002999999749591], [1.1183060000003024, 1.1184299999986251], [1.1268380000001343, 1.1269869999996445], [2.4521309999981895, 2.4522569999971893], [2.4529509999993024, 2.4530219999978726], [2.4578359999977692, 2.4579549999980372], [3.3553250000004482, 3.3554550000008021], [3.3561730000001262, 3.3562390000006417], [9.7344329999978072, 9.7345370000002731], [9.887245999998413, 9.8874289999985194], [9.9029139999984181, 9.9030459999994491], [10.054872000000614, 10.055033000000549], [10.063577999997506, 10.063695000000735], [10.275912999997672, 10.27603900000031], [11.179566999999224, 11.179699000000255], [11.180429000000004, 11.180506999997306], [11.185031999997591, 11.185152999998536], [12.987955000000511, 12.988079999999172], [12.98875599999883, 12.988821999999345], [12.990502999997261, 12.990559999998368], [13.689630000000761, 13.689754999999423], [13.69050900000002, 13.690578999998252]]}, \"rt-app-4991\": {\"1\": [[9.362145999999484, 9.3621559999992314], [9.3621779999994033, 9.3622130000003381]]}, \"rt-app-4992\": {\"2\": [[4.361970999998448, 4.3620310000005702]]}, \"rt-app-4993\": {\"3\": [[4.3621139999995648, 4.3630029999985709]]}, \"shutils-4981\": {\"1\": [[2.0328169999993406, 2.0329409999976633]], \"3\": [[2.0330269999976736, 2.0336779999997816]]}, \"kworker/u12:1-5012\": {\"2\": [[12.079045999998925, 12.079074999997829]], \"3\": [[12.079189000000042, 12.081017000000429]]}, \"kworker/u12:1-5017\": {\"1\": [[12.9837950000001, 12.983824999999342]], \"5\": [[12.983908999998675, 12.985710999997536]]}, \"bash-4991\": {\"1\": [[4.2527539999973669, 4.3619399999988673]], \"2\": [[4.2522829999979876, 4.2526509999988775]]}, \"bash-4996\": {\"2\": [[9.7241259999973408, 9.725600999998278]]}, \"bash-4999\": {\"2\": [[9.8918799999992189, 9.893367999997281]]}, \"kworker/5:2-170\": {\"5\": [[1.1352479999986826, 1.1353329999983544], [3.3549849999981234, 3.3550949999989825], [5.1591359999983979, 5.159230999997817], [9.3712089999971795, 9.3713409999982105], [11.183004999998957, 11.18309600000066], [13.687046999999438, 13.687120999999024]]}, \"sudo-4962\": {\"1\": [[0.41101100000014412, 0.41261499999745865], [0.41493500000069616, 0.41783799999757321], [0.41851300000053016, 0.41852999999900931], [0.41941699999733828, 0.42008599999826401]]}, \"ksoftirqd/4-24\": {\"4\": [[10.291235000000597, 10.291252999999415], [11.19123799999943, 11.191256999998586]]}, \"sudo-4964\": {\"2\": [[0.41783399999985704, 0.41814399999930174], [0.41816900000048918, 0.41934599999876809]]}, \"cat-4990\": {\"1\": [[3.3592179999977816, 3.3596599999982573], [3.3597740000004706, 3.3599529999992228]]}, \"sudo-5021\": {\"1\": [[13.690420999999333, 13.690739999998186], [13.690762999998697, 13.691879999998491]]}, \"busybox-4979\": {\"4\": [[2.0302559999981895, 2.0312620000004245]]}, \"busybox-4978\": {\"1\": [[2.0289639999973588, 2.0291109999998298]]}, \"bash-4965\": {\"1\": [[1.1087439999973867, 1.1090589999985241]], \"2\": [[1.1091559999986202, 1.1136000000005879]]}, \"busybox-4975\": {\"2\": [[2.0233569999982137, 2.0240610000000743]]}, \"in:imuxsock-260\": {\"3\": [[1.1181499999984226, 1.1182539999972505], [3.3551659999975527, 3.3552710000003572], [3.3561229999977513, 3.3561879999979283], [10.275751999997738, 10.275858999997581], [11.179398000000219, 11.179506000000401], [11.180303999997705, 11.180371999998897]], \"4\": [[0.0017449999977543484, 0.0018559999989520293], [9.7192030000005616, 9.7192990000003192], [9.8870569999999134, 9.8871489999983169], [9.9027819999973872, 9.9028589999979886], [10.054720000000088, 10.054809999997815], [10.063425000000279, 10.063516999998683], [10.280606000000262, 10.280679999999847]], \"5\": [[0.4169770000007702, 0.4170799999992596], [0.41782600000078673, 0.4178829999982554], [0.41990699999951175, 0.41996199999994133], [1.1191709999984596, 1.1192439999977069], [1.126749999999447, 1.1268380000001343], [2.4520279999997001, 2.4521309999981895], [2.4528919999975187, 2.4529509999993024], [2.4577460000000428, 2.4578359999977692], [3.3607819999997446, 3.3608749999984866], [9.7343479999981355, 9.7344329999978072], [10.276602999998431, 10.276670999999624], [11.184936999998172, 11.185031999997591], [12.083224999998492, 12.083330999997997], [12.084094999998342, 12.084151999999449], [12.091337999998359, 12.091433999998117], [12.987850999998045, 12.987955000000511], [12.988701999998739, 12.98875599999883], [12.990454999999201, 12.990502999997261], [13.689527999998973, 13.689630000000761], [13.690451999998913, 13.69050900000002]]}, \"kworker/u12:2-4966\": {\"1\": [[1.1138199999986682, 1.1138519999985874]], \"3\": [[1.1139519999996992, 1.115856000000349]]}, \"bash-4962\": {\"1\": [[0.40804500000012922, 0.41099499999836553]], \"2\": [[0.40756499999770313, 0.40792199999850709]]}, \"kworker/u12:1-5008\": {\"1\": [[11.175065999999788, 11.175094999998691]], \"3\": [[11.175201999998535, 11.177053999999771]]}, \"kworker/u12:1-5004\": {\"2\": [[10.271565999999439, 10.271596999999019]], \"3\": [[10.271688000000722, 10.273515999997471]]}, \"sh-4985\": {\"3\": [[2.4570639999983541, 2.4573029999992286]]}, \"scp-5002\": {\"2\": [[10.061502000000473, 10.061547999997856], [10.06214700000055, 10.06232799999998]]}, \"many1-4993\": {\"1\": [[4.3752329999988433, 4.3789699999979348], [4.3789799999976822, 4.4111959999972896], [4.4120789999979024, 4.420233000000735], [4.4220779999996012, 4.4302309999984573], [4.432078999998339, 4.440230000000156], [4.4420780000000377, 4.4502539999994042], [4.4520799999991141, 4.4602329999979702], [4.4620789999971748, 4.4702539999998407], [4.4720789999992121, 4.4802380000000994], [4.4820779999972729, 4.4902750000001106], [4.4920789999996487, 4.5002309999981662], [4.5020779999977094, 4.5102509999996983], [4.5120800000004238, 4.5202329999992799], [4.522077999998146, 4.5302300000003015], [4.5320790000005218, 4.5402419999991253], [4.5420779999985825, 4.5502510000005714], [4.5520780000006198, 4.560258999998041], [4.5620779999990191, 4.5702319999982137], [4.5720799999980954, 4.5802379999986442], [4.5820779999994556, 4.5902299999979732], [4.5920789999981935, 4.6002559999978985], [4.6020779999998922, 4.6102759999994305], [4.61207899999863, 4.6202310000007856], [4.6220780000003288, 4.6302539999996952], [4.6320789999990666, 4.6402319999979227], [4.6420780000007653, 4.6502519999994547], [4.6520799999998417, 4.6602590000002238], [4.6620779999975639, 4.6702389999991283], [4.6720789999999397, 4.6802409999982046], [4.6820779999980005, 4.690268999998807], [4.6920800000007148, 4.7002319999992324], [4.702077999998437, 4.7102500000000873], [4.7120789999971748, 4.7202319999996689], [4.7220779999988736, 4.7302299999973911], [4.7320809999982885, 4.7402419999998529], [4.7420779999993101, 4.7502299999978277], [4.7520789999980479, 4.76025799999843], [4.7620779999997467, 4.7702509999980975], [4.7720789999984845, 4.7802379999993718], [4.7820780000001832, 4.7902499999981956], [4.7920789999989211, 4.8002309999974386], [4.8020780000006198, 4.8102309999994759], [4.8120789999993576, 4.8202409999976226], [4.8220779999974184, 4.8302289999992354], [4.8320779999994556, 4.8402569999998377], [4.8420779999978549, 4.8502300000000105], [4.8520790000002307, 4.8602379999974801], [4.8620779999982915, 4.8702310000007856], [4.8720790000006673, 4.8802319999995234], [4.882077999998728, 4.890252999997756], [4.8920789999974659, 4.9002379999983532], [4.9020779999991646, 4.9102559999992081], [4.912079999998241, 4.9202579999982845], [4.9220779999996012, 4.9302299999981187], [4.9320799999986775, 4.9402659999977914], [4.9420780000000377, 4.9502519999987271], [4.9520799999991141, 4.9602429999977176], [4.9620780000004743, 4.9702409999990778], [4.9720789999992121, 4.9802469999995083], [4.9820779999972729, 4.9902550000006158], [4.9920789999996487, 5.0002490000006219], [5.0020779999977094, 5.0102549999974144], [5.0120790000000852, 5.0202409999983502], [5.022077999998146, 5.0302529999971739], [5.0320790000005218, 5.040248999997857], [5.0420779999985825, 5.0502599999999802], [5.0520789999973204, 5.0602579999977024], [5.0620779999990191, 5.0702579999997397], [5.0720789999977569, 5.080272999999579], [5.0820779999994556, 5.0902559999994992], [5.0920789999981935, 5.1002410000000964], [5.1020779999998922, 5.110236000000441], [5.1120799999989686, 5.1202589999993506], [5.1220780000003288, 5.1302550000000338], [5.1320789999990666, 5.1402589999997872], [5.1420780000007653, 5.1502359999976761], [5.1520789999995031, 5.1602539999985311], [5.1620779999975639, 5.1702619999996386], [5.1720800000002782, 5.1802480000005744], [5.182078999998339, 5.1902369999988878], [5.1920790000003763, 5.2002319999992324], [5.202077999998437, 5.2102309999972931], [5.2120789999971748, 5.2189560000006168], [5.2191129999991972, 5.2204349999992701], [5.2220779999988736, 5.2302449999988312], [5.2320789999976114, 5.2402540000002773], [5.2420779999993101, 5.2502569999996922], [5.2520789999980479, 5.2602009999973234], [5.2620779999997467, 5.2702299999982642], [5.2720789999984845, 5.2802709999996296], [5.2820780000001832, 5.2902770000000601], [5.2920789999989211, 5.3002309999974386], [5.3020780000006198, 5.3102319999998144], [5.3120799999996962, 5.320239999997284], [5.3220779999974184, 5.3302509999994072], [5.3320789999997942, 5.3402580000001763], [5.3420779999978549, 5.3502669999979844], [5.3520800000005693, 5.3602509999982431], [5.3620779999982915, 5.370255999998335], [5.3720799999973678, 5.3802859999996144], [5.3820789999990666, 5.3902579999994487], [5.3920789999974659, 5.4002309999996214], [5.4020779999991646, 5.4102609999972628], [5.4120789999979024, 5.4202289999993809], [5.4220779999996012, 5.4302749999988009], [5.432078999998339, 5.4402489999993122], [5.4420780000000377, 5.450235000000248], [5.4520789999987755, 5.4602329999979702], [5.4620780000004743, 5.4702299999989918], [5.4720789999992121, 5.4802619999973103], [5.4820779999972729, 5.4902279999987513], [5.4920799999999872, 5.5002580000000307], [5.5020779999977094, 5.5102769999975862], [5.5120790000000852, 5.5202399999980116], [5.522077999998146, 5.5302339999980177], [5.5320790000005218, 5.5402399999984482], [5.5420779999985825, 5.5502769999984594], [5.5520789999973204, 5.5602569999973639], [5.5620779999990191, 5.5702549999987241], [5.5720789999977569, 5.5802519999997457], [5.5820779999994556, 5.5902509999978065], [5.5920789999981935, 5.6002579999985755], [5.6020779999998922, 5.6102570000002743], [5.6120799999989686, 5.6202319999974861], [5.6220780000003288, 5.6302289999985078], [5.6320799999994051, 5.6402319999979227], [5.6420780000007653, 5.6502289999989443], [5.6520789999995031, 5.660239000000729], [5.6620779999975639, 5.6702289999993809], [5.6720800000002782, 5.6802910000005795], [5.6820779999980005, 5.6902289999998175], [5.6920800000007148, 5.7002399999983027], [5.702077999998437, 5.7102599999998347], [5.7120789999971748, 5.7202379999980622], [5.7220779999988736, 5.7302779999990889], [5.7320789999976114, 5.740258999998332], [5.7420779999993101, 5.7502299999978277], [5.7520799999983865, 5.76025799999843], [5.7620779999997467, 5.7702559999997902], [5.7720789999984845, 5.7802339999980177], [5.7820780000001832, 5.7902289999983623], [5.7920789999989211, 5.8002679999990505], [5.8020780000006198, 5.8102509999989707], [5.8120789999993576, 5.8202579999997397], [5.8220779999974184, 5.8302750000002561], [5.8320779999994556, 5.8402569999998377], [5.8420779999978549, 5.8502520000001823], [5.8520790000002307, 5.8602399999981571], [5.8620779999982915, 5.8702549999979965], [5.8720790000006673, 5.8802359999972396], [5.882077999998728, 5.890254999998433], [5.8920799999978044, 5.9002330000002985], [5.9020779999991646, 5.910251999997854], [5.9120789999979024, 5.9202399999994668], [5.9220779999996012, 5.9302529999986291], [5.932078999998339, 5.9402630000004137], [5.9420780000000377, 5.950275999999576], [5.9520789999987755, 5.9602659999982279], [5.9620780000004743, 5.9702309999993304], [5.9720789999992121, 5.9802369999997609], [5.9820779999972729, 5.9902529999999388], [5.9920789999996487, 6.0002299999978277], [6.0020779999977094, 6.0102719999995315], [6.0120800000004238, 6.0202329999992799], [6.022077999998146, 6.0302510000001348], [6.0320799999972223, 6.0402659999999742], [6.0420779999985825, 6.0502290000003995], [6.0520789999973204, 6.0602650000000722], [6.0620779999990191, 6.0702769999988959], [6.0720789999977569, 6.0802289999992354], [6.0820779999994556, 6.0902490000007674], [6.092079999998532, 6.1002659999976458], [6.1020779999998922, 6.1102559999999357], [6.1120799999989686, 6.1202579999990121], [6.1220780000003288, 6.1302770000002056], [6.1320799999994051, 6.1402309999975841], [6.1420780000007653, 6.1502289999989443], [6.1520789999995031, 6.1602319999983592], [6.1620779999975639, 6.1702489999988757], [6.1720789999999397, 6.1802399999978661], [6.1820769999976619, 6.1829649999999674], [6.1829999999972642, 6.1903050000000803], [6.1920780000000377, 6.2002570000004198], [6.202077999998437, 6.2102539999978035], [6.2120799999975134, 6.2189560000006168], [6.2191109999985201, 6.220393999999942], [6.2220779999988736, 6.230228000000352], [6.2320789999976114, 6.2402399999991758], [6.2420779999993101, 6.2502319999985048], [6.2520789999980479, 6.26025799999843], [6.2620779999997467, 6.2702289999979257], [6.272079999998823, 6.2802310000006401], [6.2820780000001832, 6.2902549999998882], [6.2920789999989211, 6.3002579999993031], [6.3020780000006198, 6.3102550000003248], [6.3120799999996962, 6.3202409999976226], [6.3220779999974184, 6.3302819999989879], [6.3320789999997942, 6.3402599999972153], [6.3420779999978549, 6.3502559999978985], [6.3520800000005693, 6.3602319999990868], [6.3620779999982915, 6.370230000000447], [6.3720790000006673, 6.3802319999995234], [6.382077999998728, 6.3902469999993627], [6.3920789999974659, 6.4002569999975094], [6.4020779999991646, 6.4102769999990414], [6.4120789999979024, 6.4202289999993809], [6.4220779999996012, 6.4302289999977802], [6.4320799999986775, 6.4402379999992263], [6.4420780000000377, 6.4502769999999146], [6.4520789999987755, 6.4602319999976316], [6.4620780000004743, 6.4702279999983148], [6.4720799999995506, 6.4802319999980682], [6.4820779999972729, 6.490233000000444], [6.4920789999996487, 6.5002289999974892], [6.5020779999977094, 6.5102569999980915], [6.5120800000004238, 6.5202319999989413], [6.522077999998146, 6.5302559999981895], [6.5320799999972223, 6.5402409999987867], [6.5420779999985825, 6.5502559999986261], [6.5520789999973204, 6.5602399999988847], [6.5620779999990191, 6.5702509999973699], [6.5720789999977569, 6.5802569999978004], [6.5820779999994556, 6.590251999998145], [6.592079999998532, 6.6002579999985755], [6.6020779999998922, 6.6102399999981571], [6.6120799999989686, 6.6202610000000277], [6.6220780000003288, 6.6302079999986745], [6.6320789999990666, 6.6402339999985998], [6.6420780000007653, 6.6502519999994547], [6.6520799999998417, 6.6602499999971769], [6.6620779999975639, 6.6702650000006543], [6.6720800000002782, 6.6802439999992203], [6.6820779999980005, 6.6902809999992314], [6.6920790000003763, 6.7002299999985553], [6.702077999998437, 6.7102300000005926], [6.7120789999971748, 6.7202389999984007], [6.7220779999988736, 6.7302500000005239], [6.7320789999976114, 6.7402299999994284], [6.7420779999993101, 6.7502359999998589], [6.7520799999983865, 6.7602669999978389], [6.7620779999997467, 6.7702509999980975], [6.7720789999984845, 6.7802319999973406], [6.7820780000001832, 6.7902659999999742], [6.7920789999989211, 6.8002629999973578], [6.8020780000006198, 6.8102289999987988], [6.8120789999993576, 6.8202380000002449], [6.8220779999974184, 6.8302769999972952], [6.8320779999994556, 6.8402639999985695], [6.8420779999978549, 6.8502300000000105], [6.8520790000002307, 6.8602570000002743], [6.8620779999982915, 6.8702510000002803], [6.8720790000006673, 6.8802309999991849], [6.882077999998728, 6.890252999997756], [6.8920789999974659, 6.9002409999993688], [6.9020779999991646, 6.9102559999992081], [6.912079999998241, 6.9202399999994668], [6.9220779999996012, 6.930250999997952], [6.932078999998339, 6.940230000000156], [6.9420780000000377, 6.9502769999999146], [6.9520789999987755, 6.9602309999972931], [6.9620780000004743, 6.9702550000001793], [6.9720799999995506, 6.980266999999003], [6.9820779999972729, 6.9902550000006158], [6.9920779999993101, 7.0002929999973276], [7.0020779999977094, 7.0102279999991879], [7.0120790000000852, 7.0202309999986028], [7.022077999998146, 7.0302349999983562], [7.0320790000005218, 7.0402289999983623], [7.0420779999985825, 7.0502309999974386], [7.0520799999976589, 7.0602560000006633], [7.0620779999990191, 7.0702569999994012], [7.0720789999977569, 7.080257999998139], [7.0820779999994556, 7.0902309999983117], [7.0920779999978549, 7.1002300000000105], [7.1020779999998922, 7.1102279999977327], [7.11207899999863, 7.120230000000447], [7.1220780000003288, 7.1302299999988463], [7.1320789999990666, 7.1402319999979227], [7.1420780000007653, 7.1502559999971709], [7.1520789999995031, 7.1602629999979399], [7.1620779999975639, 7.1702559999976074], [7.1720800000002782, 7.1802399999978661], [7.1820779999980005, 7.190230000000156], [7.1920819999977539, 7.200235000000248], [7.202077999998437, 7.2102300000005926], [7.2120799999975134, 7.2189579999976559], [7.2191139999995357, 7.220407000000705], [7.2220779999988736, 7.2302559999989171], [7.2320789999976114, 7.2402320000001055], [7.2420779999993101, 7.250250999997661], [7.2520789999980479, 7.26025799999843], [7.2620779999997467, 7.2702559999997902], [7.272079999998823, 7.280267999998614], [7.2820780000001832, 7.2902509999985341], [7.2920789999989211, 7.3002190000006522], [7.3020780000006198, 7.3102509999989707], [7.3120789999993576, 7.320239999997284], [7.3220779999974184, 7.3302519999997457], [7.3320789999997942, 7.3402409999980591], [7.3420779999978549, 7.3502289999996719], [7.3520800000005693, 7.3602409999984957], [7.3620779999982915, 7.3702589999993506], [7.3720799999973678, 7.3802579999974114], [7.382077999998728, 7.3902519999974174], [7.3920789999974659, 7.4002609999988636], [7.4020789999995031, 7.41027799999938], [7.4120789999979024, 7.4202320000003965], [7.4220779999996012, 7.4302779999998165], [7.4320799999986775, 7.4402389999995648], [7.4420780000000377, 7.4502360000005865], [7.4520789999987755, 7.4602309999972931], [7.4620780000004743, 7.4702519999991637], [7.4720799999995506, 7.480240999997477], [7.4820779999972729, 7.4902509999992617], [7.4920789999996487, 7.5002590000003693], [7.5020779999977094, 7.5102569999980915], [7.5120790000000852, 7.5202389999976731], [7.522077999998146, 7.5302300000003015], [7.5320799999972223, 7.5402670000003127], [7.5420779999985825, 7.5502309999974386], [7.5520799999976589, 7.5602569999973639], [7.5620779999990191, 7.5702549999987241], [7.5720799999980954, 7.5802650000005087], [7.5820779999994556, 7.5902189999978873], [7.592079999998532, 7.6002530000005208], [7.6020779999998922, 7.6102509999982431], [7.6120799999989686, 7.6202589999993506], [7.6220790000006673, 7.6302770000002056], [7.6320799999994051, 7.6402319999979227], [7.6420780000007653, 7.6502299999992829], [7.6520789999995031, 7.6602309999980207], [7.6620779999975639, 7.6702729999997246], [7.6720800000002782, 7.6802399999978661], [7.6820779999980005, 7.6902289999998175], [7.6920800000007148, 7.700260999998136], [7.702077999998437, 7.7102510000004258], [7.7120789999971748, 7.7202309999993304], [7.7220779999988736, 7.7302299999973911], [7.7320789999976114, 7.7402569999976549], [7.7420779999993101, 7.7502289999974892], [7.7520789999980479, 7.7602289999995264], [7.7620779999997467, 7.7702559999997902], [7.7720789999984845, 7.7802400000000489], [7.7820780000001832, 7.7902299999987008], [7.7920789999989211, 7.8002419999975245], [7.8020780000006198, 7.8102539999999863], [7.8120789999993576, 7.8202309999978752], [7.8220779999974184, 7.8302509999994072], [7.8320779999994556, 7.8402590000005148], [7.8420789999981935, 7.850231000000349], [7.8520790000002307, 7.8602309999987483], [7.8620779999982915, 7.87022799999977], [7.8720790000006673, 7.8802399999985937], [7.882077999998728, 7.8902299999972456], [7.8920789999974659, 7.9002569999975094], [7.9020779999991646, 7.9102280000006431], [7.9120789999979024, 7.920231000000058], [7.9220779999996012, 7.9302299999981187], [7.932078999998339, 7.9402310000004945], [7.9420780000000377, 7.9501859999982116], [7.9520799999991141, 7.9602649999978894], [7.9620780000004743, 7.9702289999986533], [7.9720799999995506, 7.9802319999980682], [7.9820779999972729, 7.9902519999996002], [7.9920789999996487, 8.0002549999990151], [8.0020779999977094, 8.0102310000002035], [8.0120790000000852, 8.0202319999989413], [8.022077999998146, 8.0302510000001348], [8.0320790000005218, 8.0402319999993779], [8.0420779999985825, 8.0502769999984594], [8.0520789999973204, 8.0602499999986321], [8.0620779999990191, 8.0702519999977085], [8.0720789999977569, 8.0802330000005895], [8.0820779999994556, 8.0902289999976347], [8.0920789999981935, 8.1002649999973073], [8.1020779999998922, 8.1102279999977327], [8.11207899999863, 8.1202310000007856], [8.1220780000003288, 8.1302770000002056], [8.1320789999990666, 8.1402579999994487], [8.1420780000007653, 8.1502299999992829], [8.1520789999995031, 8.1602319999983592], [8.1620779999975639, 8.1702289999993809], [8.1720779999996012, 8.1802539999989676], [8.1820779999980005, 8.1829599999982747], [8.1830039999986184, 8.1902399999999034], [8.1920790000003763, 8.2002329999995709], [8.202077999998437, 8.2102319999976316], [8.2120799999975134, 8.2189589999979944], [8.2191149999998743, 8.2204229999988456], [8.2220779999988736, 8.230251999997563], [8.2320789999976114, 8.2402309999997669], [8.2420779999993101, 8.250276999999187], [8.2520799999983865, 8.260232000000542], [8.2620790000000852, 8.270277999999962], [8.272077999998146, 8.2802389999997104], [8.2820780000001832, 8.2902299999987008], [8.2920789999989211, 8.3002659999983734], [8.3020799999976589, 8.3102299999991374], [8.3120799999996962, 8.3202319999982137], [8.3220779999974184, 8.3302469999980531], [8.3320800000001327, 8.3402599999972153], [8.3420779999978549, 8.3502300000000105], [8.3520790000002307, 8.3602399999981571], [8.3620779999982915, 8.3702349999985017], [8.3720790000006673, 8.3802319999995234], [8.382077999998728, 8.3902309999975841], [8.3920789999974659, 8.4002499999987776], [8.4020779999991646, 8.4102590000002238], [8.412079999998241, 8.4202559999976074], [8.4220779999996012, 8.4302299999981187], [8.432078999998339, 8.4402599999993981], [8.4420780000000377, 8.4502299999985553], [8.4520789999987755, 8.4602569999988191], [8.4620780000004743, 8.4702279999983148], [8.4720799999995506, 8.4802319999980682], [8.4820789999976114, 8.4902320000001055], [8.4920789999996487, 8.500265999999101], [8.5020779999977094, 8.5102329999972426], [8.5120790000000852, 8.5202309999986028], [8.522077999998146, 8.5302310000006401], [8.5320790000005218, 8.5402579999972659], [8.5420779999985825, 8.5502559999986261], [8.5520799999976589, 8.5602409999992233], [8.5620779999990191, 8.570252999998047], [8.5720789999977569, 8.580232000000251], [8.5820779999994556, 8.5902509999978065], [8.5920789999981935, 8.6002549999975599], [8.6020779999998922, 8.6102699999973993], [8.6120799999989686, 8.6202400000001944], [8.6220780000003288, 8.6302519999990182], [8.6320789999990666, 8.6402569999991101], [8.6420780000007653, 8.6502739999996265], [8.6520799999998417, 8.6602629999979399], [8.6620789999979024, 8.6702379999987897], [8.6720800000002782, 8.6802470000002359], [8.6820779999980005, 8.690230000000156], [8.6920800000007148, 8.7002749999992375], [8.7020789999987755, 8.7102779999986524], [8.7120799999975134, 8.7202399999987392], [8.7220779999988736, 8.730228000000352], [8.7320799999979499, 8.7402389999988372], [8.7420779999993101, 8.7502299999978277], [8.7520789999980479, 8.7602310000002035], [8.7620779999997467, 8.7702769999996235], [8.7720789999984845, 8.7802579999988666], [8.7820780000001832, 8.7902579999972659], [8.7920799999992596, 8.8002510000005714], [8.8020780000006198, 8.8102299999991374], [8.8120799999996962, 8.8202309999978752], [8.8220779999974184, 8.8302299999995739], [8.8320779999994556, 8.8402309999983117], [8.8420779999978549, 8.8502589999989141], [8.8520790000002307, 8.8602570000002743], [8.8620779999982915, 8.870230000000447], [8.8720790000006673, 8.8802399999985937], [8.882077999998728, 8.890254999998433], [8.8920789999974659, 8.9002309999996214], [8.9020779999991646, 8.910251999997854], [8.912079999998241, 8.920233000000735], [8.9220789999999397, 8.9302299999981187], [8.9320799999986775, 8.940255999998044], [8.9420780000000377, 8.9502289999982168], [8.9520789999987755, 8.9602569999988191], [8.9620780000004743, 8.9702299999989918], [8.9720789999992121, 8.9802319999980682], [8.9820779999972729, 8.9902479999982461], [8.9920799999999872, 9.0002679999997781], [9.0020779999977094, 9.0102029999980005], [9.0120800000004238, 9.0202319999989413], [9.022077999998146, 9.030254999997851], [9.0320790000005218, 9.0402389999981096], [9.0420779999985825, 9.0502300000007381], [9.0520789999973204, 9.0602569999973639], [9.0620779999990191, 9.0702299999975367], [9.0720789999977569, 9.0802399999993213], [9.0820779999994556, 9.0902769999993325], [9.0920789999981935, 9.100256999998237], [9.1020779999998922, 9.1102319999990868], [9.1120799999989686, 9.1202329999978247], [9.1220780000003288, 9.1301749999984168], [9.1320789999990666, 9.1402319999979227], [9.1420789999974659, 9.1502559999971709], [9.1520799999998417, 9.1602659999989555], [9.1620779999975639, 9.1702299999997194], [9.1720789999999397, 9.1802399999978661], [9.1820779999980005, 9.1869589999987511], [9.1869679999981599, 9.1902489999993122], [9.1920780000000377, 9.2001879999988887], [9.202077999998437, 9.2102279999999155], [9.2120789999971748, 9.2189569999973173], [9.2191129999991972, 9.2204139999994368], [9.2220779999988736, 9.2302529999979015], [9.2320789999976114, 9.2402389999988372], [9.2420779999993101, 9.2502299999978277], [9.2520799999983865, 9.2602509999996983], [9.2620790000000852, 9.270277999999962], [9.272079999998823, 9.2802319999973406], [9.2820780000001832, 9.2902309999990393], [9.2920789999989211, 9.3002319999977772], [9.3020780000006198, 9.3102299999991374], [9.3120799999996962, 9.3202889999993204], [9.3220789999977569, 9.330232000000251], [9.3320789999997942, 9.3402419999983977], [9.3420779999978549, 9.3502559999978985], [9.3520800000005693, 9.3602309999987483], [9.3620779999982915, 9.3621009999988019], [9.3621129999992263, 9.362145999999484], [9.3621559999992314, 9.3621779999994033], [9.3622130000003381, 9.3623139999981504]], \"3\": [[4.363072000000102, 4.3750679999975546]]}, \"sshd-3886\": {\"0\": [[0.15380499999810127, 0.15403299999888986], [0.15429199999925913, 0.15448900000046706], [0.15454899999895133, 0.15465299999777926], [0.20392999999967287, 0.2041609999978391], [0.20437499999752617, 0.20450799999889568], [0.35624900000038906, 0.35648799999762559], [0.40637299999798415, 0.40656899999885354], [0.40767699999923934, 0.40783200000078068], [0.42047800000000279, 0.42067699999824981], [1.05764999999883, 1.0577720000001136], [1.0578129999994417, 1.0578449999993609], [1.0580539999973553, 1.0580699999991339], [1.0580859999972745, 1.058099999998376], [1.058112999999139, 1.058128000000579], [1.0581419999980426, 1.0581559999991441], [1.0581689999999071, 1.0581849999980477], [1.0582049999975425, 1.058218999998644], [1.058231999999407, 1.0582469999972091], [1.058259999997972, 1.0582739999990736], [1.0582869999998366, 1.0583019999976386], [1.0583159999987402, 1.0583289999995031], [1.0583389999992505, 1.0591289999974833], [1.1077129999976023, 1.1078170000000682], [1.1080409999995027, 1.1081369999992603], [1.127784000000247, 1.1279849999991711], [1.758972999999969, 1.7590889999992214], [1.7591299999985495, 1.7591580000007525], [1.7592269999986456, 1.7593339999984892], [1.7593899999992573, 1.7595129999972414], [1.7595660000006319, 1.7596779999985301], [1.7597289999976056, 1.7598120000002382], [1.7599069999996573, 1.7599889999983134], [1.7600399999973888, 1.7601489999979094], [1.7602009999973234, 1.7602819999992789], [1.8090919999995094, 1.8091659999990952], [1.80918599999859, 1.8092109999997774], [1.8092570000007981, 1.8093410000001313], [1.8096819999991567, 1.809769999999844], [1.8099249999977474, 1.8100099999974191], [1.9611609999992652, 1.9612390000002051], [1.9612600000000384, 1.9612849999975879], [1.9613339999996242, 1.9614169999986188], [1.9614689999980328, 1.9615779999985534], [1.9616289999976289, 1.9617369999978109], [1.9617880000005243, 1.9618689999988419], [1.9619209999982559, 1.962043999999878], [1.9620949999989534, 1.9621750000005704], [1.9622529999978724, 1.9623339999998279], [1.9623849999989034, 1.9624929999990854], [1.9625439999981609, 1.9626270000007935], [1.9626779999998689, 1.9628029999985301], [1.9628539999976056, 1.9629829999976209], [1.9630350000006729, 1.9631159999989904], [1.9631669999980659, 1.9632749999982479], [1.9633279999980005, 1.963408999999956], [1.9634879999975965, 1.963568999999552], [1.9636199999986275, 1.963726999998471], [1.963778999997885, 1.9638599999998405], [1.9639409999981581, 1.9640220000001136], [1.9640749999998661, 1.9641819999997097], [1.9642339999991236, 1.9643479999976989], [1.9644009999974514, 1.964507999997295], [1.9645600000003469, 1.9646659999998519], [1.9648080000006303, 1.9648919999999634], [1.9650179999989632, 1.9650989999972808], [1.965226000000257, 1.9653069999985746], [1.9654349999982514, 1.9655149999998685], [1.9656849999992119, 1.9657679999982065], [1.965820999997959, 1.965926999997464], [1.9661159999996016, 1.9662250000001222], [1.9663980000004813, 1.9664809999994759], [1.9666569999972126, 1.9667399999998452], [1.9667939999999362, 1.9669009999997797], [1.9671419999976933, 1.9672269999973651], [1.9672819999977946, 1.9673879999972996], [1.9675370000004477, 1.9676459999973304], [1.9678719999974419, 1.967956000000413], [1.9680119999975432, 1.9681199999977252], [1.9682429999993474, 1.9683549999972456], [2.011289999998553, 2.0113610000007611], [2.0121340000005148, 2.0122539999974833], [2.1882740000000922, 2.1885120000006282], [2.1888829999988957, 2.1890149999999267], [2.2383719999997993, 2.2385919999978796], [2.2392269999982091, 2.2392909999980475], [2.2393950000005134, 2.2395329999999376], [2.391074999999546, 2.3912720000007539], [2.3913069999980507, 2.3913379999976314], [2.3914179999992484, 2.3915379999998549], [2.3915940000006231, 2.3917089999995369], [2.3917619999992894, 2.3918720000001485], [2.391922999999224, 2.392002999997203], [2.3921269999991637, 2.3922070000007807], [2.3923709999980929, 2.3924540000007255], [2.3925049999998009, 2.392612999999983], [2.3927899999980582, 2.3929349999998522], [2.3931439999978465, 2.3932270000004792], [2.3933499999984633, 2.3934300000000803], [2.3935989999990852, 2.3936819999980798], [2.3937339999974938, 2.3938409999973373], [2.3940259999981208, 2.3941349999986414], [2.3943489999983285, 2.3944310000006226], [2.3945590000002994, 2.3946389999982785], [2.3947369999987131, 2.3948439999985567], [2.3950489999988349, 2.3951339999985066], [2.3951889999989362, 2.3952959999987797], [2.3954419999972743, 2.3955519999981334], [2.3957719999998517, 2.3958559999991849], [2.3959579999973357, 2.3960640000004787], [2.3962140000003274, 2.39632299999721], [2.3965470000002824, 2.3966299999992771], [2.3967609999999695, 2.3968409999979485], [2.3969450000004144, 2.3970509999999194], [2.3972040000007837, 2.3973129999976663], [2.3974339999986114, 2.3975479999971867], [2.4415909999988799, 2.4417639999992389], [2.4428179999995336, 2.4429909999998927], [3.0927789999986999, 3.092981999998301], [3.0930359999983921, 3.0930669999979727], [3.0931469999995898, 3.0932680000005348], [3.0934029999989434, 3.0934849999975995], [3.0936059999985446, 3.0936879999972007], [3.0938249999999243, 3.0939120000002731], [3.142837999999756, 3.1429059999973106], [3.1433149999975285, 3.1434119999976247], [3.1435789999995905, 3.1436639999992622], [3.2949659999976575, 3.2950399999972433], [3.2950619999974151, 3.2950869999986026], [3.2951360000006389, 3.2952199999999721], [3.295271999999386, 3.2953809999999066], [3.2954319999989821, 3.2955399999991641], [3.2957169999972393, 3.2958259999977599], [3.2960289999973611, 3.2961119999999937], [3.296277999997983, 3.2963600000002771], [3.2964539999993576, 3.2965619999995397], [3.2967009999993024, 3.296809999999823], [3.2970189999978174, 3.2971020000004501], [3.2971990000005462, 3.2973060000003898], [3.2975169999990612, 3.2975999999980559], [3.2976529999978084, 3.2977599999976519], [3.2979459999987739, 3.2980549999992945], [3.2981970000000729, 3.298306999997294], [3.2985239999979967, 3.2986239999991085], [3.2987519999987853, 3.2988330000007409], [3.2990009999994072, 3.2990829999980633], [3.299261000000115, 3.2993439999991097], [3.2994749999998021, 3.2995549999977811], [3.29965699999957, 3.299762999999075], [3.2999129999989236, 3.3000219999994442], [3.3001979999971809, 3.3002809999998135], [3.3004619999992428, 3.3005789999988338], [3.3007130000005418, 3.3007929999985208], [3.3009249999995518, 3.3010049999975308], [3.3450909999992291, 3.3451600000007602], [3.3459589999984019, 3.3460730000006151], [3.3599899999971967, 3.3601959999978135], [3.3616039999978966, 3.3617359999989276], [3.9963969999989786, 3.9965080000001763], [3.9965489999995043, 3.9965779999984079], [3.9966580000000249, 3.9967539999997825], [3.9969319999981963, 3.9970199999988836], [3.9971449999975448, 3.9972269999998389], [3.9972949999973935, 3.9974089999996067], [4.0465129999975034, 4.0465839999997115], [4.0469849999972212, 4.0470849999983329], [4.0471199999992677, 4.0472300000001269], [4.047404999997525, 4.0474919999978738], [4.2012159999976575, 4.201294999998936], [4.2014849999977741, 4.2015799999971932], [4.2017039999991539, 4.20178599999781], [4.2019079999990936, 4.2019880000007106], [4.2020830000001297, 4.2021889999996347], [4.2023950000002515, 4.2024779999992461], [4.2025729999986652, 4.2026789999981702], [4.2028890000001411, 4.2029889999976149], [4.203179000000091, 4.2032770000005257], [4.203403999999864, 4.2034849999981816], [4.2036539999971865, 4.2037359999994806], [4.203907999999501, 4.2039899999981571], [4.2041160000007949, 4.2041949999984354], [4.2042939999992086, 4.2043999999987136], [4.2045450000005076, 4.2046539999973902], [4.20487299999877, 4.2049569999981031], [4.2050119999985327, 4.2051199999987148], [4.2053369999994175, 4.2054199999984121], [4.2055230000005395, 4.2056290000000445], [4.2057779999995546, 4.2058849999993981], [4.2061099999991711, 4.2061929999981658], [4.2063239999988582, 4.2064040000004752], [4.2065069999989646, 4.2066469999990659], [4.2068289999988338, 4.2069119999978284], [4.2070639999983541, 4.2071460000006482], [4.2072019999977783, 4.2073079999972833], [4.2074619999984861, 4.2075709999990067], [4.2077250000002095, 4.2078340000007302], [4.2080179999975371, 4.2080999999998312], [4.2082850000006147, 4.2083679999996093], [4.208426999997755, 4.2085359999982757], [4.2086959999978717, 4.2088049999983923], [4.2089639999976498, 4.2090729999981704], [4.209262000000308, 4.2093449999993027], [4.2094049999977869, 4.209512999997969], [4.2096749999982421, 4.2097839999987627], [4.2099729999972624, 4.210055999999895], [4.2101320000001579, 4.2102439999980561], [4.2513189999990573, 4.251419000000169], [4.2524180000000342, 4.2525329999989481], [4.3621139999995648, 4.3623729999999341], [4.362503000000288, 4.3626269999986107], [9.5142109999978857, 9.5144450000007055], [9.5147969999998168, 9.5149439999986498], [9.5643490000002203, 9.5645459999977902], [9.5645970000005036, 9.5646409999972093], [9.5650129999994533, 9.5652289999998175], [10.215329999999085, 10.215485000000626], [10.215940999998566, 10.216011000000435], [10.216044000000693, 10.216130999997404], [10.216145999998844, 10.216722999997728], [10.265439999999217, 10.265524999998888], [10.266532999998162, 10.266647000000376], [10.916847000000416, 10.916968999998062], [10.917218999999022, 10.917325999998866], [10.966936999997415, 10.967040999999881], [10.967287999999826, 10.967346999997972], [10.967368999998143, 10.967463999997562], [10.967484000000695, 10.967620999999781], [11.119019999998272, 11.119109999999637], [11.119362999997975, 11.119423000000097], [11.119447999997647, 11.120097999999416], [11.120128999998997, 11.12023599999884], [11.169144999999844, 11.169230999999854], [11.170114000000467, 11.170221000000311], [11.820458999998664, 11.820564999998169], [11.820605999997497, 11.820635000000038], [11.820701999997254, 11.820800999998028], [11.820855999998457, 11.820973999998387], [11.821025999997801, 11.821134999998321], [11.821312000000034, 11.821423999997933], [11.87058099999922, 11.870654999998806], [11.871061999998346, 11.87116099999912], [11.871333999999479, 11.871419999999489], [12.023079999999027, 12.023157999999967], [12.023181999997178, 12.023206999998365], [12.023256000000401, 12.023338999999396], [12.02339099999881, 12.023498999998992], [12.023591999997734, 12.023699999997916], [12.023904999998194, 12.023987999997189], [12.024080999999569, 12.024187999999413], [12.024395000000368, 12.024477999999363], [12.024529999998776, 12.024637999998959], [12.024818999998388, 12.024927999998908], [12.025137000000541, 12.025220999999874], [12.02531799999997, 12.025424999999814], [12.025563999999576, 12.025674000000436], [12.025886999999784, 12.025969999998779], [12.026067999999213, 12.02617299999838], [12.026315999999497, 12.026425000000017], [12.026597000000038, 12.026678999998694], [12.026851999999053, 12.026934999998048], [12.027085999998235, 12.027168000000529], [12.02726999999868, 12.027377999998862], [12.027601999998296, 12.027684999997291], [12.027740999998059, 12.027847999997903], [12.027996999997413, 12.02810799999861], [12.028331999998045, 12.028415000000678], [12.028470999997808, 12.028610999997909], [12.028840999999375, 12.028922999998031], [12.0290559999994, 12.029135999997379], [12.029192999998486, 12.029300999998668], [12.029456000000209, 12.02956500000073], [12.029718999998295, 12.029828999999154], [12.029984999997396, 12.030093999997916], [12.030277999998361, 12.030361999997695], [12.030550999999832, 12.030633999998827], [12.03069300000061, 12.030800000000454], [12.030925999999454, 12.031057000000146], [12.073184999997466, 12.073253999998997], [12.074096000000281, 12.074221999999281], [12.092209999998886, 12.092409999997471], [12.724605999999767, 12.724805999998352], [12.724861999999121, 12.724892999998701], [12.724974999997357, 12.72509799999898], [12.725153999999748, 12.725267999998323], [12.725318999997398, 12.725428999998257], [12.725480999997671, 12.725561999999627], [12.725701999999728, 12.725782999998046], [12.725834000000759, 12.725940000000264], [12.774860999998054, 12.77507599999808], [12.775513000000501, 12.775649999999587], [12.775832999999693, 12.775917999999365], [12.927293000000645, 12.927480999998807], [12.927844999998342, 12.927982999997766], [12.928198999998131, 12.928282999997464], [12.928447999998752, 12.928531999998086], [12.928697999999713, 12.928780999998708], [12.928905000000668, 12.928985999998986], [12.929111999997986, 12.929192999999941], [12.92935899999793, 12.929442000000563], [12.929493999999977, 12.929574999998295], [12.929701999997633, 12.929782999999588], [12.929909999998927, 12.929990999997244], [12.93011800000022, 12.930198999998538], [12.930323999997199, 12.930403999998816], [12.930544999999256, 12.930653999999777], [12.930825999999797, 12.93090999999913], [12.931124999999156, 12.931226000000606], [12.931399999997666, 12.931483000000298], [12.931583999998111, 12.931663999999728], [12.931765999997879, 12.931876999999076], [12.932100999998511, 12.932183999997505], [12.932314999998198, 12.932394999999815], [12.932525000000169, 12.932605999998486], [12.932709000000614, 12.932849999997416], [12.933077999998204, 12.933160999997199], [12.933295999999245, 12.933376999997563], [12.933507999998255, 12.933587999999872], [12.933692999999039, 12.933799999998882], [12.933956000000762, 12.934064999997645], [12.934246999997413, 12.934331000000384], [12.934515999997529, 12.934599000000162], [12.934656999997969, 12.934762999997474], [12.934923000000708, 12.935052000000724], [12.935239999998885, 12.935322999997879], [12.935432999998739, 12.935539999998582], [12.977403000000777, 12.977582999999868], [12.978640999997879, 12.978791999998066], [12.991149999998015, 12.991350000000239], [13.628743999997823, 13.628924000000552], [13.62898800000039, 13.62902000000031], [13.629100999998627, 13.629225000000588], [13.629400999998325, 13.629484999997658], [13.629606999998941, 13.629688999997597], [13.629810999998881, 13.629891000000498], [13.630053000000771, 13.630137000000104], [13.630302999998094, 13.630386000000726], [13.630479999999807, 13.630560999998124], [13.630656999997882, 13.630737999999837], [13.6308769999996, 13.631012999998347], [13.631199999999808, 13.631285999999818], [13.631384000000253, 13.631465999998909], [13.631650999999692, 13.631733999998687], [13.631874999999127, 13.631957999998122], [13.632100999999238, 13.632181999997556], [13.632352000000537, 13.632434999999532], [13.632579999997688, 13.632663000000321], [13.632807999998477, 13.632889000000432], [13.632943000000523, 13.63304799999969], [13.633194999998523, 13.633303999999043], [13.633524999997462, 13.633609000000433], [13.63373700000011, 13.633816999998089], [13.633918999999878, 13.634023999999044], [13.634174999999232, 13.634283999999752], [13.634460999997827, 13.63454400000046], [13.634726000000228, 13.634808999999223], [13.678801999998541, 13.679016999998566], [13.680055999997421, 13.680207999997947]], \"3\": [[2.0367650000007416, 2.0369729999983974], [10.279772999998386, 10.27998899999875], [10.28139899999951, 10.281521000000794]], \"4\": [[0.0018559999989520293, 0.0020409999997355044]], \"5\": [[0.20483400000011898, 0.2049299999998766], [0.36073199999736971, 0.36087399999814807], [1.0591839999979129, 1.0593019999978424], [2.456876000000193, 2.4570789999997942], [2.4585609999994631, 2.4586920000001555], [9.3622949999989942, 9.3625099999990198], [9.3625250000004598, 9.3626239999975951], [11.184131999998499, 11.184332000000722], [11.185830999998871, 11.185959999998886]]}, \"sudo-5007\": {\"2\": [[11.171031999998377, 11.174909999997908], [11.177231999998185, 11.180153999997856], [11.181147999999666, 11.181164999998146], [11.184557999997196, 11.18552500000078]]}, \"kworker/u12:2-5001\": {\"2\": [[9.9297769999975571, 9.9298109999981534]], \"3\": [[9.9298979999985022, 9.9317759999976261]]}, \"systemd-1\": {\"2\": [[0.00092600000061793253, 0.0010860000002139714]]}, \"sudo-4958\": {\"1\": [[0.00037800000063725747, 0.0014379999993252568], [0.0016699999978300184, 0.0016799999975773972]]}, \"sudo-5016\": {\"2\": [[12.985821999998734, 12.988686000000598], [12.989347999999154, 12.989365999997972], [12.990115999997215, 12.990765999998985]]}, \"kworker/2:0-3885\": {\"2\": [[0.41097900000022491, 0.41105699999752687], [0.45504799999980605, 0.4550939999971888], [0.45568799999819021, 0.45570199999929173], [0.83104900000034831, 0.83107000000018161], [0.83178899999984424, 0.83180399999764632], [1.0589639999998326, 1.0589749999999185], [1.831053999998403, 1.8310829999973066], [1.8318020000006072, 1.8318169999984093], [2.446974999998929, 2.4470099999998638], [2.5031159999998636, 2.5031649999982619], [2.5040459999981977, 2.5040759999974398], [2.8310979999987467, 2.8311250000006112], [2.8318429999999353, 2.8318589999980759], [3.3469769999974233, 3.3470009999982722], [3.8310509999973874, 3.8310700000001816], [3.8317889999998442, 3.8318049999979849], [4.1830909999989672, 4.1831189999975322], [4.5509609999971872, 4.550995999998122], [4.5515169999998761, 4.5515300000006391], [4.8309589999989839, 4.8309769999978016], [4.8317309999983991, 4.8317459999998391], [5.1669589999983145, 5.1669699999984005], [5.1749589999999444, 5.1749820000004547], [5.8309589999989839, 5.8309730000000854], [5.8317279999973834, 5.8317389999974694], [6.1669569999976375, 6.1669669999973848], [6.5989579999986745, 6.5989759999974922], [6.5999269999992975, 6.5999359999987064], [6.6629629999988538, 6.6629859999993641], [6.6633829999991576, 6.6633949999995821], [6.6636959999996179, 6.6637039999986882], [6.8309589999989839, 6.8309699999990698], [6.8317270000006829, 6.8317389999974694], [7.1669559999972989, 7.1669660000006843], [7.1749589999999444, 7.1750140000003739], [7.8309589999989839, 7.8309699999990698], [7.831728999997722, 7.8317399999978079], [8.1669569999976375, 8.1669679999977234], [8.1709609999998065, 8.1709719999998924], [8.6469569999972009, 8.646973999999318], [8.6479340000005323, 8.6479429999999411], [8.8309589999989839, 8.8309699999990698], [8.8317279999973834, 8.8317389999974694], [9.1669559999972989, 9.1669660000006843], [9.1749589999999444, 9.1750599999977567], [9.8310899999996764, 9.8311159999975644], [9.8318330000001879, 9.8318489999983285], [10.183093999999983, 10.183117999997194], [10.6950539999998, 10.695095999999467], [10.695709999999963, 10.695723999997426], [10.831049000000348, 10.831068999999843], [10.831787999999506, 10.831802999997308], [11.170975999997609, 11.171031999998377], [11.831051999997726, 11.831072999997559], [11.831791999997222, 11.831806999998662], [12.743118999998842, 12.743178999997326], [12.743867999997747, 12.74388099999851], [12.831115999997564, 12.831143999999767], [12.831892999998672, 12.831910000000789], [13.68299499999921, 13.683075999997527]]}, \"bash-4970\": {\"1\": [[2.0124560000003839, 2.014259999999922]], \"2\": [[2.0120150000002468, 2.0123359999997774]]}, \"kworker/1:0-560\": {\"1\": [[0.21911399999953574, 0.21934999999939464], [0.41099499999836553, 0.41101100000014412], [1.2190510000000359, 1.2192140000006475], [2.2191179999972519, 2.2193269999988843], [3.2190950000003795, 3.2192599999980303], [4.1833259999984875, 4.183350999999675], [4.2190579999987676, 4.2193069999993895], [5.2189560000006168, 5.2191129999991972], [6.1829649999999674, 6.1829999999972642], [6.2189560000006168, 6.2191109999985201], [7.2189579999976559, 7.2191139999995357], [8.1829599999982747, 8.1830039999986184], [8.2189589999979944, 8.2191149999998743], [9.2189569999973173, 9.2191129999991972], [10.21897700000045, 10.219185999998444], [11.219051000000036, 11.219223000000056], [12.219121999998606, 12.2193299999999], [13.219117999997252, 13.219286999999895]]}, \"kworker/4:1-40\": {\"4\": [[1.1472489999978279, 1.147304999998596], [3.3590059999987716, 3.359096000000136], [9.7230239999989863, 9.723121999999421], [12.991077999999106, 12.991170999997848]]}, \"shutils-4968\": {\"5\": [[1.1251799999990908, 1.125927999997657]]}, \"sudo-4967\": {\"1\": [[1.1190629999982775, 1.1193899999998393], [1.1195899999984249, 1.1206939999974566]], \"3\": [[1.1194069999983185, 1.1194219999997586]]}, \"usb-storage-103\": {\"0\": [[0.0022570000000996515, 0.002294999998412095], [0.0025439999990339857, 0.0025920000007317867], [0.004010000000562286, 0.004032999997434672], [0.0049949999993259553, 0.0050169999994977843], [0.0052049999976588879, 0.0052250000007916242], [0.0053019999977550469, 0.0053299999999580905], [0.0061779999996360857, 0.0061969999987923075], [0.0070539999978791457, 0.0070720000003348105], [0.45516999999745167, 0.45520699999906356], [0.45541899999807356, 0.45544199999858392], [0.45564100000046892, 0.45566200000030221], [2.5032900000005611, 2.5033459999976913], [2.503751000000193, 2.5037979999979143], [2.5038669999994454, 2.5038899999999558], [5.1599089999981516, 5.159959999997227], [5.1604049999987183, 5.1604449999977078], [5.1614009999975679, 5.161431000000448], [5.1618109999981243, 5.1618610000004992], [5.162279000000126, 5.162319999999454], [5.1632989999998244, 5.163327999998728], [5.1634039999989909, 5.163433999998233], [5.1637989999981073, 5.1638480000001437], [5.1642119999996794, 5.1642499999979918], [5.1651679999995395, 5.165194999997766], [5.1652729999987059, 5.1653019999976095], [5.1672819999985222, 5.1673100000007253], [5.1676879999977245, 5.1677319999980682], [5.1682770000006713, 5.1683169999996608], [5.1692760000005364, 5.1693039999991015], [5.1696799999990617, 5.1697309999981371], [5.1704030000000785, 5.1704419999987294], [5.1714059999976598, 5.1714339999998629], [5.1718919999984792, 5.171952999997302], [5.2101589999983844, 5.2101989999973739], [5.211154999997234, 5.211182999999437], [6.1835859999991953, 6.1836650000004738], [6.1844569999993837, 6.1844959999980347], [6.1854459999995015, 6.1854749999984051], [6.1858680000004824, 6.185910000000149], [6.1859469999981229, 6.1859799999983807], [6.186504999997851, 6.1865279999983613], [6.187434999999823, 6.1874559999996563], [6.5991049999975075, 6.5991489999978512], [6.5994959999989078, 6.5995320000001811], [6.5998749999998836, 6.5999039999987872], [8.6471050000000105, 8.6471490000003541], [8.6474999999991269, 8.6475360000004002], [8.6478819999974803, 8.6479110000000219], [10.695171999999729, 10.695209999998042], [10.695424999998068, 10.695447999998578], [10.695662999998603, 10.695684999998775], [12.743302999999287, 12.743350999997347], [12.743716999997559, 12.743755999999848], [12.74381799999901, 12.74384099999952]], \"1\": [[4.5509930000007444, 4.5510130000002391], [4.5511809999989055, 4.5511919999989914], [4.5514909999983502, 4.5515019999984361]], \"3\": [[5.1615769999989425, 5.1616049999975075], [5.1674559999992198, 5.1674829999974463], [5.1694489999972575, 5.1694749999987835], [5.1715819999990345, 5.1716080000005604]], \"4\": [[6.1833339999975578, 6.1833679999981541]], \"5\": [[5.1596089999984542, 5.1596399999980349], [5.1658189999980095, 5.1658680000000459], [5.1664249999994354, 5.166468999999779]]}, \"jbd2/sda1-8-109\": {\"3\": [[0.0020809999987250194, 0.0022489999973913655], [0.0051299999977345578, 0.0052140000007057097], [0.00720299999738927, 0.007228999998915242], [6.1830919999993057, 6.1832770000000892], [6.1855980000000272, 6.1857009999985166], [6.1875639999998384, 6.1876219999976456]]}, \"kworker/0:1H-111\": {\"0\": [[0.0050899999987450428, 0.0051050000001851004], [0.007118999998056097, 0.0071309999984805472], [5.2112489999999525, 5.2112659999984317], [6.1855570000006992, 6.1855729999988398], [6.1875189999991562, 6.1875359999976354]]}, \"sshd-243\": {\"0\": [[9.5861210000002757, 9.5870969999996305], [9.7547749999976077, 9.7556210000002466], [9.9225809999988996, 9.9234670000005281]], \"3\": [[9.8870329999990645, 9.8870929999975488], [9.9033259999996517, 9.9034969999993336], [10.054696999999578, 10.054754999997385], [10.06380100000024, 10.063963999997213]], \"5\": [[9.7192209999993793, 9.7192829999985406], [9.7347249999984342, 9.7348930000007385]]}, \"sh-4968\": {\"0\": [[1.1209129999988363, 1.1234059999987949]], \"3\": [[1.1206559999991441, 1.1208139999980631]]}, \"shutils-4969\": {\"4\": [[1.1234479999984615, 1.1239669999995385]], \"5\": [[1.1240569999972649, 1.1251799999990908]]}, \"sudo-5019\": {\"2\": [[13.683075999997527, 13.685051000000385], [13.687573999999586, 13.69041599999764], [13.691211999997904, 13.691234999998414]]}, \"sh-4960\": {\"2\": [[8.2999998994637281e-05, 0.00030300000071292743]]}, \"sh-4967\": {\"1\": [[1.1260279999987688, 1.1262370000004012]]}, \"sudo-5018\": {\"1\": [[12.988682999999583, 12.988986000000295], [12.989009000000806, 12.990123999999923]]}, \"kworker/u12:2-4984\": {\"1\": [[2.4478839999974298, 2.4479140000003099]], \"3\": [[2.4480129999974451, 2.4498829999974987]]}, \"kworker/u12:2-4988\": {\"1\": [[3.3510499999974854, 3.3510779999996885]], \"3\": [[3.3511729999991076, 3.353015000000596]]}, \"scp-4999\": {\"2\": [[9.8938519999974233, 9.8939849999987928], [9.9019669999979669, 9.9021799999973155]]}, \"kworker/u12:1-2941\": {\"0\": [[0.40656899999885354, 0.40661600000021281], [0.40665900000021793, 0.40667299999768147], [0.41269699999975273, 0.41280399999959627], [1.0577720000001136, 1.0578129999994417], [1.0580279999994673, 1.0580539999973553], [1.0580699999991339, 1.0580859999972745], [1.058099999998376, 1.058112999999139], [1.058128000000579, 1.0581419999980426], [1.0581559999991441, 1.0581689999999071], [1.0581849999980477, 1.0582049999975425], [1.058218999998644, 1.058231999999407], [1.0582469999972091, 1.058259999997972], [1.0582739999990736, 1.0582869999998366], [1.0583019999976386, 1.0583159999987402], [1.0583289999995031, 1.0583389999992505], [5.1593309999989287, 5.1593529999991006], [9.5950849999971979, 9.5951209999984712], [10.215922999999748, 10.215940999998566], [10.216011000000435, 10.216044000000693], [10.216130999997404, 10.216145999998844], [10.216722999997728, 10.216737999999168], [10.265524999998888, 10.265563999997539], [10.266508999997313, 10.266532999998162], [10.271421999997983, 10.2715019999996], [10.916968999998062, 10.917010999997729], [10.917197999999189, 10.917218999999022], [10.967040999999881, 10.967078999998193], [10.967265999999654, 10.967287999999826], [10.967346999997972, 10.967368999998143], [10.967463999997562, 10.967484000000695], [11.119109999999637, 11.119149999998626], [11.11933499999941, 11.119362999997975], [11.119423000000097, 11.119447999997647], [11.120118999999249, 11.120128999998997], [11.169230999999854, 11.169269999998505], [11.170092000000295, 11.170114000000467], [11.174982000000455, 11.175063999999111], [11.820564999998169, 11.820605999997497], [11.820682999998098, 11.820701999997254], [11.82083799999964, 11.820855999998457], [11.821007999998983, 11.821025999997801], [11.821167999998579, 11.821186999997735], [11.821216000000277, 11.821228999997402], [11.821257999999943, 11.821270000000368], [11.821298999999271, 11.821312000000034], [11.870654999998806, 11.870673999997962], [11.870702000000165, 11.87071499999729], [11.871047000000544, 11.871061999998346], [11.871315000000322, 11.871333999999479], [12.023157999999967, 12.023181999997178], [12.023237999997946, 12.023256000000401], [12.023371999999654, 12.02339099999881], [12.02353199999925, 12.023549999998068], [12.023579000000609, 12.023591999997734], [12.023732999998174, 12.02375100000063], [12.02378200000021, 12.023794000000635], [12.023822999999538, 12.023836000000301], [12.023891000000731, 12.023904999998194], [12.024020999997447, 12.024038999999902], [12.024067999998806, 12.024080999999569], [12.024222000000009, 12.024238999998488], [12.024269999998069, 12.02428399999917], [12.024311999997735, 12.024324999998498], [12.024381999999605, 12.024395000000368], [12.024511999999959, 12.024529999998776], [12.024671999999555, 12.024688999998034], [12.024719999997615, 12.024732999998378], [12.02476299999762, 12.024775999998383], [12.024805999997625, 12.024818999998388], [12.024961999999505, 12.024978999997984], [12.025010999997903, 12.025023999998666], [12.02505299999757, 12.025065999998333], [12.025122999999439, 12.025137000000541], [12.02525500000047, 12.025272999999288], [12.025304999999207, 12.02531799999997], [12.025460000000749, 12.025476999999228], [12.025508999999147, 12.025520999999571], [12.025551999999152, 12.025563999999576], [12.025708999997732, 12.02572599999985], [12.025757999999769, 12.025771000000532], [12.025802000000112, 12.025814999997237], [12.025873999999021, 12.025886999999784], [12.026004999999714, 12.026022999998531], [12.026054999998451, 12.026067999999213], [12.026208999999653, 12.026225999998132], [12.026257999998052, 12.026270999998815], [12.026301999998395, 12.026315999999497], [12.026460999997653, 12.026479000000108], [12.026512000000366, 12.026524999997491], [12.02655699999741, 12.026597000000038], [12.026717000000644, 12.026733999999124], [12.026766999999381, 12.026780000000144], [12.026812000000064, 12.026851999999053], [12.02699500000017, 12.027012999998988], [12.027045999999245, 12.027085999998235], [12.027204999998503, 12.027222999997321], [12.027256999997917, 12.02726999999868], [12.027415000000474, 12.027432999999291], [12.027468000000226, 12.02748199999769], [12.027514999997948, 12.027527999998711], [12.027588999997533, 12.027601999998296], [12.027722999999241, 12.027740999998059], [12.027885999999853, 12.027903999998671], [12.027937999999267, 12.02795100000003], [12.027984000000288, 12.027996999997413], [12.028146000000561, 12.028163999999379], [12.028200000000652, 12.028211999997438], [12.028245999998035, 12.028257999998459], [12.028318999997282, 12.028331999998045], [12.02845299999899, 12.028470999997808], [12.028650000000198, 12.028668999999354], [12.028705000000627, 12.028717999997752], [12.028752999998687, 12.028764999999112], [12.028826999998273, 12.028840999999375], [12.02896200000032, 12.028979999999137], [12.029041999998299, 12.0290559999994], [12.029174999999668, 12.029192999998486], [12.029340999997657, 12.029359000000113], [12.029395999998087, 12.029407999998512], [12.029442999999446, 12.029456000000209], [12.029603999999381, 12.029621999998199], [12.02965899999981, 12.029672000000573], [12.02970699999787, 12.029718999998295], [12.029869999998482, 12.0298879999973], [12.029923999998573, 12.029936999999336], [12.029973000000609, 12.029984999997396], [12.030134000000544, 12.030151999999362], [12.030188999997335, 12.030201999998098], [12.03026399999726, 12.030277999998361], [12.030403999997361, 12.030421999999817], [12.030459999998129, 12.030472999998892], [12.030537999999069, 12.030550999999832], [12.030675999998493, 12.03069300000061], [12.030842000000121, 12.030859999998938], [12.030897999997251, 12.030909999997675], [12.073253999998997, 12.073273999998491], [12.073298999999679, 12.073312000000442], [12.078966999997647, 12.079051000000618], [12.724805999998352, 12.724861999999121], [12.724955999998201, 12.724974999997357], [12.725135000000591, 12.725153999999748], [12.725300999998581, 12.725318999997398], [12.725462999998854, 12.725480999997671], [12.725594999999885, 12.72561499999938], [12.725688999998965, 12.725701999999728], [12.725815999998304, 12.725834000000759], [12.77507599999808, 12.775114000000031], [12.775155999999697, 12.77516900000046], [12.7754989999994, 12.775513000000501], [12.775813000000198, 12.775832999999693], [12.927480999998807, 12.927519999997457], [12.927580999999918, 12.927594000000681], [12.927629999998317, 12.92764299999908], [12.927671999997983, 12.927683999998408], [12.927712000000611, 12.927723999997397], [12.9277519999996, 12.927764000000025], [12.92779199999859, 12.927803999999014], [12.927831999997579, 12.927844999998342], [12.928017999998701, 12.928035999997519], [12.928100999997696, 12.928114999998797], [12.92814499999804, 12.928157999998803], [12.928186999997706, 12.928198999998131], [12.928315999997722, 12.928361999998742], [12.928391999997984, 12.928405999999086], [12.92843499999799, 12.928447999998752], [12.928592000000208, 12.928610999999364], [12.928642999999283, 12.928656000000046], [12.92868499999895, 12.928697999999713], [12.928814999999304, 12.928859999999986], [12.928891999999905, 12.928905000000668], [12.929019999999582, 12.9290379999984], [12.929098000000522, 12.929111999997986], [12.929227000000537, 12.929244999999355], [12.929275999998936, 12.92928799999936], [12.929346000000805, 12.92935899999793], [12.929475999997521, 12.929493999999977], [12.929637999997794, 12.92965600000025], [12.929688000000169, 12.929701999997633], [12.929845999999088, 12.929864999998244], [12.929896999998164, 12.929909999998927], [12.930025999998179, 12.930044000000635], [12.930104999999458, 12.93011800000022], [12.930233999999473, 12.930251999998291], [12.93028399999821, 12.930323999997199], [12.93044000000009, 12.930456999998569], [12.930488999998488, 12.930501999999251], [12.930532999998832, 12.930544999999256], [12.930690999997751, 12.930709000000206], [12.930741000000125, 12.930753999997251], [12.930811999998696, 12.930825999999797], [12.930947000000742, 12.931002999997872], [12.931065000000672, 12.931077999997797], [12.931112999998732, 12.931124999999156], [12.931261999998242, 12.931306999998924], [12.93134099999952, 12.931354000000283], [12.931387000000541, 12.931399999997666], [12.931519999998272, 12.931538000000728], [12.931570999997348, 12.931583999998111], [12.93170199999804, 12.931720000000496], [12.931753000000754, 12.931765999997879], [12.931914999997389, 12.931932999999844], [12.931968000000779, 12.931980999997904], [12.932039999999688, 12.932053000000451], [12.932087999997748, 12.932100999998511], [12.932221999999456, 12.932239999998274], [12.932301999997435, 12.932314999998198], [12.932432999998127, 12.932451000000583], [12.932484999997541, 12.932525000000169], [12.932644000000437, 12.932661999999254], [12.932697000000189, 12.932709000000614], [12.932888999999705, 12.932906999998522], [12.932942999999796, 12.93295500000022], [12.933014999998704, 12.933028999999806], [12.933064999997441, 12.933077999998204], [12.933200999999826, 12.933218999998644], [12.933282999998482, 12.933295999999245], [12.933414999999513, 12.933432999998331], [12.933468999999604, 12.933507999998255], [12.933626999998523, 12.933644999997341], [12.933680999998614, 12.933692999999039], [12.93384099999821, 12.933859000000666], [12.933894999998302, 12.933907999999064], [12.933942999999999, 12.933956000000762], [12.934105000000272, 12.93412299999909], [12.934159000000363, 12.934171999997488], [12.934206999998423, 12.934246999997413], [12.934371999999712, 12.93438999999853], [12.934425999999803, 12.934439000000566], [12.934503000000404, 12.934515999997529], [12.934638999999152, 12.934656999997969], [12.934803000000102, 12.934820999998919], [12.93485999999757, 12.934872999998333], [12.934909999999945, 12.934923000000708], [12.93509400000039, 12.935111999999208], [12.935148999997182, 12.935161999997945], [12.935226999998122, 12.935239999998885], [12.935364999997546, 12.935383000000002], [12.935420999998314, 12.935432999998739], [12.977582999999868, 12.977618999997503], [12.977661999997508, 12.97767599999861], [12.983618999998725, 12.983729999999923]], \"4\": [[10.278991999999562, 10.279019999998127], [10.279744999999821, 10.279782999998133], [10.281380000000354, 10.281404999997903], [11.177117999999609, 11.177163000000292], [11.178986999999324, 11.179012000000512], [11.184101999999257, 11.184142999998585], [11.185810999999376, 11.185839999998279], [11.191256999998586, 11.19129299999986], [12.086998999999196, 12.087030999999115], [12.092103999999381, 12.092140000000654]], \"5\": [[0.0017349999980069697, 0.001781999999366235], [0.15123099999982514, 0.15130199999839533], [0.15407099999720231, 0.15412300000025425], [0.15419399999882444, 0.15422499999840511], [0.15426899999874877, 0.15428299999985029], [0.15432199999850127, 0.15433399999892572], [0.15437199999723816, 0.15438399999766261], [0.15442199999961304, 0.15443600000071456], [0.154473999999027, 0.15451599999869359], [0.15455400000064401, 0.15456699999776902], [0.20419899999978952, 0.20423400000072434], [0.20427899999776855, 0.20430900000064867], [0.20463799999924959, 0.2046730000001844], [0.2047999999995227, 0.20481400000062422], [0.35652399999889894, 0.35656199999721139], [0.35662899999806541, 0.35666099999798462], [0.35669699999925797, 0.35671100000035949], [0.35673999999926309, 0.35675300000002608], [0.35678199999892968, 0.35679499999969266], [0.35682399999859626, 0.35683699999935925], [0.35686699999860139, 0.35688099999970291], [0.35691099999894504, 0.35692399999970803], [0.35695299999861163, 0.35696499999903608], [0.35699399999793968, 0.35700699999870267], [0.3570369999979448, 0.35704899999836925], [0.35707899999761139, 0.35709099999803584], [0.35712099999727798, 0.35713299999770243], [0.35716300000058254, 0.35717499999736901], [0.35720600000058766, 0.35721899999771267], [0.35724900000059279, 0.35726099999737926], [0.35729100000025937, 0.35730300000068382], [0.35733299999992596, 0.35734600000068895], [0.35737599999993108, 0.35738800000035553], [0.35741799999959767, 0.35743100000036065], [0.35746099999960279, 0.35747400000036578], [0.35750600000028498, 0.35751999999774853], [0.35755000000062864, 0.35756299999775365], [0.35759399999733432, 0.35760599999775877], [0.35763699999733944, 0.35764899999776389], [0.35767999999734457, 0.35769199999776902], [0.35772299999734969, 0.35773499999777414], [0.35776599999735481, 0.3577789999981178], [0.35780999999769847, 0.35782299999846146], [0.35785499999838066, 0.35786699999880511], [0.35789799999838579, 0.35791099999914877], [0.35794299999906798, 0.35795499999949243], [0.3579859999990731, 0.35799899999983609], [0.35802999999941676, 0.35804300000017975], [0.35807399999976042, 0.3580870000005234], [0.35811800000010408, 0.35813099999722908], [0.35816399999748683, 0.35817699999824981], [0.35820799999783048, 0.35822099999859347], [0.35825299999851268, 0.35826499999893713], [0.35829699999885634, 0.35830999999961932], [0.35834199999953853, 0.35835399999996298], [0.35838800000055926, 0.35839999999734573], [0.35843299999760347, 0.35844499999802792], [0.3584789999986242, 0.35849099999904865], [0.3585239999993064, 0.35853700000006938], [0.35857000000032713, 0.35858200000075158], [0.35861499999737134, 0.35862799999813433], [0.35866099999839207, 0.35867299999881652], [0.35870599999907427, 0.35871899999983725], [0.35875200000009499, 0.35876400000051945], [0.35879799999747775, 0.35881099999824073], [0.35884499999883701, 0.35885699999926146], [0.35889099999985774, 0.35890300000028219], [0.35893699999724049, 0.35894899999766494], [0.35900899999978719, 0.35902899999928195], [0.3590650000005553, 0.35907799999768031], [0.35911199999827659, 0.35912499999903957], [0.35915899999963585, 0.35917200000039884], [0.35920699999769568, 0.35921899999812013], [0.35925399999905494, 0.35926599999947939], [0.35930000000007567, 0.35931200000050012], [0.35934699999779696, 0.35935899999822141], [0.35939499999949476, 0.35940699999991921], [0.35944100000051549, 0.35945399999764049], [0.35948799999823677, 0.35950099999899976], [0.35953599999993457, 0.35954900000069756], [0.3595839999979944, 0.35959599999841885], [0.35963099999935366, 0.35964299999977811], [0.35967899999741348, 0.35969099999783793], [0.35972599999877275, 0.3597379999991972], [0.35977400000047055, 0.35978599999725702], [0.35982199999853037, 0.35983399999895482], [0.35987000000022817, 0.35988299999735318], [0.35991899999862653, 0.35993099999905098], [0.35996700000032433, 0.35997900000074878], [0.36001499999838416, 0.36002799999914714], [0.36006300000008196, 0.36007599999720696], [0.36011199999848031, 0.36012399999890476], [0.36016000000017812, 0.36017200000060257], [0.36020899999857647, 0.36022199999933946], [0.36025899999731337, 0.36027099999773782], [0.36030699999901117, 0.36031999999977415], [0.36035699999774806, 0.36036899999817251], [0.3604059999997844, 0.36041800000020885], [0.36045499999818276, 0.36046799999894574], [0.36050500000055763, 0.3605169999973441], [0.36055399999895599, 0.36056599999938044], [0.36060399999769288, 0.36061699999845587], [0.36065400000006775, 0.3606660000004922], [0.36070399999880465, 0.3607159999992291], [0.41489899999942281, 0.41494400000010501], [0.42037699999855249, 0.42041299999982584], [10.27357999999731, 10.27362599999833], [12.081070000000182, 12.081115999997564], [12.985710999997536, 12.985752999997203], [12.991006000000198, 12.991071000000375], [13.687020999997912, 13.687046999999438]]}, \"bash-3888\": {\"0\": [[0.40661600000021281, 0.40665900000021793], [0.40667299999768147, 0.40767699999923934], [1.7591580000007525, 1.7592069999991509], [1.7593339999984892, 1.7593720000004396], [1.7595129999972414, 1.7595479999981762], [1.7596779999985301, 1.7597109999987879], [1.7598120000002382, 1.7598440000001574], [1.7599889999983134, 1.7600229999989097], [1.7601489999979094, 1.7601829999985057], [1.7602819999992789, 1.7603049999997893], [1.8092109999997774, 1.8092389999983425], [1.8093410000001313, 1.8096630000000005], [1.809769999999844, 1.8099059999985911], [1.8100099999974191, 1.8100319999975909], [1.9612849999975879, 1.9613160000008065], [1.9614169999986188, 1.9614509999992151], [1.9615779999985534, 1.9616109999988112], [1.9617369999978109, 1.9617699999980687], [1.9618689999988419, 1.9619029999994382], [1.962043999999878, 1.9620770000001357], [1.9621750000005704, 1.9622349999990547], [1.9623339999998279, 1.9623670000000857], [1.9624929999990854, 1.9625259999993432], [1.9626270000007935, 1.9626599999974133], [1.9628029999985301, 1.9628359999987879], [1.9629829999976209, 1.9630169999982172], [1.9631159999989904, 1.9631489999992482], [1.9632749999982479, 1.9633089999988442], [1.963408999999956, 1.9634699999987788], [1.963568999999552, 1.9636019999998098], [1.963726999998471, 1.9637619999994058], [1.9638599999998405, 1.9638940000004368], [1.9640220000001136, 1.9640560000007099], [1.9641819999997097, 1.9642160000003059], [1.9643479999976989, 1.9643829999986337], [1.964507999997295, 1.9645429999982298], [1.9646659999998519, 1.9647010000007867], [1.9647189999996044, 1.9647509999995236], [1.9647640000002866, 1.9647949999998673], [1.9648919999999634, 1.9649539999991248], [1.9649719999979425, 1.9650039999978617], [1.9650989999972808, 1.9651610000000801], [1.9651799999992363, 1.9652129999994941], [1.9653069999985746, 1.9653419999995094], [1.9653609999986656, 1.9654219999974885], [1.9655149999998685, 1.9655509999975038], [1.965567999999621, 1.9656009999998787], [1.9656130000003031, 1.9656719999984489], [1.9657679999982065, 1.9658029999991413], [1.965926999997464, 1.9659629999987374], [1.965980999997555, 1.9660149999981513], [1.9660269999985758, 1.966058999998495], [1.966071999999258, 1.9661029999988386], [1.9662250000001222, 1.9662609999977576], [1.9662790000002133, 1.9663129999971716], [1.9663259999979346, 1.9663839999993797], [1.9664809999994759, 1.9665199999981269], [1.9665380000005825, 1.9665709999972023], [1.9665839999979653, 1.9666440000000875], [1.9667399999998452, 1.9667759999974805], [1.9669009999997797, 1.9669389999980922], [1.966973999999027, 1.9670089999999618], [1.9670220000007248, 1.9670559999976831], [1.9670679999981076, 1.9671290000005683], [1.9672269999973651, 1.9672639999989769], [1.9673879999972996, 1.9674269999995886], [1.9674439999980677, 1.9674789999990026], [1.967490999999427, 1.9675239999996847], [1.9676459999973304, 1.9676859999999579], [1.967702999998437, 1.9677379999993718], [1.9677510000001348, 1.9677850000007311], [1.9677969999975176, 1.9678590000003169], [1.967956000000413, 1.9679939999987255], [1.9681199999977252, 1.9681590000000142], [1.9681769999988319, 1.9682130000001052], [1.9682269999975688, 1.9682429999993474], [2.0113799999999173, 2.0114059999978053], [2.0114189999985683, 2.0121340000005148], [2.0363959999995132, 2.0366899999971793], [2.1887059999971825, 2.188865000000078], [2.2386769999975513, 2.2392269999982091], [2.3913379999976314, 2.3914000000004307], [2.3915379999998549, 2.3915759999981674], [2.3917089999995369, 2.3917440000004717], [2.3918720000001485, 2.3919050000004063], [2.392002999997203, 2.3920359999974607], [2.3920539999999164, 2.3921129999980622], [2.3922070000007807, 2.3922390000006999], [2.3922569999995176, 2.3922869999987597], [2.3922999999995227, 2.3923579999973299], [2.3924540000007255, 2.3924869999973453], [2.392612999999983, 2.3926460000002407], [2.3926639999990584, 2.3926939999983006], [2.3927069999990636, 2.3927359999979672], [2.3927489999987301, 2.3927779999976337], [2.3929349999998522, 2.3929690000004484], [2.3929869999992661, 2.3930169999985083], [2.3930299999992712, 2.3930870000003779], [2.3930999999975029, 2.3931310000007215], [2.3932270000004792, 2.3932609999974375], [2.3932779999995546, 2.3933369999977003], [2.3934300000000803, 2.3934669999980542], [2.3934850000005099, 2.3935160000000906], [2.3935289999972156, 2.3935859999983222], [2.3936819999980798, 2.3937169999990147], [2.3938409999973373, 2.3938759999982722], [2.3938930000003893, 2.393926000000647], [2.393938999997772, 2.3939709999976913], [2.3939829999981157, 2.3940129999973578], [2.3941349999986414, 2.3941699999995762], [2.3941879999983939, 2.3942199999983131], [2.3942329999990761, 2.3942639999986568], [2.3943039999976463, 2.3943359999975655], [2.3944310000006226, 2.394466999998258], [2.3944859999974142, 2.3945459999995364], [2.3946389999982785, 2.3946739999992133], [2.394691999998031, 2.3947239999979502], [2.3948439999985567, 2.39487999999983], [2.3948969999983092, 2.3949299999985669], [2.3949429999993299, 2.3950339999973949], [2.3951339999985066, 2.39516999999978], [2.3952959999987797, 2.3953330000003916], [2.3953509999992093, 2.3953849999998056], [2.39539700000023, 2.3954290000001492], [2.3955519999981334, 2.3955889999997453], [2.395606999998563, 2.3956409999991592], [2.3956550000002608, 2.3956880000005185], [2.395699999997305, 2.3957329999975627], [2.3958559999991849, 2.3958939999974973], [2.395911999999953, 2.3959450000002107], [2.3960640000004787, 2.3961019999987911], [2.3961209999979474, 2.3961549999985436], [2.3961679999993066, 2.3962019999999029], [2.39632299999721, 2.3963609999991604], [2.3963789999979781, 2.3964139999989129], [2.3964259999993374, 2.3964589999995951], [2.3964989999985846, 2.3965339999995194], [2.3966299999992771, 2.3966679999975895], [2.3966860000000452, 2.396720999997342], [2.3968409999979485, 2.396878999999899], [2.3968979999990552, 2.39693299999999], [2.3970509999999194, 2.397090999998909], [2.3971089999977266, 2.3971439999986615], [2.3971569999994244, 2.3971910000000207], [2.3973129999976663, 2.3973530000002938], [2.3973709999991115, 2.3974060000000463], [2.3974189999971713, 2.3974339999986114], [2.4417969999994966, 2.4418399999995017], [2.4418530000002647, 2.4428179999995336], [3.0930669999979727, 3.0931280000004335], [3.0932680000005348, 3.0933059999988473], [3.093325999998342, 3.0933899999981804], [3.0934849999975995, 3.0935179999978573], [3.0935360000003129, 3.0935929999977816], [3.0936879999972007, 3.0937209999974584], [3.0937389999999141, 3.0937689999991562], [3.0937809999995807, 3.0938249999999243], [3.1429260000004433, 3.1429749999988417], [3.1429879999996047, 3.143301000000065], [3.1434119999976247, 3.1435590000000957], [3.1436639999992622, 3.1436869999997725], [3.2950869999986026, 3.2951189999985218], [3.2952199999999721, 3.2952540000005683], [3.2953809999999066, 3.2954140000001644], [3.2955399999991641, 3.2955729999994219], [3.2955919999985781, 3.2956209999974817], [3.2956339999982447, 3.2956620000004477], [3.2956759999979113, 3.2957040000001143], [3.2958259999977599, 3.2958589999980177], [3.2958770000004733, 3.2959059999993769], [3.2959190000001399, 3.2959479999990435], [3.295959999999468, 3.2960149999998976], [3.2961119999999937, 3.29614600000059], [3.2961639999994077, 3.2961949999989884], [3.2962069999994128, 3.2962640000005194], [3.2963600000002771, 3.2963939999972354], [3.2964109999993525, 3.2964409999985946], [3.2965619999995397, 3.296596000000136], [3.2966129999986151, 3.2966449999985343], [3.2966569999989588, 3.2966879999985395], [3.296809999999823, 3.2968440000004193], [3.296861999999237, 3.2968929999988177], [3.2969059999995807, 3.2969359999988228], [3.2969479999992473, 3.2970060000006924], [3.2971020000004501, 3.2971359999974084], [3.297153999999864, 3.2971849999994447], [3.2973060000003898, 3.2973409999976866], [3.2973590000001423, 3.2973899999997229], [3.2974020000001474, 3.2974329999997281], [3.2974450000001525, 3.2975039999982982], [3.2975999999980559, 3.2976349999989907], [3.2977599999976519, 3.2977959999989253], [3.2978149999980815, 3.2978469999980007], [3.2978599999987637, 3.2978899999980058], [3.2979029999987688, 3.2979339999983495], [3.2980549999992945, 3.2980900000002293], [3.298107999999047, 3.2981409999993048], [3.2981540000000678, 3.2981849999996484], [3.298306999997294, 3.2983429999985674], [3.2983609999973851, 3.2983939999976428], [3.2984059999980673, 3.2984379999979865], [3.2984770000002754, 3.2985119999975723], [3.2986239999991085, 3.2986600000003818], [3.2986779999991995, 3.2987389999980223], [3.2988330000007409, 3.2988699999987148], [3.2988879999975325, 3.2989219999981287], [3.2990829999980633, 3.2991210000000137], [3.2991389999988314, 3.2991729999994277], [3.2992129999984172, 3.299247999999352], [3.2993439999991097, 3.2993810000007215], [3.2993999999998778, 3.2994609999987006], [3.2995549999977811, 3.299591999999393], [3.2996099999982107, 3.299643999998807], [3.299762999999075, 3.2998009999973874], [3.2998189999998431, 3.2998530000004394], [3.2998659999975644, 3.2998999999981606], [3.3000219999994442, 3.3000599999977567], [3.3000769999998738, 3.3001119999971706], [3.3001249999979336, 3.3001850000000559], [3.3002809999998135, 3.3003199999984645], [3.3003379999972822, 3.3003739999985555], [3.3003869999993185, 3.3004489999984798], [3.3005789999988338, 3.3006189999978233], [3.3006370000002789, 3.3006989999994403], [3.3007929999985208, 3.3008319999971718], [3.3008489999992889, 3.3008850000005623], [3.3010049999975308, 3.3010269999977027], [3.3451800000002549, 3.3452049999978044], [3.3452189999989059, 3.3459589999984019], [3.9965779999984079, 3.9966399999975692], [3.9967539999997825, 3.9967959999994491], [3.9968139999982668, 3.9968439999975089], [3.9968889999981911, 3.9969189999974333], [3.9970199999988836, 3.9970529999991413], [3.9971000000005006, 3.9971310000000813], [3.9972269999998389, 3.9972600000000966], [3.9972779999989143, 3.9972949999973935], [4.0466039999992063, 4.0466319999977713], [4.0466449999985343, 4.0469709999997576], [4.0470849999983329, 4.0471020000004501], [4.0472300000001269, 4.0473579999998037], [4.0474919999978738, 4.0475139999980456], [4.2013169999991078, 4.2013479999986885], [4.2013609999994515, 4.2013909999986936], [4.201402999999118, 4.2014319999980216], [4.2014449999987846, 4.2014729999973497], [4.2015799999971932, 4.201612999997451], [4.2016309999999066, 4.2016899999980524], [4.20178599999781, 4.2018189999980677], [4.2018370000005234, 4.2018939999979921], [4.2019880000007106, 4.2020219999976689], [4.2020400000001246, 4.2020699999993667], [4.2021889999996347, 4.2022219999998924], [4.2022399999987101, 4.2022709999982908], [4.2022829999987152, 4.2023129999979574], [4.2023249999983818, 4.2023819999994885], [4.2024779999992461, 4.2025119999998424], [4.2025289999983215, 4.2025589999975637], [4.2026789999981702, 4.2027129999987665], [4.2027309999975841, 4.2027629999975034], [4.2027759999982663, 4.2028050000008079], [4.2028179999979329, 4.2028759999993781], [4.2030629999972007, 4.203098999998474], [4.2031349999997474, 4.2031669999996666], [4.2032770000005257, 4.2033119999978226], [4.2033300000002782, 4.2033899999987625], [4.2034849999981816, 4.2035189999987779], [4.2035369999975956, 4.2035679999971762], [4.2036079999998037, 4.2036410000000615], [4.2037359999994806, 4.2037710000004154], [4.2037889999992331, 4.2038209999991523], [4.2038609999981418, 4.2038949999987381], [4.2039899999981571, 4.204024999999092], [4.2040429999979096, 4.2041019999996934], [4.2041949999984354, 4.2042309999997087], [4.2042479999981879, 4.2042809999984456], [4.2043999999987136, 4.204435999999987], [4.2044539999988046, 4.2044879999994009], [4.2045010000001639, 4.2045330000000831], [4.2046539999973902, 4.2046899999986636], [4.2047079999974812, 4.204740999997739], [4.204753999998502, 4.2047859999984212], [4.2047989999991842, 4.2048589999976684], [4.2049569999981031, 4.2049929999993765], [4.2051199999987148, 4.2051559999999881], [4.2051739999988058, 4.2052079999994021], [4.2052199999998265, 4.2052530000000843], [4.2052650000005087, 4.2053239999986545], [4.2054199999984121, 4.2054580000003625], [4.2054759999991802, 4.2055089999994379], [4.2056290000000445, 4.2056669999983569], [4.2056849999971746, 4.2057189999977709], [4.2057319999985339, 4.2057649999987916], [4.2058849999993981, 4.2059229999977106], [4.2059410000001662, 4.2059750000007625], [4.2059879999978875, 4.2060209999981453], [4.2060610000007728, 4.2060969999984081], [4.2061929999981658, 4.2062310000001162], [4.2062489999989339, 4.2063099999977567], [4.2064040000004752, 4.2064419999987877], [4.2064599999976053, 4.2064939999982016], [4.2066469999990659, 4.2066859999977169], [4.2067040000001725, 4.2067409999981464], [4.2067529999985709, 4.2068159999980708], [4.2069119999978284, 4.2069679999985965], [4.2069859999974142, 4.2070509999975911], [4.2071460000006482, 4.2071849999992992], [4.2073079999972833, 4.2073469999995723], [4.2073659999987285, 4.2074020000000019], [4.2074150000007648, 4.2074499999980617], [4.2075709999990067, 4.2076109999979963], [4.2076280000001134, 4.2076649999980873], [4.2076769999985117, 4.2077119999994466], [4.2078340000007302, 4.2078739999997197], [4.2078919999985374, 4.2079300000004878], [4.2079419999972743, 4.2079779999985476], [4.2080999999998312, 4.2081399999988207], [4.2081579999976384, 4.2081949999992503], [4.2082080000000133, 4.2082709999995132], [4.2083679999996093, 4.2084089999989374], [4.2085359999982757, 4.2085769999976037], [4.2085950000000594, 4.2086329999983718], [4.2086459999991348, 4.2086830000007467], [4.2088049999983923, 4.2088459999977204], [4.208864000000176, 4.2089019999984885], [4.2089149999992514, 4.2089510000005248], [4.2090729999981704, 4.209114999997837], [4.2091330000002927, 4.2091719999989436], [4.2091849999997066, 4.209248999999545], [4.2093449999993027, 4.2093869999989693], [4.209512999997969, 4.2095549999976356], [4.2095719999997527, 4.2096109999984037], [4.2096239999991667, 4.2096619999974791], [4.2097839999987627, 4.2098269999987679], [4.209843999997247, 4.209882999999536], [4.209896000000299, 4.2099339999986114], [4.210055999999895, 4.2100979999995616], [4.2101159999983793, 4.2101320000001579], [4.2515959999982442, 4.2524180000000342], [10.265563999997539, 10.266508999997313], [11.169269999998505, 11.170092000000295], [11.820635000000038, 11.820682999998098], [11.820800999998028, 11.82083799999964], [11.820973999998387, 11.821007999998983], [11.821134999998321, 11.821167999998579], [11.821186999997735, 11.821216000000277], [11.821228999997402, 11.821257999999943], [11.821270000000368, 11.821298999999271], [11.821423999997933, 11.821446999998443], [11.870673999997962, 11.870702000000165], [11.87071499999729, 11.871047000000544], [11.87116099999912, 11.871315000000322], [11.871419999999489, 11.871442999999999], [12.023206999998365, 12.023237999997946], [12.023338999999396, 12.023371999999654], [12.023498999998992, 12.02353199999925], [12.023549999998068, 12.023579000000609], [12.023699999997916, 12.023732999998174], [12.02375100000063, 12.02378200000021], [12.023794000000635, 12.023822999999538], [12.023836000000301, 12.023891000000731], [12.023987999997189, 12.024020999997447], [12.024038999999902, 12.024067999998806], [12.024187999999413, 12.024222000000009], [12.024238999998488, 12.024269999998069], [12.02428399999917, 12.024311999997735], [12.024324999998498, 12.024381999999605], [12.024477999999363, 12.024511999999959], [12.024637999998959, 12.024671999999555], [12.024688999998034, 12.024719999997615], [12.024732999998378, 12.02476299999762], [12.024775999998383, 12.024805999997625], [12.024927999998908, 12.024961999999505], [12.024978999997984, 12.025010999997903], [12.025023999998666, 12.02505299999757], [12.025065999998333, 12.025122999999439], [12.025220999999874, 12.02525500000047], [12.025272999999288, 12.025304999999207], [12.025424999999814, 12.025460000000749], [12.025476999999228, 12.025508999999147], [12.025520999999571, 12.025551999999152], [12.025674000000436, 12.025708999997732], [12.02572599999985, 12.025757999999769], [12.025771000000532, 12.025802000000112], [12.025814999997237, 12.025873999999021], [12.025969999998779, 12.026004999999714], [12.026022999998531, 12.026054999998451], [12.02617299999838, 12.026208999999653], [12.026225999998132, 12.026257999998052], [12.026270999998815, 12.026301999998395], [12.026425000000017, 12.026460999997653], [12.026479000000108, 12.026512000000366], [12.026524999997491, 12.02655699999741], [12.026678999998694, 12.026717000000644], [12.026733999999124, 12.026766999999381], [12.026780000000144, 12.026812000000064], [12.026934999998048, 12.02699500000017], [12.027012999998988, 12.027045999999245], [12.027168000000529, 12.027204999998503], [12.027222999997321, 12.027256999997917], [12.027377999998862, 12.027415000000474], [12.027432999999291, 12.027468000000226], [12.02748199999769, 12.027514999997948], [12.027527999998711, 12.027588999997533], [12.027684999997291, 12.027722999999241], [12.027847999997903, 12.027885999999853], [12.027903999998671, 12.027937999999267], [12.02795100000003, 12.027984000000288], [12.02810799999861, 12.028146000000561], [12.028163999999379, 12.028200000000652], [12.028211999997438, 12.028245999998035], [12.028257999998459, 12.028318999997282], [12.028415000000678, 12.02845299999899], [12.028610999997909, 12.028650000000198], [12.028668999999354, 12.028705000000627], [12.028717999997752, 12.028752999998687], [12.028764999999112, 12.028826999998273], [12.028922999998031, 12.02896200000032], [12.028979999999137, 12.029041999998299], [12.029135999997379, 12.029174999999668], [12.029300999998668, 12.029340999997657], [12.029359000000113, 12.029395999998087], [12.029407999998512, 12.029442999999446], [12.02956500000073, 12.029603999999381], [12.029621999998199, 12.02965899999981], [12.029672000000573, 12.02970699999787], [12.029828999999154, 12.029869999998482], [12.0298879999973, 12.029923999998573], [12.029936999999336, 12.029973000000609], [12.030093999997916, 12.030134000000544], [12.030151999999362, 12.030188999997335], [12.030201999998098, 12.03026399999726], [12.030361999997695, 12.030403999997361], [12.030421999999817, 12.030459999998129], [12.030472999998892, 12.030537999999069], [12.030633999998827, 12.030675999998493], [12.030800000000454, 12.030842000000121], [12.030859999998938, 12.030897999997251], [12.030909999997675, 12.030925999999454], [12.073273999998491, 12.073298999999679], [12.073312000000442, 12.074096000000281], [12.724892999998701, 12.724955999998201], [12.72509799999898, 12.725135000000591], [12.725267999998323, 12.725300999998581], [12.725428999998257, 12.725462999998854], [12.725561999999627, 12.725594999999885], [12.72561499999938, 12.725688999998965], [12.725782999998046, 12.725815999998304], [12.725940000000264, 12.725969999999506], [12.775114000000031, 12.775155999999697], [12.77516900000046, 12.7754989999994], [12.775649999999587, 12.775813000000198], [12.775917999999365, 12.775950999999623], [12.927519999997457, 12.927580999999918], [12.927594000000681, 12.927629999998317], [12.92764299999908, 12.927671999997983], [12.927683999998408, 12.927712000000611], [12.927723999997397, 12.9277519999996], [12.927764000000025, 12.92779199999859], [12.927803999999014, 12.927831999997579], [12.927982999997766, 12.928017999998701], [12.928035999997519, 12.928100999997696], [12.928114999998797, 12.92814499999804], [12.928157999998803, 12.928186999997706], [12.928282999997464, 12.928315999997722], [12.928361999998742, 12.928391999997984], [12.928405999999086, 12.92843499999799], [12.928531999998086, 12.928592000000208], [12.928610999999364, 12.928642999999283], [12.928656000000046, 12.92868499999895], [12.928780999998708, 12.928814999999304], [12.928859999999986, 12.928891999999905], [12.928985999998986, 12.929019999999582], [12.9290379999984, 12.929098000000522], [12.929192999999941, 12.929227000000537], [12.929244999999355, 12.929275999998936], [12.92928799999936, 12.929346000000805], [12.929442000000563, 12.929475999997521], [12.929574999998295, 12.929637999997794], [12.92965600000025, 12.929688000000169], [12.929782999999588, 12.929845999999088], [12.929864999998244, 12.929896999998164], [12.929990999997244, 12.930025999998179], [12.930044000000635, 12.930104999999458], [12.930198999998538, 12.930233999999473], [12.930251999998291, 12.93028399999821], [12.930403999998816, 12.93044000000009], [12.930456999998569, 12.930488999998488], [12.930501999999251, 12.930532999998832], [12.930653999999777, 12.930690999997751], [12.930709000000206, 12.930741000000125], [12.930753999997251, 12.930811999998696], [12.93090999999913, 12.930947000000742], [12.931002999997872, 12.931065000000672], [12.931077999997797, 12.931112999998732], [12.931226000000606, 12.931261999998242], [12.931306999998924, 12.93134099999952], [12.931354000000283, 12.931387000000541], [12.931483000000298, 12.931519999998272], [12.931538000000728, 12.931570999997348], [12.931663999999728, 12.93170199999804], [12.931720000000496, 12.931753000000754], [12.931876999999076, 12.931914999997389], [12.931932999999844, 12.931968000000779], [12.931980999997904, 12.932039999999688], [12.932053000000451, 12.932087999997748], [12.932183999997505, 12.932221999999456], [12.932239999998274, 12.932301999997435], [12.932394999999815, 12.932432999998127], [12.932451000000583, 12.932484999997541], [12.932605999998486, 12.932644000000437], [12.932661999999254, 12.932697000000189], [12.932849999997416, 12.932888999999705], [12.932906999998522, 12.932942999999796], [12.93295500000022, 12.933014999998704], [12.933028999999806, 12.933064999997441], [12.933160999997199, 12.933200999999826], [12.933218999998644, 12.933282999998482], [12.933376999997563, 12.933414999999513], [12.933432999998331, 12.933468999999604], [12.933587999999872, 12.933626999998523], [12.933644999997341, 12.933680999998614], [12.933799999998882, 12.93384099999821], [12.933859000000666, 12.933894999998302], [12.933907999999064, 12.933942999999999], [12.934064999997645, 12.934105000000272], [12.93412299999909, 12.934159000000363], [12.934171999997488, 12.934206999998423], [12.934331000000384, 12.934371999999712], [12.93438999999853, 12.934425999999803], [12.934439000000566, 12.934503000000404], [12.934599000000162, 12.934638999999152], [12.934762999997474, 12.934803000000102], [12.934820999998919, 12.93485999999757], [12.934872999998333, 12.934909999999945], [12.935052000000724, 12.93509400000039], [12.935111999999208, 12.935148999997182], [12.935161999997945, 12.935226999998122], [12.935322999997879, 12.935364999997546], [12.935383000000002, 12.935420999998314], [12.935539999998582, 12.935571999998501], [12.977618999997503, 12.977661999997508], [12.97767599999861, 12.978640999997879], [13.62902000000031, 13.62908299999981], [13.629225000000588, 13.6292629999989], [13.629280999997718, 13.629345999997895], [13.629358999998658, 13.629387999997562], [13.629484999997658, 13.629517999997915], [13.629562999998598, 13.629593999998178], [13.629688999997597, 13.629721999997855], [13.629738999999972, 13.629796999997779], [13.629891000000498, 13.629924000000756], [13.629941999999573, 13.629971999998816], [13.62998399999924, 13.63003899999967], [13.630137000000104, 13.630170000000362], [13.63018799999918, 13.63021899999876], [13.630231999999523, 13.63028900000063], [13.630386000000726, 13.630419999997684], [13.630436999999802, 13.630466999999044], [13.630560999998124, 13.630638999999064], [13.630737999999837, 13.630772000000434], [13.630789999999251, 13.630821999999171], [13.630834999999934, 13.630863999998837], [13.631012999998347, 13.631094000000303], [13.631111999999121, 13.631142999998701], [13.631155999999464, 13.631186999999045], [13.631285999999818, 13.631321000000753], [13.631338999999571, 13.63137099999949], [13.631465999998909, 13.631499999999505], [13.631560999998328, 13.631594999998924], [13.631606999999349, 13.631638999999268], [13.631733999998687, 13.631768999999622], [13.63178699999844, 13.63181799999802], [13.631830999998783, 13.631860999998025], [13.631957999998122, 13.631992999999056], [13.632053999997879, 13.632087999998475], [13.632181999997556, 13.632243000000017], [13.632261999999173, 13.632294999999431], [13.632308000000194, 13.632340000000113], [13.632434999999532, 13.632472999997844], [13.632489999999962, 13.632523000000219], [13.632535999997344, 13.632567000000563], [13.632663000000321, 13.632698999997956], [13.632716000000073, 13.632794999997714], [13.632889000000432, 13.632924999998068], [13.63304799999969, 13.633085999998002], [13.633104000000458, 13.633137999997416], [13.633150999998179, 13.633182999998098], [13.633303999999043, 13.633341000000655], [13.633358999999473, 13.633391999999731], [13.633405000000494, 13.633438000000751], [13.633477999999741, 13.633512000000337], [13.633609000000433, 13.633645999998407], [13.633663999997225, 13.633723999999347], [13.633816999998089, 13.63385500000004], [13.633871999998519, 13.633905999999115], [13.634023999999044, 13.634061999997357], [13.634079999999813, 13.634114000000409], [13.634127999997872, 13.634161999998469], [13.634283999999752, 13.634321999998065], [13.63434000000052, 13.634373999997479], [13.634386999998242, 13.634420999998838], [13.63454400000046, 13.634582999999111], [13.634600999997929, 13.634636999999202], [13.634649999999965, 13.634712999999465], [13.634808999999223, 13.634833000000071], [13.679054000000178, 13.679094999999506], [13.679109000000608, 13.680055999997421]], \"1\": [[0.0014379999993252568, 0.0016699999978300184], [1.1274599999997008, 1.1276919999982056], [2.4583239999992657, 2.4585449999976845], [3.3612990000001446, 3.3615219999992405], [9.3623139999981504, 9.3625119999996969], [9.5146380000005593, 9.5147399999987101], [9.5647069999977248, 9.5649909999992815], [10.215686999999889, 10.216534999999567], [11.185596999999689, 11.185816999997769], [12.990760000000591, 12.991041999997833]], \"2\": [[0.42015700000047218, 0.4203849999976228], [1.0578900000000431, 1.0589639999998326], [1.0589749999999185, 1.0591069999973115], [10.281154000000242, 10.28138399999807], [10.917084000000614, 10.917167999999947], [10.967154999998456, 10.967388999997638], [11.119224999998551, 11.120069999997213], [12.091884999998001, 12.092111999998451]], \"5\": [[0.15412300000025425, 0.15419399999882444], [0.15422499999840511, 0.15426899999874877], [0.15428299999985029, 0.15432199999850127], [0.15433399999892572, 0.15437199999723816], [0.15438399999766261, 0.15442199999961304], [0.15443600000071456, 0.154473999999027], [0.15451599999869359, 0.15455400000064401], [0.15456699999776902, 0.15458699999726377], [0.20423400000072434, 0.20427899999776855], [0.20430900000064867, 0.20463799999924959], [0.2046730000001844, 0.2047999999995227], [0.20481400000062422, 0.20483400000011898], [0.35656199999721139, 0.35662899999806541], [0.35666099999798462, 0.35669699999925797], [0.35671100000035949, 0.35673999999926309], [0.35675300000002608, 0.35678199999892968], [0.35679499999969266, 0.35682399999859626], [0.35683699999935925, 0.35686699999860139], [0.35688099999970291, 0.35691099999894504], [0.35692399999970803, 0.35695299999861163], [0.35696499999903608, 0.35699399999793968], [0.35700699999870267, 0.3570369999979448], [0.35704899999836925, 0.35707899999761139], [0.35709099999803584, 0.35712099999727798], [0.35713299999770243, 0.35716300000058254], [0.35717499999736901, 0.35720600000058766], [0.35721899999771267, 0.35724900000059279], [0.35726099999737926, 0.35729100000025937], [0.35730300000068382, 0.35733299999992596], [0.35734600000068895, 0.35737599999993108], [0.35738800000035553, 0.35741799999959767], [0.35743100000036065, 0.35746099999960279], [0.35747400000036578, 0.35750600000028498], [0.35751999999774853, 0.35755000000062864], [0.35756299999775365, 0.35759399999733432], [0.35760599999775877, 0.35763699999733944], [0.35764899999776389, 0.35767999999734457], [0.35769199999776902, 0.35772299999734969], [0.35773499999777414, 0.35776599999735481], [0.3577789999981178, 0.35780999999769847], [0.35782299999846146, 0.35785499999838066], [0.35786699999880511, 0.35789799999838579], [0.35791099999914877, 0.35794299999906798], [0.35795499999949243, 0.3579859999990731], [0.35799899999983609, 0.35802999999941676], [0.35804300000017975, 0.35807399999976042], [0.3580870000005234, 0.35811800000010408], [0.35813099999722908, 0.35816399999748683], [0.35817699999824981, 0.35820799999783048], [0.35822099999859347, 0.35825299999851268], [0.35826499999893713, 0.35829699999885634], [0.35830999999961932, 0.35834199999953853], [0.35835399999996298, 0.35838800000055926], [0.35839999999734573, 0.35843299999760347], [0.35844499999802792, 0.3584789999986242], [0.35849099999904865, 0.3585239999993064], [0.35853700000006938, 0.35857000000032713], [0.35858200000075158, 0.35861499999737134], [0.35862799999813433, 0.35866099999839207], [0.35867299999881652, 0.35870599999907427], [0.35871899999983725, 0.35875200000009499], [0.35876400000051945, 0.35879799999747775], [0.35881099999824073, 0.35884499999883701], [0.35885699999926146, 0.35889099999985774], [0.35890300000028219, 0.35893699999724049], [0.35894899999766494, 0.35900899999978719], [0.35902899999928195, 0.3590650000005553], [0.35907799999768031, 0.35911199999827659], [0.35912499999903957, 0.35915899999963585], [0.35917200000039884, 0.35920699999769568], [0.35921899999812013, 0.35925399999905494], [0.35926599999947939, 0.35930000000007567], [0.35931200000050012, 0.35934699999779696], [0.35935899999822141, 0.35939499999949476], [0.35940699999991921, 0.35944100000051549], [0.35945399999764049, 0.35948799999823677], [0.35950099999899976, 0.35953599999993457], [0.35954900000069756, 0.3595839999979944], [0.35959599999841885, 0.35963099999935366], [0.35964299999977811, 0.35967899999741348], [0.35969099999783793, 0.35972599999877275], [0.3597379999991972, 0.35977400000047055], [0.35978599999725702, 0.35982199999853037], [0.35983399999895482, 0.35987000000022817], [0.35988299999735318, 0.35991899999862653], [0.35993099999905098, 0.35996700000032433], [0.35997900000074878, 0.36001499999838416], [0.36002799999914714, 0.36006300000008196], [0.36007599999720696, 0.36011199999848031], [0.36012399999890476, 0.36016000000017812], [0.36017200000060257, 0.36020899999857647], [0.36022199999933946, 0.36025899999731337], [0.36027099999773782, 0.36030699999901117], [0.36031999999977415, 0.36035699999774806], [0.36036899999817251, 0.3604059999997844], [0.36041800000020885, 0.36045499999818276], [0.36046799999894574, 0.36050500000055763], [0.3605169999973441, 0.36055399999895599], [0.36056599999938044, 0.36060399999769288], [0.36061699999845587, 0.36065400000006775], [0.3606660000004922, 0.36070399999880465], [0.3607159999992291, 0.36073199999736971], [1.1079069999977946, 1.1079439999994065], [1.1079749999989872, 1.1088759999984177]]}, \"sh-5009\": {\"3\": [[11.184252999999444, 11.184488999999303]]}, \"modprobe-4998\": {\"3\": [[9.7639359999993758, 9.7639519999975164]]}, \"sudo-4965\": {\"2\": [[1.1160689999996976, 1.1190929999975197], [1.1200189999981376, 1.120041999998648], [1.1263079999989714, 1.1273899999978312]]}, \"shutils-4975\": {\"0\": [[2.0226939999993192, 2.0233379999990575]], \"4\": [[2.022385000000213, 2.0225839999984601]]}, \"shutils-4974\": {\"3\": [[2.0211079999971844, 2.0221939999973984]], \"4\": [[2.0204840000005788, 2.0208839999977499]]}, \"shutils-4977\": {\"0\": [[2.0260290000005625, 2.0266319999973348]], \"3\": [[2.0257710000005318, 2.0259409999998752]]}, \"shutils-4976\": {\"3\": [[2.0243379999992612, 2.0246549999974377]], \"5\": [[2.0247449999988021, 2.0256469999985711]]}, \"shutils-4971\": {\"2\": [[2.0142099999975471, 2.0143209999987448]], \"5\": [[2.0144110000001092, 2.0149969999984023]]}, \"shutils-4970\": {\"1\": [[2.0167770000007295, 2.0169599999971979], [2.0179590000007011, 2.0179719999978261], [2.0181239999983518, 2.0183120000001509], [2.0241319999986445, 2.0242999999973108], [2.0254449999993085, 2.02545900000041], [2.0256179999996675, 2.0257989999990968], [2.0277849999984028, 2.027974999997241], [2.0289139999986219, 2.0289300000004005], [2.0361689999990631, 2.0363899999974819]], \"2\": [[2.0202319999989413, 2.0204009999979462], [2.0219829999987269, 2.0219959999994899], [2.0221549999987474, 2.0223420000002079], [2.0290999999997439, 2.0292769999978191], [2.0313810000006924, 2.0315539999974135], [2.0325149999989662, 2.0325269999993907], [2.0326739999982237, 2.0328509999999369], [2.0347269999983837, 2.0348909999993339], [2.0359889999999723, 2.0360049999981129]]}, \"shutils-4973\": {\"2\": [[2.0182709999971848, 2.0184009999975387]], \"4\": [[2.0184969999972964, 2.018990999997186]]}, \"shutils-4972\": {\"2\": [[2.0169209999985469, 2.0171190000000934]], \"5\": [[2.0172050000001036, 2.0181489999995392]]}, \"sh-5022\": {\"3\": [[13.692182999999204, 13.692182999999204]], \"5\": [[13.691910999998072, 13.692079000000376]]}, \"shutils-4979\": {\"0\": [[2.0295059999989462, 2.0301609999987704]], \"5\": [[2.0292469999985769, 2.0294189999985974]]}, \"shutils-4978\": {\"2\": [[2.0279319999972358, 2.0281469999972614]], \"5\": [[2.0282310000002326, 2.0289419999971869]]}, \"kworker/u12:2-4995\": {\"2\": [[9.593511999999464, 9.5935460000000603]], \"5\": [[9.593630999999732, 9.5956009999972594]]}, \"kworker/u12:2-4998\": {\"2\": [[9.7618989999973564, 9.7619329999979527]], \"3\": [[9.7620219999989786, 9.7638960000003863]]}, \"bash-5019\": {\"1\": [[13.679947000000539, 13.68031499999779]], \"2\": [[13.680431999997381, 13.68299499999921]]}, \"rcu_sched-8\": {\"5\": [[0.0030029999979888089, 0.0030189999997674022], [0.007219999999506399, 0.0072369999979855493], [0.011222999997698935, 0.011237999999138992], [0.015180999998847255, 0.015197999997326406]]}, \"bash-5016\": {\"1\": [[12.978534999998374, 12.978901999998925]], \"2\": [[12.979020999999193, 12.983539999997447]]}, \"kworker/0:2-146\": {\"0\": [[0.24317499999961001, 0.2433229999987816], [2.2271679999976186, 2.2272469999988971], [4.2029889999976149, 4.2030629999972007], [6.1950369999976829, 6.1951139999982843], [9.515027999997983, 9.5151420000001963], [10.183191000000079, 10.183219999998983], [12.295175999999628, 12.295277999997779]]}, \"sh-4990\": {\"1\": [[3.3581879999983357, 3.3583029999972496]], \"5\": [[3.3583199999993667, 3.3589939999983471]]}, \"modprobe-5017\": {\"5\": [[12.985752999997203, 12.985767999998643]]}}});\n",
       "        }); /* TRAPPY_PUBLISH_REMOVE_LINE */\n",
       "        </script>\n",
       "        </div>"
      ],
      "text/plain": [
       "<IPython.core.display.HTML object>"
      ]
     },
     "metadata": {},
     "output_type": "display_data"
    }
   ],
   "source": [
    "trace = t.get_trace(all_experiments[10])\n",
    "import trappy\n",
    "trappy.plotter.plot_trace(trace.ftrace)"
   ]
  },
  {
   "cell_type": "code",
   "execution_count": 38,
   "metadata": {
    "collapsed": false
   },
   "outputs": [
    {
     "data": {
      "text/html": [
       "<div>\n",
       "<table border=\"1\" class=\"dataframe\">\n",
       "  <thead>\n",
       "    <tr style=\"text-align: right;\">\n",
       "      <th></th>\n",
       "      <th>measured</th>\n",
       "      <th>estimated</th>\n",
       "    </tr>\n",
       "  </thead>\n",
       "  <tbody>\n",
       "    <tr>\n",
       "      <th>0</th>\n",
       "      <td>0.890649</td>\n",
       "      <td>319.091561</td>\n",
       "    </tr>\n",
       "    <tr>\n",
       "      <th>1</th>\n",
       "      <td>1.013924</td>\n",
       "      <td>319.091561</td>\n",
       "    </tr>\n",
       "    <tr>\n",
       "      <th>2</th>\n",
       "      <td>1.028837</td>\n",
       "      <td>319.091561</td>\n",
       "    </tr>\n",
       "    <tr>\n",
       "      <th>3</th>\n",
       "      <td>1.036942</td>\n",
       "      <td>319.091561</td>\n",
       "    </tr>\n",
       "    <tr>\n",
       "      <th>4</th>\n",
       "      <td>0.986021</td>\n",
       "      <td>319.091561</td>\n",
       "    </tr>\n",
       "    <tr>\n",
       "      <th>5</th>\n",
       "      <td>1.620555</td>\n",
       "      <td>601.876982</td>\n",
       "    </tr>\n",
       "    <tr>\n",
       "      <th>6</th>\n",
       "      <td>1.653341</td>\n",
       "      <td>601.876982</td>\n",
       "    </tr>\n",
       "    <tr>\n",
       "      <th>7</th>\n",
       "      <td>1.592385</td>\n",
       "      <td>601.876982</td>\n",
       "    </tr>\n",
       "    <tr>\n",
       "      <th>8</th>\n",
       "      <td>1.590199</td>\n",
       "      <td>601.876982</td>\n",
       "    </tr>\n",
       "    <tr>\n",
       "      <th>9</th>\n",
       "      <td>1.586461</td>\n",
       "      <td>601.876982</td>\n",
       "    </tr>\n",
       "    <tr>\n",
       "      <th>10</th>\n",
       "      <td>6.619384</td>\n",
       "      <td>2501.424101</td>\n",
       "    </tr>\n",
       "    <tr>\n",
       "      <th>11</th>\n",
       "      <td>6.624126</td>\n",
       "      <td>2501.424101</td>\n",
       "    </tr>\n",
       "    <tr>\n",
       "      <th>12</th>\n",
       "      <td>6.602588</td>\n",
       "      <td>2501.424101</td>\n",
       "    </tr>\n",
       "    <tr>\n",
       "      <th>13</th>\n",
       "      <td>6.578840</td>\n",
       "      <td>2501.424101</td>\n",
       "    </tr>\n",
       "    <tr>\n",
       "      <th>14</th>\n",
       "      <td>6.646052</td>\n",
       "      <td>2501.424101</td>\n",
       "    </tr>\n",
       "    <tr>\n",
       "      <th>15</th>\n",
       "      <td>6.581252</td>\n",
       "      <td>3433.780757</td>\n",
       "    </tr>\n",
       "    <tr>\n",
       "      <th>16</th>\n",
       "      <td>6.630874</td>\n",
       "      <td>3433.780757</td>\n",
       "    </tr>\n",
       "    <tr>\n",
       "      <th>17</th>\n",
       "      <td>6.601354</td>\n",
       "      <td>3433.780757</td>\n",
       "    </tr>\n",
       "    <tr>\n",
       "      <th>18</th>\n",
       "      <td>6.603454</td>\n",
       "      <td>3433.780757</td>\n",
       "    </tr>\n",
       "    <tr>\n",
       "      <th>19</th>\n",
       "      <td>6.553495</td>\n",
       "      <td>3433.780757</td>\n",
       "    </tr>\n",
       "    <tr>\n",
       "      <th>20</th>\n",
       "      <td>8.991312</td>\n",
       "      <td>5786.159296</td>\n",
       "    </tr>\n",
       "    <tr>\n",
       "      <th>21</th>\n",
       "      <td>8.825942</td>\n",
       "      <td>5786.159296</td>\n",
       "    </tr>\n",
       "    <tr>\n",
       "      <th>22</th>\n",
       "      <td>8.795980</td>\n",
       "      <td>5786.159296</td>\n",
       "    </tr>\n",
       "    <tr>\n",
       "      <th>23</th>\n",
       "      <td>9.234262</td>\n",
       "      <td>5786.159296</td>\n",
       "    </tr>\n",
       "    <tr>\n",
       "      <th>24</th>\n",
       "      <td>8.976366</td>\n",
       "      <td>5786.159296</td>\n",
       "    </tr>\n",
       "    <tr>\n",
       "      <th>25</th>\n",
       "      <td>9.281272</td>\n",
       "      <td>5574.572759</td>\n",
       "    </tr>\n",
       "    <tr>\n",
       "      <th>26</th>\n",
       "      <td>9.300804</td>\n",
       "      <td>5574.572759</td>\n",
       "    </tr>\n",
       "    <tr>\n",
       "      <th>27</th>\n",
       "      <td>8.742816</td>\n",
       "      <td>5574.572759</td>\n",
       "    </tr>\n",
       "    <tr>\n",
       "      <th>28</th>\n",
       "      <td>8.692710</td>\n",
       "      <td>5574.572759</td>\n",
       "    </tr>\n",
       "    <tr>\n",
       "      <th>29</th>\n",
       "      <td>8.759325</td>\n",
       "      <td>5574.572759</td>\n",
       "    </tr>\n",
       "    <tr>\n",
       "      <th>30</th>\n",
       "      <td>1.792172</td>\n",
       "      <td>1131.735817</td>\n",
       "    </tr>\n",
       "    <tr>\n",
       "      <th>31</th>\n",
       "      <td>1.963903</td>\n",
       "      <td>1131.735817</td>\n",
       "    </tr>\n",
       "    <tr>\n",
       "      <th>32</th>\n",
       "      <td>2.076279</td>\n",
       "      <td>1131.735817</td>\n",
       "    </tr>\n",
       "    <tr>\n",
       "      <th>33</th>\n",
       "      <td>2.110624</td>\n",
       "      <td>1131.735817</td>\n",
       "    </tr>\n",
       "    <tr>\n",
       "      <th>34</th>\n",
       "      <td>1.741336</td>\n",
       "      <td>1131.735817</td>\n",
       "    </tr>\n",
       "  </tbody>\n",
       "</table>\n",
       "</div>"
      ],
      "text/plain": [
       "    measured    estimated\n",
       "0   0.890649   319.091561\n",
       "1   1.013924   319.091561\n",
       "2   1.028837   319.091561\n",
       "3   1.036942   319.091561\n",
       "4   0.986021   319.091561\n",
       "5   1.620555   601.876982\n",
       "6   1.653341   601.876982\n",
       "7   1.592385   601.876982\n",
       "8   1.590199   601.876982\n",
       "9   1.586461   601.876982\n",
       "10  6.619384  2501.424101\n",
       "11  6.624126  2501.424101\n",
       "12  6.602588  2501.424101\n",
       "13  6.578840  2501.424101\n",
       "14  6.646052  2501.424101\n",
       "15  6.581252  3433.780757\n",
       "16  6.630874  3433.780757\n",
       "17  6.601354  3433.780757\n",
       "18  6.603454  3433.780757\n",
       "19  6.553495  3433.780757\n",
       "20  8.991312  5786.159296\n",
       "21  8.825942  5786.159296\n",
       "22  8.795980  5786.159296\n",
       "23  9.234262  5786.159296\n",
       "24  8.976366  5786.159296\n",
       "25  9.281272  5574.572759\n",
       "26  9.300804  5574.572759\n",
       "27  8.742816  5574.572759\n",
       "28  8.692710  5574.572759\n",
       "29  8.759325  5574.572759\n",
       "30  1.792172  1131.735817\n",
       "31  1.963903  1131.735817\n",
       "32  2.076279  1131.735817\n",
       "33  2.110624  1131.735817\n",
       "34  1.741336  1131.735817"
      ]
     },
     "execution_count": 38,
     "metadata": {},
     "output_type": "execute_result"
    }
   ],
   "source": [
    "df"
   ]
  },
  {
   "cell_type": "code",
   "execution_count": 37,
   "metadata": {
    "collapsed": false
   },
   "outputs": [
    {
     "data": {
      "text/html": [
       "<div>\n",
       "<table border=\"1\" class=\"dataframe\">\n",
       "  <thead>\n",
       "    <tr style=\"text-align: right;\">\n",
       "      <th></th>\n",
       "      <th>measured</th>\n",
       "      <th>estimated</th>\n",
       "    </tr>\n",
       "  </thead>\n",
       "  <tbody>\n",
       "    <tr>\n",
       "      <th>measured</th>\n",
       "      <td>1.00000</td>\n",
       "      <td>0.96297</td>\n",
       "    </tr>\n",
       "    <tr>\n",
       "      <th>estimated</th>\n",
       "      <td>0.96297</td>\n",
       "      <td>1.00000</td>\n",
       "    </tr>\n",
       "  </tbody>\n",
       "</table>\n",
       "</div>"
      ],
      "text/plain": [
       "           measured  estimated\n",
       "measured    1.00000    0.96297\n",
       "estimated   0.96297    1.00000"
      ]
     },
     "execution_count": 37,
     "metadata": {},
     "output_type": "execute_result"
    }
   ],
   "source": [
    "df.corr()"
   ]
  }
 ],
 "metadata": {
  "kernelspec": {
   "display_name": "Python 2",
   "language": "python",
   "name": "python2"
  },
  "language_info": {
   "codemirror_mode": {
    "name": "ipython",
    "version": 2
   },
   "file_extension": ".py",
   "mimetype": "text/x-python",
   "name": "python",
   "nbconvert_exporter": "python",
   "pygments_lexer": "ipython2",
   "version": "2.7.6"
  }
 },
 "nbformat": 4,
 "nbformat_minor": 0
}
