{
 "cells": [
  {
   "cell_type": "markdown",
   "metadata": {},
   "source": [
    "## Does `EnergyModel` actually work for estimation?\n",
    "\n",
    "The notebook runs a load of automated tests and gets the `EnergyModel` estimation of energy usage, then compares it with the values from energy.json."
   ]
  },
  {
   "cell_type": "code",
   "execution_count": 1,
   "metadata": {
    "collapsed": false
   },
   "outputs": [
    {
     "name": "stderr",
     "output_type": "stream",
     "text": [
      "2017-01-09 17:06:56,644 INFO    : root         : Using LISA logging configuration:\n",
      "2017-01-09 17:06:56,646 INFO    : root         :   /home/brejac01/sources/lisa/logging.conf\n"
     ]
    }
   ],
   "source": [
    "from env import TestEnv\n",
    "import pandas as pd\n",
    "import json\n",
    "import os\n",
    "from conf import LisaLogging\n",
    "from bart.common.Utils import area_under_curve\n",
    "from trappy.plotter import plot_trace\n",
    "from IPython.display import display\n",
    "from trappy import ILinePlot\n",
    "from trappy.stats.grammar import Parser\n",
    "import pandas as pd\n",
    "\n",
    "LisaLogging.setup()\n",
    "import logging\n",
    "logging.getLogger('Trace').setLevel(logging.ERROR)\n",
    "logging.getLogger('Analysis').setLevel(logging.WARNING)\n",
    "%matplotlib inline"
   ]
  },
  {
   "cell_type": "code",
   "execution_count": 2,
   "metadata": {
    "collapsed": false
   },
   "outputs": [],
   "source": [
    "import tests.eas.generic\n",
    "from tests.eas.generic import EnergyModelTest"
   ]
  },
  {
   "cell_type": "markdown",
   "metadata": {},
   "source": [
    "## Run all the tests\n",
    "This will probalby take ages"
   ]
  },
  {
   "cell_type": "code",
   "execution_count": 3,
   "metadata": {
    "collapsed": false
   },
   "outputs": [
    {
     "name": "stdout",
     "output_type": "stream",
     "text": [
      "error: device 'GA0113TP0180' not found\r\n"
     ]
    }
   ],
   "source": [
    "# Disable drawing power from USB\n",
    "!adb -s GA0113TP0180 shell \"echo 'echo 0 > /sys/class/power_supply/battery/charging_enabled' | su\""
   ]
  },
  {
   "cell_type": "code",
   "execution_count": 4,
   "metadata": {
    "collapsed": false
   },
   "outputs": [],
   "source": [
    "scs = EnergyModelTest.__subclasses__()"
   ]
  },
  {
   "cell_type": "code",
   "execution_count": 5,
   "metadata": {
    "collapsed": false,
    "scrolled": false
   },
   "outputs": [
    {
     "name": "stderr",
     "output_type": "stream",
     "text": [
      "2017-01-09 17:06:56,826 INFO    : LisaTest     : Setup tests execution engine...\n",
      "2017-01-09 17:06:56,827 INFO    : TestEnv      : Using base path: /home/brejac01/sources/lisa\n",
      "2017-01-09 17:06:56,828 INFO    : TestEnv      : Loading default (file) target configuration\n",
      "2017-01-09 17:06:56,829 INFO    : TestEnv      : Loading target configuration [/home/brejac01/sources/lisa/target.config]...\n",
      "2017-01-09 17:06:56,831 INFO    : TestEnv      : Loading custom (inline) test configuration\n",
      "2017-01-09 17:06:56,832 INFO    : TestEnv      : Devlib modules to load: ['bl', u'cpuidle', 'cgroups', 'hwmon', 'cpufreq']\n",
      "2017-01-09 17:06:56,833 INFO    : TestEnv      : Connecting linux target:\n",
      "2017-01-09 17:06:56,834 INFO    : TestEnv      :   username : brendan\n",
      "2017-01-09 17:06:56,835 INFO    : TestEnv      :       host : 192.168.2.2\n",
      "2017-01-09 17:06:56,836 INFO    : TestEnv      :   password : password\n",
      "2017-01-09 17:06:56,837 INFO    : TestEnv      : Connection settings:\n",
      "2017-01-09 17:06:56,838 INFO    : TestEnv      :    {'username': u'brendan', 'host': u'192.168.2.2', 'password': u'password'}\n",
      "2017-01-09 17:07:29,088 INFO    : TestEnv      : Initializing target workdir:\n",
      "2017-01-09 17:07:29,090 INFO    : TestEnv      :    /home/brendan/devlib-target\n",
      "2017-01-09 17:07:32,729 INFO    : CGroups      : Available controllers:\n",
      "2017-01-09 17:07:36,275 INFO    : CGroups      :   cpuset       : /home/brendan/devlib-target/cgroups/devlib_cgh2\n",
      "2017-01-09 17:07:39,820 INFO    : CGroups      :   schedtune    : /home/brendan/devlib-target/cgroups/devlib_cgh3\n",
      "2017-01-09 17:07:40,520 INFO    : TestEnv      : Topology:\n",
      "2017-01-09 17:07:40,522 INFO    : TestEnv      :    [[0, 3, 4, 5], [1, 2]]\n",
      "2017-01-09 17:07:43,154 INFO    : TestEnv      : Loading default EM:\n",
      "2017-01-09 17:07:43,155 INFO    : TestEnv      :    /home/brejac01/sources/lisa/libs/utils/platforms/juno.json\n",
      "2017-01-09 17:07:44,903 WARNING : LinuxTarget  : Event [sched_group_energy] not available for tracing\n",
      "2017-01-09 17:07:44,905 INFO    : TestEnv      : Enabled tracepoints:\n",
      "2017-01-09 17:07:44,907 INFO    : TestEnv      :    sched_overutilized\n",
      "2017-01-09 17:07:44,908 INFO    : TestEnv      :    sched_energy_diff\n",
      "2017-01-09 17:07:44,909 INFO    : TestEnv      :    sched_load_avg_task\n",
      "2017-01-09 17:07:44,910 INFO    : TestEnv      :    sched_load_avg_cpu\n",
      "2017-01-09 17:07:44,911 INFO    : TestEnv      :    sched_migrate_task\n",
      "2017-01-09 17:07:44,912 INFO    : TestEnv      :    sched_switch\n",
      "2017-01-09 17:07:44,913 INFO    : TestEnv      :    cpu_frequency\n",
      "2017-01-09 17:07:44,913 INFO    : TestEnv      :    sched_group_energy\n",
      "2017-01-09 17:07:44,915 INFO    : TestEnv      :    cpu_idle\n",
      "2017-01-09 17:07:44,916 INFO    : EnergyMeter  : Scanning for HWMON channels, may take some time...\n",
      "2017-01-09 17:07:44,920 INFO    : EnergyMeter  : Channels selected for energy sampling:\n",
      "2017-01-09 17:07:44,921 INFO    : EnergyMeter  :    BOARDBIG_energy\n",
      "2017-01-09 17:07:44,922 INFO    : EnergyMeter  :    BOARDLITTLE_energy\n",
      "2017-01-09 17:07:44,923 INFO    : TestEnv      : Set results folder to:\n",
      "2017-01-09 17:07:44,924 INFO    : TestEnv      :    /home/brejac01/sources/lisa/results/20170109_170744\n",
      "2017-01-09 17:07:44,925 INFO    : TestEnv      : Experiment results available also in:\n",
      "2017-01-09 17:07:44,926 INFO    : TestEnv      :    /home/brejac01/sources/lisa/results_latest\n",
      "2017-01-09 17:07:44,927 INFO    : Executor     : Loading custom (inline) test configuration\n",
      "2017-01-09 17:07:44,928 INFO    : Executor     : \n",
      "2017-01-09 17:07:44,929 INFO    : Executor     : ################################################################################\n",
      "2017-01-09 17:07:44,930 INFO    : Executor     : Experiments configuration\n",
      "2017-01-09 17:07:44,931 INFO    : Executor     : ################################################################################\n",
      "2017-01-09 17:07:44,932 INFO    : Executor     : Configured to run:\n",
      "2017-01-09 17:07:44,933 INFO    : Executor     :      1 target configurations:\n",
      "2017-01-09 17:07:44,934 INFO    : Executor     :       energy_aware\n",
      "2017-01-09 17:07:44,935 INFO    : Executor     :      1 workloads (1 iterations each)\n",
      "2017-01-09 17:07:44,936 INFO    : Executor     :       one_small\n",
      "2017-01-09 17:07:44,937 INFO    : Executor     : Total: 1 experiments\n",
      "2017-01-09 17:07:44,938 INFO    : Executor     : Results will be collected under:\n",
      "2017-01-09 17:07:44,939 INFO    : Executor     :       /home/brejac01/sources/lisa/results/20170109_170744\n",
      "2017-01-09 17:07:44,940 INFO    : Executor     : rt-app workloads found, installing tool on target\n",
      "2017-01-09 17:07:47,075 INFO    : LisaTest     : Experiments execution...\n",
      "2017-01-09 17:07:47,077 INFO    : Executor     : \n",
      "2017-01-09 17:07:47,078 INFO    : Executor     : ################################################################################\n",
      "2017-01-09 17:07:47,079 INFO    : Executor     : Experiments execution\n",
      "2017-01-09 17:07:47,080 INFO    : Executor     : ################################################################################\n",
      "2017-01-09 17:07:47,082 INFO    : Executor     : \n",
      "2017-01-09 17:07:47,083 INFO    : Executor     : ================================================================================\n",
      "2017-01-09 17:07:47,084 INFO    : Executor     : configuring target for [energy_aware] experiments\n",
      "2017-01-09 17:07:48,810 INFO    : Executor     : Set scheduler feature: ENERGY_AWARE\n",
      "2017-01-09 17:07:49,716 WARNING : Executor     : cpufreq governor not specified, using currently configured governor\n",
      "2017-01-09 17:07:49,718 INFO    : Workload     : Setup new workload one_small\n",
      "2017-01-09 17:07:49,719 INFO    : Workload     : Workload duration defined by longest task\n",
      "2017-01-09 17:07:49,720 INFO    : Workload     : Default policy: SCHED_OTHER\n",
      "2017-01-09 17:07:49,721 INFO    : Workload     : ------------------------\n",
      "2017-01-09 17:07:49,722 INFO    : Workload     : task [many0], sched: using default policy\n",
      "2017-01-09 17:07:49,723 INFO    : Workload     :  | calibration CPU: 1\n",
      "2017-01-09 17:07:49,724 INFO    : Workload     :  | loops count: 1\n",
      "2017-01-09 17:07:49,725 INFO    : Workload     : + phase_000001: duration 2.000000 [s] (200 loops)\n",
      "2017-01-09 17:07:49,727 INFO    : Workload     : |  period    10000 [us], duty_cycle  20 %\n",
      "2017-01-09 17:07:49,728 INFO    : Workload     : |  run_time   2000 [us], sleep_time   8000 [us]\n",
      "2017-01-09 17:07:50,836 INFO    : Executor     : ~~~~~~~~~~~~~~~~~~~~~~~~~~~~~~~~~~~~~~~~~~~~~~~~~~~~~~~~~~~~~~~~~~~~~~~~~~~~~~~~\n",
      "2017-01-09 17:07:50,837 INFO    : Executor     : Experiment 0/1, [energy_aware:one_small] 1/1\n",
      "2017-01-09 17:07:51,255 WARNING : Executor     : No freezer cgroup controller on target. Not freezing userspace\n",
      "2017-01-09 17:07:51,257 WARNING : Executor     : FTrace events collection enabled\n"
     ]
    },
    {
     "name": "stdout",
     "output_type": "stream",
     "text": [
      "\n"
     ]
    },
    {
     "name": "stderr",
     "output_type": "stream",
     "text": [
      "2017-01-09 17:08:00,121 INFO    : Workload     : Workload execution START:\n",
      "2017-01-09 17:08:00,123 INFO    : Workload     :    /home/brendan/devlib-target/bin/rt-app /home/brendan/devlib-target/run_dir/one_small_00.json 2>&1\n",
      "2017-01-09 17:08:09,511 INFO    : Executor     : Collected FTrace binary trace:\n",
      "2017-01-09 17:08:09,513 INFO    : Executor     :    <res_dir>/rtapp:energy_aware:one_small/1/trace.dat\n",
      "2017-01-09 17:08:09,514 INFO    : Executor     : Collected FTrace function profiling:\n",
      "2017-01-09 17:08:09,515 INFO    : Executor     :    <res_dir>/rtapp:energy_aware:one_small/1/trace_stat.json\n",
      "2017-01-09 17:08:09,516 INFO    : Executor     : --------------------------------------------------------------------------------\n",
      "2017-01-09 17:08:09,517 INFO    : Executor     : \n",
      "2017-01-09 17:08:09,518 INFO    : Executor     : ################################################################################\n",
      "2017-01-09 17:08:09,520 INFO    : Executor     : Experiments execution completed\n",
      "2017-01-09 17:08:09,521 INFO    : Executor     : ################################################################################\n",
      "2017-01-09 17:08:09,522 INFO    : Executor     : Results available in:\n",
      "2017-01-09 17:08:09,522 INFO    : Executor     :       /home/brejac01/sources/lisa/results/20170109_170744\n"
     ]
    },
    {
     "name": "stdout",
     "output_type": "stream",
     "text": [
      "Maximum estimated system energy: 1725\n",
      "Maximum estimated system energy: 1725\n"
     ]
    }
   ],
   "source": [
    "tests = []\n",
    "all_experiments = []\n",
    "measured_energy = []\n",
    "est_energy = []\n",
    "\n",
    "for cls in scs[0:1]:\n",
    "    cls.setUpClass()\n",
    "    if not cls.te.emeter:\n",
    "        raise Exception(\"This notebook won't work without an energy meter configured\")\n",
    "    t = cls()\n",
    "    tests.append(t)\n",
    "    for exp in t.executor.experiments:\n",
    "        all_experiments.append(exp)\n",
    "        json_path = os.path.join(exp.out_dir, \"energy.json\")\n",
    "        with open(json_path) as f:\n",
    "            energy = json.load(f)\n",
    "        energy = sum(energy.values())\n",
    "        measured_energy.append(energy)\n",
    "                \n",
    "        est_power = t.get_power_df(t.executor.experiments[0])['power']\n",
    "        est_energy.append(area_under_curve(est_power))"
   ]
  },
  {
   "cell_type": "markdown",
   "metadata": {},
   "source": [
    "# Compare `EnergyModel` estimation with measured value"
   ]
  },
  {
   "cell_type": "code",
   "execution_count": 6,
   "metadata": {
    "collapsed": false
   },
   "outputs": [
    {
     "data": {
      "text/plain": [
       "<matplotlib.axes.AxesSubplot at 0x7f3d1d7713d0>"
      ]
     },
     "execution_count": 6,
     "metadata": {},
     "output_type": "execute_result"
    },
    {
     "name": "stderr",
     "output_type": "stream",
     "text": [
      "/usr/lib/pymodules/python2.7/matplotlib/collections.py:548: FutureWarning: elementwise comparison failed; returning scalar instead, but in the future will perform elementwise comparison\n",
      "  if self._edgecolors == 'face':\n"
     ]
    },
    {
     "data": {
      "image/png": "[encoded data removed]",
      "text/plain": [
       "<matplotlib.figure.Figure at 0x7f3cee636b10>"
      ]
     },
     "metadata": {},
     "output_type": "display_data"
    }
   ],
   "source": [
    "df = pd.DataFrame({'measured': measured_energy, 'estimated': est_energy}, columns=['measured', 'estimated'])\n",
    "df.plot.scatter(x='estimated', y='measured')"
   ]
  },
  {
   "cell_type": "code",
   "execution_count": 7,
   "metadata": {
    "collapsed": false
   },
   "outputs": [
    {
     "data": {
      "text/plain": [
       "[<tests.eas.generic.OneSmallTask testMethod=runTest>]"
      ]
     },
     "execution_count": 7,
     "metadata": {},
     "output_type": "execute_result"
    }
   ],
   "source": [
    "tests"
   ]
  },
  {
   "cell_type": "markdown",
   "metadata": {},
   "source": [
    "## Show results\n",
    "\n",
    "Now we'll plot:\n",
    "\n",
    "- Task residency\n",
    "- CPU frequency (if available)\n",
    "- Energy recorded by energy meter (if available)\n",
    "- Energy estimated:\n",
    "  - By `sched_group_energy` in the kernel (using the `sched_energy_diff` trace event)\n",
    "  - By `EnergyModel`, according to the ideal utilization values that would be expected for the observed task placement\n",
    "  - By `EnergyMOdel`, according to the utilization values extracted via the `sched_load_avg_cpu` event"
   ]
  },
  {
   "cell_type": "code",
   "execution_count": 8,
   "metadata": {
    "collapsed": false,
    "scrolled": true
   },
   "outputs": [
    {
     "name": "stdout",
     "output_type": "stream",
     "text": [
      "Maximum estimated system energy: 1725\n"
     ]
    }
   ],
   "source": [
    "t = tests[0]\n",
    "ex = t.executor.experiments[0]\n",
    "trace = t.get_trace(ex)"
   ]
  },
  {
   "cell_type": "code",
   "execution_count": 9,
   "metadata": {
    "collapsed": false
   },
   "outputs": [
    {
     "data": {
      "text/plain": [
       "Time\n",
       "0.000000    NaN\n",
       "0.000013    0x2\n",
       "0.000017    NaN\n",
       "0.000024    0x4\n",
       "0.000028    NaN\n",
       "Name: sg_cpus, dtype: object"
      ]
     },
     "execution_count": 9,
     "metadata": {},
     "output_type": "execute_result"
    }
   ],
   "source": [
    "trace.ftrace.sched_group_energy.data_frame.sg_cpus.head()"
   ]
  },
  {
   "cell_type": "code",
   "execution_count": 10,
   "metadata": {
    "collapsed": false
   },
   "outputs": [
    {
     "data": {
      "text/html": [
       "<div>\n",
       "<table border=\"1\" class=\"dataframe\">\n",
       "  <thead>\n",
       "    <tr style=\"text-align: right;\">\n",
       "      <th></th>\n",
       "      <th>__comm</th>\n",
       "      <th>__cpu</th>\n",
       "      <th>__pid</th>\n",
       "      <th>active</th>\n",
       "      <th>cap_idx</th>\n",
       "      <th>group_util</th>\n",
       "      <th>idle</th>\n",
       "      <th>idle_idx</th>\n",
       "      <th>max_util</th>\n",
       "      <th>sg_cap_cpus</th>\n",
       "      <th>sg_cpus</th>\n",
       "    </tr>\n",
       "    <tr>\n",
       "      <th>Time</th>\n",
       "      <th></th>\n",
       "      <th></th>\n",
       "      <th></th>\n",
       "      <th></th>\n",
       "      <th></th>\n",
       "      <th></th>\n",
       "      <th></th>\n",
       "      <th></th>\n",
       "      <th></th>\n",
       "      <th></th>\n",
       "      <th></th>\n",
       "    </tr>\n",
       "  </thead>\n",
       "  <tbody>\n",
       "    <tr>\n",
       "      <th>0.000000</th>\n",
       "      <td>trace-cmd</td>\n",
       "      <td>5</td>\n",
       "      <td>497</td>\n",
       "      <td>NaN</td>\n",
       "      <td>NaN</td>\n",
       "      <td>NaN</td>\n",
       "      <td>NaN</td>\n",
       "      <td>NaN</td>\n",
       "      <td>0.0</td>\n",
       "      <td>0x6</td>\n",
       "      <td>NaN</td>\n",
       "    </tr>\n",
       "    <tr>\n",
       "      <th>0.000013</th>\n",
       "      <td>trace-cmd</td>\n",
       "      <td>5</td>\n",
       "      <td>497</td>\n",
       "      <td>0.0</td>\n",
       "      <td>0.0</td>\n",
       "      <td>0.0</td>\n",
       "      <td>0.0</td>\n",
       "      <td>3.0</td>\n",
       "      <td>NaN</td>\n",
       "      <td>0x6</td>\n",
       "      <td>2.0</td>\n",
       "    </tr>\n",
       "    <tr>\n",
       "      <th>0.000017</th>\n",
       "      <td>trace-cmd</td>\n",
       "      <td>5</td>\n",
       "      <td>497</td>\n",
       "      <td>NaN</td>\n",
       "      <td>NaN</td>\n",
       "      <td>NaN</td>\n",
       "      <td>NaN</td>\n",
       "      <td>NaN</td>\n",
       "      <td>0.0</td>\n",
       "      <td>0x6</td>\n",
       "      <td>NaN</td>\n",
       "    </tr>\n",
       "    <tr>\n",
       "      <th>0.000024</th>\n",
       "      <td>trace-cmd</td>\n",
       "      <td>5</td>\n",
       "      <td>497</td>\n",
       "      <td>0.0</td>\n",
       "      <td>0.0</td>\n",
       "      <td>0.0</td>\n",
       "      <td>0.0</td>\n",
       "      <td>3.0</td>\n",
       "      <td>NaN</td>\n",
       "      <td>0x6</td>\n",
       "      <td>4.0</td>\n",
       "    </tr>\n",
       "    <tr>\n",
       "      <th>0.000028</th>\n",
       "      <td>trace-cmd</td>\n",
       "      <td>5</td>\n",
       "      <td>497</td>\n",
       "      <td>NaN</td>\n",
       "      <td>NaN</td>\n",
       "      <td>NaN</td>\n",
       "      <td>NaN</td>\n",
       "      <td>NaN</td>\n",
       "      <td>0.0</td>\n",
       "      <td>0x6</td>\n",
       "      <td>NaN</td>\n",
       "    </tr>\n",
       "  </tbody>\n",
       "</table>\n",
       "</div>"
      ],
      "text/plain": [
       "             __comm  __cpu  __pid  active  cap_idx  group_util  idle  \\\n",
       "Time                                                                   \n",
       "0.000000  trace-cmd      5    497     NaN      NaN         NaN   NaN   \n",
       "0.000013  trace-cmd      5    497     0.0      0.0         0.0   0.0   \n",
       "0.000017  trace-cmd      5    497     NaN      NaN         NaN   NaN   \n",
       "0.000024  trace-cmd      5    497     0.0      0.0         0.0   0.0   \n",
       "0.000028  trace-cmd      5    497     NaN      NaN         NaN   NaN   \n",
       "\n",
       "          idle_idx  max_util sg_cap_cpus  sg_cpus  \n",
       "Time                                               \n",
       "0.000000       NaN       0.0         0x6      NaN  \n",
       "0.000013       3.0       NaN         0x6      2.0  \n",
       "0.000017       NaN       0.0         0x6      NaN  \n",
       "0.000024       3.0       NaN         0x6      4.0  \n",
       "0.000028       NaN       0.0         0x6      NaN  "
      ]
     },
     "execution_count": 10,
     "metadata": {},
     "output_type": "execute_result"
    }
   ],
   "source": [
    "sr = trace.ftrace.sched_group_energy.data_frame.sg_cpus\n",
    "def f(item):\n",
    "    if type(item) == str:\n",
    "        return int(item, 0)\n",
    "    else:\n",
    "        return item\n",
    "trace.ftrace.sched_group_energy.data_frame.sg_cpus = sr.apply(f)\n",
    "trace.ftrace.sched_group_energy.data_frame.head()"
   ]
  },
  {
   "cell_type": "code",
   "execution_count": 11,
   "metadata": {
    "collapsed": false
   },
   "outputs": [
    {
     "ename": "AssertionError",
     "evalue": "Gaps in blk ref_locs",
     "output_type": "error",
     "traceback": [
      "\u001b[1;31m\u001b[0m",
      "\u001b[1;31mAssertionError\u001b[0mTraceback (most recent call last)",
      "\u001b[1;32m<ipython-input-11-73e5a57d6707>\u001b[0m in \u001b[0;36m<module>\u001b[1;34m()\u001b[0m\n\u001b[0;32m      1\u001b[0m \u001b[0mdf\u001b[0m \u001b[1;33m=\u001b[0m \u001b[0mtrace\u001b[0m\u001b[1;33m.\u001b[0m\u001b[0mftrace\u001b[0m\u001b[1;33m.\u001b[0m\u001b[0msched_group_energy\u001b[0m\u001b[1;33m.\u001b[0m\u001b[0mdata_frame\u001b[0m\u001b[1;33m\u001b[0m\u001b[0m\n\u001b[0;32m      2\u001b[0m \u001b[0mdf\u001b[0m \u001b[1;33m=\u001b[0m \u001b[0mdf\u001b[0m\u001b[1;33m.\u001b[0m\u001b[0mgroupby\u001b[0m\u001b[1;33m(\u001b[0m\u001b[0mlevel\u001b[0m\u001b[1;33m=\u001b[0m\u001b[1;36m0\u001b[0m\u001b[1;33m)\u001b[0m\u001b[1;33m.\u001b[0m\u001b[0mlast\u001b[0m\u001b[1;33m(\u001b[0m\u001b[1;33m)\u001b[0m \u001b[1;31m# drop rows with duplicate index\u001b[0m\u001b[1;33m\u001b[0m\u001b[0m\n\u001b[1;32m----> 3\u001b[1;33m \u001b[0mdf\u001b[0m \u001b[1;33m=\u001b[0m \u001b[0mdf\u001b[0m\u001b[1;33m.\u001b[0m\u001b[0mpivot\u001b[0m\u001b[1;33m(\u001b[0m\u001b[0mcolumns\u001b[0m\u001b[1;33m=\u001b[0m\u001b[1;34m'sg_cpus'\u001b[0m\u001b[1;33m)\u001b[0m\u001b[1;33m[\u001b[0m\u001b[1;33m[\u001b[0m\u001b[1;34m'idle'\u001b[0m\u001b[1;33m,\u001b[0m \u001b[1;34m'active'\u001b[0m\u001b[1;33m]\u001b[0m\u001b[1;33m]\u001b[0m\u001b[1;33m\u001b[0m\u001b[0m\n\u001b[0m\u001b[0;32m      4\u001b[0m \u001b[1;33m\u001b[0m\u001b[0m\n\u001b[0;32m      5\u001b[0m \u001b[1;32mdef\u001b[0m \u001b[0mto_bits\u001b[0m\u001b[1;33m(\u001b[0m\u001b[0mn\u001b[0m\u001b[1;33m)\u001b[0m\u001b[1;33m:\u001b[0m\u001b[1;33m\u001b[0m\u001b[0m\n",
      "\u001b[1;32m/usr/local/lib/python2.7/dist-packages/pandas/core/frame.pyc\u001b[0m in \u001b[0;36mpivot\u001b[1;34m(self, index, columns, values)\u001b[0m\n\u001b[0;32m   3933\u001b[0m         \"\"\"\n\u001b[0;32m   3934\u001b[0m         \u001b[1;32mfrom\u001b[0m \u001b[0mpandas\u001b[0m\u001b[1;33m.\u001b[0m\u001b[0mcore\u001b[0m\u001b[1;33m.\u001b[0m\u001b[0mreshape\u001b[0m \u001b[1;32mimport\u001b[0m \u001b[0mpivot\u001b[0m\u001b[1;33m\u001b[0m\u001b[0m\n\u001b[1;32m-> 3935\u001b[1;33m         \u001b[1;32mreturn\u001b[0m \u001b[0mpivot\u001b[0m\u001b[1;33m(\u001b[0m\u001b[0mself\u001b[0m\u001b[1;33m,\u001b[0m \u001b[0mindex\u001b[0m\u001b[1;33m=\u001b[0m\u001b[0mindex\u001b[0m\u001b[1;33m,\u001b[0m \u001b[0mcolumns\u001b[0m\u001b[1;33m=\u001b[0m\u001b[0mcolumns\u001b[0m\u001b[1;33m,\u001b[0m \u001b[0mvalues\u001b[0m\u001b[1;33m=\u001b[0m\u001b[0mvalues\u001b[0m\u001b[1;33m)\u001b[0m\u001b[1;33m\u001b[0m\u001b[0m\n\u001b[0m\u001b[0;32m   3936\u001b[0m \u001b[1;33m\u001b[0m\u001b[0m\n\u001b[0;32m   3937\u001b[0m     \u001b[1;32mdef\u001b[0m \u001b[0mstack\u001b[0m\u001b[1;33m(\u001b[0m\u001b[0mself\u001b[0m\u001b[1;33m,\u001b[0m \u001b[0mlevel\u001b[0m\u001b[1;33m=\u001b[0m\u001b[1;33m-\u001b[0m\u001b[1;36m1\u001b[0m\u001b[1;33m,\u001b[0m \u001b[0mdropna\u001b[0m\u001b[1;33m=\u001b[0m\u001b[0mTrue\u001b[0m\u001b[1;33m)\u001b[0m\u001b[1;33m:\u001b[0m\u001b[1;33m\u001b[0m\u001b[0m\n",
      "\u001b[1;32m/usr/local/lib/python2.7/dist-packages/pandas/core/reshape.pyc\u001b[0m in \u001b[0;36mpivot\u001b[1;34m(self, index, columns, values)\u001b[0m\n\u001b[0;32m    328\u001b[0m         \u001b[0mappend\u001b[0m \u001b[1;33m=\u001b[0m \u001b[0mindex\u001b[0m \u001b[1;32mis\u001b[0m \u001b[0mNone\u001b[0m\u001b[1;33m\u001b[0m\u001b[0m\n\u001b[0;32m    329\u001b[0m         \u001b[0mindexed\u001b[0m \u001b[1;33m=\u001b[0m \u001b[0mself\u001b[0m\u001b[1;33m.\u001b[0m\u001b[0mset_index\u001b[0m\u001b[1;33m(\u001b[0m\u001b[0mcols\u001b[0m\u001b[1;33m,\u001b[0m \u001b[0mappend\u001b[0m\u001b[1;33m=\u001b[0m\u001b[0mappend\u001b[0m\u001b[1;33m)\u001b[0m\u001b[1;33m\u001b[0m\u001b[0m\n\u001b[1;32m--> 330\u001b[1;33m         \u001b[1;32mreturn\u001b[0m \u001b[0mindexed\u001b[0m\u001b[1;33m.\u001b[0m\u001b[0munstack\u001b[0m\u001b[1;33m(\u001b[0m\u001b[0mcolumns\u001b[0m\u001b[1;33m)\u001b[0m\u001b[1;33m\u001b[0m\u001b[0m\n\u001b[0m\u001b[0;32m    331\u001b[0m     \u001b[1;32melse\u001b[0m\u001b[1;33m:\u001b[0m\u001b[1;33m\u001b[0m\u001b[0m\n\u001b[0;32m    332\u001b[0m         \u001b[1;32mif\u001b[0m \u001b[0mindex\u001b[0m \u001b[1;32mis\u001b[0m \u001b[0mNone\u001b[0m\u001b[1;33m:\u001b[0m\u001b[1;33m\u001b[0m\u001b[0m\n",
      "\u001b[1;32m/usr/local/lib/python2.7/dist-packages/pandas/core/frame.pyc\u001b[0m in \u001b[0;36munstack\u001b[1;34m(self, level, fill_value)\u001b[0m\n\u001b[0;32m   4034\u001b[0m         \"\"\"\n\u001b[0;32m   4035\u001b[0m         \u001b[1;32mfrom\u001b[0m \u001b[0mpandas\u001b[0m\u001b[1;33m.\u001b[0m\u001b[0mcore\u001b[0m\u001b[1;33m.\u001b[0m\u001b[0mreshape\u001b[0m \u001b[1;32mimport\u001b[0m \u001b[0munstack\u001b[0m\u001b[1;33m\u001b[0m\u001b[0m\n\u001b[1;32m-> 4036\u001b[1;33m         \u001b[1;32mreturn\u001b[0m \u001b[0munstack\u001b[0m\u001b[1;33m(\u001b[0m\u001b[0mself\u001b[0m\u001b[1;33m,\u001b[0m \u001b[0mlevel\u001b[0m\u001b[1;33m,\u001b[0m \u001b[0mfill_value\u001b[0m\u001b[1;33m)\u001b[0m\u001b[1;33m\u001b[0m\u001b[0m\n\u001b[0m\u001b[0;32m   4037\u001b[0m \u001b[1;33m\u001b[0m\u001b[0m\n\u001b[0;32m   4038\u001b[0m     \u001b[1;31m# ----------------------------------------------------------------------\u001b[0m\u001b[1;33m\u001b[0m\u001b[1;33m\u001b[0m\u001b[0m\n",
      "\u001b[1;32m/usr/local/lib/python2.7/dist-packages/pandas/core/reshape.pyc\u001b[0m in \u001b[0;36munstack\u001b[1;34m(obj, level, fill_value)\u001b[0m\n\u001b[0;32m    406\u001b[0m     \u001b[1;32mif\u001b[0m \u001b[0misinstance\u001b[0m\u001b[1;33m(\u001b[0m\u001b[0mobj\u001b[0m\u001b[1;33m,\u001b[0m \u001b[0mDataFrame\u001b[0m\u001b[1;33m)\u001b[0m\u001b[1;33m:\u001b[0m\u001b[1;33m\u001b[0m\u001b[0m\n\u001b[0;32m    407\u001b[0m         \u001b[1;32mif\u001b[0m \u001b[0misinstance\u001b[0m\u001b[1;33m(\u001b[0m\u001b[0mobj\u001b[0m\u001b[1;33m.\u001b[0m\u001b[0mindex\u001b[0m\u001b[1;33m,\u001b[0m \u001b[0mMultiIndex\u001b[0m\u001b[1;33m)\u001b[0m\u001b[1;33m:\u001b[0m\u001b[1;33m\u001b[0m\u001b[0m\n\u001b[1;32m--> 408\u001b[1;33m             \u001b[1;32mreturn\u001b[0m \u001b[0m_unstack_frame\u001b[0m\u001b[1;33m(\u001b[0m\u001b[0mobj\u001b[0m\u001b[1;33m,\u001b[0m \u001b[0mlevel\u001b[0m\u001b[1;33m,\u001b[0m \u001b[0mfill_value\u001b[0m\u001b[1;33m=\u001b[0m\u001b[0mfill_value\u001b[0m\u001b[1;33m)\u001b[0m\u001b[1;33m\u001b[0m\u001b[0m\n\u001b[0m\u001b[0;32m    409\u001b[0m         \u001b[1;32melse\u001b[0m\u001b[1;33m:\u001b[0m\u001b[1;33m\u001b[0m\u001b[0m\n\u001b[0;32m    410\u001b[0m             \u001b[1;32mreturn\u001b[0m \u001b[0mobj\u001b[0m\u001b[1;33m.\u001b[0m\u001b[0mT\u001b[0m\u001b[1;33m.\u001b[0m\u001b[0mstack\u001b[0m\u001b[1;33m(\u001b[0m\u001b[0mdropna\u001b[0m\u001b[1;33m=\u001b[0m\u001b[0mFalse\u001b[0m\u001b[1;33m)\u001b[0m\u001b[1;33m\u001b[0m\u001b[0m\n",
      "\u001b[1;32m/usr/local/lib/python2.7/dist-packages/pandas/core/reshape.pyc\u001b[0m in \u001b[0;36m_unstack_frame\u001b[1;34m(obj, level, fill_value)\u001b[0m\n\u001b[0;32m    443\u001b[0m             \u001b[0mnew_blocks\u001b[0m\u001b[1;33m.\u001b[0m\u001b[0mappend\u001b[0m\u001b[1;33m(\u001b[0m\u001b[0mnewb\u001b[0m\u001b[1;33m)\u001b[0m\u001b[1;33m\u001b[0m\u001b[0m\n\u001b[0;32m    444\u001b[0m \u001b[1;33m\u001b[0m\u001b[0m\n\u001b[1;32m--> 445\u001b[1;33m         \u001b[0mresult\u001b[0m \u001b[1;33m=\u001b[0m \u001b[0mDataFrame\u001b[0m\u001b[1;33m(\u001b[0m\u001b[0mBlockManager\u001b[0m\u001b[1;33m(\u001b[0m\u001b[0mnew_blocks\u001b[0m\u001b[1;33m,\u001b[0m \u001b[0mnew_axes\u001b[0m\u001b[1;33m)\u001b[0m\u001b[1;33m)\u001b[0m\u001b[1;33m\u001b[0m\u001b[0m\n\u001b[0m\u001b[0;32m    446\u001b[0m         \u001b[0mmask_frame\u001b[0m \u001b[1;33m=\u001b[0m \u001b[0mDataFrame\u001b[0m\u001b[1;33m(\u001b[0m\u001b[0mBlockManager\u001b[0m\u001b[1;33m(\u001b[0m\u001b[0mmask_blocks\u001b[0m\u001b[1;33m,\u001b[0m \u001b[0mnew_axes\u001b[0m\u001b[1;33m)\u001b[0m\u001b[1;33m)\u001b[0m\u001b[1;33m\u001b[0m\u001b[0m\n\u001b[0;32m    447\u001b[0m         \u001b[1;32mreturn\u001b[0m \u001b[0mresult\u001b[0m\u001b[1;33m.\u001b[0m\u001b[0mix\u001b[0m\u001b[1;33m[\u001b[0m\u001b[1;33m:\u001b[0m\u001b[1;33m,\u001b[0m \u001b[0mmask_frame\u001b[0m\u001b[1;33m.\u001b[0m\u001b[0msum\u001b[0m\u001b[1;33m(\u001b[0m\u001b[1;36m0\u001b[0m\u001b[1;33m)\u001b[0m \u001b[1;33m>\u001b[0m \u001b[1;36m0\u001b[0m\u001b[1;33m]\u001b[0m\u001b[1;33m\u001b[0m\u001b[0m\n",
      "\u001b[1;32m/usr/local/lib/python2.7/dist-packages/pandas/core/internals.pyc\u001b[0m in \u001b[0;36m__init__\u001b[1;34m(self, blocks, axes, do_integrity_check, fastpath)\u001b[0m\n\u001b[0;32m   2763\u001b[0m         \u001b[0mself\u001b[0m\u001b[1;33m.\u001b[0m\u001b[0m_consolidate_check\u001b[0m\u001b[1;33m(\u001b[0m\u001b[1;33m)\u001b[0m\u001b[1;33m\u001b[0m\u001b[0m\n\u001b[0;32m   2764\u001b[0m \u001b[1;33m\u001b[0m\u001b[0m\n\u001b[1;32m-> 2765\u001b[1;33m         \u001b[0mself\u001b[0m\u001b[1;33m.\u001b[0m\u001b[0m_rebuild_blknos_and_blklocs\u001b[0m\u001b[1;33m(\u001b[0m\u001b[1;33m)\u001b[0m\u001b[1;33m\u001b[0m\u001b[0m\n\u001b[0m\u001b[0;32m   2766\u001b[0m \u001b[1;33m\u001b[0m\u001b[0m\n\u001b[0;32m   2767\u001b[0m     \u001b[1;32mdef\u001b[0m \u001b[0mmake_empty\u001b[0m\u001b[1;33m(\u001b[0m\u001b[0mself\u001b[0m\u001b[1;33m,\u001b[0m \u001b[0maxes\u001b[0m\u001b[1;33m=\u001b[0m\u001b[0mNone\u001b[0m\u001b[1;33m)\u001b[0m\u001b[1;33m:\u001b[0m\u001b[1;33m\u001b[0m\u001b[0m\n",
      "\u001b[1;32m/usr/local/lib/python2.7/dist-packages/pandas/core/internals.pyc\u001b[0m in \u001b[0;36m_rebuild_blknos_and_blklocs\u001b[1;34m(self)\u001b[0m\n\u001b[0;32m   2854\u001b[0m \u001b[1;33m\u001b[0m\u001b[0m\n\u001b[0;32m   2855\u001b[0m         \u001b[1;32mif\u001b[0m \u001b[1;33m(\u001b[0m\u001b[0mnew_blknos\u001b[0m \u001b[1;33m==\u001b[0m \u001b[1;33m-\u001b[0m\u001b[1;36m1\u001b[0m\u001b[1;33m)\u001b[0m\u001b[1;33m.\u001b[0m\u001b[0many\u001b[0m\u001b[1;33m(\u001b[0m\u001b[1;33m)\u001b[0m\u001b[1;33m:\u001b[0m\u001b[1;33m\u001b[0m\u001b[0m\n\u001b[1;32m-> 2856\u001b[1;33m             \u001b[1;32mraise\u001b[0m \u001b[0mAssertionError\u001b[0m\u001b[1;33m(\u001b[0m\u001b[1;34m\"Gaps in blk ref_locs\"\u001b[0m\u001b[1;33m)\u001b[0m\u001b[1;33m\u001b[0m\u001b[0m\n\u001b[0m\u001b[0;32m   2857\u001b[0m \u001b[1;33m\u001b[0m\u001b[0m\n\u001b[0;32m   2858\u001b[0m         \u001b[0mself\u001b[0m\u001b[1;33m.\u001b[0m\u001b[0m_blknos\u001b[0m \u001b[1;33m=\u001b[0m \u001b[0mnew_blknos\u001b[0m\u001b[1;33m\u001b[0m\u001b[0m\n",
      "\u001b[1;31mAssertionError\u001b[0m: Gaps in blk ref_locs"
     ]
    }
   ],
   "source": [
    "df = trace.ftrace.sched_group_energy.data_frame\n",
    "df = df.groupby(level=0).last() # drop rows with duplicate index\n",
    "df = df.pivot(columns='sg_cpus')[['idle', 'active']]\n",
    "\n",
    "def to_bits(n):\n",
    "    ret = []\n",
    "    for i in range(6):\n",
    "        if n % 2:\n",
    "            ret += [i]\n",
    "        n /= 2\n",
    "    return tuple(ret)\n",
    "\n",
    "def fix_cols(df):\n",
    "    df = pd.DataFrame(df)\n",
    "    df.columns = [to_bits(col) for col in df.columns]\n",
    "    return df\n",
    "\n",
    "sched_idle_df = df['idle']\n",
    "sched_active_df = df['active']"
   ]
  },
  {
   "cell_type": "code",
   "execution_count": null,
   "metadata": {
    "collapsed": false
   },
   "outputs": [],
   "source": [
    "p = Parser(trace.ftrace)\n",
    "util_df = p.solve('sched_load_avg_cpu:util_avg').fillna(0)\n",
    "\n",
    "keys = None\n",
    "def f(row, component='active'):\n",
    "    nrg = t.te.nrg_model.estimate_from_cpu_util(row.tolist(), combine=False)\n",
    "    \n",
    "    del nrg['power']\n",
    "    global keys\n",
    "    if not keys:\n",
    "        keys = sorted(nrg.keys(), key=len)\n",
    "        \n",
    "    return pd.Series([v[component] for v in nrg.values()])\n",
    "\n",
    "def get_component_df(component):\n",
    "    df = util_df.apply(lambda row: f(row, component), axis=1)\n",
    "    df.columns = keys\n",
    "    return df\n",
    "\n",
    "est_idle_df = get_component_df('idle')\n",
    "est_active_df = get_component_df('active')"
   ]
  },
  {
   "cell_type": "code",
   "execution_count": null,
   "metadata": {
    "collapsed": false
   },
   "outputs": [],
   "source": [
    "est_active_df.head()"
   ]
  },
  {
   "cell_type": "code",
   "execution_count": null,
   "metadata": {
    "collapsed": false
   },
   "outputs": [],
   "source": [
    "ILinePlot([sched_idle_df, est_idle_df], column=(2,)).view()"
   ]
  },
  {
   "cell_type": "code",
   "execution_count": null,
   "metadata": {
    "collapsed": false,
    "scrolled": true
   },
   "outputs": [],
   "source": [
    "def examine(test, experiment_idx=0):\n",
    "    ex = test.executor.experiments[experiment_idx]\n",
    "    \n",
    "    # Show task residency\n",
    "    trace = test.get_trace(ex)\n",
    "    plot_trace(trace.ftrace)\n",
    "    \n",
    "    if 'cpu_frequency' in trace.available_events:\n",
    "        print \"CPU FREQ:\"\n",
    "        p = Parser(trace.ftrace)\n",
    "        freq_df = p.solve('cpu_frequency:frequency')\n",
    "        # ILinePlot(freq_df, drawstyle='steps-post').view()\n",
    "    \n",
    "    csv_path = os.path.join(ex.out_dir, \"samples_Device0.csv\")\n",
    "    if os.path.exists(csv_path):\n",
    "        print \"RECORDED ENERGY:\"\n",
    "        # Show recorded energy\n",
    "        samples_df = pd.read_csv(csv_path, sep=\", \", engine='python', index_col='\"timestamp ms\"')\n",
    "        samples_df.index.name='time'\n",
    "        samples_df.index /= 1000\n",
    "        samples_df = samples_df[['\"power mW\"']]\n",
    "        samples_df.columns = ['power']\n",
    "        ILinePlot(samples_df, column='power').view()\n",
    "\n",
    "    print \"ESTIMATED ENERGY:\"\n",
    "    # Show estimated energy\n",
    "    est_placement_df = test.get_power_df(ex)\n",
    "\n",
    "    sched_df = trace.ftrace.sched_energy_diff.data_frame\n",
    "    # TODO: This is a hack to get only sched_energy_diff estimations where the \n",
    "    # potential migration was between clusters, i.e. both top-level sched_groups were considered.\n",
    "    # Instead of hard-coding this we should detect that case using data in the EnergyModel.\n",
    "    # Or hack the kernel to always consider all sched_groups\n",
    "    # sched_df = df[df['src_cpu'].isin((1, 2)) != df['dst_cpu'].isin((1, 2))]\n",
    "\n",
    "    p = Parser(trace.ftrace)\n",
    "    util_df = p.solve('sched_load_avg_cpu:util_avg').fillna(0)\n",
    "    def f(row):\n",
    "        return t.te.nrg_model.estimate_from_cpu_util(row.tolist())['power']\n",
    "    est_util = util_df.apply(f, axis=1)\n",
    "\n",
    "    c = sched_df.columns.tolist()\n",
    "\n",
    "    df = pd.concat([sched_df['nrg_before'].to_frame(), \n",
    "                    est_util.to_frame(), \n",
    "                    est_placement_df['power'].to_frame()])\n",
    "\n",
    "    df = df.sort_index().fillna(method='ffill')\n",
    "    df.columns = ['sched_group_energy', 'EnergyModel (sched_load_avg_task)', 'EnergyModel (placement)']\n",
    "\n",
    "    display(df.corr())\n",
    "    ILinePlot(df, column=['sched_group_energy', 'EnergyModel (sched_load_avg_task)', 'EnergyModel (placement)'], drawstyle='steps-before').view()\n",
    "    \n",
    "examine(tests[0])"
   ]
  },
  {
   "cell_type": "code",
   "execution_count": null,
   "metadata": {
    "collapsed": false,
    "scrolled": true
   },
   "outputs": [],
   "source": [
    "df.corr()"
   ]
  }
 ],
 "metadata": {
  "kernelspec": {
   "display_name": "Python 2",
   "language": "python",
   "name": "python2"
  },
  "language_info": {
   "codemirror_mode": {
    "name": "ipython",
    "version": 2
   },
   "file_extension": ".py",
   "mimetype": "text/x-python",
   "name": "python",
   "nbconvert_exporter": "python",
   "pygments_lexer": "ipython2",
   "version": "2.7.6"
  }
 },
 "nbformat": 4,
 "nbformat_minor": 0
}
