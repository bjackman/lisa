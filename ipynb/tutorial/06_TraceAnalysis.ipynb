{
 "cells": [
  {
   "cell_type": "code",
   "execution_count": 1,
   "metadata": {
    "collapsed": true
   },
   "outputs": [],
   "source": [
    "%load_ext autoreload\n",
    "%autoreload 2"
   ]
  },
  {
   "cell_type": "markdown",
   "metadata": {},
   "source": [
    "\n",
    "# Tutorial Goal"
   ]
  },
  {
   "cell_type": "markdown",
   "metadata": {},
   "source": [
    "This tutorial aims to show some example of **trace analysis and visualization**\n",
    "using a pre-defined set of analysis and plotting functions provided by the\n",
    "**Filters** and **Trace** modules of LISA."
   ]
  },
  {
   "cell_type": "code",
   "execution_count": 2,
   "metadata": {
    "collapsed": true
   },
   "outputs": [],
   "source": [
    "import logging\n",
    "reload(logging)\n",
    "logging.basicConfig(\n",
    "    format='%(asctime)-9s %(levelname)-8s: %(message)s',\n",
    "    datefmt='%I:%M:%S')\n",
    "# Enable logging at INFO level\n",
    "logging.getLogger().setLevel(logging.DEBUG)"
   ]
  },
  {
   "cell_type": "code",
   "execution_count": 3,
   "metadata": {
    "collapsed": false
   },
   "outputs": [],
   "source": [
    "# Generate plots inline\n",
    "%matplotlib inline\n",
    "\n",
    "# Python modules required by this notebook\n",
    "import json\n",
    "import os"
   ]
  },
  {
   "cell_type": "markdown",
   "metadata": {},
   "source": [
    "# Configuration"
   ]
  },
  {
   "cell_type": "code",
   "execution_count": 4,
   "metadata": {
    "collapsed": false
   },
   "outputs": [
    {
     "name": "stdout",
     "output_type": "stream",
     "text": [
      "\u001b[01;34m./example_results\u001b[00m\r\n",
      "├── \u001b[01;35mcluster_freqs.png\u001b[00m\r\n",
      "├── \u001b[01;35mediff_stats.png\u001b[00m\r\n",
      "├── \u001b[01;35mediff_time.png\u001b[00m\r\n",
      "├── platform.json\r\n",
      "├── \u001b[01;35mtask_util_20331_sh.png\u001b[00m\r\n",
      "├── \u001b[01;35mtask_util_20552_chrome.png\u001b[00m\r\n",
      "├── \u001b[01;35mtask_util_20615_chrome.png\u001b[00m\r\n",
      "├── \u001b[01;35mtask_util_20672_keygen.png\u001b[00m\r\n",
      "├── \u001b[01;35mtask_util_20678_df.png\u001b[00m\r\n",
      "├── \u001b[01;35mtask_util_20687_chrome.png\u001b[00m\r\n",
      "├── \u001b[01;35mtask_util_20705_chrome.png\u001b[00m\r\n",
      "├── \u001b[01;35mtask_util_20803_sh.png\u001b[00m\r\n",
      "├── \u001b[01;35mtask_util_20805_lsof.png\u001b[00m\r\n",
      "├── \u001b[01;35mtask_util_650_permission_brok.png\u001b[00m\r\n",
      "├── trace.dat\r\n",
      "├── trace.raw.txt\r\n",
      "└── trace.txt\r\n",
      "\r\n",
      "0 directories, 17 files\r\n"
     ]
    }
   ],
   "source": [
    "# Let's use an example trace\n",
    "res_dir = './example_results'\n",
    "tracefile = os.path.join(res_dir, 'trace.dat')\n",
    "platformfile = os.path.join(res_dir, 'platform.json')\n",
    "!tree {res_dir}"
   ]
  },
  {
   "cell_type": "code",
   "execution_count": 5,
   "metadata": {
    "collapsed": false
   },
   "outputs": [
    {
     "name": "stderr",
     "output_type": "stream",
     "text": [
      "02:17:27  INFO    : CPUs max capacities:\n",
      "02:17:27  INFO    :    big:  1024 (cpus: [2, 3])\n",
      "02:17:27  INFO    : LITTLE:   591 (cpus: [0, 1])\n"
     ]
    }
   ],
   "source": [
    "# Trace events of interest\n",
    "events_to_parse = [\n",
    "    \"sched_switch\",\n",
    "    \"sched_wakeup\",\n",
    "    \"sched_wakeup_new\",\n",
    "    \"sched_contrib_scale_f\",\n",
    "    \"sched_load_avg_cpu\",\n",
    "    \"sched_load_avg_task\",\n",
    "    \"sched_tune_config\",\n",
    "    \"sched_tune_tasks_update\",\n",
    "    \"sched_tune_boostgroup_update\",\n",
    "    \"sched_tune_filter\",\n",
    "    \"sched_boost_cpu\",\n",
    "    \"sched_boost_task\",\n",
    "    \"sched_energy_diff\",\n",
    "    \"cpu_frequency\",\n",
    "    \"cpu_capacity\",\n",
    "]\n",
    "\n",
    "# Platform description\n",
    "with open(platformfile, 'r') as fh:\n",
    "    platform = json.load(fh)\n",
    "\n",
    "logging.info(\"CPUs max capacities:\")\n",
    "logging.info(\"   big: %5d (cpus: %s)\",\n",
    "             platform['nrg_model']['big']['cpu']['cap_max'],\n",
    "             platform['clusters']['big'])\n",
    "logging.info(\"LITTLE: %5d (cpus: %s)\",\n",
    "             platform['nrg_model']['little']['cpu']['cap_max'],\n",
    "             platform['clusters']['little'])\n",
    "\n",
    "# Time range from the analysis\n",
    "(t_min, t_max) = (0, None)"
   ]
  },
  {
   "cell_type": "markdown",
   "metadata": {},
   "source": [
    "# Trace parsing"
   ]
  },
  {
   "cell_type": "code",
   "execution_count": 6,
   "metadata": {
    "collapsed": false
   },
   "outputs": [
    {
     "name": "stderr",
     "output_type": "stream",
     "text": [
      "02:17:27  DEBUG   : Loading [sched] events from trace in [./example_results]...\n",
      "02:17:27  DEBUG   : Parsing events: ['sched_switch', 'sched_wakeup', 'sched_wakeup_new', 'sched_contrib_scale_f', 'sched_load_avg_cpu', 'sched_load_avg_task', 'sched_tune_config', 'sched_tune_tasks_update', 'sched_tune_boostgroup_update', 'sched_tune_filter', 'sched_boost_cpu', 'sched_boost_task', 'sched_energy_diff', 'cpu_frequency', 'cpu_capacity']\n",
      "02:17:27  INFO    : Parsing FTrace format...\n",
      "02:18:02  DEBUG   : Events found on trace:\n",
      "02:18:02  DEBUG   :  - sched_load_avg_task\n",
      "02:18:02  DEBUG   :  - cpu_frequency\n",
      "02:18:02  DEBUG   :  - cpu_capacity\n",
      "02:18:02  DEBUG   :  - sched_tune_boostgroup_update\n",
      "02:18:02  DEBUG   :  - sched_load_avg_cpu\n",
      "02:18:02  DEBUG   :  - sched_boost_cpu\n",
      "02:18:02  DEBUG   :  - sched_wakeup_new\n",
      "02:18:02  DEBUG   :  - sched_tune_config\n",
      "02:18:02  DEBUG   :  - sched_boost_task\n",
      "02:18:02  DEBUG   :  - sched_tune_tasks_update\n",
      "02:18:02  DEBUG   :  - sched_tune_filter\n",
      "02:18:02  DEBUG   :  - sched_energy_diff\n",
      "02:18:02  DEBUG   :  - sched_switch\n",
      "02:18:02  DEBUG   :  - sched_contrib_scale_f\n",
      "02:18:02  DEBUG   :  - sched_wakeup\n"
     ]
    },
    {
     "name": "stdout",
     "output_type": "stream",
     "text": [
      "Maximum estimated system energy: 3102\n"
     ]
    },
    {
     "name": "stderr",
     "output_type": "stream",
     "text": [
      "02:18:03  INFO    : Platform clusters verified to be Frequency coherent\n",
      "02:18:03  DEBUG   : Lookup dataset for tasks...\n",
      "02:18:03  INFO    : Collected events spans a 35.314 [s] time interval\n",
      "02:18:03  INFO    : Set plots time range to (0.000000, 35.313536)[s]\n",
      "02:18:03  DEBUG   : Registering [<trace.Trace object at 0x7fd32cfacc90>] local data frames\n",
      "02:18:03  DEBUG   :    functions_stats\n",
      "02:18:03  DEBUG   :    trace_event\n",
      "02:18:03  DEBUG   :       Analysis - Analysis: /home/brejac01/sources/lisa/libs/utils/analysis\n",
      "02:18:03  DEBUG   :       Analysis - Syspath: ['/home/brejac01/sources/lisa/libs/utils/analysis', '', '/home/brejac01/sources/lisa/libs/bart', '/home/brejac01/sources/lisa/libs/trappy', '/home/brejac01/sources/lisa/libs/devlib', '/home/brejac01/sources/lisa/libs/wlgen', '/home/brejac01/sources/lisa/libs/utils', '/home/brejac01/sources/lisa/ipynb/tutorial', '/usr/lib/python2.7', '/usr/lib/python2.7/plat-x86_64-linux-gnu', '/usr/lib/python2.7/lib-tk', '/usr/lib/python2.7/lib-old', '/usr/lib/python2.7/lib-dynload', '/usr/local/lib/python2.7/dist-packages', '/usr/lib/python2.7/dist-packages', '/usr/lib/python2.7/dist-packages/PILcompat', '/usr/lib/python2.7/dist-packages/gtk-2.0', '/usr/lib/pymodules/python2.7', '/usr/lib/python2.7/dist-packages/ubuntu-sso-client', '/usr/local/lib/python2.7/dist-packages/IPython/extensions', '/home/brejac01/.ipython']\n",
      "02:18:03  INFO    : Registering trace analysis modules:\n",
      "02:18:03  DEBUG   :       Analysis - Filename: tasks_analysis\n",
      "02:18:03  DEBUG   : Registering [<tasks_analysis.TasksAnalysis object at 0x7fd34a398bd0>] local data frames\n",
      "02:18:03  DEBUG   :    rt_tasks\n",
      "02:18:03  DEBUG   :    top_big_tasks\n",
      "02:18:03  DEBUG   :    top_wakeup_tasks\n",
      "02:18:03  DEBUG   :    trace_event\n",
      "02:18:03  INFO    :    tasks\n",
      "02:18:03  DEBUG   :       Analysis - Filename: eas_analysis\n",
      "02:18:03  DEBUG   : Registering [<eas_analysis.EasAnalysis object at 0x7fd34a398310>] local data frames\n",
      "02:18:03  DEBUG   :    trace_event\n",
      "02:18:03  INFO    :    eas\n",
      "02:18:03  DEBUG   :       Analysis - Filename: latency_analysis\n",
      "02:18:03  DEBUG   : Registering [<latency_analysis.LatencyAnalysis object at 0x7fd34a313d90>] local data frames\n",
      "02:18:03  DEBUG   :    latency_df\n",
      "02:18:03  DEBUG   :    latency_preemption_df\n",
      "02:18:03  DEBUG   :    latency_wakeup_df\n",
      "02:18:03  DEBUG   :    trace_event\n",
      "02:18:03  INFO    :    latency\n",
      "02:18:03  DEBUG   :       Analysis - Filename: frequency_analysis\n",
      "02:18:03  DEBUG   : Registering [<frequency_analysis.FrequencyAnalysis object at 0x7fd34a313110>] local data frames\n",
      "02:18:03  DEBUG   :    cluster_frequency_residency\n",
      "02:18:03  DEBUG   :    cpu_frequency_residency\n",
      "02:18:03  DEBUG   :    trace_event\n",
      "02:18:03  INFO    :    frequency\n",
      "02:18:03  DEBUG   :       Analysis - Filename: functions_analysis\n",
      "02:18:03  DEBUG   : Registering [<functions_analysis.FunctionsAnalysis object at 0x7fd34a313510>] local data frames\n",
      "02:18:03  DEBUG   :    trace_event\n",
      "02:18:03  INFO    :    functions\n",
      "02:18:03  DEBUG   :       Analysis - Filename: idle_analysis\n",
      "02:18:03  DEBUG   : Registering [<idle_analysis.IdleAnalysis object at 0x7fd34a32fe50>] local data frames\n",
      "02:18:03  DEBUG   :    cluster_idle_state_residency\n",
      "02:18:03  DEBUG   :    cpu_idle_state_residency\n",
      "02:18:03  DEBUG   :    trace_event\n",
      "02:18:03  INFO    :    idle\n",
      "02:18:03  DEBUG   :       Analysis - Filename: status_analysis\n",
      "02:18:03  DEBUG   : Registering [<status_analysis.StatusAnalysis object at 0x7fd34a32fd50>] local data frames\n",
      "02:18:03  DEBUG   :    overutilized\n",
      "02:18:03  DEBUG   :    trace_event\n",
      "02:18:03  INFO    :    status\n",
      "02:18:03  DEBUG   :       Analysis - Filename: cpus_analysis\n",
      "02:18:03  DEBUG   : Registering [<cpus_analysis.CpusAnalysis object at 0x7fd34a32f590>] local data frames\n",
      "02:18:03  DEBUG   :    context_switches\n",
      "02:18:03  DEBUG   :    trace_event\n",
      "02:18:03  INFO    :    cpus\n",
      "02:18:03  DEBUG   : Lookup dataset for tasks...\n",
      "02:18:03  DEBUG   : Lookup for task [<...>]...\n",
      "02:18:03  DEBUG   :   task            <...> found, pid: [20278, 20277, 20276, 8, 19472, 19933, 114, 20282, 20283, 20284, 20285, 20286, 20020, 19990, 20287, 20288, 18, 20289, 20290, 20291, 20292, 20293, 20052, 20295, 20300, 19976, 20301, 19975, 19973, 20032, 129, 20302, 6, 20034, 19861, 20303, 20304, 20305, 20307, 20306, 20308, 20309, 20310, 19918, 20311, 20312, 20313, 395, 20314, 20315, 20316, 20317, 20318, 20319, 20320, 20321, 20322, 19897, 19966, 19949, 19971, 19987, 19979, 19974, 20024, 20017, 20022, 20015, 20041, 20043, 20046, 20025, 20023, 20030, 19967, 20054, 20062, 20055, 20056, 20057, 20066, 19995, 20058, 20060, 20064, 89, 2, 19969, 19972, 20324, 19963, 1197, 239, 260, 122, 209, 136, 19968, 19970, 20014, 66, 20013, 20035, 19988, 20016, 20325, 20019, 20326, 24, 19, 2266, 2267, 20027, 20026, 19964, 19965, 20067, 19936, 19950, 19994, 19997, 19938, 19944, 19946, 1232, 20327, 20328, 20329, 657, 20331, 20330, 20332, 20333, 20334, 20335, 20336, 20337, 20338, 20339, 20340, 20341, 20342, 20343, 20344, 20345, 20346, 615, 20347, 20348, 20349, 20350, 20351, 20352, 20353, 20354, 20355, 20356, 20357, 20358, 20359, 20360, 20361, 20362, 20363, 20364, 20365, 20366, 20367, 20368, 20369, 20370, 20371, 20372, 20373, 20374, 20375, 20376, 20378, 20377, 20379, 20380, 20381, 20382, 20383, 20384, 20385, 20386, 20387, 20388, 20389, 20390, 20391, 20392, 20393, 20394, 20395, 20396, 20397, 20398, 20399, 20400, 20401, 20402, 20403, 20404, 20405, 20406, 20407, 20408, 20409, 20410, 20411, 20412, 20413, 20414, 20415, 20416, 20417, 20418, 20419, 20420, 20421, 20422, 20423, 20424, 20425, 20426, 20427, 20428, 20429, 20430, 20431, 20432, 20433, 20434, 20435, 20436, 20437, 20438, 20439, 20440, 20441, 20442, 20443, 20444, 20445, 20446, 20447, 20448, 20449, 20450, 20451, 20452, 20453, 20454, 20455, 20456, 20457, 20458, 20459, 20460, 20461, 20462, 20463, 20464, 20465, 20466, 20467, 20468, 20469, 20470, 20471, 20472, 20473, 20474, 20475, 20476, 20477, 20478, 20479, 20480, 20481, 20482, 20483, 20484, 20485, 20486, 20487, 20488, 20489, 20490, 20491, 20492, 20493, 20494, 20495, 1252, 20496, 20497, 20498, 20499, 20500, 20501, 20502, 20503, 31, 20504, 20505, 20506, 20507, 20508, 20509, 20510, 20511, 20512, 20513, 20514, 20515, 20516, 20517, 489, 20518, 20519, 20520, 20521, 20522, 20523, 20524, 20088, 20525, 2252, 20526, 20527, 20528, 20529, 20530, 20531, 20532, 20533, 20534, 20535, 20536, 20537, 20538, 20539, 20540, 20541, 20542, 20543, 20544, 20545, 20546, 20547, 20548, 20549, 20550, 20551, 20552, 20553, 20554, 20555, 20556, 20557, 20558, 20559, 20560, 20561, 20563, 20562, 1190, 20564, 20565, 20566, 20567, 20568, 20569, 20570, 20571, 20572, 20573, 20574, 20575, 20576, 20577, 20578, 20579, 20580, 20581, 20582, 20583, 20584, 20585, 20586, 20587, 20588, 20589, 20590, 20591, 20592, 20593, 20594, 20595, 20596, 20597, 20598, 20599, 20600, 20601, 138, 20602, 20603, 20604, 20605, 20606, 20607, 20608, 20609, 20610, 20611, 20612, 20613, 20614, 20615, 20616, 20617, 20618, 20619, 20620, 20621, 20622, 650, 286, 20623, 20624, 20625, 20626, 20627, 20628, 20629, 20630, 20631, 20632, 20633, 20634, 20635, 606, 20636, 20637, 20638, 658, 20639, 20640, 20641, 20642, 20643, 20644, 20645, 20646, 20647, 20648, 20649, 20650, 20651, 20652, 648, 20653, 20654, 20655, 20656, 20657, 20658, 20659, 20660, 20661, 20662, 20663, 20664, 20665, 20666, 20667, 20668, 20669, 20670, 264, 20671, 20672, 20673, 20674, 20675, 20676, 20677, 20678, 123, 1150, 124, 20679, 20680, 20681, 20682, 20683, 2298, 20684, 20685, 20686, 20687, 20688, 20689, 20690, 20691, 125, 20692, 20693, 20694, 20695, 20696, 20697, 20698, 20699, 20700, 20701, 20702, 20703, 20704, 20705, 20706, 20707, 20708, 20709, 20710, 20711, 20712, 20713, 20714, 20715, 20716, 20717, 369, 20718, 20719, 20720, 20721, 20722, 20723, 20724, 20725, 20726, 20727, 20728, 20729, 20730, 20731, 20732, 20733, 20734, 20735, 20736, 20737, 20738, 20739, 20740, 20741, 20742, 20743, 20744, 20745, 20746, 20747, 20748, 20749, 20750, 20751, 20752, 20753, 20754, 20755, 20756, 20757, 1179, 20758, 20759, 20760, 20761, 20762, 20763, 20764, 20765, 20766, 20767, 20768, 20769, 20770, 20771, 20772, 20773, 20774, 20775, 20776, 20777, 20778, 20779, 20780, 20781, 20782, 20783, 20784, 20785, 20786, 20787, 20788, 20789, 20790, 20791, 20792, 20793, 20794, 20795, 20796, 20797, 20798, 20799, 20800, 20801, 20802, 20803, 20804, 20805, 20806, 20807, 20808, 20809, 20811, 20812, 20813, 20814, 20815, 20816, 20817, 20818, 20819, 20820, 20821, 20822, 20823, 20824, 20825, 20826, 20827, 20828, 20829, 20830, 20831, 20832, 20833, 20834, 20835, 20836, 20837, 20838, 20839, 20840, 20841, 20842, 20844, 20843, 20845, 20846, 20847, 20848, 20849, 20850, 20851, 20852, 20853, 20856, 20854, 20857, 20855, 20858, 20859, 20860, 20861, 20862, 20863, 20864, 20865, 20866, 20867, 20868, 20869, 20870, 20871, 20872, 20873, 20874, 20875, 20876, 20877, 20878, 20879, 20880, 20881, 20882, 20883, 20884, 20885, 20886, 20887, 20888, 20889, 20890, 20891, 20892, 20893, 20894, 20895, 20896, 20897, 20898, 20899, 20900, 20901, 20902, 20903, 20904, 20905, 20906, 20907]\n",
      "02:18:03  DEBUG   : Lookup for task [<idle>]...\n",
      "02:18:03  DEBUG   :   task           <idle> found, pid: [0]\n",
      "02:18:03  DEBUG   : Lookup for task [rcu_preempt]...\n",
      "02:18:03  DEBUG   :   task      rcu_preempt found, pid: [7]\n",
      "02:18:03  DEBUG   : Lookup for task [ksdioirqd/mmc2]...\n",
      "02:18:03  DEBUG   :   task   ksdioirqd/mmc2 found, pid: [1364]\n",
      "02:18:03  DEBUG   : Lookup for task [ksoftirqd/1]...\n",
      "02:18:03  DEBUG   :   task      ksoftirqd/1 found, pid: [14]\n",
      "02:18:03  DEBUG   : Lookup for task [rsyslogd]...\n",
      "02:18:03  DEBUG   :   task         rsyslogd found, pid: [394]\n",
      "02:18:03  DEBUG   : Lookup for task [rs:main]...\n",
      "02:18:03  DEBUG   :   task          rs:main found, pid: [380]\n",
      "02:18:03  DEBUG   : Lookup for task [bash]...\n",
      "02:18:03  DEBUG   :   task             bash found, pid: [19394]\n",
      "02:18:03  DEBUG   : Lookup for task [sshd]...\n",
      "02:18:03  DEBUG   :   task             sshd found, pid: [15461, 1261, 20294, 20296, 20297, 20298, 20299, 20923, 20931, 20952, 20953, 20954, 20955, 20961, 20962, 20966, 20967, 20968, 20969]\n",
      "02:18:03  DEBUG   : Lookup for task [ksoftirqd/0]...\n",
      "02:18:03  DEBUG   :   task      ksoftirqd/0 found, pid: [3]\n",
      "02:18:03  DEBUG   : Lookup for task [kworker/u8:3]...\n",
      "02:18:03  DEBUG   :   task     kworker/u8:3 found, pid: [110]\n",
      "02:18:03  DEBUG   : Lookup for task [kworker/3:2]...\n",
      "02:18:03  DEBUG   :   task      kworker/3:2 found, pid: [134]\n",
      "02:18:03  DEBUG   : Lookup for task [migration/3]...\n",
      "02:18:03  DEBUG   :   task      migration/3 found, pid: [23]\n",
      "02:18:03  DEBUG   : Lookup for task [watch]...\n",
      "02:18:03  DEBUG   :   task            watch found, pid: [20138, 20941, 20982, 20987]\n",
      "02:18:03  DEBUG   : Lookup for task [kschedfreq:2]...\n",
      "02:18:03  DEBUG   :   task     kschedfreq:2 found, pid: [119]\n",
      "02:18:03  DEBUG   : Lookup for task [kworker/2:3]...\n",
      "02:18:03  DEBUG   :   task      kworker/2:3 found, pid: [19469]\n",
      "02:18:03  DEBUG   : Lookup for task [daisydog]...\n",
      "02:18:03  DEBUG   :   task         daisydog found, pid: [492]\n",
      "02:18:03  DEBUG   : Lookup for task [watchdog/0]...\n",
      "02:18:03  DEBUG   :   task       watchdog/0 found, pid: [11]\n",
      "02:18:03  DEBUG   : Lookup for task [watchdog/1]...\n",
      "02:18:03  DEBUG   :   task       watchdog/1 found, pid: [12]\n",
      "02:18:03  DEBUG   : Lookup for task [watchdog/2]...\n",
      "02:18:03  DEBUG   :   task       watchdog/2 found, pid: [17]\n",
      "02:18:03  DEBUG   : Lookup for task [watchdog/3]...\n",
      "02:18:03  DEBUG   :   task       watchdog/3 found, pid: [22]\n",
      "02:18:03  DEBUG   : Lookup for task [warn_collector]...\n",
      "02:18:03  DEBUG   :   task   warn_collector found, pid: [2108]\n",
      "02:18:03  DEBUG   : Lookup for task [kschedfreq:0]...\n",
      "02:18:03  DEBUG   :   task     kschedfreq:0 found, pid: [118]\n",
      "02:18:03  DEBUG   : Lookup for task [shill]...\n",
      "02:18:03  DEBUG   :   task            shill found, pid: [679]\n",
      "02:18:03  DEBUG   : Lookup for task [migration/1]...\n",
      "02:18:03  DEBUG   :   task      migration/1 found, pid: [13]\n",
      "02:18:03  DEBUG   : Lookup for task [init]...\n",
      "02:18:03  DEBUG   :   task             init found, pid: [1]\n",
      "02:18:03  DEBUG   : Lookup for task [dbus-daemon]...\n",
      "02:18:03  DEBUG   :   task      dbus-daemon found, pid: [398]\n",
      "02:18:03  DEBUG   : Lookup for task [dhcpcd]...\n",
      "02:18:03  DEBUG   :   task           dhcpcd found, pid: [843]\n",
      "02:18:03  DEBUG   : Lookup for task [powerd]...\n",
      "02:18:03  DEBUG   :   task           powerd found, pid: [649]\n",
      "02:18:03  DEBUG   : Lookup for task [kworker/0:0]...\n",
      "02:18:03  DEBUG   :   task      kworker/0:0 found, pid: [20323]\n",
      "02:18:03  DEBUG   : Lookup for task [pvr_defer_free]...\n",
      "02:18:03  DEBUG   :   task   pvr_defer_free found, pid: [128]\n",
      "02:18:03  DEBUG   : Lookup for task [update_engine]...\n",
      "02:18:03  DEBUG   :   task    update_engine found, pid: [1264]\n",
      "02:18:03  DEBUG   : Lookup for task [migration/0]...\n",
      "02:18:03  DEBUG   :   task      migration/0 found, pid: [10]\n",
      "02:18:03  DEBUG   : Lookup for task [mtpd]...\n",
      "02:18:03  DEBUG   :   task             mtpd found, pid: [1184]\n",
      "02:18:03  DEBUG   : Lookup for task [udevd]...\n",
      "02:18:03  DEBUG   :   task            udevd found, pid: [166, 20810]\n",
      "02:18:03  DEBUG   : Lookup for task [inotify_reader]...\n",
      "02:18:03  DEBUG   :   task   inotify_reader found, pid: [656]\n",
      "02:18:03  DEBUG   : Lookup for task [kworker/1:1]...\n",
      "02:18:03  DEBUG   :   task      kworker/1:1 found, pid: [88]\n",
      "02:18:03  DEBUG   : Lookup for task [spi32766]...\n",
      "02:18:03  DEBUG   :   task         spi32766 found, pid: [83]\n",
      "02:18:03  DEBUG   : Lookup for task [rm]...\n",
      "02:18:03  DEBUG   :   task               rm found, pid: [20908, 20909, 20915]\n",
      "02:18:03  DEBUG   : Lookup for task [dirname]...\n",
      "02:18:03  DEBUG   :   task          dirname found, pid: [20910, 20911]\n",
      "02:18:03  DEBUG   : Lookup for task [mkdir]...\n",
      "02:18:03  DEBUG   :   task            mkdir found, pid: [20912, 20917]\n",
      "02:18:03  DEBUG   : Lookup for task [dump_vpd_log]...\n",
      "02:18:03  DEBUG   :   task     dump_vpd_log found, pid: [20913]\n",
      "02:18:03  DEBUG   : Lookup for task [sed]...\n",
      "02:18:03  DEBUG   :   task              sed found, pid: [20914]\n",
      "02:18:03  DEBUG   : Lookup for task [sh]...\n",
      "02:18:03  DEBUG   :   task               sh found, pid: [20916, 20924, 20942, 20947, 20950, 20979, 20983, 20986, 20988, 20991]\n",
      "02:18:03  DEBUG   : Lookup for task [date]...\n",
      "02:18:03  DEBUG   :   task             date found, pid: [20918]\n",
      "02:18:03  DEBUG   : Lookup for task [ln]...\n",
      "02:18:03  DEBUG   :   task               ln found, pid: [20919]\n",
      "02:18:03  DEBUG   : Lookup for task [chown]...\n",
      "02:18:03  DEBUG   :   task            chown found, pid: [20920]\n",
      "02:18:03  DEBUG   : Lookup for task [session_manager]...\n",
      "02:18:03  DEBUG   :   task  session_manager found, pid: [20921]\n",
      "02:18:03  DEBUG   : Lookup for task [job-filter]...\n",
      "02:18:03  DEBUG   :   task       job-filter found, pid: [20922]\n",
      "02:18:03  DEBUG   : Lookup for task [chgrp]...\n",
      "02:18:03  DEBUG   :   task            chgrp found, pid: [20925, 20927, 20929, 20932, 20935, 20938]\n",
      "02:18:03  DEBUG   : Lookup for task [chmod]...\n",
      "02:18:03  DEBUG   :   task            chmod found, pid: [20926, 20928, 20930, 20934, 20936, 20940]\n",
      "02:18:03  DEBUG   : Lookup for task [crossystem]...\n",
      "02:18:03  DEBUG   :   task       crossystem found, pid: [20933, 20939, 20951, 20959]\n",
      "02:18:03  DEBUG   : Lookup for task [is_developer_en]...\n",
      "02:18:03  DEBUG   :   task  is_developer_en found, pid: [20937, 20958]\n",
      "02:18:03  DEBUG   : Lookup for task [cat]...\n",
      "02:18:03  DEBUG   :   task              cat found, pid: [20943, 20981, 20984, 20989]\n",
      "02:18:03  DEBUG   : Lookup for task [cp]...\n",
      "02:18:03  DEBUG   :   task               cp found, pid: [20944]\n",
      "02:18:03  DEBUG   : Lookup for task [debugd]...\n",
      "02:18:03  DEBUG   :   task           debugd found, pid: [20945]\n",
      "02:18:03  DEBUG   : Lookup for task [mosys]...\n",
      "02:18:03  DEBUG   :   task            mosys found, pid: [20946]\n",
      "02:18:03  DEBUG   : Lookup for task [which]...\n",
      "02:18:03  DEBUG   :   task            which found, pid: [20948]\n",
      "02:18:03  DEBUG   : Lookup for task [flashrom]...\n",
      "02:18:03  DEBUG   :   task         flashrom found, pid: [20949]\n",
      "02:18:03  DEBUG   : Lookup for task [cryptohome-path]...\n",
      "02:18:03  DEBUG   :   task  cryptohome-path found, pid: [20956]\n",
      "02:18:03  DEBUG   : Lookup for task [minijail0]...\n",
      "02:18:03  DEBUG   :   task        minijail0 found, pid: [20957]\n",
      "02:18:03  DEBUG   : Lookup for task [chrome]...\n",
      "02:18:03  DEBUG   :   task           chrome found, pid: [20960, 20964, 20965, 20975, 20976, 20977]\n",
      "02:18:03  DEBUG   : Lookup for task [sandbox_ipc_thr]...\n",
      "02:18:03  DEBUG   :   task  sandbox_ipc_thr found, pid: [20963]\n",
      "02:18:03  DEBUG   : Lookup for task [df]...\n",
      "02:18:03  DEBUG   :   task               df found, pid: [20970]\n",
      "02:18:03  DEBUG   : Lookup for task [nacl_helper_boo]...\n",
      "02:18:03  DEBUG   :   task  nacl_helper_boo found, pid: [20971, 20972]\n",
      "02:18:03  DEBUG   : Lookup for task [nacl_helper_non]...\n",
      "02:18:03  DEBUG   :   task  nacl_helper_non found, pid: [20973, 20974]\n",
      "02:18:03  DEBUG   : Lookup for task [sudo]...\n",
      "02:18:03  DEBUG   :   task             sudo found, pid: [20978, 20985, 20990]\n",
      "02:18:03  DEBUG   : Lookup for task [shutils]...\n",
      "02:18:03  DEBUG   :   task          shutils found, pid: [20980]\n",
      "02:18:03  DEBUG   : Lookup for task [trace-cmd]...\n",
      "02:18:03  DEBUG   :   task        trace-cmd found, pid: [20992]\n"
     ]
    }
   ],
   "source": [
    "# Load the LISA::Trace parsing module\n",
    "from trace import Trace\n",
    "\n",
    "\n",
    "# The LISA::Trace module is a wrapper of the TRAPpy FTrace module which\n",
    "# allows to keep track of platform specific details to support the generation\n",
    "# of\n",
    "trace = Trace(platform, res_dir, events_to_parse, window=(t_min,t_max))"
   ]
  },
  {
   "cell_type": "markdown",
   "metadata": {},
   "source": [
    "Notice how some platform specific data are collected and reported by the\n",
    "LISA::Trace module"
   ]
  },
  {
   "cell_type": "code",
   "execution_count": 7,
   "metadata": {
    "collapsed": false
   },
   "outputs": [
    {
     "name": "stderr",
     "output_type": "stream",
     "text": [
      "02:18:03  INFO    : List of events identified in the trace:\n",
      "02:18:03  INFO    :    sched_load_avg_task\n",
      "02:18:03  INFO    :    cpu_frequency\n",
      "02:18:03  INFO    :    cpu_capacity\n",
      "02:18:03  INFO    :    cpu_idle\n",
      "02:18:03  INFO    :    sched_tune_boostgroup_update\n",
      "02:18:03  INFO    :    sched_load_avg_cpu\n",
      "02:18:03  INFO    :    sched_boost_cpu\n",
      "02:18:03  INFO    :    sched_wakeup_new\n",
      "02:18:03  INFO    :    sched_tune_config\n",
      "02:18:03  INFO    :    sched_boost_task\n",
      "02:18:03  INFO    :    sched_tune_tasks_update\n",
      "02:18:03  INFO    :    sched_tune_filter\n",
      "02:18:03  INFO    :    sched_energy_diff\n",
      "02:18:03  INFO    :    sched_switch\n",
      "02:18:03  INFO    :    sched_contrib_scale_f\n",
      "02:18:03  INFO    :    sched_wakeup\n"
     ]
    }
   ],
   "source": [
    "# This is the standard TRAPpy::FTrace object, already configured for the\n",
    "# analysis related to the events of interest\n",
    "ftrace = trace.ftrace\n",
    "logging.info(\"List of events identified in the trace:\")\n",
    "for event in ftrace.class_definitions.keys():\n",
    "    logging.info(\"   %s\", event)"
   ]
  },
  {
   "cell_type": "code",
   "execution_count": 8,
   "metadata": {
    "collapsed": false
   },
   "outputs": [
    {
     "data": {
      "text/html": [
       "<div>\n",
       "<table border=\"1\" class=\"dataframe\">\n",
       "  <thead>\n",
       "    <tr style=\"text-align: right;\">\n",
       "      <th></th>\n",
       "      <th>__comm</th>\n",
       "      <th>__cpu</th>\n",
       "      <th>__pid</th>\n",
       "      <th>comm</th>\n",
       "      <th>cpu</th>\n",
       "      <th>load_avg</th>\n",
       "      <th>load_sum</th>\n",
       "      <th>period_contrib</th>\n",
       "      <th>pid</th>\n",
       "      <th>util_avg</th>\n",
       "      <th>util_sum</th>\n",
       "      <th>cluster</th>\n",
       "      <th>min_cluster_cap</th>\n",
       "    </tr>\n",
       "    <tr>\n",
       "      <th>Time</th>\n",
       "      <th></th>\n",
       "      <th></th>\n",
       "      <th></th>\n",
       "      <th></th>\n",
       "      <th></th>\n",
       "      <th></th>\n",
       "      <th></th>\n",
       "      <th></th>\n",
       "      <th></th>\n",
       "      <th></th>\n",
       "      <th></th>\n",
       "      <th></th>\n",
       "      <th></th>\n",
       "    </tr>\n",
       "  </thead>\n",
       "  <tbody>\n",
       "    <tr>\n",
       "      <th>0.000014</th>\n",
       "      <td>&lt;...&gt;</td>\n",
       "      <td>1</td>\n",
       "      <td>20278</td>\n",
       "      <td>trace-cmd</td>\n",
       "      <td>1</td>\n",
       "      <td>58</td>\n",
       "      <td>2811439</td>\n",
       "      <td>916</td>\n",
       "      <td>20278</td>\n",
       "      <td>33</td>\n",
       "      <td>1601714</td>\n",
       "      <td>LITTLE</td>\n",
       "      <td>591</td>\n",
       "    </tr>\n",
       "    <tr>\n",
       "      <th>0.000229</th>\n",
       "      <td>&lt;...&gt;</td>\n",
       "      <td>1</td>\n",
       "      <td>20278</td>\n",
       "      <td>trace-cmd</td>\n",
       "      <td>1</td>\n",
       "      <td>59</td>\n",
       "      <td>2820191</td>\n",
       "      <td>111</td>\n",
       "      <td>20278</td>\n",
       "      <td>33</td>\n",
       "      <td>1612418</td>\n",
       "      <td>LITTLE</td>\n",
       "      <td>591</td>\n",
       "    </tr>\n",
       "    <tr>\n",
       "      <th>0.000334</th>\n",
       "      <td>&lt;idle&gt;</td>\n",
       "      <td>0</td>\n",
       "      <td>0</td>\n",
       "      <td>sh</td>\n",
       "      <td>0</td>\n",
       "      <td>0</td>\n",
       "      <td>0</td>\n",
       "      <td>957</td>\n",
       "      <td>20277</td>\n",
       "      <td>0</td>\n",
       "      <td>0</td>\n",
       "      <td>LITTLE</td>\n",
       "      <td>591</td>\n",
       "    </tr>\n",
       "    <tr>\n",
       "      <th>0.000982</th>\n",
       "      <td>sh</td>\n",
       "      <td>0</td>\n",
       "      <td>20277</td>\n",
       "      <td>sh</td>\n",
       "      <td>0</td>\n",
       "      <td>5</td>\n",
       "      <td>285169</td>\n",
       "      <td>710</td>\n",
       "      <td>20277</td>\n",
       "      <td>3</td>\n",
       "      <td>164585</td>\n",
       "      <td>LITTLE</td>\n",
       "      <td>591</td>\n",
       "    </tr>\n",
       "    <tr>\n",
       "      <th>0.001178</th>\n",
       "      <td>sh</td>\n",
       "      <td>0</td>\n",
       "      <td>20277</td>\n",
       "      <td>sh</td>\n",
       "      <td>0</td>\n",
       "      <td>5</td>\n",
       "      <td>355825</td>\n",
       "      <td>903</td>\n",
       "      <td>20277</td>\n",
       "      <td>3</td>\n",
       "      <td>205364</td>\n",
       "      <td>LITTLE</td>\n",
       "      <td>591</td>\n",
       "    </tr>\n",
       "  </tbody>\n",
       "</table>\n",
       "</div>"
      ],
      "text/plain": [
       "          __comm  __cpu  __pid       comm  cpu  load_avg  load_sum  \\\n",
       "Time                                                                 \n",
       "0.000014   <...>      1  20278  trace-cmd    1        58   2811439   \n",
       "0.000229   <...>      1  20278  trace-cmd    1        59   2820191   \n",
       "0.000334  <idle>      0      0         sh    0         0         0   \n",
       "0.000982      sh      0  20277         sh    0         5    285169   \n",
       "0.001178      sh      0  20277         sh    0         5    355825   \n",
       "\n",
       "          period_contrib    pid  util_avg  util_sum cluster  min_cluster_cap  \n",
       "Time                                                                          \n",
       "0.000014             916  20278        33   1601714  LITTLE              591  \n",
       "0.000229             111  20278        33   1612418  LITTLE              591  \n",
       "0.000334             957  20277         0         0  LITTLE              591  \n",
       "0.000982             710  20277         3    164585  LITTLE              591  \n",
       "0.001178             903  20277         3    205364  LITTLE              591  "
      ]
     },
     "execution_count": 8,
     "metadata": {},
     "output_type": "execute_result"
    }
   ],
   "source": [
    "# Original TRAPpy::FTrace DataSet are still accessible by specifying the\n",
    "# trace event name of interest\n",
    "trace.data_frame.trace_event('sched_load_avg_task').head()"
   ]
  },
  {
   "cell_type": "code",
   "execution_count": 21,
   "metadata": {
    "collapsed": true
   },
   "outputs": [],
   "source": [
    "import trappy"
   ]
  },
  {
   "cell_type": "code",
   "execution_count": 25,
   "metadata": {
    "collapsed": true
   },
   "outputs": [],
   "source": [
    "pid = trace.getTaskByName(\"keygen\")"
   ]
  },
  {
   "cell_type": "code",
   "execution_count": 32,
   "metadata": {
    "collapsed": false
   },
   "outputs": [],
   "source": [
    "ua = Parser(trace.ftrace, filters={\"pid\": pid}).solve(\"sched_load_avg_task:util_avg\")"
   ]
  },
  {
   "cell_type": "code",
   "execution_count": 35,
   "metadata": {
    "collapsed": false
   },
   "outputs": [
    {
     "data": {
      "text/html": [
       "<div>\n",
       "<table border=\"1\" class=\"dataframe\">\n",
       "  <thead>\n",
       "    <tr style=\"text-align: right;\">\n",
       "      <th></th>\n",
       "      <th>20672</th>\n",
       "    </tr>\n",
       "    <tr>\n",
       "      <th>Time</th>\n",
       "      <th></th>\n",
       "    </tr>\n",
       "  </thead>\n",
       "  <tbody>\n",
       "    <tr>\n",
       "      <th>14.917356</th>\n",
       "      <td>980</td>\n",
       "    </tr>\n",
       "    <tr>\n",
       "      <th>14.917371</th>\n",
       "      <td>980</td>\n",
       "    </tr>\n",
       "    <tr>\n",
       "      <th>14.917622</th>\n",
       "      <td>964</td>\n",
       "    </tr>\n",
       "    <tr>\n",
       "      <th>14.917718</th>\n",
       "      <td>964</td>\n",
       "    </tr>\n",
       "    <tr>\n",
       "      <th>14.919364</th>\n",
       "      <td>977</td>\n",
       "    </tr>\n",
       "    <tr>\n",
       "      <th>14.919745</th>\n",
       "      <td>956</td>\n",
       "    </tr>\n",
       "    <tr>\n",
       "      <th>14.920960</th>\n",
       "      <td>961</td>\n",
       "    </tr>\n",
       "    <tr>\n",
       "      <th>14.920999</th>\n",
       "      <td>961</td>\n",
       "    </tr>\n",
       "    <tr>\n",
       "      <th>14.921023</th>\n",
       "      <td>961</td>\n",
       "    </tr>\n",
       "    <tr>\n",
       "      <th>14.921354</th>\n",
       "      <td>961</td>\n",
       "    </tr>\n",
       "    <tr>\n",
       "      <th>14.921692</th>\n",
       "      <td>961</td>\n",
       "    </tr>\n",
       "    <tr>\n",
       "      <th>14.924961</th>\n",
       "      <td>953</td>\n",
       "    </tr>\n",
       "    <tr>\n",
       "      <th>14.924997</th>\n",
       "      <td>953</td>\n",
       "    </tr>\n",
       "    <tr>\n",
       "      <th>14.925784</th>\n",
       "      <td>953</td>\n",
       "    </tr>\n",
       "    <tr>\n",
       "      <th>14.926156</th>\n",
       "      <td>941</td>\n",
       "    </tr>\n",
       "    <tr>\n",
       "      <th>14.926577</th>\n",
       "      <td>941</td>\n",
       "    </tr>\n",
       "    <tr>\n",
       "      <th>14.928959</th>\n",
       "      <td>950</td>\n",
       "    </tr>\n",
       "    <tr>\n",
       "      <th>14.929013</th>\n",
       "      <td>950</td>\n",
       "    </tr>\n",
       "    <tr>\n",
       "      <th>14.929088</th>\n",
       "      <td>950</td>\n",
       "    </tr>\n",
       "    <tr>\n",
       "      <th>14.929855</th>\n",
       "      <td>946</td>\n",
       "    </tr>\n",
       "    <tr>\n",
       "      <th>14.930470</th>\n",
       "      <td>926</td>\n",
       "    </tr>\n",
       "    <tr>\n",
       "      <th>14.932899</th>\n",
       "      <td>936</td>\n",
       "    </tr>\n",
       "    <tr>\n",
       "      <th>14.932943</th>\n",
       "      <td>936</td>\n",
       "    </tr>\n",
       "    <tr>\n",
       "      <th>14.932956</th>\n",
       "      <td>936</td>\n",
       "    </tr>\n",
       "    <tr>\n",
       "      <th>14.932985</th>\n",
       "      <td>936</td>\n",
       "    </tr>\n",
       "    <tr>\n",
       "      <th>14.933047</th>\n",
       "      <td>936</td>\n",
       "    </tr>\n",
       "    <tr>\n",
       "      <th>14.936961</th>\n",
       "      <td>938</td>\n",
       "    </tr>\n",
       "    <tr>\n",
       "      <th>14.936990</th>\n",
       "      <td>938</td>\n",
       "    </tr>\n",
       "    <tr>\n",
       "      <th>14.937016</th>\n",
       "      <td>938</td>\n",
       "    </tr>\n",
       "    <tr>\n",
       "      <th>14.940953</th>\n",
       "      <td>939</td>\n",
       "    </tr>\n",
       "    <tr>\n",
       "      <th>...</th>\n",
       "      <td>...</td>\n",
       "    </tr>\n",
       "    <tr>\n",
       "      <th>23.489216</th>\n",
       "      <td>454</td>\n",
       "    </tr>\n",
       "    <tr>\n",
       "      <th>23.489246</th>\n",
       "      <td>454</td>\n",
       "    </tr>\n",
       "    <tr>\n",
       "      <th>23.492248</th>\n",
       "      <td>427</td>\n",
       "    </tr>\n",
       "    <tr>\n",
       "      <th>23.492965</th>\n",
       "      <td>434</td>\n",
       "    </tr>\n",
       "    <tr>\n",
       "      <th>23.495070</th>\n",
       "      <td>458</td>\n",
       "    </tr>\n",
       "    <tr>\n",
       "      <th>23.497481</th>\n",
       "      <td>439</td>\n",
       "    </tr>\n",
       "    <tr>\n",
       "      <th>23.497518</th>\n",
       "      <td>439</td>\n",
       "    </tr>\n",
       "    <tr>\n",
       "      <th>23.500908</th>\n",
       "      <td>412</td>\n",
       "    </tr>\n",
       "    <tr>\n",
       "      <th>23.500962</th>\n",
       "      <td>412</td>\n",
       "    </tr>\n",
       "    <tr>\n",
       "      <th>23.501264</th>\n",
       "      <td>411</td>\n",
       "    </tr>\n",
       "    <tr>\n",
       "      <th>23.502909</th>\n",
       "      <td>402</td>\n",
       "    </tr>\n",
       "    <tr>\n",
       "      <th>23.502954</th>\n",
       "      <td>402</td>\n",
       "    </tr>\n",
       "    <tr>\n",
       "      <th>23.506435</th>\n",
       "      <td>370</td>\n",
       "    </tr>\n",
       "    <tr>\n",
       "      <th>23.506779</th>\n",
       "      <td>370</td>\n",
       "    </tr>\n",
       "    <tr>\n",
       "      <th>23.507178</th>\n",
       "      <td>370</td>\n",
       "    </tr>\n",
       "    <tr>\n",
       "      <th>23.507190</th>\n",
       "      <td>370</td>\n",
       "    </tr>\n",
       "    <tr>\n",
       "      <th>23.507907</th>\n",
       "      <td>373</td>\n",
       "    </tr>\n",
       "    <tr>\n",
       "      <th>23.507919</th>\n",
       "      <td>373</td>\n",
       "    </tr>\n",
       "    <tr>\n",
       "      <th>23.508129</th>\n",
       "      <td>373</td>\n",
       "    </tr>\n",
       "    <tr>\n",
       "      <th>23.508179</th>\n",
       "      <td>373</td>\n",
       "    </tr>\n",
       "    <tr>\n",
       "      <th>23.511520</th>\n",
       "      <td>343</td>\n",
       "    </tr>\n",
       "    <tr>\n",
       "      <th>23.512962</th>\n",
       "      <td>366</td>\n",
       "    </tr>\n",
       "    <tr>\n",
       "      <th>23.514541</th>\n",
       "      <td>391</td>\n",
       "    </tr>\n",
       "    <tr>\n",
       "      <th>23.515030</th>\n",
       "      <td>391</td>\n",
       "    </tr>\n",
       "    <tr>\n",
       "      <th>23.515059</th>\n",
       "      <td>391</td>\n",
       "    </tr>\n",
       "    <tr>\n",
       "      <th>23.518454</th>\n",
       "      <td>360</td>\n",
       "    </tr>\n",
       "    <tr>\n",
       "      <th>23.520176</th>\n",
       "      <td>381</td>\n",
       "    </tr>\n",
       "    <tr>\n",
       "      <th>23.520239</th>\n",
       "      <td>381</td>\n",
       "    </tr>\n",
       "    <tr>\n",
       "      <th>23.520269</th>\n",
       "      <td>381</td>\n",
       "    </tr>\n",
       "    <tr>\n",
       "      <th>23.520277</th>\n",
       "      <td>381</td>\n",
       "    </tr>\n",
       "  </tbody>\n",
       "</table>\n",
       "<p>2898 rows × 1 columns</p>\n",
       "</div>"
      ],
      "text/plain": [
       "           20672\n",
       "Time            \n",
       "14.917356    980\n",
       "14.917371    980\n",
       "14.917622    964\n",
       "14.917718    964\n",
       "14.919364    977\n",
       "14.919745    956\n",
       "14.920960    961\n",
       "14.920999    961\n",
       "14.921023    961\n",
       "14.921354    961\n",
       "14.921692    961\n",
       "14.924961    953\n",
       "14.924997    953\n",
       "14.925784    953\n",
       "14.926156    941\n",
       "14.926577    941\n",
       "14.928959    950\n",
       "14.929013    950\n",
       "14.929088    950\n",
       "14.929855    946\n",
       "14.930470    926\n",
       "14.932899    936\n",
       "14.932943    936\n",
       "14.932956    936\n",
       "14.932985    936\n",
       "14.933047    936\n",
       "14.936961    938\n",
       "14.936990    938\n",
       "14.937016    938\n",
       "14.940953    939\n",
       "...          ...\n",
       "23.489216    454\n",
       "23.489246    454\n",
       "23.492248    427\n",
       "23.492965    434\n",
       "23.495070    458\n",
       "23.497481    439\n",
       "23.497518    439\n",
       "23.500908    412\n",
       "23.500962    412\n",
       "23.501264    411\n",
       "23.502909    402\n",
       "23.502954    402\n",
       "23.506435    370\n",
       "23.506779    370\n",
       "23.507178    370\n",
       "23.507190    370\n",
       "23.507907    373\n",
       "23.507919    373\n",
       "23.508129    373\n",
       "23.508179    373\n",
       "23.511520    343\n",
       "23.512962    366\n",
       "23.514541    391\n",
       "23.515030    391\n",
       "23.515059    391\n",
       "23.518454    360\n",
       "23.520176    381\n",
       "23.520239    381\n",
       "23.520269    381\n",
       "23.520277    381\n",
       "\n",
       "[2898 rows x 1 columns]"
      ]
     },
     "execution_count": 35,
     "metadata": {},
     "output_type": "execute_result"
    }
   ],
   "source": [
    "ua"
   ]
  },
  {
   "cell_type": "code",
   "execution_count": 29,
   "metadata": {
    "collapsed": false,
    "scrolled": true
   },
   "outputs": [
    {
     "data": {
      "text/plain": [
       "2836"
      ]
     },
     "execution_count": 29,
     "metadata": {},
     "output_type": "execute_result"
    }
   ],
   "source": [
    "len(trace.analysis.tasks.getTaskSignal(\"keygen\", \"sched_load_avg_task:util_avg\"))"
   ]
  },
  {
   "cell_type": "markdown",
   "metadata": {},
   "source": [
    "# LISA Tasks Filtering Functions"
   ]
  },
  {
   "cell_type": "code",
   "execution_count": null,
   "metadata": {
    "collapsed": false
   },
   "outputs": [],
   "source": [
    "trace.setXTimeRange(t_min, t_max)"
   ]
  },
  {
   "cell_type": "markdown",
   "metadata": {},
   "source": [
    "## Top BIG tasks"
   ]
  },
  {
   "cell_type": "code",
   "execution_count": null,
   "metadata": {
    "collapsed": false
   },
   "outputs": [],
   "source": [
    "# Get a list of tasks which are the most big in the trace\n",
    "top_big_tasks = trace.data_frame.top_big_tasks(\n",
    "    min_utilization=None, # Minimum utilization to be considered \"big\"\n",
    "                          # default: LITTLE CPUs max capacity\n",
    "    min_samples=100,      # Number of samples over the minimum utilization \n",
    ")"
   ]
  },
  {
   "cell_type": "code",
   "execution_count": null,
   "metadata": {
    "collapsed": false
   },
   "outputs": [],
   "source": [
    "# The collected information is available for further analysis\n",
    "top_big_tasks"
   ]
  },
  {
   "cell_type": "code",
   "execution_count": null,
   "metadata": {
    "collapsed": false,
    "scrolled": false
   },
   "outputs": [],
   "source": [
    "# Plot utilization of \"big\" tasks decorated with platform specific capacity information\n",
    "trace.analysis.tasks.plotBigTasks()"
   ]
  },
  {
   "cell_type": "markdown",
   "metadata": {},
   "source": [
    "## Top WAKEUP tasks"
   ]
  },
  {
   "cell_type": "code",
   "execution_count": null,
   "metadata": {
    "collapsed": false
   },
   "outputs": [],
   "source": [
    "top_wakeup_tasks = trace.data_frame.top_wakeup_tasks(\n",
    "    min_wakeups=100  # Minimum number of wakeup to be reported\n",
    ")"
   ]
  },
  {
   "cell_type": "code",
   "execution_count": null,
   "metadata": {
    "collapsed": false
   },
   "outputs": [],
   "source": [
    "top_wakeup_tasks.head()"
   ]
  },
  {
   "cell_type": "markdown",
   "metadata": {},
   "source": [
    "### Wakeup vs Forks"
   ]
  },
  {
   "cell_type": "code",
   "execution_count": null,
   "metadata": {
    "collapsed": false
   },
   "outputs": [],
   "source": [
    "trace.analysis.tasks.plotWakeupTasks(per_cluster=False)"
   ]
  },
  {
   "cell_type": "markdown",
   "metadata": {},
   "source": [
    "### Wakeup per cluster"
   ]
  },
  {
   "cell_type": "code",
   "execution_count": null,
   "metadata": {
    "collapsed": false
   },
   "outputs": [],
   "source": [
    "trace.analysis.tasks.plotWakeupTasks(per_cluster=True)"
   ]
  },
  {
   "cell_type": "markdown",
   "metadata": {},
   "source": [
    "## RT Tasks"
   ]
  },
  {
   "cell_type": "code",
   "execution_count": null,
   "metadata": {
    "collapsed": false
   },
   "outputs": [],
   "source": [
    "trace.data_frame.rt_tasks(min_prio=100)"
   ]
  },
  {
   "cell_type": "markdown",
   "metadata": {},
   "source": [
    "# Predefined LISA analysis Functions"
   ]
  },
  {
   "cell_type": "markdown",
   "metadata": {},
   "source": [
    "**Trace** class provides an **analysis** object that allows to perform several types of analysis on data contained in the trace. Currently available analysis types are:\n",
    "\n",
    "| Analysis Object | Description                           |\n",
    "|-----------------|---------------------------------------|\n",
    "| `cpus`          | CPUs Analysis                         |\n",
    "| `eas`           | EAS-specific functionalities Analysis |\n",
    "| `functions`     | Functions Profiling Analysis          |\n",
    "| `frequency`     | Frequency Analysis                    |\n",
    "| `status`        | System Status Analysis                |\n",
    "| `tasks`         | Tasks Analysis                        |\n",
    "\n",
    " \n",
    " Those are easily accessible via:\n",
    " \n",
    " ```python\n",
    " trace.analysis.<analysis_object>\n",
    " ```"
   ]
  },
  {
   "cell_type": "code",
   "execution_count": null,
   "metadata": {
    "collapsed": false
   },
   "outputs": [],
   "source": [
    "# Define time ranges for all the time based plots\n",
    "trace.setXTimeRange(t_min, t_max)"
   ]
  },
  {
   "cell_type": "code",
   "execution_count": null,
   "metadata": {
    "collapsed": false,
    "scrolled": false
   },
   "outputs": [],
   "source": [
    "trace.analysis.tasks.plotTasks(top_big_tasks.index.tolist())"
   ]
  },
  {
   "cell_type": "code",
   "execution_count": null,
   "metadata": {
    "collapsed": false
   },
   "outputs": [],
   "source": [
    "# Cluster frequencies\n",
    "trace.analysis.frequency.plotClusterFrequencies()"
   ]
  },
  {
   "cell_type": "code",
   "execution_count": null,
   "metadata": {
    "collapsed": false
   },
   "outputs": [],
   "source": [
    "# Plots SchedTune's Energy-Diff Space Filtering\n",
    "trace.analysis.eas.plotEDiffTime()"
   ]
  }
 ],
 "metadata": {
  "kernelspec": {
   "display_name": "Python 2",
   "language": "python",
   "name": "python2"
  },
  "language_info": {
   "codemirror_mode": {
    "name": "ipython",
    "version": 2
   },
   "file_extension": ".py",
   "mimetype": "text/x-python",
   "name": "python",
   "nbconvert_exporter": "python",
   "pygments_lexer": "ipython2",
   "version": "2.7.6"
  },
  "toc": {
   "toc_cell": false,
   "toc_number_sections": true,
   "toc_threshold": 6,
   "toc_window_display": false
  }
 },
 "nbformat": 4,
 "nbformat_minor": 0
}
