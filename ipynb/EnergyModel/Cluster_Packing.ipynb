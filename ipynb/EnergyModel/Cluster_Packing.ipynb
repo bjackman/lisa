{
 "cells": [
  {
   "cell_type": "code",
   "execution_count": 105,
   "metadata": {
    "collapsed": false
   },
   "outputs": [
    {
     "name": "stderr",
     "output_type": "stream",
     "text": [
      "2017-02-03 15:37:09,101 INFO    : root         : Using LISA logging configuration:\n",
      "2017-02-03 15:37:09,102 INFO    : root         :   /home/brejac01/sources/lisa/logging.conf\n"
     ]
    }
   ],
   "source": [
    "# Various setup, probably mostly unused\n",
    "\n",
    "from env import TestEnv\n",
    "import pandas as pd\n",
    "import json\n",
    "import os\n",
    "from conf import LisaLogging\n",
    "from bart.common.Utils import area_under_curve\n",
    "from trappy.plotter import plot_trace\n",
    "from IPython.display import display\n",
    "from trappy import ILinePlot\n",
    "from trappy.stats.grammar import Parser\n",
    "import pandas as pd\n",
    "from trace import Trace\n",
    "LisaLogging.setup()\n",
    "import logging\n",
    "logging.getLogger('Trace').setLevel(logging.ERROR)\n",
    "logging.getLogger('Analysis').setLevel(logging.WARNING)\n",
    "%matplotlib inline\n",
    "from platforms.juno_energy import juno_energy\n",
    "from platforms.pixel_energy import pixel_energy\n",
    "import tests.eas.generic\n",
    "from tests.eas.generic import EnergyModelTest\n",
    "import numpy as np\n",
    "from IPython.display import display\n",
    "from wlgen import RTA, Periodic"
   ]
  },
  {
   "cell_type": "code",
   "execution_count": 2,
   "metadata": {
    "collapsed": true
   },
   "outputs": [],
   "source": [
    "# Some nonsense to get caiman to work on Brendan's computer\n",
    "p = os.getenv('PATH').split(':')\n",
    "caiman_path = '/opt/ds5_v5.23.0/bin'\n",
    "if caiman_path not in p:\n",
    "    p.insert(0, caiman_path)\n",
    "    os.environ['PATH'] = ':'.join(p)"
   ]
  },
  {
   "cell_type": "code",
   "execution_count": 3,
   "metadata": {
    "collapsed": true
   },
   "outputs": [],
   "source": [
    "from platforms.juno_energy import juno_energy"
   ]
  },
  {
   "cell_type": "code",
   "execution_count": 4,
   "metadata": {
    "collapsed": true
   },
   "outputs": [],
   "source": [
    "from platforms.hikey_energy import hikey_energy"
   ]
  },
  {
   "cell_type": "code",
   "execution_count": 5,
   "metadata": {
    "collapsed": true
   },
   "outputs": [],
   "source": [
    "def get_nrg(model, util):\n",
    "    nrg = model.estimate_from_cpu_util(util, zero_idle=True)\n",
    "    return sum(nrg.values())"
   ]
  },
  {
   "cell_type": "code",
   "execution_count": 6,
   "metadata": {
    "collapsed": false
   },
   "outputs": [],
   "source": [
    "def spread_evenly(ntasks, ncpus):\n",
    "    ret = [0 for _ in range(ncpus)]\n",
    "    for i in range(ntasks):\n",
    "        ret[i % ncpus] += 1\n",
    "    return ret\n",
    "\n",
    "def get_various_packing_placements(ntasks, ncpus):\n",
    "    max_spread = spread_evenly(ntasks, ncpus)\n",
    "    \n",
    "    max_pack = [ntasks] + [0] * (ncpus - 1)\n",
    "    \n",
    "    half_pack = [ntasks / 2] + spread_evenly(ntasks - (ntasks / 2), ncpus -1)\n",
    "    \n",
    "    return [max_spread, half_pack, max_pack]"
   ]
  },
  {
   "cell_type": "code",
   "execution_count": 110,
   "metadata": {
    "collapsed": false
   },
   "outputs": [
    {
     "name": "stderr",
     "output_type": "stream",
     "text": [
      "2017-02-03 15:39:47,864 INFO    : TestEnv      : Using base path: /home/brejac01/sources/lisa\n",
      "2017-02-03 15:39:47,866 INFO    : TestEnv      : Loading default (file) target configuration\n",
      "2017-02-03 15:39:47,867 INFO    : TestEnv      : Loading target configuration [/home/brejac01/sources/lisa/target.config]...\n",
      "2017-02-03 15:39:47,871 INFO    : TestEnv      : Loading custom (inline) test configuration\n",
      "2017-02-03 15:39:47,872 INFO    : TestEnv      : External tools using:\n",
      "2017-02-03 15:39:47,873 INFO    : TestEnv      :    ANDROID_HOME: /work/android-sdk-linux\n",
      "2017-02-03 15:39:47,874 INFO    : TestEnv      :    CATAPULT_HOME: /home/brejac01/sources/lisa/tools/catapult\n",
      "2017-02-03 15:39:47,876 INFO    : TestEnv      : Devlib modules to load: ['cpuidle', 'cgroups', 'cpufreq']\n",
      "2017-02-03 15:39:47,877 INFO    : TestEnv      : Connecting Android target [04D314DF000BC57F]\n",
      "2017-02-03 15:39:47,878 INFO    : TestEnv      : Connection settings:\n",
      "2017-02-03 15:39:47,879 INFO    : TestEnv      :    {'device': u'04D314DF000BC57F'}\n",
      "2017-02-03 15:39:49,714 INFO    : TestEnv      : Initializing target workdir:\n",
      "2017-02-03 15:39:49,716 INFO    : TestEnv      :    /data/local/tmp/devlib-target\n",
      "2017-02-03 15:39:51,806 INFO    : CGroups      : Available controllers:\n",
      "2017-02-03 15:39:52,581 INFO    : CGroups      :   cpuset       : /data/local/tmp/devlib-target/cgroups/devlib_cgh5\n",
      "2017-02-03 15:39:53,300 INFO    : CGroups      :   cpu          : /data/local/tmp/devlib-target/cgroups/devlib_cgh4\n",
      "2017-02-03 15:39:54,021 INFO    : CGroups      :   cpuacct      : /data/local/tmp/devlib-target/cgroups/devlib_cgh1\n",
      "2017-02-03 15:39:54,749 INFO    : CGroups      :   schedtune    : /data/local/tmp/devlib-target/cgroups/devlib_cgh2\n",
      "2017-02-03 15:39:55,487 INFO    : CGroups      :   blkio        : /data/local/tmp/devlib-target/cgroups/devlib_cgh0\n",
      "2017-02-03 15:39:56,241 INFO    : CGroups      :   memory       : /data/local/tmp/devlib-target/cgroups/devlib_cgh3\n",
      "2017-02-03 15:39:56,618 INFO    : CGroups      :   devices      : /data/local/tmp/devlib-target/cgroups/devlib_cgh0\n",
      "2017-02-03 15:39:56,999 INFO    : CGroups      :   freezer      : /data/local/tmp/devlib-target/cgroups/devlib_cgh0\n",
      "2017-02-03 15:39:57,368 INFO    : CGroups      :   hugetlb      : /data/local/tmp/devlib-target/cgroups/devlib_cgh0\n",
      "2017-02-03 15:39:57,735 INFO    : CGroups      :   debug        : /data/local/tmp/devlib-target/cgroups/devlib_cgh0\n",
      "2017-02-03 15:39:58,646 INFO    : TestEnv      : Topology:\n",
      "2017-02-03 15:39:58,648 INFO    : TestEnv      :    [[0, 1, 2, 3, 4, 5, 6, 7]]\n",
      "2017-02-03 15:39:58,757 INFO    : TestEnv      : Loading default EM:\n",
      "2017-02-03 15:39:58,759 INFO    : TestEnv      :    /home/brejac01/sources/lisa/libs/utils/platforms/hikey.json\n",
      "2017-02-03 15:39:59,903 INFO    : TestEnv      : Enabled tracepoints:\n",
      "2017-02-03 15:39:59,905 INFO    : TestEnv      :    sched_switch\n",
      "2017-02-03 15:39:59,907 INFO    : TestEnv      : Set results folder to:\n",
      "2017-02-03 15:39:59,908 INFO    : TestEnv      :    /home/brejac01/sources/lisa/results/20170203_153959\n",
      "2017-02-03 15:39:59,909 INFO    : TestEnv      : Experiment results available also in:\n",
      "2017-02-03 15:39:59,910 INFO    : TestEnv      :    /home/brejac01/sources/lisa/results_latest\n"
     ]
    }
   ],
   "source": [
    "te = TestEnv(test_conf={'modules': ['cgroups'], 'ftrace': {'events': ['sched_switch']}}, force_new=True)"
   ]
  },
  {
   "cell_type": "code",
   "execution_count": null,
   "metadata": {
    "collapsed": true
   },
   "outputs": [],
   "source": [
    "def get_everything(nrg_model, cpu=0, task_pct=4):\n",
    "    cpu_node = nrg_model.cpu_nodes[cpu]\n",
    "    cluster_node = cpu_node.parent\n",
    "    ncpus = len(cluster_node.cpus)\n",
    "    min_cap = cpu_node.min_capacity\n",
    "    task_cap = int(1024 * (task_pct / 100.))\n",
    "    \n",
    "    tasks_per_cpu = int(min_cap / task_cap)\n",
    "    task_distribs = get_various_packing_placements(tasks_per_cpu * ncpus, ncpus)\n",
    "    \n",
    "    util_distribs = []\n",
    "    wloads = []\n",
    "    for task_distrib in task_distribs:\n",
    "        util_distrib = [0 for _ in range(len(nrg_model.cpus))]\n",
    "        for i, num_tasks_on_cpu in enumerate(task_distrib):\n",
    "            util_distrib[cluster_node.cpus[i]] = num_tasks_on_cpu * task_cap\n",
    "        util_distribs.append(util_distrib)\n",
    "        \n",
    "    return util_distribs\n",
    "\n",
    "    wload = RTA(te.target, 'periodic_{}x_{}pct', te.calibration())\n",
    "    \n",
    "\n",
    "    for task_distrib in task_distr"
   ]
  },
  {
   "cell_type": "code",
   "execution_count": 96,
   "metadata": {
    "collapsed": true
   },
   "outputs": [],
   "source": [
    "def get_task_distribs(nrg_model, cpu=0, task_pct=4):\n",
    "    cpu_node = nrg_model.cpu_nodes[cpu]\n",
    "    cluster_node = cpu_node.parent\n",
    "    ncpus = len(cluster_node.cpus)\n",
    "    min_cap = cpu_node.min_capacity\n",
    "    \n",
    "    task_cap = int(1024 * (task_pct / 100.))\n",
    "    \n",
    "    tasks_per_cpu = int(min_cap / task_cap)\n",
    "    task_distribs = get_various_packing_placements(tasks_per_cpu * ncpus, ncpus)\n",
    "    return task_distribs"
   ]
  },
  {
   "cell_type": "code",
   "execution_count": 101,
   "metadata": {
    "collapsed": false
   },
   "outputs": [],
   "source": [
    "def get_util_distribs(nrg_model, task_distribs=None, cpu=0, task_pct=4):\n",
    "    if task_distribs == None:\n",
    "        task_distribs = get_task_distribs(nrg_model, cpu, task_pct)\n",
    "    util_distribs = []\n",
    "    \n",
    "    task_cap = int(1024 * (task_pct / 100.))\n",
    "    cpu_node = nrg_model.cpu_nodes[cpu]\n",
    "    cluster_node = cpu_node.parent\n",
    "    \n",
    "    for task_distrib in task_distribs:\n",
    "        util_distrib = [0 for _ in range(len(nrg_model.cpus))]\n",
    "        for i, num_tasks_on_cpu in enumerate(task_distrib):\n",
    "            util_distrib[cluster_node.cpus[i]] = num_tasks_on_cpu * task_cap\n",
    "        util_distribs.append(util_distrib)\n",
    "    return util_distribs"
   ]
  },
  {
   "cell_type": "code",
   "execution_count": null,
   "metadata": {
    "collapsed": true
   },
   "outputs": [],
   "source": [
    "def get_wloads(nrg_model, task_distribs=None, cpu=0, task_pct=4):\n",
    "    if task_distribs == None:\n",
    "        task_distribs = get_task_distribs(nrg_model, cpu, task_pct)\n",
    "    for task_distrib in "
   ]
  },
  {
   "cell_type": "code",
   "execution_count": 102,
   "metadata": {
    "collapsed": false
   },
   "outputs": [
    {
     "data": {
      "text/plain": [
       "{(0,): 63.53932584269663,\n",
       " (0, 1, 2, 3): 25.20224719101124,\n",
       " (1,): 63.53932584269663,\n",
       " (2,): 63.53932584269663,\n",
       " (3,): 63.53932584269663,\n",
       " (4,): 0.0,\n",
       " (4, 5, 6, 7): 0.0,\n",
       " (5,): 0.0,\n",
       " (6,): 0.0,\n",
       " (7,): 0.0}"
      ]
     },
     "metadata": {},
     "output_type": "display_data"
    },
    {
     "data": {
      "text/plain": [
       "{(0,): 110.39295392953929,\n",
       " (0, 1, 2, 3): 39.35772357723577,\n",
       " (1,): 50.77235772357723,\n",
       " (2,): 50.77235772357723,\n",
       " (3,): 38.84823848238482,\n",
       " (4,): 0.0,\n",
       " (4, 5, 6, 7): 0.0,\n",
       " (5,): 0.0,\n",
       " (6,): 0.0,\n",
       " (7,): 0.0}"
      ]
     },
     "metadata": {},
     "output_type": "display_data"
    },
    {
     "data": {
      "text/plain": [
       "{(0,): 290.06715506715506,\n",
       " (0, 1, 2, 3): 81.993894993895,\n",
       " (1,): 0.0,\n",
       " (2,): 0.0,\n",
       " (3,): 0.0,\n",
       " (4,): 0.0,\n",
       " (4, 5, 6, 7): 0.0,\n",
       " (5,): 0.0,\n",
       " (6,): 0.0,\n",
       " (7,): 0.0}"
      ]
     },
     "metadata": {},
     "output_type": "display_data"
    }
   ],
   "source": [
    "util_distribs = get_util_distribs(hikey_energy)\n",
    "for ud in util_distribs:\n",
    "    display(hikey_energy.estimate_from_cpu_util(ud))"
   ]
  },
  {
   "cell_type": "code",
   "execution_count": 8,
   "metadata": {
    "collapsed": false
   },
   "outputs": [
    {
     "data": {
      "text/plain": [
       "178"
      ]
     },
     "execution_count": 8,
     "metadata": {},
     "output_type": "execute_result"
    }
   ],
   "source": [
    "hikey_energy.cpu_nodes[0].min_capacity"
   ]
  }
 ],
 "metadata": {
  "kernelspec": {
   "display_name": "Python 2",
   "language": "python",
   "name": "python2"
  },
  "language_info": {
   "codemirror_mode": {
    "name": "ipython",
    "version": 2
   },
   "file_extension": ".py",
   "mimetype": "text/x-python",
   "name": "python",
   "nbconvert_exporter": "python",
   "pygments_lexer": "ipython2",
   "version": "2.7.6"
  }
 },
 "nbformat": 4,
 "nbformat_minor": 0
}
