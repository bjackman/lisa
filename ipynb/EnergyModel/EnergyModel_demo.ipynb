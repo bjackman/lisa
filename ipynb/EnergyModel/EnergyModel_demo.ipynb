{
 "cells": [
  {
   "cell_type": "code",
   "execution_count": 1,
   "metadata": {
    "collapsed": true
   },
   "outputs": [],
   "source": [
    "%matplotlib inline"
   ]
  },
  {
   "cell_type": "code",
   "execution_count": 2,
   "metadata": {
    "collapsed": true
   },
   "outputs": [],
   "source": [
    "import pandas as pd"
   ]
  },
  {
   "cell_type": "code",
   "execution_count": 3,
   "metadata": {
    "collapsed": true
   },
   "outputs": [],
   "source": [
    "from platforms.juno_energy import juno_energy\n",
    "model = juno_energy"
   ]
  },
  {
   "cell_type": "markdown",
   "metadata": {},
   "source": [
    "# LISA EnergyModel overview"
   ]
  },
  {
   "cell_type": "markdown",
   "metadata": {},
   "source": [
    "## Find Required frequencies to satisfy throughput\n",
    "`EnergyModel` knows the CPU capacites at each frequency, and knows about frequency domains. `guess_freqs` tells you which frequencies should be picked for a utilization scenario:"
   ]
  },
  {
   "cell_type": "code",
   "execution_count": 16,
   "metadata": {
    "collapsed": false
   },
   "outputs": [
    {
     "data": {
      "text/plain": [
       "[850000, 450000, 450000, 850000, 850000, 850000]"
      ]
     },
     "execution_count": 16,
     "metadata": {},
     "output_type": "execute_result"
    }
   ],
   "source": [
    "model.guess_freqs([800, 0, 0, 0, 0, 0])"
   ]
  },
  {
   "cell_type": "code",
   "execution_count": 17,
   "metadata": {
    "collapsed": false
   },
   "outputs": [
    {
     "data": {
      "text/plain": [
       "[700000, 950000, 950000, 700000, 700000, 700000]"
      ]
     },
     "execution_count": 17,
     "metadata": {},
     "output_type": "execute_result"
    }
   ],
   "source": [
    "model.guess_freqs([0, 800, 300, 0, 350, 0])"
   ]
  },
  {
   "cell_type": "markdown",
   "metadata": {},
   "source": [
    "## Estimate energy from CPU utilization\n",
    "\n",
    "This is running on an ARM Juno system, 6 CPUs:\n",
    "- bigs: 1, 2\n",
    "- LITTEs: 0, 3, 4, 5\n",
    "\n",
    "The EnergyModel class lets you estimate power consumption, using a method similar to EAS, using the utilization of each CPU as input.\n",
    "\n",
    "Utilization means how much time the CPU spends active, in the range 0-1024.\n",
    "\n",
    "So `[200, 0, 0, 0, 0, 0]` means CPU0 is running a ~20% task or 2 x ~10% tasks, other CPUs are idle\n",
    "\n",
    "`estimate_from_cpu_util` returns a dictionary mapping topology nodes (keyed by tuple of consituent CPUs) to power estimation."
   ]
  },
  {
   "cell_type": "code",
   "execution_count": 4,
   "metadata": {
    "collapsed": false
   },
   "outputs": [
    {
     "data": {
      "text/plain": [
       "{(0,): 28.97872340425532,\n",
       " (0, 3, 4, 5): 30.46808510638298,\n",
       " (1,): 0.0,\n",
       " (1, 2): 24.0,\n",
       " (2,): 0.0,\n",
       " (3,): 0.0,\n",
       " (4,): 0.0,\n",
       " (5,): 0.0}"
      ]
     },
     "execution_count": 4,
     "metadata": {},
     "output_type": "execute_result"
    }
   ],
   "source": [
    "nrg = model.estimate_from_cpu_util([200, 0, 0, 0, 0, 0])\n",
    "nrg"
   ]
  },
  {
   "cell_type": "code",
   "execution_count": 5,
   "metadata": {
    "collapsed": false
   },
   "outputs": [
    {
     "data": {
      "text/plain": [
       "83.4468085106383"
      ]
     },
     "execution_count": 5,
     "metadata": {},
     "output_type": "execute_result"
    }
   ],
   "source": [
    "sum(nrg.values())"
   ]
  },
  {
   "cell_type": "code",
   "execution_count": 6,
   "metadata": {
    "collapsed": false
   },
   "outputs": [
    {
     "data": {
      "text/plain": [
       "{(0,): 0.0,\n",
       " (0, 3, 4, 5): 17.0,\n",
       " (1,): 88.38129496402877,\n",
       " (1, 2): 45.33573141486811,\n",
       " (2,): 0.0,\n",
       " (3,): 0.0,\n",
       " (4,): 0.0,\n",
       " (5,): 0.0}"
      ]
     },
     "execution_count": 6,
     "metadata": {},
     "output_type": "execute_result"
    }
   ],
   "source": [
    "nrg = model.estimate_from_cpu_util([0, 200, 0, 0, 0, 0])\n",
    "nrg"
   ]
  },
  {
   "cell_type": "code",
   "execution_count": 7,
   "metadata": {
    "collapsed": false
   },
   "outputs": [
    {
     "data": {
      "text/plain": [
       "150.7170263788969"
      ]
     },
     "execution_count": 7,
     "metadata": {},
     "output_type": "execute_result"
    }
   ],
   "source": [
    "sum(nrg.values())"
   ]
  },
  {
   "cell_type": "markdown",
   "metadata": {},
   "source": [
    "## Find best way to distribute work\n",
    "`get_optimal_placements` takes a map of tasks to task sizes (in 0-1024), and searches for the best allocation of work that minimizes energy without overloading any CPU\n",
    "\n",
    "Brute force - $O(ncpus ^{ntasks})$. Could be made faster by Doing Computer Science"
   ]
  },
  {
   "cell_type": "code",
   "execution_count": 19,
   "metadata": {
    "collapsed": false
   },
   "outputs": [
    {
     "data": {
      "text/plain": [
       "[(400, 0, 0, 150, 0, 0),\n",
       " (400, 0, 0, 0, 150, 0),\n",
       " (150, 0, 0, 0, 0, 400),\n",
       " (0, 0, 0, 400, 0, 150),\n",
       " (0, 0, 0, 400, 150, 0),\n",
       " (400, 0, 0, 0, 0, 150),\n",
       " (0, 0, 0, 150, 0, 400),\n",
       " (0, 0, 0, 0, 400, 150),\n",
       " (150, 0, 0, 400, 0, 0),\n",
       " (0, 0, 0, 150, 400, 0),\n",
       " (150, 0, 0, 0, 400, 0),\n",
       " (0, 0, 0, 0, 150, 400)]"
      ]
     },
     "execution_count": 19,
     "metadata": {},
     "output_type": "execute_result"
    }
   ],
   "source": [
    "tasks = {'task1': 150, 'task2': 400}\n",
    "placements = model.get_optimal_placements(tasks)\n",
    "placements"
   ]
  },
  {
   "cell_type": "code",
   "execution_count": 9,
   "metadata": {
    "collapsed": false
   },
   "outputs": [
    {
     "data": {
      "image/png": "[encoded data removed]",
      "text/plain": [
       "<matplotlib.figure.Figure at 0x7f3228021a90>"
      ]
     },
     "metadata": {},
     "output_type": "display_data"
    },
    {
     "data": {
      "image/png": "[encoded data removed]",
      "text/plain": [
       "<matplotlib.figure.Figure at 0x7f3228021ed0>"
      ]
     },
     "metadata": {},
     "output_type": "display_data"
    },
    {
     "data": {
      "image/png": "[encoded data removed]",
      "text/plain": [
       "<matplotlib.figure.Figure at 0x7f32280217d0>"
      ]
     },
     "metadata": {},
     "output_type": "display_data"
    },
    {
     "data": {
      "image/png": "[encoded data removed]",
      "text/plain": [
       "<matplotlib.figure.Figure at 0x7f3228021f10>"
      ]
     },
     "metadata": {},
     "output_type": "display_data"
    },
    {
     "data": {
      "image/png": "[encoded data removed]",
      "text/plain": [
       "<matplotlib.figure.Figure at 0x7f3228021f50>"
      ]
     },
     "metadata": {},
     "output_type": "display_data"
    },
    {
     "data": {
      "image/png": "[encoded data removed]",
      "text/plain": [
       "<matplotlib.figure.Figure at 0x7f3228021e50>"
      ]
     },
     "metadata": {},
     "output_type": "display_data"
    },
    {
     "data": {
      "image/png": "[encoded data removed]",
      "text/plain": [
       "<matplotlib.figure.Figure at 0x7f3227fc3050>"
      ]
     },
     "metadata": {},
     "output_type": "display_data"
    },
    {
     "data": {
      "image/png": "[encoded data removed]",
      "text/plain": [
       "<matplotlib.figure.Figure at 0x7f322c7da550>"
      ]
     },
     "metadata": {},
     "output_type": "display_data"
    },
    {
     "data": {
      "image/png": "[encoded data removed]",
      "text/plain": [
       "<matplotlib.figure.Figure at 0x7f3225f92650>"
      ]
     },
     "metadata": {},
     "output_type": "display_data"
    },
    {
     "data": {
      "image/png": "[encoded data removed]",
      "text/plain": [
       "<matplotlib.figure.Figure at 0x7f3225e28390>"
      ]
     },
     "metadata": {},
     "output_type": "display_data"
    },
    {
     "data": {
      "image/png": "[encoded data removed]",
      "text/plain": [
       "<matplotlib.figure.Figure at 0x7f3225d14290>"
      ]
     },
     "metadata": {},
     "output_type": "display_data"
    },
    {
     "data": {
      "image/png": "[encoded data removed]",
      "text/plain": [
       "<matplotlib.figure.Figure at 0x7f3225b5ee90>"
      ]
     },
     "metadata": {},
     "output_type": "display_data"
    }
   ],
   "source": [
    "for placement in placements:\n",
    "    pd.DataFrame(list(placement)).plot(kind='bar')"
   ]
  }
 ],
 "metadata": {
  "kernelspec": {
   "display_name": "Python 2",
   "language": "python",
   "name": "python2"
  },
  "language_info": {
   "codemirror_mode": {
    "name": "ipython",
    "version": 2
   },
   "file_extension": ".py",
   "mimetype": "text/x-python",
   "name": "python",
   "nbconvert_exporter": "python",
   "pygments_lexer": "ipython2",
   "version": "2.7.6"
  }
 },
 "nbformat": 4,
 "nbformat_minor": 0
}
