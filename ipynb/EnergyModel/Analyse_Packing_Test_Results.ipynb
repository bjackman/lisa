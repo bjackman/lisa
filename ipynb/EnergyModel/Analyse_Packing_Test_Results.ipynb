{
 "cells": [
  {
   "cell_type": "code",
   "execution_count": 99,
   "metadata": {
    "collapsed": false
   },
   "outputs": [
    {
     "name": "stderr",
     "output_type": "stream",
     "text": [
      "2017-03-16 14:00:03,644 INFO    : root         : Using LISA logging configuration:\n",
      "2017-03-16 14:00:03,645 INFO    : root         :   /home/brejac01/sources/lisa/logging.conf\n"
     ]
    },
    {
     "name": "stdout",
     "output_type": "stream",
     "text": [
      "The autoreload extension is already loaded. To reload it, use:\n",
      "  %reload_ext autoreload\n"
     ]
    }
   ],
   "source": [
    "from trace import Trace\n",
    "import pandas as pd\n",
    "import os\n",
    "from executor import Executor\n",
    "from conf import LisaLogging\n",
    "LisaLogging.setup()\n",
    "import json\n",
    "from env import TestEnv\n",
    "from trappy.stats.Topology import Topology\n",
    "from bart.sched.SchedMultiAssert import SchedMultiAssert\n",
    "from bart.sched.SchedAssert import SchedAssert\n",
    "import json\n",
    "from trappy.plotter import plot_trace\n",
    "\n",
    "%matplotlib inline\n",
    "%load_ext autoreload\n",
    "%autoreload 2"
   ]
  },
  {
   "cell_type": "code",
   "execution_count": 2,
   "metadata": {
    "collapsed": false
   },
   "outputs": [],
   "source": [
    "results_dir = '/home/brejac01/sources/lisa/results/20170316_102548'"
   ]
  },
  {
   "cell_type": "code",
   "execution_count": 36,
   "metadata": {
    "collapsed": false
   },
   "outputs": [],
   "source": [
    "platform = TestEnv.load_platform(results_dir)\n",
    "# fix hikey\n",
    "if platform['topology'] == [[0, 1, 2, 3, 4, 5, 6, 7]]:\n",
    "    platform['topology'] = [[0, 1, 2, 3], [4, 5, 6, 7]]\n",
    "topology = Topology(clusters = platform['topology'])"
   ]
  },
  {
   "cell_type": "code",
   "execution_count": 3,
   "metadata": {
    "collapsed": false
   },
   "outputs": [
    {
     "name": "stderr",
     "output_type": "stream",
     "text": [
      "2017-03-16 11:43:44,418 WARNING : Executor     : Reconstructing Experiment.wload not yet supported, will be None\n",
      "2017-03-16 11:43:44,419 WARNING : Executor     : Reconstructing Experiment.conf not yet supported, will be None\n"
     ]
    }
   ],
   "source": [
    "experiments = Executor.find_experiments(results_dir)"
   ]
  },
  {
   "cell_type": "code",
   "execution_count": 11,
   "metadata": {
    "collapsed": true
   },
   "outputs": [
    {
     "name": "stderr",
     "output_type": "stream",
     "text": [
      "2017-03-16 12:23:03,105 INFO    : Trace        : Platform clusters verified to be Frequency coherent\n",
      "2017-03-16 12:23:03,849 INFO    : Trace        : Platform clusters verified to be Frequency coherent\n",
      "2017-03-16 12:23:04,593 INFO    : Trace        : Platform clusters verified to be Frequency coherent\n",
      "2017-03-16 12:23:05,153 INFO    : Trace        : Platform clusters verified to be Frequency coherent\n",
      "2017-03-16 12:23:05,629 INFO    : Trace        : Platform clusters verified to be Frequency coherent\n",
      "2017-03-16 12:23:06,452 INFO    : Trace        : Platform clusters verified to be Frequency coherent\n",
      "2017-03-16 12:23:07,305 INFO    : Trace        : Platform clusters verified to be Frequency coherent\n",
      "2017-03-16 12:23:08,159 INFO    : Trace        : Platform clusters verified to be Frequency coherent\n",
      "2017-03-16 12:23:09,029 INFO    : Trace        : Platform clusters verified to be Frequency coherent\n",
      "2017-03-16 12:23:09,910 INFO    : Trace        : Platform clusters verified to be Frequency coherent\n",
      "2017-03-16 12:23:10,864 INFO    : Trace        : Platform clusters verified to be Frequency coherent\n",
      "2017-03-16 12:23:11,833 INFO    : Trace        : Platform clusters verified to be Frequency coherent\n",
      "2017-03-16 12:23:12,777 INFO    : Trace        : Platform clusters verified to be Frequency coherent\n",
      "2017-03-16 12:23:13,714 INFO    : Trace        : Platform clusters verified to be Frequency coherent\n",
      "2017-03-16 12:23:14,657 INFO    : Trace        : Platform clusters verified to be Frequency coherent\n",
      "2017-03-16 12:23:15,591 INFO    : Trace        : Platform clusters verified to be Frequency coherent\n",
      "2017-03-16 12:23:16,523 INFO    : Trace        : Platform clusters verified to be Frequency coherent\n",
      "2017-03-16 12:23:17,473 INFO    : Trace        : Platform clusters verified to be Frequency coherent\n",
      "2017-03-16 12:23:18,415 INFO    : Trace        : Platform clusters verified to be Frequency coherent\n",
      "2017-03-16 12:23:19,346 INFO    : Trace        : Platform clusters verified to be Frequency coherent\n",
      "2017-03-16 12:23:19,983 INFO    : Trace        : Platform clusters verified to be Frequency coherent\n",
      "2017-03-16 12:23:20,621 INFO    : Trace        : Platform clusters verified to be Frequency coherent\n",
      "2017-03-16 12:23:21,256 INFO    : Trace        : Platform clusters verified to be Frequency coherent\n",
      "2017-03-16 12:23:21,936 INFO    : Trace        : Platform clusters verified to be Frequency coherent\n",
      "2017-03-16 12:23:22,613 INFO    : Trace        : Platform clusters verified to be Frequency coherent\n",
      "2017-03-16 12:23:23,316 INFO    : Trace        : Platform clusters verified to be Frequency coherent\n",
      "2017-03-16 12:23:24,082 INFO    : Trace        : Platform clusters verified to be Frequency coherent\n",
      "2017-03-16 12:23:24,895 INFO    : Trace        : Platform clusters verified to be Frequency coherent\n",
      "2017-03-16 12:23:25,549 INFO    : Trace        : Platform clusters verified to be Frequency coherent\n",
      "2017-03-16 12:23:26,394 INFO    : Trace        : Platform clusters verified to be Frequency coherent\n",
      "2017-03-16 12:23:27,286 INFO    : Trace        : Platform clusters verified to be Frequency coherent\n",
      "2017-03-16 12:23:28,190 INFO    : Trace        : Platform clusters verified to be Frequency coherent\n",
      "2017-03-16 12:23:29,099 INFO    : Trace        : Platform clusters verified to be Frequency coherent\n",
      "2017-03-16 12:23:30,005 INFO    : Trace        : Platform clusters verified to be Frequency coherent\n",
      "2017-03-16 12:23:30,909 INFO    : Trace        : Platform clusters verified to be Frequency coherent\n",
      "2017-03-16 12:23:31,860 INFO    : Trace        : Platform clusters verified to be Frequency coherent\n",
      "2017-03-16 12:23:32,786 INFO    : Trace        : Platform clusters verified to be Frequency coherent\n",
      "2017-03-16 12:23:33,733 INFO    : Trace        : Platform clusters verified to be Frequency coherent\n",
      "2017-03-16 12:23:34,682 INFO    : Trace        : Platform clusters verified to be Frequency coherent\n",
      "2017-03-16 12:23:35,611 INFO    : Trace        : Platform clusters verified to be Frequency coherent\n",
      "2017-03-16 12:23:36,345 INFO    : Trace        : Platform clusters verified to be Frequency coherent\n",
      "2017-03-16 12:23:36,964 INFO    : Trace        : Platform clusters verified to be Frequency coherent\n",
      "2017-03-16 12:23:37,653 INFO    : Trace        : Platform clusters verified to be Frequency coherent\n",
      "2017-03-16 12:23:38,216 INFO    : Trace        : Platform clusters verified to be Frequency coherent\n",
      "2017-03-16 12:23:38,830 INFO    : Trace        : Platform clusters verified to be Frequency coherent\n",
      "2017-03-16 12:23:39,466 INFO    : Trace        : Platform clusters verified to be Frequency coherent\n",
      "2017-03-16 12:23:40,106 INFO    : Trace        : Platform clusters verified to be Frequency coherent\n",
      "2017-03-16 12:23:40,739 INFO    : Trace        : Platform clusters verified to be Frequency coherent\n",
      "2017-03-16 12:23:41,373 INFO    : Trace        : Platform clusters verified to be Frequency coherent\n",
      "2017-03-16 12:23:42,007 INFO    : Trace        : Platform clusters verified to be Frequency coherent\n"
     ]
    }
   ],
   "source": [
    "traces = [Trace(platform, e.out_dir, ['cpu_frequency', 'cpu_idle', 'sched_switch']) for e in experiments]"
   ]
  },
  {
   "cell_type": "code",
   "execution_count": 23,
   "metadata": {
    "collapsed": true
   },
   "outputs": [],
   "source": [
    "def get_freq(trace):\n",
    "    freqs = trace.data_frame.trace_event('cpu_frequency')['frequency']\n",
    "    [freq] = freqs.drop_duplicates().tolist()\n",
    "    return freq"
   ]
  },
  {
   "cell_type": "code",
   "execution_count": 91,
   "metadata": {
    "collapsed": true
   },
   "outputs": [],
   "source": [
    "def get_packed(experiment, trace):\n",
    "    if experiment.wload:\n",
    "        tasks = experiment.wload.tasks.keys()\n",
    "    else:\n",
    "        tasks = [c for c in trace.getTasks().keys() if 'task_' in c]\n",
    "\n",
    "    ma = SchedMultiAssert(trace.ftrace, topology, tasks)    \n",
    "    \n",
    "#     start = min(t['starttime'] for t in ma.getStartTime().values())\n",
    "#     end = max(t['endtime'] for t in ma.getEndTime().values())\n",
    "#     print end - start\n",
    "    cluster_conclusions = []\n",
    "    for cluster in topology.get_level('cluster'):\n",
    "        residencies = [t['residency'] for p, t in ma.getResidency('cluster', cluster, percent=True).iteritems()]\n",
    "        if all(r > 90 for r in residencies):\n",
    "            cluster_conclusions.append('PACKED')\n",
    "        else:\n",
    "            cluster_conclusions.append(None)\n",
    "    clusters_packed = [i for i, c in enumerate(cluster_conclusions) if c == 'PACKED']\n",
    "    \n",
    "    if not clusters_packed:\n",
    "        # print \"I don't think we packed onto any cluster\"\n",
    "        return 'Packed'\n",
    "        # plot_trace(trace.ftrace)\n",
    "    elif len(clusters_packed) == 1:\n",
    "        [i] = clusters_packed\n",
    "        # print 'I think we packed onto cluster {} ({})'.format(i, te.topology.get_node('cluster', i))\n",
    "        return 'Unpacked'\n",
    "    else:\n",
    "        raise Exception('this code is borken')"
   ]
  },
  {
   "cell_type": "code",
   "execution_count": 97,
   "metadata": {
    "collapsed": true
   },
   "outputs": [],
   "source": [
    "def get_energy(experiment):\n",
    "    with open(os.path.join(experiment.out_dir, 'samples.csv')) as f:\n",
    "        print len(f.readlines())\n",
    "    with open(os.path.join(experiment.out_dir, 'energy.json')) as f:\n",
    "        return sum(json.load(f).values())\n"
   ]
  },
  {
   "cell_type": "code",
   "execution_count": 98,
   "metadata": {
    "collapsed": false,
    "scrolled": true
   },
   "outputs": [
    {
     "name": "stdout",
     "output_type": "stream",
     "text": [
      "82603\n",
      "82603\n",
      "82262\n",
      "82262\n",
      "80897\n",
      "66561\n",
      "65878\n",
      "65195\n",
      "64513\n",
      "64854\n",
      "55297\n",
      "55297\n",
      "54614\n",
      "54955\n",
      "54273\n",
      "58710\n",
      "58710\n",
      "58369\n",
      "59393\n",
      "59393\n",
      "128342\n",
      "128001\n",
      "126977\n",
      "126294\n",
      "127659\n",
      "66219\n",
      "65878\n",
      "65537\n",
      "66219\n",
      "66219\n",
      "59051\n",
      "59734\n",
      "59051\n",
      "59051\n",
      "58710\n",
      "55297\n",
      "55638\n",
      "55297\n",
      "54955\n",
      "55297\n",
      "82262\n",
      "83286\n",
      "82262\n",
      "82603\n",
      "82262\n",
      "127659\n",
      "128342\n",
      "126977\n",
      "128342\n",
      "128001\n"
     ]
    }
   ],
   "source": [
    "results = []\n",
    "for experiment, trace in zip(experiments, traces):\n",
    "    freq = get_freq(trace)\n",
    "    # packed = get_packed(experiment, trace)\n",
    "    energy = get_energy(experiment)\n",
    "    # results.append((freq, packed, energy))"
   ]
  },
  {
   "cell_type": "code",
   "execution_count": 107,
   "metadata": {
    "collapsed": false,
    "scrolled": true
   },
   "outputs": [],
   "source": [
    "found_freqs = set()\n",
    "for trace in traces[:0]:\n",
    "    freq = get_freq(trace)\n",
    "    if freq in found_freqs:\n",
    "        continue\n",
    "    found_freqs.add(freq)\n",
    "    print freq\n",
    "    plot_trace(trace.ftrace)"
   ]
  },
  {
   "cell_type": "code",
   "execution_count": 78,
   "metadata": {
    "collapsed": false
   },
   "outputs": [
    {
     "data": {
      "text/plain": [
       "<matplotlib.axes.AxesSubplot at 0x7f7fd8b1d650>"
      ]
     },
     "execution_count": 78,
     "metadata": {},
     "output_type": "execute_result"
    },
    {
     "data": {
      "image/png": "[encoded data removed]",
      "text/plain": [
       "<matplotlib.figure.Figure at 0x7f7fe6249050>"
      ]
     },
     "metadata": {},
     "output_type": "display_data"
    }
   ],
   "source": [
    "df = pd.DataFrame(results, columns=['freq', 'packed', 'energy'])\n",
    "df = df\n",
    "df.boxplot(by=['freq', 'packed'], figsize=(20, 10))"
   ]
  }
 ],
 "metadata": {
  "kernelspec": {
   "display_name": "Python 2",
   "language": "python",
   "name": "python2"
  },
  "language_info": {
   "codemirror_mode": {
    "name": "ipython",
    "version": 2
   },
   "file_extension": ".py",
   "mimetype": "text/x-python",
   "name": "python",
   "nbconvert_exporter": "python",
   "pygments_lexer": "ipython2",
   "version": "2.7.6"
  }
 },
 "nbformat": 4,
 "nbformat_minor": 0
}
