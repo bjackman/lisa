{
 "cells": [
  {
   "cell_type": "markdown",
   "metadata": {
    "collapsed": true
   },
   "source": [
    "## Boring Setup"
   ]
  },
  {
   "cell_type": "code",
   "execution_count": 1,
   "metadata": {
    "collapsed": false
   },
   "outputs": [
    {
     "name": "stderr",
     "output_type": "stream",
     "text": [
      "2016-11-30 15:24:56,570 INFO    : root         : Using LISA logging configuration:\n",
      "2016-11-30 15:24:56,571 INFO    : root         :   /home/vagrant/lisa/logging.conf\n"
     ]
    }
   ],
   "source": [
    "%load_ext autoreload\n",
    "%autoreload 2\n",
    "%matplotlib inline\n",
    "\n",
    "import logging\n",
    "from conf import LisaLogging\n",
    "LisaLogging.setup()\n",
    "logging.getLogger('Trace').setLevel(logging.ERROR)\n",
    "\n",
    "import json\n",
    "import os\n",
    "import trappy\n",
    "from trace import Trace\n",
    "from executor import Executor\n",
    "\n",
    "import numpy as np\n",
    "import pandas as pd\n",
    "\n",
    "from bart.common.Utils import select_window, area_under_curve\n",
    "\n",
    "from trappy.stats.Topology import Topology\n",
    "\n",
    "from perf_analysis import PerfAnalysis"
   ]
  },
  {
   "cell_type": "code",
   "execution_count": 2,
   "metadata": {
    "collapsed": false
   },
   "outputs": [],
   "source": [
    "from trappy import ILinePlot\n"
   ]
  },
  {
   "cell_type": "code",
   "execution_count": 3,
   "metadata": {
    "collapsed": false
   },
   "outputs": [],
   "source": [
    "from tests.eas.generic import EnergyModelWakeMigration"
   ]
  },
  {
   "cell_type": "code",
   "execution_count": 4,
   "metadata": {
    "collapsed": true
   },
   "outputs": [],
   "source": [
    "events = [\n",
    "            \"sched_overutilized\",\n",
    "            \"sched_migrate_task\",\n",
    "            \"sched_load_avg_task\",\n",
    "            \"sched_load_avg_cpu\",\n",
    "            \"sched_switch\",\n",
    "            \"cpu_idle\",\n",
    "            \"cpu_frequency\",\n",
    "            \"irq*\"\n",
    "        ]"
   ]
  },
  {
   "cell_type": "markdown",
   "metadata": {},
   "source": [
    "## Running Workload"
   ]
  },
  {
   "cell_type": "code",
   "execution_count": 5,
   "metadata": {
    "collapsed": false
   },
   "outputs": [],
   "source": [
    "t = EnergyModelWakeMigration(methodName=\"test_task_placement\")"
   ]
  },
  {
   "cell_type": "code",
   "execution_count": 6,
   "metadata": {
    "collapsed": false,
    "scrolled": true
   },
   "outputs": [
    {
     "name": "stderr",
     "output_type": "stream",
     "text": [
      "2016-11-30 15:24:57,498 INFO    : LisaTest     : Setup tests execution engine...\n",
      "2016-11-30 15:24:57,499 INFO    : TestEnv      : Using base path: /vagrant\n",
      "2016-11-30 15:24:57,501 INFO    : TestEnv      : Loading default (file) target configuration\n",
      "2016-11-30 15:24:57,502 INFO    : TestEnv      : Loading target configuration [/vagrant/target.config]...\n",
      "2016-11-30 15:24:57,503 DEBUG   : JsonConf     : loading JSON...\n",
      "2016-11-30 15:24:57,506 DEBUG   : JsonConf     : Loaded JSON configuration:\n",
      "2016-11-30 15:24:57,507 DEBUG   : JsonConf     :    {u'username': u'brendan', u'rtapp-calib': {u'1': 138, u'0': 354, u'3': 363, u'2': 138, u'5': 357, u'4': 355}, u'modules': [u'cpuidle'], u'platform': u'linux', u'host': u'192.168.2.2', u'board': u'juno', u'exclude_modules': [u'hwmon'], u'__features__': u'no-kernel no-reboot', u'tftp': {u'kernel': u'kern.bin', u'folder': u'/var/lib/tftpboot', u'dtb': u'dtb.bin'}, u'password': u'password', u'tools': []}\n",
      "2016-11-30 15:24:57,508 DEBUG   : TestEnv      : Target configuration {u'username': u'brendan', u'rtapp-calib': {u'1': 138, u'0': 354, u'3': 363, u'2': 138, u'5': 357, u'4': 355}, u'modules': [u'cpuidle'], u'platform': u'linux', u'host': u'192.168.2.2', u'board': u'juno', u'exclude_modules': [u'hwmon'], u'__features__': u'no-kernel no-reboot', u'tftp': {u'kernel': u'kern.bin', u'folder': u'/var/lib/tftpboot', u'dtb': u'dtb.bin'}, u'password': u'password', u'tools': []}\n",
      "2016-11-30 15:24:57,510 INFO    : TestEnv      : Loading custom (inline) test configuration\n",
      "2016-11-30 15:24:57,511 DEBUG   : TestEnv      : Test configuration {u'username': u'brendan', u'rtapp-calib': {u'1': 138, u'0': 354, u'3': 363, u'2': 138, u'5': 357, u'4': 355}, u'modules': [u'cpuidle'], u'platform': u'linux', u'host': u'192.168.2.2', u'board': u'juno', u'exclude_modules': [u'hwmon'], u'__features__': u'no-kernel no-reboot', u'tftp': {u'kernel': u'kern.bin', u'folder': u'/var/lib/tftpboot', u'dtb': u'dtb.bin'}, u'password': u'password', u'tools': []}\n",
      "2016-11-30 15:24:57,512 INFO    : TestEnv      : Devlib modules to load: ['bl', u'cpuidle', 'cpufreq']\n",
      "2016-11-30 15:24:57,513 INFO    : TestEnv      : Connecting linux target:\n",
      "2016-11-30 15:24:57,514 INFO    : TestEnv      :   username : brendan\n",
      "2016-11-30 15:24:57,515 INFO    : TestEnv      :       host : 192.168.2.2\n",
      "2016-11-30 15:24:57,516 INFO    : TestEnv      :   password : password\n",
      "2016-11-30 15:24:57,517 INFO    : TestEnv      : Connection settings:\n",
      "2016-11-30 15:24:57,519 INFO    : TestEnv      :    {'username': u'brendan', 'host': u'192.168.2.2', 'password': u'password'}\n",
      "2016-11-30 15:24:57,520 DEBUG   : TestEnv      : Setup LINUX target...\n",
      "2016-11-30 15:24:57,569 DEBUG   : LinuxTarget  : Installing module vexpress-u-boot\n",
      "2016-11-30 15:24:57,570 DEBUG   : LinuxTarget  : Installing module vexpress-dtr\n",
      "2016-11-30 15:24:57,571 DEBUG   : LinuxTarget  : Installing module vexpress-vemsd\n",
      "2016-11-30 15:24:57,573 DEBUG   : ssh          : Logging in brendan@192.168.2.2\n",
      "2016-11-30 15:24:58,692 DEBUG   : ssh          : id\n",
      "2016-11-30 15:24:59,008 DEBUG   : ssh          : echo $USER\n",
      "2016-11-30 15:24:59,318 DEBUG   : ssh          : sudo -- sh -c 'ls /'\n",
      "2016-11-30 15:24:59,753 DEBUG   : ssh          : sudo -- sh -c 'if [ -e '\\''/home/brendan/devlib-target/bin'\\'' ]; then echo 1; else echo 0; fi'\n",
      "2016-11-30 15:25:00,563 DEBUG   : ssh          : ls -1 /home/brendan/devlib-target/bin\n",
      "2016-11-30 15:25:00,881 DEBUG   : ssh          : cat /proc/cpuinfo\n",
      "2016-11-30 15:25:01,197 DEBUG   : ssh          : sudo -- sh -c 'dmidecode -s system-version'\n",
      "2016-11-30 15:25:01,907 DEBUG   : LinuxTarget  : Installing module bl\n",
      "2016-11-30 15:25:02,012 DEBUG   : ssh          : sudo -- sh -c 'if [ -e '\\''/sys/devices/system/cpu/cpuidle'\\'' ]; then echo 1; else echo 0; fi'\n",
      "2016-11-30 15:25:02,722 DEBUG   : LinuxTarget  : Installing module cpuidle\n",
      "2016-11-30 15:25:02,827 DEBUG   : ssh          : uname -m\n",
      "2016-11-30 15:25:03,142 DEBUG   : ssh          : sudo -- sh -c 'if [ -e '\\''/sys/devices/system/cpu/cpufreq'\\'' ]; then echo 1; else echo 0; fi'\n",
      "2016-11-30 15:25:03,852 DEBUG   : LinuxTarget  : Installing module cpufreq\n",
      "2016-11-30 15:25:03,856 DEBUG   : TestEnv      : Checking target connection...\n",
      "2016-11-30 15:25:03,859 DEBUG   : TestEnv      : Target info:\n",
      "2016-11-30 15:25:03,862 DEBUG   : TestEnv      :       ABI: arm64\n",
      "2016-11-30 15:25:03,865 DEBUG   : TestEnv      :      CPUs: CpuInfo(['A53', 'A57', 'A57', 'A53', 'A53', 'A53'])\n",
      "2016-11-30 15:25:03,868 DEBUG   : TestEnv      :  Clusters: [0, 1, 1, 0, 0, 0]\n",
      "2016-11-30 15:25:03,870 INFO    : TestEnv      : Initializing target workdir:\n",
      "2016-11-30 15:25:03,873 INFO    : TestEnv      :    /home/brendan/devlib-target\n",
      "2016-11-30 15:25:03,976 DEBUG   : ssh          : mkdir -p /home/brendan/devlib-target\n",
      "2016-11-30 15:25:04,293 DEBUG   : ssh          : mkdir -p /home/brendan/devlib-target/bin\n",
      "2016-11-30 15:25:04,512 DEBUG   : ssh          : /usr/bin/scp -r   /home/vagrant/lisa/libs/devlib/devlib/bin/arm64/busybox brendan@192.168.2.2:/home/brendan/devlib-target/bin/busybox\n",
      "2016-11-30 15:25:05,050 DEBUG   : ssh          : chmod a+x /home/brendan/devlib-target/bin/busybox\n",
      "2016-11-30 15:25:05,272 DEBUG   : ssh          : /usr/bin/scp -r   /home/vagrant/lisa/libs/devlib/devlib/bin/scripts/shutils brendan@192.168.2.2:/home/brendan/devlib-target/bin/shutils\n",
      "2016-11-30 15:25:05,572 DEBUG   : ssh          : chmod a+x /home/brendan/devlib-target/bin/shutils\n",
      "2016-11-30 15:25:05,789 DEBUG   : ssh          : /usr/bin/scp -r   /vagrant/tools/arm64/trace-cmd brendan@192.168.2.2:/home/brendan/devlib-target/bin/trace-cmd\n",
      "2016-11-30 15:25:06,179 DEBUG   : ssh          : chmod a+x /home/brendan/devlib-target/bin/trace-cmd\n",
      "2016-11-30 15:25:06,397 DEBUG   : TestEnv      : Check for module [bl]...\n",
      "2016-11-30 15:25:06,400 DEBUG   : TestEnv      : Check for module [cpuidle]...\n",
      "2016-11-30 15:25:06,404 DEBUG   : TestEnv      : Check for module [cpufreq]...\n",
      "2016-11-30 15:25:06,407 INFO    : TestEnv      : Topology:\n",
      "2016-11-30 15:25:06,410 INFO    : TestEnv      :    [[0, 3, 4, 5], [1, 2]]\n",
      "2016-11-30 15:25:06,514 DEBUG   : ssh          : sudo -- sh -c 'cat '\\''/sys/devices/system/cpu/online'\\'''\n",
      "2016-11-30 15:25:07,323 DEBUG   : ssh          : cat /sys/devices/system/cpu/cpu0/cpufreq/scaling_available_frequencies\n",
      "2016-11-30 15:25:07,643 DEBUG   : ssh          : sudo -- sh -c 'cat '\\''/sys/devices/system/cpu/online'\\'''\n",
      "2016-11-30 15:25:08,454 DEBUG   : ssh          : cat /sys/devices/system/cpu/cpu1/cpufreq/scaling_available_frequencies\n",
      "2016-11-30 15:25:08,673 DEBUG   : TestEnv      : Trying to load default EM from /vagrant/libs/utils/platforms/juno.json\n",
      "2016-11-30 15:25:08,678 INFO    : TestEnv      : Loading default EM:\n",
      "2016-11-30 15:25:08,681 INFO    : TestEnv      :    /vagrant/libs/utils/platforms/juno.json\n",
      "2016-11-30 15:25:08,685 DEBUG   : JsonConf     : loading JSON...\n",
      "2016-11-30 15:25:08,689 DEBUG   : JsonConf     : Loaded JSON configuration:\n",
      "2016-11-30 15:25:08,692 DEBUG   : JsonConf     :    {u'nrg_model': {u'big': {u'cluster': {u'nrg_max': 64}, u'cpu': {u'cap_max': 1024, u'nrg_max': 616}}, u'little': {u'cluster': {u'nrg_max': 57}, u'cpu': {u'cap_max': 447, u'nrg_max': 93}}}}\n",
      "2016-11-30 15:25:08,695 DEBUG   : TestEnv      : Platform descriptor initialized\n",
      "{'nrg_model': {u'big': {u'cluster': {u'nrg_max': 64}, u'cpu': {u'cap_max': 1024, u'nrg_max': 616}}, u'little': {u'cluster': {u'nrg_max': 57}, u'cpu': {u'cap_max': 447, u'nrg_max': 93}}}, 'clusters': {'big': [1, 2], 'little': [0, 3, 4, 5]}, 'cpus_count': 6, 'freqs': {'big': [450000, 625000, 800000, 950000, 1100000], 'little': [450000, 575000, 700000, 775000, 850000]}, 'topology': [[0, 3, 4, 5], [1, 2]]}\n",
      "2016-11-30 15:25:08,719 DEBUG   : ssh          : /usr/bin/scp -r   /home/vagrant/lisa/libs/devlib/devlib/bin/arm64/trace-cmd brendan@192.168.2.2:/home/brendan/devlib-target/bin/trace-cmd\n",
      "2016-11-30 15:25:09,368 DEBUG   : ssh          : chmod a+x /home/brendan/devlib-target/bin/trace-cmd\n",
      "2016-11-30 15:25:09,686 DEBUG   : ssh          : sudo -- sh -c 'cat /sys/kernel/debug/tracing/available_events'\n",
      "2016-11-30 15:25:10,402 WARNING : LinuxTarget  : Event [sched_overutilized] not available for tracing\n",
      "2016-11-30 15:25:10,407 WARNING : LinuxTarget  : Event [sched_energy_diff] not available for tracing\n",
      "2016-11-30 15:25:10,411 WARNING : LinuxTarget  : Event [sched_load_avg_task] not available for tracing\n",
      "2016-11-30 15:25:10,414 WARNING : LinuxTarget  : Event [sched_load_avg_cpu] not available for tracing\n",
      "2016-11-30 15:25:10,419 INFO    : TestEnv      : Enabled tracepoints:\n",
      "2016-11-30 15:25:10,422 INFO    : TestEnv      :    sched_overutilized\n",
      "2016-11-30 15:25:10,425 INFO    : TestEnv      :    sched_energy_diff\n",
      "2016-11-30 15:25:10,427 INFO    : TestEnv      :    sched_load_avg_task\n",
      "2016-11-30 15:25:10,430 INFO    : TestEnv      :    sched_load_avg_cpu\n",
      "2016-11-30 15:25:10,433 INFO    : TestEnv      :    sched_migrate_task\n",
      "2016-11-30 15:25:10,436 INFO    : TestEnv      :    sched_switch\n",
      "2016-11-30 15:25:10,438 DEBUG   : TestEnv      : No RT-App workloads, skipping calibration\n",
      "2016-11-30 15:25:10,442 DEBUG   : EnergyMeter  : using default energy meter for [juno]\n",
      "2016-11-30 15:25:10,446 INFO    : EnergyMeter  : HWMON module not enabled\n",
      "2016-11-30 15:25:10,448 WARNING : EnergyMeter  : Energy sampling disabled by configuration\n",
      "2016-11-30 15:25:10,450 DEBUG   : EnergyMeter  : Results dir: /vagrant/results/20161130_152510\n",
      "2016-11-30 15:25:10,451 INFO    : TestEnv      : Set results folder to:\n",
      "2016-11-30 15:25:10,454 INFO    : TestEnv      :    /vagrant/results/20161130_152510\n",
      "2016-11-30 15:25:10,456 INFO    : TestEnv      : Experiment results available also in:\n",
      "2016-11-30 15:25:10,460 INFO    : TestEnv      :    /vagrant/results_latest\n",
      "2016-11-30 15:25:10,462 INFO    : Executor     : Loading custom (inline) test configuration\n",
      "2016-11-30 15:25:10,464 INFO    : Executor     : \n",
      "2016-11-30 15:25:10,467 INFO    : Executor     : ################################################################################\n",
      "2016-11-30 15:25:10,469 INFO    : Executor     : Experiments configuration\n",
      "2016-11-30 15:25:10,471 INFO    : Executor     : ################################################################################\n",
      "2016-11-30 15:25:10,473 INFO    : Executor     : Configured to run:\n",
      "2016-11-30 15:25:10,475 INFO    : Executor     :      1 target configurations:\n",
      "2016-11-30 15:25:10,477 INFO    : Executor     :       energy_aware\n",
      "2016-11-30 15:25:10,479 INFO    : Executor     :      1 workloads (1 iterations each)\n",
      "2016-11-30 15:25:10,481 INFO    : Executor     :       wake_migration\n",
      "2016-11-30 15:25:10,483 INFO    : Executor     : Total: 1 experiments\n",
      "2016-11-30 15:25:10,485 INFO    : Executor     : Results will be collected under:\n",
      "2016-11-30 15:25:10,487 INFO    : Executor     :       /vagrant/results/20161130_152510\n",
      "2016-11-30 15:25:10,489 INFO    : Executor     : rt-app workloads found, installing tool on target\n",
      "2016-11-30 15:25:10,592 DEBUG   : ssh          : mkdir -p /home/brendan/devlib-target\n",
      "2016-11-30 15:25:10,907 DEBUG   : ssh          : mkdir -p /home/brendan/devlib-target/bin\n",
      "2016-11-30 15:25:11,124 DEBUG   : ssh          : /usr/bin/scp -r   /home/vagrant/lisa/libs/devlib/devlib/bin/arm64/busybox brendan@192.168.2.2:/home/brendan/devlib-target/bin/busybox\n",
      "2016-11-30 15:25:11,665 DEBUG   : ssh          : chmod a+x /home/brendan/devlib-target/bin/busybox\n",
      "2016-11-30 15:25:11,885 DEBUG   : ssh          : /usr/bin/scp -r   /home/vagrant/lisa/libs/devlib/devlib/bin/scripts/shutils brendan@192.168.2.2:/home/brendan/devlib-target/bin/shutils\n",
      "2016-11-30 15:25:12,174 DEBUG   : ssh          : chmod a+x /home/brendan/devlib-target/bin/shutils\n",
      "2016-11-30 15:25:12,386 DEBUG   : ssh          : /usr/bin/scp -r   /vagrant/tools/arm64/rt-app brendan@192.168.2.2:/home/brendan/devlib-target/bin/rt-app\n",
      "2016-11-30 15:25:12,798 DEBUG   : ssh          : chmod a+x /home/brendan/devlib-target/bin/rt-app\n",
      "2016-11-30 15:25:13,111 DEBUG   : ssh          : sudo -- sh -c 'echo 1 > '\\''/proc/sys/kernel/sched_is_big_little'\\'''\n",
      "2016-11-30 15:25:13,767 DEBUG   : ssh          : sudo -- sh -c 'cat '\\''/proc/sys/kernel/sched_is_big_little'\\'''\n",
      "2016-11-30 15:25:14,474 INFO    : LisaTest     : Experiments execution...\n",
      "2016-11-30 15:25:14,475 INFO    : Executor     : \n",
      "2016-11-30 15:25:14,477 INFO    : Executor     : ################################################################################\n",
      "2016-11-30 15:25:14,478 INFO    : Executor     : Experiments execution\n",
      "2016-11-30 15:25:14,479 INFO    : Executor     : ################################################################################\n",
      "2016-11-30 15:25:14,481 INFO    : Executor     : \n",
      "2016-11-30 15:25:14,482 INFO    : Executor     : ================================================================================\n",
      "2016-11-30 15:25:14,483 INFO    : Executor     : configuring target for [energy_aware] experiments\n",
      "2016-11-30 15:25:14,485 DEBUG   : Executor     : Setup RT-App run folder [/home/brendan/devlib-target/run_dir]...\n",
      "2016-11-30 15:25:14,586 DEBUG   : ssh          : [ -d /home/brendan/devlib-target/run_dir ] || mkdir /home/brendan/devlib-target/run_dir\n",
      "2016-11-30 15:25:14,895 DEBUG   : ssh          : sudo -- sh -c 'grep schedtest /proc/mounts ||   mount -t tmpfs -o size=1024m schedtest /home/brendan/devlib-target/run_dir'\n",
      "2016-11-30 15:25:16,088 DEBUG   : ssh          : getenforce\n",
      "2016-11-30 15:25:16,303 INFO    : Executor     : Set scheduler feature: ENERGY_AWARE\n",
      "2016-11-30 15:25:16,407 DEBUG   : ssh          : sudo -- sh -c 'echo ENERGY_AWARE > /sys/kernel/debug/sched_features'\n",
      "2016-11-30 15:25:17,117 WARNING : Executor     : cpufreq governor not specified, using currently configured governor\n",
      "2016-11-30 15:25:17,121 DEBUG   : Executor     : Configuring [profile] rt-app...\n",
      "2016-11-30 15:25:17,124 DEBUG   : TestEnv      : No RT-App workloads, skipping calibration\n",
      "2016-11-30 15:25:17,127 INFO    : Workload     : Setup new workload wake_migration\n",
      "2016-11-30 15:25:17,130 DEBUG   : Workload     : Setup step [postrun] callback to [__postrun] function\n",
      "2016-11-30 15:25:17,133 DEBUG   : Workload     : Configuring a profile-based workload...\n",
      "2016-11-30 15:25:17,137 DEBUG   : Workload     : ref on cpu: 1\n",
      "2016-11-30 15:25:17,139 INFO    : Workload     : Workload duration defined by longest task\n",
      "2016-11-30 15:25:17,141 INFO    : Workload     : Default policy: SCHED_OTHER\n",
      "2016-11-30 15:25:17,145 INFO    : Workload     : ------------------------\n",
      "2016-11-30 15:25:17,147 INFO    : Workload     : task [task_wmig0], sched: using default policy\n",
      "2016-11-30 15:25:17,149 INFO    : Workload     :  | calibration CPU: 1\n",
      "2016-11-30 15:25:17,152 INFO    : Workload     :  | loops count: 2\n",
      "2016-11-30 15:25:17,155 INFO    : Workload     : + phase_000001: duration 1.000000 [s] (10 loops)\n",
      "2016-11-30 15:25:17,158 INFO    : Workload     : |  period   100000 [us], duty_cycle  10 %\n",
      "2016-11-30 15:25:17,161 INFO    : Workload     : |  run_time  10000 [us], sleep_time  90000 [us]\n",
      "2016-11-30 15:25:17,162 INFO    : Workload     : + phase_000002: duration 1.000000 [s] (10 loops)\n",
      "2016-11-30 15:25:17,166 INFO    : Workload     : |  period   100000 [us], duty_cycle  50 %\n",
      "2016-11-30 15:25:17,167 INFO    : Workload     : |  run_time  50000 [us], sleep_time  50000 [us]\n",
      "2016-11-30 15:25:17,170 INFO    : Workload     : ------------------------\n",
      "2016-11-30 15:25:17,173 INFO    : Workload     : task [task_wmig1], sched: using default policy\n",
      "2016-11-30 15:25:17,175 INFO    : Workload     :  | calibration CPU: 1\n",
      "2016-11-30 15:25:17,176 INFO    : Workload     :  | loops count: 2\n",
      "2016-11-30 15:25:17,179 INFO    : Workload     : + phase_000001: duration 1.000000 [s] (10 loops)\n",
      "2016-11-30 15:25:17,180 INFO    : Workload     : |  period   100000 [us], duty_cycle  10 %\n",
      "2016-11-30 15:25:17,183 INFO    : Workload     : |  run_time  10000 [us], sleep_time  90000 [us]\n",
      "2016-11-30 15:25:17,186 INFO    : Workload     : + phase_000002: duration 1.000000 [s] (10 loops)\n",
      "2016-11-30 15:25:17,188 INFO    : Workload     : |  period   100000 [us], duty_cycle  50 %\n",
      "2016-11-30 15:25:17,191 INFO    : Workload     : |  run_time  50000 [us], sleep_time  50000 [us]\n",
      "2016-11-30 15:25:17,197 DEBUG   : ssh          : /usr/bin/scp -r   wake_migration_00.json brendan@192.168.2.2:/home/brendan/devlib-target/run_dir\n",
      "2016-11-30 15:25:17,377 DEBUG   : TestEnv      : Dump platform descriptor in [/vagrant/results/20161130_152510/rtapp:energy_aware:wake_migration/platform.json]\n",
      "2016-11-30 15:25:17,480 DEBUG   : ssh          : zcat /proc/config.gz\n",
      "2016-11-30 15:25:17,899 DEBUG   : ssh          : /home/brendan/devlib-target/bin/busybox uname -a\n",
      "2016-11-30 15:25:18,118 INFO    : Executor     : ~~~~~~~~~~~~~~~~~~~~~~~~~~~~~~~~~~~~~~~~~~~~~~~~~~~~~~~~~~~~~~~~~~~~~~~~~~~~~~~~\n",
      "2016-11-30 15:25:18,119 INFO    : Executor     : Experiment 0/1, [energy_aware:wake_migration] 1/1\n",
      "2016-11-30 15:25:18,121 DEBUG   : Executor     : out_dir set to [/vagrant/results/20161130_152510/rtapp:energy_aware:wake_migration/1]\n",
      "2016-11-30 15:25:18,126 DEBUG   : Executor     : Check if target configuration [energy_aware] has flag [freeze_userspace]: False\n",
      "2016-11-30 15:25:18,128 DEBUG   : Executor     : Check if target configuration [energy_aware] has flag [ftrace]: True\n",
      "2016-11-30 15:25:18,129 WARNING : Executor     : FTrace events collection enabled\n",
      "2016-11-30 15:25:18,231 DEBUG   : ssh          : sudo -- sh -c 'echo 10240 > '\\''/sys/kernel/debug/tracing/buffer_size_kb'\\'''\n",
      "2016-11-30 15:25:18,885 DEBUG   : ssh          : sudo -- sh -c 'cat '\\''/sys/kernel/debug/tracing/buffer_size_kb'\\'''\n",
      "2016-11-30 15:25:19,692 DEBUG   : ssh          : sudo -- sh -c '/home/brendan/devlib-target/bin/trace-cmd reset'\n",
      "2016-11-30 15:25:21,254 DEBUG   : ssh          : sudo -- sh -c '/home/brendan/devlib-target/bin/trace-cmd start -e sched_migrate_task -e sched_switch'\n",
      "2016-11-30 15:25:22,801 DEBUG   : ssh          : sudo -- sh -c 'echo TRACE_MARKER_START > '\\''/sys/kernel/debug/tracing/trace_marker'\\'''\n",
      "2016-11-30 15:25:23,357 DEBUG   : FtraceCollector : Trace CPUFreq frequencies\n",
      "2016-11-30 15:25:23,461 DEBUG   : ssh          : sudo -- sh -c '/home/brendan/devlib-target/bin/shutils cpufreq_trace_all_frequencies'\n",
      "2016-11-30 15:25:24,171 DEBUG   : FtraceCollector : Trace CPUIdle states\n",
      "2016-11-30 15:25:24,275 DEBUG   : ssh          : /home/brendan/devlib-target/bin/shutils cpuidle_wake_all_cpus\n",
      "2016-11-30 15:25:24,532 INFO    : Workload     : Workload execution START:\n",
      "2016-11-30 15:25:24,536 INFO    : Workload     :    /home/brendan/devlib-target/bin/rt-app /home/brendan/devlib-target/run_dir/wake_migration_00.json 2>&1\n",
      "2016-11-30 15:25:24,639 DEBUG   : ssh          : /home/brendan/devlib-target/bin/rt-app /home/brendan/devlib-target/run_dir/wake_migration_00.json 2>&1\n"
     ]
    },
    {
     "name": "stdout",
     "output_type": "stream",
     "text": [
      "\n"
     ]
    },
    {
     "name": "stderr",
     "output_type": "stream",
     "text": [
      "2016-11-30 15:25:28,975 DEBUG   : Workload     : Callback [postrun]...\n",
      "2016-11-30 15:25:28,979 DEBUG   : Workload     : Pulling logfiles to [/vagrant/results/20161130_152510/rtapp:energy_aware:wake_migration/1]...\n",
      "2016-11-30 15:25:28,982 DEBUG   : ssh          : /usr/bin/scp -r   brendan@192.168.2.2:'/home/brendan/devlib-target/run_dir/*task_wmig0*.log' /vagrant/results/20161130_152510/rtapp:energy_aware:wake_migration/1\n",
      "2016-11-30 15:25:29,173 DEBUG   : ssh          : /usr/bin/scp -r   brendan@192.168.2.2:'/home/brendan/devlib-target/run_dir/*task_wmig1*.log' /vagrant/results/20161130_152510/rtapp:energy_aware:wake_migration/1\n",
      "2016-11-30 15:25:29,389 DEBUG   : Workload     : Pulling JSON to [/vagrant/results/20161130_152510/rtapp:energy_aware:wake_migration/1]...\n",
      "2016-11-30 15:25:29,394 DEBUG   : ssh          : /usr/bin/scp -r   brendan@192.168.2.2:/home/brendan/devlib-target/run_dir/wake_migration_00.json /vagrant/results/20161130_152510/rtapp:energy_aware:wake_migration/1\n",
      "2016-11-30 15:25:29,604 DEBUG   : Workload     : Saving output on [/vagrant/results/20161130_152510/rtapp:energy_aware:wake_migration/1/output.log]...\n",
      "2016-11-30 15:25:29,610 DEBUG   : Workload     : Workload execution COMPLETED\n",
      "2016-11-30 15:25:29,612 DEBUG   : Executor     : Check if target configuration [energy_aware] has flag [ftrace]: True\n",
      "2016-11-30 15:25:29,616 DEBUG   : FtraceCollector : Trace CPUFreq frequencies\n",
      "2016-11-30 15:25:29,719 DEBUG   : ssh          : sudo -- sh -c '/home/brendan/devlib-target/bin/shutils cpufreq_trace_all_frequencies'\n",
      "2016-11-30 15:25:30,528 DEBUG   : ssh          : sudo -- sh -c 'echo TRACE_MARKER_STOP > '\\''/sys/kernel/debug/tracing/trace_marker'\\'''\n",
      "2016-11-30 15:25:31,182 DEBUG   : ssh          : sudo -- sh -c '/home/brendan/devlib-target/bin/trace-cmd stop'\n",
      "2016-11-30 15:25:31,994 DEBUG   : ssh          : sudo -- sh -c '/home/brendan/devlib-target/bin/trace-cmd extract -o /home/brendan/devlib-target/trace.dat'\n",
      "2016-11-30 15:25:34,508 DEBUG   : ssh          : /usr/bin/scp -r   brendan@192.168.2.2:/home/brendan/devlib-target/trace.dat /vagrant/results/20161130_152510/rtapp:energy_aware:wake_migration/1/trace.dat\n",
      "2016-11-30 15:25:35,185 INFO    : Executor     : Collected FTrace binary trace:\n",
      "2016-11-30 15:25:35,187 INFO    : Executor     :    <res_dir>/rtapp:energy_aware:wake_migration/1/trace.dat\n",
      "2016-11-30 15:25:35,189 INFO    : Executor     : Collected FTrace function profiling:\n",
      "2016-11-30 15:25:35,190 INFO    : Executor     :    <res_dir>/rtapp:energy_aware:wake_migration/1/trace_stat.json\n",
      "2016-11-30 15:25:35,191 INFO    : Executor     : --------------------------------------------------------------------------------\n",
      "2016-11-30 15:25:35,193 INFO    : Executor     : \n",
      "2016-11-30 15:25:35,194 INFO    : Executor     : ################################################################################\n",
      "2016-11-30 15:25:35,196 INFO    : Executor     : Experiments execution completed\n",
      "2016-11-30 15:25:35,197 INFO    : Executor     : ################################################################################\n",
      "2016-11-30 15:25:35,198 INFO    : Executor     : Results available in:\n",
      "2016-11-30 15:25:35,200 INFO    : Executor     :       /vagrant/results/20161130_152510\n"
     ]
    }
   ],
   "source": [
    "t.setUpClass()"
   ]
  },
  {
   "cell_type": "code",
   "execution_count": 7,
   "metadata": {
    "collapsed": true
   },
   "outputs": [],
   "source": [
    "experiment = t.executor.experiments[0]"
   ]
  },
  {
   "cell_type": "code",
   "execution_count": 8,
   "metadata": {
    "collapsed": false
   },
   "outputs": [
    {
     "name": "stderr",
     "output_type": "stream",
     "text": [
      "2016-11-30 15:25:35,801 DEBUG   : Analysis     : Analysis: /home/vagrant/lisa/libs/utils/analysis\n",
      "2016-11-30 15:25:35,803 DEBUG   : Analysis     : Syspath: ['/home/vagrant/lisa/libs/utils/analysis', '', '/home/vagrant/lisa/libs/bart', '/home/vagrant/lisa/libs/trappy', '/home/vagrant/lisa/libs/devlib', '/home/vagrant/lisa', '/home/vagrant/lisa/libs/wlgen', '/home/vagrant/lisa/libs/utils', '/vagrant/ipynb/tests', '/usr/lib/python2.7', '/usr/lib/python2.7/plat-x86_64-linux-gnu', '/usr/lib/python2.7/lib-tk', '/usr/lib/python2.7/lib-old', '/usr/lib/python2.7/lib-dynload', '/usr/local/lib/python2.7/dist-packages', '/usr/lib/python2.7/dist-packages', '/usr/lib/python2.7/dist-packages/PILcompat', '/usr/lib/python2.7/dist-packages/gtk-2.0', '/usr/lib/pymodules/python2.7', '/usr/local/lib/python2.7/dist-packages/IPython/extensions', '/home/vagrant/.ipython']\n",
      "2016-11-30 15:25:35,804 INFO    : Analysis     : Registering trace analysis modules:\n",
      "2016-11-30 15:25:35,806 DEBUG   : Analysis     : Filename: tasks_analysis\n",
      "2016-11-30 15:25:35,809 INFO    : Analysis     :    tasks\n",
      "2016-11-30 15:25:35,810 DEBUG   : Analysis     : Filename: eas_analysis\n",
      "2016-11-30 15:25:35,813 INFO    : Analysis     :    eas\n",
      "2016-11-30 15:25:35,814 DEBUG   : Analysis     : Filename: latency_analysis\n",
      "2016-11-30 15:25:35,817 INFO    : Analysis     :    latency\n",
      "2016-11-30 15:25:35,818 DEBUG   : Analysis     : Filename: frequency_analysis\n",
      "2016-11-30 15:25:35,821 INFO    : Analysis     :    frequency\n",
      "2016-11-30 15:25:35,823 DEBUG   : Analysis     : Filename: functions_analysis\n",
      "2016-11-30 15:25:35,825 INFO    : Analysis     :    functions\n",
      "2016-11-30 15:25:35,827 DEBUG   : Analysis     : Filename: idle_analysis\n",
      "2016-11-30 15:25:35,830 INFO    : Analysis     :    idle\n",
      "2016-11-30 15:25:35,831 DEBUG   : Analysis     : Filename: status_analysis\n",
      "2016-11-30 15:25:35,834 INFO    : Analysis     :    status\n",
      "2016-11-30 15:25:35,835 DEBUG   : Analysis     : Filename: cpus_analysis\n",
      "2016-11-30 15:25:35,838 INFO    : Analysis     :    cpus\n"
     ]
    }
   ],
   "source": [
    "utils = t.get_task_utils_df(experiment)"
   ]
  },
  {
   "cell_type": "code",
   "execution_count": 9,
   "metadata": {
    "collapsed": false,
    "scrolled": false
   },
   "outputs": [
    {
     "name": "stderr",
     "output_type": "stream",
     "text": [
      "2016-11-30 15:25:36,072 DEBUG   : Analysis     : Analysis: /home/vagrant/lisa/libs/utils/analysis\n",
      "2016-11-30 15:25:36,073 DEBUG   : Analysis     : Syspath: ['/home/vagrant/lisa/libs/utils/analysis', '/home/vagrant/lisa/libs/utils/analysis', '', '/home/vagrant/lisa/libs/bart', '/home/vagrant/lisa/libs/trappy', '/home/vagrant/lisa/libs/devlib', '/home/vagrant/lisa', '/home/vagrant/lisa/libs/wlgen', '/home/vagrant/lisa/libs/utils', '/vagrant/ipynb/tests', '/usr/lib/python2.7', '/usr/lib/python2.7/plat-x86_64-linux-gnu', '/usr/lib/python2.7/lib-tk', '/usr/lib/python2.7/lib-old', '/usr/lib/python2.7/lib-dynload', '/usr/local/lib/python2.7/dist-packages', '/usr/lib/python2.7/dist-packages', '/usr/lib/python2.7/dist-packages/PILcompat', '/usr/lib/python2.7/dist-packages/gtk-2.0', '/usr/lib/pymodules/python2.7', '/usr/local/lib/python2.7/dist-packages/IPython/extensions', '/home/vagrant/.ipython']\n",
      "2016-11-30 15:25:36,075 INFO    : Analysis     : Registering trace analysis modules:\n",
      "2016-11-30 15:25:36,077 DEBUG   : Analysis     : Filename: tasks_analysis\n",
      "2016-11-30 15:25:36,078 INFO    : Analysis     :    tasks\n",
      "2016-11-30 15:25:36,079 DEBUG   : Analysis     : Filename: eas_analysis\n",
      "2016-11-30 15:25:36,081 INFO    : Analysis     :    eas\n",
      "2016-11-30 15:25:36,082 DEBUG   : Analysis     : Filename: latency_analysis\n",
      "2016-11-30 15:25:36,083 INFO    : Analysis     :    latency\n",
      "2016-11-30 15:25:36,084 DEBUG   : Analysis     : Filename: frequency_analysis\n",
      "2016-11-30 15:25:36,085 INFO    : Analysis     :    frequency\n",
      "2016-11-30 15:25:36,087 DEBUG   : Analysis     : Filename: functions_analysis\n",
      "2016-11-30 15:25:36,088 INFO    : Analysis     :    functions\n",
      "2016-11-30 15:25:36,089 DEBUG   : Analysis     : Filename: idle_analysis\n",
      "2016-11-30 15:25:36,090 INFO    : Analysis     :    idle\n",
      "2016-11-30 15:25:36,091 DEBUG   : Analysis     : Filename: status_analysis\n",
      "2016-11-30 15:25:36,092 INFO    : Analysis     :    status\n",
      "2016-11-30 15:25:36,094 DEBUG   : Analysis     : Filename: cpus_analysis\n",
      "2016-11-30 15:25:36,094 INFO    : Analysis     :    cpus\n"
     ]
    }
   ],
   "source": [
    "cpus = t.get_task_cpu_df(experiment)"
   ]
  },
  {
   "cell_type": "code",
   "execution_count": 10,
   "metadata": {
    "collapsed": false,
    "scrolled": true
   },
   "outputs": [
    {
     "name": "stderr",
     "output_type": "stream",
     "text": [
      "2016-11-30 15:25:36,276 DEBUG   : Analysis     : Analysis: /home/vagrant/lisa/libs/utils/analysis\n",
      "2016-11-30 15:25:36,278 DEBUG   : Analysis     : Syspath: ['/home/vagrant/lisa/libs/utils/analysis', '/home/vagrant/lisa/libs/utils/analysis', '/home/vagrant/lisa/libs/utils/analysis', '', '/home/vagrant/lisa/libs/bart', '/home/vagrant/lisa/libs/trappy', '/home/vagrant/lisa/libs/devlib', '/home/vagrant/lisa', '/home/vagrant/lisa/libs/wlgen', '/home/vagrant/lisa/libs/utils', '/vagrant/ipynb/tests', '/usr/lib/python2.7', '/usr/lib/python2.7/plat-x86_64-linux-gnu', '/usr/lib/python2.7/lib-tk', '/usr/lib/python2.7/lib-old', '/usr/lib/python2.7/lib-dynload', '/usr/local/lib/python2.7/dist-packages', '/usr/lib/python2.7/dist-packages', '/usr/lib/python2.7/dist-packages/PILcompat', '/usr/lib/python2.7/dist-packages/gtk-2.0', '/usr/lib/pymodules/python2.7', '/usr/local/lib/python2.7/dist-packages/IPython/extensions', '/home/vagrant/.ipython']\n",
      "2016-11-30 15:25:36,282 INFO    : Analysis     : Registering trace analysis modules:\n",
      "2016-11-30 15:25:36,284 DEBUG   : Analysis     : Filename: tasks_analysis\n",
      "2016-11-30 15:25:36,286 INFO    : Analysis     :    tasks\n",
      "2016-11-30 15:25:36,286 DEBUG   : Analysis     : Filename: eas_analysis\n",
      "2016-11-30 15:25:36,287 INFO    : Analysis     :    eas\n",
      "2016-11-30 15:25:36,289 DEBUG   : Analysis     : Filename: latency_analysis\n",
      "2016-11-30 15:25:36,290 INFO    : Analysis     :    latency\n",
      "2016-11-30 15:25:36,291 DEBUG   : Analysis     : Filename: frequency_analysis\n",
      "2016-11-30 15:25:36,293 INFO    : Analysis     :    frequency\n",
      "2016-11-30 15:25:36,294 DEBUG   : Analysis     : Filename: functions_analysis\n",
      "2016-11-30 15:25:36,295 INFO    : Analysis     :    functions\n",
      "2016-11-30 15:25:36,296 DEBUG   : Analysis     : Filename: idle_analysis\n",
      "2016-11-30 15:25:36,297 INFO    : Analysis     :    idle\n",
      "2016-11-30 15:25:36,298 DEBUG   : Analysis     : Filename: status_analysis\n",
      "2016-11-30 15:25:36,299 INFO    : Analysis     :    status\n",
      "2016-11-30 15:25:36,300 DEBUG   : Analysis     : Filename: cpus_analysis\n",
      "2016-11-30 15:25:36,301 INFO    : Analysis     :    cpus\n"
     ]
    }
   ],
   "source": [
    "estimated_power = t.get_power_df(experiment)"
   ]
  },
  {
   "cell_type": "code",
   "execution_count": 18,
   "metadata": {
    "collapsed": false,
    "scrolled": true
   },
   "outputs": [
    {
     "name": "stderr",
     "output_type": "stream",
     "text": [
      "2016-11-30 15:27:06,553 INFO    : root         :    EnergyModel - Searching 36 configurations for optimal task placement...\n",
      "2016-11-30 15:27:06,557 INFO    : root         :    EnergyModel - Done\n",
      "2016-11-30 15:27:06,561 INFO    : root         :    EnergyModel - Searching 36 configurations for optimal task placement...\n",
      "2016-11-30 15:27:06,565 INFO    : root         :    EnergyModel - Done\n",
      "2016-11-30 15:27:06,567 INFO    : root         :    EnergyModel - Searching 36 configurations for optimal task placement...\n",
      "2016-11-30 15:27:06,570 INFO    : root         :    EnergyModel - Done\n",
      "2016-11-30 15:27:06,574 INFO    : root         :    EnergyModel - Searching 36 configurations for optimal task placement...\n",
      "2016-11-30 15:27:06,578 INFO    : root         :    EnergyModel - Done\n",
      "2016-11-30 15:27:06,580 INFO    : root         :    EnergyModel - Searching 36 configurations for optimal task placement...\n",
      "2016-11-30 15:27:06,584 INFO    : root         :    EnergyModel - Done\n",
      "2016-11-30 15:27:06,586 INFO    : root         :    EnergyModel - Searching 36 configurations for optimal task placement...\n",
      "2016-11-30 15:27:06,588 INFO    : root         :    EnergyModel - Done\n"
     ]
    }
   ],
   "source": [
    "expected_power = t.get_expected_power_df(experiment)"
   ]
  },
  {
   "cell_type": "markdown",
   "metadata": {},
   "source": [
    "## Plot Schedule"
   ]
  },
  {
   "cell_type": "code",
   "execution_count": 12,
   "metadata": {
    "collapsed": false
   },
   "outputs": [
    {
     "name": "stderr",
     "output_type": "stream",
     "text": [
      "2016-11-30 15:25:36,594 DEBUG   : Analysis     : Analysis: /home/vagrant/lisa/libs/utils/analysis\n",
      "2016-11-30 15:25:36,595 DEBUG   : Analysis     : Syspath: ['/home/vagrant/lisa/libs/utils/analysis', '/home/vagrant/lisa/libs/utils/analysis', '/home/vagrant/lisa/libs/utils/analysis', '/home/vagrant/lisa/libs/utils/analysis', '', '/home/vagrant/lisa/libs/bart', '/home/vagrant/lisa/libs/trappy', '/home/vagrant/lisa/libs/devlib', '/home/vagrant/lisa', '/home/vagrant/lisa/libs/wlgen', '/home/vagrant/lisa/libs/utils', '/vagrant/ipynb/tests', '/usr/lib/python2.7', '/usr/lib/python2.7/plat-x86_64-linux-gnu', '/usr/lib/python2.7/lib-tk', '/usr/lib/python2.7/lib-old', '/usr/lib/python2.7/lib-dynload', '/usr/local/lib/python2.7/dist-packages', '/usr/lib/python2.7/dist-packages', '/usr/lib/python2.7/dist-packages/PILcompat', '/usr/lib/python2.7/dist-packages/gtk-2.0', '/usr/lib/pymodules/python2.7', '/usr/local/lib/python2.7/dist-packages/IPython/extensions', '/home/vagrant/.ipython']\n",
      "2016-11-30 15:25:36,597 INFO    : Analysis     : Registering trace analysis modules:\n",
      "2016-11-30 15:25:36,598 DEBUG   : Analysis     : Filename: tasks_analysis\n",
      "2016-11-30 15:25:36,599 INFO    : Analysis     :    tasks\n",
      "2016-11-30 15:25:36,601 DEBUG   : Analysis     : Filename: eas_analysis\n",
      "2016-11-30 15:25:36,602 INFO    : Analysis     :    eas\n",
      "2016-11-30 15:25:36,603 DEBUG   : Analysis     : Filename: latency_analysis\n",
      "2016-11-30 15:25:36,604 INFO    : Analysis     :    latency\n",
      "2016-11-30 15:25:36,605 DEBUG   : Analysis     : Filename: frequency_analysis\n",
      "2016-11-30 15:25:36,606 INFO    : Analysis     :    frequency\n",
      "2016-11-30 15:25:36,608 DEBUG   : Analysis     : Filename: functions_analysis\n",
      "2016-11-30 15:25:36,609 INFO    : Analysis     :    functions\n",
      "2016-11-30 15:25:36,611 DEBUG   : Analysis     : Filename: idle_analysis\n",
      "2016-11-30 15:25:36,612 INFO    : Analysis     :    idle\n",
      "2016-11-30 15:25:36,613 DEBUG   : Analysis     : Filename: status_analysis\n",
      "2016-11-30 15:25:36,614 INFO    : Analysis     :    status\n",
      "2016-11-30 15:25:36,615 DEBUG   : Analysis     : Filename: cpus_analysis\n",
      "2016-11-30 15:25:36,616 INFO    : Analysis     :    cpus\n"
     ]
    },
    {
     "data": {
      "text/html": [
       "<style>\n",
       "/*\n",
       "\n",
       " *    Copyright 2015-2016 ARM Limited\n",
       "\n",
       " *\n",
       "\n",
       " * Licensed under the Apache License, Version 2.0 (the \"License\");\n",
       "\n",
       " * you may not use this file except in compliance with the License.\n",
       "\n",
       " * You may obtain a copy of the License at\n",
       "\n",
       " *\n",
       "\n",
       " *     http://www.apache.org/licenses/LICENSE-2.0\n",
       "\n",
       " *\n",
       "\n",
       " * Unless required by applicable law or agreed to in writing, software\n",
       "\n",
       " * distributed under the License is distributed on an \"AS IS\" BASIS,\n",
       "\n",
       " * WITHOUT WARRANTIES OR CONDITIONS OF ANY KIND, either express or implied.\n",
       "\n",
       " * See the License for the specific language governing permissions and\n",
       "\n",
       " * limitations under the License.\n",
       "\n",
       " */\n",
       "\n",
       "\n",
       "\n",
       ".d3-tip {\n",
       "\n",
       "  line-height: 1;\n",
       "\n",
       "  padding: 12px;\n",
       "\n",
       "  background: rgba(0, 0, 0, 0.6);\n",
       "\n",
       "  color: #fff;\n",
       "\n",
       "  border-radius: 2px;\n",
       "\n",
       "  position: absolute !important;\n",
       "\n",
       "  z-index: 99999;\n",
       "\n",
       "}\n",
       "\n",
       "\n",
       "\n",
       ".d3-tip:after {\n",
       "\n",
       "  box-sizing: border-box;\n",
       "\n",
       "  pointer-events: none;\n",
       "\n",
       "  display: inline;\n",
       "\n",
       "  font-size: 10px;\n",
       "\n",
       "  width: 100%;\n",
       "\n",
       "  line-height: 1;\n",
       "\n",
       "  color: rgba(0, 0, 0, 0.6);\n",
       "\n",
       "  content: \"\\25BC\";\n",
       "\n",
       "  position: absolute !important;\n",
       "\n",
       "  z-index: 99999;\n",
       "\n",
       "  text-align: center;\n",
       "\n",
       "}\n",
       "\n",
       "\n",
       "\n",
       ".d3-tip.n:after {\n",
       "\n",
       "  margin: -1px 0 0 0;\n",
       "\n",
       "  top: 100%;\n",
       "\n",
       "  left: 0;\n",
       "\n",
       "}\n",
       "\n",
       "\n",
       "\n",
       ".contextRect {\n",
       "\n",
       "  fill: lightgray;\n",
       "\n",
       "  fill-opacity: 0.5;\n",
       "\n",
       "  stroke: black;\n",
       "\n",
       "  stroke-width: 1;\n",
       "\n",
       "  stroke-opacity: 1;\n",
       "\n",
       "  pointer-events: none;\n",
       "\n",
       "  shape-rendering: crispEdges;\n",
       "\n",
       "}\n",
       "\n",
       "\n",
       "\n",
       ".chart {\n",
       "\n",
       "  shape-rendering: crispEdges;\n",
       "\n",
       "}\n",
       "\n",
       "\n",
       "\n",
       ".mini text {\n",
       "\n",
       "  font: 9px sans-serif;\n",
       "\n",
       "}\n",
       "\n",
       "\n",
       "\n",
       ".main text {\n",
       "\n",
       "  font: 12px sans-serif;\n",
       "\n",
       "}\n",
       "\n",
       "\n",
       "\n",
       ".axis line, .axis path {\n",
       "\n",
       "  stroke: black;\n",
       "\n",
       "}\n",
       "\n",
       "\n",
       "\n",
       ".miniItem {\n",
       "\n",
       "  stroke-width: 8;\n",
       "\n",
       "}\n",
       "\n",
       "\n",
       "\n",
       ".brush .extent {\n",
       "\n",
       "\n",
       "\n",
       "  stroke: #000;\n",
       "\n",
       "  fill-opacity: .125;\n",
       "\n",
       "  shape-rendering: crispEdges;\n",
       "\n",
       "}\n",
       "\n",
       "</style>\n",
       "<div id=\"fig_39b12ada216f445098670ab0698c5c4a\" class=\"eventplot\">\n",
       "        <script>\n",
       "            var req = require.config( {\n",
       "\n",
       "                paths: {\n",
       "\n",
       "                    \"EventPlot\": '/nbextensions/plotter_scripts/EventPlot/EventPlot',\n",
       "                    \"d3-tip\": '/nbextensions/plotter_scripts/EventPlot/d3.tip.v0.6.3',\n",
       "                    \"d3-plotter\": '/nbextensions/plotter_scripts/EventPlot/d3.min'\n",
       "                },\n",
       "                shim: {\n",
       "                    \"d3-plotter\" : {\n",
       "                        \"exports\" : \"d3\"\n",
       "                    },\n",
       "                    \"d3-tip\": [\"d3-plotter\"],\n",
       "                    \"EventPlot\": {\n",
       "\n",
       "                        \"deps\": [\"d3-tip\", \"d3-plotter\" ],\n",
       "                        \"exports\":  \"EventPlot\"\n",
       "                    }\n",
       "                }\n",
       "            });\n",
       "            req([\"require\", \"EventPlot\"], function() {\n",
       "               EventPlot.generate('fig_39b12ada216f445098670ab0698c5c4a', '/nbextensions/');\n",
       "            });\n",
       "        </script>\n",
       "        </div>"
      ],
      "text/plain": [
       "<IPython.core.display.HTML object>"
      ]
     },
     "metadata": {},
     "output_type": "display_data"
    }
   ],
   "source": [
    "trace = t.get_trace(experiment)\n",
    "\n",
    "trappy.plotter.plot_trace(trace.ftrace)"
   ]
  },
  {
   "cell_type": "code",
   "execution_count": 47,
   "metadata": {
    "collapsed": false
   },
   "outputs": [
    {
     "data": {
      "text/html": [
       "<table style=\"border-style: hidden;\">\n",
       "<tr>\n",
       "<td style=\"border-style: hidden;\"><div class=\"ilineplot\" id=\"fig_200cb28aef1d48a9aaf63cd7df40c93e\">\n",
       "            <script>\n",
       "            var ilp_req = require.config( {\n",
       "\n",
       "                paths: {\n",
       "                    \"dygraph-sync\": '/nbextensions/plotter_scripts/ILinePlot/synchronizer',\n",
       "                    \"dygraph\": '/nbextensions/plotter_scripts/ILinePlot/dygraph-combined',\n",
       "                    \"ILinePlot\": '/nbextensions/plotter_scripts/ILinePlot/ILinePlot',\n",
       "                    \"underscore\": '/nbextensions/plotter_scripts/ILinePlot/underscore-min',\n",
       "                },\n",
       "\n",
       "                shim: {\n",
       "                    \"dygraph-sync\": [\"dygraph\"],\n",
       "                    \"ILinePlot\": {\n",
       "\n",
       "                        \"deps\": [\"dygraph-sync\", \"dygraph\", \"underscore\"],\n",
       "                        \"exports\":  \"ILinePlot\"\n",
       "                    }\n",
       "                }\n",
       "            });\n",
       "                ilp_req([\"require\", \"ILinePlot\"], function() {\n",
       "                ILinePlot.generate('fig_200cb28aef1d48a9aaf63cd7df40c93e', '/nbextensions/');\n",
       "            });\n",
       "            </script>\n",
       "        </div></td>\n",
       "</tr>\n",
       "<tr>\n",
       "<td style=\"border-style: hidden;\"><div style=\"text-align:center\" id=\"fig_200cb28aef1d48a9aaf63cd7df40c93e_legend\"></div></td>\n",
       "</tr>\n",
       "</table>"
      ],
      "text/plain": [
       "<IPython.core.display.HTML object>"
      ]
     },
     "metadata": {},
     "output_type": "display_data"
    }
   ],
   "source": [
    "df = pd.concat([expected_power, estimated_power], axis=1).fillna(method='ffill')\n",
    "df = df['power']\n",
    "\n",
    "df.columns = ['expected', 'estimated']\n",
    "\n",
    "ILinePlot(df, column=df.columns.tolist(), drawstyle='steps-post').view()"
   ]
  },
  {
   "cell_type": "markdown",
   "metadata": {},
   "source": [
    "## Find which resources over-used energy"
   ]
  },
  {
   "cell_type": "markdown",
   "metadata": {},
   "source": [
    "Sum the energy used by each component over the period of workload execution."
   ]
  },
  {
   "cell_type": "code",
   "execution_count": 20,
   "metadata": {
    "collapsed": false
   },
   "outputs": [
    {
     "name": "stdout",
     "output_type": "stream",
     "text": [
      "Average estimated system power: 286.459655872 bogo-Watts\n"
     ]
    }
   ],
   "source": [
    "df = expected_power\n",
    "window = t.get_window(experiment)\n",
    "estimated = {}\n",
    "for column in df.columns:\n",
    "    estimated[column] = area_under_curve(df[column]) / (window[1] - window[0])\n",
    "\n",
    "# estimated[\"power\"] should be the some of the other values (w/ rounding errors)\n",
    "assert (estimated[\"power\"] - (sum(estimated.values()) - estimated[\"power\"])) < 0.1\n",
    "\n",
    "print(\"Average estimated system power: %s bogo-Watts\" % estimated[\"power\"])"
   ]
  },
  {
   "cell_type": "markdown",
   "metadata": {},
   "source": [
    "Get expected (ideal) energy usage"
   ]
  },
  {
   "cell_type": "code",
   "execution_count": 35,
   "metadata": {
    "collapsed": false
   },
   "outputs": [
    {
     "data": {
      "text/plain": [
       "<matplotlib.axes.AxesSubplot at 0x7fc2b3d59c50>"
      ]
     },
     "execution_count": 35,
     "metadata": {},
     "output_type": "execute_result"
    },
    {
     "data": {
      "image/png": "[encoded data removed]",
      "text/plain": [
       "<matplotlib.figure.Figure at 0x7fc2b3ad80d0>"
      ]
     },
     "metadata": {},
     "output_type": "display_data"
    }
   ],
   "source": [
    "pd.DataFrame([expected_power.sum().to_dict(), estimated_power.sum().to_dict()]).plot(kind='bar', sharex=True)"
   ]
  },
  {
   "cell_type": "code",
   "execution_count": 29,
   "metadata": {
    "collapsed": false,
    "scrolled": true
   },
   "outputs": [
    {
     "data": {
      "text/plain": [
       "<matplotlib.axes.AxesSubplot at 0x7fc2b85ca190>"
      ]
     },
     "execution_count": 29,
     "metadata": {},
     "output_type": "execute_result"
    },
    {
     "data": {
      "image/png": "[encoded data removed]",
      "text/plain": [
       "<matplotlib.figure.Figure at 0x7fc2b858e950>"
      ]
     },
     "metadata": {},
     "output_type": "display_data"
    }
   ],
   "source": [
    "expected_power.sum().plot(kind='bar')"
   ]
  },
  {
   "cell_type": "code",
   "execution_count": 21,
   "metadata": {
    "collapsed": false
   },
   "outputs": [
    {
     "ename": "NameError",
     "evalue": "name 'tasks' is not defined",
     "output_type": "error",
     "traceback": [
      "\u001b[0;31m\u001b[0m",
      "\u001b[0;31mNameError\u001b[0mTraceback (most recent call last)",
      "\u001b[0;32m<ipython-input-21-ff866c4f0939>\u001b[0m in \u001b[0;36m<module>\u001b[0;34m()\u001b[0m\n\u001b[1;32m      4\u001b[0m     \u001b[0;32mreturn\u001b[0m \u001b[0;34m(\u001b[0m\u001b[0mphase\u001b[0m\u001b[0;34m[\u001b[0m\u001b[0;34m\"run\"\u001b[0m\u001b[0;34m]\u001b[0m \u001b[0;34m/\u001b[0m \u001b[0mfloat\u001b[0m\u001b[0;34m(\u001b[0m\u001b[0mphase\u001b[0m\u001b[0;34m[\u001b[0m\u001b[0;34m\"timer\"\u001b[0m\u001b[0;34m]\u001b[0m\u001b[0;34m[\u001b[0m\u001b[0;34m\"period\"\u001b[0m\u001b[0;34m]\u001b[0m\u001b[0;34m)\u001b[0m \u001b[0;34m*\u001b[0m \u001b[0menergy_model\u001b[0m\u001b[0;34m.\u001b[0m\u001b[0mcapacity_scale\u001b[0m\u001b[0;34m)\u001b[0m\u001b[0;34m\u001b[0m\u001b[0m\n\u001b[1;32m      5\u001b[0m \u001b[0;34m\u001b[0m\u001b[0m\n\u001b[0;32m----> 6\u001b[0;31m \u001b[0mcapacities\u001b[0m \u001b[0;34m=\u001b[0m \u001b[0;34m{\u001b[0m\u001b[0mt\u001b[0m\u001b[0;34m:\u001b[0m \u001b[0mtask_capacity\u001b[0m\u001b[0;34m(\u001b[0m\u001b[0mt\u001b[0m\u001b[0;34m)\u001b[0m \u001b[0;32mfor\u001b[0m \u001b[0mt\u001b[0m \u001b[0;32min\u001b[0m \u001b[0mtasks\u001b[0m\u001b[0;34m}\u001b[0m\u001b[0;34m\u001b[0m\u001b[0m\n\u001b[0m\u001b[1;32m      7\u001b[0m \u001b[0m_\u001b[0m\u001b[0;34m,\u001b[0m \u001b[0mutils\u001b[0m \u001b[0;34m=\u001b[0m \u001b[0menergy_model\u001b[0m\u001b[0;34m.\u001b[0m\u001b[0m_find_optimal_placements\u001b[0m\u001b[0;34m(\u001b[0m\u001b[0mcapacities\u001b[0m\u001b[0;34m)\u001b[0m\u001b[0;34m\u001b[0m\u001b[0m\n",
      "\u001b[0;31mNameError\u001b[0m: name 'tasks' is not defined"
     ]
    }
   ],
   "source": [
    "def task_capacity(task):\n",
    "    # Must be a single-phase task\n",
    "    [phase] = rtapp_params[task][\"phases\"].values()\n",
    "    return (phase[\"run\"] / float(phase[\"timer\"][\"period\"]) * energy_model.capacity_scale)\n",
    "\n",
    "capacities = {t: task_capacity(t) for t in tasks}\n",
    "_, utils = energy_model._find_optimal_placements(capacities)"
   ]
  },
  {
   "cell_type": "code",
   "execution_count": null,
   "metadata": {
    "collapsed": true
   },
   "outputs": [],
   "source": [
    "def distance_sq(a, b):\n",
    "    # Return the square of the distance between two n-dimensional points\n",
    "    return sum([(ai - bi) ** 2 for ai, bi in zip(a, b)])\n"
   ]
  },
  {
   "cell_type": "code",
   "execution_count": null,
   "metadata": {
    "collapsed": false
   },
   "outputs": [],
   "source": [
    "estimated = estimated_power.sum().to_dict()\n",
    "\n",
    "def distance_sq(a, b):\n",
    "    # Return the square of the distance between two n-dimensional points\n",
    "    return sum([(ai - bi) ** 2 for ai, bi in zip(a, b)])\n",
    "def distance_from_observed(util):\n",
    "    keys = estimated.keys()\n",
    "    power = energy_model.estimate_from_cpu_util(util, combine=True)\n",
    "    return distance_sq([power[k] for k in keys], [estimated[k] for k in keys])\n",
    "\n",
    "# Find the utilization distribution (task placement) that would give the most similar energy profile to the one observed\n",
    "utils\n",
    "util = min(utils, key=distance_from_observed)\n",
    "print util\n",
    "expected = energy_model.estimate_from_cpu_util(util, combine=True)"
   ]
  },
  {
   "cell_type": "code",
   "execution_count": null,
   "metadata": {
    "collapsed": false
   },
   "outputs": [],
   "source": [
    "expected_old = {'power': 139.76043360433604,\n",
    " (0,): 0.0,\n",
    " (0, 1, 2, 3): 63.708943089430896,\n",
    " (1,): 0.0,\n",
    " (2,): 0.0,\n",
    " (3,): 76.05149051490514,\n",
    " (4,): 0.0,\n",
    " (4, 5, 6, 7): 0.0,\n",
    " (5,): 0.0,\n",
    " (6,): 0.0,\n",
    " (7,): 0.0}"
   ]
  },
  {
   "cell_type": "code",
   "execution_count": null,
   "metadata": {
    "collapsed": false,
    "scrolled": true
   },
   "outputs": [],
   "source": [
    "energy_model.estimate_from_cpu_util(util)"
   ]
  },
  {
   "cell_type": "markdown",
   "metadata": {},
   "source": [
    "Show how much extra energy each component seemed to use"
   ]
  },
  {
   "cell_type": "code",
   "execution_count": null,
   "metadata": {
    "collapsed": false
   },
   "outputs": [],
   "source": [
    "def df_for_graph(power):\n",
    "    # Convert a dict to a DataFrame that can be used to display a bar graph\n",
    "    # Order the bars by key length - so CPU-level numbers are first, then cluster numbers, then the total (\"power\")\n",
    "    items = sorted(power.items(), key=lambda (k, v): len(k))\n",
    "    [keys, vals] = zip(*items)\n",
    "    return pd.DataFrame(list(vals), index=list(keys))\n",
    "\n",
    "assert estimated.keys() == expected.keys()\n",
    "\n",
    "df_exp = df_for_graph(expected)\n",
    "df_est = df_for_graph(estimated)\n",
    "\n",
    "df = pd.concat([df_exp, df_est], axis=1, join_axes=[df_exp.index])\n",
    "df.columns = [\"expected\", \"estimated\"]\n",
    "df.plot(kind=\"bar\")"
   ]
  },
  {
   "cell_type": "code",
   "execution_count": null,
   "metadata": {
    "collapsed": false
   },
   "outputs": [],
   "source": [
    "trace.analysis.cpus.plotCPU()"
   ]
  },
  {
   "cell_type": "code",
   "execution_count": null,
   "metadata": {
    "collapsed": false,
    "scrolled": true
   },
   "outputs": [],
   "source": [
    "trace.analysis.frequency.plotClusterFrequencies()"
   ]
  },
  {
   "cell_type": "code",
   "execution_count": null,
   "metadata": {
    "collapsed": false,
    "scrolled": true
   },
   "outputs": [],
   "source": [
    "trace.analysis.cpus.plotCPU()"
   ]
  },
  {
   "cell_type": "code",
   "execution_count": null,
   "metadata": {
    "collapsed": false,
    "scrolled": true
   },
   "outputs": [],
   "source": [
    "trace.analysis.idle.plotClusterIdleStateResidency()\n",
    "trace.analysis.idle.plotCPUIdleStateResidency()"
   ]
  }
 ],
 "metadata": {
  "kernelspec": {
   "display_name": "Python 2",
   "language": "python",
   "name": "python2"
  },
  "language_info": {
   "codemirror_mode": {
    "name": "ipython",
    "version": 2
   },
   "file_extension": ".py",
   "mimetype": "text/x-python",
   "name": "python",
   "nbconvert_exporter": "python",
   "pygments_lexer": "ipython2",
   "version": "2.7.6"
  }
 },
 "nbformat": 4,
 "nbformat_minor": 1
}
