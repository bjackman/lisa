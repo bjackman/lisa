{
 "cells": [
  {
   "cell_type": "markdown",
   "metadata": {
    "collapsed": true
   },
   "source": [
    "# Run Generic Automated EAS tests\n",
    "This is a starting-point notebook for running tests from the generic EAS suite in `tests/eas/generic.py`. The test classes that are imported here provide helper methods to aid analysis of the cause of failure. You can use Python's `help` built-in to find those methods (or you can just read the docstrings in the code).\n",
    "\n",
    "These tests make estimation of the energy efficiency of task placements, without directly examining the behaviour of cpufreq or cpuidle. Several test classes are provided, the only difference between them being the workload that is used."
   ]
  },
  {
   "cell_type": "markdown",
   "metadata": {},
   "source": [
    "### Setup"
   ]
  },
  {
   "cell_type": "code",
   "execution_count": 1,
   "metadata": {
    "collapsed": false
   },
   "outputs": [
    {
     "name": "stderr",
     "output_type": "stream",
     "text": [
      "2017-03-02 11:25:17,698 INFO    : root         : Using LISA logging configuration:\n",
      "2017-03-02 11:25:17,699 INFO    : root         :   /home/brendan/sources/lisa/logging.conf\n"
     ]
    }
   ],
   "source": [
    "%load_ext autoreload\n",
    "%autoreload 2\n",
    "%matplotlib inline\n",
    "\n",
    "import logging\n",
    "from conf import LisaLogging\n",
    "LisaLogging.setup()#level=logging.WARNING)\n",
    "\n",
    "import pandas as pd\n",
    "\n",
    "from perf_analysis import PerfAnalysis\n",
    "\n",
    "import trappy\n",
    "from trappy import ILinePlot\n",
    "from trappy.stats.grammar import Parser"
   ]
  },
  {
   "cell_type": "markdown",
   "metadata": {},
   "source": [
    "## Run test workload\n",
    "\n",
    "If you simply want to run all the tests and get pass/fail results, use this command in the LISA shell: `lisa-test tests/eas/generic.py`. This notebook is intended as a starting point for analysing what scheduler behaviour was judged to be faulty.\n",
    "\n",
    "Target configuration is taken from `$LISA_HOME/target.config` - you'll need to edit that file to provide connection details for the target you want to test."
   ]
  },
  {
   "cell_type": "code",
   "execution_count": 2,
   "metadata": {
    "collapsed": false
   },
   "outputs": [],
   "source": [
    "from tests.eas.generic import TwoBigTasks, TwoBigThreeSmall, RampUp, RampDown, EnergyModelWakeMigration, OneSmallTask"
   ]
  },
  {
   "cell_type": "markdown",
   "metadata": {},
   "source": [
    "By default we'll run the EnergyModelWakeMigration test, which runs a workload alternating between high and low-intensity. All the other test classes shown above have the same interface, but run different workloads. To run the tests on different workloads, change this line below:"
   ]
  },
  {
   "cell_type": "code",
   "execution_count": 3,
   "metadata": {
    "collapsed": false
   },
   "outputs": [
    {
     "name": "stdout",
     "output_type": "stream",
     "text": [
      "\n",
      "    Test EAS for tasks alternating beetween 10% and 50%\n",
      "    \n"
     ]
    }
   ],
   "source": [
    "t = EnergyModelWakeMigration()\n",
    "print t.__doc__"
   ]
  },
  {
   "cell_type": "code",
   "execution_count": 4,
   "metadata": {
    "collapsed": false,
    "scrolled": true
   },
   "outputs": [
    {
     "name": "stderr",
     "output_type": "stream",
     "text": [
      "2017-03-02 11:25:18,016 INFO    : LisaTest     : Setup tests execution engine...\n",
      "2017-03-02 11:25:18,017 INFO    : TestEnv      : Using base path: /home/brejac01/sources/lisa\n",
      "2017-03-02 11:25:18,017 INFO    : TestEnv      : Loading default (file) target configuration\n",
      "2017-03-02 11:25:18,018 INFO    : TestEnv      : Loading target configuration [/home/brejac01/sources/lisa/target.config]...\n",
      "2017-03-02 11:25:18,019 INFO    : TestEnv      : Loading custom (inline) test configuration\n",
      "2017-03-02 11:25:18,020 INFO    : TestEnv      : Devlib modules to load: ['bl', u'cpuidle', 'cpufreq', 'cgroups']\n",
      "2017-03-02 11:25:18,020 INFO    : TestEnv      : Connecting linux target:\n",
      "2017-03-02 11:25:18,021 INFO    : TestEnv      :   username : brendan\n",
      "2017-03-02 11:25:18,021 INFO    : TestEnv      :       host : 192.168.2.2\n",
      "2017-03-02 11:25:18,022 INFO    : TestEnv      :   password : password\n",
      "2017-03-02 11:25:18,022 INFO    : TestEnv      : Connection settings:\n",
      "2017-03-02 11:25:18,023 INFO    : TestEnv      :    {'username': u'brendan', 'host': u'192.168.2.2', 'password': u'password'}\n",
      "2017-03-02 11:25:25,651 INFO    : TestEnv      : Initializing target workdir:\n",
      "2017-03-02 11:25:25,652 INFO    : TestEnv      :    /home/brendan/devlib-target\n",
      "2017-03-02 11:25:29,290 INFO    : CGroups      : Available controllers:\n",
      "2017-03-02 11:25:31,018 INFO    : CGroups      :   cpuset       : /home/brendan/devlib-target/cgroups/devlib_cgh2\n",
      "2017-03-02 11:25:32,745 INFO    : CGroups      :   cpu          : /home/brendan/devlib-target/cgroups/devlib_cgh3\n",
      "2017-03-02 11:25:34,472 INFO    : CGroups      :   cpuacct      : /home/brendan/devlib-target/cgroups/devlib_cgh3\n",
      "2017-03-02 11:25:36,198 INFO    : CGroups      :   blkio        : /home/brendan/devlib-target/cgroups/devlib_cgh4\n",
      "2017-03-02 11:25:37,922 INFO    : CGroups      :   memory       : /home/brendan/devlib-target/cgroups/devlib_cgh5\n",
      "2017-03-02 11:25:39,648 INFO    : CGroups      :   devices      : /home/brendan/devlib-target/cgroups/devlib_cgh6\n",
      "2017-03-02 11:25:41,376 INFO    : CGroups      :   perf_event   : /home/brendan/devlib-target/cgroups/devlib_cgh7\n",
      "2017-03-02 11:25:43,101 INFO    : CGroups      :   hugetlb      : /home/brendan/devlib-target/cgroups/devlib_cgh8\n",
      "2017-03-02 11:25:44,826 INFO    : CGroups      :   pids         : /home/brendan/devlib-target/cgroups/devlib_cgh9\n",
      "2017-03-02 11:25:45,500 INFO    : TestEnv      : Topology:\n",
      "2017-03-02 11:25:45,501 INFO    : TestEnv      :    [[0, 3, 4, 5], [1, 2]]\n",
      "2017-03-02 11:25:48,128 INFO    : TestEnv      : Loading default EM:\n",
      "2017-03-02 11:25:48,129 INFO    : TestEnv      :    /home/brejac01/sources/lisa/libs/utils/platforms/juno.json\n",
      "2017-03-02 11:25:49,823 WARNING : LinuxTarget  : Event [sched_overutilized] not available for tracing\n",
      "2017-03-02 11:25:49,826 WARNING : LinuxTarget  : Event [sched_energy_diff] not available for tracing\n",
      "2017-03-02 11:25:49,828 WARNING : LinuxTarget  : Event [sched_load_avg_task] not available for tracing\n",
      "2017-03-02 11:25:49,830 WARNING : LinuxTarget  : Event [sched_load_avg_cpu] not available for tracing\n",
      "2017-03-02 11:25:49,836 INFO    : TestEnv      : Enabled tracepoints:\n",
      "2017-03-02 11:25:49,837 INFO    : TestEnv      :    sched_overutilized\n",
      "2017-03-02 11:25:49,838 INFO    : TestEnv      :    sched_energy_diff\n",
      "2017-03-02 11:25:49,840 INFO    : TestEnv      :    sched_load_avg_task\n",
      "2017-03-02 11:25:49,841 INFO    : TestEnv      :    sched_load_avg_cpu\n",
      "2017-03-02 11:25:49,842 INFO    : TestEnv      :    sched_migrate_task\n",
      "2017-03-02 11:25:49,843 INFO    : TestEnv      :    sched_switch\n",
      "2017-03-02 11:25:49,844 INFO    : TestEnv      :    sched_pelt_se\n",
      "2017-03-02 11:25:49,846 INFO    : TestEnv      :    cpu_idle\n",
      "2017-03-02 11:25:49,847 INFO    : TestEnv      :    cpu_frequency\n",
      "2017-03-02 11:25:49,849 INFO    : EnergyMeter  : HWMON module not enabled\n",
      "2017-03-02 11:25:49,850 WARNING : EnergyMeter  : Energy sampling disabled by configuration\n",
      "2017-03-02 11:25:49,851 INFO    : TestEnv      : Set results folder to:\n",
      "2017-03-02 11:25:49,852 INFO    : TestEnv      :    /home/brejac01/sources/lisa/results/20170302_112549\n",
      "2017-03-02 11:25:49,853 INFO    : TestEnv      : Experiment results available also in:\n",
      "2017-03-02 11:25:49,854 INFO    : TestEnv      :    /home/brejac01/sources/lisa/results_latest\n",
      "2017-03-02 11:25:49,855 INFO    : Executor     : Loading custom (inline) test configuration\n",
      "2017-03-02 11:25:49,856 INFO    : Executor     : \n",
      "2017-03-02 11:25:49,857 INFO    : Executor     : ################################################################################\n",
      "2017-03-02 11:25:49,858 INFO    : Executor     : Experiments configuration\n",
      "2017-03-02 11:25:49,859 INFO    : Executor     : ################################################################################\n",
      "2017-03-02 11:25:49,861 INFO    : Executor     : Configured to run:\n",
      "2017-03-02 11:25:49,862 INFO    : Executor     :      1 target configurations:\n",
      "2017-03-02 11:25:49,863 INFO    : Executor     :       energy_aware\n",
      "2017-03-02 11:25:49,864 INFO    : Executor     :      1 workloads (1 iterations each)\n",
      "2017-03-02 11:25:49,865 INFO    : Executor     :       em_wake_migration\n",
      "2017-03-02 11:25:49,866 INFO    : Executor     : Total: 1 experiments\n",
      "2017-03-02 11:25:49,867 INFO    : Executor     : Results will be collected under:\n",
      "2017-03-02 11:25:49,868 INFO    : Executor     :       /home/brejac01/sources/lisa/results/20170302_112549\n",
      "2017-03-02 11:25:49,869 INFO    : Executor     : rt-app workloads found, installing tool on target\n",
      "2017-03-02 11:25:56,533 INFO    : LisaTest     : Experiments execution...\n",
      "2017-03-02 11:25:56,535 INFO    : Executor     : \n",
      "2017-03-02 11:25:56,536 INFO    : Executor     : ################################################################################\n",
      "2017-03-02 11:25:56,537 INFO    : Executor     : Experiments execution\n",
      "2017-03-02 11:25:56,538 INFO    : Executor     : ################################################################################\n",
      "2017-03-02 11:25:56,539 INFO    : Executor     : \n",
      "2017-03-02 11:25:56,541 INFO    : Executor     : ================================================================================\n",
      "2017-03-02 11:25:56,542 INFO    : Executor     : configuring target for [energy_aware] experiments\n",
      "2017-03-02 11:25:58,259 INFO    : Executor     : Set scheduler feature: ENERGY_AWARE\n",
      "2017-03-02 11:25:59,164 WARNING : Executor     : cpufreq governor not specified, using currently configured governor\n",
      "2017-03-02 11:25:59,166 WARNING : TestEnv      : Using configuration provided RTApp calibration\n",
      "2017-03-02 11:25:59,167 INFO    : TestEnv      : Using RT-App calibration values:\n",
      "2017-03-02 11:25:59,168 INFO    : TestEnv      :    {\"0\": 354, \"1\": 138, \"2\": 138, \"3\": 363, \"4\": 355, \"5\": 357}\n",
      "2017-03-02 11:25:59,169 INFO    : Workload     : Setup new workload em_wake_migration\n",
      "2017-03-02 11:25:59,579 INFO    : Workload     : Workload duration defined by longest task\n",
      "2017-03-02 11:25:59,581 INFO    : Workload     : Default policy: SCHED_OTHER\n",
      "2017-03-02 11:25:59,582 INFO    : Workload     : ------------------------\n",
      "2017-03-02 11:25:59,583 INFO    : Workload     : task [task_wmig_0], sched: using default policy\n",
      "2017-03-02 11:25:59,584 INFO    : Workload     :  | calibration CPU: 1\n",
      "2017-03-02 11:25:59,585 INFO    : Workload     :  | loops count: 2\n",
      "2017-03-02 11:25:59,586 INFO    : Workload     : + phase_000001: duration 2.000000 [s] (20 loops)\n",
      "2017-03-02 11:25:59,587 INFO    : Workload     : |  period   100000 [us], duty_cycle  10 %\n",
      "2017-03-02 11:25:59,588 INFO    : Workload     : |  run_time  10000 [us], sleep_time  90000 [us]\n",
      "2017-03-02 11:25:59,589 INFO    : Workload     : + phase_000002: duration 2.000000 [s] (20 loops)\n",
      "2017-03-02 11:25:59,590 INFO    : Workload     : |  period   100000 [us], duty_cycle  50 %\n",
      "2017-03-02 11:25:59,591 INFO    : Workload     : |  run_time  50000 [us], sleep_time  50000 [us]\n",
      "2017-03-02 11:25:59,592 INFO    : Workload     : ------------------------\n",
      "2017-03-02 11:25:59,593 INFO    : Workload     : task [task_wmig_1], sched: using default policy\n",
      "2017-03-02 11:25:59,594 INFO    : Workload     :  | calibration CPU: 1\n",
      "2017-03-02 11:25:59,595 INFO    : Workload     :  | loops count: 2\n",
      "2017-03-02 11:25:59,596 INFO    : Workload     : + phase_000001: duration 2.000000 [s] (20 loops)\n",
      "2017-03-02 11:25:59,597 INFO    : Workload     : |  period   100000 [us], duty_cycle  10 %\n",
      "2017-03-02 11:25:59,598 INFO    : Workload     : |  run_time  10000 [us], sleep_time  90000 [us]\n",
      "2017-03-02 11:25:59,599 INFO    : Workload     : + phase_000002: duration 2.000000 [s] (20 loops)\n",
      "2017-03-02 11:25:59,600 INFO    : Workload     : |  period   100000 [us], duty_cycle  50 %\n",
      "2017-03-02 11:25:59,601 INFO    : Workload     : |  run_time  50000 [us], sleep_time  50000 [us]\n",
      "2017-03-02 11:26:00,661 INFO    : Executor     : ~~~~~~~~~~~~~~~~~~~~~~~~~~~~~~~~~~~~~~~~~~~~~~~~~~~~~~~~~~~~~~~~~~~~~~~~~~~~~~~~\n",
      "2017-03-02 11:26:00,663 INFO    : Executor     : Experiment 0/1, [energy_aware:em_wake_migration] 1/1\n",
      "2017-03-02 11:26:01,078 WARNING : Executor     : No freezer cgroup controller on target. Not freezing userspace\n",
      "2017-03-02 11:26:01,080 WARNING : Executor     : FTrace events collection enabled\n",
      "2017-03-02 11:26:07,973 INFO    : Workload     : Workload execution START:\n",
      "2017-03-02 11:26:07,975 INFO    : Workload     :    /home/brendan/devlib-target/bin/rt-app /home/brendan/devlib-target/run_dir/em_wake_migration_00.json 2>&1\n"
     ]
    },
    {
     "name": "stdout",
     "output_type": "stream",
     "text": [
      "\n"
     ]
    },
    {
     "name": "stderr",
     "output_type": "stream",
     "text": [
      "2017-03-02 11:26:26,189 INFO    : Executor     : Collected FTrace binary trace:\n",
      "2017-03-02 11:26:26,190 INFO    : Executor     :    <res_dir>/rtapp:energy_aware:em_wake_migration/1/trace.dat\n",
      "2017-03-02 11:26:26,191 INFO    : Executor     : Collected FTrace function profiling:\n",
      "2017-03-02 11:26:26,192 INFO    : Executor     :    <res_dir>/rtapp:energy_aware:em_wake_migration/1/trace_stat.json\n",
      "2017-03-02 11:26:26,193 INFO    : Executor     : --------------------------------------------------------------------------------\n",
      "2017-03-02 11:26:26,194 INFO    : Executor     : \n",
      "2017-03-02 11:26:26,195 INFO    : Executor     : ################################################################################\n",
      "2017-03-02 11:26:26,196 INFO    : Executor     : Experiments execution completed\n",
      "2017-03-02 11:26:26,197 INFO    : Executor     : ################################################################################\n",
      "2017-03-02 11:26:26,197 INFO    : Executor     : Results available in:\n",
      "2017-03-02 11:26:26,198 INFO    : Executor     :       /home/brejac01/sources/lisa/results/20170302_112549\n"
     ]
    }
   ],
   "source": [
    "t.setUpClass()"
   ]
  },
  {
   "cell_type": "code",
   "execution_count": 5,
   "metadata": {
    "collapsed": true
   },
   "outputs": [],
   "source": [
    "experiment = t.executor.experiments[0]"
   ]
  },
  {
   "cell_type": "markdown",
   "metadata": {},
   "source": [
    "## Examine trace\n",
    "\n"
   ]
  },
  {
   "cell_type": "markdown",
   "metadata": {},
   "source": [
    "`get_power_df` and `get_expected_power_df` look at the ftrace results from the workload estimation and judge the energy efficiency of the system, considering *only task placement* (assuming perfect load-tracking/prediction, cpuidle, and cpufreq systems). The energy estimation doesn't take every single wakeup and idle period into account, but simply estimates an average power usage over the time that each task spent attached to each CPU during each phase of the rt-app workload.\n",
    "\n",
    "These return DataFrames estimating the energy usage of the system under each task placement. `estimated_power` will represent this estimation for the scheduling pattern that we actually observed, while `expected_power` will represent our estimation of how much power an **optimal** scheduling pattern would use.\n",
    "\n",
    "Check the docstrings for these functions (and other functions in the test class) for more detail."
   ]
  },
  {
   "cell_type": "code",
   "execution_count": 6,
   "metadata": {
    "collapsed": false,
    "scrolled": false
   },
   "outputs": [
    {
     "name": "stderr",
     "output_type": "stream",
     "text": [
      "2017-03-02 11:26:27,648 INFO    : Trace        : Platform clusters verified to be Frequency coherent\n",
      "2017-03-02 11:26:28,643 INFO    : Trace        : Platform clusters verified to be Frequency coherent\n"
     ]
    }
   ],
   "source": [
    "# print t.get_power_df.__doc__\n",
    "estimated_power = t.get_power_df(experiment)"
   ]
  },
  {
   "cell_type": "code",
   "execution_count": 7,
   "metadata": {
    "collapsed": false,
    "scrolled": true
   },
   "outputs": [],
   "source": [
    "# print t.get_expected_power_df.__doc__\n",
    "expected_power = t.get_expected_power_df(experiment)"
   ]
  },
  {
   "cell_type": "markdown",
   "metadata": {},
   "source": [
    "### Show the utilisation of the workload tasks over time"
   ]
  },
  {
   "cell_type": "code",
   "execution_count": 8,
   "metadata": {
    "collapsed": false
   },
   "outputs": [
    {
     "data": {
      "text/html": [
       "<table style=\"border-style: hidden;\">\n",
       "<tr>\n",
       "<td style=\"border-style: hidden;\"><div class=\"ilineplot\" id=\"fig_0540dd5da3cc484eadc11643fa5c2a37\"></div></td>\n",
       "</tr>\n",
       "<tr>\n",
       "<td style=\"border-style: hidden;\"><div style=\"text-align:center\" id=\"fig_0540dd5da3cc484eadc11643fa5c2a37_legend\"></div></td>\n",
       "</tr>\n",
       "</table>\n",
       "<script>\n",
       "var fig_0540dd5da3cc484eadc11643fa5c2a37_data = {\"logscale\": false, \"strokeWidth\": 1.0, \"pointSize\": 2, \"name\": \"fig_0540dd5da3cc484eadc11643fa5c2a37\", \"step_plot\": true, \"fill_graph\": false, \"title\": \"\", \"drawPoints\": false, \"per_line\": 1, \"height\": 400, \"rangesel\": false, \"data\": {\"labels\": [\"index\", \"DataFrame 0:task_wmig_0\", \"DataFrame 0:task_wmig_1\"], \"data\": [[2.4508170000044629, 102.4, 102.4], [4.4508170000044629, 512.0, 512.0], [6.4508170000044629, 102.4, 102.4], [8.4508170000044629, 512.0, 512.0], [10.450817000004463, 0.0, 0.0]]}};\n",
       "</script>\n",
       "<!-- TRAPPY_PUBLISH_SOURCE_LIB = \"http://cdnjs.cloudflare.com/ajax/libs/dygraph/1.1.1/dygraph-combined.js\" -->\n",
       "<!-- TRAPPY_PUBLISH_SOURCE_LIB = \"http://dygraphs.com/extras/synchronizer.js\" -->\n",
       "<!-- TRAPPY_PUBLISH_SOURCE_LIB = \"https://cdnjs.cloudflare.com/ajax/libs/underscore.js/1.8.3/underscore-min.js\" -->\n",
       "\n",
       "            <script>\n",
       "            /* TRAPPY_PUBLISH_IMPORT = \"plotter/js/ILinePlot.js\" */\n",
       "            /* TRAPPY_PUBLISH_REMOVE_START */\n",
       "            var ilp_req = require.config( {\n",
       "\n",
       "                paths: {\n",
       "                    \"dygraph-sync\": '/nbextensions/plotter_scripts/ILinePlot/synchronizer',\n",
       "                    \"dygraph\": '/nbextensions/plotter_scripts/ILinePlot/dygraph-combined',\n",
       "                    \"ILinePlot\": '/nbextensions/plotter_scripts/ILinePlot/ILinePlot',\n",
       "                    \"underscore\": '/nbextensions/plotter_scripts/ILinePlot/underscore-min',\n",
       "                },\n",
       "\n",
       "                shim: {\n",
       "                    \"dygraph-sync\": [\"dygraph\"],\n",
       "                    \"ILinePlot\": {\n",
       "\n",
       "                        \"deps\": [\"dygraph-sync\", \"dygraph\", \"underscore\"],\n",
       "                        \"exports\":  \"ILinePlot\"\n",
       "                    }\n",
       "                }\n",
       "            });\n",
       "                /* TRAPPY_PUBLISH_REMOVE_STOP */\n",
       "                ilp_req([\"require\", \"ILinePlot\"], function() { /* TRAPPY_PUBLISH_REMOVE_LINE */\n",
       "                ILinePlot.generate(fig_0540dd5da3cc484eadc11643fa5c2a37_data);\n",
       "            }); /* TRAPPY_PUBLISH_REMOVE_LINE */\n",
       "            </script>\n",
       "        "
      ],
      "text/plain": [
       "<IPython.core.display.HTML object>"
      ]
     },
     "metadata": {},
     "output_type": "display_data"
    },
    {
     "data": {
      "text/html": [
       "<div>\n",
       "<table border=\"1\" class=\"dataframe\">\n",
       "  <thead>\n",
       "    <tr style=\"text-align: right;\">\n",
       "      <th></th>\n",
       "      <th>task_wmig_0</th>\n",
       "      <th>task_wmig_1</th>\n",
       "    </tr>\n",
       "  </thead>\n",
       "  <tbody>\n",
       "    <tr>\n",
       "      <th>2.450817</th>\n",
       "      <td>102.4</td>\n",
       "      <td>102.4</td>\n",
       "    </tr>\n",
       "    <tr>\n",
       "      <th>4.450817</th>\n",
       "      <td>512.0</td>\n",
       "      <td>512.0</td>\n",
       "    </tr>\n",
       "    <tr>\n",
       "      <th>6.450817</th>\n",
       "      <td>102.4</td>\n",
       "      <td>102.4</td>\n",
       "    </tr>\n",
       "    <tr>\n",
       "      <th>8.450817</th>\n",
       "      <td>512.0</td>\n",
       "      <td>512.0</td>\n",
       "    </tr>\n",
       "    <tr>\n",
       "      <th>10.450817</th>\n",
       "      <td>0.0</td>\n",
       "      <td>0.0</td>\n",
       "    </tr>\n",
       "  </tbody>\n",
       "</table>\n",
       "</div>"
      ],
      "text/plain": [
       "           task_wmig_0  task_wmig_1\n",
       "2.450817         102.4        102.4\n",
       "4.450817         512.0        512.0\n",
       "6.450817         102.4        102.4\n",
       "8.450817         512.0        512.0\n",
       "10.450817          0.0          0.0"
      ]
     },
     "execution_count": 8,
     "metadata": {},
     "output_type": "execute_result"
    }
   ],
   "source": [
    "ex = t.experiments[0]\n",
    "tu = t.get_task_utils_df(t.experiments[0])\n",
    "\n",
    "ILinePlot(tu, column=tu.columns.tolist(), drawstyle='steps-post').view()\n",
    "tu"
   ]
  },
  {
   "cell_type": "markdown",
   "metadata": {},
   "source": [
    "##  Plot the estimated optimal work distribution for each phase of the workload"
   ]
  },
  {
   "cell_type": "code",
   "execution_count": 9,
   "metadata": {
    "collapsed": true
   },
   "outputs": [],
   "source": [
    "nrg_model = t.te.nrg_model"
   ]
  },
  {
   "cell_type": "code",
   "execution_count": 10,
   "metadata": {
    "collapsed": true
   },
   "outputs": [],
   "source": [
    "def examine_phase(n):\n",
    "    # [row.to_dict() for time, row in tu.iterrows()]\n",
    "    phase0 = tu.iloc[n].to_dict()\n",
    "    placements = nrg_model.get_optimal_placements(phase0)\n",
    "    for placement in placements:\n",
    "        pd.DataFrame(list(placement)).plot(kind='bar')"
   ]
  },
  {
   "cell_type": "code",
   "execution_count": 11,
   "metadata": {
    "collapsed": false
   },
   "outputs": [
    {
     "data": {
      "image/png": "[encoded data removed]",
      "text/plain": [
       "<matplotlib.figure.Figure at 0x7f4828a6c910>"
      ]
     },
     "metadata": {},
     "output_type": "display_data"
    },
    {
     "data": {
      "image/png": "[encoded data removed]",
      "text/plain": [
       "<matplotlib.figure.Figure at 0x7f4828a6ce90>"
      ]
     },
     "metadata": {},
     "output_type": "display_data"
    },
    {
     "data": {
      "image/png": "[encoded data removed]",
      "text/plain": [
       "<matplotlib.figure.Figure at 0x7f4828a6c650>"
      ]
     },
     "metadata": {},
     "output_type": "display_data"
    },
    {
     "data": {
      "image/png": "[encoded data removed]",
      "text/plain": [
       "<matplotlib.figure.Figure at 0x7f4828a6c810>"
      ]
     },
     "metadata": {},
     "output_type": "display_data"
    }
   ],
   "source": [
    "examine_phase(0)"
   ]
  },
  {
   "cell_type": "code",
   "execution_count": 12,
   "metadata": {
    "collapsed": false
   },
   "outputs": [
    {
     "data": {
      "image/png": "[encoded data removed]",
      "text/plain": [
       "<matplotlib.figure.Figure at 0x7f4816abefd0>"
      ]
     },
     "metadata": {},
     "output_type": "display_data"
    }
   ],
   "source": [
    "examine_phase(1)"
   ]
  },
  {
   "cell_type": "markdown",
   "metadata": {},
   "source": [
    "## Plot Schedule"
   ]
  },
  {
   "cell_type": "code",
   "execution_count": 13,
   "metadata": {
    "collapsed": false
   },
   "outputs": [
    {
     "name": "stderr",
     "output_type": "stream",
     "text": [
      "2017-03-02 11:26:30,335 INFO    : Trace        : Platform clusters verified to be Frequency coherent\n"
     ]
    }
   ],
   "source": [
    "trace = t.get_trace(experiment)"
   ]
  },
  {
   "cell_type": "code",
   "execution_count": 14,
   "metadata": {
    "collapsed": false,
    "scrolled": false
   },
   "outputs": [
    {
     "data": {
      "text/html": [
       "<style>\n",
       "/*\n",
       " *    Copyright 2015-2016 ARM Limited\n",
       " *\n",
       " * Licensed under the Apache License, Version 2.0 (the \"License\");\n",
       " * you may not use this file except in compliance with the License.\n",
       " * You may obtain a copy of the License at\n",
       " *\n",
       " *     http://www.apache.org/licenses/LICENSE-2.0\n",
       " *\n",
       " * Unless required by applicable law or agreed to in writing, software\n",
       " * distributed under the License is distributed on an \"AS IS\" BASIS,\n",
       " * WITHOUT WARRANTIES OR CONDITIONS OF ANY KIND, either express or implied.\n",
       " * See the License for the specific language governing permissions and\n",
       " * limitations under the License.\n",
       " */\n",
       "\n",
       ".d3-tip {\n",
       "  line-height: 1;\n",
       "  padding: 12px;\n",
       "  background: rgba(0, 0, 0, 0.6);\n",
       "  color: #fff;\n",
       "  border-radius: 2px;\n",
       "  position: absolute !important;\n",
       "  z-index: 99999;\n",
       "}\n",
       "\n",
       ".d3-tip:after {\n",
       "  box-sizing: border-box;\n",
       "  pointer-events: none;\n",
       "  display: inline;\n",
       "  font-size: 10px;\n",
       "  width: 100%;\n",
       "  line-height: 1;\n",
       "  color: rgba(0, 0, 0, 0.6);\n",
       "  content: \"\\25BC\";\n",
       "  position: absolute !important;\n",
       "  z-index: 99999;\n",
       "  text-align: center;\n",
       "}\n",
       "\n",
       ".d3-tip.n:after {\n",
       "  margin: -1px 0 0 0;\n",
       "  top: 100%;\n",
       "  left: 0;\n",
       "}\n",
       "\n",
       ".contextRect {\n",
       "  fill: lightgray;\n",
       "  fill-opacity: 0.5;\n",
       "  stroke: black;\n",
       "  stroke-width: 1;\n",
       "  stroke-opacity: 1;\n",
       "  pointer-events: none;\n",
       "  shape-rendering: crispEdges;\n",
       "}\n",
       "\n",
       ".chart {\n",
       "  shape-rendering: crispEdges;\n",
       "}\n",
       "\n",
       ".mini text {\n",
       "  font: 9px sans-serif;\n",
       "}\n",
       "\n",
       ".main text {\n",
       "  font: 12px sans-serif;\n",
       "}\n",
       "\n",
       ".axis line, .axis path {\n",
       "  stroke: black;\n",
       "}\n",
       "\n",
       ".miniItem {\n",
       "  stroke-width: 8;\n",
       "}\n",
       "\n",
       ".brush .extent {\n",
       "\n",
       "  stroke: #000;\n",
       "  fill-opacity: .125;\n",
       "  shape-rendering: crispEdges;\n",
       "}\n",
       "</style>\n",
       "<div id=\"fig_d6b0c937b7d640adb89255fdbba1cf0c\" class=\"eventplot\">\n",
       "<!-- TRAPPY_PUBLISH_SOURCE_LIB = \"https://cdnjs.cloudflare.com/ajax/libs/d3/3.5.6/d3.min.js\" -->\n",
       "<!-- TRAPPY_PUBLISH_SOURCE_LIB = \"http://labratrevenge.com/d3-tip/javascripts/d3.tip.v0.6.3.js\" -->\n",
       "\n",
       "        <script>\n",
       "            /* TRAPPY_PUBLISH_IMPORT = \"plotter/js/EventPlot.js\" */\n",
       "            /* TRAPPY_PUBLISH_REMOVE_START */\n",
       "            var req = require.config( {\n",
       "\n",
       "                paths: {\n",
       "\n",
       "                    \"EventPlot\": '/nbextensions/plotter_scripts/EventPlot/EventPlot',\n",
       "                    \"d3-tip\": '/nbextensions/plotter_scripts/EventPlot/d3.tip.v0.6.3',\n",
       "                    \"d3-plotter\": '/nbextensions/plotter_scripts/EventPlot/d3.min'\n",
       "                },\n",
       "                waitSeconds: 15,\n",
       "                shim: {\n",
       "                    \"d3-plotter\" : {\n",
       "                        \"exports\" : \"d3\"\n",
       "                    },\n",
       "                    \"d3-tip\": [\"d3-plotter\"],\n",
       "                    \"EventPlot\": {\n",
       "\n",
       "                        \"deps\": [\"d3-tip\", \"d3-plotter\" ],\n",
       "                        \"exports\":  \"EventPlot\"\n",
       "                    }\n",
       "                }\n",
       "            });\n",
       "            /* TRAPPY_PUBLISH_REMOVE_STOP */\n",
       "            \n",
       "        req([\"require\", \"EventPlot\"], function() { /* TRAPPY_PUBLISH_REMOVE_LINE */\n",
       "            EventPlot.generate('fig_d6b0c937b7d640adb89255fdbba1cf0c', '/nbextensions/', {\"lanes\": [{\"id\": 0, \"label\": \"CPU :0\"}, {\"id\": 1, \"label\": \"CPU :1\"}, {\"id\": 2, \"label\": \"CPU :2\"}, {\"id\": 3, \"label\": \"CPU :3\"}, {\"id\": 4, \"label\": \"CPU :4\"}, {\"id\": 5, \"label\": \"CPU :5\"}], \"colorMap\": null, \"keys\": [\"task_wmig_1-2839\", \"task_wmig_0-2838\", \"sshd-2845\", \"sshd-2843\", \"sshd-2840\", \"sshd-2848\", \"sshd-2846\", \"sshd-2842\", \"bash-2849\", \"bash-2854\", \"bash-2819\", \"sudo-2816\", \"rt-app-2838\", \"bash-2857\", \"sudo-2849\", \"sudo-2854\", \"systemd-journal-1486\", \"sudo-2856\", \"bash-2824\", \"sudo-2851\", \"sudo-2859\", \"sudo-2821\", \"shutils-2831\", \"sudo-2819\", \"shutils-2833\", \"sudo-2812\", \"busybox-2835\", \"shutils-2823\", \"shutils-2853\", \"sudo-2857\", \"bash-2816\", \"sh-2822\", \"busybox-2825\", \"sh-2852\", \"kworker/u12:5-2858\", \"bash-2837\", \"sudo-2818\", \"shutils-2826\", \"shutils-2828\", \"shutils-2830\", \"kworker/u12:0-2841\", \"shutils-2825\", \"shutils-2834\", \"shutils-2836\", \"shutils-2832\", \"busybox-2827\", \"kworker/u12:0-2844\", \"kworker/u12:0-2847\", \"kworker/u12:5-2850\", \"kworker/u12:5-2817\", \"kworker/u12:0-2855\", \"kworker/u12:5-2820\", \"busybox-2829\", \"shutils-2827\", \"shutils-2829\", \"shutils-2835\", \"sshd-1557\", \"sh-2814\", \"sh-2851\", \"bash-2652\", \"scp-2845\", \"sh-2821\", \"scp-2848\", \"jbd2/sda1-8-910\", \"in:imuxsock-1571\", \"sshd-2650\", \"shutils-2824\", \"rt-app-2837\", \"scp-2842\", \"rs:main Q:Reg-1573\", \"shutils-2852\", \"ksoftirqd/3-29\", \"kworker/2:2-2649\", \"sh-2860\", \"shutils-2822\", \"kworker/u12:5-1590\", \"kworker/u12:0-1696\", \"ksoftirqd/0-6\", \"khugepaged-313\", \"ksoftirqd/1-17\", \"rt-app-2839\", \"usb-storage-882\", \"kworker/4:1-876\", \"kworker/0:1-874\", \"kworker/5:1-877\", \"modprobe-2858\", \"rcu_preempt-7\", \"kworker/3:1-875\", \"kworker/1:0-1650\", \"watchdog/0-12\", \"kworker/0:1H-1169\", \"kworker/2:1H-895\", \"kworker/3:1H-1507\", \"watchdog/5-39\", \"watchdog/4-33\", \"watchdog/3-27\", \"watchdog/1-15\", \"watchdog/2-21\", \"rcu_sched-8\"], \"stride\": false, \"showSummary\": true, \"xDomain\": [0.00010200000542681664, 12.998017000005348], \"data\": {\"watchdog/4-33\": {\"4\": [[3.54979099999764, 3.5497990000003483], [7.5498720000032336, 7.5498880000086501], [11.54979099999764, 11.549799000000348]]}, \"sh-2851\": {\"3\": [[11.395841999998083, 11.39621900000202]]}, \"sh-2852\": {\"2\": [[11.39181900001131, 11.393355000007432]], \"3\": [[11.391558000002988, 11.391713999997592]]}, \"bash-2857\": {\"2\": [[12.985513999999966, 12.98580700000457], [12.98582100000931, 12.990076000001864]], \"4\": [[12.984877000009874, 12.985381000005873]]}, \"bash-2854\": {\"2\": [[12.283953000005567, 12.288481000010506]], \"4\": [[12.283301000003121, 12.283820000011474]]}, \"rcu_preempt-7\": {\"0\": [[0.0018030000064754859, 0.001847999999881722], [0.00600200000917539, 0.0060150000063003972], [0.42197799999848939, 0.42199500001152046], [1.1257719999994151, 1.1257920000061858], [1.1337659999990137, 1.1337820000044303], [1.1417639999999665, 1.1417760000040289], [1.1498790000041481, 1.1498920000012731], [1.1577650000108406, 1.1577780000079656], [1.1658410000090953, 1.1658529999986058], [2.0177800000092248, 2.017801000009058], [2.025844000003417, 2.0258630000025732], [2.033982000008109, 2.0340010000072652], [2.0421260000002803, 2.0421429999987595], [2.0500969999993686, 2.050109000003431], [2.058153999998467, 2.0581650000094669], [10.725986000004923, 10.726007999997819], [10.734032000007574, 10.734049000006053], [10.781849000006332, 10.781870000006165], [11.189978000009432, 11.190000000002328], [11.410217000011471, 11.410229000000982], [11.417881000001216, 11.417895000005956], [11.42987500000163, 11.429889000006369], [12.297992000007071, 12.298011999999289]], \"1\": [[0.013990999999805354, 0.01399900000251364], [0.021841000008862466, 0.021849000011570752], [0.02984100001049228, 0.029850000006263144], [0.037842999998247251, 0.03785200000857003], [0.045842000006814487, 0.045850000009522773], [0.40982800000347197, 0.40983800000685733], [10.789852000001702, 10.78988300000492], [10.797839999999269, 10.797849000009592], [10.805840000000899, 10.805849000011222], [10.813839000009466, 10.813848000005237], [10.997894000000088, 10.997926000010921], [11.005857000011019, 11.00586600000679], [11.013835999998264, 11.013845000008587], [11.021915999997873, 11.021925000008196], [11.029760999997961, 11.029771000001347], [11.033771000002162, 11.033785000006901], [11.041763000001083, 11.041773999997531], [11.053737000009278, 11.053746999998111], [11.061733000009554, 11.061742000005324], [11.065742000006139, 11.06575100000191], [11.121897000004537, 11.121903999999631], [11.129841000001761, 11.129849999997532], [11.137839000002714, 11.137847999998485], [11.145839999997406, 11.145849000007729], [11.153839000005974, 11.153848000001744], [11.1699440000084, 11.169974000004004], [11.181884000005084, 11.181896000009147], [12.306147000010242, 12.306156999999075], [12.317835000008927, 12.317844000004698]], \"2\": [[0.41783000000577886, 0.41786000000138301], [10.821812000009231, 10.821821999998065], [10.829852000009851, 10.829882999998517], [10.837842000008095, 10.83785200001148], [10.845960000006016, 10.845969000001787], [10.853868999998667, 10.853897000008146], [10.854084999999031, 10.854094000009354], [10.865909000000102, 10.865939000010258], [10.873837000006461, 10.873846000002231], [10.88183700000809, 10.881846000003861], [10.889836000002106, 10.889846000005491], [10.897836000003736, 10.897844000006444], [10.953887000010582, 10.953899000000092], [10.96185800000967, 10.961867999998503], [10.969837000011466, 10.96984400000656], [10.973916000002646, 10.973928000006708], [10.981884000007994, 10.981899000005797], [10.989884000009624, 10.989899000007426], [11.161900999999489, 11.161908000009134], [11.182109000001219, 11.182121999998344], [12.325918000002275, 12.325928000005661], [12.333836000005249, 12.33384500000102], [12.341834999999264, 12.34184200000891], [12.98580700000457, 12.98582100000931], [12.993771000008564, 12.993782999998075]], \"3\": [[0.42992200001026504, 0.42993399999977555], [0.43790099999750964, 0.43791400000918657], [0.44596500000625383, 0.44598899999982677], [0.45405900001060218, 0.4540839999972377], [0.46196000000054482, 0.46198700000240933], [0.46995900000911206, 0.46998000000894535], [1.1138540000101784, 1.1138690000079805], [2.069906999997329, 2.0699200000090059], [2.0778710000013234, 2.0778819999977713], [2.4498040000034962, 2.4498170000006212], [2.4577970000100322, 2.4578480000054697], [2.4657950000109849, 2.4658440000057453], [2.4738360000046669, 2.4738470000011148], [10.453785999998217, 10.453802000003634], [10.462018000005628, 10.462043000006815], [10.46988400000555, 10.469897000002675], [10.478008000005502, 10.478037000008044], [10.486006000006455, 10.486034000001382], [10.677808000007644, 10.677825000006123], [10.685900000011316, 10.685922999997274], [10.693914000003133, 10.693927000000258], [10.701883000001544, 10.701895999998669], [10.709882000010111, 10.709893999999622], [10.710143000003882, 10.710153000007267], [10.717881999997189, 10.717898000002606], [11.214029000009759, 11.214042000006884], [11.221893000009004, 11.221904000005452], [11.222149000008358, 11.222160000004806], [11.229875999997603, 11.22988900000928], [11.381974000003538, 11.381997999997111], [11.393804999999702, 11.393823999998858], [11.437920000011218, 11.437933000008343], [11.44594700000016, 11.445961999997962], [11.453880000000936, 11.453890999997384], [12.285885999997845, 12.285902000003261]], \"4\": [[11.197931000002427, 11.197943999999552], [11.205946000001859, 11.205988000001526], [11.213879000002635, 11.213891000006697], [11.401931000000332, 11.401949000006425]]}, \"kworker/3:1-875\": {\"3\": [[1.1177590000006603, 1.1177759999991395], [2.0659660000092117, 2.0659820000000764], [3.1537630000093486, 3.1537820000085048], [4.1537610000086715, 4.1537749999988591], [11.170045000006212, 11.170062999997754], [12.293776999998954, 12.293797000005725]]}, \"watchdog/0-12\": {\"0\": [[3.3657309999980498, 3.3657440000097267], [7.3657329999987269, 7.3657490000041435], [11.365732000005664, 11.365744000009727]]}, \"bash-2849\": {\"1\": [[11.379868000003626, 11.384436000007554]], \"5\": [[11.379234000007273, 11.379736000002595]]}, \"jbd2/sda1-8-910\": {\"4\": [[1.1179660000052536, 1.1182210000115447], [1.1218970000045374, 1.1220620000094641], [1.1241910000098869, 1.1242639999982202], [7.3099870000005467, 7.3102599999983795], [7.3127970000059577, 7.312978000001749], [7.314767000003485, 7.3148110000038287]]}, \"khugepaged-313\": {\"1\": [[8.3339209999976447, 8.3340250000037486]]}, \"watchdog/1-15\": {\"1\": [[3.4178200000023935, 3.4178260000044247], [7.4178350000001956, 7.4178440000105184], [11.417939000006299, 11.417946000001393]]}, \"shutils-2832\": {\"1\": [[2.0308730000106152, 2.0310730000055628]], \"5\": [[2.0311730000103125, 2.0322529999975814]]}, \"shutils-2833\": {\"1\": [[2.0324420000106329, 2.032548000002862]], \"4\": [[2.0326389999972889, 2.0345650000090245]]}, \"shutils-2830\": {\"0\": [[2.0272019999974873, 2.0283550000021933]], \"1\": [[2.0269220000045607, 2.0271130000037374]]}, \"shutils-2831\": {\"1\": [[2.0285339999973075, 2.0286560000095051]], \"3\": [[2.0287460000108695, 2.030694000000949]]}, \"shutils-2836\": {\"2\": [[2.038857999999891, 2.0390540000080364]], \"3\": [[2.0391440000094008, 2.0402390000090236]]}, \"shutils-2834\": {\"0\": [[2.0351240000018151, 2.0362089999980526]], \"2\": [[2.0348230000090552, 2.0350350000080653]]}, \"shutils-2835\": {\"2\": [[2.0363890000007814, 2.0365080000046873]], \"3\": [[2.0366009999997914, 2.0373499999986961]]}, \"kworker/0:1H-1169\": {\"0\": [[7.3127630000089994, 7.3127810000005411], [7.3147109999990789, 7.3147200000094017]]}, \"sudo-2818\": {\"1\": [[0.41760800000338349, 0.41795600000477862]], \"2\": [[0.41805100000055972, 0.41922300000442192]]}, \"sudo-2819\": {\"1\": [[1.116160999998101, 1.1184009999997215], [1.1184630000061588, 1.1191740000067512], [1.120295000000624, 1.1203110000060406], [1.12624599999981, 1.1269109999993816], [1.1269780000002356, 1.127424999998766]]}, \"kworker/0:1-874\": {\"0\": [[1.1019159999996191, 1.101942000008421], [2.2337720000068657, 2.2337879999977304], [3.1537660000030883, 3.1537820000085048], [11.170028000007733, 11.170052000001306], [12.121842000007746, 12.121863000007579]]}, \"sudo-2812\": {\"2\": [[0.00063600001158192754, 0.0018680000066524372]]}, \"ksoftirqd/1-17\": {\"1\": [[2.7989000000088708, 2.7989570000063395], [4.2406760000012582, 4.2407519999978831], [4.8148310000105994, 4.814857999997912], [6.8309140000055777, 6.8309819999994943], [8.8468330000032438, 8.8468980000034207], [10.866351000004215, 10.866394000011496], [11.417946000001393, 11.417976000011549], [12.878723000001628, 12.878769000002649]]}, \"sudo-2816\": {\"1\": [[0.40983800000685733, 0.41311100000166334], [0.41476100000727456, 0.41760800000338349], [0.41840999999840278, 0.418444000009913], [0.4192239999974845, 0.42026199999963865]]}, \"shutils-2825\": {\"0\": [[2.0165770000021439, 2.0177800000092248]], \"1\": [[2.0163600000087172, 2.0164780000050087]]}, \"shutils-2824\": {\"1\": [[2.019006000002264, 2.0192620000016177], [2.0204309999971883, 2.0204420000081882], [2.0206830000097398, 2.020702000008896], [2.0207260000024689, 2.0209109999996144], [2.0267509999976028, 2.0269220000045607], [2.0280740000016522, 2.0280840000050375], [2.0283199999976205, 2.028336000003037], [2.0283560000098078, 2.0285339999973075], [2.0306970000092406, 2.0308730000106152], [2.0319720000115922, 2.0319820000004256], [2.0322160000068834, 2.0322330000053626], [2.0322529999975814, 2.0324420000106329]], \"2\": [[2.0229689999978291, 2.0231520000088494], [2.0243180000106804, 2.0243290000071283], [2.0245660000073258, 2.0245830000058049], [2.0246009999973467, 2.0247860000090441], [2.0346470000076806, 2.0348230000090552], [2.0359210000024177, 2.0359310000058031], [2.0361709999997402, 2.0361879999982193], [2.0362089999980526, 2.0363890000007814], [2.0386779999971623, 2.038857999999891], [2.0399540000071283, 2.0399650000035763], [2.0402020000037737, 2.0402190000022529], [2.0402400000020862, 2.0404790000029607]]}, \"shutils-2827\": {\"1\": [[2.0209109999996144, 2.0210389999992913]], \"4\": [[2.0211300000082701, 2.0219320000032894]]}, \"shutils-2826\": {\"1\": [[2.0192620000016177, 2.0194830000109505]], \"3\": [[2.0195810000004712, 2.0207240000017919]]}, \"shutils-2823\": {\"0\": [[1.1237330000003567, 1.1252519999979995]], \"2\": [[1.1233920000086073, 1.1237099999998463]]}, \"shutils-2822\": {\"2\": [[1.1247280000097817, 1.1247390000062296], [1.1247799999982817, 1.1247870000079274], [1.1248279999999795, 1.1248340000020107], [1.1248730000079377, 1.1248810000106459], [1.1249180000013439, 1.1249240000033751], [1.124963000009302, 1.1249690000113333], [1.1252040000108536, 1.1252329999988433], [1.125253000005614, 1.125783000010415]]}, \"ksoftirqd/0-6\": {\"0\": [[0.36582300000009127, 0.36583799999789335], [1.1217390000092564, 1.1217990000004647], [2.4017989999993006, 2.4018490000016754], [7.3126290000072913, 7.3127630000089994], [7.3127810000005411, 7.3128530000103638], [7.314635000002454, 7.3147109999990789], [7.3147200000094017, 7.3147580000077141], [10.829805000001215, 10.829856000011205]]}, \"task_wmig_0-2838\": {\"0\": [[2.8617180000001099, 2.8737450000044191], [2.8857169999973848, 2.8977169999998296], [2.9019770000013523, 2.9045740000001388]], \"1\": [[2.4639940000051865, 2.4714510000048904]], \"2\": [[2.5616880000015954, 2.5719349999999395], [2.6614370000024792, 2.6716589999996359], [2.761398000002373, 2.771669000008842], [4.8151670000079321, 4.9279979999992065], [4.9511530000017956, 5.0021879999985686], [5.0511499999993248, 5.1021739999996498], [5.1511489999975311, 5.1537660000030883], [5.1537870000029216, 5.2022270000015851], [5.2512110000097891, 5.3022740000014892], [5.3511480000015581, 5.4021150000044145], [5.4511490000004414, 5.5021770000021206], [5.5511490000062622, 5.6020800000114832], [5.6512159999983851, 5.7022690000012517], [5.7511490000033518, 5.8021540000045206], [5.8511520000029122, 5.9021270000084769], [5.9511500000080559, 6.0021059999999125], [6.0512120000057621, 6.0977140000031795], [6.0977320000092732, 6.1021990000008373], [6.1511500000051456, 6.2021519999980228], [6.2512160000042059, 6.2897150000062538], [6.2897280000033788, 6.3022780000028433], [6.3512140000093495, 6.4021900000079768], [6.4511490000004414, 6.4614200000069104], [6.5511540000006789, 6.5614120000100229], [8.8473030000022845, 8.9477800000022398], [8.9511029999994207, 9.0020890000014333], [9.0511470000055851, 9.1017150000116089], [9.1017340000107652, 9.1021080000064103], [9.1511509999982081, 9.2021870000025956], [9.2512140000035288, 9.3022490000003017], [9.3512130000017351, 9.4021199999988312], [9.4511510000011185, 9.5022319999989122], [9.5512129999988247, 9.6022660000016913], [9.651213999997708, 9.702199000006658], [9.7512120000028517, 9.802086000010604], [9.8511510000098497, 9.9021690000081435], [9.9511500000080559, 10.002145000005839], [10.051147999998648, 10.093714000002365], [10.093733000001521, 10.102253000004566], [10.151213999997708, 10.20215100000496], [10.251150000010966, 10.302179999998771], [10.351152000002912, 10.402224000004935], [10.451149000000441, 10.451362000007066]], \"3\": [[2.9511829999973997, 2.9772389999998268], [3.0511669999978039, 3.077422000002116], [3.1511030000110622, 3.1537630000093486], [3.1537820000085048, 3.1775849999976344], [3.2511369999992894, 3.2775019999971846], [3.3511359999974957, 3.3772279999975581], [3.4512150000082329, 3.4772710000106599], [3.5512089999974705, 3.5774680000031367], [3.6512150000053225, 3.67746900000202], [3.7511369999992894, 3.7772939999995288], [3.8512130000017351, 3.8772630000021309], [3.9511360000033164, 3.9775690000096802], [4.0511370000021998, 4.0774060000112513], [4.1512170000059996, 4.1537610000086715], [4.1537749999988591, 4.177823999998509], [4.2511460000096122, 4.2774270000081742], [4.2774440000066534, 4.277566000004299], [4.3512279999995371, 4.3773710000095889], [4.4512309999990975, 4.8149930000072345], [6.6540040000109002, 6.6801360000099521], [6.7512270000006538, 6.7775280000059865], [6.8511640000069747, 6.8772739999985788], [6.951230000006035, 6.9777370000083465], [7.0512319999979809, 7.0778430000063963], [7.151229000010062, 7.1774740000109887], [7.2512300000089454, 7.2775640000036219], [7.3511530000105267, 7.3775969999987865], [7.4512729999987641, 7.4779050000070129], [7.551264000008814, 7.5773710000066785], [7.6512300000031246, 7.6777670000010403], [7.7512300000089454, 7.7774280000012368], [7.8512279999995371, 7.8775190000014845], [7.9512350000004517, 7.9773690000001807], [8.0512310000049183, 8.0778960000025108], [8.1512300000031246, 8.1774189999996452], [8.2512680000072578, 8.2773830000078306], [8.3512279999995371, 8.377559000000474], [8.4512650000106078, 8.8469949999998789]]}, \"shutils-2829\": {\"2\": [[2.0247860000090441, 2.0249120000080438]], \"4\": [[2.0250030000024708, 2.0258020000037504]]}, \"shutils-2828\": {\"2\": [[2.0231520000088494, 2.023352000003797]], \"3\": [[2.0234420000051614, 2.0246009999973467]]}, \"scp-2842\": {\"1\": [[10.826567000010982, 10.826633000004222], [10.828940999999759, 10.829154999999446]]}, \"scp-2845\": {\"5\": [[11.002605000001495, 11.002726000006078], [11.005107999997563, 11.005539000005228]]}, \"sh-2860\": {\"1\": [[12.998017000005348, 12.998017000005348]], \"5\": [[12.997643000009703, 12.997858000002452]]}, \"scp-2848\": {\"5\": [[11.173273000007612, 11.17337000000407], [11.174268000002485, 11.174687999999151]]}, \"watchdog/5-39\": {\"5\": [[3.593791000006604, 3.5938000000023749], [7.593869000003906, 7.593884000001708], [11.593793000007281, 11.593802000003052]]}, \"ksoftirqd/3-29\": {\"3\": [[0.7829619999974966, 0.78305600000021514], [1.1217560000077356, 1.121939000004204], [1.1219540000020061, 1.1219980000023497], [1.1241190000000643, 1.1242120000097202], [1.1242219999985537, 1.1242679999995744]]}, \"kworker/u12:0-2855\": {\"0\": [[12.2887400000036, 12.288797000001068]], \"1\": [[12.288902000000235, 12.290031000011368]]}, \"watchdog/3-27\": {\"3\": [[3.505791000003228, 3.5057990000059363], [7.5058669999998529, 7.5058819999976549], [11.505799000005936, 11.505808000001707]]}, \"kworker/u12:5-2820\": {\"2\": [[1.1149839999998221, 1.1161160000046948]], \"3\": [[1.1148289999982808, 1.1148749999993015]]}, \"busybox-2835\": {\"5\": [[2.0374470000097062, 2.0386730000027455]]}, \"shutils-2852\": {\"2\": [[11.394832999998471, 11.394848000010825], [11.394881000000169, 11.3948870000022], [11.394926000008127, 11.394932000010158], [11.394972000009147, 11.394978000011179], [11.395243999999366, 11.395761000007042]]}, \"shutils-2853\": {\"0\": [[11.393783000006806, 11.395283999998355]], \"2\": [[11.393355000007432, 11.393677000000025]]}, \"bash-2824\": {\"1\": [[2.0144790000049397, 2.0163600000087172]], \"4\": [[2.0138650000008056, 2.0143510000052629]]}, \"kworker/u12:5-2858\": {\"1\": [[12.990203000008478, 12.991299000001163]]}, \"systemd-journal-1486\": {\"5\": [[0.0010279999987687916, 0.0020650000078603625], [0.41663800000969786, 0.41857799999706913], [0.41954200000327546, 0.42033800001081545], [1.118110000010347, 1.1182640000042738], [1.1184050000010757, 1.1194700000050943], [1.1195200000074692, 1.1202600000106031], [1.1266410000098404, 1.1267769999976736], [1.1269109999993816, 1.1276710000092862], [10.819702000007965, 10.820780000009108], [10.830126000000746, 10.830916000006255], [10.991550999999163, 10.992576000004192], [11.006374000004143, 11.0073010000051], [11.162550000008196, 11.163583000001381], [11.175434000004316, 11.176347000000533], [11.38807000000088, 11.390097000010428], [11.396687000000384, 11.397550000008778], [12.292125000007218, 12.294128000008641], [12.295951000007335, 12.296750000008615], [12.99325700000918, 12.993857000008575], [12.994197000007262, 12.995630000004894]]}, \"kworker/u12:5-2850\": {\"2\": [[11.384860000005574, 11.385994000011124]], \"3\": [[11.384692000006908, 11.384749999997439]]}, \"sshd-2848\": {\"5\": [[11.164443000001484, 11.172558999998728]]}, \"kworker/2:1H-895\": {\"2\": [[0.14173800000571646, 0.14174700000148732], [4.2996960000018589, 4.2997060000052443], [6.2897150000062538, 6.2897280000033788], [12.173869999998715, 12.173881000009715]]}, \"sshd-2840\": {\"0\": [[10.777792000008048, 10.781849000006332], [10.781870000006165, 10.798598000008496], [10.798890000005485, 10.799356000003172], [10.799673000001349, 10.799885000000359], [10.800320000009378, 10.819835000002058], [10.825936000008369, 10.826049000010244], [10.826411000001826, 10.826494000008097], [10.826635000004899, 10.828128000008292], [10.828882000001613, 10.828950000010082], [10.829137000007904, 10.829412000006414], [10.829856000011205, 10.831619000004139]], \"1\": [[10.675371999997878, 10.681149000010919], [10.683044000004884, 10.693194999999832], [10.695096000010381, 10.718089000001783], [10.726728000008734, 10.726762000005692], [10.770094999999856, 10.770160000000033]], \"2\": [[10.820023000007495, 10.820142000011401], [10.820508000004338, 10.821152000004076], [10.821416000006138, 10.821464000007836]], \"3\": [[10.674549000003026, 10.675239000003785]]}, \"sshd-2842\": {\"1\": [[10.821112000005087, 10.825926999998046]]}, \"sshd-2843\": {\"0\": [[10.942121000000043, 10.942276000001584], [10.949670000001788, 10.970289000004414], [10.970679999998538, 10.971163000009255], [10.971504000001005, 10.971720000001369], [10.972147000007681, 10.991642000008142], [10.991846000004443, 10.992013000010047], [11.002399000004516, 11.002550000004703], [11.002712000001338, 11.004244000010658], [11.005014000009396, 11.005119000008563], [11.005487000002177, 11.005845000006957], [11.006087000001571, 11.00776200000837]], \"1\": [[10.84803200000897, 10.854149999999208], [10.85579700001108, 10.865910000007716], [10.865929999999935, 10.866013999999268], [10.867704000003869, 10.867722000009962], [10.867794000005233, 10.890935000003083], [10.899950999999419, 10.900021000008564]], \"3\": [[10.993732000002638, 10.993876000007731], [11.001736999998684, 11.001943000010215]], \"5\": [[10.992576000004192, 10.993447000000742]]}, \"sshd-2845\": {\"5\": [[10.993447000000742, 11.00165800000832]]}, \"sshd-2846\": {\"0\": [[11.114106000008178, 11.114232000007178], [11.120934999999008, 11.141438000006019], [11.14169600000605, 11.14220899999782], [11.142540000000736, 11.142751999999746], [11.143185000008089, 11.162632999999914], [11.162907000005362, 11.163075000004028], [11.172547000009217, 11.172742000009748], [11.173141000006581, 11.173286000004737], [11.173359000007622, 11.173662000001059], [11.174100000003818, 11.174209000004339], [11.174635000003036, 11.174920999997994], [11.175205000006827, 11.175579000002472], [11.175721000006888, 11.17702200000349]], \"1\": [[11.023385000007693, 11.029443999999785], [11.031171000009635, 11.033771000002162], [11.033785000006901, 11.041305000006105], [11.042996000003768, 11.043014000009862], [11.043086999998195, 11.053737000009278], [11.053746999998111, 11.061733000009554], [11.061742000005324, 11.065742000006139], [11.06575100000191, 11.066370000000461], [11.073593000008259, 11.07362799999828]], \"4\": [[11.164753000004566, 11.164885000005597]], \"5\": [[11.163583000001381, 11.164443000001484]]}, \"sh-2814\": {\"5\": [[0.00017600000137463212, 0.0006229999999050051]]}, \"rt-app-2839\": {\"1\": [[2.4508170000044629, 2.4508810000115773]]}, \"kworker/u12:0-2847\": {\"2\": [[11.029793000008794, 11.03097200000775]], \"3\": [[11.029623000009451, 11.029671000011149]]}, \"kworker/u12:0-2844\": {\"0\": [[10.854342999999062, 10.85439100000076]], \"2\": [[10.854493000006187, 10.855674999998882]]}, \"kworker/u12:0-2841\": {\"0\": [[10.681410000004689, 10.681470000010449]], \"2\": [[10.681584000005387, 10.682846000010613]]}, \"busybox-2829\": {\"2\": [[2.0259060000098543, 2.0266720000072382]]}, \"busybox-2827\": {\"1\": [[2.0220340000087162, 2.0228820000047563]]}, \"busybox-2825\": {\"0\": [[2.017801000009058, 2.0189410000020871]]}, \"bash-2816\": {\"0\": [[0.40789899999799673, 0.40840300000854768]], \"1\": [[0.40853600000264123, 0.40981300000566989]]}, \"modprobe-2858\": {\"1\": [[12.991322000001674, 12.991353999997955]]}, \"kworker/5:1-877\": {\"5\": [[0.41857799999706913, 0.41860099999757949], [2.0619370000058552, 2.0619589999987511], [10.821767000001273, 10.821790000001783], [12.253838999997242, 12.253856000010273]]}, \"bash-2819\": {\"0\": [[1.1095920000079786, 1.110158000010415]], \"1\": [[1.1102670000109356, 1.114651000010781]]}, \"watchdog/2-21\": {\"2\": [[3.4618160000100033, 3.4618230000050971], [7.4618170000030659, 7.4618239999981597], [11.461793000009493, 11.46179800000391]]}, \"sshd-2650\": {\"0\": [[0.0023120000114431605, 0.0025080000050365925], [0.15413300000363961, 0.1542850000114413], [0.15450099999725353, 0.15460300000268035], [0.1547780000109924, 0.15486200001032557], [0.15502900000137743, 0.15510899999935646], [0.15527600000496022, 0.15535700001055375], [0.1555240000016056, 0.15560300000652205], [0.1557699999975739, 0.15585000001010485], [0.1560170000011567, 0.15609699999913573], [0.20427500001096632, 0.20440100000996608], [0.20459600001049694, 0.20467900000221562], [0.20518299999821465, 0.20526800000516232], [0.35711599999922328, 0.35721500001091044], [0.35738600000331644, 0.35746700000890996], [0.35763399999996182, 0.35779400001047179], [0.35793500000727363, 0.35801599999831524], [0.35825299999851268, 0.35833699999784585], [0.35860600000887644, 0.35869100000127219], [0.35966300001018681, 0.3597660000086762], [0.35994100000243634, 0.36002100000041537], [0.36019300000043586, 0.36027400000602938], [0.36044600000604987, 0.3605260000040289], [0.36067100000218488, 0.36075100000016391], [0.36092200000712182, 0.36100099999748636], [0.36117299999750685, 0.36125300001003779], [0.36142700001073536, 0.36156800000753719], [0.36172900001110975, 0.36183799999707844], [0.36198200000217184, 0.36208900000201538], [0.36223199999949429, 0.36233899999933783], [0.36251099999935832, 0.36259000000427477], [0.36273500000243075, 0.36284100000921171], [0.3630130000092322, 0.36309199999959674], [0.36326300000655465, 0.36334300000453368], [0.36351900000590831, 0.36359800001082476], [0.36377100000390783, 0.36385000000882428], [0.36402200000884477, 0.36410099999920931], [0.36427499999990687, 0.36435400000482332], [0.36452699999790639, 0.36460700001043733], [0.3647800000035204, 0.36486100000911392], [0.36503400000219699, 0.36511300000711344], [0.36528500000713393, 0.36536500000511296], [0.36553900000581052, 0.36561800001072697], [0.36583799999789335, 0.36592000001110137], [0.3660950000048615, 0.36617500000284053], [0.36635000001115259, 0.36643000000913162], [0.36660500000289176, 0.36668400000780821], [0.40668000000005122, 0.40680700000666548], [0.40700099999958184, 0.40708400000585243], [0.42071500000020023, 0.42089100000157487], [1.058180000007269, 1.0584090000047581], [1.0598170000012033, 1.0600010000052862], [1.1082890000107, 1.1085129999992205], [1.9621250000054715, 1.962351000009221], [1.9628769999981159, 1.96315599999798], [1.9632790000032401, 1.9633810000086669], [2.0123359999997774, 2.0125740000075893], [2.012949000010849, 2.0131340000079945], [2.0410280000069179, 2.0412290000094799], [2.1924370000051567, 2.1926010000024689], [2.2425010000006296, 2.2426300000079209], [2.2428880000079516, 2.2430010000098264], [2.2433650000020862, 2.2434710000088671], [2.2436460000026273, 2.2437550000031479], [2.397902000011527, 2.3980440000013914], [2.3982530000066618, 2.3983359999983804], [2.3985020000109216, 2.3985830000019632], [2.3987480000068899, 2.398830000005546], [2.3989940000028582, 2.3990740000008373], [2.4012510000029579, 2.4013560000021243], [2.4015290000097593, 2.4016100000008009], [2.4018490000016754, 2.401930000007269], [2.402075000005425, 2.402155000003404], [2.4023270000034245, 2.402408000009018], [2.4025499999988824, 2.4026280000107363], [2.4028000000107568, 2.4028800000087358], [2.4030510000011418, 2.4031300000060583], [2.4033000000054017, 2.4033790000103181], [2.403548000002047, 2.4036270000069635], [2.4037979999993695, 2.4038779999973485], [2.4040210000093793, 2.4040999999997439], [2.4042719999997644, 2.4043510000046808], [2.4479390000051353, 2.4480670000048121], [10.653851000010036, 10.654091000003973], [10.654449000008754, 10.654636000006576], [10.654871999999159, 10.654980000006617], [10.655047000007471, 10.655183000009856], [11.327778999999282, 11.327981000009459], [11.328487999999197, 11.328550999998697], [12.080320000008214, 12.080452000009245], [12.080652999997255, 12.08074000000488], [12.232052999999723, 12.232197999997879], [12.232551000008243, 12.232673000005889], [12.232845999998972, 12.232975999999326], [12.233103999999003, 12.233170000006794], [12.234538999997312, 12.234603999997489], [12.235451000000467, 12.235534000006737], [12.9344090000086, 12.934771000000183], [12.934831999999005, 12.934936000005109], [12.935137000007671, 12.935427000003983], [12.935649999999441, 12.935758000006899], [12.935817999998108, 12.935921000011149], [12.936134000003221, 12.936205999998492], [12.936309000011533, 12.936471000008169], [12.936647000009543, 12.93671200000972], [12.936791000000085, 12.936857000007876], [12.936933000004501, 12.937109999998938], [12.937182000008761, 12.937275000003865], [12.937394000007771, 12.937573000002885], [12.983584000001429, 12.983712000001105], [12.984282999997959, 12.98437200000626]], \"1\": [[0.35663400001067203, 0.35674200000357814], [2.3993889999983367, 2.3994890000030864], [12.079423000002862, 12.079530000002705], [12.079985000003944, 12.080117000004975]], \"2\": [[2.4511060000077123, 2.4512390000018058], [2.4538820000016131, 2.4539730000105919], [10.451434000002337, 10.451572999998461], [10.45212800000445, 10.452181000000564]], \"3\": [[0.359204000007594, 0.35926300000573974], [1.1278630000015255, 1.128089000005275], [1.7594410000019707, 1.7596000000048662], [1.7598930000094697, 1.7600349999993341], [1.8097820000111824, 1.8100150000100257], [1.8106450000050245, 1.810806000008597], [2.3996320000005653, 2.3997220000019297], [2.3997939999972004, 2.3999020000046585], [2.3999610000028042, 2.4001030000072205], [2.4001720000087516, 2.4003210000082618], [2.4003880000091158, 2.4005370000086259], [2.4006040000094799, 2.400671000010334], [2.4007260000071255, 2.4008710000052815], [2.4009409999998752, 2.4010090000083437], [2.4010620000044582, 2.4011560000071768], [2.40458000000217, 2.4046690000104718], [2.4047410000057425, 2.4048279999988154], [2.4048980000079609, 2.4050410000054399], [2.4052130000054603, 2.405335000003106], [2.405523000008543, 2.4055950000038138], [2.4057040000043344, 2.4058190000068862], [2.4058990000048652, 2.4060230000031879], [2.4061999999976251, 2.4063160000077914], [2.4064920000091661, 2.4066050000110408], [2.406782000005478, 2.4068970000080299], [2.4070750000100816, 2.4071580000018002], [2.4072190000006231, 2.4073280000011437], [2.4073889999999665, 2.4075000000011642], [2.4075600000069244, 2.407640999997966], [2.4077020000113407, 2.4078129999979865], [2.4078730000037467, 2.4079940000083297], [2.4080560000002151, 2.4081370000058087], [2.408198999997694, 2.4083099999988917], [2.4083729999983916, 2.4084779999975581], [2.4085410000116099, 2.408623000010266], [2.4086830000014743, 2.4087989999970887], [2.4088130000018282, 2.4088710000069113], [2.4088830000109738, 2.4089729999977862], [2.4089860000094632, 2.4090439999999944], [2.4090560000040568, 2.4091160000098171], [2.4091290000069421, 2.409218000000692], [2.409230999997817, 2.4092900000105146], [2.4093020000000251, 2.4093609999981709], [2.4093730000022333, 2.4094330000079935], [2.4094440000044415, 2.4095400000078371], [2.4095530000049621, 2.4096100000024308], [2.4096229999995558, 2.4097670000046492], [2.4482600000046659, 2.448342000003322], [2.4507120000052964, 2.4508480000076815], [10.603891999999178, 10.604158000001917], [10.604546000002301, 10.60470000001078], [10.604875999997603, 10.605240999997477]], \"4\": [[0.35943300000508316, 0.35956900000746828], [1.1100510000105714, 1.1102140000002692], [2.1928940000070725, 2.1930100000026869], [2.1931540000077803, 2.1932410000008531], [2.1933800000115298, 2.1934610000025714], [2.1936010000063106, 2.1936810000042897], [2.1938720000034664, 2.1939540000021225], [2.1940929999982473, 2.1941740000038408], [2.194312000006903, 2.1943929999979446], [2.4509860000107437, 2.4510880000016186], [11.33167400000093, 11.331766000002972], [11.378534000003128, 11.378621000010753], [11.397919000010006, 11.398156000010204], [12.029324000002816, 12.029483999998774], [12.029760000004899, 12.029871999999159], [12.03001500001119, 12.030102000004263], [12.030242000008002, 12.030324000006658], [12.03046500000346, 12.030546000009053], [12.03086600000097, 12.030954000001657], [12.233241000009002, 12.233356000011554], [12.233651000002283, 12.233797000008053], [12.233963000006042, 12.234095000007073], [12.234311000007438, 12.234393000006094], [12.234708000003593, 12.234858000010718], [12.235003000008874, 12.235083999999915], [12.235226000004332, 12.235304000001634], [12.235603000008268, 12.235706000006758], [12.235853999998653, 12.235945000007632], [12.236098000008496, 12.236189000002923], [12.236338000002434, 12.236422000001767], [12.236576000010245, 12.236669999998412], [12.236923000004026, 12.23700400000962], [12.237157000010484, 12.237269999997807], [12.2374140000029, 12.237494000000879]], \"5\": [[11.32870900000853, 11.328837000008207], [11.32904700000654, 11.329131999998935], [11.329360000003362, 11.32949400000507], [11.329780000000028, 11.329867000007653], [11.330089000010048, 11.330221000011079], [11.330465999999433, 11.330549999998766], [11.33082600000489, 11.330925000002026], [11.331214999998338, 11.331298000004608], [11.377925000007963, 11.378056000001379], [12.237714000002597, 12.237782000011066], [12.237850999998045, 12.237972000002628], [12.238145000010263, 12.238292000009096], [12.238364000004367, 12.238437000007252], [12.238503000000492, 12.238569000008283], [12.238635000001523, 12.2387000000017], [12.238765000001877, 12.238865999999689], [12.282093000001623, 12.282223000001977], [12.282694000008632, 12.28278200000932], [12.297136000008322, 12.297369000007166], [12.933545000007143, 12.933774000004632], [12.934143000005861, 12.934271000005538]]}, \"bash-2652\": {\"0\": [[0.0018620000046212226, 0.0022299999982351437], [0.0025080000050365925, 0.0025620000087656081], [0.1543530000053579, 0.15443799999775365], [0.15460300000268035, 0.1546820000075968], [0.15486200001032557, 0.15496500000881497], [0.15510899999935646, 0.15521199999784585], [0.15535700001055375, 0.15546000000904314], [0.15560300000652205, 0.15570699999807402], [0.15585000001010485, 0.15595200000097975], [0.15609699999913573, 0.15614700000151061], [0.20446600001014303, 0.20453499999712221], [0.20467900000221562, 0.20516800000041258], [0.35685900000680704, 0.35710200000903569], [0.35721500001091044, 0.3572930000082124], [0.35746700000890996, 0.35757000000739936], [0.35779400001047179, 0.35787200000777375], [0.35801599999831524, 0.35825299999851268], [0.35833699999784585, 0.35860600000887644], [0.35869100000127219, 0.35952500000712462], [0.3597660000086762, 0.35987700000987388], [0.36002100000041537, 0.36013000000093598], [0.36027400000602938, 0.36038300000654999], [0.3605260000040289, 0.3606090000102995], [0.36075100000016391, 0.36086000000068452], [0.36100099999748636, 0.36111100000562146], [0.36125300001003779, 0.36136400001123548], [0.36156800000753719, 0.3616500000061933], [0.36183799999707844, 0.36192000001028646], [0.36208900000201538, 0.36217000000760891], [0.36233899999933783, 0.36242099999799393], [0.36259000000427477, 0.36267200000293087], [0.36284100000921171, 0.36292400000093039], [0.36309199999959674, 0.36317399999825284], [0.36334300000453368, 0.36342600001080427], [0.36359800001082476, 0.36368100000254344], [0.36385000000882428, 0.36393300000054296], [0.36410099999920931, 0.36418499999854248], [0.36435400000482332, 0.36446399999840651], [0.36460700001043733, 0.36471700000402052], [0.36486100000911392, 0.36497100000269711], [0.36511300000711344, 0.36522200000763405], [0.36536500000511296, 0.36547499999869615], [0.36561800001072697, 0.36574800001108088], [0.36592000001110137, 0.36603099999774713], [0.36617500000284053, 0.36628699999710079], [0.36643000000913162, 0.3665410000103293], [0.36668400000780821, 0.36673300000256859], [0.40687099999922793, 0.40693800000008196], [0.40708400000585243, 0.40789899999799673], [0.42031899999710731, 0.42064700000628363], [1.0584880000096746, 1.0597530000086408], [1.1085890000103973, 1.1095920000079786], [1.1274130000092555, 1.127799000008963], [2.3981170000042766, 2.3981910000002244], [2.3983359999983804, 2.3984120000095572], [2.3985830000019632, 2.39868500000739], [2.398830000005546, 2.3989320000109728], [2.3990740000008373, 2.399386000004597], [2.3993960000079824, 2.3994690000108676], [2.3995609999983571, 2.3996320000005653], [2.3996440000046277, 2.401121000002604], [2.4013560000021243, 2.4014370000077179], [2.4016100000008009, 2.40168999999878], [2.401930000007269, 2.4020129999989877], [2.402155000003404, 2.4022640000039246], [2.402408000009018, 2.402488000006997], [2.4026280000107363, 2.4027370000112569], [2.4028800000087358, 2.4029870000085793], [2.4031300000060583, 2.4032370000059018], [2.4033790000103181, 2.4034860000101617], [2.4036270000069635, 2.403734000006807], [2.4038779999973485, 2.403959000002942], [2.4040999999997439, 2.4042090000002645], [2.4043510000046808, 2.4045770000084303], [2.4045860000042012, 2.4047370000043884], [2.4047460000001593, 2.4048949999996694], [2.4049270000105025, 2.4050050000078045], [2.4051020000042627, 2.4052110000047833], [2.4052230000088457, 2.4052999999985332], [2.4054220000107307, 2.4059919999999693], [2.4060840000020107, 2.4061900000087917], [2.4062019999983022, 2.4062800000101561], [2.4064020000078017, 2.4064809999981662], [2.4064930000022287, 2.4065720000071451], [2.4066929999971762, 2.4067730000097072], [2.4067840000061551, 2.4068630000110716], [2.4069850000087172, 2.4070650000066962], [2.4070760000031441, 2.4071550000080606], [2.407245000009425, 2.4073260000004666], [2.4073880000069039, 2.4074930000060704], [2.4075600000069244, 2.4076400000049034], [2.4077300000062678, 2.4078109999973094], [2.4078740000113612, 2.4079920000076527], [2.4080560000002151, 2.4081359999981942], [2.408227000007173, 2.4083090000058291], [2.4083709999977145, 2.4084770000044955], [2.4085400000039954, 2.4086210000095889], [2.4087110000109533, 2.4096520000020973], [11.397366000004695, 11.397823000006611]], \"2\": [[1.9625559999985853, 1.9631910000025528]], \"3\": [[1.759674000000814, 1.7598310000030324], [1.8100899999990361, 1.810578999997233], [2.4481240000022808, 2.4481930000038119], [2.448342000003322, 2.4490979999973206], [10.451637000005576, 10.451997000011033]], \"4\": [[2.0127210000064224, 2.0128140000015264], [2.0128800000093179, 2.0138650000008056], [2.0405640000099083, 2.0408880000031786], [2.0409660000004806, 2.0410229999979492], [2.1927370000048541, 2.1928270000062184], [2.1930100000026869, 2.1930900000006659], [2.1932410000008531, 2.1933180000050925], [2.1934610000025714, 2.1935369999991963], [2.1936810000042897, 2.1938090000039665], [2.1939540000021225, 2.1940299999987474], [2.1941740000038408, 2.1942490000074031], [2.1943929999979446, 2.1944389999989653], [2.2427529999986291, 2.2428250000084518], [2.2428880000079516, 2.2432220000046073], [2.2432850000041071, 2.2434369999973569], [2.2435320000076899, 2.2435810000024503], [12.029559000002337, 12.029649000003701], [12.029871999999159, 12.029953000004753], [12.030102000004263, 12.030179000008502], [12.030324000006658, 12.030401000010897], [12.030546000009053, 12.030683999997564], [12.079741000008653, 12.07981799999834], [12.07988099999784, 12.080238000009558], [12.080312999998569, 12.080493000001297], [12.080557000008412, 12.08060500001011], [12.232339000009233, 12.232417999999598], [12.232480999999098, 12.232554000001983], [12.232566000006045, 12.232637000008253], [12.232732999997097, 12.23280500000692], [12.232816000003368, 12.232887000005576], [12.232898000002024, 12.233241000009002], [12.233356000011554, 12.233651000002283], [12.233816000007209, 12.233963000006042], [12.234095000007073, 12.234311000007438], [12.234393000006094, 12.234708000003593], [12.234858000010718, 12.234941000002436], [12.235083999999915, 12.235163999997894], [12.235304000001634, 12.23538300000655], [12.235450000007404, 12.235603000008268], [12.235706000006758, 12.235853999998653], [12.235945000007632, 12.236098000008496], [12.236189000002923, 12.236338000002434], [12.236422000001767, 12.236576000010245], [12.236669999998412, 12.236923000004026], [12.237013999998453, 12.237095000004047], [12.237269999997807, 12.237353000004077], [12.237494000000879, 12.237575000006473], [12.237642000007327, 12.237848000004306], [12.237858000007691, 12.237936000004993], [12.238032000008388, 12.238108999998076], [12.238120000009076, 12.238196999998763], [12.238208000009763, 12.238769000003231], [12.282423000011477, 12.283301000003121], [12.296679000006407, 12.297075000009499], [12.933916000009049, 12.93401100000483], [12.934074999997392, 12.934151000008569], [12.93416299999808, 12.934234000000288], [12.934336999998777, 12.934408000000985], [12.934418999997433, 12.934489999999641], [12.934501000010641, 12.93456999999762], [12.93458400000236, 12.934653000003891], [12.934664000000339, 12.934734000009485], [12.934831000005943, 12.934902000008151], [12.934995000003255, 12.935064999997849], [12.935076000008848, 12.935148000004119], [12.935159000000567, 12.935229000009713], [12.935240000006161, 12.935310000000754], [12.93532000000414, 12.93539199999941], [12.935488000002806, 12.935559000005014], [12.935571000009077, 12.935642000011285], [12.935653000007733, 12.935723000002326], [12.93581599999743, 12.935889000000316], [12.935980000009295, 12.937489000003552], [12.983921999999438, 12.984877000009874]], \"5\": [[10.604294999997364, 10.604409000006854], [10.604474000007031, 10.60455100001127], [10.604562000007718, 10.604632000002312], [10.604760000001988, 10.604831000004197], [10.604841000007582, 10.604913000002853], [10.604923999999301, 10.604995000001509], [10.605005999997957, 10.605074999999488], [10.605086000010488, 10.60514700000931], [10.654230000000098, 10.654315000007045], [10.654378000006545, 10.654739000005065], [10.654802999997628, 10.655034000010346], [11.328178000010666, 11.328432000009343], [11.328443999998854, 11.32870900000853], [11.328837000008207, 11.32904700000654], [11.329131999998935, 11.329360000003362], [11.32949400000507, 11.329780000000028], [11.329867000007653, 11.330089000010048], [11.330221000011079, 11.330465999999433], [11.330549999998766, 11.33082600000489], [11.330925000002026, 11.331214999998338], [11.331298000004608, 11.331497000006493], [11.378244999999879, 11.379234000007273]]}, \"usb-storage-882\": {\"0\": [[1.1221280000027036, 1.1221460000087973], [4.2424929999979213, 4.2425100000109524], [4.2428630000067642, 4.2428960000106599], [4.2739799999981187, 4.2741660000028787], [7.3125970000110101, 7.3126290000072913], [7.3129750000080094, 7.3129950000002282], [7.3131160000048112, 7.3131390000053216], [7.3136159999994561, 7.313629000011133], [7.3146209999977145, 7.314635000002454]], \"1\": [[2.7981140000047162, 2.7981340000114869], [2.7985330000083195, 2.7985509999998612], [2.7988840000034543, 2.7989000000088708], [4.2388110000028973, 4.2388320000027306], [4.2391650000063237, 4.2391889999998966], [4.2396660000085831, 4.2396840000001248], [4.2406590000027791, 4.2406760000012582], [4.2407519999978831, 4.2407970000058413], [4.2412060000060592, 4.2412290000065695], [4.2416590000066208, 4.2416769999981625], [4.8141140000079758, 4.8141350000078091], [4.8144670000037877, 4.8144850000098813], [4.8148159999982454, 4.8148310000105994], [4.814857999997912, 4.8149019999982556], [6.8301590000046417, 6.830180000004475], [6.8305280000058701, 6.8305470000050263], [6.8308950000064215, 6.8309140000055777], [7.3103709999995772, 7.310393000007025], [7.3107620000082534, 7.3108080000092741], [7.3117510000010952, 7.311771000007866], [8.8461160000006203, 8.846136000007391], [8.8464680000033695, 8.8464860000094632], [8.8468160000047646, 8.8468330000032438], [10.865910000007716, 10.865929999999935], [10.866122000006726, 10.866131000002497], [10.866342000008444, 10.866351000004215], [12.878005000005942, 12.878022000004421], [12.878349999999045, 12.878360000002431], [12.87871200000518, 12.878723000001628]], \"2\": [[4.2426830000040354, 4.242699000009452]], \"3\": [[0.78199200000381097, 0.7820240000000922], [0.78244200001063291, 0.78247400000691414], [0.7829280000005383, 0.7829619999974966], [1.1182859999971697, 1.1183500000042841], [1.1185550000082003, 1.1186500000039814], [1.1206210000091232, 1.1206380000076024], [1.1217330000072252, 1.1217560000077356], [1.1224250000086613, 1.1224530000035884], [1.1232250000030035, 1.1232370000070659], [1.1241010000085225, 1.1241190000000643], [4.2774270000081742, 4.2774440000066534]], \"4\": [[4.2436810000072001, 4.2436969999980647], [4.2446750000090105, 4.2446860000054585], [4.2449170000036247, 4.2449320000014268], [4.2451830000063637, 4.2452060000068741], [4.2455500000069151, 4.2455630000040401], [4.2465500000107568, 4.2465599999995902], [4.2467929999984335, 4.246807000003173], [4.2470560000074329, 4.2472370000032242], [4.2583610000001499, 4.2583750000048894], [4.260920000000624, 4.2609320000046864], [4.2611570000008214, 4.2611710000055609], [4.2614210000028834, 4.2615990000049351], [4.2649950000050012, 4.2650100000028033], [4.2675470000103815, 4.2675569999992149], [4.2677830000029644, 4.2677960000000894], [4.2680470000050263, 4.2682310000091093], [4.2716100000106962, 4.2716230000078212], [4.2735450000036508, 4.2735560000000987], [4.2737810000107856, 4.2737940000079107]], \"5\": [[4.2794280000089202, 4.2794399999984307], [4.2796630000084406, 4.2796760000055656], [4.2799230000091484, 4.2800920000008773], [4.2835219999979017, 4.2835550000017975], [4.2860470000014175, 4.2860619999992196], [4.2862910000112606, 4.2863060000090627], [4.286552000005031, 4.2867120000009891], [4.2901270000002114, 4.2901609999971697], [4.2926690000022063, 4.2926840000000084], [4.2929080000030808, 4.2929230000008829], [4.2931700000044657, 4.2932330000039656], [4.2962190000107512, 4.2962550000083866], [4.2971140000008745, 4.2971289999986766], [4.2975860000005923, 4.2976020000060089], [4.297803000008571, 4.2978300000104355], [4.29854499999783, 4.2985590000025695], [4.2995420000079321, 4.2995520000113174]]}, \"sh-2821\": {\"3\": [[1.1258119999984046, 1.1261630000080913]]}, \"sh-2822\": {\"2\": [[1.1218150000058813, 1.1233920000086073]], \"4\": [[1.1215340000053402, 1.1216740000090795]]}, \"sudo-2849\": {\"1\": [[11.386194000006071, 11.389053000006243], [11.390230000004522, 11.390268000002834], [11.396302000008291, 11.397351000006893]]}, \"in:imuxsock-1571\": {\"0\": [[11.162684000009904, 11.162907000005362], [11.175579000002472, 11.175721000006888], [11.388312000010046, 11.388456000000588], [11.38935300000594, 11.389510000008158], [11.396816000007675, 11.39694099999906], [12.29234900001029, 12.292500000010477], [12.293332000001101, 12.293427000011434], [12.296066000009887, 12.296191000001272], [12.993474000002607, 12.993614000006346], [12.994910000008531, 12.995011000006343]], \"5\": [[0.0020650000078603625, 0.0022420000022975728], [0.41860099999757949, 0.41879599999811035], [0.42033800001081545, 0.42046900000423193], [1.1182640000042738, 1.1184050000010757], [1.1194700000050943, 1.1195200000074692], [1.1267769999976736, 1.1269109999993816], [10.820831000004546, 10.820972000001348], [10.830916000006255, 10.831082000004244], [11.00165800000832, 11.001902000003611], [11.0073010000051, 11.007473999998183]]}, \"rs:main Q:Reg-1573\": {\"0\": [[12.296191000001272, 12.296329000004334], [12.993614000006346, 12.993834000008064], [12.995011000006343, 12.995114999997895]], \"1\": [[0.0022030000109225512, 0.0023090000031515956], [0.4187309999979334, 0.41883500000403728], [0.42043199999898206, 0.42048400000203401], [1.1184009999997215, 1.1184630000061588], [1.1218400000070687, 1.1219100000016624], [1.1269109999993816, 1.1269780000002356], [10.821005000005243, 10.821112000005087]], \"2\": [[10.831119000009494, 10.831186000010348], [11.001915000000736, 11.002006000009715], [11.007505000001402, 11.007547000001068], [11.162979000000632, 11.16308700000809], [11.175799999997253, 11.175917000000481], [11.388531999997213, 11.388612000009743]], \"3\": [[11.391433000011602, 11.391558000002988], [11.396932000003289, 11.397024000005331], [12.292559000008623, 12.292686000000685], [12.293413999999757, 12.293463000009069]]}, \"kworker/2:2-2649\": {\"2\": [[0.5258390000090003, 0.52599900000495836], [0.78182100001140498, 0.78187200000684243], [0.78299000000697561, 0.78301900000951719], [1.1177480000042124, 1.1177640000096289], [1.5498280000028899, 1.5499859999981709], [2.553767000004882, 2.5537889999977779], [2.5737389999994775, 2.5738940000010189], [2.7978650000004563, 2.7979049999994459], [2.7990030000073602, 2.7990200000058394], [3.5978650000033667, 3.5980249999993248], [4.1418730000004871, 4.1418890000059037], [4.6218650000082562, 4.6220270000048913], [4.8138630000030389, 4.8139040000096429], [4.8149350000021514, 4.8149840000114636], [5.1537660000030883, 5.1537870000029216], [5.6458970000094268, 5.6460599999991246], [6.0977140000031795, 6.0977320000092732], [6.6698630000028061, 6.6700260000070557], [6.8298940000095172, 6.8299340000085067], [6.8310179999971297, 6.8310380000039004], [7.0859040000068489, 7.0859230000060052], [7.6938970000046538, 7.6940600000089034], [8.1738679999980377, 8.1738850000110688], [8.7178649999987101, 8.7180270000098972], [8.8458620000019437, 8.8459040000016103], [8.8469370000093477, 8.8469860000041081], [9.1017150000116089, 9.1017340000107652], [9.7418969999998808, 9.7420600000041304], [10.093714000002365, 10.093733000001521], [10.765826000002562, 10.765985000005458], [10.865855000010924, 10.865909000000102], [10.866367000009632, 10.866395000004559], [11.169911999997566, 11.169964000000618], [11.789862999998149, 11.790024000001722], [12.173881000009715, 12.173915000006673], [12.81382000001031, 12.813978000005591], [12.87786400000914, 12.877923000007286], [12.878740000000107, 12.878769000002649]]}, \"sudo-2854\": {\"2\": [[12.290243000010378, 12.293096000008518], [12.294284000003245, 12.294301000001724], [12.295575000011013, 12.296591000005719]]}, \"rt-app-2838\": {\"1\": [[2.4508810000115773, 2.4537470000068424]]}, \"sudo-2856\": {\"0\": [[12.293427000011434, 12.295574000003398]], \"2\": [[12.293096000008518, 12.293402000010246]]}, \"sudo-2857\": {\"2\": [[12.99140100000659, 12.993771000008564], [12.993782999998075, 12.993836000008741], [12.99408200000471, 12.994606000007479], [12.996379000003799, 12.996414000008372]]}, \"sudo-2851\": {\"1\": [[11.389053000006243, 11.389365000010002]], \"3\": [[11.389391000004252, 11.391433000011602]]}, \"sshd-1557\": {\"1\": [[10.847525999997742, 10.84803200000897], [10.991703000006964, 10.991781000004266], [11.007842000006349, 11.007943999997224], [11.022852000009152, 11.023385000007693], [11.162672000005841, 11.162705000009737], [11.177026000004844, 11.177142000000458]], \"3\": [[10.673485000006622, 10.674549000003026]], \"5\": [[10.820780000009108, 10.820831000004546], [10.831619999997201, 10.831766000002972]]}, \"sudo-2859\": {\"2\": [[12.994606000007479, 12.994925000006333]], \"5\": [[12.995630000004894, 12.997643000009703]]}, \"rt-app-2837\": {\"1\": [[10.451310999997077, 10.451505999997607]]}, \"kworker/u12:0-1696\": {\"0\": [[0.35710200000903569, 0.35711599999922328], [0.3572930000082124, 0.35738600000331644], [0.35757000000739936, 0.35763399999996182], [0.35787200000777375, 0.35793500000727363], [2.3980440000013914, 2.3981170000042766], [2.3981910000002244, 2.3982530000066618], [2.3984120000095572, 2.3985020000109216], [2.39868500000739, 2.3987480000068899], [2.3989320000109728, 2.3989940000028582], [2.399386000004597, 2.3993960000079824], [2.3994690000108676, 2.3995609999983571], [2.3996320000005653, 2.3996440000046277], [2.4045770000084303, 2.4045860000042012], [2.4048949999996694, 2.4049270000105025], [2.4050050000078045, 2.4051020000042627], [2.4052110000047833, 2.4052230000088457], [2.4052999999985332, 2.4054220000107307], [2.4059919999999693, 2.4060840000020107], [2.4061900000087917, 2.4062019999983022], [2.4062800000101561, 2.4064020000078017], [2.4064809999981662, 2.4064930000022287], [2.4065720000071451, 2.4066929999971762], [2.4067730000097072, 2.4067840000061551], [2.4068630000110716, 2.4069850000087172], [2.4070650000066962, 2.4070760000031441], [2.4071550000080606, 2.407245000009425], [2.4073260000004666, 2.4073880000069039], [2.4074930000060704, 2.4075600000069244], [2.4076400000049034, 2.4077300000062678], [2.4078109999973094, 2.4078740000113612], [2.4079920000076527, 2.4080560000002151], [2.4081359999981942, 2.408227000007173], [2.4083090000058291, 2.4083709999977145], [2.4084770000044955, 2.4085400000039954], [2.4086210000095889, 2.4087110000109533], [10.654980000006617, 10.655047000007471], [10.681268000000273, 10.681410000004689], [10.682920999999624, 10.682956000004197], [10.854225000002771, 10.854342999999062], [10.855683000001591, 10.855712000004132], [11.328978999998071, 11.329083999997238], [11.329384000011487, 11.329422000009799], [11.329660000003059, 11.329775999998674], [11.330114000011235, 11.330152000009548], [11.330394999997225, 11.330494000008912], [11.330904000002192, 11.330945000008796], [11.331143000003067, 11.331212000004598], [12.233093000002555, 12.233103999999003], [12.233170000006794, 12.233273999998346], [12.23372499999823, 12.23376499999722], [12.233894999997574, 12.234028999999282], [12.234307000006083, 12.234343000003719], [12.234470000010333, 12.234538999997312], [12.234603999997489, 12.234735000005458], [12.235604000001331, 12.23564400000032], [12.235783000010997, 12.235880000007455], [12.236096000007819, 12.236102000009851], [12.236269000000902, 12.236336000001756], [12.282286000001477, 12.282348000007914], [12.282562000007601, 12.282623999999487], [12.288599000006798, 12.2887400000036], [12.429923000003328, 12.429950000005192], [12.936119999998482, 12.936134000003221], [12.936205999998492, 12.936309000011533], [12.936471000008169, 12.936580000008689], [12.936639000006835, 12.936647000009543], [12.93671200000972, 12.936782999997376], [12.937109999998938, 12.937174000006053]], \"1\": [[11.328696000011405, 11.328720000004978]], \"2\": [[0.35817400000814814, 0.35826000000815839], [0.35867200000211596, 0.35869500000262633], [0.3590600000025006, 0.3591290000040317], [2.45103100000415, 2.4511060000077123], [2.4538680000114255, 2.4538820000016131], [4.2379490000021178, 4.2385960000101477]], \"3\": [[0.35926300000573974, 0.35938799999712501], [0.35956500000611413, 0.35960399999748915], [1.9628700000030221, 1.9628979999979492], [2.3997220000019297, 2.3997939999972004], [2.3999020000046585, 2.3999480000056792], [2.4001030000072205, 2.4001720000087516], [2.4003210000082618, 2.4003880000091158], [2.4005370000086259, 2.4006040000094799], [2.400671000010334, 2.4007130000100005], [2.4008710000052815, 2.4009409999998752], [2.4010090000083437, 2.4010490000073332], [2.4046690000104718, 2.4047410000057425], [2.405510000011418, 2.405523000008543], [2.4055950000038138, 2.4056960000016261], [2.4058910000021569, 2.4058990000048652], [2.4087989999970887, 2.4088130000018282], [2.4088710000069113, 2.4088830000109738], [2.4089729999977862, 2.4089860000094632], [2.4090439999999944, 2.4090560000040568], [2.4091160000098171, 2.4091290000069421], [2.409218000000692, 2.409230999997817], [2.4092900000105146, 2.4093020000000251], [2.4093609999981709, 2.4093730000022333], [2.4094330000079935, 2.4094440000044415], [2.4095400000078371, 2.4095530000049621], [2.4096100000024308, 2.4096229999995558], [2.4480540000076871, 2.4481240000022808], [2.4481930000038119, 2.4482600000046659], [2.450645999997505, 2.4507120000052964], [2.4508700000005774, 2.4509260000049835], [11.029500999997254, 11.029623000009451], [11.031050999998115, 11.031086000002688], [11.328034000005573, 11.328110000002198], [11.328355000005104, 11.328464000005624], [12.290122000005795, 12.29016099999717], [12.937002000006032, 12.937046999999438]], \"4\": [[1.9630319999996573, 1.9630440000037197], [1.9632950000086566, 1.9633020000037504], [2.0126290000043809, 2.0127210000064224], [2.0128140000015264, 2.0128800000093179], [2.0408880000031786, 2.0409660000004806], [2.192668000003323, 2.1927370000048541], [2.1928270000062184, 2.1928940000070725], [2.1930900000006659, 2.1931540000077803], [2.1933180000050925, 2.1933800000115298], [2.1935369999991963, 2.1936010000063106], [2.1938090000039665, 2.1938720000034664], [2.1940299999987474, 2.1940929999982473], [2.1942490000074031, 2.194312000006903], [2.2426850000047125, 2.2427529999986291], [2.2428250000084518, 2.2428880000079516], [2.2432220000046073, 2.2432850000041071], [2.2434369999973569, 2.2435320000076899], [12.237848000004306, 12.237858000007691], [12.237936000004993, 12.238032000008388], [12.238108999998076, 12.238120000009076], [12.238196999998763, 12.238208000009763], [12.93401100000483, 12.934074999997392], [12.934151000008569, 12.93416299999808], [12.934234000000288, 12.934336999998777], [12.934408000000985, 12.934418999997433], [12.934489999999641, 12.934501000010641], [12.93456999999762, 12.93458400000236], [12.934653000003891, 12.934664000000339], [12.934734000009485, 12.934831000005943], [12.934902000008151, 12.934995000003255], [12.935064999997849, 12.935076000008848], [12.935148000004119, 12.935159000000567], [12.935229000009713, 12.935240000006161], [12.935310000000754, 12.93532000000414], [12.93539199999941, 12.935488000002806], [12.935559000005014, 12.935571000009077], [12.935642000011285, 12.935653000007733], [12.935723000002326, 12.93581599999743], [12.935889000000316, 12.935980000009295]], \"5\": [[2.3992209999996703, 2.3993230000050971], [10.451352000003681, 10.451435000009951], [10.452058000009856, 10.45212800000445], [10.604207000011229, 10.604294999997364], [10.604409000006854, 10.604474000007031], [10.60455100001127, 10.604562000007718], [10.604632000002312, 10.604760000001988], [10.604831000004197, 10.604841000007582], [10.604913000002853, 10.604923999999301], [10.604995000001509, 10.605005999997957], [10.605074999999488, 10.605086000010488], [10.654145000007702, 10.654230000000098], [10.654315000007045, 10.654378000006545], [10.654739000005065, 10.654802999997628], [12.236642000003485, 12.236684000003152], [12.236851000008755, 12.236954000007245], [12.238292000009096, 12.238364000004367], [12.238865999999689, 12.238907999999356], [12.29706100000476, 12.297136000008322], [12.933774000004632, 12.933877000003122], [12.937407000004896, 12.937489000003552]]}, \"kworker/u12:5-1590\": {\"0\": [[0.0022299999982351437, 0.0023120000114431605], [0.1542850000114413, 0.1543530000053579], [0.15443799999775365, 0.15450099999725353], [0.1546820000075968, 0.1547780000109924], [0.15496500000881497, 0.15502900000137743], [0.15521199999784585, 0.15527600000496022], [0.15546000000904314, 0.1555240000016056], [0.15570699999807402, 0.1557699999975739], [0.15595200000097975, 0.1560170000011567], [0.20440100000996608, 0.20446600001014303], [0.20453499999712221, 0.20459600001049694], [0.35952500000712462, 0.35966300001018681], [0.35987700000987388, 0.35994100000243634], [0.36013000000093598, 0.36019300000043586], [0.36038300000654999, 0.36044600000604987], [0.3606090000102995, 0.36067100000218488], [0.36086000000068452, 0.36092200000712182], [0.36111100000562146, 0.36117299999750685], [0.36136400001123548, 0.36142700001073536], [0.3616500000061933, 0.36172900001110975], [0.36192000001028646, 0.36198200000217184], [0.36217000000760891, 0.36223199999949429], [0.36242099999799393, 0.36251099999935832], [0.36267200000293087, 0.36273500000243075], [0.36292400000093039, 0.3630130000092322], [0.36317399999825284, 0.36326300000655465], [0.36342600001080427, 0.36351900000590831], [0.36368100000254344, 0.36377100000390783], [0.36393300000054296, 0.36402200000884477], [0.36418499999854248, 0.36427499999990687], [0.36446399999840651, 0.36452699999790639], [0.36471700000402052, 0.3647800000035204], [0.36497100000269711, 0.36503400000219699], [0.36522200000763405, 0.36528500000713393], [0.36547499999869615, 0.36553900000581052], [0.36574800001108088, 0.36582300000009127], [0.36603099999774713, 0.3660950000048615], [0.36628699999710079, 0.36635000001115259], [0.3665410000103293, 0.36660500000289176], [0.40680700000666548, 0.40687099999922793], [0.40693800000008196, 0.40700099999958184], [0.41316199999710079, 0.4132720000052359], [0.41464300001098309, 0.41467700000794139], [0.42064700000628363, 0.42071500000020023], [1.0584090000047581, 1.0584880000096746], [1.0597530000086408, 1.0598170000012033], [1.1085129999992205, 1.1085890000103973], [2.401121000002604, 2.4012510000029579], [2.4014370000077179, 2.4015290000097593], [2.40168999999878, 2.4017989999993006], [2.4020129999989877, 2.402075000005425], [2.4022640000039246, 2.4023270000034245], [2.402488000006997, 2.4025499999988824], [2.4027370000112569, 2.4028000000107568], [2.4029870000085793, 2.4030510000011418], [2.4032370000059018, 2.4033000000054017], [2.4034860000101617, 2.403548000002047], [2.403734000006807, 2.4037979999993695], [2.403959000002942, 2.4040210000093793], [2.4042090000002645, 2.4042719999997644], [2.4047370000043884, 2.4047460000001593], [11.329286000007414, 11.329384000011487], [11.329775999998674, 11.329810000010184], [11.330017000000225, 11.330114000011235], [12.030727000004845, 12.030790000004345], [12.079601000004914, 12.079664999997476], [12.232197999997879, 12.232298000002629], [12.232975999999326, 12.233093000002555], [12.234735000005458, 12.234775000004447], [12.235534000006737, 12.235604000001331], [12.236027999999351, 12.236096000007819], [12.236336000001756, 12.236341000010725], [12.236504000000423, 12.236572000008891], [12.936580000008689, 12.936639000006835], [12.936782999997376, 12.936791000000085], [12.936857000007876, 12.936933000004501], [12.937174000006053, 12.937182000008761], [12.937275000003865, 12.937394000007771], [12.937573000002885, 12.937613000001875]], \"1\": [[0.20512100000632927, 0.20517300000938121], [0.35674200000357814, 0.35679000000527594], [0.3570190000027651, 0.35710900000412948], [0.35832800000207499, 0.35835100000258535], [0.35852900000463706, 0.35859100001107436], [0.35933700000168756, 0.3594510000111768], [1.9624150000017835, 1.962455000000773], [1.9627110000001267, 1.9627440000040224], [1.96294399999897, 1.9629510000086157], [1.9631880000088131, 1.9632189999974798], [2.399373000007472, 2.3993889999983367], [2.3998780000110855, 2.4000250000099186], [2.4002020000043558, 2.4002489999984391], [2.4004290000011679, 2.4004660000064177], [2.400645000001532, 2.4007879999990109], [2.4009660000010626, 2.4010550000093644], [11.328605000002426, 11.328696000011405], [11.329127999997581, 11.329150999998092], [12.983804000003147, 12.983838000000105], [12.984166000009282, 12.984200999999302], [12.990138000008301, 12.990203000008478], [12.991299000001163, 12.991322000001674]], \"3\": [[1.1099410000024363, 1.1099709999980405], [1.1147290000080829, 1.1148289999982808], [1.1161229999997886, 1.1161560000036843], [1.1277850000042235, 1.1278630000015255], [1.7596000000048662, 1.759674000000814], [1.7598310000030324, 1.7598930000094697], [1.8100150000100257, 1.8100899999990361], [1.810578999997233, 1.8106450000050245], [2.4045069999992847, 2.40458000000217], [2.4048279999988154, 2.4048980000079609], [2.4056960000016261, 2.4057040000043344], [2.4058190000068862, 2.4058910000021569], [11.330540000009933, 11.330582000009599], [11.33075400000962, 11.330853999999817], [11.33128700000816, 11.331325000006473], [11.331530000010389, 11.331598000004306], [11.378114000006462, 11.378175999998348], [11.378393000006326, 11.37846000000718], [11.384552000003168, 11.384692000006908], [11.386070000007749, 11.386108999999124]], \"4\": [[11.397840999998152, 11.397919000010006], [12.029483999998774, 12.029559000002337], [12.029649000003701, 12.029760000004899], [12.029953000004753, 12.03001500001119], [12.030179000008502, 12.030242000008002], [12.030401000010897, 12.03046500000346], [12.07981799999834, 12.07988099999784], [12.080238000009558, 12.080312999998569], [12.080493000001297, 12.080557000008412], [12.232417999999598, 12.232480999999098], [12.232554000001983, 12.232566000006045], [12.232637000008253, 12.232732999997097], [12.23280500000692, 12.232816000003368], [12.232887000005576, 12.232898000002024], [12.234941000002436, 12.235003000008874], [12.235163999997894, 12.235226000004332], [12.23538300000655, 12.235450000007404], [12.23700400000962, 12.237013999998453], [12.237095000004047, 12.237157000010484], [12.237353000004077, 12.2374140000029], [12.237575000006473, 12.237642000007327]], \"5\": [[11.328432000009343, 11.328443999998854], [12.233310000010533, 12.233355000003939], [12.233583000008366, 12.233682000005501], [12.234030999999959, 12.234070999998949], [12.234244000006584, 12.234342000010656], [12.234603999997489, 12.234645999997156], [12.235922000007122, 12.235967000000528], [12.237782000011066, 12.237850999998045], [12.238437000007252, 12.238503000000492], [12.238569000008283, 12.238635000001523], [12.2387000000017, 12.238765000001877], [12.9363400000002, 12.936406000007992]]}, \"kworker/1:0-1650\": {\"1\": [[0.40981300000566989, 0.40982800000347197], [2.4537470000068424, 2.4537610000115819], [4.8177530000102706, 4.8177670000004582], [5.0058209999988321, 5.0058360000111861], [6.0937170000106562, 6.0937350000021979], [7.3099260000017239, 7.309940999999526], [11.169929000010598, 11.1699440000084], [12.285841999997501, 12.285856000002241]]}, \"sudo-2821\": {\"1\": [[1.1191740000067512, 1.1194800000084797]], \"4\": [[1.1195759999973234, 1.1215340000053402]]}, \"task_wmig_1-2839\": {\"0\": [[2.8512330000085058, 2.8617180000001099], [2.8737450000044191, 2.8857169999973848], [2.8977169999998296, 2.9019770000013523], [2.9511140000104206, 2.9774820000020554], [3.0510990000038873, 3.0773690000060014], [3.1511670000036247, 3.1537660000030883], [3.1537820000085048, 3.177668000003905], [3.2512120000028517, 3.2773980000056326], [3.351211000001058, 3.3657309999980498], [3.3657440000097267, 3.3774850000045262], [3.4511409999977332, 3.4777340000000549], [3.5511320000077831, 3.5771880000102101], [3.6511380000010831, 3.6774090000108117], [3.7512110000097891, 3.7774780000036117], [3.8511370000051102, 3.8773999999975786], [3.9512119999999413, 3.9776740000088466], [4.0512120000057621, 4.0774740000051679], [4.1511380000010831, 4.1772350000101142], [4.2510659999970812, 4.2739799999981187], [4.2741660000028787, 4.2785670000012033], [4.3512750000081724, 4.377587000009953], [4.4512740000063786, 4.8149130000092555], [6.6513030000060098, 6.6775320000015199], [6.7511900000099558, 6.7774950000020908], [6.8511030000081519, 6.877611000003526], [6.9512749999994412, 6.977498000007472], [7.0512759999983246, 7.0775930000090739], [7.1512730000104057, 7.1774759999971138], [7.2512750000023516, 7.2776480000029551], [7.3511010000074748, 7.3657329999987269], [7.3657490000041435, 7.3777950000076089], [7.4512280000053579, 7.4773710000008577], [7.551221000001533, 7.5773710000066785], [7.6512730000104057, 7.6776970000064466], [7.751274000009289, 7.7773860000015702], [7.8512760000012349, 7.8776500000094529], [7.9512729999987641, 7.977591000002576], [8.0512720000115223, 8.0778960000025108], [8.1512740000034682, 8.1773850000026869], [8.2512220000062371, 8.2776600000070175], [8.3512740000005579, 8.3773980000114534], [8.4512260000046808, 8.8469110000005458]], \"1\": [[2.4537610000115819, 2.4639940000051865], [4.8149479999992764, 4.8177530000102706], [4.8177670000004582, 4.9280200000066543], [4.951219000009587, 5.0022230000031414], [5.0512149999995017, 5.1022349999984726], [5.1512150000053225, 5.2022950000100536], [5.2511460000096122, 5.3021609999996144], [5.3512130000017351, 5.4022280000062892], [5.4512150000082329, 5.5022100000060163], [5.5512149999995017, 5.6022550000052433], [5.6511489999975311, 5.7022460000007413], [5.7512130000104662, 5.8022800000035204], [5.8512170000030892, 5.9022280000062892], [5.9512150000082329, 6.0022860000026412], [6.0511479999986477, 6.0937170000106562], [6.0937350000021979, 6.1022159999993164], [6.1512150000053225, 6.2021680000034394], [6.2511510000040289, 6.3021759999974165], [6.3511490000091726, 6.4021530000027269], [6.4512140000006184, 6.461488000000827], [6.5512170000001788, 6.5615210000105435], [8.8472069999988889, 8.948050000006333], [8.951176000002306, 9.0021629999973811], [9.0512149999995017, 9.1021889999974519], [9.1512150000053225, 9.2021720000047935], [9.2511490000033518, 9.3021989999979269], [9.3511500000022352, 9.4021639999991748], [9.45121700000891, 9.5022480000043288], [9.5511490000062622, 9.602125999997952], [9.6511480000044685, 9.7021480000112206], [9.7511490000033518, 9.8021040000021458], [9.8512150000024121, 9.9023350000061328], [9.9512160000012955, 10.002216000008048], [10.051212999998825, 10.10224800001015], [10.151148999997531, 10.202235999997356], [10.251215000011143, 10.302265000005718], [10.351216000010027, 10.402232000007643], [10.451215000008233, 10.451310999997077]], \"2\": [[2.5513360000040848, 2.553767000004882], [2.5537889999977779, 2.5616880000015954], [2.651133999999729, 2.6614370000024792], [2.7511349999986123, 2.761398000002373]]}, \"kworker/u12:5-2817\": {\"0\": [[0.4132720000052359, 0.41331600000557955]], \"2\": [[0.41341999999713153, 0.41456699999980628]]}, \"bash-2837\": {\"1\": [[2.4497120000014547, 2.4508170000044629]], \"3\": [[2.4490979999973206, 2.449601000000257]]}, \"kworker/4:1-876\": {\"4\": [[2.5538700000033714, 2.5539260000077775], [11.205921000000671, 11.205946000001859], [12.233797000008053, 12.233816000007209]]}, \"kworker/3:1H-1507\": {\"3\": [[1.121939000004204, 1.1219540000020061], [1.1242120000097202, 1.1242219999985537]]}, \"rcu_sched-8\": {\"1\": [[0.0057519999973010272, 0.0057600000000093132], [0.013751999998930842, 0.013758000000962056]]}}});\n",
       "        }); /* TRAPPY_PUBLISH_REMOVE_LINE */\n",
       "        </script>\n",
       "        </div>"
      ],
      "text/plain": [
       "<IPython.core.display.HTML object>"
      ]
     },
     "metadata": {},
     "output_type": "display_data"
    }
   ],
   "source": [
    "trappy.plotter.plot_trace(trace.ftrace)"
   ]
  },
  {
   "cell_type": "markdown",
   "metadata": {},
   "source": [
    "## Plot estimated ideal and estimated power usage"
   ]
  },
  {
   "cell_type": "markdown",
   "metadata": {},
   "source": [
    "This plot shows how the power estimation for the observed scheduling pattern varies from the estimated power for an ideal schedule.\n",
    "\n",
    "Where the plotted value for the observed power is higher than the plotted ideal power, the system was wasting power (e.g. a low-intensity task was unnecessarily placed on a high-power CPU). Where the observed value is *lower* than the ideal value, this means the system was *too* efficient (e.g. a high-intensity task was placed on a low-power CPU that could not accomadate its compute requirements)."
   ]
  },
  {
   "cell_type": "code",
   "execution_count": 15,
   "metadata": {
    "collapsed": false
   },
   "outputs": [
    {
     "data": {
      "text/html": [
       "<table style=\"border-style: hidden;\">\n",
       "<tr>\n",
       "<td style=\"border-style: hidden;\"><div class=\"ilineplot\" id=\"fig_7beeb91fa565405d81b9198750a1cbb7\"></div></td>\n",
       "</tr>\n",
       "<tr>\n",
       "<td style=\"border-style: hidden;\"><div style=\"text-align:center\" id=\"fig_7beeb91fa565405d81b9198750a1cbb7_legend\"></div></td>\n",
       "</tr>\n",
       "</table>\n",
       "<script>\n",
       "var fig_7beeb91fa565405d81b9198750a1cbb7_data = {\"logscale\": false, \"strokeWidth\": 1.0, \"pointSize\": 2, \"name\": \"fig_7beeb91fa565405d81b9198750a1cbb7\", \"step_plot\": true, \"fill_graph\": false, \"title\": \"\", \"drawPoints\": false, \"per_line\": 1, \"height\": 400, \"rangesel\": false, \"data\": {\"labels\": [\"index\", \"DataFrame 0:ideal_power\", \"DataFrame 0:observed_power\"], \"data\": [[2.4508170000044629, 83.38553191489362, 41.0], [2.4537610000115819, 83.38553191489362, 124.5031175059952], [2.4639940000051865, 83.38553191489362, 152.0062350119904], [2.5513360000040848, 83.38553191489362, 177.07434052757793], [2.5616880000015954, 83.38553191489362, 152.0062350119904], [2.8512330000085058, 83.38553191489362, 168.19588346344202], [2.8617180000001099, 83.38553191489362, 83.38553191489362], [2.9511829999973997, 83.38553191489362, 102.45787234042554], [4.4508170000044629, 500.20034542314335, 267.0], [4.8149479999992764, 500.20034542314335, 409.5094991364421], [4.8151670000079321, 500.20034542314335, 500.20034542314335], [6.4508170000044629, 83.38553191489362, 177.07434052757793], [6.6513030000060098, 83.38553191489362, 168.19588346344202], [6.6540040000109002, 83.38553191489362, 102.45787234042554], [8.4508170000044629, 500.20034542314335, 267.0], [8.8472069999988889, 500.20034542314335, 409.5094991364421], [8.8473030000022845, 500.20034542314335, 500.20034542314335], [10.450817000004463, 41.0, 41.0]]}};\n",
       "</script>\n",
       "<!-- TRAPPY_PUBLISH_SOURCE_LIB = \"http://cdnjs.cloudflare.com/ajax/libs/dygraph/1.1.1/dygraph-combined.js\" -->\n",
       "<!-- TRAPPY_PUBLISH_SOURCE_LIB = \"http://dygraphs.com/extras/synchronizer.js\" -->\n",
       "<!-- TRAPPY_PUBLISH_SOURCE_LIB = \"https://cdnjs.cloudflare.com/ajax/libs/underscore.js/1.8.3/underscore-min.js\" -->\n",
       "\n",
       "            <script>\n",
       "            /* TRAPPY_PUBLISH_IMPORT = \"plotter/js/ILinePlot.js\" */\n",
       "            /* TRAPPY_PUBLISH_REMOVE_START */\n",
       "            var ilp_req = require.config( {\n",
       "\n",
       "                paths: {\n",
       "                    \"dygraph-sync\": '/nbextensions/plotter_scripts/ILinePlot/synchronizer',\n",
       "                    \"dygraph\": '/nbextensions/plotter_scripts/ILinePlot/dygraph-combined',\n",
       "                    \"ILinePlot\": '/nbextensions/plotter_scripts/ILinePlot/ILinePlot',\n",
       "                    \"underscore\": '/nbextensions/plotter_scripts/ILinePlot/underscore-min',\n",
       "                },\n",
       "\n",
       "                shim: {\n",
       "                    \"dygraph-sync\": [\"dygraph\"],\n",
       "                    \"ILinePlot\": {\n",
       "\n",
       "                        \"deps\": [\"dygraph-sync\", \"dygraph\", \"underscore\"],\n",
       "                        \"exports\":  \"ILinePlot\"\n",
       "                    }\n",
       "                }\n",
       "            });\n",
       "                /* TRAPPY_PUBLISH_REMOVE_STOP */\n",
       "                ilp_req([\"require\", \"ILinePlot\"], function() { /* TRAPPY_PUBLISH_REMOVE_LINE */\n",
       "                ILinePlot.generate(fig_7beeb91fa565405d81b9198750a1cbb7_data);\n",
       "            }); /* TRAPPY_PUBLISH_REMOVE_LINE */\n",
       "            </script>\n",
       "        "
      ],
      "text/plain": [
       "<IPython.core.display.HTML object>"
      ]
     },
     "metadata": {},
     "output_type": "display_data"
    }
   ],
   "source": [
    "df = pd.concat([\n",
    "        expected_power.sum(axis=1), estimated_power.sum(axis=1)], \n",
    "               axis=1, keys=['ideal_power', 'observed_power']).fillna(method='ffill')\n",
    "\n",
    "ILinePlot(df, column=df.columns.tolist(), drawstyle='steps-post').view()"
   ]
  },
  {
   "cell_type": "markdown",
   "metadata": {},
   "source": [
    "## Mimic `sched_group_energy`"
   ]
  },
  {
   "cell_type": "code",
   "execution_count": 16,
   "metadata": {
    "collapsed": true
   },
   "outputs": [],
   "source": [
    "from trappy.stats.grammar import Parser"
   ]
  },
  {
   "cell_type": "code",
   "execution_count": 17,
   "metadata": {
    "collapsed": false
   },
   "outputs": [
    {
     "data": {
      "text/plain": [
       "<trappy.stats.grammar.Parser at 0x7f4810856ad0>"
      ]
     },
     "execution_count": 17,
     "metadata": {},
     "output_type": "execute_result"
    }
   ],
   "source": [
    "Parser(trace.ftrace)"
   ]
  },
  {
   "cell_type": "code",
   "execution_count": 18,
   "metadata": {
    "collapsed": false
   },
   "outputs": [
    {
     "data": {
      "text/plain": [
       "['cpu_idle',\n",
       " 'sched_pelt_se',\n",
       " 'cpu_frequency_devlib',\n",
       " 'sched_migrate_task',\n",
       " 'sched_switch',\n",
       " 'cpu_frequency']"
      ]
     },
     "execution_count": 18,
     "metadata": {},
     "output_type": "execute_result"
    }
   ],
   "source": [
    "trace.available_events"
   ]
  },
  {
   "cell_type": "code",
   "execution_count": 19,
   "metadata": {
    "collapsed": false
   },
   "outputs": [
    {
     "name": "stderr",
     "output_type": "stream",
     "text": [
      "2017-03-02 11:26:31,656 INFO    : Trace        : Platform clusters verified to be Frequency coherent\n"
     ]
    },
    {
     "ename": "TypeError",
     "evalue": "cannot do slice indexing on <class 'pandas.indexes.base.Index'> with these indexers [0] of <type 'int'>",
     "output_type": "error",
     "traceback": [
      "\u001b[1;31m\u001b[0m",
      "\u001b[1;31mTypeError\u001b[0mTraceback (most recent call last)",
      "\u001b[1;32m<ipython-input-19-cdd0c6a2c30e>\u001b[0m in \u001b[0;36m<module>\u001b[1;34m()\u001b[0m\n\u001b[0;32m      1\u001b[0m \u001b[0mtrace\u001b[0m \u001b[1;33m=\u001b[0m \u001b[0mt\u001b[0m\u001b[1;33m.\u001b[0m\u001b[0mget_trace\u001b[0m\u001b[1;33m(\u001b[0m\u001b[0mex\u001b[0m\u001b[1;33m)\u001b[0m\u001b[1;33m\u001b[0m\u001b[0m\n\u001b[1;32m----> 2\u001b[1;33m \u001b[0mnrg_model\u001b[0m\u001b[1;33m.\u001b[0m\u001b[0mmimic_sched_group_energy\u001b[0m\u001b[1;33m(\u001b[0m\u001b[0mtrace\u001b[0m\u001b[1;33m)\u001b[0m\u001b[1;33m\u001b[0m\u001b[0m\n\u001b[0m",
      "\u001b[1;32m/home/brendan/sources/lisa/libs/utils/energy_model.pyc\u001b[0m in \u001b[0;36mmimic_sched_group_energy\u001b[1;34m(self, trace, flags, component, sample_index)\u001b[0m\n\u001b[0;32m    846\u001b[0m         \u001b[0midle\u001b[0m \u001b[1;33m=\u001b[0m \u001b[0mparser\u001b[0m\u001b[1;33m.\u001b[0m\u001b[0msolve\u001b[0m\u001b[1;33m(\u001b[0m\u001b[1;34m'cpu_idle:state'\u001b[0m\u001b[1;33m)\u001b[0m\u001b[1;33m\u001b[0m\u001b[0m\n\u001b[0;32m    847\u001b[0m         \u001b[0mparser\u001b[0m \u001b[1;33m=\u001b[0m \u001b[0mParser\u001b[0m\u001b[1;33m(\u001b[0m\u001b[0mtrace\u001b[0m\u001b[1;33m.\u001b[0m\u001b[0mftrace\u001b[0m\u001b[1;33m)\u001b[0m\u001b[1;33m\u001b[0m\u001b[0m\n\u001b[1;32m--> 848\u001b[1;33m         \u001b[0mutil\u001b[0m \u001b[1;33m=\u001b[0m \u001b[0mparser\u001b[0m\u001b[1;33m.\u001b[0m\u001b[0msolve\u001b[0m\u001b[1;33m(\u001b[0m\u001b[1;34m'sched_load_avg_cpu:util_avg'\u001b[0m\u001b[1;33m)\u001b[0m\u001b[1;33m\u001b[0m\u001b[0m\n\u001b[0m\u001b[0;32m    849\u001b[0m \u001b[1;33m\u001b[0m\u001b[0m\n\u001b[0;32m    850\u001b[0m         \u001b[1;32massert\u001b[0m \u001b[0mall\u001b[0m\u001b[1;33m(\u001b[0m\u001b[0mdf\u001b[0m\u001b[1;33m.\u001b[0m\u001b[0mcolumns\u001b[0m\u001b[1;33m.\u001b[0m\u001b[0mtolist\u001b[0m\u001b[1;33m(\u001b[0m\u001b[1;33m)\u001b[0m \u001b[1;33m==\u001b[0m \u001b[0mself\u001b[0m\u001b[1;33m.\u001b[0m\u001b[0mcpus\u001b[0m \u001b[1;32mfor\u001b[0m \u001b[0mdf\u001b[0m \u001b[1;32min\u001b[0m \u001b[1;33m[\u001b[0m\u001b[0midle\u001b[0m\u001b[1;33m,\u001b[0m \u001b[0mutil\u001b[0m\u001b[1;33m]\u001b[0m\u001b[1;33m)\u001b[0m\u001b[1;33m\u001b[0m\u001b[0m\n",
      "\u001b[1;32m/home/brendan/sources/lisa/libs/trappy/trappy/stats/grammar.pyc\u001b[0m in \u001b[0;36msolve\u001b[1;34m(self, expr)\u001b[0m\n\u001b[0;32m    391\u001b[0m \u001b[1;33m\u001b[0m\u001b[0m\n\u001b[0;32m    392\u001b[0m         \u001b[1;31m# Pre-process accessors for indexing\u001b[0m\u001b[1;33m\u001b[0m\u001b[1;33m\u001b[0m\u001b[0m\n\u001b[1;32m--> 393\u001b[1;33m         \u001b[0mself\u001b[0m\u001b[1;33m.\u001b[0m\u001b[0m_accessor\u001b[0m\u001b[1;33m.\u001b[0m\u001b[0msearchString\u001b[0m\u001b[1;33m(\u001b[0m\u001b[0mexpr\u001b[0m\u001b[1;33m)\u001b[0m\u001b[1;33m\u001b[0m\u001b[0m\n\u001b[0m\u001b[0;32m    394\u001b[0m         \u001b[1;32mreturn\u001b[0m \u001b[0mself\u001b[0m\u001b[1;33m.\u001b[0m\u001b[0m_parse_expr\u001b[0m\u001b[1;33m.\u001b[0m\u001b[0mparseString\u001b[0m\u001b[1;33m(\u001b[0m\u001b[0mexpr\u001b[0m\u001b[1;33m)\u001b[0m\u001b[1;33m[\u001b[0m\u001b[1;36m0\u001b[0m\u001b[1;33m]\u001b[0m\u001b[1;33m\u001b[0m\u001b[0m\n\u001b[0;32m    395\u001b[0m \u001b[1;33m\u001b[0m\u001b[0m\n",
      "\u001b[1;32m/usr/local/lib/python2.7/dist-packages/pyparsing.pyc\u001b[0m in \u001b[0;36msearchString\u001b[1;34m(self, instring, maxMatches)\u001b[0m\n\u001b[0;32m   1748\u001b[0m         \"\"\"\n\u001b[0;32m   1749\u001b[0m         \u001b[1;32mtry\u001b[0m\u001b[1;33m:\u001b[0m\u001b[1;33m\u001b[0m\u001b[0m\n\u001b[1;32m-> 1750\u001b[1;33m             \u001b[1;32mreturn\u001b[0m \u001b[0mParseResults\u001b[0m\u001b[1;33m(\u001b[0m\u001b[1;33m[\u001b[0m \u001b[0mt\u001b[0m \u001b[1;32mfor\u001b[0m \u001b[0mt\u001b[0m\u001b[1;33m,\u001b[0m\u001b[0ms\u001b[0m\u001b[1;33m,\u001b[0m\u001b[0me\u001b[0m \u001b[1;32min\u001b[0m \u001b[0mself\u001b[0m\u001b[1;33m.\u001b[0m\u001b[0mscanString\u001b[0m\u001b[1;33m(\u001b[0m \u001b[0minstring\u001b[0m\u001b[1;33m,\u001b[0m \u001b[0mmaxMatches\u001b[0m \u001b[1;33m)\u001b[0m \u001b[1;33m]\u001b[0m\u001b[1;33m)\u001b[0m\u001b[1;33m\u001b[0m\u001b[0m\n\u001b[0m\u001b[0;32m   1751\u001b[0m         \u001b[1;32mexcept\u001b[0m \u001b[0mParseBaseException\u001b[0m \u001b[1;32mas\u001b[0m \u001b[0mexc\u001b[0m\u001b[1;33m:\u001b[0m\u001b[1;33m\u001b[0m\u001b[0m\n\u001b[0;32m   1752\u001b[0m             \u001b[1;32mif\u001b[0m \u001b[0mParserElement\u001b[0m\u001b[1;33m.\u001b[0m\u001b[0mverbose_stacktrace\u001b[0m\u001b[1;33m:\u001b[0m\u001b[1;33m\u001b[0m\u001b[0m\n",
      "\u001b[1;32m/usr/local/lib/python2.7/dist-packages/pyparsing.pyc\u001b[0m in \u001b[0;36mscanString\u001b[1;34m(self, instring, maxMatches, overlap)\u001b[0m\n\u001b[0;32m   1666\u001b[0m                 \u001b[1;32mtry\u001b[0m\u001b[1;33m:\u001b[0m\u001b[1;33m\u001b[0m\u001b[0m\n\u001b[0;32m   1667\u001b[0m                     \u001b[0mpreloc\u001b[0m \u001b[1;33m=\u001b[0m \u001b[0mpreparseFn\u001b[0m\u001b[1;33m(\u001b[0m \u001b[0minstring\u001b[0m\u001b[1;33m,\u001b[0m \u001b[0mloc\u001b[0m \u001b[1;33m)\u001b[0m\u001b[1;33m\u001b[0m\u001b[0m\n\u001b[1;32m-> 1668\u001b[1;33m                     \u001b[0mnextLoc\u001b[0m\u001b[1;33m,\u001b[0m\u001b[0mtokens\u001b[0m \u001b[1;33m=\u001b[0m \u001b[0mparseFn\u001b[0m\u001b[1;33m(\u001b[0m \u001b[0minstring\u001b[0m\u001b[1;33m,\u001b[0m \u001b[0mpreloc\u001b[0m\u001b[1;33m,\u001b[0m \u001b[0mcallPreParse\u001b[0m\u001b[1;33m=\u001b[0m\u001b[0mFalse\u001b[0m \u001b[1;33m)\u001b[0m\u001b[1;33m\u001b[0m\u001b[0m\n\u001b[0m\u001b[0;32m   1669\u001b[0m                 \u001b[1;32mexcept\u001b[0m \u001b[0mParseException\u001b[0m\u001b[1;33m:\u001b[0m\u001b[1;33m\u001b[0m\u001b[0m\n\u001b[0;32m   1670\u001b[0m                     \u001b[0mloc\u001b[0m \u001b[1;33m=\u001b[0m \u001b[0mpreloc\u001b[0m\u001b[1;33m+\u001b[0m\u001b[1;36m1\u001b[0m\u001b[1;33m\u001b[0m\u001b[0m\n",
      "\u001b[1;32m/usr/local/lib/python2.7/dist-packages/pyparsing.pyc\u001b[0m in \u001b[0;36m_parseCache\u001b[1;34m(self, instring, loc, doActions, callPreParse)\u001b[0m\n\u001b[0;32m   1512\u001b[0m                 \u001b[0mParserElement\u001b[0m\u001b[1;33m.\u001b[0m\u001b[0mpackrat_cache_stats\u001b[0m\u001b[1;33m[\u001b[0m\u001b[0mMISS\u001b[0m\u001b[1;33m]\u001b[0m \u001b[1;33m+=\u001b[0m \u001b[1;36m1\u001b[0m\u001b[1;33m\u001b[0m\u001b[0m\n\u001b[0;32m   1513\u001b[0m                 \u001b[1;32mtry\u001b[0m\u001b[1;33m:\u001b[0m\u001b[1;33m\u001b[0m\u001b[0m\n\u001b[1;32m-> 1514\u001b[1;33m                     \u001b[0mvalue\u001b[0m \u001b[1;33m=\u001b[0m \u001b[0mself\u001b[0m\u001b[1;33m.\u001b[0m\u001b[0m_parseNoCache\u001b[0m\u001b[1;33m(\u001b[0m\u001b[0minstring\u001b[0m\u001b[1;33m,\u001b[0m \u001b[0mloc\u001b[0m\u001b[1;33m,\u001b[0m \u001b[0mdoActions\u001b[0m\u001b[1;33m,\u001b[0m \u001b[0mcallPreParse\u001b[0m\u001b[1;33m)\u001b[0m\u001b[1;33m\u001b[0m\u001b[0m\n\u001b[0m\u001b[0;32m   1515\u001b[0m                 \u001b[1;32mexcept\u001b[0m \u001b[0mParseBaseException\u001b[0m \u001b[1;32mas\u001b[0m \u001b[0mpe\u001b[0m\u001b[1;33m:\u001b[0m\u001b[1;33m\u001b[0m\u001b[0m\n\u001b[0;32m   1516\u001b[0m                     \u001b[1;31m# cache a copy of the exception, without the traceback\u001b[0m\u001b[1;33m\u001b[0m\u001b[1;33m\u001b[0m\u001b[0m\n",
      "\u001b[1;32m/usr/local/lib/python2.7/dist-packages/pyparsing.pyc\u001b[0m in \u001b[0;36m_parseNoCache\u001b[1;34m(self, instring, loc, doActions, callPreParse)\u001b[0m\n\u001b[0;32m   1403\u001b[0m             \u001b[1;32melse\u001b[0m\u001b[1;33m:\u001b[0m\u001b[1;33m\u001b[0m\u001b[0m\n\u001b[0;32m   1404\u001b[0m                 \u001b[1;32mfor\u001b[0m \u001b[0mfn\u001b[0m \u001b[1;32min\u001b[0m \u001b[0mself\u001b[0m\u001b[1;33m.\u001b[0m\u001b[0mparseAction\u001b[0m\u001b[1;33m:\u001b[0m\u001b[1;33m\u001b[0m\u001b[0m\n\u001b[1;32m-> 1405\u001b[1;33m                     \u001b[0mtokens\u001b[0m \u001b[1;33m=\u001b[0m \u001b[0mfn\u001b[0m\u001b[1;33m(\u001b[0m \u001b[0minstring\u001b[0m\u001b[1;33m,\u001b[0m \u001b[0mtokensStart\u001b[0m\u001b[1;33m,\u001b[0m \u001b[0mretTokens\u001b[0m \u001b[1;33m)\u001b[0m\u001b[1;33m\u001b[0m\u001b[0m\n\u001b[0m\u001b[0;32m   1406\u001b[0m                     \u001b[1;32mif\u001b[0m \u001b[0mtokens\u001b[0m \u001b[1;32mis\u001b[0m \u001b[1;32mnot\u001b[0m \u001b[0mNone\u001b[0m\u001b[1;33m:\u001b[0m\u001b[1;33m\u001b[0m\u001b[0m\n\u001b[0;32m   1407\u001b[0m                         retTokens = ParseResults( tokens,\n",
      "\u001b[1;32m/usr/local/lib/python2.7/dist-packages/pyparsing.pyc\u001b[0m in \u001b[0;36mwrapper\u001b[1;34m(*args)\u001b[0m\n\u001b[0;32m   1047\u001b[0m         \u001b[1;32mwhile\u001b[0m \u001b[1;36m1\u001b[0m\u001b[1;33m:\u001b[0m\u001b[1;33m\u001b[0m\u001b[0m\n\u001b[0;32m   1048\u001b[0m             \u001b[1;32mtry\u001b[0m\u001b[1;33m:\u001b[0m\u001b[1;33m\u001b[0m\u001b[0m\n\u001b[1;32m-> 1049\u001b[1;33m                 \u001b[0mret\u001b[0m \u001b[1;33m=\u001b[0m \u001b[0mfunc\u001b[0m\u001b[1;33m(\u001b[0m\u001b[1;33m*\u001b[0m\u001b[0margs\u001b[0m\u001b[1;33m[\u001b[0m\u001b[0mlimit\u001b[0m\u001b[1;33m[\u001b[0m\u001b[1;36m0\u001b[0m\u001b[1;33m]\u001b[0m\u001b[1;33m:\u001b[0m\u001b[1;33m]\u001b[0m\u001b[1;33m)\u001b[0m\u001b[1;33m\u001b[0m\u001b[0m\n\u001b[0m\u001b[0;32m   1050\u001b[0m                 \u001b[0mfoundArity\u001b[0m\u001b[1;33m[\u001b[0m\u001b[1;36m0\u001b[0m\u001b[1;33m]\u001b[0m \u001b[1;33m=\u001b[0m \u001b[0mTrue\u001b[0m\u001b[1;33m\u001b[0m\u001b[0m\n\u001b[0;32m   1051\u001b[0m                 \u001b[1;32mreturn\u001b[0m \u001b[0mret\u001b[0m\u001b[1;33m\u001b[0m\u001b[0m\n",
      "\u001b[1;32m/home/brendan/sources/lisa/libs/trappy/trappy/stats/grammar.pyc\u001b[0m in \u001b[0;36m_pre_process\u001b[1;34m(self, tokens)\u001b[0m\n\u001b[0;32m    457\u001b[0m             \u001b[0mcls\u001b[0m \u001b[1;33m=\u001b[0m \u001b[0mstr_to_attr\u001b[0m\u001b[1;33m(\u001b[0m\u001b[0mcls\u001b[0m\u001b[1;33m)\u001b[0m\u001b[1;33m\u001b[0m\u001b[0m\n\u001b[0;32m    458\u001b[0m \u001b[1;33m\u001b[0m\u001b[0m\n\u001b[1;32m--> 459\u001b[1;33m         \u001b[0mdata_frame\u001b[0m \u001b[1;33m=\u001b[0m \u001b[0mself\u001b[0m\u001b[1;33m.\u001b[0m\u001b[0m_pivot\u001b[0m\u001b[1;33m(\u001b[0m\u001b[0mcls\u001b[0m\u001b[1;33m,\u001b[0m \u001b[0mcolumn\u001b[0m\u001b[1;33m)\u001b[0m\u001b[1;33m\u001b[0m\u001b[0m\n\u001b[0m\u001b[0;32m    460\u001b[0m         self._agg_df = pd.concat(\n\u001b[0;32m    461\u001b[0m             [self._agg_df, data_frame], axis=1)\n",
      "\u001b[1;32m/home/brendan/sources/lisa/libs/trappy/trappy/stats/grammar.pyc\u001b[0m in \u001b[0;36m_pivot\u001b[1;34m(self, cls, column)\u001b[0m\n\u001b[0;32m    411\u001b[0m         \u001b[1;34m\"\"\"Pivot Data for concatenation\"\"\"\u001b[0m\u001b[1;33m\u001b[0m\u001b[0m\n\u001b[0;32m    412\u001b[0m \u001b[1;33m\u001b[0m\u001b[0m\n\u001b[1;32m--> 413\u001b[1;33m         \u001b[0mdata_frame\u001b[0m \u001b[1;33m=\u001b[0m \u001b[0mself\u001b[0m\u001b[1;33m.\u001b[0m\u001b[0m_get_data_frame\u001b[0m\u001b[1;33m(\u001b[0m\u001b[0mcls\u001b[0m\u001b[1;33m)\u001b[0m\u001b[1;33m\u001b[0m\u001b[0m\n\u001b[0m\u001b[0;32m    414\u001b[0m         \u001b[0mdata_frame\u001b[0m \u001b[1;33m=\u001b[0m \u001b[0mhandle_duplicate_index\u001b[0m\u001b[1;33m(\u001b[0m\u001b[0mdata_frame\u001b[0m\u001b[1;33m)\u001b[0m\u001b[1;33m\u001b[0m\u001b[0m\n\u001b[0;32m    415\u001b[0m         \u001b[0mnew_index\u001b[0m \u001b[1;33m=\u001b[0m \u001b[0mself\u001b[0m\u001b[1;33m.\u001b[0m\u001b[0m_agg_df\u001b[0m\u001b[1;33m.\u001b[0m\u001b[0mindex\u001b[0m\u001b[1;33m.\u001b[0m\u001b[0munion\u001b[0m\u001b[1;33m(\u001b[0m\u001b[0mdata_frame\u001b[0m\u001b[1;33m.\u001b[0m\u001b[0mindex\u001b[0m\u001b[1;33m)\u001b[0m\u001b[1;33m\u001b[0m\u001b[0m\n",
      "\u001b[1;32m/home/brendan/sources/lisa/libs/trappy/trappy/stats/grammar.pyc\u001b[0m in \u001b[0;36m_get_data_frame\u001b[1;34m(self, cls)\u001b[0m\n\u001b[0;32m    527\u001b[0m \u001b[1;33m\u001b[0m\u001b[0m\n\u001b[0;32m    528\u001b[0m         \u001b[1;32mif\u001b[0m \u001b[0mself\u001b[0m\u001b[1;33m.\u001b[0m\u001b[0m_window\u001b[0m\u001b[1;33m[\u001b[0m\u001b[1;36m1\u001b[0m\u001b[1;33m]\u001b[0m \u001b[1;32mis\u001b[0m \u001b[0mNone\u001b[0m\u001b[1;33m:\u001b[0m\u001b[1;33m\u001b[0m\u001b[0m\n\u001b[1;32m--> 529\u001b[1;33m             \u001b[0mdata_frame\u001b[0m \u001b[1;33m=\u001b[0m \u001b[0mdata_frame\u001b[0m\u001b[1;33m.\u001b[0m\u001b[0mloc\u001b[0m\u001b[1;33m[\u001b[0m\u001b[0mself\u001b[0m\u001b[1;33m.\u001b[0m\u001b[0m_window\u001b[0m\u001b[1;33m[\u001b[0m\u001b[1;36m0\u001b[0m\u001b[1;33m]\u001b[0m\u001b[1;33m:\u001b[0m\u001b[1;33m]\u001b[0m\u001b[1;33m\u001b[0m\u001b[0m\n\u001b[0m\u001b[0;32m    530\u001b[0m         \u001b[1;32melse\u001b[0m\u001b[1;33m:\u001b[0m\u001b[1;33m\u001b[0m\u001b[0m\n\u001b[0;32m    531\u001b[0m             \u001b[0mdata_frame\u001b[0m \u001b[1;33m=\u001b[0m \u001b[0mdata_frame\u001b[0m\u001b[1;33m.\u001b[0m\u001b[0mloc\u001b[0m\u001b[1;33m[\u001b[0m\u001b[0mself\u001b[0m\u001b[1;33m.\u001b[0m\u001b[0m_window\u001b[0m\u001b[1;33m[\u001b[0m\u001b[1;36m0\u001b[0m\u001b[1;33m]\u001b[0m\u001b[1;33m:\u001b[0m\u001b[0mself\u001b[0m\u001b[1;33m.\u001b[0m\u001b[0m_window\u001b[0m\u001b[1;33m[\u001b[0m\u001b[1;36m1\u001b[0m\u001b[1;33m]\u001b[0m\u001b[1;33m]\u001b[0m\u001b[1;33m\u001b[0m\u001b[0m\n",
      "\u001b[1;32m/usr/local/lib/python2.7/dist-packages/pandas/core/indexing.pyc\u001b[0m in \u001b[0;36m__getitem__\u001b[1;34m(self, key)\u001b[0m\n\u001b[0;32m   1310\u001b[0m             \u001b[1;32mreturn\u001b[0m \u001b[0mself\u001b[0m\u001b[1;33m.\u001b[0m\u001b[0m_getitem_tuple\u001b[0m\u001b[1;33m(\u001b[0m\u001b[0mkey\u001b[0m\u001b[1;33m)\u001b[0m\u001b[1;33m\u001b[0m\u001b[0m\n\u001b[0;32m   1311\u001b[0m         \u001b[1;32melse\u001b[0m\u001b[1;33m:\u001b[0m\u001b[1;33m\u001b[0m\u001b[0m\n\u001b[1;32m-> 1312\u001b[1;33m             \u001b[1;32mreturn\u001b[0m \u001b[0mself\u001b[0m\u001b[1;33m.\u001b[0m\u001b[0m_getitem_axis\u001b[0m\u001b[1;33m(\u001b[0m\u001b[0mkey\u001b[0m\u001b[1;33m,\u001b[0m \u001b[0maxis\u001b[0m\u001b[1;33m=\u001b[0m\u001b[1;36m0\u001b[0m\u001b[1;33m)\u001b[0m\u001b[1;33m\u001b[0m\u001b[0m\n\u001b[0m\u001b[0;32m   1313\u001b[0m \u001b[1;33m\u001b[0m\u001b[0m\n\u001b[0;32m   1314\u001b[0m     \u001b[1;32mdef\u001b[0m \u001b[0m_getitem_axis\u001b[0m\u001b[1;33m(\u001b[0m\u001b[0mself\u001b[0m\u001b[1;33m,\u001b[0m \u001b[0mkey\u001b[0m\u001b[1;33m,\u001b[0m \u001b[0maxis\u001b[0m\u001b[1;33m=\u001b[0m\u001b[1;36m0\u001b[0m\u001b[1;33m)\u001b[0m\u001b[1;33m:\u001b[0m\u001b[1;33m\u001b[0m\u001b[0m\n",
      "\u001b[1;32m/usr/local/lib/python2.7/dist-packages/pandas/core/indexing.pyc\u001b[0m in \u001b[0;36m_getitem_axis\u001b[1;34m(self, key, axis)\u001b[0m\n\u001b[0;32m   1451\u001b[0m         \u001b[1;32mif\u001b[0m \u001b[0misinstance\u001b[0m\u001b[1;33m(\u001b[0m\u001b[0mkey\u001b[0m\u001b[1;33m,\u001b[0m \u001b[0mslice\u001b[0m\u001b[1;33m)\u001b[0m\u001b[1;33m:\u001b[0m\u001b[1;33m\u001b[0m\u001b[0m\n\u001b[0;32m   1452\u001b[0m             \u001b[0mself\u001b[0m\u001b[1;33m.\u001b[0m\u001b[0m_has_valid_type\u001b[0m\u001b[1;33m(\u001b[0m\u001b[0mkey\u001b[0m\u001b[1;33m,\u001b[0m \u001b[0maxis\u001b[0m\u001b[1;33m)\u001b[0m\u001b[1;33m\u001b[0m\u001b[0m\n\u001b[1;32m-> 1453\u001b[1;33m             \u001b[1;32mreturn\u001b[0m \u001b[0mself\u001b[0m\u001b[1;33m.\u001b[0m\u001b[0m_get_slice_axis\u001b[0m\u001b[1;33m(\u001b[0m\u001b[0mkey\u001b[0m\u001b[1;33m,\u001b[0m \u001b[0maxis\u001b[0m\u001b[1;33m=\u001b[0m\u001b[0maxis\u001b[0m\u001b[1;33m)\u001b[0m\u001b[1;33m\u001b[0m\u001b[0m\n\u001b[0m\u001b[0;32m   1454\u001b[0m         \u001b[1;32melif\u001b[0m \u001b[0mis_bool_indexer\u001b[0m\u001b[1;33m(\u001b[0m\u001b[0mkey\u001b[0m\u001b[1;33m)\u001b[0m\u001b[1;33m:\u001b[0m\u001b[1;33m\u001b[0m\u001b[0m\n\u001b[0;32m   1455\u001b[0m             \u001b[1;32mreturn\u001b[0m \u001b[0mself\u001b[0m\u001b[1;33m.\u001b[0m\u001b[0m_getbool_axis\u001b[0m\u001b[1;33m(\u001b[0m\u001b[0mkey\u001b[0m\u001b[1;33m,\u001b[0m \u001b[0maxis\u001b[0m\u001b[1;33m=\u001b[0m\u001b[0maxis\u001b[0m\u001b[1;33m)\u001b[0m\u001b[1;33m\u001b[0m\u001b[0m\n",
      "\u001b[1;32m/usr/local/lib/python2.7/dist-packages/pandas/core/indexing.pyc\u001b[0m in \u001b[0;36m_get_slice_axis\u001b[1;34m(self, slice_obj, axis)\u001b[0m\n\u001b[0;32m   1332\u001b[0m         \u001b[0mlabels\u001b[0m \u001b[1;33m=\u001b[0m \u001b[0mobj\u001b[0m\u001b[1;33m.\u001b[0m\u001b[0m_get_axis\u001b[0m\u001b[1;33m(\u001b[0m\u001b[0maxis\u001b[0m\u001b[1;33m)\u001b[0m\u001b[1;33m\u001b[0m\u001b[0m\n\u001b[0;32m   1333\u001b[0m         indexer = labels.slice_indexer(slice_obj.start, slice_obj.stop,\n\u001b[1;32m-> 1334\u001b[1;33m                                        slice_obj.step, kind=self.name)\n\u001b[0m\u001b[0;32m   1335\u001b[0m \u001b[1;33m\u001b[0m\u001b[0m\n\u001b[0;32m   1336\u001b[0m         \u001b[1;32mif\u001b[0m \u001b[0misinstance\u001b[0m\u001b[1;33m(\u001b[0m\u001b[0mindexer\u001b[0m\u001b[1;33m,\u001b[0m \u001b[0mslice\u001b[0m\u001b[1;33m)\u001b[0m\u001b[1;33m:\u001b[0m\u001b[1;33m\u001b[0m\u001b[0m\n",
      "\u001b[1;32m/usr/local/lib/python2.7/dist-packages/pandas/indexes/base.pyc\u001b[0m in \u001b[0;36mslice_indexer\u001b[1;34m(self, start, end, step, kind)\u001b[0m\n\u001b[0;32m   2995\u001b[0m         \"\"\"\n\u001b[0;32m   2996\u001b[0m         start_slice, end_slice = self.slice_locs(start, end, step=step,\n\u001b[1;32m-> 2997\u001b[1;33m                                                  kind=kind)\n\u001b[0m\u001b[0;32m   2998\u001b[0m \u001b[1;33m\u001b[0m\u001b[0m\n\u001b[0;32m   2999\u001b[0m         \u001b[1;31m# return a slice\u001b[0m\u001b[1;33m\u001b[0m\u001b[1;33m\u001b[0m\u001b[0m\n",
      "\u001b[1;32m/usr/local/lib/python2.7/dist-packages/pandas/indexes/base.pyc\u001b[0m in \u001b[0;36mslice_locs\u001b[1;34m(self, start, end, step, kind)\u001b[0m\n\u001b[0;32m   3174\u001b[0m         \u001b[0mstart_slice\u001b[0m \u001b[1;33m=\u001b[0m \u001b[0mNone\u001b[0m\u001b[1;33m\u001b[0m\u001b[0m\n\u001b[0;32m   3175\u001b[0m         \u001b[1;32mif\u001b[0m \u001b[0mstart\u001b[0m \u001b[1;32mis\u001b[0m \u001b[1;32mnot\u001b[0m \u001b[0mNone\u001b[0m\u001b[1;33m:\u001b[0m\u001b[1;33m\u001b[0m\u001b[0m\n\u001b[1;32m-> 3176\u001b[1;33m             \u001b[0mstart_slice\u001b[0m \u001b[1;33m=\u001b[0m \u001b[0mself\u001b[0m\u001b[1;33m.\u001b[0m\u001b[0mget_slice_bound\u001b[0m\u001b[1;33m(\u001b[0m\u001b[0mstart\u001b[0m\u001b[1;33m,\u001b[0m \u001b[1;34m'left'\u001b[0m\u001b[1;33m,\u001b[0m \u001b[0mkind\u001b[0m\u001b[1;33m)\u001b[0m\u001b[1;33m\u001b[0m\u001b[0m\n\u001b[0m\u001b[0;32m   3177\u001b[0m         \u001b[1;32mif\u001b[0m \u001b[0mstart_slice\u001b[0m \u001b[1;32mis\u001b[0m \u001b[0mNone\u001b[0m\u001b[1;33m:\u001b[0m\u001b[1;33m\u001b[0m\u001b[0m\n\u001b[0;32m   3178\u001b[0m             \u001b[0mstart_slice\u001b[0m \u001b[1;33m=\u001b[0m \u001b[1;36m0\u001b[0m\u001b[1;33m\u001b[0m\u001b[0m\n",
      "\u001b[1;32m/usr/local/lib/python2.7/dist-packages/pandas/indexes/base.pyc\u001b[0m in \u001b[0;36mget_slice_bound\u001b[1;34m(self, label, side, kind)\u001b[0m\n\u001b[0;32m   3113\u001b[0m         \u001b[1;31m# For datetime indices label may be a string that has to be converted\u001b[0m\u001b[1;33m\u001b[0m\u001b[1;33m\u001b[0m\u001b[0m\n\u001b[0;32m   3114\u001b[0m         \u001b[1;31m# to datetime boundary according to its resolution.\u001b[0m\u001b[1;33m\u001b[0m\u001b[1;33m\u001b[0m\u001b[0m\n\u001b[1;32m-> 3115\u001b[1;33m         \u001b[0mlabel\u001b[0m \u001b[1;33m=\u001b[0m \u001b[0mself\u001b[0m\u001b[1;33m.\u001b[0m\u001b[0m_maybe_cast_slice_bound\u001b[0m\u001b[1;33m(\u001b[0m\u001b[0mlabel\u001b[0m\u001b[1;33m,\u001b[0m \u001b[0mside\u001b[0m\u001b[1;33m,\u001b[0m \u001b[0mkind\u001b[0m\u001b[1;33m)\u001b[0m\u001b[1;33m\u001b[0m\u001b[0m\n\u001b[0m\u001b[0;32m   3116\u001b[0m \u001b[1;33m\u001b[0m\u001b[0m\n\u001b[0;32m   3117\u001b[0m         \u001b[1;31m# we need to look up the label\u001b[0m\u001b[1;33m\u001b[0m\u001b[1;33m\u001b[0m\u001b[0m\n",
      "\u001b[1;32m/usr/local/lib/python2.7/dist-packages/pandas/indexes/base.pyc\u001b[0m in \u001b[0;36m_maybe_cast_slice_bound\u001b[1;34m(self, label, side, kind)\u001b[0m\n\u001b[0;32m   3071\u001b[0m         \u001b[1;31m# this is rejected (generally .loc gets you here)\u001b[0m\u001b[1;33m\u001b[0m\u001b[1;33m\u001b[0m\u001b[0m\n\u001b[0;32m   3072\u001b[0m         \u001b[1;32melif\u001b[0m \u001b[0mis_integer\u001b[0m\u001b[1;33m(\u001b[0m\u001b[0mlabel\u001b[0m\u001b[1;33m)\u001b[0m\u001b[1;33m:\u001b[0m\u001b[1;33m\u001b[0m\u001b[0m\n\u001b[1;32m-> 3073\u001b[1;33m             \u001b[0mself\u001b[0m\u001b[1;33m.\u001b[0m\u001b[0m_invalid_indexer\u001b[0m\u001b[1;33m(\u001b[0m\u001b[1;34m'slice'\u001b[0m\u001b[1;33m,\u001b[0m \u001b[0mlabel\u001b[0m\u001b[1;33m)\u001b[0m\u001b[1;33m\u001b[0m\u001b[0m\n\u001b[0m\u001b[0;32m   3074\u001b[0m \u001b[1;33m\u001b[0m\u001b[0m\n\u001b[0;32m   3075\u001b[0m         \u001b[1;32mreturn\u001b[0m \u001b[0mlabel\u001b[0m\u001b[1;33m\u001b[0m\u001b[0m\n",
      "\u001b[1;32m/usr/local/lib/python2.7/dist-packages/pandas/indexes/base.pyc\u001b[0m in \u001b[0;36m_invalid_indexer\u001b[1;34m(self, form, key)\u001b[0m\n\u001b[0;32m   1282\u001b[0m                         \"indexers [{key}] of {kind}\".format(\n\u001b[0;32m   1283\u001b[0m                             \u001b[0mform\u001b[0m\u001b[1;33m=\u001b[0m\u001b[0mform\u001b[0m\u001b[1;33m,\u001b[0m \u001b[0mklass\u001b[0m\u001b[1;33m=\u001b[0m\u001b[0mtype\u001b[0m\u001b[1;33m(\u001b[0m\u001b[0mself\u001b[0m\u001b[1;33m)\u001b[0m\u001b[1;33m,\u001b[0m \u001b[0mkey\u001b[0m\u001b[1;33m=\u001b[0m\u001b[0mkey\u001b[0m\u001b[1;33m,\u001b[0m\u001b[1;33m\u001b[0m\u001b[0m\n\u001b[1;32m-> 1284\u001b[1;33m                             kind=type(key)))\n\u001b[0m\u001b[0;32m   1285\u001b[0m \u001b[1;33m\u001b[0m\u001b[0m\n\u001b[0;32m   1286\u001b[0m     \u001b[1;32mdef\u001b[0m \u001b[0mget_duplicates\u001b[0m\u001b[1;33m(\u001b[0m\u001b[0mself\u001b[0m\u001b[1;33m)\u001b[0m\u001b[1;33m:\u001b[0m\u001b[1;33m\u001b[0m\u001b[0m\n",
      "\u001b[1;31mTypeError\u001b[0m: cannot do slice indexing on <class 'pandas.indexes.base.Index'> with these indexers [0] of <type 'int'>"
     ]
    }
   ],
   "source": [
    "trace = t.get_trace(ex)\n",
    "nrg_model.mimic_sched_group_energy(trace)"
   ]
  },
  {
   "cell_type": "markdown",
   "metadata": {},
   "source": [
    "## Plot CPU frequency"
   ]
  },
  {
   "cell_type": "code",
   "execution_count": null,
   "metadata": {
    "collapsed": false
   },
   "outputs": [],
   "source": [
    "trace.analysis.frequency.plotClusterFrequencies()"
   ]
  },
  {
   "cell_type": "markdown",
   "metadata": {},
   "source": [
    "## Assertions\n",
    "These are the assertions used to generate pass/fail results s. They aren't very useful in this interactive context - it's much more interesting to examine plots like the one above and see whether the behaviour was desirable or not. These are intended for automated regression testing. Nonetheless, let's see what the results would be for this run."
   ]
  },
  {
   "cell_type": "markdown",
   "metadata": {},
   "source": [
    "`test_slack` checks the \"slack\" reported by the rt-app workload. If this slack was negative, this means the workload didn't receive enough CPU capacity. In a real system this would represent lacking interactive performance."
   ]
  },
  {
   "cell_type": "code",
   "execution_count": null,
   "metadata": {
    "collapsed": false
   },
   "outputs": [],
   "source": [
    "try:\n",
    "    t.test_slack()\n",
    "except AssertionError as e:\n",
    "    print \"test_slack failed:\"\n",
    "    print e\n",
    "else:\n",
    "    print \"test_slack passed\""
   ]
  },
  {
   "cell_type": "markdown",
   "metadata": {},
   "source": [
    "`test_task_placement` checks that the task placement was energy efficient, taking advantage of lower-power CPUs whenever possible."
   ]
  },
  {
   "cell_type": "code",
   "execution_count": null,
   "metadata": {
    "collapsed": false
   },
   "outputs": [],
   "source": [
    "try:\n",
    "    t.test_task_placement()\n",
    "except AssertionError as e:\n",
    "    print \"test_task_placement failed:\"\n",
    "    print e\n",
    "else:\n",
    "    print \"test_task_placement passed\""
   ]
  },
  {
   "cell_type": "code",
   "execution_count": null,
   "metadata": {
    "collapsed": true
   },
   "outputs": [],
   "source": []
  }
 ],
 "metadata": {
  "kernelspec": {
   "display_name": "Python 2",
   "language": "python",
   "name": "python2"
  },
  "language_info": {
   "codemirror_mode": {
    "name": "ipython",
    "version": 2
   },
   "file_extension": ".py",
   "mimetype": "text/x-python",
   "name": "python",
   "nbconvert_exporter": "python",
   "pygments_lexer": "ipython2",
   "version": "2.7.6"
  }
 },
 "nbformat": 4,
 "nbformat_minor": 1
}
