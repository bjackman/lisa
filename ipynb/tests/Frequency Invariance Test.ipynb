{
 "cells": [
  {
   "cell_type": "markdown",
   "metadata": {},
   "source": [
    "## Setup"
   ]
  },
  {
   "cell_type": "code",
   "execution_count": 1,
   "metadata": {
    "collapsed": true
   },
   "outputs": [],
   "source": [
    "%matplotlib inline"
   ]
  },
  {
   "cell_type": "code",
   "execution_count": 2,
   "metadata": {
    "collapsed": false
   },
   "outputs": [],
   "source": [
    "import pandas as pd\n",
    "import json\n",
    "\n",
    "from tests.eas.load_tracking import FreqInvarianceTest\n",
    "from trace import Trace\n",
    "from trappy.plotter import plot_trace\n",
    "from trappy.stats.grammar import Parser\n",
    "from trappy import ILinePlot"
   ]
  },
  {
   "cell_type": "code",
   "execution_count": 3,
   "metadata": {
    "collapsed": false
   },
   "outputs": [
    {
     "name": "stderr",
     "output_type": "stream",
     "text": [
      "2016-12-02 18:43:24,299 INFO    : root         : Using LISA logging configuration:\n",
      "2016-12-02 18:43:24,300 INFO    : root         :   /home/brejac01/sources/lisa/logging.conf\n"
     ]
    }
   ],
   "source": [
    "import logging\n",
    "from conf import LisaLogging\n",
    "LisaLogging.setup()\n",
    "logging.getLogger('Analysis').setLevel(logging.ERROR)\n",
    "logging.getLogger('Trace').setLevel(logging.ERROR)"
   ]
  },
  {
   "cell_type": "markdown",
   "metadata": {},
   "source": [
    "## Run test workload"
   ]
  },
  {
   "cell_type": "code",
   "execution_count": 4,
   "metadata": {
    "collapsed": false
   },
   "outputs": [],
   "source": [
    "t = FreqInvarianceTest(methodName='test_task_util')\n",
    "# help(t)"
   ]
  },
  {
   "cell_type": "code",
   "execution_count": 5,
   "metadata": {
    "collapsed": false,
    "scrolled": true
   },
   "outputs": [
    {
     "name": "stderr",
     "output_type": "stream",
     "text": [
      "2016-12-02 18:43:24,314 INFO    : LisaTest     : Setup tests execution engine...\n",
      "2016-12-02 18:43:24,315 INFO    : TestEnv      : Using base path: /home/brejac01/sources/lisa\n",
      "2016-12-02 18:43:24,316 INFO    : TestEnv      : Loading default (file) target configuration\n",
      "2016-12-02 18:43:24,316 INFO    : TestEnv      : Loading target configuration [/home/brejac01/sources/lisa/target.config]...\n",
      "2016-12-02 18:43:24,319 INFO    : TestEnv      : Loading custom (inline) test configuration\n",
      "2016-12-02 18:43:24,320 INFO    : TestEnv      : Devlib modules to load: ['bl', u'cpuidle', 'cpufreq']\n",
      "2016-12-02 18:43:24,321 INFO    : TestEnv      : Connecting linux target:\n",
      "2016-12-02 18:43:24,322 INFO    : TestEnv      :   username : brendan\n",
      "2016-12-02 18:43:24,323 INFO    : TestEnv      :       host : 192.168.2.2\n",
      "2016-12-02 18:43:24,324 INFO    : TestEnv      :   password : password\n",
      "2016-12-02 18:43:24,325 INFO    : TestEnv      : Connection settings:\n",
      "2016-12-02 18:43:24,326 INFO    : TestEnv      :    {'username': u'brendan', 'host': u'192.168.2.2', 'password': u'password'}\n",
      "2016-12-02 18:43:32,143 INFO    : TestEnv      : Initializing target workdir:\n",
      "2016-12-02 18:43:32,145 INFO    : TestEnv      :    /home/brendan/devlib-target\n",
      "2016-12-02 18:43:38,186 INFO    : TestEnv      : Topology:\n",
      "2016-12-02 18:43:38,188 INFO    : TestEnv      :    [[0, 3, 4, 5], [1, 2]]\n",
      "2016-12-02 18:43:40,826 INFO    : TestEnv      : Loading default EM:\n",
      "2016-12-02 18:43:40,828 INFO    : TestEnv      :    /home/brejac01/sources/lisa/libs/utils/platforms/juno.json\n",
      "2016-12-02 18:43:42,630 WARNING : LinuxTarget  : Event [sched_load_avg_task] not available for tracing\n",
      "2016-12-02 18:43:42,633 WARNING : LinuxTarget  : Event [sched_load_avg_cpu] not available for tracing\n",
      "2016-12-02 18:43:42,635 INFO    : TestEnv      : Enabled tracepoints:\n",
      "2016-12-02 18:43:42,636 INFO    : TestEnv      :    sched_switch\n",
      "2016-12-02 18:43:42,637 INFO    : TestEnv      :    sched_load_avg_task\n",
      "2016-12-02 18:43:42,638 INFO    : TestEnv      :    sched_load_avg_cpu\n",
      "2016-12-02 18:43:42,639 INFO    : TestEnv      :    sched_pelt_se\n",
      "2016-12-02 18:43:42,640 WARNING : TestEnv      : Using configuration provided RTApp calibration\n",
      "2016-12-02 18:43:42,641 INFO    : TestEnv      : Using RT-App calibration values:\n",
      "2016-12-02 18:43:42,642 INFO    : TestEnv      :    {\"0\": 354, \"1\": 138, \"2\": 138, \"3\": 363, \"4\": 355, \"5\": 357}\n",
      "2016-12-02 18:43:42,644 INFO    : EnergyMeter  : HWMON module not enabled\n",
      "2016-12-02 18:43:42,645 WARNING : EnergyMeter  : Energy sampling disabled by configuration\n",
      "2016-12-02 18:43:42,646 INFO    : TestEnv      : Set results folder to:\n",
      "2016-12-02 18:43:42,647 INFO    : TestEnv      :    /home/brejac01/sources/lisa/results/20161202_184342\n",
      "2016-12-02 18:43:42,648 INFO    : TestEnv      : Experiment results available also in:\n",
      "2016-12-02 18:43:42,649 INFO    : TestEnv      :    /home/brejac01/sources/lisa/results_latest\n",
      "2016-12-02 18:43:42,650 INFO    : Executor     : Loading custom (inline) test configuration\n",
      "2016-12-02 18:43:42,652 INFO    : Executor     : \n",
      "2016-12-02 18:43:42,653 INFO    : Executor     : ################################################################################\n",
      "2016-12-02 18:43:42,654 INFO    : Executor     : Experiments configuration\n",
      "2016-12-02 18:43:42,655 INFO    : Executor     : ################################################################################\n",
      "2016-12-02 18:43:42,656 INFO    : Executor     : Configured to run:\n",
      "2016-12-02 18:43:42,657 INFO    : Executor     :      5 target configurations:\n",
      "2016-12-02 18:43:42,658 INFO    : Executor     :       freq_450000, freq_625000, freq_800000, freq_950000, freq_1100000\n",
      "2016-12-02 18:43:42,659 INFO    : Executor     :      1 workloads (1 iterations each)\n",
      "2016-12-02 18:43:42,660 INFO    : Executor     :       fie_10pct\n",
      "2016-12-02 18:43:42,661 INFO    : Executor     : Total: 5 experiments\n",
      "2016-12-02 18:43:42,662 INFO    : Executor     : Results will be collected under:\n",
      "2016-12-02 18:43:42,663 INFO    : Executor     :       /home/brejac01/sources/lisa/results/20161202_184342\n",
      "2016-12-02 18:43:42,664 INFO    : LisaTest     : Experiments execution...\n",
      "2016-12-02 18:43:42,665 INFO    : Executor     : \n",
      "2016-12-02 18:43:42,666 INFO    : Executor     : ################################################################################\n",
      "2016-12-02 18:43:42,667 INFO    : Executor     : Experiments execution\n",
      "2016-12-02 18:43:42,667 INFO    : Executor     : ################################################################################\n",
      "2016-12-02 18:43:42,668 INFO    : Executor     : \n",
      "2016-12-02 18:43:42,669 INFO    : Executor     : ================================================================================\n",
      "2016-12-02 18:43:42,670 INFO    : Executor     : configuring target for [freq_450000] experiments\n",
      "2016-12-02 18:43:44,398 INFO    : Executor     : Configuring all CPUs to use [userspace] cpufreq governor\n",
      "2016-12-02 18:43:45,304 INFO    : root         :        CPUFreq - CPU frequencies: {1: 450000}\n",
      "2016-12-02 18:43:47,326 INFO    : Workload     : Setup new workload fie_10pct\n",
      "2016-12-02 18:43:47,328 INFO    : Workload     : Workload duration defined by longest task\n",
      "2016-12-02 18:43:47,329 INFO    : Workload     : Default policy: SCHED_OTHER\n",
      "2016-12-02 18:43:47,330 INFO    : Workload     : ------------------------\n",
      "2016-12-02 18:43:47,331 INFO    : Workload     : task [fie_test0], sched: using default policy\n",
      "2016-12-02 18:43:47,332 INFO    : Workload     :  | calibration CPU: 1\n",
      "2016-12-02 18:43:47,333 INFO    : Workload     :  | loops count: 1\n",
      "2016-12-02 18:43:47,334 INFO    : Workload     : + phase_000001: duration 5.000000 [s] (500 loops)\n",
      "2016-12-02 18:43:47,335 INFO    : Workload     : |  period    10000 [us], duty_cycle  10 %\n",
      "2016-12-02 18:43:47,336 INFO    : Workload     : |  run_time   1000 [us], sleep_time   9000 [us]\n",
      "2016-12-02 18:43:48,509 INFO    : Executor     : ~~~~~~~~~~~~~~~~~~~~~~~~~~~~~~~~~~~~~~~~~~~~~~~~~~~~~~~~~~~~~~~~~~~~~~~~~~~~~~~~\n",
      "2016-12-02 18:43:48,511 INFO    : Executor     : Experiment 0/5, [freq_450000:fie_10pct] 1/1\n",
      "2016-12-02 18:43:48,518 WARNING : Executor     : FTrace events collection enabled\n",
      "2016-12-02 18:43:55,610 INFO    : Workload     : Workload execution START:\n",
      "2016-12-02 18:43:55,612 INFO    : Workload     :    /home/brendan/devlib-target/bin/taskset 0x2 /home/brendan/devlib-target/bin/rt-app /home/brendan/devlib-target/run_dir/fie_10pct_00.json 2>&1\n"
     ]
    },
    {
     "name": "stdout",
     "output_type": "stream",
     "text": [
      "\n"
     ]
    },
    {
     "name": "stderr",
     "output_type": "stream",
     "text": [
      "2016-12-02 18:44:12,211 INFO    : Executor     : Collected FTrace binary trace:\n",
      "2016-12-02 18:44:12,213 INFO    : Executor     :    <res_dir>/rtapp:freq_450000:fie_10pct/1/trace.dat\n",
      "2016-12-02 18:44:12,214 INFO    : Executor     : Collected FTrace function profiling:\n",
      "2016-12-02 18:44:12,215 INFO    : Executor     :    <res_dir>/rtapp:freq_450000:fie_10pct/1/trace_stat.json\n",
      "2016-12-02 18:44:12,216 INFO    : Executor     : --------------------------------------------------------------------------------\n",
      "2016-12-02 18:44:12,217 INFO    : Executor     : \n",
      "2016-12-02 18:44:12,218 INFO    : Executor     : ================================================================================\n",
      "2016-12-02 18:44:12,220 INFO    : Executor     : configuring target for [freq_625000] experiments\n",
      "2016-12-02 18:44:13,947 INFO    : Executor     : Configuring all CPUs to use [userspace] cpufreq governor\n",
      "2016-12-02 18:44:14,854 INFO    : root         :        CPUFreq - CPU frequencies: {1: 625000}\n",
      "2016-12-02 18:44:16,875 INFO    : Workload     : Setup new workload fie_10pct\n",
      "2016-12-02 18:44:16,877 INFO    : Workload     : Workload duration defined by longest task\n",
      "2016-12-02 18:44:16,878 INFO    : Workload     : Default policy: SCHED_OTHER\n",
      "2016-12-02 18:44:16,879 INFO    : Workload     : ------------------------\n",
      "2016-12-02 18:44:16,880 INFO    : Workload     : task [fie_test0], sched: using default policy\n",
      "2016-12-02 18:44:16,881 INFO    : Workload     :  | calibration CPU: 1\n",
      "2016-12-02 18:44:16,882 INFO    : Workload     :  | loops count: 1\n",
      "2016-12-02 18:44:16,883 INFO    : Workload     : + phase_000001: duration 5.000000 [s] (500 loops)\n",
      "2016-12-02 18:44:16,885 INFO    : Workload     : |  period    10000 [us], duty_cycle  10 %\n",
      "2016-12-02 18:44:16,886 INFO    : Workload     : |  run_time   1000 [us], sleep_time   9000 [us]\n",
      "2016-12-02 18:44:17,544 INFO    : Executor     : ~~~~~~~~~~~~~~~~~~~~~~~~~~~~~~~~~~~~~~~~~~~~~~~~~~~~~~~~~~~~~~~~~~~~~~~~~~~~~~~~\n",
      "2016-12-02 18:44:17,545 INFO    : Executor     : Experiment 1/5, [freq_625000:fie_10pct] 1/1\n",
      "2016-12-02 18:44:17,553 WARNING : Executor     : FTrace events collection enabled\n",
      "2016-12-02 18:44:24,554 INFO    : Workload     : Workload execution START:\n",
      "2016-12-02 18:44:24,556 INFO    : Workload     :    /home/brendan/devlib-target/bin/taskset 0x2 /home/brendan/devlib-target/bin/rt-app /home/brendan/devlib-target/run_dir/fie_10pct_00.json 2>&1\n"
     ]
    },
    {
     "name": "stdout",
     "output_type": "stream",
     "text": [
      "\n"
     ]
    },
    {
     "name": "stderr",
     "output_type": "stream",
     "text": [
      "2016-12-02 18:44:39,592 INFO    : Executor     : Collected FTrace binary trace:\n",
      "2016-12-02 18:44:39,594 INFO    : Executor     :    <res_dir>/rtapp:freq_625000:fie_10pct/1/trace.dat\n",
      "2016-12-02 18:44:39,595 INFO    : Executor     : Collected FTrace function profiling:\n",
      "2016-12-02 18:44:39,596 INFO    : Executor     :    <res_dir>/rtapp:freq_625000:fie_10pct/1/trace_stat.json\n",
      "2016-12-02 18:44:39,598 INFO    : Executor     : --------------------------------------------------------------------------------\n",
      "2016-12-02 18:44:39,599 INFO    : Executor     : \n",
      "2016-12-02 18:44:39,600 INFO    : Executor     : ================================================================================\n",
      "2016-12-02 18:44:39,601 INFO    : Executor     : configuring target for [freq_800000] experiments\n",
      "2016-12-02 18:44:41,322 INFO    : Executor     : Configuring all CPUs to use [userspace] cpufreq governor\n",
      "2016-12-02 18:44:42,229 INFO    : root         :        CPUFreq - CPU frequencies: {1: 800000}\n",
      "2016-12-02 18:44:44,248 INFO    : Workload     : Setup new workload fie_10pct\n",
      "2016-12-02 18:44:44,249 INFO    : Workload     : Workload duration defined by longest task\n",
      "2016-12-02 18:44:44,250 INFO    : Workload     : Default policy: SCHED_OTHER\n",
      "2016-12-02 18:44:44,251 INFO    : Workload     : ------------------------\n",
      "2016-12-02 18:44:44,252 INFO    : Workload     : task [fie_test0], sched: using default policy\n",
      "2016-12-02 18:44:44,253 INFO    : Workload     :  | calibration CPU: 1\n",
      "2016-12-02 18:44:44,254 INFO    : Workload     :  | loops count: 1\n",
      "2016-12-02 18:44:44,255 INFO    : Workload     : + phase_000001: duration 5.000000 [s] (500 loops)\n",
      "2016-12-02 18:44:44,256 INFO    : Workload     : |  period    10000 [us], duty_cycle  10 %\n",
      "2016-12-02 18:44:44,257 INFO    : Workload     : |  run_time   1000 [us], sleep_time   9000 [us]\n",
      "2016-12-02 18:44:44,874 INFO    : Executor     : ~~~~~~~~~~~~~~~~~~~~~~~~~~~~~~~~~~~~~~~~~~~~~~~~~~~~~~~~~~~~~~~~~~~~~~~~~~~~~~~~\n",
      "2016-12-02 18:44:44,876 INFO    : Executor     : Experiment 2/5, [freq_800000:fie_10pct] 1/1\n",
      "2016-12-02 18:44:44,884 WARNING : Executor     : FTrace events collection enabled\n",
      "2016-12-02 18:44:51,964 INFO    : Workload     : Workload execution START:\n",
      "2016-12-02 18:44:51,965 INFO    : Workload     :    /home/brendan/devlib-target/bin/taskset 0x2 /home/brendan/devlib-target/bin/rt-app /home/brendan/devlib-target/run_dir/fie_10pct_00.json 2>&1\n"
     ]
    },
    {
     "name": "stdout",
     "output_type": "stream",
     "text": [
      "\n"
     ]
    },
    {
     "name": "stderr",
     "output_type": "stream",
     "text": [
      "2016-12-02 18:45:14,041 INFO    : Executor     : Collected FTrace binary trace:\n",
      "2016-12-02 18:45:14,043 INFO    : Executor     :    <res_dir>/rtapp:freq_800000:fie_10pct/1/trace.dat\n",
      "2016-12-02 18:45:14,045 INFO    : Executor     : Collected FTrace function profiling:\n",
      "2016-12-02 18:45:14,046 INFO    : Executor     :    <res_dir>/rtapp:freq_800000:fie_10pct/1/trace_stat.json\n",
      "2016-12-02 18:45:14,047 INFO    : Executor     : --------------------------------------------------------------------------------\n",
      "2016-12-02 18:45:14,048 INFO    : Executor     : \n",
      "2016-12-02 18:45:14,049 INFO    : Executor     : ================================================================================\n",
      "2016-12-02 18:45:14,050 INFO    : Executor     : configuring target for [freq_950000] experiments\n",
      "2016-12-02 18:45:15,769 INFO    : Executor     : Configuring all CPUs to use [userspace] cpufreq governor\n",
      "2016-12-02 18:45:16,675 INFO    : root         :        CPUFreq - CPU frequencies: {1: 950000}\n",
      "2016-12-02 18:45:18,692 INFO    : Workload     : Setup new workload fie_10pct\n",
      "2016-12-02 18:45:18,694 INFO    : Workload     : Workload duration defined by longest task\n",
      "2016-12-02 18:45:18,695 INFO    : Workload     : Default policy: SCHED_OTHER\n",
      "2016-12-02 18:45:18,696 INFO    : Workload     : ------------------------\n",
      "2016-12-02 18:45:18,697 INFO    : Workload     : task [fie_test0], sched: using default policy\n",
      "2016-12-02 18:45:18,699 INFO    : Workload     :  | calibration CPU: 1\n",
      "2016-12-02 18:45:18,700 INFO    : Workload     :  | loops count: 1\n",
      "2016-12-02 18:45:18,701 INFO    : Workload     : + phase_000001: duration 5.000000 [s] (500 loops)\n",
      "2016-12-02 18:45:18,702 INFO    : Workload     : |  period    10000 [us], duty_cycle  10 %\n",
      "2016-12-02 18:45:18,703 INFO    : Workload     : |  run_time   1000 [us], sleep_time   9000 [us]\n",
      "2016-12-02 18:45:19,312 INFO    : Executor     : ~~~~~~~~~~~~~~~~~~~~~~~~~~~~~~~~~~~~~~~~~~~~~~~~~~~~~~~~~~~~~~~~~~~~~~~~~~~~~~~~\n",
      "2016-12-02 18:45:19,314 INFO    : Executor     : Experiment 3/5, [freq_950000:fie_10pct] 1/1\n",
      "2016-12-02 18:45:19,322 WARNING : Executor     : FTrace events collection enabled\n",
      "2016-12-02 18:45:26,209 INFO    : Workload     : Workload execution START:\n",
      "2016-12-02 18:45:26,210 INFO    : Workload     :    /home/brendan/devlib-target/bin/taskset 0x2 /home/brendan/devlib-target/bin/rt-app /home/brendan/devlib-target/run_dir/fie_10pct_00.json 2>&1\n"
     ]
    },
    {
     "name": "stdout",
     "output_type": "stream",
     "text": [
      "\n"
     ]
    },
    {
     "name": "stderr",
     "output_type": "stream",
     "text": [
      "2016-12-02 18:45:47,095 INFO    : Executor     : Collected FTrace binary trace:\n",
      "2016-12-02 18:45:47,097 INFO    : Executor     :    <res_dir>/rtapp:freq_950000:fie_10pct/1/trace.dat\n",
      "2016-12-02 18:45:47,098 INFO    : Executor     : Collected FTrace function profiling:\n",
      "2016-12-02 18:45:47,099 INFO    : Executor     :    <res_dir>/rtapp:freq_950000:fie_10pct/1/trace_stat.json\n",
      "2016-12-02 18:45:47,100 INFO    : Executor     : --------------------------------------------------------------------------------\n",
      "2016-12-02 18:45:47,101 INFO    : Executor     : \n",
      "2016-12-02 18:45:47,102 INFO    : Executor     : ================================================================================\n",
      "2016-12-02 18:45:47,103 INFO    : Executor     : configuring target for [freq_1100000] experiments\n",
      "2016-12-02 18:45:48,821 INFO    : Executor     : Configuring all CPUs to use [userspace] cpufreq governor\n",
      "2016-12-02 18:45:49,727 INFO    : root         :        CPUFreq - CPU frequencies: {1: 1100000}\n",
      "2016-12-02 18:45:51,743 INFO    : Workload     : Setup new workload fie_10pct\n",
      "2016-12-02 18:45:51,745 INFO    : Workload     : Workload duration defined by longest task\n",
      "2016-12-02 18:45:51,746 INFO    : Workload     : Default policy: SCHED_OTHER\n",
      "2016-12-02 18:45:51,747 INFO    : Workload     : ------------------------\n",
      "2016-12-02 18:45:51,748 INFO    : Workload     : task [fie_test0], sched: using default policy\n",
      "2016-12-02 18:45:51,749 INFO    : Workload     :  | calibration CPU: 1\n",
      "2016-12-02 18:45:51,750 INFO    : Workload     :  | loops count: 1\n",
      "2016-12-02 18:45:51,751 INFO    : Workload     : + phase_000001: duration 5.000000 [s] (500 loops)\n",
      "2016-12-02 18:45:51,752 INFO    : Workload     : |  period    10000 [us], duty_cycle  10 %\n",
      "2016-12-02 18:45:51,753 INFO    : Workload     : |  run_time   1000 [us], sleep_time   9000 [us]\n",
      "2016-12-02 18:45:52,352 INFO    : Executor     : ~~~~~~~~~~~~~~~~~~~~~~~~~~~~~~~~~~~~~~~~~~~~~~~~~~~~~~~~~~~~~~~~~~~~~~~~~~~~~~~~\n",
      "2016-12-02 18:45:52,354 INFO    : Executor     : Experiment 4/5, [freq_1100000:fie_10pct] 1/1\n",
      "2016-12-02 18:45:52,361 WARNING : Executor     : FTrace events collection enabled\n",
      "2016-12-02 18:45:59,237 INFO    : Workload     : Workload execution START:\n",
      "2016-12-02 18:45:59,239 INFO    : Workload     :    /home/brendan/devlib-target/bin/taskset 0x2 /home/brendan/devlib-target/bin/rt-app /home/brendan/devlib-target/run_dir/fie_10pct_00.json 2>&1\n"
     ]
    },
    {
     "name": "stdout",
     "output_type": "stream",
     "text": [
      "\n"
     ]
    },
    {
     "name": "stderr",
     "output_type": "stream",
     "text": [
      "2016-12-02 18:46:13,534 INFO    : Executor     : Collected FTrace binary trace:\n",
      "2016-12-02 18:46:13,536 INFO    : Executor     :    <res_dir>/rtapp:freq_1100000:fie_10pct/1/trace.dat\n",
      "2016-12-02 18:46:13,537 INFO    : Executor     : Collected FTrace function profiling:\n",
      "2016-12-02 18:46:13,538 INFO    : Executor     :    <res_dir>/rtapp:freq_1100000:fie_10pct/1/trace_stat.json\n",
      "2016-12-02 18:46:13,540 INFO    : Executor     : --------------------------------------------------------------------------------\n",
      "2016-12-02 18:46:13,541 INFO    : Executor     : \n",
      "2016-12-02 18:46:13,543 INFO    : Executor     : ################################################################################\n",
      "2016-12-02 18:46:13,544 INFO    : Executor     : Experiments execution completed\n",
      "2016-12-02 18:46:13,546 INFO    : Executor     : ################################################################################\n",
      "2016-12-02 18:46:13,547 INFO    : Executor     : Results available in:\n",
      "2016-12-02 18:46:13,549 INFO    : Executor     :       /home/brejac01/sources/lisa/results/20161202_184342\n"
     ]
    }
   ],
   "source": [
    "t.setUpClass()"
   ]
  },
  {
   "cell_type": "markdown",
   "metadata": {},
   "source": [
    "## Show variance in util_avg and load_avg\n",
    "We want to see the same util_avg and load_avg values regardless of frequencies - the bar charts below should have all the same"
   ]
  },
  {
   "cell_type": "code",
   "execution_count": 6,
   "metadata": {
    "collapsed": false,
    "scrolled": true
   },
   "outputs": [
    {
     "data": {
      "text/plain": [
       "[450000, 625000, 800000, 950000, 1100000]"
      ]
     },
     "execution_count": 6,
     "metadata": {},
     "output_type": "execute_result"
    }
   ],
   "source": [
    "# Get the frequency an experiment was run at\n",
    "def experiment_freq(exp):\n",
    "    [cpu] = exp.wload.cpus\n",
    "    freq = exp.conf['cpufreq']['freqs'][cpu]\n",
    "    return freq\n",
    "freqs = [experiment_freq(e) for e in t.executor.experiments]\n",
    "freqs"
   ]
  },
  {
   "cell_type": "code",
   "execution_count": 7,
   "metadata": {
    "collapsed": true
   },
   "outputs": [],
   "source": [
    "def plot_signal_against_freq(signal):\n",
    "    means = [t.get_signal_mean(e, signal) for e in t.executor.experiments]\n",
    "    limits = (min(means) * 0.99, max(means) * 1.01)\n",
    "    pd.DataFrame(means, index=freqs, columns=['Mean ' + signal]).plot(kind='bar', ylim=limits)"
   ]
  },
  {
   "cell_type": "markdown",
   "metadata": {},
   "source": [
    "### Plot of variation of util_avg value with frequency:"
   ]
  },
  {
   "cell_type": "code",
   "execution_count": 8,
   "metadata": {
    "collapsed": false,
    "scrolled": true
   },
   "outputs": [
    {
     "data": {
      "image/png": "[encoded data removed]",
      "text/plain": [
       "<matplotlib.figure.Figure at 0x7f685ca6db10>"
      ]
     },
     "metadata": {},
     "output_type": "display_data"
    }
   ],
   "source": [
    "plot_signal_against_freq('util_avg')"
   ]
  },
  {
   "cell_type": "markdown",
   "metadata": {},
   "source": [
    "### And the same thing for load_avg:"
   ]
  },
  {
   "cell_type": "code",
   "execution_count": 9,
   "metadata": {
    "collapsed": false
   },
   "outputs": [
    {
     "data": {
      "image/png": "[encoded data removed]",
      "text/plain": [
       "<matplotlib.figure.Figure at 0x7f6858918850>"
      ]
     },
     "metadata": {},
     "output_type": "display_data"
    }
   ],
   "source": [
    "plot_signal_against_freq('load_avg')"
   ]
  },
  {
   "cell_type": "markdown",
   "metadata": {},
   "source": [
    "## Examine trace from workload execution"
   ]
  },
  {
   "cell_type": "markdown",
   "metadata": {},
   "source": [
    "Plot the `sched_util` and `sched_load` "
   ]
  },
  {
   "cell_type": "code",
   "execution_count": 11,
   "metadata": {
    "collapsed": false
   },
   "outputs": [],
   "source": [
    "signals = ['util_avg', 'load_avg']\n",
    "def examine_experiment(idx):\n",
    "    experiment = t.executor.experiments[idx]\n",
    "    \n",
    "    print \"Experiment configuration:\" \n",
    "    print json.dumps(experiment.conf, indent=4)\n",
    "    events = t.te.test_conf[\"ftrace\"][\"events\"]\n",
    "    \n",
    "    # todo add get_trace method\n",
    "    tasks = experiment.wload.tasks.keys()\n",
    "    #trace = Trace(t.te.platform, experiment.out_dir, events, tasks)\n",
    "    #print \"Trace plot:\"\n",
    "    #plot_trace(trace.ftrace)\n",
    "    \n",
    "    # Get observed signal\n",
    "    signal_df = t.get_sched_signals(experiment, signals)\n",
    "#    return signal_df\n",
    "    # Get expected average value for util_avg signal\n",
    "    expected_util_avg_mean = t.get_expected_util_avg(experiment)\n",
    "    \n",
    "    # Plot util avg signal with expected mean value\n",
    "    util_avg_mean = pd.Series([expected_util_avg_mean], name=\"expected_util_avg\", index=[signal_df.index[0]])\n",
    "    df = pd.concat([signal_df, util_avg_mean], axis=1).fillna(method=\"ffill\")\n",
    "    ILinePlot(df, column=signals + [\"expected_util_avg\"], drawstyle=\"steps-post\").view()"
   ]
  },
  {
   "cell_type": "code",
   "execution_count": 12,
   "metadata": {
    "collapsed": false
   },
   "outputs": [
    {
     "name": "stdout",
     "output_type": "stream",
     "text": [
      "Experiment configuration:\n",
      "{\n",
      "    \"dtb\": null, \n",
      "    \"kernel\": null, \n",
      "    \"tag\": \"freq_450000\", \n",
      "    \"flags\": \"ftrace\", \n",
      "    \"cpufreq\": {\n",
      "        \"freqs\": {\n",
      "            \"1\": 450000\n",
      "        }, \n",
      "        \"governor\": \"userspace\"\n",
      "    }\n",
      "}\n"
     ]
    },
    {
     "data": {
      "text/html": [
       "<table style=\"border-style: hidden;\">\n",
       "<tr>\n",
       "<td style=\"border-style: hidden;\"><div class=\"ilineplot\" id=\"fig_480908b7e45d4353a391dcd3a973d4f6\">\n",
       "            <script>\n",
       "            var ilp_req = require.config( {\n",
       "\n",
       "                paths: {\n",
       "                    \"dygraph-sync\": '/nbextensions/plotter_scripts/ILinePlot/synchronizer',\n",
       "                    \"dygraph\": '/nbextensions/plotter_scripts/ILinePlot/dygraph-combined',\n",
       "                    \"ILinePlot\": '/nbextensions/plotter_scripts/ILinePlot/ILinePlot',\n",
       "                    \"underscore\": '/nbextensions/plotter_scripts/ILinePlot/underscore-min',\n",
       "                },\n",
       "\n",
       "                shim: {\n",
       "                    \"dygraph-sync\": [\"dygraph\"],\n",
       "                    \"ILinePlot\": {\n",
       "\n",
       "                        \"deps\": [\"dygraph-sync\", \"dygraph\", \"underscore\"],\n",
       "                        \"exports\":  \"ILinePlot\"\n",
       "                    }\n",
       "                }\n",
       "            });\n",
       "                ilp_req([\"require\", \"ILinePlot\"], function() {\n",
       "                ILinePlot.generate('fig_480908b7e45d4353a391dcd3a973d4f6', '/nbextensions/');\n",
       "            });\n",
       "            </script>\n",
       "        </div></td>\n",
       "</tr>\n",
       "<tr>\n",
       "<td style=\"border-style: hidden;\"><div style=\"text-align:center\" id=\"fig_480908b7e45d4353a391dcd3a973d4f6_legend\"></div></td>\n",
       "</tr>\n",
       "</table>"
      ],
      "text/plain": [
       "<IPython.core.display.HTML object>"
      ]
     },
     "metadata": {},
     "output_type": "display_data"
    }
   ],
   "source": [
    "examine_experiment(0)"
   ]
  }
 ],
 "metadata": {
  "kernelspec": {
   "display_name": "Python 2",
   "language": "python",
   "name": "python2"
  },
  "language_info": {
   "codemirror_mode": {
    "name": "ipython",
    "version": 2
   },
   "file_extension": ".py",
   "mimetype": "text/x-python",
   "name": "python",
   "nbconvert_exporter": "python",
   "pygments_lexer": "ipython2",
   "version": "2.7.6"
  }
 },
 "nbformat": 4,
 "nbformat_minor": 0
}
