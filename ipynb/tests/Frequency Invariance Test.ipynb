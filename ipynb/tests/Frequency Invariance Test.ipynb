{
 "cells": [
  {
   "cell_type": "markdown",
   "metadata": {},
   "source": [
    "## Setup"
   ]
  },
  {
   "cell_type": "code",
   "execution_count": 37,
   "metadata": {
    "collapsed": true
   },
   "outputs": [],
   "source": [
    "%matplotlib inline"
   ]
  },
  {
   "cell_type": "code",
   "execution_count": 1,
   "metadata": {
    "collapsed": false
   },
   "outputs": [],
   "source": [
    "import pandas as pd\n",
    "import json\n",
    "\n",
    "from tests.eas.load_tracking import FreqInvarianceTest\n",
    "from trace import Trace\n",
    "from trappy.plotter import plot_trace\n",
    "from trappy.stats.grammar import Parser\n",
    "from trappy import ILinePlot"
   ]
  },
  {
   "cell_type": "code",
   "execution_count": 13,
   "metadata": {
    "collapsed": false
   },
   "outputs": [
    {
     "name": "stderr",
     "output_type": "stream",
     "text": [
      "2016-11-29 16:24:16,123 INFO    : root         : Using LISA logging configuration:\n",
      "2016-11-29 16:24:16,124 INFO    : root         :   /home/brejac01/sources/lisa/logging.conf\n"
     ]
    }
   ],
   "source": [
    "import logging\n",
    "from conf import LisaLogging\n",
    "LisaLogging.setup()\n",
    "logging.getLogger('Analysis').setLevel(logging.ERROR)"
   ]
  },
  {
   "cell_type": "markdown",
   "metadata": {},
   "source": [
    "## Run test workload"
   ]
  },
  {
   "cell_type": "code",
   "execution_count": 3,
   "metadata": {
    "collapsed": false
   },
   "outputs": [],
   "source": [
    "t = FreqInvarianceTest(methodName='test_task_util')"
   ]
  },
  {
   "cell_type": "code",
   "execution_count": 4,
   "metadata": {
    "collapsed": false,
    "scrolled": false
   },
   "outputs": [
    {
     "name": "stderr",
     "output_type": "stream",
     "text": [
      "2016-11-29 16:18:05,421 INFO    : LisaTest     : Setup tests execution engine...\n",
      "2016-11-29 16:18:05,422 INFO    : TestEnv      : Using base path: /home/brejac01/sources/lisa\n",
      "2016-11-29 16:18:05,423 INFO    : TestEnv      : Loading default (file) target configuration\n",
      "2016-11-29 16:18:05,424 INFO    : TestEnv      : Loading target configuration [/home/brejac01/sources/lisa/target.config]...\n",
      "2016-11-29 16:18:05,427 INFO    : TestEnv      : Loading custom (inline) test configuration\n",
      "2016-11-29 16:18:05,428 INFO    : TestEnv      : Devlib modules to load: ['bl', u'cpuidle', 'cpufreq']\n",
      "2016-11-29 16:18:05,428 INFO    : TestEnv      : Connecting linux target:\n",
      "2016-11-29 16:18:05,429 INFO    : TestEnv      :   username : brendan\n",
      "2016-11-29 16:18:05,430 INFO    : TestEnv      :       host : 192.168.2.2\n",
      "2016-11-29 16:18:05,430 INFO    : TestEnv      :   password : password\n",
      "2016-11-29 16:18:05,431 INFO    : TestEnv      : Connection settings:\n",
      "2016-11-29 16:18:05,432 INFO    : TestEnv      :    {'username': u'brendan', 'host': u'192.168.2.2', 'password': u'password'}\n",
      "2016-11-29 16:18:13,021 INFO    : TestEnv      : Initializing target workdir:\n",
      "2016-11-29 16:18:13,023 INFO    : TestEnv      :    /home/brendan/devlib-target\n",
      "2016-11-29 16:18:18,327 INFO    : TestEnv      : Topology:\n",
      "2016-11-29 16:18:18,330 INFO    : TestEnv      :    [[0, 3, 4, 5], [1, 2]]\n",
      "2016-11-29 16:18:20,953 INFO    : TestEnv      : Loading default EM:\n",
      "2016-11-29 16:18:20,955 INFO    : TestEnv      :    /home/brejac01/sources/lisa/libs/utils/platforms/juno.json\n",
      "2016-11-29 16:18:25,674 WARNING : LinuxTarget  : Event [sched_pelt_se] not available for tracing\n",
      "2016-11-29 16:18:25,676 INFO    : TestEnv      : Enabled tracepoints:\n",
      "2016-11-29 16:18:25,678 INFO    : TestEnv      :    sched_switch\n",
      "2016-11-29 16:18:25,679 INFO    : TestEnv      :    sched_load_avg_task\n",
      "2016-11-29 16:18:25,681 INFO    : TestEnv      :    sched_load_avg_cpu\n",
      "2016-11-29 16:18:25,682 INFO    : TestEnv      :    sched_pelt_se\n",
      "2016-11-29 16:18:25,683 INFO    : TestEnv      : Calibrating RTApp...\n",
      "2016-11-29 16:18:27,493 INFO    : RTApp        : CPU0 calibration...\n",
      "2016-11-29 16:18:27,899 INFO    : Workload     : Setup new workload rta_calib\n",
      "2016-11-29 16:18:27,901 INFO    : Workload     : Workload duration defined by longest task\n",
      "2016-11-29 16:18:27,902 INFO    : Workload     : Default policy: SCHED_OTHER\n",
      "2016-11-29 16:18:27,904 INFO    : Workload     : ------------------------\n",
      "2016-11-29 16:18:27,905 INFO    : Workload     : task [task1], sched: {'policy': 'FIFO', 'prio': 0}\n",
      "2016-11-29 16:18:27,906 INFO    : Workload     :  | calibration CPU: 0\n",
      "2016-11-29 16:18:27,907 INFO    : Workload     :  | loops count: 1\n",
      "2016-11-29 16:18:27,909 INFO    : Workload     : + phase_000001: duration 1.000000 [s] (10 loops)\n",
      "2016-11-29 16:18:27,910 INFO    : Workload     : |  period   100000 [us], duty_cycle  50 %\n",
      "2016-11-29 16:18:27,911 INFO    : Workload     : |  run_time  50000 [us], sleep_time  50000 [us]\n",
      "2016-11-29 16:18:28,060 INFO    : Workload     : Workload execution START:\n",
      "2016-11-29 16:18:28,062 INFO    : Workload     :    /home/brendan/devlib-target/bin/taskset 0x1 /home/brendan/devlib-target/bin/rt-app /home/brendan/devlib-target/rta_calib_00.json 2>&1\n",
      "2016-11-29 16:18:29,980 INFO    : RTApp        : CPU1 calibration...\n",
      "2016-11-29 16:18:30,387 INFO    : Workload     : Setup new workload rta_calib\n",
      "2016-11-29 16:18:30,389 INFO    : Workload     : Workload duration defined by longest task\n",
      "2016-11-29 16:18:30,390 INFO    : Workload     : Default policy: SCHED_OTHER\n",
      "2016-11-29 16:18:30,392 INFO    : Workload     : ------------------------\n",
      "2016-11-29 16:18:30,393 INFO    : Workload     : task [task1], sched: {'policy': 'FIFO', 'prio': 0}\n",
      "2016-11-29 16:18:30,394 INFO    : Workload     :  | calibration CPU: 1\n",
      "2016-11-29 16:18:30,396 INFO    : Workload     :  | loops count: 1\n",
      "2016-11-29 16:18:30,397 INFO    : Workload     : + phase_000001: duration 1.000000 [s] (10 loops)\n",
      "2016-11-29 16:18:30,398 INFO    : Workload     : |  period   100000 [us], duty_cycle  50 %\n",
      "2016-11-29 16:18:30,400 INFO    : Workload     : |  run_time  50000 [us], sleep_time  50000 [us]\n",
      "2016-11-29 16:18:30,540 INFO    : Workload     : Workload execution START:\n",
      "2016-11-29 16:18:30,542 INFO    : Workload     :    /home/brendan/devlib-target/bin/taskset 0x2 /home/brendan/devlib-target/bin/rt-app /home/brendan/devlib-target/rta_calib_00.json 2>&1\n",
      "2016-11-29 16:18:32,379 INFO    : RTApp        : CPU2 calibration...\n",
      "2016-11-29 16:18:32,786 INFO    : Workload     : Setup new workload rta_calib\n",
      "2016-11-29 16:18:32,788 INFO    : Workload     : Workload duration defined by longest task\n",
      "2016-11-29 16:18:32,789 INFO    : Workload     : Default policy: SCHED_OTHER\n",
      "2016-11-29 16:18:32,790 INFO    : Workload     : ------------------------\n",
      "2016-11-29 16:18:32,791 INFO    : Workload     : task [task1], sched: {'policy': 'FIFO', 'prio': 0}\n",
      "2016-11-29 16:18:32,793 INFO    : Workload     :  | calibration CPU: 2\n",
      "2016-11-29 16:18:32,794 INFO    : Workload     :  | loops count: 1\n",
      "2016-11-29 16:18:32,795 INFO    : Workload     : + phase_000001: duration 1.000000 [s] (10 loops)\n",
      "2016-11-29 16:18:32,796 INFO    : Workload     : |  period   100000 [us], duty_cycle  50 %\n",
      "2016-11-29 16:18:32,798 INFO    : Workload     : |  run_time  50000 [us], sleep_time  50000 [us]\n",
      "2016-11-29 16:18:32,949 INFO    : Workload     : Workload execution START:\n",
      "2016-11-29 16:18:32,951 INFO    : Workload     :    /home/brendan/devlib-target/bin/taskset 0x4 /home/brendan/devlib-target/bin/rt-app /home/brendan/devlib-target/rta_calib_00.json 2>&1\n",
      "2016-11-29 16:18:34,768 INFO    : RTApp        : CPU3 calibration...\n",
      "2016-11-29 16:18:35,175 INFO    : Workload     : Setup new workload rta_calib\n",
      "2016-11-29 16:18:35,177 INFO    : Workload     : Workload duration defined by longest task\n",
      "2016-11-29 16:18:35,178 INFO    : Workload     : Default policy: SCHED_OTHER\n",
      "2016-11-29 16:18:35,179 INFO    : Workload     : ------------------------\n",
      "2016-11-29 16:18:35,181 INFO    : Workload     : task [task1], sched: {'policy': 'FIFO', 'prio': 0}\n",
      "2016-11-29 16:18:35,182 INFO    : Workload     :  | calibration CPU: 3\n",
      "2016-11-29 16:18:35,183 INFO    : Workload     :  | loops count: 1\n",
      "2016-11-29 16:18:35,184 INFO    : Workload     : + phase_000001: duration 1.000000 [s] (10 loops)\n",
      "2016-11-29 16:18:35,186 INFO    : Workload     : |  period   100000 [us], duty_cycle  50 %\n",
      "2016-11-29 16:18:35,187 INFO    : Workload     : |  run_time  50000 [us], sleep_time  50000 [us]\n",
      "2016-11-29 16:18:35,330 INFO    : Workload     : Workload execution START:\n",
      "2016-11-29 16:18:35,332 INFO    : Workload     :    /home/brendan/devlib-target/bin/taskset 0x8 /home/brendan/devlib-target/bin/rt-app /home/brendan/devlib-target/rta_calib_00.json 2>&1\n",
      "2016-11-29 16:18:37,311 INFO    : RTApp        : CPU4 calibration...\n",
      "2016-11-29 16:18:37,718 INFO    : Workload     : Setup new workload rta_calib\n",
      "2016-11-29 16:18:37,720 INFO    : Workload     : Workload duration defined by longest task\n",
      "2016-11-29 16:18:37,721 INFO    : Workload     : Default policy: SCHED_OTHER\n",
      "2016-11-29 16:18:37,722 INFO    : Workload     : ------------------------\n",
      "2016-11-29 16:18:37,723 INFO    : Workload     : task [task1], sched: {'policy': 'FIFO', 'prio': 0}\n",
      "2016-11-29 16:18:37,724 INFO    : Workload     :  | calibration CPU: 4\n",
      "2016-11-29 16:18:37,725 INFO    : Workload     :  | loops count: 1\n",
      "2016-11-29 16:18:37,726 INFO    : Workload     : + phase_000001: duration 1.000000 [s] (10 loops)\n",
      "2016-11-29 16:18:37,727 INFO    : Workload     : |  period   100000 [us], duty_cycle  50 %\n",
      "2016-11-29 16:18:37,728 INFO    : Workload     : |  run_time  50000 [us], sleep_time  50000 [us]\n",
      "2016-11-29 16:18:37,871 INFO    : Workload     : Workload execution START:\n",
      "2016-11-29 16:18:37,873 INFO    : Workload     :    /home/brendan/devlib-target/bin/taskset 0x10 /home/brendan/devlib-target/bin/rt-app /home/brendan/devlib-target/rta_calib_00.json 2>&1\n",
      "2016-11-29 16:18:39,799 INFO    : RTApp        : CPU5 calibration...\n",
      "2016-11-29 16:18:40,206 INFO    : Workload     : Setup new workload rta_calib\n",
      "2016-11-29 16:18:40,207 INFO    : Workload     : Workload duration defined by longest task\n",
      "2016-11-29 16:18:40,209 INFO    : Workload     : Default policy: SCHED_OTHER\n",
      "2016-11-29 16:18:40,210 INFO    : Workload     : ------------------------\n",
      "2016-11-29 16:18:40,211 INFO    : Workload     : task [task1], sched: {'policy': 'FIFO', 'prio': 0}\n",
      "2016-11-29 16:18:40,212 INFO    : Workload     :  | calibration CPU: 5\n",
      "2016-11-29 16:18:40,213 INFO    : Workload     :  | loops count: 1\n",
      "2016-11-29 16:18:40,214 INFO    : Workload     : + phase_000001: duration 1.000000 [s] (10 loops)\n",
      "2016-11-29 16:18:40,215 INFO    : Workload     : |  period   100000 [us], duty_cycle  50 %\n",
      "2016-11-29 16:18:40,216 INFO    : Workload     : |  run_time  50000 [us], sleep_time  50000 [us]\n",
      "2016-11-29 16:18:40,361 INFO    : Workload     : Workload execution START:\n",
      "2016-11-29 16:18:40,362 INFO    : Workload     :    /home/brendan/devlib-target/bin/taskset 0x20 /home/brendan/devlib-target/bin/rt-app /home/brendan/devlib-target/rta_calib_00.json 2>&1\n",
      "2016-11-29 16:18:42,340 INFO    : RTApp        : Target RT-App calibration:\n",
      "2016-11-29 16:18:42,342 INFO    : RTApp        : {\"0\": 353, \"1\": 138, \"2\": 138, \"3\": 352, \"4\": 352, \"5\": 352}\n",
      "2016-11-29 16:18:44,152 INFO    : RTApp        : big cores are ~156% more capable than LITTLE cores\n",
      "2016-11-29 16:18:44,153 INFO    : TestEnv      : Using RT-App calibration values:\n",
      "2016-11-29 16:18:44,154 INFO    : TestEnv      :    {\"0\": 353, \"1\": 138, \"2\": 138, \"3\": 352, \"4\": 352, \"5\": 352}\n",
      "2016-11-29 16:18:44,156 INFO    : EnergyMeter  : HWMON module not enabled\n",
      "2016-11-29 16:18:44,156 WARNING : EnergyMeter  : Energy sampling disabled by configuration\n",
      "2016-11-29 16:18:44,157 INFO    : TestEnv      : Set results folder to:\n",
      "2016-11-29 16:18:44,158 INFO    : TestEnv      :    /home/brejac01/sources/lisa/results/20161129_161844\n",
      "2016-11-29 16:18:44,159 INFO    : TestEnv      : Experiment results available also in:\n",
      "2016-11-29 16:18:44,160 INFO    : TestEnv      :    /home/brejac01/sources/lisa/results_latest\n",
      "2016-11-29 16:18:44,161 INFO    : Executor     : Loading custom (inline) test configuration\n",
      "2016-11-29 16:18:44,162 INFO    : Executor     : \n",
      "2016-11-29 16:18:44,163 INFO    : Executor     : ################################################################################\n",
      "2016-11-29 16:18:44,164 INFO    : Executor     : Experiments configuration\n",
      "2016-11-29 16:18:44,165 INFO    : Executor     : ################################################################################\n",
      "2016-11-29 16:18:44,166 INFO    : Executor     : Configured to run:\n",
      "2016-11-29 16:18:44,167 INFO    : Executor     :      5 target configurations:\n",
      "2016-11-29 16:18:44,168 INFO    : Executor     :       freq_450000, freq_625000, freq_800000, freq_950000, freq_1100000\n",
      "2016-11-29 16:18:44,169 INFO    : Executor     :      1 workloads (1 iterations each)\n",
      "2016-11-29 16:18:44,170 INFO    : Executor     :       fie_10pct\n",
      "2016-11-29 16:18:44,171 INFO    : Executor     : Total: 5 experiments\n",
      "2016-11-29 16:18:44,172 INFO    : Executor     : Results will be collected under:\n",
      "2016-11-29 16:18:44,173 INFO    : Executor     :       /home/brejac01/sources/lisa/results/20161129_161844\n",
      "2016-11-29 16:18:44,174 INFO    : LisaTest     : Experiments execution...\n",
      "2016-11-29 16:18:44,175 INFO    : Executor     : \n",
      "2016-11-29 16:18:44,176 INFO    : Executor     : ################################################################################\n",
      "2016-11-29 16:18:44,177 INFO    : Executor     : Experiments execution\n",
      "2016-11-29 16:18:44,178 INFO    : Executor     : ################################################################################\n",
      "2016-11-29 16:18:44,179 INFO    : Executor     : \n",
      "2016-11-29 16:18:44,180 INFO    : Executor     : ================================================================================\n",
      "2016-11-29 16:18:44,180 INFO    : Executor     : configuring target for [freq_450000] experiments\n",
      "2016-11-29 16:18:45,897 INFO    : Executor     : Configuring all CPUs to use [userspace] cpufreq governor\n",
      "2016-11-29 16:18:46,803 INFO    : root         :        CPUFreq - CPU frequencies: {1: 450000}\n",
      "2016-11-29 16:18:48,818 INFO    : Workload     : Setup new workload fie_10pct\n",
      "2016-11-29 16:18:48,819 INFO    : Workload     : Workload duration defined by longest task\n",
      "2016-11-29 16:18:48,820 INFO    : Workload     : Default policy: SCHED_OTHER\n",
      "2016-11-29 16:18:48,821 INFO    : Workload     : ------------------------\n",
      "2016-11-29 16:18:48,822 INFO    : Workload     : task [fie_test0], sched: using default policy\n",
      "2016-11-29 16:18:48,823 INFO    : Workload     :  | calibration CPU: 1\n",
      "2016-11-29 16:18:48,824 INFO    : Workload     :  | loops count: 1\n",
      "2016-11-29 16:18:48,825 INFO    : Workload     : + phase_000001: duration 5.000000 [s] (500 loops)\n",
      "2016-11-29 16:18:48,826 INFO    : Workload     : |  period    10000 [us], duty_cycle  10 %\n",
      "2016-11-29 16:18:48,827 INFO    : Workload     : |  run_time   1000 [us], sleep_time   9000 [us]\n",
      "2016-11-29 16:18:49,933 INFO    : Executor     : ~~~~~~~~~~~~~~~~~~~~~~~~~~~~~~~~~~~~~~~~~~~~~~~~~~~~~~~~~~~~~~~~~~~~~~~~~~~~~~~~\n",
      "2016-11-29 16:18:49,935 INFO    : Executor     : Experiment 0/5, [freq_450000:fie_10pct] 1/1\n",
      "2016-11-29 16:18:49,944 WARNING : Executor     : FTrace events collection enabled\n",
      "2016-11-29 16:18:58,462 INFO    : Workload     : Workload execution START:\n",
      "2016-11-29 16:18:58,463 INFO    : Workload     :    /home/brendan/devlib-target/bin/taskset 0x2 /home/brendan/devlib-target/bin/rt-app /home/brendan/devlib-target/run_dir/fie_10pct_00.json 2>&1\n"
     ]
    },
    {
     "name": "stdout",
     "output_type": "stream",
     "text": [
      "\n"
     ]
    },
    {
     "name": "stderr",
     "output_type": "stream",
     "text": [
      "2016-11-29 16:19:11,056 INFO    : Executor     : Collected FTrace binary trace:\n",
      "2016-11-29 16:19:11,058 INFO    : Executor     :    <res_dir>/rtapp:freq_450000:fie_10pct/1/trace.dat\n",
      "2016-11-29 16:19:11,059 INFO    : Executor     : Collected FTrace function profiling:\n",
      "2016-11-29 16:19:11,060 INFO    : Executor     :    <res_dir>/rtapp:freq_450000:fie_10pct/1/trace_stat.json\n",
      "2016-11-29 16:19:11,061 INFO    : Executor     : --------------------------------------------------------------------------------\n",
      "2016-11-29 16:19:11,062 INFO    : Executor     : \n",
      "2016-11-29 16:19:11,063 INFO    : Executor     : ================================================================================\n",
      "2016-11-29 16:19:11,064 INFO    : Executor     : configuring target for [freq_625000] experiments\n",
      "2016-11-29 16:19:12,782 INFO    : Executor     : Configuring all CPUs to use [userspace] cpufreq governor\n",
      "2016-11-29 16:19:13,688 INFO    : root         :        CPUFreq - CPU frequencies: {1: 625000}\n",
      "2016-11-29 16:19:15,705 INFO    : Workload     : Setup new workload fie_10pct\n",
      "2016-11-29 16:19:15,707 INFO    : Workload     : Workload duration defined by longest task\n",
      "2016-11-29 16:19:15,708 INFO    : Workload     : Default policy: SCHED_OTHER\n",
      "2016-11-29 16:19:15,709 INFO    : Workload     : ------------------------\n",
      "2016-11-29 16:19:15,710 INFO    : Workload     : task [fie_test0], sched: using default policy\n",
      "2016-11-29 16:19:15,711 INFO    : Workload     :  | calibration CPU: 1\n",
      "2016-11-29 16:19:15,712 INFO    : Workload     :  | loops count: 1\n",
      "2016-11-29 16:19:15,713 INFO    : Workload     : + phase_000001: duration 5.000000 [s] (500 loops)\n",
      "2016-11-29 16:19:15,715 INFO    : Workload     : |  period    10000 [us], duty_cycle  10 %\n",
      "2016-11-29 16:19:15,716 INFO    : Workload     : |  run_time   1000 [us], sleep_time   9000 [us]\n",
      "2016-11-29 16:19:16,303 INFO    : Executor     : ~~~~~~~~~~~~~~~~~~~~~~~~~~~~~~~~~~~~~~~~~~~~~~~~~~~~~~~~~~~~~~~~~~~~~~~~~~~~~~~~\n",
      "2016-11-29 16:19:16,305 INFO    : Executor     : Experiment 1/5, [freq_625000:fie_10pct] 1/1\n",
      "2016-11-29 16:19:16,312 WARNING : Executor     : FTrace events collection enabled\n",
      "2016-11-29 16:19:25,115 INFO    : Workload     : Workload execution START:\n",
      "2016-11-29 16:19:25,117 INFO    : Workload     :    /home/brendan/devlib-target/bin/taskset 0x2 /home/brendan/devlib-target/bin/rt-app /home/brendan/devlib-target/run_dir/fie_10pct_00.json 2>&1\n"
     ]
    },
    {
     "name": "stdout",
     "output_type": "stream",
     "text": [
      "\n"
     ]
    },
    {
     "name": "stderr",
     "output_type": "stream",
     "text": [
      "2016-11-29 16:19:38,045 INFO    : Executor     : Collected FTrace binary trace:\n",
      "2016-11-29 16:19:38,047 INFO    : Executor     :    <res_dir>/rtapp:freq_625000:fie_10pct/1/trace.dat\n",
      "2016-11-29 16:19:38,048 INFO    : Executor     : Collected FTrace function profiling:\n",
      "2016-11-29 16:19:38,049 INFO    : Executor     :    <res_dir>/rtapp:freq_625000:fie_10pct/1/trace_stat.json\n",
      "2016-11-29 16:19:38,051 INFO    : Executor     : --------------------------------------------------------------------------------\n",
      "2016-11-29 16:19:38,052 INFO    : Executor     : \n",
      "2016-11-29 16:19:38,053 INFO    : Executor     : ================================================================================\n",
      "2016-11-29 16:19:38,054 INFO    : Executor     : configuring target for [freq_800000] experiments\n",
      "2016-11-29 16:19:39,772 INFO    : Executor     : Configuring all CPUs to use [userspace] cpufreq governor\n",
      "2016-11-29 16:19:40,677 INFO    : root         :        CPUFreq - CPU frequencies: {1: 800000}\n",
      "2016-11-29 16:19:42,693 INFO    : Workload     : Setup new workload fie_10pct\n",
      "2016-11-29 16:19:42,695 INFO    : Workload     : Workload duration defined by longest task\n",
      "2016-11-29 16:19:42,696 INFO    : Workload     : Default policy: SCHED_OTHER\n",
      "2016-11-29 16:19:42,697 INFO    : Workload     : ------------------------\n",
      "2016-11-29 16:19:42,698 INFO    : Workload     : task [fie_test0], sched: using default policy\n",
      "2016-11-29 16:19:42,699 INFO    : Workload     :  | calibration CPU: 1\n",
      "2016-11-29 16:19:42,700 INFO    : Workload     :  | loops count: 1\n",
      "2016-11-29 16:19:42,701 INFO    : Workload     : + phase_000001: duration 5.000000 [s] (500 loops)\n",
      "2016-11-29 16:19:42,702 INFO    : Workload     : |  period    10000 [us], duty_cycle  10 %\n",
      "2016-11-29 16:19:42,703 INFO    : Workload     : |  run_time   1000 [us], sleep_time   9000 [us]\n",
      "2016-11-29 16:19:43,296 INFO    : Executor     : ~~~~~~~~~~~~~~~~~~~~~~~~~~~~~~~~~~~~~~~~~~~~~~~~~~~~~~~~~~~~~~~~~~~~~~~~~~~~~~~~\n",
      "2016-11-29 16:19:43,297 INFO    : Executor     : Experiment 2/5, [freq_800000:fie_10pct] 1/1\n",
      "2016-11-29 16:19:43,306 WARNING : Executor     : FTrace events collection enabled\n",
      "2016-11-29 16:19:51,984 INFO    : Workload     : Workload execution START:\n",
      "2016-11-29 16:19:51,985 INFO    : Workload     :    /home/brendan/devlib-target/bin/taskset 0x2 /home/brendan/devlib-target/bin/rt-app /home/brendan/devlib-target/run_dir/fie_10pct_00.json 2>&1\n"
     ]
    },
    {
     "name": "stdout",
     "output_type": "stream",
     "text": [
      "\n"
     ]
    },
    {
     "name": "stderr",
     "output_type": "stream",
     "text": [
      "2016-11-29 16:20:03,738 INFO    : Executor     : Collected FTrace binary trace:\n",
      "2016-11-29 16:20:03,740 INFO    : Executor     :    <res_dir>/rtapp:freq_800000:fie_10pct/1/trace.dat\n",
      "2016-11-29 16:20:03,741 INFO    : Executor     : Collected FTrace function profiling:\n",
      "2016-11-29 16:20:03,742 INFO    : Executor     :    <res_dir>/rtapp:freq_800000:fie_10pct/1/trace_stat.json\n",
      "2016-11-29 16:20:03,743 INFO    : Executor     : --------------------------------------------------------------------------------\n",
      "2016-11-29 16:20:03,744 INFO    : Executor     : \n",
      "2016-11-29 16:20:03,745 INFO    : Executor     : ================================================================================\n",
      "2016-11-29 16:20:03,746 INFO    : Executor     : configuring target for [freq_950000] experiments\n",
      "2016-11-29 16:20:05,464 INFO    : Executor     : Configuring all CPUs to use [userspace] cpufreq governor\n",
      "2016-11-29 16:20:06,369 INFO    : root         :        CPUFreq - CPU frequencies: {1: 950000}\n",
      "2016-11-29 16:20:08,385 INFO    : Workload     : Setup new workload fie_10pct\n",
      "2016-11-29 16:20:08,386 INFO    : Workload     : Workload duration defined by longest task\n",
      "2016-11-29 16:20:08,388 INFO    : Workload     : Default policy: SCHED_OTHER\n",
      "2016-11-29 16:20:08,389 INFO    : Workload     : ------------------------\n",
      "2016-11-29 16:20:08,390 INFO    : Workload     : task [fie_test0], sched: using default policy\n",
      "2016-11-29 16:20:08,391 INFO    : Workload     :  | calibration CPU: 1\n",
      "2016-11-29 16:20:08,392 INFO    : Workload     :  | loops count: 1\n",
      "2016-11-29 16:20:08,393 INFO    : Workload     : + phase_000001: duration 5.000000 [s] (500 loops)\n",
      "2016-11-29 16:20:08,394 INFO    : Workload     : |  period    10000 [us], duty_cycle  10 %\n",
      "2016-11-29 16:20:08,395 INFO    : Workload     : |  run_time   1000 [us], sleep_time   9000 [us]\n",
      "2016-11-29 16:20:08,978 INFO    : Executor     : ~~~~~~~~~~~~~~~~~~~~~~~~~~~~~~~~~~~~~~~~~~~~~~~~~~~~~~~~~~~~~~~~~~~~~~~~~~~~~~~~\n",
      "2016-11-29 16:20:08,980 INFO    : Executor     : Experiment 3/5, [freq_950000:fie_10pct] 1/1\n",
      "2016-11-29 16:20:08,988 WARNING : Executor     : FTrace events collection enabled\n",
      "2016-11-29 16:20:17,378 INFO    : Workload     : Workload execution START:\n",
      "2016-11-29 16:20:17,379 INFO    : Workload     :    /home/brendan/devlib-target/bin/taskset 0x2 /home/brendan/devlib-target/bin/rt-app /home/brendan/devlib-target/run_dir/fie_10pct_00.json 2>&1\n"
     ]
    },
    {
     "name": "stdout",
     "output_type": "stream",
     "text": [
      "\n"
     ]
    },
    {
     "name": "stderr",
     "output_type": "stream",
     "text": [
      "2016-11-29 16:20:29,035 INFO    : Executor     : Collected FTrace binary trace:\n",
      "2016-11-29 16:20:29,037 INFO    : Executor     :    <res_dir>/rtapp:freq_950000:fie_10pct/1/trace.dat\n",
      "2016-11-29 16:20:29,038 INFO    : Executor     : Collected FTrace function profiling:\n",
      "2016-11-29 16:20:29,039 INFO    : Executor     :    <res_dir>/rtapp:freq_950000:fie_10pct/1/trace_stat.json\n",
      "2016-11-29 16:20:29,040 INFO    : Executor     : --------------------------------------------------------------------------------\n",
      "2016-11-29 16:20:29,041 INFO    : Executor     : \n",
      "2016-11-29 16:20:29,042 INFO    : Executor     : ================================================================================\n",
      "2016-11-29 16:20:29,043 INFO    : Executor     : configuring target for [freq_1100000] experiments\n",
      "2016-11-29 16:20:30,760 INFO    : Executor     : Configuring all CPUs to use [userspace] cpufreq governor\n",
      "2016-11-29 16:20:31,666 INFO    : root         :        CPUFreq - CPU frequencies: {1: 1100000}\n",
      "2016-11-29 16:20:33,682 INFO    : Workload     : Setup new workload fie_10pct\n",
      "2016-11-29 16:20:33,683 INFO    : Workload     : Workload duration defined by longest task\n",
      "2016-11-29 16:20:33,684 INFO    : Workload     : Default policy: SCHED_OTHER\n",
      "2016-11-29 16:20:33,686 INFO    : Workload     : ------------------------\n",
      "2016-11-29 16:20:33,687 INFO    : Workload     : task [fie_test0], sched: using default policy\n",
      "2016-11-29 16:20:33,688 INFO    : Workload     :  | calibration CPU: 1\n",
      "2016-11-29 16:20:33,689 INFO    : Workload     :  | loops count: 1\n",
      "2016-11-29 16:20:33,690 INFO    : Workload     : + phase_000001: duration 5.000000 [s] (500 loops)\n",
      "2016-11-29 16:20:33,691 INFO    : Workload     : |  period    10000 [us], duty_cycle  10 %\n",
      "2016-11-29 16:20:33,692 INFO    : Workload     : |  run_time   1000 [us], sleep_time   9000 [us]\n",
      "2016-11-29 16:20:34,265 INFO    : Executor     : ~~~~~~~~~~~~~~~~~~~~~~~~~~~~~~~~~~~~~~~~~~~~~~~~~~~~~~~~~~~~~~~~~~~~~~~~~~~~~~~~\n",
      "2016-11-29 16:20:34,266 INFO    : Executor     : Experiment 4/5, [freq_1100000:fie_10pct] 1/1\n",
      "2016-11-29 16:20:34,275 WARNING : Executor     : FTrace events collection enabled\n",
      "2016-11-29 16:20:42,961 INFO    : Workload     : Workload execution START:\n",
      "2016-11-29 16:20:42,963 INFO    : Workload     :    /home/brendan/devlib-target/bin/taskset 0x2 /home/brendan/devlib-target/bin/rt-app /home/brendan/devlib-target/run_dir/fie_10pct_00.json 2>&1\n"
     ]
    },
    {
     "name": "stdout",
     "output_type": "stream",
     "text": [
      "\n"
     ]
    },
    {
     "name": "stderr",
     "output_type": "stream",
     "text": [
      "2016-11-29 16:20:54,210 INFO    : Executor     : Collected FTrace binary trace:\n",
      "2016-11-29 16:20:54,212 INFO    : Executor     :    <res_dir>/rtapp:freq_1100000:fie_10pct/1/trace.dat\n",
      "2016-11-29 16:20:54,213 INFO    : Executor     : Collected FTrace function profiling:\n",
      "2016-11-29 16:20:54,214 INFO    : Executor     :    <res_dir>/rtapp:freq_1100000:fie_10pct/1/trace_stat.json\n",
      "2016-11-29 16:20:54,216 INFO    : Executor     : --------------------------------------------------------------------------------\n",
      "2016-11-29 16:20:54,217 INFO    : Executor     : \n",
      "2016-11-29 16:20:54,218 INFO    : Executor     : ################################################################################\n",
      "2016-11-29 16:20:54,219 INFO    : Executor     : Experiments execution completed\n",
      "2016-11-29 16:20:54,220 INFO    : Executor     : ################################################################################\n",
      "2016-11-29 16:20:54,221 INFO    : Executor     : Results available in:\n",
      "2016-11-29 16:20:54,222 INFO    : Executor     :       /home/brejac01/sources/lisa/results/20161129_161844\n"
     ]
    }
   ],
   "source": [
    "t.setUpClass()"
   ]
  },
  {
   "cell_type": "markdown",
   "metadata": {},
   "source": [
    "## Show variance in util_avg and load_avg"
   ]
  },
  {
   "cell_type": "code",
   "execution_count": 46,
   "metadata": {
    "collapsed": false,
    "scrolled": true
   },
   "outputs": [
    {
     "data": {
      "text/plain": [
       "[450000, 625000, 800000, 950000, 1100000]"
      ]
     },
     "execution_count": 46,
     "metadata": {},
     "output_type": "execute_result"
    }
   ],
   "source": [
    "# Get the frequency an experiment was run at\n",
    "def experiment_freq(exp):\n",
    "    [cpu] = exp.wload.cpus\n",
    "    freq = exp.conf['cpufreq']['freqs'][cpu]\n",
    "    return freq\n",
    "freqs = [experiment_freq(e) for e in t.executor.experiments]\n",
    "freqs"
   ]
  },
  {
   "cell_type": "code",
   "execution_count": 50,
   "metadata": {
    "collapsed": true
   },
   "outputs": [],
   "source": [
    "def plot_signal_against_freq(signal):\n",
    "    means = [t.get_signal_mean(e, signal) for e in t.executor.experiments]\n",
    "    limits = (min(means) * 0.99, max(means) * 1.01)\n",
    "    pd.DataFrame(means, index=freqs, columns=['Mean ' + signal]).plot(kind='bar', ylim=limits)"
   ]
  },
  {
   "cell_type": "markdown",
   "metadata": {},
   "source": [
    "### Plot of variation of util_avg value with frequency:"
   ]
  },
  {
   "cell_type": "code",
   "execution_count": null,
   "metadata": {
    "collapsed": false,
    "scrolled": true
   },
   "outputs": [],
   "source": [
    "plot_signal_against_freq('util_avg')"
   ]
  },
  {
   "cell_type": "markdown",
   "metadata": {},
   "source": [
    "### And the same thing for load_avg:"
   ]
  },
  {
   "cell_type": "code",
   "execution_count": 49,
   "metadata": {
    "collapsed": false
   },
   "outputs": [
    {
     "data": {
      "text/plain": [
       "<matplotlib.axes.AxesSubplot at 0x7f425b1d7d50>"
      ]
     },
     "execution_count": 49,
     "metadata": {},
     "output_type": "execute_result"
    },
    {
     "data": {
      "image/png": "[encoded data removed]",
      "text/plain": [
       "<matplotlib.figure.Figure at 0x7f4262e8be10>"
      ]
     },
     "metadata": {},
     "output_type": "display_data"
    }
   ],
   "source": [
    "util_avg_means = [t.get_signal_mean(e, 'load_avg') for e in t.executor.experiments]\n",
    "limits = (min(util_avg_means) * 0.99, max(util_avg_means) * 1.01)\n",
    "pd.DataFrame(util_avg_means, index=freqs, columns=['Mean load_avg']).plot(kind='bar', ylim=limits)"
   ]
  },
  {
   "cell_type": "markdown",
   "metadata": {},
   "source": [
    "## Examine trace from workload execution"
   ]
  },
  {
   "cell_type": "markdown",
   "metadata": {},
   "source": [
    "The log `setUpClass` call above shows the experiments that were run. Use the function below to get a plot from a given experiment of the `util_avg` scheduler signal for that workload's tasks, along with the expected mean value."
   ]
  },
  {
   "cell_type": "code",
   "execution_count": 5,
   "metadata": {
    "collapsed": false
   },
   "outputs": [],
   "source": [
    "def examine_experiment(idx, signal):\n",
    "    experiment = t.executor.experiments[idx]\n",
    "    \n",
    "    print \"Experiment configuration:\" \n",
    "    print json.dumps(experiment.conf, indent=4)\n",
    "    events = t.te.test_conf[\"ftrace\"][\"events\"]\n",
    "    \n",
    "    # todo add get_trace method\n",
    "    tasks = experiment.wload.tasks.keys()\n",
    "    #trace = Trace(t.te.platform, experiment.out_dir, events, tasks)\n",
    "    #print \"Trace plot:\"\n",
    "    #plot_trace(trace.ftrace)\n",
    "    \n",
    "    # Get observed signal\n",
    "    signal_df = t.get_sched_signal(experiment, signal)\n",
    "#    return signal_df\n",
    "    # Get expected average value for util_avg signal\n",
    "    expected_util_avg_mean = t.get_expected_util_avg(experiment)\n",
    "    \n",
    "    # Plot util avg signal with expected mean value\n",
    "    util_avg_mean = pd.Series([expected_util_avg_mean], name=\"expected_util_avg\", index=[signal_df.index[0]])\n",
    "    df = pd.concat([signal_df, util_avg_mean], axis=1).fillna(method=\"ffill\")\n",
    "    ILinePlot(df, column=[signal, \"expected_util_avg\"], drawstyle=\"steps-post\").view()"
   ]
  },
  {
   "cell_type": "code",
   "execution_count": 16,
   "metadata": {
    "collapsed": false
   },
   "outputs": [
    {
     "data": {
      "text/html": [
       "<style>\n",
       "/*\n",
       "\n",
       " *    Copyright 2015-2016 ARM Limited\n",
       "\n",
       " *\n",
       "\n",
       " * Licensed under the Apache License, Version 2.0 (the \"License\");\n",
       "\n",
       " * you may not use this file except in compliance with the License.\n",
       "\n",
       " * You may obtain a copy of the License at\n",
       "\n",
       " *\n",
       "\n",
       " *     http://www.apache.org/licenses/LICENSE-2.0\n",
       "\n",
       " *\n",
       "\n",
       " * Unless required by applicable law or agreed to in writing, software\n",
       "\n",
       " * distributed under the License is distributed on an \"AS IS\" BASIS,\n",
       "\n",
       " * WITHOUT WARRANTIES OR CONDITIONS OF ANY KIND, either express or implied.\n",
       "\n",
       " * See the License for the specific language governing permissions and\n",
       "\n",
       " * limitations under the License.\n",
       "\n",
       " */\n",
       "\n",
       "\n",
       "\n",
       ".d3-tip {\n",
       "\n",
       "  line-height: 1;\n",
       "\n",
       "  padding: 12px;\n",
       "\n",
       "  background: rgba(0, 0, 0, 0.6);\n",
       "\n",
       "  color: #fff;\n",
       "\n",
       "  border-radius: 2px;\n",
       "\n",
       "  position: absolute !important;\n",
       "\n",
       "  z-index: 99999;\n",
       "\n",
       "}\n",
       "\n",
       "\n",
       "\n",
       ".d3-tip:after {\n",
       "\n",
       "  box-sizing: border-box;\n",
       "\n",
       "  pointer-events: none;\n",
       "\n",
       "  display: inline;\n",
       "\n",
       "  font-size: 10px;\n",
       "\n",
       "  width: 100%;\n",
       "\n",
       "  line-height: 1;\n",
       "\n",
       "  color: rgba(0, 0, 0, 0.6);\n",
       "\n",
       "  content: \"\\25BC\";\n",
       "\n",
       "  position: absolute !important;\n",
       "\n",
       "  z-index: 99999;\n",
       "\n",
       "  text-align: center;\n",
       "\n",
       "}\n",
       "\n",
       "\n",
       "\n",
       ".d3-tip.n:after {\n",
       "\n",
       "  margin: -1px 0 0 0;\n",
       "\n",
       "  top: 100%;\n",
       "\n",
       "  left: 0;\n",
       "\n",
       "}\n",
       "\n",
       "\n",
       "\n",
       ".contextRect {\n",
       "\n",
       "  fill: lightgray;\n",
       "\n",
       "  fill-opacity: 0.5;\n",
       "\n",
       "  stroke: black;\n",
       "\n",
       "  stroke-width: 1;\n",
       "\n",
       "  stroke-opacity: 1;\n",
       "\n",
       "  pointer-events: none;\n",
       "\n",
       "  shape-rendering: crispEdges;\n",
       "\n",
       "}\n",
       "\n",
       "\n",
       "\n",
       ".chart {\n",
       "\n",
       "  shape-rendering: crispEdges;\n",
       "\n",
       "}\n",
       "\n",
       "\n",
       "\n",
       ".mini text {\n",
       "\n",
       "  font: 9px sans-serif;\n",
       "\n",
       "}\n",
       "\n",
       "\n",
       "\n",
       ".main text {\n",
       "\n",
       "  font: 12px sans-serif;\n",
       "\n",
       "}\n",
       "\n",
       "\n",
       "\n",
       ".axis line, .axis path {\n",
       "\n",
       "  stroke: black;\n",
       "\n",
       "}\n",
       "\n",
       "\n",
       "\n",
       ".miniItem {\n",
       "\n",
       "  stroke-width: 8;\n",
       "\n",
       "}\n",
       "\n",
       "\n",
       "\n",
       ".brush .extent {\n",
       "\n",
       "\n",
       "\n",
       "  stroke: #000;\n",
       "\n",
       "  fill-opacity: .125;\n",
       "\n",
       "  shape-rendering: crispEdges;\n",
       "\n",
       "}\n",
       "\n",
       "</style>\n",
       "<div id=\"fig_3bf99c6cc3b94a728c843cbf935ab552\" class=\"eventplot\">\n",
       "        <script>\n",
       "            var req = require.config( {\n",
       "\n",
       "                paths: {\n",
       "\n",
       "                    \"EventPlot\": '/nbextensions/plotter_scripts/EventPlot/EventPlot',\n",
       "                    \"d3-tip\": '/nbextensions/plotter_scripts/EventPlot/d3.tip.v0.6.3',\n",
       "                    \"d3-plotter\": '/nbextensions/plotter_scripts/EventPlot/d3.min'\n",
       "                },\n",
       "                shim: {\n",
       "                    \"d3-plotter\" : {\n",
       "                        \"exports\" : \"d3\"\n",
       "                    },\n",
       "                    \"d3-tip\": [\"d3-plotter\"],\n",
       "                    \"EventPlot\": {\n",
       "\n",
       "                        \"deps\": [\"d3-tip\", \"d3-plotter\" ],\n",
       "                        \"exports\":  \"EventPlot\"\n",
       "                    }\n",
       "                }\n",
       "            });\n",
       "            req([\"require\", \"EventPlot\"], function() {\n",
       "               EventPlot.generate('fig_3bf99c6cc3b94a728c843cbf935ab552', '/nbextensions/');\n",
       "            });\n",
       "        </script>\n",
       "        </div>"
      ],
      "text/plain": [
       "<IPython.core.display.HTML object>"
      ]
     },
     "metadata": {},
     "output_type": "display_data"
    }
   ],
   "source": [
    "plot_trace(t.get_trace(t.executor.experiments[0]).ftrace)"
   ]
  },
  {
   "cell_type": "code",
   "execution_count": 15,
   "metadata": {
    "collapsed": false
   },
   "outputs": [
    {
     "name": "stdout",
     "output_type": "stream",
     "text": [
      "Experiment configuration:\n",
      "{\n",
      "    \"dtb\": null, \n",
      "    \"kernel\": null, \n",
      "    \"tag\": \"freq_1100000\", \n",
      "    \"flags\": \"ftrace\", \n",
      "    \"cpufreq\": {\n",
      "        \"freqs\": {\n",
      "            \"1\": 1100000\n",
      "        }, \n",
      "        \"governor\": \"userspace\"\n",
      "    }\n",
      "}\n"
     ]
    },
    {
     "data": {
      "text/html": [
       "<table style=\"border-style: hidden;\">\n",
       "<tr>\n",
       "<td style=\"border-style: hidden;\"><div class=\"ilineplot\" id=\"fig_fea1693992984bdfb3bf7aa1bd0eedb7\">\n",
       "            <script>\n",
       "            var ilp_req = require.config( {\n",
       "\n",
       "                paths: {\n",
       "                    \"dygraph-sync\": '/nbextensions/plotter_scripts/ILinePlot/synchronizer',\n",
       "                    \"dygraph\": '/nbextensions/plotter_scripts/ILinePlot/dygraph-combined',\n",
       "                    \"ILinePlot\": '/nbextensions/plotter_scripts/ILinePlot/ILinePlot',\n",
       "                    \"underscore\": '/nbextensions/plotter_scripts/ILinePlot/underscore-min',\n",
       "                },\n",
       "\n",
       "                shim: {\n",
       "                    \"dygraph-sync\": [\"dygraph\"],\n",
       "                    \"ILinePlot\": {\n",
       "\n",
       "                        \"deps\": [\"dygraph-sync\", \"dygraph\", \"underscore\"],\n",
       "                        \"exports\":  \"ILinePlot\"\n",
       "                    }\n",
       "                }\n",
       "            });\n",
       "                ilp_req([\"require\", \"ILinePlot\"], function() {\n",
       "                ILinePlot.generate('fig_fea1693992984bdfb3bf7aa1bd0eedb7', '/nbextensions/');\n",
       "            });\n",
       "            </script>\n",
       "        </div></td>\n",
       "</tr>\n",
       "<tr>\n",
       "<td style=\"border-style: hidden;\"><div style=\"text-align:center\" id=\"fig_fea1693992984bdfb3bf7aa1bd0eedb7_legend\"></div></td>\n",
       "</tr>\n",
       "</table>"
      ],
      "text/plain": [
       "<IPython.core.display.HTML object>"
      ]
     },
     "metadata": {},
     "output_type": "display_data"
    }
   ],
   "source": [
    "df = examine_experiment(-1, \"util_avg\")"
   ]
  },
  {
   "cell_type": "code",
   "execution_count": 14,
   "metadata": {
    "collapsed": false,
    "scrolled": true
   },
   "outputs": [
    {
     "name": "stdout",
     "output_type": "stream",
     "text": [
      "Experiment configuration:\n",
      "{\n",
      "    \"dtb\": null, \n",
      "    \"kernel\": null, \n",
      "    \"tag\": \"freq_1100000\", \n",
      "    \"flags\": \"ftrace\", \n",
      "    \"cpufreq\": {\n",
      "        \"freqs\": {\n",
      "            \"1\": 1100000\n",
      "        }, \n",
      "        \"governor\": \"userspace\"\n",
      "    }\n",
      "}\n"
     ]
    },
    {
     "data": {
      "text/html": [
       "<table style=\"border-style: hidden;\">\n",
       "<tr>\n",
       "<td style=\"border-style: hidden;\"><div class=\"ilineplot\" id=\"fig_8e8cde95a7944f99a05af827ab46c168\">\n",
       "            <script>\n",
       "            var ilp_req = require.config( {\n",
       "\n",
       "                paths: {\n",
       "                    \"dygraph-sync\": '/nbextensions/plotter_scripts/ILinePlot/synchronizer',\n",
       "                    \"dygraph\": '/nbextensions/plotter_scripts/ILinePlot/dygraph-combined',\n",
       "                    \"ILinePlot\": '/nbextensions/plotter_scripts/ILinePlot/ILinePlot',\n",
       "                    \"underscore\": '/nbextensions/plotter_scripts/ILinePlot/underscore-min',\n",
       "                },\n",
       "\n",
       "                shim: {\n",
       "                    \"dygraph-sync\": [\"dygraph\"],\n",
       "                    \"ILinePlot\": {\n",
       "\n",
       "                        \"deps\": [\"dygraph-sync\", \"dygraph\", \"underscore\"],\n",
       "                        \"exports\":  \"ILinePlot\"\n",
       "                    }\n",
       "                }\n",
       "            });\n",
       "                ilp_req([\"require\", \"ILinePlot\"], function() {\n",
       "                ILinePlot.generate('fig_8e8cde95a7944f99a05af827ab46c168', '/nbextensions/');\n",
       "            });\n",
       "            </script>\n",
       "        </div></td>\n",
       "</tr>\n",
       "<tr>\n",
       "<td style=\"border-style: hidden;\"><div style=\"text-align:center\" id=\"fig_8e8cde95a7944f99a05af827ab46c168_legend\"></div></td>\n",
       "</tr>\n",
       "</table>"
      ],
      "text/plain": [
       "<IPython.core.display.HTML object>"
      ]
     },
     "metadata": {},
     "output_type": "display_data"
    }
   ],
   "source": [
    "df = examine_experiment(-1, \"load_avg\")"
   ]
  }
 ],
 "metadata": {
  "kernelspec": {
   "display_name": "Python 2",
   "language": "python",
   "name": "python2"
  },
  "language_info": {
   "codemirror_mode": {
    "name": "ipython",
    "version": 2
   },
   "file_extension": ".py",
   "mimetype": "text/x-python",
   "name": "python",
   "nbconvert_exporter": "python",
   "pygments_lexer": "ipython2",
   "version": "2.7.6"
  }
 },
 "nbformat": 4,
 "nbformat_minor": 0
}
