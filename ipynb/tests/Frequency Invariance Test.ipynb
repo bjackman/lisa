{
 "cells": [
  {
   "cell_type": "markdown",
   "metadata": {},
   "source": [
    "## Setup"
   ]
  },
  {
   "cell_type": "code",
   "execution_count": null,
   "metadata": {
    "collapsed": true
   },
   "outputs": [],
   "source": [
    "%matplotlib inline"
   ]
  },
  {
   "cell_type": "code",
   "execution_count": null,
   "metadata": {
    "collapsed": false
   },
   "outputs": [],
   "source": [
    "import pandas as pd\n",
    "import json\n",
    "\n",
    "from tests.eas.load_tracking import FreqInvarianceTest\n",
    "from trace import Trace\n",
    "from trappy.plotter import plot_trace\n",
    "from trappy.stats.grammar import Parser\n",
    "from trappy import ILinePlot"
   ]
  },
  {
   "cell_type": "code",
   "execution_count": null,
   "metadata": {
    "collapsed": false
   },
   "outputs": [],
   "source": [
    "import logging\n",
    "from conf import LisaLogging\n",
    "LisaLogging.setup()\n",
    "logging.getLogger('Analysis').setLevel(logging.ERROR)\n",
    "logging.getLogger('Trace').setLevel(logging.ERROR)"
   ]
  },
  {
   "cell_type": "markdown",
   "metadata": {},
   "source": [
    "## Run test workload"
   ]
  },
  {
   "cell_type": "code",
   "execution_count": null,
   "metadata": {
    "collapsed": false
   },
   "outputs": [],
   "source": [
    "t = FreqInvarianceTest(methodName='test_task_util')\n",
    "# help(t)"
   ]
  },
  {
   "cell_type": "code",
   "execution_count": null,
   "metadata": {
    "collapsed": false,
    "scrolled": true
   },
   "outputs": [],
   "source": [
    "t.setUpClass()"
   ]
  },
  {
   "cell_type": "markdown",
   "metadata": {},
   "source": [
    "## Show variance in util_avg and load_avg"
   ]
  },
  {
   "cell_type": "code",
   "execution_count": null,
   "metadata": {
    "collapsed": false,
    "scrolled": true
   },
   "outputs": [],
   "source": [
    "# Get the frequency an experiment was run at\n",
    "def experiment_freq(exp):\n",
    "    [cpu] = exp.wload.cpus\n",
    "    freq = exp.conf['cpufreq']['freqs'][cpu]\n",
    "    return freq\n",
    "freqs = [experiment_freq(e) for e in t.executor.experiments]\n",
    "freqs"
   ]
  },
  {
   "cell_type": "code",
   "execution_count": null,
   "metadata": {
    "collapsed": true
   },
   "outputs": [],
   "source": [
    "def plot_signal_against_freq(signal):\n",
    "    means = [t.get_signal_mean(e, signal) for e in t.executor.experiments]\n",
    "    limits = (min(means) * 0.99, max(means) * 1.01)\n",
    "    pd.DataFrame(means, index=freqs, columns=['Mean ' + signal]).plot(kind='bar', ylim=limits)"
   ]
  },
  {
   "cell_type": "markdown",
   "metadata": {},
   "source": [
    "### Plot of variation of util_avg value with frequency:"
   ]
  },
  {
   "cell_type": "code",
   "execution_count": null,
   "metadata": {
    "collapsed": false,
    "scrolled": true
   },
   "outputs": [],
   "source": [
    "plot_signal_against_freq('util_avg')"
   ]
  },
  {
   "cell_type": "markdown",
   "metadata": {},
   "source": [
    "### And the same thing for load_avg:"
   ]
  },
  {
   "cell_type": "code",
   "execution_count": null,
   "metadata": {
    "collapsed": false
   },
   "outputs": [],
   "source": [
    "plot_signal_against_freq('load_avg')"
   ]
  },
  {
   "cell_type": "markdown",
   "metadata": {},
   "source": [
    "## Examine trace from workload execution"
   ]
  },
  {
   "cell_type": "markdown",
   "metadata": {},
   "source": [
    "The log `setUpClass` call above shows the experiments that were run. Use the function below to get a plot from a given experiment of the `util_avg` scheduler signal for that workload's tasks, along with the expected mean value."
   ]
  },
  {
   "cell_type": "code",
   "execution_count": null,
   "metadata": {
    "collapsed": false,
    "scrolled": true
   },
   "outputs": [],
   "source": [
    "plot_trace(t.get_trace(t.executor.experiments[0]).ftrace)"
   ]
  },
  {
   "cell_type": "code",
   "execution_count": null,
   "metadata": {
    "collapsed": false
   },
   "outputs": [],
   "source": [
    "signals = ['util_avg', 'load_avg']\n",
    "def examine_experiment(idx):\n",
    "    experiment = t.executor.experiments[idx]\n",
    "    \n",
    "    print \"Experiment configuration:\" \n",
    "    print json.dumps(experiment.conf, indent=4)\n",
    "    events = t.te.test_conf[\"ftrace\"][\"events\"]\n",
    "    \n",
    "    # todo add get_trace method\n",
    "    tasks = experiment.wload.tasks.keys()\n",
    "    #trace = Trace(t.te.platform, experiment.out_dir, events, tasks)\n",
    "    #print \"Trace plot:\"\n",
    "    #plot_trace(trace.ftrace)\n",
    "    \n",
    "    # Get observed signal\n",
    "    signal_df = t.get_sched_signals(experiment, signals)\n",
    "#    return signal_df\n",
    "    # Get expected average value for util_avg signal\n",
    "    expected_util_avg_mean = t.get_expected_util_avg(experiment)\n",
    "    \n",
    "    # Plot util avg signal with expected mean value\n",
    "    util_avg_mean = pd.Series([expected_util_avg_mean], name=\"expected_util_avg\", index=[signal_df.index[0]])\n",
    "    df = pd.concat([signal_df, util_avg_mean], axis=1).fillna(method=\"ffill\")\n",
    "    ILinePlot(df, column=signals + [\"expected_util_avg\"], drawstyle=\"steps-post\").view()"
   ]
  },
  {
   "cell_type": "code",
   "execution_count": null,
   "metadata": {
    "collapsed": false
   },
   "outputs": [],
   "source": [
    "examine_experiment(0)"
   ]
  },
  {
   "cell_type": "code",
   "execution_count": null,
   "metadata": {
    "collapsed": false,
    "scrolled": true
   },
   "outputs": [],
   "source": [
    "df = examine_experiment(-1, \"load_avg\")"
   ]
  }
 ],
 "metadata": {
  "kernelspec": {
   "display_name": "Python 2",
   "language": "python",
   "name": "python2"
  },
  "language_info": {
   "codemirror_mode": {
    "name": "ipython",
    "version": 2
   },
   "file_extension": ".py",
   "mimetype": "text/x-python",
   "name": "python",
   "nbconvert_exporter": "python",
   "pygments_lexer": "ipython2",
   "version": "2.7.6"
  }
 },
 "nbformat": 4,
 "nbformat_minor": 0
}
