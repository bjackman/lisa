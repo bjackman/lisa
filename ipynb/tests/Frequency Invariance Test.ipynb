{
 "cells": [
  {
   "cell_type": "markdown",
   "metadata": {},
   "source": [
    "## Setup"
   ]
  },
  {
   "cell_type": "code",
   "execution_count": 1,
   "metadata": {
    "collapsed": true
   },
   "outputs": [],
   "source": [
    "%matplotlib inline"
   ]
  },
  {
   "cell_type": "code",
   "execution_count": 2,
   "metadata": {
    "collapsed": false
   },
   "outputs": [],
   "source": [
    "import pandas as pd\n",
    "import json\n",
    "\n",
    "from tests.eas.load_tracking import FreqInvarianceTest\n",
    "from trace import Trace\n",
    "from trappy.plotter import plot_trace\n",
    "from trappy.stats.grammar import Parser\n",
    "from trappy import ILinePlot"
   ]
  },
  {
   "cell_type": "code",
   "execution_count": 3,
   "metadata": {
    "collapsed": false
   },
   "outputs": [
    {
     "name": "stderr",
     "output_type": "stream",
     "text": [
      "2016-11-29 18:57:20,727 INFO    : root         : Using LISA logging configuration:\n",
      "2016-11-29 18:57:20,728 INFO    : root         :   /home/brejac01/sources/lisa/logging.conf\n"
     ]
    }
   ],
   "source": [
    "import logging\n",
    "from conf import LisaLogging\n",
    "LisaLogging.setup()\n",
    "logging.getLogger('Analysis').setLevel(logging.ERROR)"
   ]
  },
  {
   "cell_type": "markdown",
   "metadata": {},
   "source": [
    "## Run test workload"
   ]
  },
  {
   "cell_type": "code",
   "execution_count": 4,
   "metadata": {
    "collapsed": false
   },
   "outputs": [],
   "source": [
    "t = FreqInvarianceTest(methodName='test_task_util')"
   ]
  },
  {
   "cell_type": "code",
   "execution_count": 5,
   "metadata": {
    "collapsed": false,
    "scrolled": true
   },
   "outputs": [
    {
     "name": "stderr",
     "output_type": "stream",
     "text": [
      "2016-11-29 18:57:20,744 INFO    : LisaTest     : Setup tests execution engine...\n",
      "2016-11-29 18:57:20,745 INFO    : TestEnv      : Using base path: /home/brejac01/sources/lisa\n",
      "2016-11-29 18:57:20,745 INFO    : TestEnv      : Loading default (file) target configuration\n",
      "2016-11-29 18:57:20,746 INFO    : TestEnv      : Loading target configuration [/home/brejac01/sources/lisa/target.config]...\n",
      "2016-11-29 18:57:20,750 INFO    : TestEnv      : Loading custom (inline) test configuration\n",
      "2016-11-29 18:57:20,751 INFO    : TestEnv      : Devlib modules to load: ['bl', u'cpuidle', 'cpufreq']\n",
      "2016-11-29 18:57:20,752 INFO    : TestEnv      : Connecting linux target:\n",
      "2016-11-29 18:57:20,753 INFO    : TestEnv      :   username : brendan\n",
      "2016-11-29 18:57:20,753 INFO    : TestEnv      :       host : 192.168.2.2\n",
      "2016-11-29 18:57:20,754 INFO    : TestEnv      :   password : password\n",
      "2016-11-29 18:57:20,755 INFO    : TestEnv      : Connection settings:\n",
      "2016-11-29 18:57:20,756 INFO    : TestEnv      :    {'username': u'brendan', 'host': u'192.168.2.2', 'password': u'password'}\n",
      "2016-11-29 18:57:28,539 INFO    : TestEnv      : Initializing target workdir:\n",
      "2016-11-29 18:57:28,541 INFO    : TestEnv      :    /home/brendan/devlib-target\n",
      "2016-11-29 18:57:34,818 INFO    : TestEnv      : Topology:\n",
      "2016-11-29 18:57:34,820 INFO    : TestEnv      :    [[0, 3, 4, 5], [1, 2]]\n",
      "2016-11-29 18:57:37,452 INFO    : TestEnv      : Loading default EM:\n",
      "2016-11-29 18:57:37,454 INFO    : TestEnv      :    /home/brejac01/sources/lisa/libs/utils/platforms/juno.json\n",
      "2016-11-29 18:57:39,253 WARNING : LinuxTarget  : Event [sched_load_avg_task] not available for tracing\n",
      "2016-11-29 18:57:39,256 WARNING : LinuxTarget  : Event [sched_load_avg_cpu] not available for tracing\n",
      "2016-11-29 18:57:39,258 INFO    : TestEnv      : Enabled tracepoints:\n",
      "2016-11-29 18:57:39,259 INFO    : TestEnv      :    sched_switch\n",
      "2016-11-29 18:57:39,260 INFO    : TestEnv      :    sched_load_avg_task\n",
      "2016-11-29 18:57:39,261 INFO    : TestEnv      :    sched_load_avg_cpu\n",
      "2016-11-29 18:57:39,262 INFO    : TestEnv      :    sched_pelt_se\n",
      "2016-11-29 18:57:39,263 WARNING : TestEnv      : Using configuration provided RTApp calibration\n",
      "2016-11-29 18:57:39,264 INFO    : TestEnv      : Using RT-App calibration values:\n",
      "2016-11-29 18:57:39,265 INFO    : TestEnv      :    {\"0\": 354, \"1\": 138, \"2\": 138, \"3\": 363, \"4\": 355, \"5\": 357}\n",
      "2016-11-29 18:57:39,267 INFO    : EnergyMeter  : HWMON module not enabled\n",
      "2016-11-29 18:57:39,268 WARNING : EnergyMeter  : Energy sampling disabled by configuration\n",
      "2016-11-29 18:57:39,269 INFO    : TestEnv      : Set results folder to:\n",
      "2016-11-29 18:57:39,270 INFO    : TestEnv      :    /home/brejac01/sources/lisa/results/20161129_185739\n",
      "2016-11-29 18:57:39,271 INFO    : TestEnv      : Experiment results available also in:\n",
      "2016-11-29 18:57:39,272 INFO    : TestEnv      :    /home/brejac01/sources/lisa/results_latest\n",
      "2016-11-29 18:57:39,273 INFO    : Executor     : Loading custom (inline) test configuration\n",
      "2016-11-29 18:57:39,274 INFO    : Executor     : \n",
      "2016-11-29 18:57:39,275 INFO    : Executor     : ################################################################################\n",
      "2016-11-29 18:57:39,276 INFO    : Executor     : Experiments configuration\n",
      "2016-11-29 18:57:39,277 INFO    : Executor     : ################################################################################\n",
      "2016-11-29 18:57:39,278 INFO    : Executor     : Configured to run:\n",
      "2016-11-29 18:57:39,279 INFO    : Executor     :      5 target configurations:\n",
      "2016-11-29 18:57:39,280 INFO    : Executor     :       freq_450000, freq_625000, freq_800000, freq_950000, freq_1100000\n",
      "2016-11-29 18:57:39,281 INFO    : Executor     :      1 workloads (1 iterations each)\n",
      "2016-11-29 18:57:39,283 INFO    : Executor     :       fie_10pct\n",
      "2016-11-29 18:57:39,284 INFO    : Executor     : Total: 5 experiments\n",
      "2016-11-29 18:57:39,285 INFO    : Executor     : Results will be collected under:\n",
      "2016-11-29 18:57:39,286 INFO    : Executor     :       /home/brejac01/sources/lisa/results/20161129_185739\n",
      "2016-11-29 18:57:39,287 INFO    : LisaTest     : Experiments execution...\n",
      "2016-11-29 18:57:39,288 INFO    : Executor     : \n",
      "2016-11-29 18:57:39,289 INFO    : Executor     : ################################################################################\n",
      "2016-11-29 18:57:39,290 INFO    : Executor     : Experiments execution\n",
      "2016-11-29 18:57:39,291 INFO    : Executor     : ################################################################################\n",
      "2016-11-29 18:57:39,291 INFO    : Executor     : \n",
      "2016-11-29 18:57:39,292 INFO    : Executor     : ================================================================================\n",
      "2016-11-29 18:57:39,294 INFO    : Executor     : configuring target for [freq_450000] experiments\n"
     ]
    },
    {
     "name": "stdout",
     "output_type": "stream",
     "text": [
      "ON CPU 1\n"
     ]
    },
    {
     "name": "stderr",
     "output_type": "stream",
     "text": [
      "2016-11-29 18:57:41,019 INFO    : Executor     : Configuring all CPUs to use [userspace] cpufreq governor\n",
      "2016-11-29 18:57:41,924 INFO    : root         :        CPUFreq - CPU frequencies: {1: 450000}\n",
      "2016-11-29 18:57:43,946 INFO    : Workload     : Setup new workload fie_10pct\n",
      "2016-11-29 18:57:43,947 INFO    : Workload     : Workload duration defined by longest task\n",
      "2016-11-29 18:57:43,948 INFO    : Workload     : Default policy: SCHED_OTHER\n",
      "2016-11-29 18:57:43,949 INFO    : Workload     : ------------------------\n",
      "2016-11-29 18:57:43,950 INFO    : Workload     : task [fie_test0], sched: using default policy\n",
      "2016-11-29 18:57:43,951 INFO    : Workload     :  | calibration CPU: 1\n",
      "2016-11-29 18:57:43,953 INFO    : Workload     :  | loops count: 1\n",
      "2016-11-29 18:57:43,954 INFO    : Workload     : + phase_000001: duration 5.000000 [s] (500 loops)\n",
      "2016-11-29 18:57:43,955 INFO    : Workload     : |  period    10000 [us], duty_cycle  10 %\n",
      "2016-11-29 18:57:43,956 INFO    : Workload     : |  run_time   1000 [us], sleep_time   9000 [us]\n",
      "2016-11-29 18:57:45,111 INFO    : Executor     : ~~~~~~~~~~~~~~~~~~~~~~~~~~~~~~~~~~~~~~~~~~~~~~~~~~~~~~~~~~~~~~~~~~~~~~~~~~~~~~~~\n",
      "2016-11-29 18:57:45,113 INFO    : Executor     : Experiment 0/5, [freq_450000:fie_10pct] 1/1\n",
      "2016-11-29 18:57:45,120 WARNING : Executor     : FTrace events collection enabled\n",
      "2016-11-29 18:57:51,934 INFO    : Workload     : Workload execution START:\n",
      "2016-11-29 18:57:51,936 INFO    : Workload     :    /home/brendan/devlib-target/bin/taskset 0x2 /home/brendan/devlib-target/bin/rt-app /home/brendan/devlib-target/run_dir/fie_10pct_00.json 2>&1\n"
     ]
    },
    {
     "name": "stdout",
     "output_type": "stream",
     "text": [
      "\n"
     ]
    },
    {
     "name": "stderr",
     "output_type": "stream",
     "text": [
      "2016-11-29 18:58:03,817 INFO    : Executor     : Collected FTrace binary trace:\n",
      "2016-11-29 18:58:03,819 INFO    : Executor     :    <res_dir>/rtapp:freq_450000:fie_10pct/1/trace.dat\n",
      "2016-11-29 18:58:03,820 INFO    : Executor     : Collected FTrace function profiling:\n",
      "2016-11-29 18:58:03,821 INFO    : Executor     :    <res_dir>/rtapp:freq_450000:fie_10pct/1/trace_stat.json\n",
      "2016-11-29 18:58:03,822 INFO    : Executor     : --------------------------------------------------------------------------------\n",
      "2016-11-29 18:58:03,823 INFO    : Executor     : \n",
      "2016-11-29 18:58:03,824 INFO    : Executor     : ================================================================================\n",
      "2016-11-29 18:58:03,825 INFO    : Executor     : configuring target for [freq_625000] experiments\n",
      "2016-11-29 18:58:05,547 INFO    : Executor     : Configuring all CPUs to use [userspace] cpufreq governor\n",
      "2016-11-29 18:58:06,454 INFO    : root         :        CPUFreq - CPU frequencies: {1: 625000}\n",
      "2016-11-29 18:58:08,476 INFO    : Workload     : Setup new workload fie_10pct\n",
      "2016-11-29 18:58:08,477 INFO    : Workload     : Workload duration defined by longest task\n",
      "2016-11-29 18:58:08,478 INFO    : Workload     : Default policy: SCHED_OTHER\n",
      "2016-11-29 18:58:08,480 INFO    : Workload     : ------------------------\n",
      "2016-11-29 18:58:08,481 INFO    : Workload     : task [fie_test0], sched: using default policy\n",
      "2016-11-29 18:58:08,482 INFO    : Workload     :  | calibration CPU: 1\n",
      "2016-11-29 18:58:08,483 INFO    : Workload     :  | loops count: 1\n",
      "2016-11-29 18:58:08,484 INFO    : Workload     : + phase_000001: duration 5.000000 [s] (500 loops)\n",
      "2016-11-29 18:58:08,485 INFO    : Workload     : |  period    10000 [us], duty_cycle  10 %\n",
      "2016-11-29 18:58:08,485 INFO    : Workload     : |  run_time   1000 [us], sleep_time   9000 [us]\n",
      "2016-11-29 18:58:09,135 INFO    : Executor     : ~~~~~~~~~~~~~~~~~~~~~~~~~~~~~~~~~~~~~~~~~~~~~~~~~~~~~~~~~~~~~~~~~~~~~~~~~~~~~~~~\n",
      "2016-11-29 18:58:09,137 INFO    : Executor     : Experiment 1/5, [freq_625000:fie_10pct] 1/1\n",
      "2016-11-29 18:58:09,145 WARNING : Executor     : FTrace events collection enabled\n",
      "2016-11-29 18:58:15,945 INFO    : Workload     : Workload execution START:\n",
      "2016-11-29 18:58:15,947 INFO    : Workload     :    /home/brendan/devlib-target/bin/taskset 0x2 /home/brendan/devlib-target/bin/rt-app /home/brendan/devlib-target/run_dir/fie_10pct_00.json 2>&1\n"
     ]
    },
    {
     "name": "stdout",
     "output_type": "stream",
     "text": [
      "\n"
     ]
    },
    {
     "name": "stderr",
     "output_type": "stream",
     "text": [
      "2016-11-29 18:58:27,413 INFO    : Executor     : Collected FTrace binary trace:\n",
      "2016-11-29 18:58:27,415 INFO    : Executor     :    <res_dir>/rtapp:freq_625000:fie_10pct/1/trace.dat\n",
      "2016-11-29 18:58:27,416 INFO    : Executor     : Collected FTrace function profiling:\n",
      "2016-11-29 18:58:27,417 INFO    : Executor     :    <res_dir>/rtapp:freq_625000:fie_10pct/1/trace_stat.json\n",
      "2016-11-29 18:58:27,418 INFO    : Executor     : --------------------------------------------------------------------------------\n",
      "2016-11-29 18:58:27,420 INFO    : Executor     : \n",
      "2016-11-29 18:58:27,421 INFO    : Executor     : ================================================================================\n",
      "2016-11-29 18:58:27,422 INFO    : Executor     : configuring target for [freq_800000] experiments\n",
      "2016-11-29 18:58:29,142 INFO    : Executor     : Configuring all CPUs to use [userspace] cpufreq governor\n",
      "2016-11-29 18:58:30,048 INFO    : root         :        CPUFreq - CPU frequencies: {1: 800000}\n",
      "2016-11-29 18:58:32,065 INFO    : Workload     : Setup new workload fie_10pct\n",
      "2016-11-29 18:58:32,066 INFO    : Workload     : Workload duration defined by longest task\n",
      "2016-11-29 18:58:32,067 INFO    : Workload     : Default policy: SCHED_OTHER\n",
      "2016-11-29 18:58:32,068 INFO    : Workload     : ------------------------\n",
      "2016-11-29 18:58:32,069 INFO    : Workload     : task [fie_test0], sched: using default policy\n",
      "2016-11-29 18:58:32,070 INFO    : Workload     :  | calibration CPU: 1\n",
      "2016-11-29 18:58:32,071 INFO    : Workload     :  | loops count: 1\n",
      "2016-11-29 18:58:32,073 INFO    : Workload     : + phase_000001: duration 5.000000 [s] (500 loops)\n",
      "2016-11-29 18:58:32,074 INFO    : Workload     : |  period    10000 [us], duty_cycle  10 %\n",
      "2016-11-29 18:58:32,075 INFO    : Workload     : |  run_time   1000 [us], sleep_time   9000 [us]\n",
      "2016-11-29 18:58:32,693 INFO    : Executor     : ~~~~~~~~~~~~~~~~~~~~~~~~~~~~~~~~~~~~~~~~~~~~~~~~~~~~~~~~~~~~~~~~~~~~~~~~~~~~~~~~\n",
      "2016-11-29 18:58:32,695 INFO    : Executor     : Experiment 2/5, [freq_800000:fie_10pct] 1/1\n",
      "2016-11-29 18:58:32,702 WARNING : Executor     : FTrace events collection enabled\n",
      "2016-11-29 18:58:39,444 INFO    : Workload     : Workload execution START:\n",
      "2016-11-29 18:58:39,445 INFO    : Workload     :    /home/brendan/devlib-target/bin/taskset 0x2 /home/brendan/devlib-target/bin/rt-app /home/brendan/devlib-target/run_dir/fie_10pct_00.json 2>&1\n"
     ]
    },
    {
     "name": "stdout",
     "output_type": "stream",
     "text": [
      "\n"
     ]
    },
    {
     "name": "stderr",
     "output_type": "stream",
     "text": [
      "2016-11-29 18:58:50,578 INFO    : Executor     : Collected FTrace binary trace:\n",
      "2016-11-29 18:58:50,580 INFO    : Executor     :    <res_dir>/rtapp:freq_800000:fie_10pct/1/trace.dat\n",
      "2016-11-29 18:58:50,582 INFO    : Executor     : Collected FTrace function profiling:\n",
      "2016-11-29 18:58:50,583 INFO    : Executor     :    <res_dir>/rtapp:freq_800000:fie_10pct/1/trace_stat.json\n",
      "2016-11-29 18:58:50,584 INFO    : Executor     : --------------------------------------------------------------------------------\n",
      "2016-11-29 18:58:50,585 INFO    : Executor     : \n",
      "2016-11-29 18:58:50,586 INFO    : Executor     : ================================================================================\n",
      "2016-11-29 18:58:50,587 INFO    : Executor     : configuring target for [freq_950000] experiments\n",
      "2016-11-29 18:58:52,306 INFO    : Executor     : Configuring all CPUs to use [userspace] cpufreq governor\n",
      "2016-11-29 18:58:53,212 INFO    : root         :        CPUFreq - CPU frequencies: {1: 950000}\n",
      "2016-11-29 18:58:55,228 INFO    : Workload     : Setup new workload fie_10pct\n",
      "2016-11-29 18:58:55,229 INFO    : Workload     : Workload duration defined by longest task\n",
      "2016-11-29 18:58:55,231 INFO    : Workload     : Default policy: SCHED_OTHER\n",
      "2016-11-29 18:58:55,232 INFO    : Workload     : ------------------------\n",
      "2016-11-29 18:58:55,233 INFO    : Workload     : task [fie_test0], sched: using default policy\n",
      "2016-11-29 18:58:55,234 INFO    : Workload     :  | calibration CPU: 1\n",
      "2016-11-29 18:58:55,235 INFO    : Workload     :  | loops count: 1\n",
      "2016-11-29 18:58:55,236 INFO    : Workload     : + phase_000001: duration 5.000000 [s] (500 loops)\n",
      "2016-11-29 18:58:55,237 INFO    : Workload     : |  period    10000 [us], duty_cycle  10 %\n",
      "2016-11-29 18:58:55,238 INFO    : Workload     : |  run_time   1000 [us], sleep_time   9000 [us]\n",
      "2016-11-29 18:58:55,843 INFO    : Executor     : ~~~~~~~~~~~~~~~~~~~~~~~~~~~~~~~~~~~~~~~~~~~~~~~~~~~~~~~~~~~~~~~~~~~~~~~~~~~~~~~~\n",
      "2016-11-29 18:58:55,845 INFO    : Executor     : Experiment 3/5, [freq_950000:fie_10pct] 1/1\n",
      "2016-11-29 18:58:55,852 WARNING : Executor     : FTrace events collection enabled\n",
      "2016-11-29 18:59:02,562 INFO    : Workload     : Workload execution START:\n",
      "2016-11-29 18:59:02,564 INFO    : Workload     :    /home/brendan/devlib-target/bin/taskset 0x2 /home/brendan/devlib-target/bin/rt-app /home/brendan/devlib-target/run_dir/fie_10pct_00.json 2>&1\n"
     ]
    },
    {
     "name": "stdout",
     "output_type": "stream",
     "text": [
      "\n"
     ]
    },
    {
     "name": "stderr",
     "output_type": "stream",
     "text": [
      "2016-11-29 18:59:13,508 INFO    : Executor     : Collected FTrace binary trace:\n",
      "2016-11-29 18:59:13,510 INFO    : Executor     :    <res_dir>/rtapp:freq_950000:fie_10pct/1/trace.dat\n",
      "2016-11-29 18:59:13,511 INFO    : Executor     : Collected FTrace function profiling:\n",
      "2016-11-29 18:59:13,513 INFO    : Executor     :    <res_dir>/rtapp:freq_950000:fie_10pct/1/trace_stat.json\n",
      "2016-11-29 18:59:13,514 INFO    : Executor     : --------------------------------------------------------------------------------\n",
      "2016-11-29 18:59:13,515 INFO    : Executor     : \n",
      "2016-11-29 18:59:13,516 INFO    : Executor     : ================================================================================\n",
      "2016-11-29 18:59:13,517 INFO    : Executor     : configuring target for [freq_1100000] experiments\n",
      "2016-11-29 18:59:15,234 INFO    : Executor     : Configuring all CPUs to use [userspace] cpufreq governor\n",
      "2016-11-29 18:59:16,140 INFO    : root         :        CPUFreq - CPU frequencies: {1: 1100000}\n",
      "2016-11-29 18:59:18,156 INFO    : Workload     : Setup new workload fie_10pct\n",
      "2016-11-29 18:59:18,158 INFO    : Workload     : Workload duration defined by longest task\n",
      "2016-11-29 18:59:18,159 INFO    : Workload     : Default policy: SCHED_OTHER\n",
      "2016-11-29 18:59:18,160 INFO    : Workload     : ------------------------\n",
      "2016-11-29 18:59:18,161 INFO    : Workload     : task [fie_test0], sched: using default policy\n",
      "2016-11-29 18:59:18,162 INFO    : Workload     :  | calibration CPU: 1\n",
      "2016-11-29 18:59:18,163 INFO    : Workload     :  | loops count: 1\n",
      "2016-11-29 18:59:18,164 INFO    : Workload     : + phase_000001: duration 5.000000 [s] (500 loops)\n",
      "2016-11-29 18:59:18,165 INFO    : Workload     : |  period    10000 [us], duty_cycle  10 %\n",
      "2016-11-29 18:59:18,166 INFO    : Workload     : |  run_time   1000 [us], sleep_time   9000 [us]\n",
      "2016-11-29 18:59:18,757 INFO    : Executor     : ~~~~~~~~~~~~~~~~~~~~~~~~~~~~~~~~~~~~~~~~~~~~~~~~~~~~~~~~~~~~~~~~~~~~~~~~~~~~~~~~\n",
      "2016-11-29 18:59:18,759 INFO    : Executor     : Experiment 4/5, [freq_1100000:fie_10pct] 1/1\n",
      "2016-11-29 18:59:18,766 WARNING : Executor     : FTrace events collection enabled\n",
      "2016-11-29 18:59:25,486 INFO    : Workload     : Workload execution START:\n",
      "2016-11-29 18:59:25,488 INFO    : Workload     :    /home/brendan/devlib-target/bin/taskset 0x2 /home/brendan/devlib-target/bin/rt-app /home/brendan/devlib-target/run_dir/fie_10pct_00.json 2>&1\n"
     ]
    },
    {
     "name": "stdout",
     "output_type": "stream",
     "text": [
      "\n"
     ]
    },
    {
     "name": "stderr",
     "output_type": "stream",
     "text": [
      "2016-11-29 18:59:39,530 INFO    : Executor     : Collected FTrace binary trace:\n",
      "2016-11-29 18:59:39,532 INFO    : Executor     :    <res_dir>/rtapp:freq_1100000:fie_10pct/1/trace.dat\n",
      "2016-11-29 18:59:39,533 INFO    : Executor     : Collected FTrace function profiling:\n",
      "2016-11-29 18:59:39,534 INFO    : Executor     :    <res_dir>/rtapp:freq_1100000:fie_10pct/1/trace_stat.json\n",
      "2016-11-29 18:59:39,535 INFO    : Executor     : --------------------------------------------------------------------------------\n",
      "2016-11-29 18:59:39,535 INFO    : Executor     : \n",
      "2016-11-29 18:59:39,536 INFO    : Executor     : ################################################################################\n",
      "2016-11-29 18:59:39,537 INFO    : Executor     : Experiments execution completed\n",
      "2016-11-29 18:59:39,538 INFO    : Executor     : ################################################################################\n",
      "2016-11-29 18:59:39,538 INFO    : Executor     : Results available in:\n",
      "2016-11-29 18:59:39,539 INFO    : Executor     :       /home/brejac01/sources/lisa/results/20161129_185739\n"
     ]
    }
   ],
   "source": [
    "t.setUpClass()"
   ]
  },
  {
   "cell_type": "markdown",
   "metadata": {},
   "source": [
    "## Show variance in util_avg and load_avg"
   ]
  },
  {
   "cell_type": "code",
   "execution_count": 6,
   "metadata": {
    "collapsed": false,
    "scrolled": true
   },
   "outputs": [
    {
     "data": {
      "text/plain": [
       "[450000, 625000, 800000, 950000, 1100000]"
      ]
     },
     "execution_count": 6,
     "metadata": {},
     "output_type": "execute_result"
    }
   ],
   "source": [
    "# Get the frequency an experiment was run at\n",
    "def experiment_freq(exp):\n",
    "    [cpu] = exp.wload.cpus\n",
    "    freq = exp.conf['cpufreq']['freqs'][cpu]\n",
    "    return freq\n",
    "freqs = [experiment_freq(e) for e in t.executor.experiments]\n",
    "freqs"
   ]
  },
  {
   "cell_type": "code",
   "execution_count": 7,
   "metadata": {
    "collapsed": true
   },
   "outputs": [],
   "source": [
    "def plot_signal_against_freq(signal):\n",
    "    means = [t.get_signal_mean(e, signal) for e in t.executor.experiments]\n",
    "    limits = (min(means) * 0.99, max(means) * 1.01)\n",
    "    pd.DataFrame(means, index=freqs, columns=['Mean ' + signal]).plot(kind='bar', ylim=limits)"
   ]
  },
  {
   "cell_type": "markdown",
   "metadata": {},
   "source": [
    "### Plot of variation of util_avg value with frequency:"
   ]
  },
  {
   "cell_type": "code",
   "execution_count": 8,
   "metadata": {
    "collapsed": false,
    "scrolled": true
   },
   "outputs": [
    {
     "name": "stderr",
     "output_type": "stream",
     "text": [
      "2016-11-29 18:59:39,570 INFO    : Trace        : Parsing FTrace format...\n",
      "2016-11-29 18:59:40,347 INFO    : Trace        : Collected events spans a 9.952 [s] time interval\n",
      "2016-11-29 18:59:40,348 INFO    : Trace        : Set plots time range to (0.000000, 9.952366)[s]\n",
      "2016-11-29 18:59:40,480 INFO    : Trace        : Parsing FTrace format...\n",
      "2016-11-29 18:59:40,839 INFO    : Trace        : Collected events spans a 9.952 [s] time interval\n",
      "2016-11-29 18:59:40,841 INFO    : Trace        : Set plots time range to (0.000000, 9.952366)[s]\n",
      "2016-11-29 18:59:40,898 INFO    : Trace        : Parsing FTrace format...\n",
      "2016-11-29 18:59:41,552 INFO    : Trace        : Collected events spans a 9.911 [s] time interval\n",
      "2016-11-29 18:59:41,553 INFO    : Trace        : Set plots time range to (0.000000, 9.910778)[s]\n",
      "2016-11-29 18:59:41,658 INFO    : Trace        : Parsing FTrace format...\n",
      "2016-11-29 18:59:41,975 INFO    : Trace        : Collected events spans a 9.911 [s] time interval\n",
      "2016-11-29 18:59:41,976 INFO    : Trace        : Set plots time range to (0.000000, 9.910778)[s]\n",
      "2016-11-29 18:59:42,024 INFO    : Trace        : Parsing FTrace format...\n",
      "2016-11-29 18:59:42,745 INFO    : Trace        : Collected events spans a 9.843 [s] time interval\n",
      "2016-11-29 18:59:42,746 INFO    : Trace        : Set plots time range to (0.000000, 9.843372)[s]\n",
      "2016-11-29 18:59:42,858 INFO    : Trace        : Parsing FTrace format...\n",
      "2016-11-29 18:59:43,175 INFO    : Trace        : Collected events spans a 9.843 [s] time interval\n",
      "2016-11-29 18:59:43,176 INFO    : Trace        : Set plots time range to (0.000000, 9.843372)[s]\n",
      "2016-11-29 18:59:43,232 INFO    : Trace        : Parsing FTrace format...\n",
      "2016-11-29 18:59:43,944 INFO    : Trace        : Collected events spans a 9.805 [s] time interval\n",
      "2016-11-29 18:59:43,945 INFO    : Trace        : Set plots time range to (0.000000, 9.804926)[s]\n",
      "2016-11-29 18:59:44,052 INFO    : Trace        : Parsing FTrace format...\n",
      "2016-11-29 18:59:44,356 INFO    : Trace        : Collected events spans a 9.805 [s] time interval\n",
      "2016-11-29 18:59:44,357 INFO    : Trace        : Set plots time range to (0.000000, 9.804926)[s]\n",
      "2016-11-29 18:59:44,408 INFO    : Trace        : Parsing FTrace format...\n",
      "2016-11-29 18:59:45,130 INFO    : Trace        : Collected events spans a 9.777 [s] time interval\n",
      "2016-11-29 18:59:45,131 INFO    : Trace        : Set plots time range to (0.000000, 9.777191)[s]\n",
      "2016-11-29 18:59:45,236 INFO    : Trace        : Parsing FTrace format...\n",
      "2016-11-29 18:59:45,529 INFO    : Trace        : Collected events spans a 9.777 [s] time interval\n",
      "2016-11-29 18:59:45,530 INFO    : Trace        : Set plots time range to (0.000000, 9.777191)[s]\n"
     ]
    },
    {
     "data": {
      "image/png": "[encoded data removed]",
      "text/plain": [
       "<matplotlib.figure.Figure at 0x7f9f31d0fc50>"
      ]
     },
     "metadata": {},
     "output_type": "display_data"
    }
   ],
   "source": [
    "plot_signal_against_freq('util_avg')"
   ]
  },
  {
   "cell_type": "markdown",
   "metadata": {},
   "source": [
    "### And the same thing for load_avg:"
   ]
  },
  {
   "cell_type": "code",
   "execution_count": 9,
   "metadata": {
    "collapsed": false
   },
   "outputs": [
    {
     "name": "stderr",
     "output_type": "stream",
     "text": [
      "2016-11-29 18:59:45,704 INFO    : Trace        : Parsing FTrace format...\n",
      "2016-11-29 18:59:46,028 INFO    : Trace        : Collected events spans a 9.952 [s] time interval\n",
      "2016-11-29 18:59:46,029 INFO    : Trace        : Set plots time range to (0.000000, 9.952366)[s]\n",
      "2016-11-29 18:59:46,090 INFO    : Trace        : Parsing FTrace format...\n",
      "2016-11-29 18:59:46,409 INFO    : Trace        : Collected events spans a 9.911 [s] time interval\n",
      "2016-11-29 18:59:46,410 INFO    : Trace        : Set plots time range to (0.000000, 9.910778)[s]\n",
      "2016-11-29 18:59:46,462 INFO    : Trace        : Parsing FTrace format...\n",
      "2016-11-29 18:59:46,790 INFO    : Trace        : Collected events spans a 9.843 [s] time interval\n",
      "2016-11-29 18:59:46,791 INFO    : Trace        : Set plots time range to (0.000000, 9.843372)[s]\n",
      "2016-11-29 18:59:46,850 INFO    : Trace        : Parsing FTrace format...\n",
      "2016-11-29 18:59:47,162 INFO    : Trace        : Collected events spans a 9.805 [s] time interval\n",
      "2016-11-29 18:59:47,163 INFO    : Trace        : Set plots time range to (0.000000, 9.804926)[s]\n",
      "2016-11-29 18:59:47,217 INFO    : Trace        : Parsing FTrace format...\n",
      "2016-11-29 18:59:47,513 INFO    : Trace        : Collected events spans a 9.777 [s] time interval\n",
      "2016-11-29 18:59:47,514 INFO    : Trace        : Set plots time range to (0.000000, 9.777191)[s]\n"
     ]
    },
    {
     "data": {
      "image/png": "[encoded data removed]",
      "text/plain": [
       "<matplotlib.figure.Figure at 0x7f9f60f6add0>"
      ]
     },
     "metadata": {},
     "output_type": "display_data"
    }
   ],
   "source": [
    "plot_signal_against_freq('load_avg')"
   ]
  },
  {
   "cell_type": "markdown",
   "metadata": {},
   "source": [
    "## Examine trace from workload execution"
   ]
  },
  {
   "cell_type": "markdown",
   "metadata": {},
   "source": [
    "The log `setUpClass` call above shows the experiments that were run. Use the function below to get a plot from a given experiment of the `util_avg` scheduler signal for that workload's tasks, along with the expected mean value."
   ]
  },
  {
   "cell_type": "code",
   "execution_count": 10,
   "metadata": {
    "collapsed": false
   },
   "outputs": [],
   "source": [
    "def examine_experiment(idx, signal):\n",
    "    experiment = t.executor.experiments[idx]\n",
    "    \n",
    "    print \"Experiment configuration:\" \n",
    "    print json.dumps(experiment.conf, indent=4)\n",
    "    events = t.te.test_conf[\"ftrace\"][\"events\"]\n",
    "    \n",
    "    # todo add get_trace method\n",
    "    tasks = experiment.wload.tasks.keys()\n",
    "    #trace = Trace(t.te.platform, experiment.out_dir, events, tasks)\n",
    "    #print \"Trace plot:\"\n",
    "    #plot_trace(trace.ftrace)\n",
    "    \n",
    "    # Get observed signal\n",
    "    signal_df = t.get_sched_signal(experiment, signal)\n",
    "#    return signal_df\n",
    "    # Get expected average value for util_avg signal\n",
    "    expected_util_avg_mean = t.get_expected_util_avg(experiment)\n",
    "    \n",
    "    # Plot util avg signal with expected mean value\n",
    "    util_avg_mean = pd.Series([expected_util_avg_mean], name=\"expected_util_avg\", index=[signal_df.index[0]])\n",
    "    df = pd.concat([signal_df, util_avg_mean], axis=1).fillna(method=\"ffill\")\n",
    "    ILinePlot(df, column=[signal, \"expected_util_avg\"], drawstyle=\"steps-post\").view()"
   ]
  },
  {
   "cell_type": "code",
   "execution_count": 11,
   "metadata": {
    "collapsed": false
   },
   "outputs": [
    {
     "name": "stderr",
     "output_type": "stream",
     "text": [
      "2016-11-29 18:59:47,693 INFO    : Trace        : Parsing FTrace format...\n",
      "2016-11-29 18:59:48,011 INFO    : Trace        : Collected events spans a 9.952 [s] time interval\n",
      "2016-11-29 18:59:48,012 INFO    : Trace        : Set plots time range to (0.000000, 9.952366)[s]\n"
     ]
    },
    {
     "data": {
      "text/html": [
       "<style>\n",
       "/*\n",
       "\n",
       " *    Copyright 2015-2016 ARM Limited\n",
       "\n",
       " *\n",
       "\n",
       " * Licensed under the Apache License, Version 2.0 (the \"License\");\n",
       "\n",
       " * you may not use this file except in compliance with the License.\n",
       "\n",
       " * You may obtain a copy of the License at\n",
       "\n",
       " *\n",
       "\n",
       " *     http://www.apache.org/licenses/LICENSE-2.0\n",
       "\n",
       " *\n",
       "\n",
       " * Unless required by applicable law or agreed to in writing, software\n",
       "\n",
       " * distributed under the License is distributed on an \"AS IS\" BASIS,\n",
       "\n",
       " * WITHOUT WARRANTIES OR CONDITIONS OF ANY KIND, either express or implied.\n",
       "\n",
       " * See the License for the specific language governing permissions and\n",
       "\n",
       " * limitations under the License.\n",
       "\n",
       " */\n",
       "\n",
       "\n",
       "\n",
       ".d3-tip {\n",
       "\n",
       "  line-height: 1;\n",
       "\n",
       "  padding: 12px;\n",
       "\n",
       "  background: rgba(0, 0, 0, 0.6);\n",
       "\n",
       "  color: #fff;\n",
       "\n",
       "  border-radius: 2px;\n",
       "\n",
       "  position: absolute !important;\n",
       "\n",
       "  z-index: 99999;\n",
       "\n",
       "}\n",
       "\n",
       "\n",
       "\n",
       ".d3-tip:after {\n",
       "\n",
       "  box-sizing: border-box;\n",
       "\n",
       "  pointer-events: none;\n",
       "\n",
       "  display: inline;\n",
       "\n",
       "  font-size: 10px;\n",
       "\n",
       "  width: 100%;\n",
       "\n",
       "  line-height: 1;\n",
       "\n",
       "  color: rgba(0, 0, 0, 0.6);\n",
       "\n",
       "  content: \"\\25BC\";\n",
       "\n",
       "  position: absolute !important;\n",
       "\n",
       "  z-index: 99999;\n",
       "\n",
       "  text-align: center;\n",
       "\n",
       "}\n",
       "\n",
       "\n",
       "\n",
       ".d3-tip.n:after {\n",
       "\n",
       "  margin: -1px 0 0 0;\n",
       "\n",
       "  top: 100%;\n",
       "\n",
       "  left: 0;\n",
       "\n",
       "}\n",
       "\n",
       "\n",
       "\n",
       ".contextRect {\n",
       "\n",
       "  fill: lightgray;\n",
       "\n",
       "  fill-opacity: 0.5;\n",
       "\n",
       "  stroke: black;\n",
       "\n",
       "  stroke-width: 1;\n",
       "\n",
       "  stroke-opacity: 1;\n",
       "\n",
       "  pointer-events: none;\n",
       "\n",
       "  shape-rendering: crispEdges;\n",
       "\n",
       "}\n",
       "\n",
       "\n",
       "\n",
       ".chart {\n",
       "\n",
       "  shape-rendering: crispEdges;\n",
       "\n",
       "}\n",
       "\n",
       "\n",
       "\n",
       ".mini text {\n",
       "\n",
       "  font: 9px sans-serif;\n",
       "\n",
       "}\n",
       "\n",
       "\n",
       "\n",
       ".main text {\n",
       "\n",
       "  font: 12px sans-serif;\n",
       "\n",
       "}\n",
       "\n",
       "\n",
       "\n",
       ".axis line, .axis path {\n",
       "\n",
       "  stroke: black;\n",
       "\n",
       "}\n",
       "\n",
       "\n",
       "\n",
       ".miniItem {\n",
       "\n",
       "  stroke-width: 8;\n",
       "\n",
       "}\n",
       "\n",
       "\n",
       "\n",
       ".brush .extent {\n",
       "\n",
       "\n",
       "\n",
       "  stroke: #000;\n",
       "\n",
       "  fill-opacity: .125;\n",
       "\n",
       "  shape-rendering: crispEdges;\n",
       "\n",
       "}\n",
       "\n",
       "</style>\n",
       "<div id=\"fig_875295d5f05b44af80c8a59d7035616e\" class=\"eventplot\">\n",
       "        <script>\n",
       "            var req = require.config( {\n",
       "\n",
       "                paths: {\n",
       "\n",
       "                    \"EventPlot\": '/nbextensions/plotter_scripts/EventPlot/EventPlot',\n",
       "                    \"d3-tip\": '/nbextensions/plotter_scripts/EventPlot/d3.tip.v0.6.3',\n",
       "                    \"d3-plotter\": '/nbextensions/plotter_scripts/EventPlot/d3.min'\n",
       "                },\n",
       "                shim: {\n",
       "                    \"d3-plotter\" : {\n",
       "                        \"exports\" : \"d3\"\n",
       "                    },\n",
       "                    \"d3-tip\": [\"d3-plotter\"],\n",
       "                    \"EventPlot\": {\n",
       "\n",
       "                        \"deps\": [\"d3-tip\", \"d3-plotter\" ],\n",
       "                        \"exports\":  \"EventPlot\"\n",
       "                    }\n",
       "                }\n",
       "            });\n",
       "            req([\"require\", \"EventPlot\"], function() {\n",
       "               EventPlot.generate('fig_875295d5f05b44af80c8a59d7035616e', '/nbextensions/');\n",
       "            });\n",
       "        </script>\n",
       "        </div>"
      ],
      "text/plain": [
       "<IPython.core.display.HTML object>"
      ]
     },
     "metadata": {},
     "output_type": "display_data"
    }
   ],
   "source": [
    "plot_trace(t.get_trace(t.executor.experiments[0]).ftrace)"
   ]
  },
  {
   "cell_type": "code",
   "execution_count": 12,
   "metadata": {
    "collapsed": false
   },
   "outputs": [
    {
     "name": "stderr",
     "output_type": "stream",
     "text": [
      "2016-11-29 18:59:48,366 INFO    : Trace        : Parsing FTrace format...\n"
     ]
    },
    {
     "name": "stdout",
     "output_type": "stream",
     "text": [
      "Experiment configuration:\n",
      "{\n",
      "    \"dtb\": null, \n",
      "    \"kernel\": null, \n",
      "    \"tag\": \"freq_1100000\", \n",
      "    \"flags\": \"ftrace\", \n",
      "    \"cpufreq\": {\n",
      "        \"freqs\": {\n",
      "            \"1\": 1100000\n",
      "        }, \n",
      "        \"governor\": \"userspace\"\n",
      "    }\n",
      "}\n"
     ]
    },
    {
     "name": "stderr",
     "output_type": "stream",
     "text": [
      "2016-11-29 18:59:48,685 INFO    : Trace        : Collected events spans a 9.777 [s] time interval\n",
      "2016-11-29 18:59:48,686 INFO    : Trace        : Set plots time range to (0.000000, 9.777191)[s]\n"
     ]
    },
    {
     "data": {
      "text/html": [
       "<table style=\"border-style: hidden;\">\n",
       "<tr>\n",
       "<td style=\"border-style: hidden;\"><div class=\"ilineplot\" id=\"fig_512aeae1c4a34aa9a47b6538cfd7b20a\">\n",
       "            <script>\n",
       "            var ilp_req = require.config( {\n",
       "\n",
       "                paths: {\n",
       "                    \"dygraph-sync\": '/nbextensions/plotter_scripts/ILinePlot/synchronizer',\n",
       "                    \"dygraph\": '/nbextensions/plotter_scripts/ILinePlot/dygraph-combined',\n",
       "                    \"ILinePlot\": '/nbextensions/plotter_scripts/ILinePlot/ILinePlot',\n",
       "                    \"underscore\": '/nbextensions/plotter_scripts/ILinePlot/underscore-min',\n",
       "                },\n",
       "\n",
       "                shim: {\n",
       "                    \"dygraph-sync\": [\"dygraph\"],\n",
       "                    \"ILinePlot\": {\n",
       "\n",
       "                        \"deps\": [\"dygraph-sync\", \"dygraph\", \"underscore\"],\n",
       "                        \"exports\":  \"ILinePlot\"\n",
       "                    }\n",
       "                }\n",
       "            });\n",
       "                ilp_req([\"require\", \"ILinePlot\"], function() {\n",
       "                ILinePlot.generate('fig_512aeae1c4a34aa9a47b6538cfd7b20a', '/nbextensions/');\n",
       "            });\n",
       "            </script>\n",
       "        </div></td>\n",
       "</tr>\n",
       "<tr>\n",
       "<td style=\"border-style: hidden;\"><div style=\"text-align:center\" id=\"fig_512aeae1c4a34aa9a47b6538cfd7b20a_legend\"></div></td>\n",
       "</tr>\n",
       "</table>"
      ],
      "text/plain": [
       "<IPython.core.display.HTML object>"
      ]
     },
     "metadata": {},
     "output_type": "display_data"
    }
   ],
   "source": [
    "df = examine_experiment(-1, \"util_avg\")"
   ]
  },
  {
   "cell_type": "code",
   "execution_count": 13,
   "metadata": {
    "collapsed": false,
    "scrolled": true
   },
   "outputs": [
    {
     "name": "stderr",
     "output_type": "stream",
     "text": [
      "2016-11-29 18:59:48,751 INFO    : Trace        : Parsing FTrace format...\n"
     ]
    },
    {
     "name": "stdout",
     "output_type": "stream",
     "text": [
      "Experiment configuration:\n",
      "{\n",
      "    \"dtb\": null, \n",
      "    \"kernel\": null, \n",
      "    \"tag\": \"freq_1100000\", \n",
      "    \"flags\": \"ftrace\", \n",
      "    \"cpufreq\": {\n",
      "        \"freqs\": {\n",
      "            \"1\": 1100000\n",
      "        }, \n",
      "        \"governor\": \"userspace\"\n",
      "    }\n",
      "}\n"
     ]
    },
    {
     "name": "stderr",
     "output_type": "stream",
     "text": [
      "2016-11-29 18:59:49,079 INFO    : Trace        : Collected events spans a 9.777 [s] time interval\n",
      "2016-11-29 18:59:49,080 INFO    : Trace        : Set plots time range to (0.000000, 9.777191)[s]\n"
     ]
    },
    {
     "data": {
      "text/html": [
       "<table style=\"border-style: hidden;\">\n",
       "<tr>\n",
       "<td style=\"border-style: hidden;\"><div class=\"ilineplot\" id=\"fig_0f1bb72a69314be3923c5ef1c6ca0f89\">\n",
       "            <script>\n",
       "            var ilp_req = require.config( {\n",
       "\n",
       "                paths: {\n",
       "                    \"dygraph-sync\": '/nbextensions/plotter_scripts/ILinePlot/synchronizer',\n",
       "                    \"dygraph\": '/nbextensions/plotter_scripts/ILinePlot/dygraph-combined',\n",
       "                    \"ILinePlot\": '/nbextensions/plotter_scripts/ILinePlot/ILinePlot',\n",
       "                    \"underscore\": '/nbextensions/plotter_scripts/ILinePlot/underscore-min',\n",
       "                },\n",
       "\n",
       "                shim: {\n",
       "                    \"dygraph-sync\": [\"dygraph\"],\n",
       "                    \"ILinePlot\": {\n",
       "\n",
       "                        \"deps\": [\"dygraph-sync\", \"dygraph\", \"underscore\"],\n",
       "                        \"exports\":  \"ILinePlot\"\n",
       "                    }\n",
       "                }\n",
       "            });\n",
       "                ilp_req([\"require\", \"ILinePlot\"], function() {\n",
       "                ILinePlot.generate('fig_0f1bb72a69314be3923c5ef1c6ca0f89', '/nbextensions/');\n",
       "            });\n",
       "            </script>\n",
       "        </div></td>\n",
       "</tr>\n",
       "<tr>\n",
       "<td style=\"border-style: hidden;\"><div style=\"text-align:center\" id=\"fig_0f1bb72a69314be3923c5ef1c6ca0f89_legend\"></div></td>\n",
       "</tr>\n",
       "</table>"
      ],
      "text/plain": [
       "<IPython.core.display.HTML object>"
      ]
     },
     "metadata": {},
     "output_type": "display_data"
    }
   ],
   "source": [
    "df = examine_experiment(-1, \"load_avg\")"
   ]
  }
 ],
 "metadata": {
  "kernelspec": {
   "display_name": "Python 2",
   "language": "python",
   "name": "python2"
  },
  "language_info": {
   "codemirror_mode": {
    "name": "ipython",
    "version": 2
   },
   "file_extension": ".py",
   "mimetype": "text/x-python",
   "name": "python",
   "nbconvert_exporter": "python",
   "pygments_lexer": "ipython2",
   "version": "2.7.6"
  }
 },
 "nbformat": 4,
 "nbformat_minor": 0
}
